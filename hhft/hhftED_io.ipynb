{
 "cells": [
  {
   "cell_type": "code",
   "execution_count": 1,
   "metadata": {},
   "outputs": [
    {
     "data": {
      "text/plain": [
       "'C:\\\\Users\\\\bjk1y13\\\\OneDrive - University of Southampton\\\\MH000_HHFT_flow\\\\4_Analysis\\\\flosp\\\\hhft'"
      ]
     },
     "execution_count": 1,
     "metadata": {},
     "output_type": "execute_result"
    }
   ],
   "source": [
    "%pwd"
   ]
  },
  {
   "cell_type": "code",
   "execution_count": 2,
   "metadata": {},
   "outputs": [
    {
     "name": "stdout",
     "output_type": "stream",
     "text": [
      "C:\\Users\\bjk1y13\\OneDrive - University of Southampton\\MH000_HHFT_flow\\4_Analysis\\flosp\n"
     ]
    }
   ],
   "source": [
    "%cd ./../"
   ]
  },
  {
   "cell_type": "code",
   "execution_count": 3,
   "metadata": {},
   "outputs": [
    {
     "data": {
      "text/plain": [
       "'C:\\\\Users\\\\bjk1y13\\\\OneDrive - University of Southampton\\\\MH000_HHFT_flow\\\\4_Analysis\\\\flosp'"
      ]
     },
     "execution_count": 3,
     "metadata": {},
     "output_type": "execute_result"
    }
   ],
   "source": [
    "%pwd"
   ]
  },
  {
   "cell_type": "code",
   "execution_count": 4,
   "metadata": {},
   "outputs": [],
   "source": [
    "import flosp"
   ]
  },
  {
   "cell_type": "markdown",
   "metadata": {},
   "source": [
    "instantiate ioED class"
   ]
  },
  {
   "cell_type": "code",
   "execution_count": 5,
   "metadata": {},
   "outputs": [],
   "source": [
    "a = flosp.ioED('hhft','./../../3_Data/')"
   ]
  },
  {
   "cell_type": "markdown",
   "metadata": {},
   "source": [
    "load data"
   ]
  },
  {
   "cell_type": "code",
   "execution_count": 6,
   "metadata": {},
   "outputs": [
    {
     "name": "stdout",
     "output_type": "stream",
     "text": [
      "----------------------------------------\n",
      "importing ED csv data to RAW dataframe\n"
     ]
    }
   ],
   "source": [
    "a.load_csv('./../../3_Data/HH_ED_Flow_Study.csv')# ,nrows=1500) # limit number of rows for quick runtime during dev"
   ]
  },
  {
   "cell_type": "code",
   "execution_count": 7,
   "metadata": {},
   "outputs": [
    {
     "data": {
      "text/html": [
       "<div>\n",
       "<style scoped>\n",
       "    .dataframe tbody tr th:only-of-type {\n",
       "        vertical-align: middle;\n",
       "    }\n",
       "\n",
       "    .dataframe tbody tr th {\n",
       "        vertical-align: top;\n",
       "    }\n",
       "\n",
       "    .dataframe thead th {\n",
       "        text-align: right;\n",
       "    }\n",
       "</style>\n",
       "<table border=\"1\" class=\"dataframe\">\n",
       "  <thead>\n",
       "    <tr style=\"text-align: right;\">\n",
       "      <th></th>\n",
       "      <th>PSEUDONYMISED_PATIENT_ID</th>\n",
       "      <th>AGE_AT_ARRIVAL</th>\n",
       "      <th>GENDER_NATIONAL_CODE</th>\n",
       "      <th>GENDER_NATIONAL_DESCRIPTION</th>\n",
       "      <th>SITE</th>\n",
       "      <th>ARRIVAL_DTTM</th>\n",
       "      <th>ARRIVAL_MODE_NATIONAL_CODE</th>\n",
       "      <th>ARRIVAL_MODE_NATIONAL_DESCRIPTION</th>\n",
       "      <th>ARRIVAL_MODE_SNOMED_CODE</th>\n",
       "      <th>ARRIVAL_MODE_SNOMED_DESCRIPTION</th>\n",
       "      <th>...</th>\n",
       "      <th>ACUITY_SNOMED_CODE</th>\n",
       "      <th>ACUITY_SNOMED_DESCRIPTION</th>\n",
       "      <th>REGISTERED_BY_CODE</th>\n",
       "      <th>CLINICIAN_REGISTERED_BY_NAME</th>\n",
       "      <th>TRIAGE_NURSE_CODE</th>\n",
       "      <th>TRIAGE_NURSE_NAME</th>\n",
       "      <th>ATTENDING_CLINICIAN_CODE</th>\n",
       "      <th>ATTENDING_CLINICIAN_NAME</th>\n",
       "      <th>DISCHARGE_BY_CODE</th>\n",
       "      <th>CLINICIAN_DISCHARGED_BY_NAME</th>\n",
       "    </tr>\n",
       "  </thead>\n",
       "  <tbody>\n",
       "    <tr>\n",
       "      <th>0</th>\n",
       "      <td>489709</td>\n",
       "      <td>43</td>\n",
       "      <td>2.0</td>\n",
       "      <td>Female</td>\n",
       "      <td>BNHH</td>\n",
       "      <td>01/08/2012 00:04</td>\n",
       "      <td>2.0</td>\n",
       "      <td>Other</td>\n",
       "      <td>NaN</td>\n",
       "      <td>NaN</td>\n",
       "      <td>...</td>\n",
       "      <td>NaN</td>\n",
       "      <td>NaN</td>\n",
       "      <td>R47</td>\n",
       "      <td>Mary Gowing</td>\n",
       "      <td>N235</td>\n",
       "      <td>SN Elizabeth Hadley</td>\n",
       "      <td>A569</td>\n",
       "      <td>Dr Mohammed Shahir</td>\n",
       "      <td>A569</td>\n",
       "      <td>Dr Mohammed Shahir</td>\n",
       "    </tr>\n",
       "    <tr>\n",
       "      <th>1</th>\n",
       "      <td>653265</td>\n",
       "      <td>44</td>\n",
       "      <td>1.0</td>\n",
       "      <td>Male</td>\n",
       "      <td>BNHH</td>\n",
       "      <td>01/08/2012 00:37</td>\n",
       "      <td>2.0</td>\n",
       "      <td>Other</td>\n",
       "      <td>NaN</td>\n",
       "      <td>NaN</td>\n",
       "      <td>...</td>\n",
       "      <td>NaN</td>\n",
       "      <td>NaN</td>\n",
       "      <td>R47</td>\n",
       "      <td>Mary Gowing</td>\n",
       "      <td>N235</td>\n",
       "      <td>SN Elizabeth Hadley</td>\n",
       "      <td>A569</td>\n",
       "      <td>Dr Mohammed Shahir</td>\n",
       "      <td>A569</td>\n",
       "      <td>Dr Mohammed Shahir</td>\n",
       "    </tr>\n",
       "  </tbody>\n",
       "</table>\n",
       "<p>2 rows × 103 columns</p>\n",
       "</div>"
      ],
      "text/plain": [
       "   PSEUDONYMISED_PATIENT_ID  AGE_AT_ARRIVAL  GENDER_NATIONAL_CODE  \\\n",
       "0                    489709              43                   2.0   \n",
       "1                    653265              44                   1.0   \n",
       "\n",
       "  GENDER_NATIONAL_DESCRIPTION  SITE      ARRIVAL_DTTM  \\\n",
       "0                      Female  BNHH  01/08/2012 00:04   \n",
       "1                        Male  BNHH  01/08/2012 00:37   \n",
       "\n",
       "   ARRIVAL_MODE_NATIONAL_CODE ARRIVAL_MODE_NATIONAL_DESCRIPTION  \\\n",
       "0                         2.0                             Other   \n",
       "1                         2.0                             Other   \n",
       "\n",
       "   ARRIVAL_MODE_SNOMED_CODE ARRIVAL_MODE_SNOMED_DESCRIPTION  \\\n",
       "0                       NaN                             NaN   \n",
       "1                       NaN                             NaN   \n",
       "\n",
       "              ...              ACUITY_SNOMED_CODE ACUITY_SNOMED_DESCRIPTION  \\\n",
       "0             ...                             NaN                       NaN   \n",
       "1             ...                             NaN                       NaN   \n",
       "\n",
       "  REGISTERED_BY_CODE  CLINICIAN_REGISTERED_BY_NAME  TRIAGE_NURSE_CODE  \\\n",
       "0                R47                   Mary Gowing               N235   \n",
       "1                R47                   Mary Gowing               N235   \n",
       "\n",
       "     TRIAGE_NURSE_NAME  ATTENDING_CLINICIAN_CODE ATTENDING_CLINICIAN_NAME  \\\n",
       "0  SN Elizabeth Hadley                      A569       Dr Mohammed Shahir   \n",
       "1  SN Elizabeth Hadley                      A569       Dr Mohammed Shahir   \n",
       "\n",
       "  DISCHARGE_BY_CODE CLINICIAN_DISCHARGED_BY_NAME  \n",
       "0              A569           Dr Mohammed Shahir  \n",
       "1              A569           Dr Mohammed Shahir  \n",
       "\n",
       "[2 rows x 103 columns]"
      ]
     },
     "execution_count": 7,
     "metadata": {},
     "output_type": "execute_result"
    }
   ],
   "source": [
    "a._dataRAW.head(2)"
   ]
  },
  {
   "cell_type": "markdown",
   "metadata": {},
   "source": [
    "subsampling for quicker inital runtime during dev"
   ]
  },
  {
   "cell_type": "markdown",
   "metadata": {},
   "source": [
    "a.small_sample()"
   ]
  },
  {
   "cell_type": "code",
   "execution_count": 8,
   "metadata": {},
   "outputs": [
    {
     "data": {
      "text/plain": [
       "(567635, 103)"
      ]
     },
     "execution_count": 8,
     "metadata": {},
     "output_type": "execute_result"
    }
   ],
   "source": [
    "a._dataRAW.shape"
   ]
  },
  {
   "cell_type": "code",
   "execution_count": null,
   "metadata": {},
   "outputs": [],
   "source": []
  },
  {
   "cell_type": "markdown",
   "metadata": {},
   "source": [
    "column mapping"
   ]
  },
  {
   "cell_type": "code",
   "execution_count": 9,
   "metadata": {},
   "outputs": [],
   "source": [
    "hh_cols = {\n",
    "'PSEUDONYMISED_PATIENT_ID':'dept_patid',\n",
    "'PSEUDONYMISED_PATIENT_ID':'hosp_patid',\n",
    "'AGE_AT_ARRIVAL':'age',\n",
    "'GENDER_NATIONAL_DESCRIPTION':'gender',\n",
    "'SITE':'site',\n",
    "'ARRIVAL_DTTM':'arrive_datetime',\n",
    "'ARRIVAL_MODE_NATIONAL_CODE':'arrive_mode',\n",
    "'INITIAL_ASSESSMENT_DTTM':'first_triage_datetime',\n",
    "'SEEN_FOR_TREATMENT_DTTM':'first_dr_datetime',\n",
    "'SPECIALTY_REQUEST_TIME':'first_adm_request_time',\n",
    "'SPECIALTY_REFERRED_TO_DESCRIPTION':'adm_referral_loc',\n",
    "'ADMISSION_FLAG':'adm_flag',\n",
    "'ATTENDANCE_CONCLUSION_DTTM':'depart_datetime',\n",
    "'STREAM_LOCAL_CODE':'stream'\n",
    "}"
   ]
  },
  {
   "cell_type": "code",
   "execution_count": 10,
   "metadata": {},
   "outputs": [
    {
     "name": "stdout",
     "output_type": "stream",
     "text": [
      "----------------------------------------\n",
      "mapping column names\n"
     ]
    }
   ],
   "source": [
    "a.map_columns(hh_cols)"
   ]
  },
  {
   "cell_type": "code",
   "execution_count": 11,
   "metadata": {},
   "outputs": [
    {
     "data": {
      "text/html": [
       "<div>\n",
       "<style scoped>\n",
       "    .dataframe tbody tr th:only-of-type {\n",
       "        vertical-align: middle;\n",
       "    }\n",
       "\n",
       "    .dataframe tbody tr th {\n",
       "        vertical-align: top;\n",
       "    }\n",
       "\n",
       "    .dataframe thead th {\n",
       "        text-align: right;\n",
       "    }\n",
       "</style>\n",
       "<table border=\"1\" class=\"dataframe\">\n",
       "  <thead>\n",
       "    <tr style=\"text-align: right;\">\n",
       "      <th></th>\n",
       "      <th>hosp_patid</th>\n",
       "      <th>age</th>\n",
       "      <th>gender</th>\n",
       "      <th>site</th>\n",
       "      <th>arrive_datetime</th>\n",
       "      <th>arrive_mode</th>\n",
       "      <th>first_triage_datetime</th>\n",
       "      <th>first_dr_datetime</th>\n",
       "      <th>first_adm_request_time</th>\n",
       "      <th>adm_referral_loc</th>\n",
       "      <th>adm_flag</th>\n",
       "      <th>depart_datetime</th>\n",
       "      <th>stream</th>\n",
       "    </tr>\n",
       "  </thead>\n",
       "  <tbody>\n",
       "    <tr>\n",
       "      <th>0</th>\n",
       "      <td>489709</td>\n",
       "      <td>43</td>\n",
       "      <td>Female</td>\n",
       "      <td>BNHH</td>\n",
       "      <td>01/08/2012 00:04</td>\n",
       "      <td>2.0</td>\n",
       "      <td>01/08/2012 00:18</td>\n",
       "      <td>01/08/2012 02:24</td>\n",
       "      <td>NaN</td>\n",
       "      <td>NaN</td>\n",
       "      <td>0</td>\n",
       "      <td>01/08/2012 03:44</td>\n",
       "      <td>MIN</td>\n",
       "    </tr>\n",
       "    <tr>\n",
       "      <th>1</th>\n",
       "      <td>653265</td>\n",
       "      <td>44</td>\n",
       "      <td>Male</td>\n",
       "      <td>BNHH</td>\n",
       "      <td>01/08/2012 00:37</td>\n",
       "      <td>2.0</td>\n",
       "      <td>01/08/2012 00:53</td>\n",
       "      <td>01/08/2012 02:43</td>\n",
       "      <td>NaN</td>\n",
       "      <td>NaN</td>\n",
       "      <td>0</td>\n",
       "      <td>01/08/2012 04:08</td>\n",
       "      <td>MIN</td>\n",
       "    </tr>\n",
       "  </tbody>\n",
       "</table>\n",
       "</div>"
      ],
      "text/plain": [
       "   hosp_patid  age  gender  site   arrive_datetime  arrive_mode  \\\n",
       "0      489709   43  Female  BNHH  01/08/2012 00:04          2.0   \n",
       "1      653265   44    Male  BNHH  01/08/2012 00:37          2.0   \n",
       "\n",
       "  first_triage_datetime first_dr_datetime first_adm_request_time  \\\n",
       "0      01/08/2012 00:18  01/08/2012 02:24                    NaN   \n",
       "1      01/08/2012 00:53  01/08/2012 02:43                    NaN   \n",
       "\n",
       "  adm_referral_loc  adm_flag   depart_datetime stream  \n",
       "0              NaN         0  01/08/2012 03:44    MIN  \n",
       "1              NaN         0  01/08/2012 04:08    MIN  "
      ]
     },
     "execution_count": 11,
     "metadata": {},
     "output_type": "execute_result"
    }
   ],
   "source": [
    "a._dataRAW.head(2)"
   ]
  },
  {
   "cell_type": "code",
   "execution_count": null,
   "metadata": {},
   "outputs": [],
   "source": []
  },
  {
   "cell_type": "markdown",
   "metadata": {},
   "source": [
    "one datetime needs clenaing in HHFT dataset:"
   ]
  },
  {
   "cell_type": "markdown",
   "metadata": {},
   "source": [
    "get data out of class"
   ]
  },
  {
   "cell_type": "code",
   "execution_count": 12,
   "metadata": {},
   "outputs": [],
   "source": [
    "df = a.get_EDraw()"
   ]
  },
  {
   "cell_type": "code",
   "execution_count": 13,
   "metadata": {},
   "outputs": [],
   "source": [
    "import numpy as np"
   ]
  },
  {
   "cell_type": "code",
   "execution_count": 14,
   "metadata": {},
   "outputs": [
    {
     "data": {
      "text/html": [
       "<div>\n",
       "<style scoped>\n",
       "    .dataframe tbody tr th:only-of-type {\n",
       "        vertical-align: middle;\n",
       "    }\n",
       "\n",
       "    .dataframe tbody tr th {\n",
       "        vertical-align: top;\n",
       "    }\n",
       "\n",
       "    .dataframe thead th {\n",
       "        text-align: right;\n",
       "    }\n",
       "</style>\n",
       "<table border=\"1\" class=\"dataframe\">\n",
       "  <thead>\n",
       "    <tr style=\"text-align: right;\">\n",
       "      <th></th>\n",
       "      <th>hosp_patid</th>\n",
       "      <th>age</th>\n",
       "      <th>gender</th>\n",
       "      <th>site</th>\n",
       "      <th>arrive_datetime</th>\n",
       "      <th>arrive_mode</th>\n",
       "      <th>first_triage_datetime</th>\n",
       "      <th>first_dr_datetime</th>\n",
       "      <th>first_adm_request_time</th>\n",
       "      <th>adm_referral_loc</th>\n",
       "      <th>adm_flag</th>\n",
       "      <th>depart_datetime</th>\n",
       "      <th>stream</th>\n",
       "    </tr>\n",
       "  </thead>\n",
       "  <tbody>\n",
       "    <tr>\n",
       "      <th>420884</th>\n",
       "      <td>928348</td>\n",
       "      <td>49</td>\n",
       "      <td>Male</td>\n",
       "      <td>RHCH</td>\n",
       "      <td>22/01/2015 10:45</td>\n",
       "      <td>2.0</td>\n",
       "      <td>1899-12-30 00:00:00.000000</td>\n",
       "      <td>22/01/2015 11:57</td>\n",
       "      <td>NaN</td>\n",
       "      <td>NaN</td>\n",
       "      <td>0</td>\n",
       "      <td>22/01/2015 12:45</td>\n",
       "      <td>MIN</td>\n",
       "    </tr>\n",
       "  </tbody>\n",
       "</table>\n",
       "</div>"
      ],
      "text/plain": [
       "        hosp_patid  age gender  site   arrive_datetime  arrive_mode  \\\n",
       "420884      928348   49   Male  RHCH  22/01/2015 10:45          2.0   \n",
       "\n",
       "             first_triage_datetime first_dr_datetime first_adm_request_time  \\\n",
       "420884  1899-12-30 00:00:00.000000  22/01/2015 11:57                    NaN   \n",
       "\n",
       "       adm_referral_loc  adm_flag   depart_datetime stream  \n",
       "420884              NaN         0  22/01/2015 12:45    MIN  "
      ]
     },
     "execution_count": 14,
     "metadata": {},
     "output_type": "execute_result"
    }
   ],
   "source": [
    "df[df.first_triage_datetime == '1899-12-30 00:00:00.000000']"
   ]
  },
  {
   "cell_type": "code",
   "execution_count": 15,
   "metadata": {},
   "outputs": [],
   "source": [
    "index_vals = df[df.first_triage_datetime == '1899-12-30 00:00:00.000000'].first_triage_datetime.index # = np.nan"
   ]
  },
  {
   "cell_type": "code",
   "execution_count": 16,
   "metadata": {},
   "outputs": [],
   "source": [
    "df.loc[index_vals,'first_triage_datetime'] = np.nan"
   ]
  },
  {
   "cell_type": "markdown",
   "metadata": {},
   "source": [
    "return dataframe to class now cleaned"
   ]
  },
  {
   "cell_type": "code",
   "execution_count": 17,
   "metadata": {},
   "outputs": [],
   "source": [
    "a.replace_EDraw(df)"
   ]
  },
  {
   "cell_type": "code",
   "execution_count": 18,
   "metadata": {},
   "outputs": [
    {
     "name": "stderr",
     "output_type": "stream",
     "text": [
      "C:\\Users\\bjk1y13\\OneDrive - University of Southampton\\MH000_HHFT_flow\\4_Analysis\\flosp\\flosp\\ioED.py:101: UserWarning: Datetime conversion can be problemtic. Make sure you have used the correct datetime string format for each column. You can call this method multiple times with different 'datetime formats' & 'list of columns' to convert if neccessary.\n",
      "  warnings.warn(\"Datetime conversion can be problemtic. Make sure you have used the correct datetime string format for each column. You can call this method multiple times with different 'datetime formats' & 'list of columns' to convert if neccessary.\")\n"
     ]
    },
    {
     "name": "stdout",
     "output_type": "stream",
     "text": [
      "Converting cols to datetime...(may take some time depedning on size of df)...\n",
      "arrive_datetime...converting\n",
      "first_triage_datetime...converting\n",
      "first_dr_datetime...converting\n",
      "depart_datetime...converting\n"
     ]
    }
   ],
   "source": [
    "a.convert_cols_datetime(\"%d/%m/%Y %H:%M\")"
   ]
  },
  {
   "cell_type": "code",
   "execution_count": 19,
   "metadata": {},
   "outputs": [
    {
     "name": "stderr",
     "output_type": "stream",
     "text": [
      "C:\\Users\\bjk1y13\\OneDrive - University of Southampton\\MH000_HHFT_flow\\4_Analysis\\flosp\\flosp\\ioED.py:154: UserWarning: date column passed does not exist. Defaulting to use \"arrive_datetime\". NOTE: this will generate arrive_date column.\n",
      "  warnings.warn('date column passed does not exist. Defaulting to use \"arrive_datetime\". NOTE: this will generate arrive_date column.')\n"
     ]
    },
    {
     "name": "stdout",
     "output_type": "stream",
     "text": [
      "----------------------------------------\n",
      "Create datetime column from: first_adm_request_time & arrive_date\n"
     ]
    },
    {
     "name": "stderr",
     "output_type": "stream",
     "text": [
      "C:\\Users\\bjk1y13\\OneDrive - University of Southampton\\MH000_HHFT_flow\\4_Analysis\\flosp\\flosp\\basic_tools.py:131: UserWarning: 13043 patients detected who have -ve wait times. They have probably rolled over midnight, so we add + 1day to the new datetime column created. This assumes < 24hr stays only.\n",
      "\n",
      "\n",
      "\n",
      "  warnings.warn(str(datetime_values.shape[0]) + ' patients detected who have -ve wait times. They have probably rolled over midnight, so we add + 1day to the new datetime column created. This assumes < 24hr stays only.\\n\\n\\n')\n"
     ]
    }
   ],
   "source": [
    "a.create_datetime_from_time('first_adm_request_time','arrive_date','first_adm_request_datetime')"
   ]
  },
  {
   "cell_type": "code",
   "execution_count": 20,
   "metadata": {},
   "outputs": [
    {
     "name": "stdout",
     "output_type": "stream",
     "text": [
      "--------------------\n",
      "Finding missing columns...\n",
      "age_group try using:  use make_age_group_column\n",
      "arrive_hour try using:  make_callender_columns\n",
      "arrive_dayofweek try using:  make_callender_columns\n",
      "arrive_month try using:  make_callender_columns\n",
      "arrive_dayofweek_name try using:  make_callender_columns\n",
      "arrive_week try using:  make_callender_columns\n",
      "depart_method try using:  \n",
      "depart_hour try using:  make_callender_columns\n",
      "depart_dayofweek try using:  make_callender_columns\n",
      "depart_week try using:  make_callender_columns\n",
      "depart_month try using:  make_callender_columns\n",
      "depart_dayofweek_name try using:  make_callender_columns\n",
      "depart_date try using:  make_callender_columns\n",
      "waiting_time try using:  \n",
      "breach_flag try using:  \n",
      "minutes_today try using:  \n",
      "minutes_tomo try using:  \n",
      "breach_datetime try using:  \n",
      "arr_triage_wait try using:  \n",
      "arr_dr_wait try using:  \n",
      "arr_adm_req_wait try using:  \n",
      "adm_req_dep_wait try using:  \n",
      "dr_adm_req_wait try using:  \n",
      "dr_dep_wait try using:  \n",
      "--------------------\n",
      "Finding columns with wrong datatypes...\n",
      "Col  arrive_mode                is: float64 . Expected any of:  [<class 'object'>]\n",
      "Col  adm_flag                   is: int64 . Expected any of:  [<class 'int'>]\n",
      "Col  stream                     is: object . Expected any of:  [<class 'float'>, <class 'int'>, <class 'numpy.int64'>, <class 'str'>]\n"
     ]
    }
   ],
   "source": [
    "a.run_tests()"
   ]
  },
  {
   "cell_type": "markdown",
   "metadata": {},
   "source": [
    "#### run as much automated cleaning as possible using: "
   ]
  },
  {
   "cell_type": "code",
   "execution_count": 21,
   "metadata": {},
   "outputs": [
    {
     "name": "stdout",
     "output_type": "stream",
     "text": [
      "----------------------------------------\n",
      "<function make_callender_columns at 0x0000017864C948C8>\n",
      "----------------------------------------\n",
      "<function make_callender_columns at 0x0000017864C948C8>\n"
     ]
    }
   ],
   "source": [
    "a.autoclean()"
   ]
  },
  {
   "cell_type": "code",
   "execution_count": 22,
   "metadata": {},
   "outputs": [
    {
     "name": "stdout",
     "output_type": "stream",
     "text": [
      "--------------------\n",
      "Finding missing columns...\n",
      "depart_method try using:  \n",
      "minutes_today try using:  \n",
      "minutes_tomo try using:  \n",
      "--------------------\n",
      "Finding columns with wrong datatypes...\n",
      "Col  arrive_mode                is: float64 . Expected any of:  [<class 'object'>]\n",
      "Col  adm_flag                   is: int64 . Expected any of:  [<class 'int'>]\n",
      "Col  stream                     is: object . Expected any of:  [<class 'float'>, <class 'int'>, <class 'numpy.int64'>, <class 'str'>]\n",
      "Col  depart_dayofweek_name      is: object . Expected any of:  [<class 'str'>]\n",
      "Col  age_group                  is: category . Expected any of:  [<class 'str'>, 'pandas category type']\n"
     ]
    }
   ],
   "source": [
    "a.run_tests()"
   ]
  },
  {
   "cell_type": "markdown",
   "metadata": {},
   "source": [
    "#### alternative to autoclean can step through using:"
   ]
  },
  {
   "cell_type": "code",
   "execution_count": 23,
   "metadata": {},
   "outputs": [
    {
     "name": "stdout",
     "output_type": "stream",
     "text": [
      "----------------------------------------\n",
      "<function make_callender_columns at 0x0000017864C948C8>\n",
      "----------------------------------------\n",
      "<function make_callender_columns at 0x0000017864C948C8>\n"
     ]
    }
   ],
   "source": [
    "a.make_callender_columns()"
   ]
  },
  {
   "cell_type": "code",
   "execution_count": 24,
   "metadata": {},
   "outputs": [],
   "source": [
    "a.make_wait_columns()"
   ]
  },
  {
   "cell_type": "code",
   "execution_count": 25,
   "metadata": {},
   "outputs": [],
   "source": [
    "a.make_breach_columns()"
   ]
  },
  {
   "cell_type": "code",
   "execution_count": 26,
   "metadata": {},
   "outputs": [],
   "source": [
    "a.make_age_group_column()"
   ]
  },
  {
   "cell_type": "code",
   "execution_count": 27,
   "metadata": {},
   "outputs": [
    {
     "name": "stdout",
     "output_type": "stream",
     "text": [
      "--------------------\n",
      "Finding missing columns...\n",
      "depart_method try using:  \n",
      "minutes_today try using:  \n",
      "minutes_tomo try using:  \n",
      "--------------------\n",
      "Finding columns with wrong datatypes...\n",
      "Col  arrive_mode                is: float64 . Expected any of:  [<class 'object'>]\n",
      "Col  adm_flag                   is: int64 . Expected any of:  [<class 'int'>]\n",
      "Col  stream                     is: object . Expected any of:  [<class 'float'>, <class 'int'>, <class 'numpy.int64'>, <class 'str'>]\n",
      "Col  depart_dayofweek_name      is: object . Expected any of:  [<class 'str'>]\n",
      "Col  age_group                  is: category . Expected any of:  [<class 'str'>, 'pandas category type']\n"
     ]
    }
   ],
   "source": [
    "a.run_tests()"
   ]
  },
  {
   "cell_type": "code",
   "execution_count": 28,
   "metadata": {},
   "outputs": [
    {
     "name": "stdout",
     "output_type": "stream",
     "text": [
      "----------------------------------------\n",
      "saved file: ./../../3_Data/processed/hhft/hhftED.pkl\n"
     ]
    }
   ],
   "source": [
    "a.saveRAWasCLEAN()"
   ]
  },
  {
   "cell_type": "code",
   "execution_count": 29,
   "metadata": {},
   "outputs": [
    {
     "name": "stdout",
     "output_type": "stream",
     "text": [
      "----------------------------------------\n",
      "saved file: ./../../3_Data/processed/hhft/RAW/hhftED.pkl\n"
     ]
    }
   ],
   "source": [
    "a.saveRAWasRAW()"
   ]
  },
  {
   "cell_type": "code",
   "execution_count": 30,
   "metadata": {},
   "outputs": [
    {
     "name": "stdout",
     "output_type": "stream",
     "text": [
      "----------------------------------------\n",
      "loaded file: ./../../3_Data/processed/hhft/hhftED.pkl\n"
     ]
    }
   ],
   "source": [
    "a.loadPKLasRAW()"
   ]
  },
  {
   "cell_type": "code",
   "execution_count": null,
   "metadata": {},
   "outputs": [],
   "source": []
  },
  {
   "cell_type": "code",
   "execution_count": 31,
   "metadata": {},
   "outputs": [
    {
     "data": {
      "text/plain": [
       "(567635, 40)"
      ]
     },
     "execution_count": 31,
     "metadata": {},
     "output_type": "execute_result"
    }
   ],
   "source": [
    "a._dataRAW.shape"
   ]
  },
  {
   "cell_type": "markdown",
   "metadata": {},
   "source": [
    "# Dev"
   ]
  },
  {
   "cell_type": "code",
   "execution_count": 33,
   "metadata": {},
   "outputs": [
    {
     "ename": "SyntaxError",
     "evalue": "'break' outside loop (<ipython-input-33-6aaf1f276005>, line 1)",
     "output_type": "error",
     "traceback": [
      "\u001b[1;36m  File \u001b[1;32m\"<ipython-input-33-6aaf1f276005>\"\u001b[1;36m, line \u001b[1;32m1\u001b[0m\n\u001b[1;33m    break\u001b[0m\n\u001b[1;37m         ^\u001b[0m\n\u001b[1;31mSyntaxError\u001b[0m\u001b[1;31m:\u001b[0m 'break' outside loop\n"
     ]
    }
   ],
   "source": [
    "break"
   ]
  },
  {
   "cell_type": "code",
   "execution_count": null,
   "metadata": {},
   "outputs": [],
   "source": [
    "f1 = {'yes':'no'}"
   ]
  },
  {
   "cell_type": "code",
   "execution_count": null,
   "metadata": {},
   "outputs": [],
   "source": [
    "for i in f1.keys():\n",
    "    print(i)"
   ]
  },
  {
   "cell_type": "code",
   "execution_count": null,
   "metadata": {},
   "outputs": [],
   "source": [
    "f1[i]"
   ]
  },
  {
   "cell_type": "code",
   "execution_count": null,
   "metadata": {},
   "outputs": [],
   "source": [
    "def clean_time_col_bylen(df, col):\n",
    "    #### get mode string length\n",
    "    mode_len = df[col].dropna().apply(lambda x : len(x)).mode().values[0]\n",
    "    #### get all cases of non-mode col length\n",
    "    \n",
    "    index_toclean = df[col].apply(lambda x : len(x)) != mode_len#.index\n",
    "    return index_toclean\n",
    "\n",
    "clean_time_col_bylen(a._dataRAW,'first_triage_datetime')\n",
    "    "
   ]
  }
 ],
 "metadata": {
  "kernelspec": {
   "display_name": "Python 3",
   "language": "python",
   "name": "python3"
  },
  "language_info": {
   "codemirror_mode": {
    "name": "ipython",
    "version": 3
   },
   "file_extension": ".py",
   "mimetype": "text/x-python",
   "name": "python",
   "nbconvert_exporter": "python",
   "pygments_lexer": "ipython3",
   "version": "3.6.4"
  }
 },
 "nbformat": 4,
 "nbformat_minor": 2
}
