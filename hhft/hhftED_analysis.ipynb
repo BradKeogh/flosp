{
 "cells": [
  {
   "cell_type": "code",
   "execution_count": 1,
   "metadata": {},
   "outputs": [
    {
     "name": "stdout",
     "output_type": "stream",
     "text": [
      "C:\\Users\\bjk1y13\\OneDrive - University of Southampton\\MH000_HHFT_flow\\4_Analysis\\flosp\n"
     ]
    }
   ],
   "source": [
    "%cd ./.."
   ]
  },
  {
   "cell_type": "code",
   "execution_count": 2,
   "metadata": {},
   "outputs": [],
   "source": [
    "import flosp"
   ]
  },
  {
   "cell_type": "code",
   "execution_count": 3,
   "metadata": {},
   "outputs": [],
   "source": [
    "hhft = flosp.analyse('hhft','./../../3_Data/')"
   ]
  },
  {
   "cell_type": "code",
   "execution_count": 4,
   "metadata": {},
   "outputs": [
    {
     "data": {
      "text/plain": [
       "'./../../3_Data/processed/hhft/'"
      ]
     },
     "execution_count": 4,
     "metadata": {},
     "output_type": "execute_result"
    }
   ],
   "source": [
    "hhft.save_path"
   ]
  },
  {
   "cell_type": "code",
   "execution_count": 5,
   "metadata": {},
   "outputs": [
    {
     "name": "stdout",
     "output_type": "stream",
     "text": [
      "----------------------------------------\n",
      "attemping to import processed dataframes.\n",
      "Found: ./../../3_Data/processed/hhft/hhftED.pkl\n",
      "Missing: ./../../3_Data/processed/hhft/hhftNOTAPICKLE.pkl\n"
     ]
    }
   ],
   "source": [
    "hhft.load_processed_data()"
   ]
  },
  {
   "cell_type": "code",
   "execution_count": 6,
   "metadata": {},
   "outputs": [
    {
     "data": {
      "text/plain": [
       "(567635, 39)"
      ]
     },
     "execution_count": 6,
     "metadata": {},
     "output_type": "execute_result"
    }
   ],
   "source": [
    "hhft._dataED.shape"
   ]
  },
  {
   "cell_type": "code",
   "execution_count": 8,
   "metadata": {},
   "outputs": [
    {
     "data": {
      "text/html": [
       "<div>\n",
       "<style scoped>\n",
       "    .dataframe tbody tr th:only-of-type {\n",
       "        vertical-align: middle;\n",
       "    }\n",
       "\n",
       "    .dataframe tbody tr th {\n",
       "        vertical-align: top;\n",
       "    }\n",
       "\n",
       "    .dataframe thead th {\n",
       "        text-align: right;\n",
       "    }\n",
       "</style>\n",
       "<table border=\"1\" class=\"dataframe\">\n",
       "  <thead>\n",
       "    <tr style=\"text-align: right;\">\n",
       "      <th></th>\n",
       "      <th>hosp_patid</th>\n",
       "      <th>age</th>\n",
       "      <th>gender</th>\n",
       "      <th>site</th>\n",
       "      <th>arrive_datetime</th>\n",
       "      <th>arrive_mode</th>\n",
       "      <th>first_triage_datetime</th>\n",
       "      <th>first_dr_datetime</th>\n",
       "      <th>first_adm_request_time</th>\n",
       "      <th>adm_referral_loc</th>\n",
       "      <th>...</th>\n",
       "      <th>depart_flag_wkend</th>\n",
       "      <th>waiting_time</th>\n",
       "      <th>arr_triage_wait</th>\n",
       "      <th>arr_dr_wait</th>\n",
       "      <th>arr_adm_req_wait</th>\n",
       "      <th>adm_req_dep_wait</th>\n",
       "      <th>dr_adm_req_wait</th>\n",
       "      <th>dr_dep_wait</th>\n",
       "      <th>breach_flag</th>\n",
       "      <th>breach_datetime</th>\n",
       "    </tr>\n",
       "  </thead>\n",
       "  <tbody>\n",
       "    <tr>\n",
       "      <th>0</th>\n",
       "      <td>489709</td>\n",
       "      <td>43</td>\n",
       "      <td>Female</td>\n",
       "      <td>BNHH</td>\n",
       "      <td>2012-08-01 00:04:00</td>\n",
       "      <td>2.0</td>\n",
       "      <td>2012-08-01 00:18:00</td>\n",
       "      <td>2012-08-01 02:24:00</td>\n",
       "      <td>NaN</td>\n",
       "      <td>NaN</td>\n",
       "      <td>...</td>\n",
       "      <td>0</td>\n",
       "      <td>220.0</td>\n",
       "      <td>14.0</td>\n",
       "      <td>140.0</td>\n",
       "      <td>NaN</td>\n",
       "      <td>NaN</td>\n",
       "      <td>NaN</td>\n",
       "      <td>80.0</td>\n",
       "      <td>0</td>\n",
       "      <td>2012-08-01 04:04:00</td>\n",
       "    </tr>\n",
       "    <tr>\n",
       "      <th>1</th>\n",
       "      <td>653265</td>\n",
       "      <td>44</td>\n",
       "      <td>Male</td>\n",
       "      <td>BNHH</td>\n",
       "      <td>2012-08-01 00:37:00</td>\n",
       "      <td>2.0</td>\n",
       "      <td>2012-08-01 00:53:00</td>\n",
       "      <td>2012-08-01 02:43:00</td>\n",
       "      <td>NaN</td>\n",
       "      <td>NaN</td>\n",
       "      <td>...</td>\n",
       "      <td>0</td>\n",
       "      <td>211.0</td>\n",
       "      <td>16.0</td>\n",
       "      <td>126.0</td>\n",
       "      <td>NaN</td>\n",
       "      <td>NaN</td>\n",
       "      <td>NaN</td>\n",
       "      <td>85.0</td>\n",
       "      <td>0</td>\n",
       "      <td>2012-08-01 04:37:00</td>\n",
       "    </tr>\n",
       "    <tr>\n",
       "      <th>2</th>\n",
       "      <td>340430</td>\n",
       "      <td>15</td>\n",
       "      <td>Male</td>\n",
       "      <td>BNHH</td>\n",
       "      <td>2012-08-01 00:55:00</td>\n",
       "      <td>1.0</td>\n",
       "      <td>2012-08-01 01:00:00</td>\n",
       "      <td>2012-08-01 01:24:00</td>\n",
       "      <td>NaN</td>\n",
       "      <td>NaN</td>\n",
       "      <td>...</td>\n",
       "      <td>0</td>\n",
       "      <td>119.0</td>\n",
       "      <td>5.0</td>\n",
       "      <td>29.0</td>\n",
       "      <td>NaN</td>\n",
       "      <td>NaN</td>\n",
       "      <td>NaN</td>\n",
       "      <td>90.0</td>\n",
       "      <td>0</td>\n",
       "      <td>2012-08-01 04:55:00</td>\n",
       "    </tr>\n",
       "    <tr>\n",
       "      <th>3</th>\n",
       "      <td>127292</td>\n",
       "      <td>30</td>\n",
       "      <td>Female</td>\n",
       "      <td>BNHH</td>\n",
       "      <td>2012-08-01 00:58:00</td>\n",
       "      <td>2.0</td>\n",
       "      <td>2012-08-01 01:01:00</td>\n",
       "      <td>2012-08-01 02:04:00</td>\n",
       "      <td>NaN</td>\n",
       "      <td>NaN</td>\n",
       "      <td>...</td>\n",
       "      <td>0</td>\n",
       "      <td>144.0</td>\n",
       "      <td>3.0</td>\n",
       "      <td>66.0</td>\n",
       "      <td>NaN</td>\n",
       "      <td>NaN</td>\n",
       "      <td>NaN</td>\n",
       "      <td>78.0</td>\n",
       "      <td>0</td>\n",
       "      <td>2012-08-01 04:58:00</td>\n",
       "    </tr>\n",
       "    <tr>\n",
       "      <th>4</th>\n",
       "      <td>418634</td>\n",
       "      <td>30</td>\n",
       "      <td>Male</td>\n",
       "      <td>BNHH</td>\n",
       "      <td>2012-08-01 01:40:00</td>\n",
       "      <td>1.0</td>\n",
       "      <td>2012-08-01 01:55:00</td>\n",
       "      <td>2012-08-01 02:27:00</td>\n",
       "      <td>NaN</td>\n",
       "      <td>NaN</td>\n",
       "      <td>...</td>\n",
       "      <td>0</td>\n",
       "      <td>133.0</td>\n",
       "      <td>15.0</td>\n",
       "      <td>47.0</td>\n",
       "      <td>NaN</td>\n",
       "      <td>NaN</td>\n",
       "      <td>NaN</td>\n",
       "      <td>86.0</td>\n",
       "      <td>0</td>\n",
       "      <td>2012-08-01 05:40:00</td>\n",
       "    </tr>\n",
       "  </tbody>\n",
       "</table>\n",
       "<p>5 rows × 39 columns</p>\n",
       "</div>"
      ],
      "text/plain": [
       "   hosp_patid  age  gender  site     arrive_datetime  arrive_mode  \\\n",
       "0      489709   43  Female  BNHH 2012-08-01 00:04:00          2.0   \n",
       "1      653265   44    Male  BNHH 2012-08-01 00:37:00          2.0   \n",
       "2      340430   15    Male  BNHH 2012-08-01 00:55:00          1.0   \n",
       "3      127292   30  Female  BNHH 2012-08-01 00:58:00          2.0   \n",
       "4      418634   30    Male  BNHH 2012-08-01 01:40:00          1.0   \n",
       "\n",
       "  first_triage_datetime   first_dr_datetime first_adm_request_time  \\\n",
       "0   2012-08-01 00:18:00 2012-08-01 02:24:00                    NaN   \n",
       "1   2012-08-01 00:53:00 2012-08-01 02:43:00                    NaN   \n",
       "2   2012-08-01 01:00:00 2012-08-01 01:24:00                    NaN   \n",
       "3   2012-08-01 01:01:00 2012-08-01 02:04:00                    NaN   \n",
       "4   2012-08-01 01:55:00 2012-08-01 02:27:00                    NaN   \n",
       "\n",
       "  adm_referral_loc         ...          depart_flag_wkend waiting_time  \\\n",
       "0              NaN         ...                          0        220.0   \n",
       "1              NaN         ...                          0        211.0   \n",
       "2              NaN         ...                          0        119.0   \n",
       "3              NaN         ...                          0        144.0   \n",
       "4              NaN         ...                          0        133.0   \n",
       "\n",
       "  arr_triage_wait arr_dr_wait arr_adm_req_wait  adm_req_dep_wait  \\\n",
       "0            14.0       140.0              NaN               NaN   \n",
       "1            16.0       126.0              NaN               NaN   \n",
       "2             5.0        29.0              NaN               NaN   \n",
       "3             3.0        66.0              NaN               NaN   \n",
       "4            15.0        47.0              NaN               NaN   \n",
       "\n",
       "   dr_adm_req_wait  dr_dep_wait  breach_flag     breach_datetime  \n",
       "0              NaN         80.0            0 2012-08-01 04:04:00  \n",
       "1              NaN         85.0            0 2012-08-01 04:37:00  \n",
       "2              NaN         90.0            0 2012-08-01 04:55:00  \n",
       "3              NaN         78.0            0 2012-08-01 04:58:00  \n",
       "4              NaN         86.0            0 2012-08-01 05:40:00  \n",
       "\n",
       "[5 rows x 39 columns]"
      ]
     },
     "execution_count": 8,
     "metadata": {},
     "output_type": "execute_result"
    }
   ],
   "source": [
    "hhft._dataED.head()"
   ]
  },
  {
   "cell_type": "code",
   "execution_count": null,
   "metadata": {},
   "outputs": [],
   "source": []
  },
  {
   "cell_type": "code",
   "execution_count": null,
   "metadata": {},
   "outputs": [],
   "source": []
  },
  {
   "cell_type": "code",
   "execution_count": null,
   "metadata": {},
   "outputs": [],
   "source": []
  },
  {
   "cell_type": "code",
   "execution_count": null,
   "metadata": {},
   "outputs": [],
   "source": []
  },
  {
   "cell_type": "markdown",
   "metadata": {},
   "source": [
    "# Dev"
   ]
  },
  {
   "cell_type": "code",
   "execution_count": null,
   "metadata": {},
   "outputs": [],
   "source": []
  }
 ],
 "metadata": {
  "kernelspec": {
   "display_name": "Python 3",
   "language": "python",
   "name": "python3"
  },
  "language_info": {
   "codemirror_mode": {
    "name": "ipython",
    "version": 3
   },
   "file_extension": ".py",
   "mimetype": "text/x-python",
   "name": "python",
   "nbconvert_exporter": "python",
   "pygments_lexer": "ipython3",
   "version": "3.6.4"
  }
 },
 "nbformat": 4,
 "nbformat_minor": 2
}
