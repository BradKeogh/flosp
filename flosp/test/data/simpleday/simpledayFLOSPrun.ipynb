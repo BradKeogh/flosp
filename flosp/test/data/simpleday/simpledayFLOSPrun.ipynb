{
 "cells": [
  {
   "cell_type": "code",
   "execution_count": 1,
   "metadata": {},
   "outputs": [],
   "source": [
    "import pandas as pd\n",
    "import numpy as np\n",
    "\n",
    "import flosp"
   ]
  },
  {
   "cell_type": "code",
   "execution_count": 2,
   "metadata": {},
   "outputs": [
    {
     "name": "stdout",
     "output_type": "stream",
     "text": [
      "flosp started.\n",
      "<module 'flosp.expected_structures.ED' from 'C:\\\\Users\\\\bjk1y13\\\\OneDrive - University of Southampton\\\\MH030_HHFT_flow\\\\4_Analysis\\\\flosp\\\\flosp\\\\expected_structures\\\\ED.py'>\n",
      "<module 'flosp.expected_structures.IP' from 'C:\\\\Users\\\\bjk1y13\\\\OneDrive - University of Southampton\\\\MH030_HHFT_flow\\\\4_Analysis\\\\flosp\\\\flosp\\\\expected_structures\\\\IP.py'>\n",
      "Imported setup.py sucessfully.\n",
      "Loading processed data from pickles.\n",
      "Found: ./simpleday/example_results/processed/ED.pkl\n",
      "Missing: ./simpleday/example_results/processed/IPfce.pkl\n",
      "Missing: ./simpleday/example_results/processed/IPward.pkl\n",
      "Missing: ./simpleday/example_results/processed/IPspell.pkl\n",
      "Missing: ./simpleday/example_results/processed/HOURLY.pkl\n",
      "Missing: ./simpleday/example_results/processed/DAILY.pkl\n"
     ]
    }
   ],
   "source": [
    "sd = flosp.Interface(\"./setup.py\")"
   ]
  },
  {
   "cell_type": "code",
   "execution_count": 3,
   "metadata": {},
   "outputs": [
    {
     "data": {
      "text/plain": [
       "'simpleday'"
      ]
     },
     "execution_count": 3,
     "metadata": {},
     "output_type": "execute_result"
    }
   ],
   "source": [
    "sd.metadata.HOSPITAL_NAME"
   ]
  },
  {
   "cell_type": "code",
   "execution_count": 4,
   "metadata": {},
   "outputs": [
    {
     "data": {
      "text/plain": [
       "'./simpleday/example_results/'"
      ]
     },
     "execution_count": 4,
     "metadata": {},
     "output_type": "execute_result"
    }
   ],
   "source": [
    "sd.metadata.RESULTS_SAVE_PATH"
   ]
  },
  {
   "cell_type": "code",
   "execution_count": 5,
   "metadata": {},
   "outputs": [
    {
     "name": "stdout",
     "output_type": "stream",
     "text": [
      "IO class called.\n",
      "ARRIVAL_DTTM\n",
      "TRIAGE_ASSESSMENT_DTTM\n",
      "FIRSTDOC_FOR_TREATMENT_DTTM\n",
      "ADM_REQUEST_DTTM\n",
      "DEPARTURE_DTTM\n",
      "----------------------------------------\n",
      "Making callender columns from:  ARRIVAL_DTTM\n",
      "----------------------------------------\n",
      "Making callender columns from:  DEPARTURE_DTTM\n",
      "----------------------------------------\n",
      "saved file: ./simpleday/example_results/processed/ED.pkl\n",
      "Import completed.\n"
     ]
    }
   ],
   "source": [
    "sd.load_dataED(\"./SimpleED.csv\")"
   ]
  },
  {
   "cell_type": "code",
   "execution_count": 6,
   "metadata": {},
   "outputs": [
    {
     "name": "stdout",
     "output_type": "stream",
     "text": [
      "IO class called.\n",
      "ADM_DTTM\n",
      "DIS_DTTM\n",
      "LOCATION_START\n",
      "LOCATION_END\n",
      "----------------------------------------\n",
      "Making callender columns from:  ADM_DTTM\n",
      "----------------------------------------\n",
      "Making callender columns from:  DIS_DTTM\n",
      "----------------------------------------\n",
      "saved file: ./simpleday/example_results/processed/IP.pkl\n",
      "Import completed.\n"
     ]
    }
   ],
   "source": [
    "sd.load_dataIP(\"./SimpleIP.csv\")"
   ]
  },
  {
   "cell_type": "code",
   "execution_count": 7,
   "metadata": {},
   "outputs": [
    {
     "name": "stderr",
     "output_type": "stream",
     "text": [
      "C:\\Users\\bjk1y13\\OneDrive - University of Southampton\\MH030_HHFT_flow\\4_Analysis\\flosp\\flosp\\aggregation.py:225: SettingWithCopyWarning: \n",
      "A value is trying to be set on a copy of a slice from a DataFrame.\n",
      "Try using .loc[row_indexer,col_indexer] = value instead\n",
      "\n",
      "See the caveats in the documentation: http://pandas.pydata.org/pandas-docs/stable/indexing.html#indexing-view-versus-copy\n",
      "  df['event_column_name_rounded'] = df[event_column_name].apply(lambda x : x.replace(second=0, minute=0)) # round to lower hour\n"
     ]
    }
   ],
   "source": [
    "sd.make_new_tables()"
   ]
  },
  {
   "cell_type": "code",
   "execution_count": null,
   "metadata": {},
   "outputs": [],
   "source": []
  },
  {
   "cell_type": "markdown",
   "metadata": {},
   "source": [
    "# Plotting trials"
   ]
  },
  {
   "cell_type": "code",
   "execution_count": 8,
   "metadata": {},
   "outputs": [
    {
     "ename": "TypeError",
     "evalue": "setattr expected 3 arguments, got 2",
     "output_type": "error",
     "traceback": [
      "\u001b[1;31m---------------------------------------------------------------------------\u001b[0m",
      "\u001b[1;31mTypeError\u001b[0m                                 Traceback (most recent call last)",
      "\u001b[1;32m<ipython-input-8-4fec292e7c24>\u001b[0m in \u001b[0;36m<module>\u001b[1;34m()\u001b[0m\n\u001b[0;32m      1\u001b[0m \u001b[0ms\u001b[0m \u001b[1;33m=\u001b[0m \u001b[0mpd\u001b[0m\u001b[1;33m.\u001b[0m\u001b[0mdatetime\u001b[0m\u001b[1;33m(\u001b[0m\u001b[1;36m2017\u001b[0m\u001b[1;33m,\u001b[0m\u001b[1;36m1\u001b[0m\u001b[1;33m,\u001b[0m\u001b[1;36m1\u001b[0m\u001b[1;33m)\u001b[0m\u001b[1;33m\u001b[0m\u001b[0m\n\u001b[0;32m      2\u001b[0m \u001b[0me\u001b[0m \u001b[1;33m=\u001b[0m \u001b[0mpd\u001b[0m\u001b[1;33m.\u001b[0m\u001b[0mdatetime\u001b[0m\u001b[1;33m(\u001b[0m\u001b[1;36m2018\u001b[0m\u001b[1;33m,\u001b[0m\u001b[1;36m2\u001b[0m\u001b[1;33m,\u001b[0m\u001b[1;36m1\u001b[0m\u001b[1;33m)\u001b[0m\u001b[1;33m\u001b[0m\u001b[0m\n\u001b[1;32m----> 3\u001b[1;33m \u001b[0msd\u001b[0m\u001b[1;33m.\u001b[0m\u001b[0mplot_period\u001b[0m\u001b[1;33m(\u001b[0m\u001b[0ms\u001b[0m\u001b[1;33m,\u001b[0m\u001b[0me\u001b[0m\u001b[1;33m,\u001b[0m\u001b[1;36m9\u001b[0m\u001b[1;33m)\u001b[0m\u001b[1;33m\u001b[0m\u001b[0m\n\u001b[0m",
      "\u001b[1;32m~\\OneDrive - University of Southampton\\MH030_HHFT_flow\\4_Analysis\\flosp\\flosp\\interface.py\u001b[0m in \u001b[0;36mplot_period\u001b[1;34m(self, dt_start, dt_end, required_plot_no)\u001b[0m\n\u001b[0;32m    107\u001b[0m \u001b[1;33m\u001b[0m\u001b[0m\n\u001b[0;32m    108\u001b[0m         \"\"\" \n\u001b[1;32m--> 109\u001b[1;33m         \u001b[0mPeriodPlotting\u001b[0m\u001b[1;33m(\u001b[0m\u001b[0mself\u001b[0m\u001b[1;33m.\u001b[0m\u001b[0mdata\u001b[0m\u001b[1;33m,\u001b[0m \u001b[0mself\u001b[0m\u001b[1;33m.\u001b[0m\u001b[0mmetadata\u001b[0m\u001b[1;33m,\u001b[0m \u001b[0mdt_start\u001b[0m\u001b[1;33m,\u001b[0m \u001b[0mdt_end\u001b[0m\u001b[1;33m,\u001b[0m \u001b[0mrequired_plot_no\u001b[0m\u001b[1;33m)\u001b[0m\u001b[1;33m\u001b[0m\u001b[0m\n\u001b[0m\u001b[0;32m    110\u001b[0m         \u001b[1;32mreturn\u001b[0m\u001b[1;33m\u001b[0m\u001b[0m\n\u001b[0;32m    111\u001b[0m \u001b[1;33m\u001b[0m\u001b[0m\n",
      "\u001b[1;32m~\\OneDrive - University of Southampton\\MH030_HHFT_flow\\4_Analysis\\flosp\\flosp\\plotting.py\u001b[0m in \u001b[0;36m__init__\u001b[1;34m(self, data, metadata, dt_start, dt_end, required_plot_no)\u001b[0m\n\u001b[0;32m     33\u001b[0m                 \u001b[0mexec\u001b[0m\u001b[1;33m(\u001b[0m\u001b[1;34m'self.'\u001b[0m \u001b[1;33m+\u001b[0m \u001b[1;34m'plot'\u001b[0m \u001b[1;33m+\u001b[0m \u001b[0mstr\u001b[0m\u001b[1;33m(\u001b[0m\u001b[0mplot_no\u001b[0m\u001b[1;33m)\u001b[0m \u001b[1;33m+\u001b[0m\u001b[1;34m'()'\u001b[0m\u001b[1;33m)\u001b[0m\u001b[1;33m\u001b[0m\u001b[0m\n\u001b[0;32m     34\u001b[0m         \u001b[1;32melse\u001b[0m\u001b[1;33m:\u001b[0m\u001b[1;33m\u001b[0m\u001b[0m\n\u001b[1;32m---> 35\u001b[1;33m             \u001b[0mexec\u001b[0m\u001b[1;33m(\u001b[0m\u001b[1;34m'self.'\u001b[0m \u001b[1;33m+\u001b[0m \u001b[1;34m'plot'\u001b[0m \u001b[1;33m+\u001b[0m \u001b[0mstr\u001b[0m\u001b[1;33m(\u001b[0m\u001b[0mrequired_plot_no\u001b[0m\u001b[1;33m)\u001b[0m \u001b[1;33m+\u001b[0m \u001b[1;34m'()'\u001b[0m\u001b[1;33m)\u001b[0m\u001b[1;33m\u001b[0m\u001b[0m\n\u001b[0m\u001b[0;32m     36\u001b[0m         \u001b[1;32mreturn\u001b[0m\u001b[1;33m\u001b[0m\u001b[0m\n\u001b[0;32m     37\u001b[0m \u001b[1;33m\u001b[0m\u001b[0m\n",
      "\u001b[1;32m~\\OneDrive - University of Southampton\\MH030_HHFT_flow\\4_Analysis\\flosp\\flosp\\plotting.py\u001b[0m in \u001b[0;36m<module>\u001b[1;34m()\u001b[0m\n",
      "\u001b[1;32m~\\OneDrive - University of Southampton\\MH030_HHFT_flow\\4_Analysis\\flosp\\flosp\\plotting.py\u001b[0m in \u001b[0;36mplot9\u001b[1;34m(self)\u001b[0m\n\u001b[0;32m     60\u001b[0m         \u001b[0max\u001b[0m\u001b[1;33m.\u001b[0m\u001b[0mset_xticks\u001b[0m\u001b[1;33m(\u001b[0m\u001b[0mnp\u001b[0m\u001b[1;33m.\u001b[0m\u001b[0marange\u001b[0m\u001b[1;33m(\u001b[0m\u001b[1;36m0\u001b[0m\u001b[1;33m,\u001b[0m\u001b[1;36m25\u001b[0m\u001b[1;33m,\u001b[0m\u001b[1;36m2\u001b[0m\u001b[1;33m)\u001b[0m\u001b[1;33m)\u001b[0m\u001b[1;33m;\u001b[0m\u001b[1;33m\u001b[0m\u001b[0m\n\u001b[0;32m     61\u001b[0m \u001b[1;33m\u001b[0m\u001b[0m\n\u001b[1;32m---> 62\u001b[1;33m         \u001b[0msetattr\u001b[0m\u001b[1;33m(\u001b[0m\u001b[0mself\u001b[0m\u001b[1;33m.\u001b[0m\u001b[0mdata\u001b[0m\u001b[1;33m.\u001b[0m\u001b[0mplots\u001b[0m\u001b[1;33m,\u001b[0m \u001b[1;34m'table'\u001b[0m \u001b[1;33m+\u001b[0m \u001b[0mstr\u001b[0m\u001b[1;33m(\u001b[0m\u001b[0mplot_number\u001b[0m\u001b[1;33m)\u001b[0m\u001b[1;33m)\u001b[0m\u001b[1;33m\u001b[0m\u001b[0m\n\u001b[0m\u001b[0;32m     63\u001b[0m         \u001b[0msetattr\u001b[0m\u001b[1;33m(\u001b[0m\u001b[0mself\u001b[0m\u001b[1;33m.\u001b[0m\u001b[0mdata\u001b[0m\u001b[1;33m.\u001b[0m\u001b[0mplots\u001b[0m\u001b[1;33m,\u001b[0m \u001b[1;34m'fig'\u001b[0m \u001b[1;33m+\u001b[0m \u001b[0mstr\u001b[0m\u001b[1;33m(\u001b[0m\u001b[0mplot_number\u001b[0m\u001b[1;33m)\u001b[0m\u001b[1;33m)\u001b[0m\u001b[1;33m\u001b[0m\u001b[0m\n\u001b[0;32m     64\u001b[0m         \u001b[1;32mreturn\u001b[0m\u001b[1;33m\u001b[0m\u001b[0m\n",
      "\u001b[1;31mTypeError\u001b[0m: setattr expected 3 arguments, got 2"
     ]
    },
    {
     "data": {
      "image/png": "[encoded data removed]",
      "text/plain": [
       "<matplotlib.figure.Figure at 0x1bf20eeab70>"
      ]
     },
     "metadata": {},
     "output_type": "display_data"
    }
   ],
   "source": [
    "s = pd.datetime(2017,1,1)\n",
    "e = pd.datetime(2018,2,1)\n",
    "sd.plot_period(s,e,9)"
   ]
  },
  {
   "cell_type": "code",
   "execution_count": 15,
   "metadata": {},
   "outputs": [
    {
     "data": {
      "text/plain": [
       "'ED arrival and departure by hour of day'"
      ]
     },
     "execution_count": 15,
     "metadata": {},
     "output_type": "execute_result"
    }
   ],
   "source": [
    "sd.metadata.PLOT_LIST.query('plot_number == 9')['plot_name'].values[0]"
   ]
  },
  {
   "cell_type": "code",
   "execution_count": null,
   "metadata": {},
   "outputs": [],
   "source": [
    "sd.data.plots.fig1"
   ]
  },
  {
   "cell_type": "code",
   "execution_count": null,
   "metadata": {},
   "outputs": [],
   "source": [
    "sd.data.plots.fig1"
   ]
  },
  {
   "cell_type": "code",
   "execution_count": null,
   "metadata": {},
   "outputs": [],
   "source": [
    "sd.data.plots.table1"
   ]
  },
  {
   "cell_type": "code",
   "execution_count": null,
   "metadata": {},
   "outputs": [],
   "source": []
  },
  {
   "cell_type": "code",
   "execution_count": null,
   "metadata": {},
   "outputs": [],
   "source": [
    "plots_dict = {\n",
    "    'plot_number':[\n",
    "        1,\n",
    "        2,\n",
    "        3,\n",
    "    ],\n",
    "    'plot_title':[\n",
    "        ''\n",
    "    ]\n",
    "}"
   ]
  },
  {
   "cell_type": "code",
   "execution_count": null,
   "metadata": {},
   "outputs": [],
   "source": []
  },
  {
   "cell_type": "code",
   "execution_count": null,
   "metadata": {},
   "outputs": [],
   "source": [
    "sd.data.plots"
   ]
  },
  {
   "cell_type": "markdown",
   "metadata": {},
   "source": [
    "pat = sd.data.ED"
   ]
  },
  {
   "cell_type": "markdown",
   "metadata": {},
   "source": [
    "import matplotlib.pyplot as plt\n",
    "import seaborn as sns\n",
    "sns.set()"
   ]
  },
  {
   "cell_type": "markdown",
   "metadata": {},
   "source": [
    "sd.data.ED.columns"
   ]
  },
  {
   "cell_type": "markdown",
   "metadata": {},
   "source": [
    "## period analysis"
   ]
  },
  {
   "cell_type": "markdown",
   "metadata": {},
   "source": [
    "dt_start = pd.datetime(2017,1,1)\n",
    "dt_end = pd.datetime(2018,2,1)\n",
    "mask = (pat['ARRIVAL_DTTM'] > dt_start) & (pat['DEPARTURE_DTTM'] < dt_end)\n",
    "# pat.query('ARRIVAL_DTTM > dt_start')\n",
    "# pat[mask]"
   ]
  },
  {
   "cell_type": "markdown",
   "metadata": {},
   "source": [
    "#### ED hourly arrival discharge curves\n",
    "# filter for period selected\n",
    "\n",
    "# make table for plot\n",
    "\n",
    "arr = pat[['ARRIVAL_hour','PSEUDONYMISED_PATIENT_ID']].groupby(['ARRIVAL_hour']).count()#.plot(ax=ax)\n",
    "dep = pat[['DEPARTURE_hour','PSEUDONYMISED_PATIENT_ID']].groupby(['DEPARTURE_hour']).count()#.plot(ax=ax)\n",
    "\n",
    "arr.rename(columns={'PSEUDONYMISED_PATIENT_ID':'Arrivals'},inplace=True)\n",
    "dep.rename(columns={'PSEUDONYMISED_PATIENT_ID':'Departures'},inplace=True)\n",
    "table = arr.merge(dep, left_index=True, right_index=True)\n",
    "\n",
    "# plot\n",
    "fig, ax = plt.subplots()\n",
    "plt.suptitle('ED average hourly arrivals & departures')\n",
    "table.plot(ax=ax)\n",
    "ax.set_xticks(np.arange(0,25,2));"
   ]
  },
  {
   "cell_type": "code",
   "execution_count": null,
   "metadata": {},
   "outputs": [],
   "source": [
    "fig"
   ]
  },
  {
   "cell_type": "code",
   "execution_count": null,
   "metadata": {},
   "outputs": [],
   "source": []
  },
  {
   "cell_type": "code",
   "execution_count": null,
   "metadata": {},
   "outputs": [],
   "source": []
  },
  {
   "cell_type": "code",
   "execution_count": null,
   "metadata": {},
   "outputs": [],
   "source": [
    "sd.data.DAILY.plot(style='o')"
   ]
  },
  {
   "cell_type": "code",
   "execution_count": null,
   "metadata": {},
   "outputs": [],
   "source": [
    "sd.data.HOURLY.plot()"
   ]
  },
  {
   "cell_type": "code",
   "execution_count": null,
   "metadata": {},
   "outputs": [],
   "source": []
  },
  {
   "cell_type": "code",
   "execution_count": null,
   "metadata": {},
   "outputs": [],
   "source": [
    "sd.data.HOURLY.sum()"
   ]
  },
  {
   "cell_type": "code",
   "execution_count": null,
   "metadata": {},
   "outputs": [],
   "source": []
  },
  {
   "cell_type": "code",
   "execution_count": null,
   "metadata": {},
   "outputs": [],
   "source": [
    "sd.data.IPSPELL.shape"
   ]
  },
  {
   "cell_type": "code",
   "execution_count": null,
   "metadata": {},
   "outputs": [],
   "source": [
    "sd.data.DAILY"
   ]
  },
  {
   "cell_type": "code",
   "execution_count": null,
   "metadata": {},
   "outputs": [],
   "source": [
    "sd.data.IP.columns"
   ]
  },
  {
   "cell_type": "code",
   "execution_count": null,
   "metadata": {},
   "outputs": [],
   "source": [
    "ward = sd.data.IP"
   ]
  },
  {
   "cell_type": "code",
   "execution_count": null,
   "metadata": {},
   "outputs": [],
   "source": [
    "ward.query('PSEUDONYMISED_PATIENT_ID == \"100\"')"
   ]
  },
  {
   "cell_type": "code",
   "execution_count": null,
   "metadata": {},
   "outputs": [],
   "source": [
    "ward.shape"
   ]
  },
  {
   "cell_type": "code",
   "execution_count": null,
   "metadata": {},
   "outputs": [],
   "source": [
    "ward.query('LOCATION_NUMBER == \"1\"').shape"
   ]
  },
  {
   "cell_type": "code",
   "execution_count": null,
   "metadata": {},
   "outputs": [],
   "source": [
    "ward.shape"
   ]
  },
  {
   "cell_type": "code",
   "execution_count": null,
   "metadata": {},
   "outputs": [],
   "source": [
    "ward.drop(['LOCATION_END','LOCATION_START'],axis=1).shape"
   ]
  },
  {
   "cell_type": "code",
   "execution_count": null,
   "metadata": {},
   "outputs": [],
   "source": [
    "ward.LOCATION_NUMBER"
   ]
  },
  {
   "cell_type": "code",
   "execution_count": null,
   "metadata": {},
   "outputs": [],
   "source": [
    "MOVE_list = [column for column in ward.columns if 'LOCATION' in column]\n",
    "MOVE_list"
   ]
  },
  {
   "cell_type": "code",
   "execution_count": null,
   "metadata": {},
   "outputs": [],
   "source": [
    "ward[MOVE_list]"
   ]
  },
  {
   "cell_type": "code",
   "execution_count": null,
   "metadata": {},
   "outputs": [],
   "source": [
    "ward.columns"
   ]
  },
  {
   "cell_type": "code",
   "execution_count": null,
   "metadata": {},
   "outputs": [],
   "source": [
    "ward.head()"
   ]
  },
  {
   "cell_type": "code",
   "execution_count": null,
   "metadata": {},
   "outputs": [],
   "source": []
  },
  {
   "cell_type": "code",
   "execution_count": null,
   "metadata": {},
   "outputs": [],
   "source": []
  },
  {
   "cell_type": "code",
   "execution_count": null,
   "metadata": {},
   "outputs": [],
   "source": [
    "df = sd.data.HOURLY\n",
    "\n",
    "df.between_time('0:00', '12:01')\n",
    "\n",
    "#['ED_arrivals'].resample('D').sum()"
   ]
  },
  {
   "cell_type": "code",
   "execution_count": null,
   "metadata": {},
   "outputs": [],
   "source": [
    "sd.data.HOURLY"
   ]
  },
  {
   "cell_type": "code",
   "execution_count": null,
   "metadata": {},
   "outputs": [],
   "source": [
    "df.ADM_METHOD == '1'"
   ]
  },
  {
   "cell_type": "code",
   "execution_count": null,
   "metadata": {},
   "outputs": [],
   "source": [
    "# inputs = [\"1\"]\n",
    "df.query('ADM_METHOD in [\"1\"]')"
   ]
  },
  {
   "cell_type": "code",
   "execution_count": null,
   "metadata": {},
   "outputs": [],
   "source": [
    "# inputs = [\"1\"]\n",
    "df.query(\"ADM_METHOD in ['1']\")"
   ]
  },
  {
   "cell_type": "code",
   "execution_count": null,
   "metadata": {},
   "outputs": [],
   "source": []
  },
  {
   "cell_type": "code",
   "execution_count": null,
   "metadata": {},
   "outputs": [],
   "source": []
  },
  {
   "cell_type": "code",
   "execution_count": null,
   "metadata": {},
   "outputs": [],
   "source": [
    "test = sd.data.HOURLY"
   ]
  },
  {
   "cell_type": "code",
   "execution_count": null,
   "metadata": {},
   "outputs": [],
   "source": [
    "sd.data.DAILY"
   ]
  },
  {
   "cell_type": "code",
   "execution_count": null,
   "metadata": {},
   "outputs": [],
   "source": [
    "sd.data.IP.head()"
   ]
  },
  {
   "cell_type": "code",
   "execution_count": null,
   "metadata": {},
   "outputs": [],
   "source": [
    "sd.data.ED.head()"
   ]
  },
  {
   "cell_type": "code",
   "execution_count": null,
   "metadata": {},
   "outputs": [],
   "source": [
    "test"
   ]
  },
  {
   "cell_type": "code",
   "execution_count": null,
   "metadata": {},
   "outputs": [],
   "source": [
    "test.shape"
   ]
  },
  {
   "cell_type": "code",
   "execution_count": null,
   "metadata": {},
   "outputs": [],
   "source": [
    "daily_columns_list = []\n",
    "for column in ['ED_arrivals','ED_departures']:\n",
    "    daily_series = test[column].resample('D').sum()\n",
    "    daily_columns_list.append(daily_series)\n",
    "    \n",
    "daily_columns_list[0]"
   ]
  },
  {
   "cell_type": "code",
   "execution_count": null,
   "metadata": {},
   "outputs": [],
   "source": [
    "daily_columns_list = []\n",
    "for column in ['ED_arrivals','ED_departures']:\n",
    "    daily_series = test[column].resample('D').sum()\n",
    "    daily_columns_list.append(daily_series)\n",
    "    \n",
    "pd.DataFrame(daily_columns_list[0])"
   ]
  },
  {
   "cell_type": "code",
   "execution_count": null,
   "metadata": {},
   "outputs": [],
   "source": [
    "test.resample('D').sum()"
   ]
  },
  {
   "cell_type": "code",
   "execution_count": null,
   "metadata": {},
   "outputs": [],
   "source": []
  },
  {
   "cell_type": "code",
   "execution_count": null,
   "metadata": {},
   "outputs": [],
   "source": [
    "test.drop(index=test.index[[2,3,4,5]],inplace=True)"
   ]
  },
  {
   "cell_type": "code",
   "execution_count": null,
   "metadata": {},
   "outputs": [],
   "source": [
    "test"
   ]
  },
  {
   "cell_type": "code",
   "execution_count": null,
   "metadata": {},
   "outputs": [],
   "source": []
  },
  {
   "cell_type": "code",
   "execution_count": null,
   "metadata": {},
   "outputs": [],
   "source": [
    "test.iloc[5:10].drop()"
   ]
  },
  {
   "cell_type": "code",
   "execution_count": null,
   "metadata": {},
   "outputs": [],
   "source": []
  },
  {
   "cell_type": "code",
   "execution_count": null,
   "metadata": {},
   "outputs": [],
   "source": []
  },
  {
   "cell_type": "code",
   "execution_count": null,
   "metadata": {},
   "outputs": [],
   "source": []
  },
  {
   "cell_type": "code",
   "execution_count": null,
   "metadata": {},
   "outputs": [],
   "source": []
  },
  {
   "cell_type": "code",
   "execution_count": null,
   "metadata": {},
   "outputs": [],
   "source": [
    "sd.data.HOURLY2.head()"
   ]
  },
  {
   "cell_type": "code",
   "execution_count": null,
   "metadata": {},
   "outputs": [],
   "source": []
  },
  {
   "cell_type": "code",
   "execution_count": null,
   "metadata": {},
   "outputs": [],
   "source": [
    "sd.data.ED.head()"
   ]
  },
  {
   "cell_type": "code",
   "execution_count": null,
   "metadata": {},
   "outputs": [],
   "source": [
    "sd.data.ED.DEPARTURE_DTTM"
   ]
  },
  {
   "cell_type": "code",
   "execution_count": null,
   "metadata": {},
   "outputs": [],
   "source": [
    "sd.data.ED.columns"
   ]
  },
  {
   "cell_type": "code",
   "execution_count": null,
   "metadata": {},
   "outputs": [],
   "source": []
  },
  {
   "cell_type": "code",
   "execution_count": null,
   "metadata": {},
   "outputs": [],
   "source": [
    "import itertools\n",
    "def count_hourly_occupancy2(df,datetime_col_start,datetime_column_end, new_column_name):\n",
    "    \"\"\"\n",
    "    Function takes patient record level dataframe and calculates the occupancy/activity for each hour of the day.\n",
    "    The activity is defined based on the two datetime columns being provided.\n",
    "    e.g. if 'attendnace datetime' and 'departure datetime' were given then the 'activity' would be the occupancy of the department.\n",
    "\n",
    "    Inputs\n",
    "    ======\n",
    "    df, pandas dataframe, with patient-record level activity.\n",
    "    datetime_col_start, str, name of column in df when the activity begins. Column must be in datetime format.\n",
    "    datetime_col_end, str, name of column in df when the activity ends. Column must be in datetime format.\n",
    "    new_col_name, str, name to assign the new column that is produced.\n",
    "\n",
    "    Output\n",
    "    ======\n",
    "    df, pandas dataframe, datetime index at hourly level, single column containing the count of activity in that hour\n",
    "    (index potentially not continuous).\n",
    "    \"\"\"\n",
    "    #### setup data to be easier to compute, \n",
    "#         df['event_column_name_rounded'] = df[event_column_name].apply(lambda x : x.replace(second=0, minute=0)) # round to lower hour\n",
    "    df1 = df[[datetime_col_start,datetime_column_end]].copy()\n",
    "    df1[datetime_col_start] = df1[datetime_col_start].apply(lambda x : x.replace(second=0,minute=0)) # round arrival hour down\n",
    "    df1[datetime_column_end] = df1[datetime_column_end].apply(lambda x : x.replace(second=0,minute=0)) +pd.Timedelta(hours=1)\n",
    "    \n",
    "    \n",
    "    #### create col with number of hours active \n",
    "    df1['n_hours'] = ((df1[datetime_column_end] - df1[datetime_col_start])/pd.Timedelta(1,'h')).astype(int)\n",
    "    df1 = df1.drop(df1[df1['n_hours'] <=0].index) # must drop the negative n_hour rows as otherwise messes up my size of array initilisation (was getting an error that the index i was assinging to in ids was out of bounds).\n",
    "\n",
    "    #### time efficient (i hope) function for cycling through and finding all combinations of active hours for attednaces \n",
    "    # - create a (long format) list of links between attendance numbers and \n",
    "    # function for list comp which finds list of datetimes (for each hour)\n",
    "    date_func = lambda datetime , offset : datetime + pd.Timedelta(offset,'h')\n",
    "\n",
    "    # iterate over rows in df\n",
    "    df1 = df1.reset_index() # reset so have the new index to itereate over\n",
    "\n",
    "    ids = np.empty(shape=(df1['n_hours'].sum()),dtype='int64') # initilise array - change to np.empty() to speed up\n",
    "    timestamps = np.empty(shape=(df1['n_hours'].sum()),dtype='datetime64[s]')\n",
    "    row_count = 0 # initialise row counter for empty arrays\n",
    "    \n",
    "    # iterate through rows of df\n",
    "    for row in df1.itertuples():\n",
    "        atten_id = [row[1]] # get attendance id\n",
    "        hour_list = [date_func(row[2],i) for i in np.arange(row[4])] # make a list datetimes for each hour that patient is active.\n",
    "\n",
    "        # populate empty arrays with seperate list of ids and timestamps.  \n",
    "        for i in itertools.product(atten_id,hour_list):\n",
    "            ids[row_count] = i[0] # assign patient number to array\n",
    "            timestamps[row_count] = i[1] # \n",
    "            row_count += 1 # add to row count for new id-> hour pair\n",
    "    \n",
    "    # put ids and timestamps into df\n",
    "    data = {'atten_id':ids,'hours':timestamps}\n",
    "    df_new = pd.DataFrame(data=data)\n",
    "    \n",
    "    # count isntances for each hour\n",
    "    df_new = df_new.groupby(['hours']).count()\n",
    "    \n",
    "    # set hours column to index\n",
    "#     df_new.set_index('hours', inplace=True)\n",
    "    df_new.index.name = '' # remove 'hours' as index name\n",
    "    \n",
    "    return df_new\n",
    "\n",
    "df_new = count_hourly_occupancy2(sd.data.ED,'ARRIVAL_DTTM','DEPARTURE_DTTM','new_col')\n",
    "\n",
    "\n",
    "df_new.head()"
   ]
  },
  {
   "cell_type": "code",
   "execution_count": null,
   "metadata": {},
   "outputs": [],
   "source": [
    "df_new.index.name = ''"
   ]
  },
  {
   "cell_type": "code",
   "execution_count": null,
   "metadata": {},
   "outputs": [],
   "source": [
    "df_new.index"
   ]
  },
  {
   "cell_type": "code",
   "execution_count": null,
   "metadata": {},
   "outputs": [],
   "source": [
    "date_func = lambda datetime , offset : datetime + pd.Timedelta(offset,'h')\n",
    "ids = np.empty(shape=(df1['n_hours'].sum()),dtype='int64') # initilise array - change to np.empty() to speed up\n",
    "timestamps = np.empty(shape=(df1['n_hours'].sum()),dtype='datetime64[s]')\n",
    "row_count = 0\n",
    "\n",
    "for row in df1.itertuples():\n",
    "    atten_id = [row[1]] # get attendance ID\n",
    "    hour_list = [date_func(row[2],i) for i in np.arange(row[4])] # make a list datetimes for each hour that patient is active.\n",
    "#     print(atten_id)\n",
    "#     print(hour_list)\n",
    "\n",
    "    # create array of list for all combinations of timestamp\n",
    "    for i in itertools.product(atten_id,hour_list):\n",
    "        ids[row_count] = i[0] # assign patient numbers\n",
    "        timestamps[row_count] = i[1]\n",
    "        row_count += 1 # add to row count for new array\n",
    "#         print(i)\n",
    "    \n",
    "# put into df\n",
    "data = {'atten_id':ids,'hours':timestamps}\n",
    "df_new = pd.DataFrame(data=data)#,index=ids)#,columns=['new_col'])"
   ]
  },
  {
   "cell_type": "code",
   "execution_count": null,
   "metadata": {},
   "outputs": [],
   "source": [
    "df_new.groupby(['hours']).count()"
   ]
  },
  {
   "cell_type": "code",
   "execution_count": null,
   "metadata": {},
   "outputs": [],
   "source": [
    "df_new.groupby(['new_col']).count()"
   ]
  },
  {
   "cell_type": "code",
   "execution_count": null,
   "metadata": {},
   "outputs": [],
   "source": [
    "row[4],i"
   ]
  },
  {
   "cell_type": "code",
   "execution_count": null,
   "metadata": {},
   "outputs": [],
   "source": [
    "ids"
   ]
  },
  {
   "cell_type": "code",
   "execution_count": null,
   "metadata": {},
   "outputs": [],
   "source": [
    "row[1]"
   ]
  },
  {
   "cell_type": "code",
   "execution_count": null,
   "metadata": {},
   "outputs": [],
   "source": [
    "row.ARRIVAL_DTTM"
   ]
  },
  {
   "cell_type": "code",
   "execution_count": null,
   "metadata": {},
   "outputs": [],
   "source": [
    "hour_list"
   ]
  },
  {
   "cell_type": "code",
   "execution_count": null,
   "metadata": {},
   "outputs": [],
   "source": [
    "row_count"
   ]
  },
  {
   "cell_type": "code",
   "execution_count": null,
   "metadata": {},
   "outputs": [],
   "source": [
    "df_new"
   ]
  },
  {
   "cell_type": "code",
   "execution_count": null,
   "metadata": {},
   "outputs": [],
   "source": [
    "count_hourly_occupancy(sd.data.ED,'ARRIVAL_DTTM','DEPARTURE_DTTM','new_col')"
   ]
  },
  {
   "cell_type": "code",
   "execution_count": null,
   "metadata": {},
   "outputs": [],
   "source": [
    "for row in "
   ]
  },
  {
   "cell_type": "code",
   "execution_count": null,
   "metadata": {},
   "outputs": [],
   "source": []
  },
  {
   "cell_type": "code",
   "execution_count": null,
   "metadata": {},
   "outputs": [],
   "source": []
  },
  {
   "cell_type": "code",
   "execution_count": null,
   "metadata": {},
   "outputs": [],
   "source": []
  },
  {
   "cell_type": "code",
   "execution_count": null,
   "metadata": {},
   "outputs": [],
   "source": [
    "def count_hourly_occupancy(df,arrival_col,departure_col,count_name):\n",
    "    \"\"\"\n",
    "    inputs:\n",
    "    df with attendance number as index,\n",
    "    arrival, departure datetime col names (must be datetime format)\n",
    "    ouptut:\n",
    "    df, contains many-to-many link between the arrival_\n",
    "    NOTE: re-write required: very slow.\n",
    "    \"\"\"\n",
    "    import itertools\n",
    "    df1 = df[[arrival_col,departure_col]].copy()\n",
    "    df1[arrival_col] = df1[arrival_col].apply(lambda x : x.replace(second=0,minute=0)) # round arrival hour down\n",
    "    df1[departure_col] = df1[departure_col].apply(lambda x : x.replace(second=0,minute=0)) +pd.Timedelta(hours=1) # round leaving tim up\n",
    "    \n",
    "    #### create col with number of hours active \n",
    "    df1['n_hours'] = ((df1[departure_col] - df1[arrival_col])/pd.Timedelta(1,'h')).astype(int)\n",
    "    df1 = df1.drop(df1[df1['n_hours'] <=0].index) # must drop the negative n_hour rows as otherwise messes up my size of array initilisation (was getting an error that the index i was assinging to in ids was out of bounds).\n",
    "    \n",
    "    #### time efficient (i hope) function for cycling through and finding all combinations of active hours for attednaces - create a (long format) list of links between attendance numbers and \n",
    "\n",
    "    # function for list comp which finds list of datetimes (for each hour)\n",
    "    date_func = lambda datetime , offset : datetime + pd.Timedelta(offset,'h')\n",
    "\n",
    "    # iterate over rows in df\n",
    "    df1 = df1.reset_index() # reset so have the new index to itereate over\n",
    "\n",
    "    ids = np.empty(shape=(df1['n_hours'].sum()),dtype='int64') # initilise array - change to np.empty() to speed up\n",
    "    timestamps = np.empty(shape=(df1['n_hours'].sum()),dtype='datetime64[s]')\n",
    "    row_count = 0\n",
    "\n",
    "    for row in df1.itertuples():\n",
    "        atten_id = [row[1]]\n",
    "        hour_list = [date_func(row[2],i) for i in np.arange(row[4])] # creates list of hour datetimes\n",
    "\n",
    "        # create array of list for all combinations of timestamp\n",
    "        for i in itertools.product(atten_id,hour_list):\n",
    "            ids[row_count] = i[0] # assign patient numbers\n",
    "            timestamps[row_count] = i[1]\n",
    "            row_count += 1 # add to row count for new array    \n",
    "    # put into df\n",
    "    data = {'atten_id':ids}\n",
    "    df_new = pd.DataFrame(data=data,index=timestamps,columns=[count_name])\n",
    "\n",
    "    return(df_new)"
   ]
  },
  {
   "cell_type": "code",
   "execution_count": null,
   "metadata": {},
   "outputs": [],
   "source": []
  },
  {
   "cell_type": "code",
   "execution_count": null,
   "metadata": {},
   "outputs": [],
   "source": [
    "break"
   ]
  },
  {
   "cell_type": "code",
   "execution_count": null,
   "metadata": {},
   "outputs": [],
   "source": []
  },
  {
   "cell_type": "code",
   "execution_count": null,
   "metadata": {},
   "outputs": [],
   "source": [
    "%ls"
   ]
  },
  {
   "cell_type": "code",
   "execution_count": null,
   "metadata": {},
   "outputs": [],
   "source": [
    "setup = imp.load_source('setup.py',)"
   ]
  },
  {
   "cell_type": "code",
   "execution_count": null,
   "metadata": {},
   "outputs": [],
   "source": [
    "setup.RESULTS_SAVE_PATH"
   ]
  },
  {
   "cell_type": "code",
   "execution_count": null,
   "metadata": {},
   "outputs": [],
   "source": [
    "path = \"..//\"\n",
    "from path import flosp"
   ]
  },
  {
   "cell_type": "code",
   "execution_count": null,
   "metadata": {},
   "outputs": [],
   "source": []
  },
  {
   "cell_type": "code",
   "execution_count": null,
   "metadata": {},
   "outputs": [],
   "source": [
    "break"
   ]
  },
  {
   "cell_type": "code",
   "execution_count": null,
   "metadata": {},
   "outputs": [],
   "source": [
    "def import_package_above(num_dirs, module_name):\n",
    "    \"\"\" imports a package by moving to directory above, running import statement and returning to original directory\"\"\"\n",
    "    import importlib\n",
    "    import os\n",
    "    \n",
    "    path_original = os.getcwd()\n",
    "    os.chdir(\"../../\" * num_dirs) # move up to directory\n",
    "    try:\n",
    "        module = importlib.import_module(module_name)\n",
    "        print('Loaded package ', module_name)\n",
    "    except:\n",
    "        print('Could not load package')\n",
    "        \n",
    "    os.chdir(path_original) # return to original directory\n",
    "    return(module)\n",
    "\n",
    "flosp = import_package_above(2,'flosp')"
   ]
  },
  {
   "cell_type": "code",
   "execution_count": null,
   "metadata": {},
   "outputs": [],
   "source": [
    "class PeriodPlotting:\n",
    "    \"\"\" Class produces all plots for a period of time defined by user. \"\"\"\n",
    "    def __init__(self, data, metadata, dt_start, dt_end, required_plot='all'):\n",
    "        #### initialise all data\n",
    "        self.data = data\n",
    "        self.metadata = metadata\n",
    "        self.dt_start = dt_start\n",
    "        self.dt_end = dt_end\n",
    "        print('initialised')\n",
    "        \n",
    "        #### call all plot methods\n",
    "        if required_plot == 'all':\n",
    "            for plot_no in ['1']:\n",
    "                print('in for loop')\n",
    "                getattr(self, 'plot' + plot_no)\n",
    "                self.plot1()\n",
    "        else:\n",
    "            print('in else statement ')\n",
    "            exec('self.' + required_plot)\n",
    "            exec('self.plot2()')\n",
    "        return\n",
    "    \n",
    "    def plot1(self):\n",
    "        print('plot 1 print')\n",
    "        self.plot1output = 5\n",
    "        return\n",
    "    \n",
    "    def plot2(self):\n",
    "        print('plot 2 print')\n",
    "        self.plot2output = 10\n",
    "        return\n",
    "    \n",
    "    \n",
    "classname = PeriodPlotting(1,2,3,4,'plot2')\n",
    "\n",
    "#classname2 = PeriodPlotting(1,2,3,4,'plot2')\n"
   ]
  },
  {
   "cell_type": "code",
   "execution_count": null,
   "metadata": {},
   "outputs": [],
   "source": [
    "classname.plot1output"
   ]
  },
  {
   "cell_type": "code",
   "execution_count": null,
   "metadata": {},
   "outputs": [],
   "source": [
    "PeriodPlotting(1,2,3,4,'all')"
   ]
  },
  {
   "cell_type": "code",
   "execution_count": null,
   "metadata": {},
   "outputs": [],
   "source": [
    "PeriodPlotting(1,2,3,4,'all')"
   ]
  },
  {
   "cell_type": "code",
   "execution_count": null,
   "metadata": {},
   "outputs": [],
   "source": []
  },
  {
   "cell_type": "code",
   "execution_count": null,
   "metadata": {},
   "outputs": [],
   "source": []
  },
  {
   "cell_type": "markdown",
   "metadata": {},
   "source": [
    "# testing"
   ]
  },
  {
   "cell_type": "code",
   "execution_count": null,
   "metadata": {},
   "outputs": [],
   "source": [
    "cols = ['y','n','m']\n",
    "pd.DataFrame([[1,2,3],[4,5,6]],columns = cols)"
   ]
  }
 ],
 "metadata": {
  "kernelspec": {
   "display_name": "Python [default]",
   "language": "python",
   "name": "python3"
  },
  "language_info": {
   "codemirror_mode": {
    "name": "ipython",
    "version": 3
   },
   "file_extension": ".py",
   "mimetype": "text/x-python",
   "name": "python",
   "nbconvert_exporter": "python",
   "pygments_lexer": "ipython3",
   "version": "3.5.3"
  }
 },
 "nbformat": 4,
 "nbformat_minor": 2
}
