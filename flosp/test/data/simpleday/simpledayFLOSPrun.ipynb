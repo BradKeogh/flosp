{
 "cells": [
  {
   "cell_type": "code",
   "execution_count": 1,
   "metadata": {},
   "outputs": [],
   "source": [
    "import pandas as pd\n",
    "import numpy as np\n",
    "import matplotlib.pyplot as plt\n",
    "\n",
    "import flosp"
   ]
  },
  {
   "cell_type": "code",
   "execution_count": 2,
   "metadata": {},
   "outputs": [
    {
     "name": "stdout",
     "output_type": "stream",
     "text": [
      "flosp started.\n",
      "<module 'flosp.expected_structures.ED' from 'C:\\\\Users\\\\bjk1y13\\\\OneDrive - University of Southampton\\\\MH030_HHFT_flow\\\\4_Analysis\\\\flosp\\\\flosp\\\\expected_structures\\\\ED.py'>\n",
      "<module 'flosp.expected_structures.IP' from 'C:\\\\Users\\\\bjk1y13\\\\OneDrive - University of Southampton\\\\MH030_HHFT_flow\\\\4_Analysis\\\\flosp\\\\flosp\\\\expected_structures\\\\IP.py'>\n",
      "Imported setup.py sucessfully.\n",
      "Loading processed data from pickles.\n",
      "Found: ./simpleday/example_results/processed/ED.pkl\n",
      "Missing: ./simpleday/example_results/processed/IPfce.pkl\n",
      "Missing: ./simpleday/example_results/processed/IPward.pkl\n",
      "Missing: ./simpleday/example_results/processed/IPspell.pkl\n",
      "Missing: ./simpleday/example_results/processed/HOURLY.pkl\n",
      "Missing: ./simpleday/example_results/processed/DAILY.pkl\n"
     ]
    }
   ],
   "source": [
    "sd = flosp.Interface(\"./setup.py\")"
   ]
  },
  {
   "cell_type": "code",
   "execution_count": 3,
   "metadata": {},
   "outputs": [
    {
     "data": {
      "text/plain": [
       "'simpleday'"
      ]
     },
     "execution_count": 3,
     "metadata": {},
     "output_type": "execute_result"
    }
   ],
   "source": [
    "sd.metadata.HOSPITAL_NAME"
   ]
  },
  {
   "cell_type": "code",
   "execution_count": 4,
   "metadata": {},
   "outputs": [
    {
     "data": {
      "text/plain": [
       "'./simpleday/example_results/'"
      ]
     },
     "execution_count": 4,
     "metadata": {},
     "output_type": "execute_result"
    }
   ],
   "source": [
    "sd.metadata.RESULTS_SAVE_PATH"
   ]
  },
  {
   "cell_type": "code",
   "execution_count": 5,
   "metadata": {},
   "outputs": [
    {
     "name": "stdout",
     "output_type": "stream",
     "text": [
      "IO class called.\n",
      "ARRIVAL_DTTM\n",
      "TRIAGE_ASSESSMENT_DTTM\n",
      "FIRSTDOC_FOR_TREATMENT_DTTM\n",
      "ADM_REQUEST_DTTM\n",
      "DEPARTURE_DTTM\n",
      "----------------------------------------\n",
      "Making callender columns from:  ARRIVAL_DTTM\n",
      "----------------------------------------\n",
      "Making callender columns from:  DEPARTURE_DTTM\n",
      "----------------------------------------\n",
      "saved file: ./simpleday/example_results/processed/ED.pkl\n",
      "Import completed.\n"
     ]
    }
   ],
   "source": [
    "sd.load_dataED(\"./SimpleED.csv\")"
   ]
  },
  {
   "cell_type": "code",
   "execution_count": 6,
   "metadata": {},
   "outputs": [
    {
     "name": "stdout",
     "output_type": "stream",
     "text": [
      "IO class called.\n",
      "ADM_DTTM\n",
      "DIS_DTTM\n",
      "LOCATION_START\n",
      "LOCATION_END\n",
      "----------------------------------------\n",
      "Making callender columns from:  ADM_DTTM\n",
      "----------------------------------------\n",
      "Making callender columns from:  DIS_DTTM\n",
      "----------------------------------------\n",
      "saved file: ./simpleday/example_results/processed/IP.pkl\n",
      "Import completed.\n"
     ]
    }
   ],
   "source": [
    "sd.load_dataIP(\"./SimpleIP.csv\")"
   ]
  },
  {
   "cell_type": "code",
   "execution_count": 7,
   "metadata": {},
   "outputs": [
    {
     "name": "stderr",
     "output_type": "stream",
     "text": [
      "C:\\Users\\bjk1y13\\OneDrive - University of Southampton\\MH030_HHFT_flow\\4_Analysis\\flosp\\flosp\\aggregation.py:272: SettingWithCopyWarning: \n",
      "A value is trying to be set on a copy of a slice from a DataFrame.\n",
      "Try using .loc[row_indexer,col_indexer] = value instead\n",
      "\n",
      "See the caveats in the documentation: http://pandas.pydata.org/pandas-docs/stable/indexing.html#indexing-view-versus-copy\n",
      "  df['event_column_name_rounded'] = df[event_column_name].apply(lambda x : x.replace(second=0, minute=0)) # round to lower hour\n"
     ]
    },
    {
     "name": "stdout",
     "output_type": "stream",
     "text": [
      "----------------------------------------\n",
      "Making callender columns from:  date\n",
      "----------------------------------------\n",
      "Making callender columns from:  date\n"
     ]
    }
   ],
   "source": [
    "sd.make_new_tables()"
   ]
  },
  {
   "cell_type": "code",
   "execution_count": null,
   "metadata": {},
   "outputs": [],
   "source": []
  },
  {
   "cell_type": "markdown",
   "metadata": {},
   "source": [
    "# Plotting trials"
   ]
  },
  {
   "cell_type": "code",
   "execution_count": 8,
   "metadata": {},
   "outputs": [
    {
     "data": {
      "text/html": [
       "<div>\n",
       "<style scoped>\n",
       "    .dataframe tbody tr th:only-of-type {\n",
       "        vertical-align: middle;\n",
       "    }\n",
       "\n",
       "    .dataframe tbody tr th {\n",
       "        vertical-align: top;\n",
       "    }\n",
       "\n",
       "    .dataframe thead th {\n",
       "        text-align: right;\n",
       "    }\n",
       "</style>\n",
       "<table border=\"1\" class=\"dataframe\">\n",
       "  <thead>\n",
       "    <tr style=\"text-align: right;\">\n",
       "      <th></th>\n",
       "      <th>plot_number</th>\n",
       "      <th>plot_name</th>\n",
       "      <th>plot_type</th>\n",
       "      <th>data_required</th>\n",
       "    </tr>\n",
       "  </thead>\n",
       "  <tbody>\n",
       "    <tr>\n",
       "      <th>0</th>\n",
       "      <td>1</td>\n",
       "      <td>ED attendance and admission numbers by year</td>\n",
       "      <td>hist</td>\n",
       "      <td>[ED]</td>\n",
       "    </tr>\n",
       "    <tr>\n",
       "      <th>1</th>\n",
       "      <td>2</td>\n",
       "      <td>ED attendance and admission numbers by year an...</td>\n",
       "      <td>hist</td>\n",
       "      <td>[ED]</td>\n",
       "    </tr>\n",
       "    <tr>\n",
       "      <th>4</th>\n",
       "      <td>5</td>\n",
       "      <td>Waiting time for admitted/non-admitted patient...</td>\n",
       "      <td>hist</td>\n",
       "      <td>[ED]</td>\n",
       "    </tr>\n",
       "    <tr>\n",
       "      <th>10</th>\n",
       "      <td>11</td>\n",
       "      <td>Types of admission by year</td>\n",
       "      <td>hist</td>\n",
       "      <td>[IP]</td>\n",
       "    </tr>\n",
       "    <tr>\n",
       "      <th>11</th>\n",
       "      <td>12</td>\n",
       "      <td>Admission by age group by year</td>\n",
       "      <td>hist</td>\n",
       "      <td>[IP]</td>\n",
       "    </tr>\n",
       "    <tr>\n",
       "      <th>12</th>\n",
       "      <td>13</td>\n",
       "      <td>Patient volume by type (table)</td>\n",
       "      <td>hist</td>\n",
       "      <td>[IP]</td>\n",
       "    </tr>\n",
       "    <tr>\n",
       "      <th>13</th>\n",
       "      <td>14</td>\n",
       "      <td>Emergency patient admission route numbers</td>\n",
       "      <td>hist</td>\n",
       "      <td>[IP]</td>\n",
       "    </tr>\n",
       "    <tr>\n",
       "      <th>18</th>\n",
       "      <td>19</td>\n",
       "      <td>Average ED occupancy by month</td>\n",
       "      <td>hist</td>\n",
       "      <td>[ED]</td>\n",
       "    </tr>\n",
       "    <tr>\n",
       "      <th>19</th>\n",
       "      <td>20</td>\n",
       "      <td>Average inpatient occupancy by month</td>\n",
       "      <td>hist</td>\n",
       "      <td>[IP]</td>\n",
       "    </tr>\n",
       "  </tbody>\n",
       "</table>\n",
       "</div>"
      ],
      "text/plain": [
       "    plot_number                                          plot_name plot_type  \\\n",
       "0             1        ED attendance and admission numbers by year      hist   \n",
       "1             2  ED attendance and admission numbers by year an...      hist   \n",
       "4             5  Waiting time for admitted/non-admitted patient...      hist   \n",
       "10           11                         Types of admission by year      hist   \n",
       "11           12                     Admission by age group by year      hist   \n",
       "12           13                     Patient volume by type (table)      hist   \n",
       "13           14          Emergency patient admission route numbers      hist   \n",
       "18           19                      Average ED occupancy by month      hist   \n",
       "19           20               Average inpatient occupancy by month      hist   \n",
       "\n",
       "   data_required  \n",
       "0           [ED]  \n",
       "1           [ED]  \n",
       "4           [ED]  \n",
       "10          [IP]  \n",
       "11          [IP]  \n",
       "12          [IP]  \n",
       "13          [IP]  \n",
       "18          [ED]  \n",
       "19          [IP]  "
      ]
     },
     "execution_count": 8,
     "metadata": {},
     "output_type": "execute_result"
    }
   ],
   "source": [
    "sd.metadata.PLOT_LIST.query('plot_type == \"hist\"')#.iloc[5]['plot_name']# = 10 #.values[0]"
   ]
  },
  {
   "cell_type": "code",
   "execution_count": 12,
   "metadata": {},
   "outputs": [
    {
     "name": "stdout",
     "output_type": "stream",
     "text": [
      "              ED admissions  ED attendances  conversion ratio  Day Case  \\\n",
      "ARRIVAL_year                                                              \n",
      "2018                     12              24              50.0         9   \n",
      "\n",
      "              Elective  Non-Elective  \n",
      "ARRIVAL_year                          \n",
      "2018                 6             9  \n"
     ]
    }
   ],
   "source": [
    "sd.plot_historical([2017,2018],[2017,2018],13)"
   ]
  },
  {
   "cell_type": "code",
   "execution_count": null,
   "metadata": {},
   "outputs": [],
   "source": []
  },
  {
   "cell_type": "code",
   "execution_count": 13,
   "metadata": {},
   "outputs": [],
   "source": [
    "occ = sd.data.DAILY"
   ]
  },
  {
   "cell_type": "code",
   "execution_count": 15,
   "metadata": {},
   "outputs": [
    {
     "data": {
      "text/plain": [
       "Index(['ED_arrivals', 'ED_departures', 'IP_admissions_excludingdaycases',\n",
       "       'IPocc_elec_nonelec_MEAN', 'IPocc_total_MEAN', 'IPocc_total_MAX',\n",
       "       'IPocc_elec_nonelec_MAX', 'EDocc_total_MAX',\n",
       "       'IPocc_excludingdaycases_MAX', 'IP_discharges_elec_nonelec_PRE12',\n",
       "       'date', 'date_hour', 'date_dayofweek', 'date_day', 'date_month',\n",
       "       'date_week', 'date_dayofweek_name', 'date_year', 'date_date',\n",
       "       'date_flag_wkend'],\n",
       "      dtype='object')"
      ]
     },
     "execution_count": 15,
     "metadata": {},
     "output_type": "execute_result"
    }
   ],
   "source": [
    "occ.columns"
   ]
  },
  {
   "cell_type": "code",
   "execution_count": 18,
   "metadata": {},
   "outputs": [
    {
     "data": {
      "text/plain": [
       "<matplotlib.legend.Legend at 0x1f0f593ac18>"
      ]
     },
     "execution_count": 18,
     "metadata": {},
     "output_type": "execute_result"
    },
    {
     "data": {
      "image/png": "[encoded data removed]",
      "text/plain": [
       "<matplotlib.figure.Figure at 0x1f0f586b080>"
      ]
     },
     "metadata": {},
     "output_type": "display_data"
    }
   ],
   "source": [
    "fig,ax = plt.subplots(figsize=(9,5),dpi=100)\n",
    "occ.groupby(['date_month','date_year']).median()['EDocc_total_MAX'].unstack().plot(kind='bar',ax=ax)\n",
    "#occBASd[['EDocc_tot','dt_month']].boxplot(by='dt_month',ax=ax);\n",
    "#ax.set_xticklabels(daysofweek);\n",
    "ax.set_xlabel('Month');\n",
    "ax.set_ylabel('Median peak daily ED occupancy');\n",
    "fig.suptitle('');\n",
    "#ax.set_title('ED occupancy');\n",
    "ax.legend(loc='lower right',frameon=True,title='Year')\n"
   ]
  },
  {
   "cell_type": "code",
   "execution_count": null,
   "metadata": {},
   "outputs": [],
   "source": []
  },
  {
   "cell_type": "code",
   "execution_count": null,
   "metadata": {},
   "outputs": [],
   "source": []
  },
  {
   "cell_type": "code",
   "execution_count": 9,
   "metadata": {},
   "outputs": [
    {
     "ename": "NameError",
     "evalue": "name 'pat' is not defined",
     "output_type": "error",
     "traceback": [
      "\u001b[1;31m---------------------------------------------------------------------------\u001b[0m",
      "\u001b[1;31mNameError\u001b[0m                                 Traceback (most recent call last)",
      "\u001b[1;32m<ipython-input-9-a3224316f822>\u001b[0m in \u001b[0;36m<module>\u001b[1;34m()\u001b[0m\n\u001b[1;32m----> 1\u001b[1;33m \u001b[0mpat\u001b[0m\u001b[1;33m.\u001b[0m\u001b[0mcolumns\u001b[0m\u001b[1;33m\u001b[0m\u001b[0m\n\u001b[0m",
      "\u001b[1;31mNameError\u001b[0m: name 'pat' is not defined"
     ]
    }
   ],
   "source": [
    "pat.columns"
   ]
  },
  {
   "cell_type": "code",
   "execution_count": null,
   "metadata": {},
   "outputs": [],
   "source": [
    "pat = sd.data.ED\n",
    "\n",
    "ax = plt.subplot()\n",
    "pat.groupby(['ARRIVAL_year','age_group']).count()['PSEUDONYMISED_PATIENT_ID'].unstack().plot(kind='bar',ax=ax);\n",
    "ax.set_ylabel('ED attendances (yearly)');\n",
    "ax.set_xlabel('year');\n",
    "#ax.set_xticks([2013,2014,2015,2016,2017]);\n",
    "ax.legend(title = 'age group',frameon=True,loc='lower right');\n"
   ]
  },
  {
   "cell_type": "code",
   "execution_count": null,
   "metadata": {},
   "outputs": [],
   "source": [
    "ax = plt.subplot()\n",
    "pat[pat.ADMISSION_FLAG == 1].groupby(['ARRIVAL_year','age_group']).count()['PSEUDONYMISED_PATIENT_ID'].unstack().plot(kind='bar',ax=ax);\n",
    "ax.set_ylabel('ED admissions (yearly)');\n",
    "ax.set_xlabel('year');\n",
    "ax.legend(title = 'age group',frameon=True,loc='lower right');\n"
   ]
  },
  {
   "cell_type": "code",
   "execution_count": 11,
   "metadata": {},
   "outputs": [
    {
     "data": {
      "text/plain": [
       "Index(['ED_arrivals', 'ED_departures', 'IP_admissions_total',\n",
       "       'IP_admissions_excludingdaycases', 'IP_admissions_elec',\n",
       "       'IP_admissions_elec_nonelec', 'IP_admissions_nonelec',\n",
       "       'IP_discharges_total', 'IP_discharges_nonelec', 'IP_discharges_elec',\n",
       "       'IP_discharges_elec_nonelec', 'EDocc_total', 'EDocc_breaching_patients',\n",
       "       'EDocc_awaiting_adm', 'IPocc_total', 'IPocc_elec', 'IPocc_elec_nonelec',\n",
       "       'IPocc_excludingdaycases', 'IPocc_daycases',\n",
       "       'IPadm_minus_dis_elec_nonelec', 'date', 'date_hour', 'date_dayofweek',\n",
       "       'date_day', 'date_month', 'date_week', 'date_dayofweek_name',\n",
       "       'date_year', 'date_date', 'date_flag_wkend'],\n",
       "      dtype='object')"
      ]
     },
     "execution_count": 11,
     "metadata": {},
     "output_type": "execute_result"
    }
   ],
   "source": [
    "sd.data.HOURLY.columns"
   ]
  },
  {
   "cell_type": "code",
   "execution_count": 12,
   "metadata": {},
   "outputs": [
    {
     "data": {
      "text/plain": [
       "Index(['ED_arrivals', 'ED_departures', 'IP_admissions_total',\n",
       "       'IP_admissions_excludingdaycases', 'IP_admissions_elec',\n",
       "       'IP_admissions_elec_nonelec', 'IP_admissions_nonelec',\n",
       "       'IP_discharges_total', 'IP_discharges_nonelec', 'IP_discharges_elec',\n",
       "       'IP_discharges_elec_nonelec', 'EDocc_total', 'EDocc_breaching_patients',\n",
       "       'EDocc_awaiting_adm', 'IPocc_total', 'IPocc_elec', 'IPocc_elec_nonelec',\n",
       "       'IPocc_excludingdaycases', 'IPocc_daycases',\n",
       "       'IPadm_minus_dis_elec_nonelec', 'date', 'date_hour', 'date_dayofweek',\n",
       "       'date_day', 'date_month', 'date_week', 'date_dayofweek_name',\n",
       "       'date_year', 'date_date', 'date_flag_wkend'],\n",
       "      dtype='object')"
      ]
     },
     "execution_count": 12,
     "metadata": {},
     "output_type": "execute_result"
    }
   ],
   "source": [
    "occ.columns"
   ]
  },
  {
   "cell_type": "code",
   "execution_count": 20,
   "metadata": {},
   "outputs": [
    {
     "data": {
      "text/plain": [
       "<matplotlib.legend.Legend at 0x1f653162fd0>"
      ]
     },
     "execution_count": 20,
     "metadata": {},
     "output_type": "execute_result"
    },
    {
     "data": {
      "image/png": "[encoded data removed]",
      "text/plain": [
       "<matplotlib.figure.Figure at 0x1f652f70a58>"
      ]
     },
     "metadata": {},
     "output_type": "display_data"
    }
   ],
   "source": [
    "# ax = plt.subplot()\n",
    "fig, ax = plt.subplots()\n",
    "width= 0.2\n",
    "\n",
    "yearly['ED attendances'].plot.bar(ax=ax,position=1,width=width,color='xkcd:blue',figsize=(6,4))\n",
    "ax2 = ax.twinx()\n",
    "yearly['ED admissions'].plot.bar(ax=ax2,position=0,width=width,color='xkcd:red')\n",
    "ax2.grid(False);\n",
    "\n",
    "ax.set_ylabel('attendances');\n",
    "ax2.set_ylabel('admissions');\n",
    "ax.set_xlabel('')\n",
    "## sort legend\n",
    "#lns = lns1+lns2\n",
    "#labs = ['attendances','admissions']\n",
    "\n",
    "lines, labels = ax.get_legend_handles_labels()\n",
    "lines2, labels2 = ax2.get_legend_handles_labels()\n",
    "ax2.legend(lines + lines2, labels + labels2, loc='lower right',frameon=True)\n",
    "\n",
    "#ax.legend(lns, labs, loc=0)\n",
    "#ax.legend(labs,frameon=True);\n"
   ]
  },
  {
   "cell_type": "code",
   "execution_count": null,
   "metadata": {},
   "outputs": [],
   "source": [
    "ARRIVAL_DTTM\n",
    "DEPARTURE_DTTM"
   ]
  },
  {
   "cell_type": "code",
   "execution_count": 20,
   "metadata": {},
   "outputs": [
    {
     "data": {
      "text/plain": [
       "Index(['ADMISSION_FLAG', 'ADM_REQUEST_DTTM', 'ADM_REQUEST_LOC_DESCRIPTION',\n",
       "       'AGE_AT_ARRIVAL', 'ARRIVAL_DTTM', 'ARRIVAL_MODE_NATIONAL_CODE',\n",
       "       'DEPARTURE_DTTM', 'FIRSTDOC_FOR_TREATMENT_DTTM',\n",
       "       'GENDER_NATIONAL_DESCRIPTION', 'PSEUDONYMISED_PATIENT_ID', 'SITE',\n",
       "       'STREAM_LOCAL_CODE', 'TRIAGE_ASSESSMENT_DTTM', 'ARRIVAL_hour',\n",
       "       'ARRIVAL_dayofweek', 'ARRIVAL_day', 'ARRIVAL_month', 'ARRIVAL_week',\n",
       "       'ARRIVAL_dayofweek_name', 'ARRIVAL_year', 'ARRIVAL_date',\n",
       "       'ARRIVAL_flag_wkend', 'DEPARTURE_hour', 'DEPARTURE_dayofweek',\n",
       "       'DEPARTURE_day', 'DEPARTURE_month', 'DEPARTURE_week',\n",
       "       'DEPARTURE_dayofweek_name', 'DEPARTURE_year', 'DEPARTURE_date',\n",
       "       'DEPARTURE_flag_wkend', 'age_group', 'waiting_time', 'arr_triage_wait',\n",
       "       'arr_dr_wait', 'arr_adm_req_wait', 'adm_req_dep_wait',\n",
       "       'dr_adm_req_wait', 'dr_dep_wait', 'BREACH_FLAG', 'breach_datetime',\n",
       "       'event_column_name_rounded'],\n",
       "      dtype='object')"
      ]
     },
     "execution_count": 20,
     "metadata": {},
     "output_type": "execute_result"
    }
   ],
   "source": [
    "sd.data.ED.columns"
   ]
  },
  {
   "cell_type": "code",
   "execution_count": 24,
   "metadata": {},
   "outputs": [],
   "source": [
    "years = [2014,2015,2018]"
   ]
  },
  {
   "cell_type": "code",
   "execution_count": 29,
   "metadata": {},
   "outputs": [
    {
     "data": {
      "text/plain": [
       "'[2014, 2015, 2018]'"
      ]
     },
     "execution_count": 29,
     "metadata": {},
     "output_type": "execute_result"
    }
   ],
   "source": [
    "str(years)"
   ]
  },
  {
   "cell_type": "code",
   "execution_count": 28,
   "metadata": {},
   "outputs": [
    {
     "data": {
      "text/html": [
       "<div>\n",
       "<style scoped>\n",
       "    .dataframe tbody tr th:only-of-type {\n",
       "        vertical-align: middle;\n",
       "    }\n",
       "\n",
       "    .dataframe tbody tr th {\n",
       "        vertical-align: top;\n",
       "    }\n",
       "\n",
       "    .dataframe thead th {\n",
       "        text-align: right;\n",
       "    }\n",
       "</style>\n",
       "<table border=\"1\" class=\"dataframe\">\n",
       "  <thead>\n",
       "    <tr style=\"text-align: right;\">\n",
       "      <th></th>\n",
       "      <th>ADMISSION_FLAG</th>\n",
       "      <th>ADM_REQUEST_DTTM</th>\n",
       "      <th>ADM_REQUEST_LOC_DESCRIPTION</th>\n",
       "      <th>AGE_AT_ARRIVAL</th>\n",
       "      <th>ARRIVAL_DTTM</th>\n",
       "      <th>ARRIVAL_MODE_NATIONAL_CODE</th>\n",
       "      <th>DEPARTURE_DTTM</th>\n",
       "      <th>FIRSTDOC_FOR_TREATMENT_DTTM</th>\n",
       "      <th>GENDER_NATIONAL_DESCRIPTION</th>\n",
       "      <th>PSEUDONYMISED_PATIENT_ID</th>\n",
       "      <th>...</th>\n",
       "      <th>waiting_time</th>\n",
       "      <th>arr_triage_wait</th>\n",
       "      <th>arr_dr_wait</th>\n",
       "      <th>arr_adm_req_wait</th>\n",
       "      <th>adm_req_dep_wait</th>\n",
       "      <th>dr_adm_req_wait</th>\n",
       "      <th>dr_dep_wait</th>\n",
       "      <th>BREACH_FLAG</th>\n",
       "      <th>breach_datetime</th>\n",
       "      <th>event_column_name_rounded</th>\n",
       "    </tr>\n",
       "  </thead>\n",
       "  <tbody>\n",
       "    <tr>\n",
       "      <th>0</th>\n",
       "      <td>0</td>\n",
       "      <td>NaT</td>\n",
       "      <td>NaN</td>\n",
       "      <td>65</td>\n",
       "      <td>2018-01-01 00:05:00</td>\n",
       "      <td>1</td>\n",
       "      <td>2018-01-01 01:05:00</td>\n",
       "      <td>2018-01-01 00:15:00</td>\n",
       "      <td>1</td>\n",
       "      <td>0</td>\n",
       "      <td>...</td>\n",
       "      <td>60.0</td>\n",
       "      <td>10.0</td>\n",
       "      <td>10.0</td>\n",
       "      <td>NaN</td>\n",
       "      <td>NaN</td>\n",
       "      <td>NaN</td>\n",
       "      <td>50.0</td>\n",
       "      <td>0</td>\n",
       "      <td>2018-01-01 04:05:00</td>\n",
       "      <td>2018-01-01 01:00:00</td>\n",
       "    </tr>\n",
       "    <tr>\n",
       "      <th>1</th>\n",
       "      <td>0</td>\n",
       "      <td>NaT</td>\n",
       "      <td>NaN</td>\n",
       "      <td>86</td>\n",
       "      <td>2018-01-01 01:05:00</td>\n",
       "      <td>1</td>\n",
       "      <td>2018-01-01 02:05:00</td>\n",
       "      <td>2018-01-01 01:15:00</td>\n",
       "      <td>1</td>\n",
       "      <td>1</td>\n",
       "      <td>...</td>\n",
       "      <td>60.0</td>\n",
       "      <td>10.0</td>\n",
       "      <td>10.0</td>\n",
       "      <td>NaN</td>\n",
       "      <td>NaN</td>\n",
       "      <td>NaN</td>\n",
       "      <td>50.0</td>\n",
       "      <td>0</td>\n",
       "      <td>2018-01-01 05:05:00</td>\n",
       "      <td>2018-01-01 02:00:00</td>\n",
       "    </tr>\n",
       "    <tr>\n",
       "      <th>2</th>\n",
       "      <td>0</td>\n",
       "      <td>NaT</td>\n",
       "      <td>NaN</td>\n",
       "      <td>43</td>\n",
       "      <td>2018-01-01 02:05:00</td>\n",
       "      <td>1</td>\n",
       "      <td>2018-01-01 03:05:00</td>\n",
       "      <td>2018-01-01 02:15:00</td>\n",
       "      <td>1</td>\n",
       "      <td>2</td>\n",
       "      <td>...</td>\n",
       "      <td>60.0</td>\n",
       "      <td>10.0</td>\n",
       "      <td>10.0</td>\n",
       "      <td>NaN</td>\n",
       "      <td>NaN</td>\n",
       "      <td>NaN</td>\n",
       "      <td>50.0</td>\n",
       "      <td>0</td>\n",
       "      <td>2018-01-01 06:05:00</td>\n",
       "      <td>2018-01-01 03:00:00</td>\n",
       "    </tr>\n",
       "    <tr>\n",
       "      <th>3</th>\n",
       "      <td>0</td>\n",
       "      <td>NaT</td>\n",
       "      <td>NaN</td>\n",
       "      <td>85</td>\n",
       "      <td>2018-01-01 03:05:00</td>\n",
       "      <td>1</td>\n",
       "      <td>2018-01-01 04:05:00</td>\n",
       "      <td>2018-01-01 03:15:00</td>\n",
       "      <td>1</td>\n",
       "      <td>3</td>\n",
       "      <td>...</td>\n",
       "      <td>60.0</td>\n",
       "      <td>10.0</td>\n",
       "      <td>10.0</td>\n",
       "      <td>NaN</td>\n",
       "      <td>NaN</td>\n",
       "      <td>NaN</td>\n",
       "      <td>50.0</td>\n",
       "      <td>0</td>\n",
       "      <td>2018-01-01 07:05:00</td>\n",
       "      <td>2018-01-01 04:00:00</td>\n",
       "    </tr>\n",
       "    <tr>\n",
       "      <th>4</th>\n",
       "      <td>0</td>\n",
       "      <td>NaT</td>\n",
       "      <td>NaN</td>\n",
       "      <td>41</td>\n",
       "      <td>2018-01-01 04:05:00</td>\n",
       "      <td>1</td>\n",
       "      <td>2018-01-01 05:05:00</td>\n",
       "      <td>2018-01-01 04:15:00</td>\n",
       "      <td>1</td>\n",
       "      <td>4</td>\n",
       "      <td>...</td>\n",
       "      <td>60.0</td>\n",
       "      <td>10.0</td>\n",
       "      <td>10.0</td>\n",
       "      <td>NaN</td>\n",
       "      <td>NaN</td>\n",
       "      <td>NaN</td>\n",
       "      <td>50.0</td>\n",
       "      <td>0</td>\n",
       "      <td>2018-01-01 08:05:00</td>\n",
       "      <td>2018-01-01 05:00:00</td>\n",
       "    </tr>\n",
       "    <tr>\n",
       "      <th>5</th>\n",
       "      <td>0</td>\n",
       "      <td>NaT</td>\n",
       "      <td>NaN</td>\n",
       "      <td>75</td>\n",
       "      <td>2018-01-01 05:05:00</td>\n",
       "      <td>1</td>\n",
       "      <td>2018-01-01 06:05:00</td>\n",
       "      <td>2018-01-01 05:15:00</td>\n",
       "      <td>1</td>\n",
       "      <td>5</td>\n",
       "      <td>...</td>\n",
       "      <td>60.0</td>\n",
       "      <td>10.0</td>\n",
       "      <td>10.0</td>\n",
       "      <td>NaN</td>\n",
       "      <td>NaN</td>\n",
       "      <td>NaN</td>\n",
       "      <td>50.0</td>\n",
       "      <td>0</td>\n",
       "      <td>2018-01-01 09:05:00</td>\n",
       "      <td>2018-01-01 06:00:00</td>\n",
       "    </tr>\n",
       "    <tr>\n",
       "      <th>6</th>\n",
       "      <td>0</td>\n",
       "      <td>NaT</td>\n",
       "      <td>NaN</td>\n",
       "      <td>32</td>\n",
       "      <td>2018-01-01 06:05:00</td>\n",
       "      <td>1</td>\n",
       "      <td>2018-01-01 07:05:00</td>\n",
       "      <td>2018-01-01 06:15:00</td>\n",
       "      <td>1</td>\n",
       "      <td>6</td>\n",
       "      <td>...</td>\n",
       "      <td>60.0</td>\n",
       "      <td>10.0</td>\n",
       "      <td>10.0</td>\n",
       "      <td>NaN</td>\n",
       "      <td>NaN</td>\n",
       "      <td>NaN</td>\n",
       "      <td>50.0</td>\n",
       "      <td>0</td>\n",
       "      <td>2018-01-01 10:05:00</td>\n",
       "      <td>2018-01-01 07:00:00</td>\n",
       "    </tr>\n",
       "    <tr>\n",
       "      <th>7</th>\n",
       "      <td>0</td>\n",
       "      <td>NaT</td>\n",
       "      <td>NaN</td>\n",
       "      <td>41</td>\n",
       "      <td>2018-01-01 07:05:00</td>\n",
       "      <td>1</td>\n",
       "      <td>2018-01-01 08:05:00</td>\n",
       "      <td>2018-01-01 07:15:00</td>\n",
       "      <td>1</td>\n",
       "      <td>7</td>\n",
       "      <td>...</td>\n",
       "      <td>60.0</td>\n",
       "      <td>10.0</td>\n",
       "      <td>10.0</td>\n",
       "      <td>NaN</td>\n",
       "      <td>NaN</td>\n",
       "      <td>NaN</td>\n",
       "      <td>50.0</td>\n",
       "      <td>0</td>\n",
       "      <td>2018-01-01 11:05:00</td>\n",
       "      <td>2018-01-01 08:00:00</td>\n",
       "    </tr>\n",
       "    <tr>\n",
       "      <th>8</th>\n",
       "      <td>0</td>\n",
       "      <td>NaT</td>\n",
       "      <td>NaN</td>\n",
       "      <td>90</td>\n",
       "      <td>2018-01-01 08:05:00</td>\n",
       "      <td>1</td>\n",
       "      <td>2018-01-01 09:05:00</td>\n",
       "      <td>2018-01-01 08:15:00</td>\n",
       "      <td>1</td>\n",
       "      <td>8</td>\n",
       "      <td>...</td>\n",
       "      <td>60.0</td>\n",
       "      <td>10.0</td>\n",
       "      <td>10.0</td>\n",
       "      <td>NaN</td>\n",
       "      <td>NaN</td>\n",
       "      <td>NaN</td>\n",
       "      <td>50.0</td>\n",
       "      <td>0</td>\n",
       "      <td>2018-01-01 12:05:00</td>\n",
       "      <td>2018-01-01 09:00:00</td>\n",
       "    </tr>\n",
       "    <tr>\n",
       "      <th>9</th>\n",
       "      <td>0</td>\n",
       "      <td>NaT</td>\n",
       "      <td>NaN</td>\n",
       "      <td>60</td>\n",
       "      <td>2018-01-01 09:05:00</td>\n",
       "      <td>1</td>\n",
       "      <td>2018-01-01 10:05:00</td>\n",
       "      <td>2018-01-01 09:15:00</td>\n",
       "      <td>1</td>\n",
       "      <td>9</td>\n",
       "      <td>...</td>\n",
       "      <td>60.0</td>\n",
       "      <td>10.0</td>\n",
       "      <td>10.0</td>\n",
       "      <td>NaN</td>\n",
       "      <td>NaN</td>\n",
       "      <td>NaN</td>\n",
       "      <td>50.0</td>\n",
       "      <td>0</td>\n",
       "      <td>2018-01-01 13:05:00</td>\n",
       "      <td>2018-01-01 10:00:00</td>\n",
       "    </tr>\n",
       "    <tr>\n",
       "      <th>10</th>\n",
       "      <td>0</td>\n",
       "      <td>NaT</td>\n",
       "      <td>NaN</td>\n",
       "      <td>26</td>\n",
       "      <td>2018-01-01 10:05:00</td>\n",
       "      <td>1</td>\n",
       "      <td>2018-01-01 11:05:00</td>\n",
       "      <td>2018-01-01 10:15:00</td>\n",
       "      <td>1</td>\n",
       "      <td>10</td>\n",
       "      <td>...</td>\n",
       "      <td>60.0</td>\n",
       "      <td>10.0</td>\n",
       "      <td>10.0</td>\n",
       "      <td>NaN</td>\n",
       "      <td>NaN</td>\n",
       "      <td>NaN</td>\n",
       "      <td>50.0</td>\n",
       "      <td>0</td>\n",
       "      <td>2018-01-01 14:05:00</td>\n",
       "      <td>2018-01-01 11:00:00</td>\n",
       "    </tr>\n",
       "    <tr>\n",
       "      <th>11</th>\n",
       "      <td>0</td>\n",
       "      <td>NaT</td>\n",
       "      <td>NaN</td>\n",
       "      <td>57</td>\n",
       "      <td>2018-01-01 11:05:00</td>\n",
       "      <td>1</td>\n",
       "      <td>2018-01-01 12:05:00</td>\n",
       "      <td>2018-01-01 11:15:00</td>\n",
       "      <td>1</td>\n",
       "      <td>11</td>\n",
       "      <td>...</td>\n",
       "      <td>60.0</td>\n",
       "      <td>10.0</td>\n",
       "      <td>10.0</td>\n",
       "      <td>NaN</td>\n",
       "      <td>NaN</td>\n",
       "      <td>NaN</td>\n",
       "      <td>50.0</td>\n",
       "      <td>0</td>\n",
       "      <td>2018-01-01 15:05:00</td>\n",
       "      <td>2018-01-01 12:00:00</td>\n",
       "    </tr>\n",
       "    <tr>\n",
       "      <th>12</th>\n",
       "      <td>1</td>\n",
       "      <td>2018-01-01 12:50:00</td>\n",
       "      <td>inpatient</td>\n",
       "      <td>86</td>\n",
       "      <td>2018-01-01 12:05:00</td>\n",
       "      <td>1</td>\n",
       "      <td>2018-01-01 13:05:00</td>\n",
       "      <td>2018-01-01 12:15:00</td>\n",
       "      <td>1</td>\n",
       "      <td>12</td>\n",
       "      <td>...</td>\n",
       "      <td>60.0</td>\n",
       "      <td>10.0</td>\n",
       "      <td>10.0</td>\n",
       "      <td>45.0</td>\n",
       "      <td>15.0</td>\n",
       "      <td>35.0</td>\n",
       "      <td>50.0</td>\n",
       "      <td>0</td>\n",
       "      <td>2018-01-01 16:05:00</td>\n",
       "      <td>2018-01-01 13:00:00</td>\n",
       "    </tr>\n",
       "    <tr>\n",
       "      <th>13</th>\n",
       "      <td>1</td>\n",
       "      <td>2018-01-01 13:50:00</td>\n",
       "      <td>inpatient</td>\n",
       "      <td>66</td>\n",
       "      <td>2018-01-01 13:05:00</td>\n",
       "      <td>1</td>\n",
       "      <td>2018-01-01 14:05:00</td>\n",
       "      <td>2018-01-01 13:15:00</td>\n",
       "      <td>1</td>\n",
       "      <td>13</td>\n",
       "      <td>...</td>\n",
       "      <td>60.0</td>\n",
       "      <td>10.0</td>\n",
       "      <td>10.0</td>\n",
       "      <td>45.0</td>\n",
       "      <td>15.0</td>\n",
       "      <td>35.0</td>\n",
       "      <td>50.0</td>\n",
       "      <td>0</td>\n",
       "      <td>2018-01-01 17:05:00</td>\n",
       "      <td>2018-01-01 14:00:00</td>\n",
       "    </tr>\n",
       "    <tr>\n",
       "      <th>14</th>\n",
       "      <td>1</td>\n",
       "      <td>2018-01-01 14:50:00</td>\n",
       "      <td>inpatient</td>\n",
       "      <td>25</td>\n",
       "      <td>2018-01-01 14:05:00</td>\n",
       "      <td>1</td>\n",
       "      <td>2018-01-01 15:05:00</td>\n",
       "      <td>2018-01-01 14:15:00</td>\n",
       "      <td>1</td>\n",
       "      <td>14</td>\n",
       "      <td>...</td>\n",
       "      <td>60.0</td>\n",
       "      <td>10.0</td>\n",
       "      <td>10.0</td>\n",
       "      <td>45.0</td>\n",
       "      <td>15.0</td>\n",
       "      <td>35.0</td>\n",
       "      <td>50.0</td>\n",
       "      <td>0</td>\n",
       "      <td>2018-01-01 18:05:00</td>\n",
       "      <td>2018-01-01 15:00:00</td>\n",
       "    </tr>\n",
       "    <tr>\n",
       "      <th>15</th>\n",
       "      <td>1</td>\n",
       "      <td>2018-01-01 15:50:00</td>\n",
       "      <td>inpatient</td>\n",
       "      <td>62</td>\n",
       "      <td>2018-01-01 15:05:00</td>\n",
       "      <td>1</td>\n",
       "      <td>2018-01-01 16:05:00</td>\n",
       "      <td>2018-01-01 15:15:00</td>\n",
       "      <td>1</td>\n",
       "      <td>15</td>\n",
       "      <td>...</td>\n",
       "      <td>60.0</td>\n",
       "      <td>10.0</td>\n",
       "      <td>10.0</td>\n",
       "      <td>45.0</td>\n",
       "      <td>15.0</td>\n",
       "      <td>35.0</td>\n",
       "      <td>50.0</td>\n",
       "      <td>0</td>\n",
       "      <td>2018-01-01 19:05:00</td>\n",
       "      <td>2018-01-01 16:00:00</td>\n",
       "    </tr>\n",
       "    <tr>\n",
       "      <th>16</th>\n",
       "      <td>1</td>\n",
       "      <td>2018-01-01 16:50:00</td>\n",
       "      <td>inpatient</td>\n",
       "      <td>18</td>\n",
       "      <td>2018-01-01 16:05:00</td>\n",
       "      <td>1</td>\n",
       "      <td>2018-01-01 17:05:00</td>\n",
       "      <td>2018-01-01 16:15:00</td>\n",
       "      <td>1</td>\n",
       "      <td>16</td>\n",
       "      <td>...</td>\n",
       "      <td>60.0</td>\n",
       "      <td>10.0</td>\n",
       "      <td>10.0</td>\n",
       "      <td>45.0</td>\n",
       "      <td>15.0</td>\n",
       "      <td>35.0</td>\n",
       "      <td>50.0</td>\n",
       "      <td>0</td>\n",
       "      <td>2018-01-01 20:05:00</td>\n",
       "      <td>2018-01-01 17:00:00</td>\n",
       "    </tr>\n",
       "    <tr>\n",
       "      <th>17</th>\n",
       "      <td>1</td>\n",
       "      <td>2018-01-01 17:50:00</td>\n",
       "      <td>inpatient</td>\n",
       "      <td>93</td>\n",
       "      <td>2018-01-01 17:05:00</td>\n",
       "      <td>1</td>\n",
       "      <td>2018-01-01 18:05:00</td>\n",
       "      <td>2018-01-01 17:15:00</td>\n",
       "      <td>1</td>\n",
       "      <td>17</td>\n",
       "      <td>...</td>\n",
       "      <td>60.0</td>\n",
       "      <td>10.0</td>\n",
       "      <td>10.0</td>\n",
       "      <td>45.0</td>\n",
       "      <td>15.0</td>\n",
       "      <td>35.0</td>\n",
       "      <td>50.0</td>\n",
       "      <td>0</td>\n",
       "      <td>2018-01-01 21:05:00</td>\n",
       "      <td>2018-01-01 18:00:00</td>\n",
       "    </tr>\n",
       "    <tr>\n",
       "      <th>18</th>\n",
       "      <td>1</td>\n",
       "      <td>2018-01-01 18:50:00</td>\n",
       "      <td>inpatient</td>\n",
       "      <td>73</td>\n",
       "      <td>2018-01-01 18:05:00</td>\n",
       "      <td>1</td>\n",
       "      <td>2018-01-01 19:05:00</td>\n",
       "      <td>2018-01-01 18:15:00</td>\n",
       "      <td>1</td>\n",
       "      <td>18</td>\n",
       "      <td>...</td>\n",
       "      <td>60.0</td>\n",
       "      <td>10.0</td>\n",
       "      <td>10.0</td>\n",
       "      <td>45.0</td>\n",
       "      <td>15.0</td>\n",
       "      <td>35.0</td>\n",
       "      <td>50.0</td>\n",
       "      <td>0</td>\n",
       "      <td>2018-01-01 22:05:00</td>\n",
       "      <td>2018-01-01 19:00:00</td>\n",
       "    </tr>\n",
       "    <tr>\n",
       "      <th>19</th>\n",
       "      <td>1</td>\n",
       "      <td>2018-01-01 19:50:00</td>\n",
       "      <td>inpatient</td>\n",
       "      <td>24</td>\n",
       "      <td>2018-01-01 19:05:00</td>\n",
       "      <td>1</td>\n",
       "      <td>2018-01-01 20:05:00</td>\n",
       "      <td>2018-01-01 19:15:00</td>\n",
       "      <td>1</td>\n",
       "      <td>19</td>\n",
       "      <td>...</td>\n",
       "      <td>60.0</td>\n",
       "      <td>10.0</td>\n",
       "      <td>10.0</td>\n",
       "      <td>45.0</td>\n",
       "      <td>15.0</td>\n",
       "      <td>35.0</td>\n",
       "      <td>50.0</td>\n",
       "      <td>0</td>\n",
       "      <td>2018-01-01 23:05:00</td>\n",
       "      <td>2018-01-01 20:00:00</td>\n",
       "    </tr>\n",
       "    <tr>\n",
       "      <th>20</th>\n",
       "      <td>1</td>\n",
       "      <td>2018-01-01 20:50:00</td>\n",
       "      <td>inpatient</td>\n",
       "      <td>37</td>\n",
       "      <td>2018-01-01 20:05:00</td>\n",
       "      <td>1</td>\n",
       "      <td>2018-01-01 21:05:00</td>\n",
       "      <td>2018-01-01 20:15:00</td>\n",
       "      <td>1</td>\n",
       "      <td>20</td>\n",
       "      <td>...</td>\n",
       "      <td>60.0</td>\n",
       "      <td>10.0</td>\n",
       "      <td>10.0</td>\n",
       "      <td>45.0</td>\n",
       "      <td>15.0</td>\n",
       "      <td>35.0</td>\n",
       "      <td>50.0</td>\n",
       "      <td>0</td>\n",
       "      <td>2018-01-02 00:05:00</td>\n",
       "      <td>2018-01-01 21:00:00</td>\n",
       "    </tr>\n",
       "    <tr>\n",
       "      <th>21</th>\n",
       "      <td>1</td>\n",
       "      <td>2018-01-01 21:50:00</td>\n",
       "      <td>inpatient</td>\n",
       "      <td>78</td>\n",
       "      <td>2018-01-01 21:05:00</td>\n",
       "      <td>1</td>\n",
       "      <td>2018-01-01 22:05:00</td>\n",
       "      <td>2018-01-01 21:15:00</td>\n",
       "      <td>1</td>\n",
       "      <td>21</td>\n",
       "      <td>...</td>\n",
       "      <td>60.0</td>\n",
       "      <td>10.0</td>\n",
       "      <td>10.0</td>\n",
       "      <td>45.0</td>\n",
       "      <td>15.0</td>\n",
       "      <td>35.0</td>\n",
       "      <td>50.0</td>\n",
       "      <td>0</td>\n",
       "      <td>2018-01-02 01:05:00</td>\n",
       "      <td>2018-01-01 22:00:00</td>\n",
       "    </tr>\n",
       "    <tr>\n",
       "      <th>22</th>\n",
       "      <td>1</td>\n",
       "      <td>2018-01-01 22:50:00</td>\n",
       "      <td>inpatient</td>\n",
       "      <td>62</td>\n",
       "      <td>2018-01-01 22:05:00</td>\n",
       "      <td>1</td>\n",
       "      <td>2018-01-01 23:05:00</td>\n",
       "      <td>2018-01-01 22:15:00</td>\n",
       "      <td>1</td>\n",
       "      <td>22</td>\n",
       "      <td>...</td>\n",
       "      <td>60.0</td>\n",
       "      <td>10.0</td>\n",
       "      <td>10.0</td>\n",
       "      <td>45.0</td>\n",
       "      <td>15.0</td>\n",
       "      <td>35.0</td>\n",
       "      <td>50.0</td>\n",
       "      <td>0</td>\n",
       "      <td>2018-01-02 02:05:00</td>\n",
       "      <td>2018-01-01 23:00:00</td>\n",
       "    </tr>\n",
       "    <tr>\n",
       "      <th>23</th>\n",
       "      <td>1</td>\n",
       "      <td>2018-01-01 23:50:00</td>\n",
       "      <td>inpatient</td>\n",
       "      <td>81</td>\n",
       "      <td>2018-01-01 23:05:00</td>\n",
       "      <td>1</td>\n",
       "      <td>2018-01-02 00:05:00</td>\n",
       "      <td>2018-01-01 23:15:00</td>\n",
       "      <td>1</td>\n",
       "      <td>23</td>\n",
       "      <td>...</td>\n",
       "      <td>60.0</td>\n",
       "      <td>10.0</td>\n",
       "      <td>10.0</td>\n",
       "      <td>45.0</td>\n",
       "      <td>15.0</td>\n",
       "      <td>35.0</td>\n",
       "      <td>50.0</td>\n",
       "      <td>0</td>\n",
       "      <td>2018-01-02 03:05:00</td>\n",
       "      <td>2018-01-02 00:00:00</td>\n",
       "    </tr>\n",
       "  </tbody>\n",
       "</table>\n",
       "<p>24 rows × 42 columns</p>\n",
       "</div>"
      ],
      "text/plain": [
       "    ADMISSION_FLAG    ADM_REQUEST_DTTM ADM_REQUEST_LOC_DESCRIPTION  \\\n",
       "0                0                 NaT                         NaN   \n",
       "1                0                 NaT                         NaN   \n",
       "2                0                 NaT                         NaN   \n",
       "3                0                 NaT                         NaN   \n",
       "4                0                 NaT                         NaN   \n",
       "5                0                 NaT                         NaN   \n",
       "6                0                 NaT                         NaN   \n",
       "7                0                 NaT                         NaN   \n",
       "8                0                 NaT                         NaN   \n",
       "9                0                 NaT                         NaN   \n",
       "10               0                 NaT                         NaN   \n",
       "11               0                 NaT                         NaN   \n",
       "12               1 2018-01-01 12:50:00                   inpatient   \n",
       "13               1 2018-01-01 13:50:00                   inpatient   \n",
       "14               1 2018-01-01 14:50:00                   inpatient   \n",
       "15               1 2018-01-01 15:50:00                   inpatient   \n",
       "16               1 2018-01-01 16:50:00                   inpatient   \n",
       "17               1 2018-01-01 17:50:00                   inpatient   \n",
       "18               1 2018-01-01 18:50:00                   inpatient   \n",
       "19               1 2018-01-01 19:50:00                   inpatient   \n",
       "20               1 2018-01-01 20:50:00                   inpatient   \n",
       "21               1 2018-01-01 21:50:00                   inpatient   \n",
       "22               1 2018-01-01 22:50:00                   inpatient   \n",
       "23               1 2018-01-01 23:50:00                   inpatient   \n",
       "\n",
       "    AGE_AT_ARRIVAL        ARRIVAL_DTTM ARRIVAL_MODE_NATIONAL_CODE  \\\n",
       "0               65 2018-01-01 00:05:00                          1   \n",
       "1               86 2018-01-01 01:05:00                          1   \n",
       "2               43 2018-01-01 02:05:00                          1   \n",
       "3               85 2018-01-01 03:05:00                          1   \n",
       "4               41 2018-01-01 04:05:00                          1   \n",
       "5               75 2018-01-01 05:05:00                          1   \n",
       "6               32 2018-01-01 06:05:00                          1   \n",
       "7               41 2018-01-01 07:05:00                          1   \n",
       "8               90 2018-01-01 08:05:00                          1   \n",
       "9               60 2018-01-01 09:05:00                          1   \n",
       "10              26 2018-01-01 10:05:00                          1   \n",
       "11              57 2018-01-01 11:05:00                          1   \n",
       "12              86 2018-01-01 12:05:00                          1   \n",
       "13              66 2018-01-01 13:05:00                          1   \n",
       "14              25 2018-01-01 14:05:00                          1   \n",
       "15              62 2018-01-01 15:05:00                          1   \n",
       "16              18 2018-01-01 16:05:00                          1   \n",
       "17              93 2018-01-01 17:05:00                          1   \n",
       "18              73 2018-01-01 18:05:00                          1   \n",
       "19              24 2018-01-01 19:05:00                          1   \n",
       "20              37 2018-01-01 20:05:00                          1   \n",
       "21              78 2018-01-01 21:05:00                          1   \n",
       "22              62 2018-01-01 22:05:00                          1   \n",
       "23              81 2018-01-01 23:05:00                          1   \n",
       "\n",
       "        DEPARTURE_DTTM FIRSTDOC_FOR_TREATMENT_DTTM  \\\n",
       "0  2018-01-01 01:05:00         2018-01-01 00:15:00   \n",
       "1  2018-01-01 02:05:00         2018-01-01 01:15:00   \n",
       "2  2018-01-01 03:05:00         2018-01-01 02:15:00   \n",
       "3  2018-01-01 04:05:00         2018-01-01 03:15:00   \n",
       "4  2018-01-01 05:05:00         2018-01-01 04:15:00   \n",
       "5  2018-01-01 06:05:00         2018-01-01 05:15:00   \n",
       "6  2018-01-01 07:05:00         2018-01-01 06:15:00   \n",
       "7  2018-01-01 08:05:00         2018-01-01 07:15:00   \n",
       "8  2018-01-01 09:05:00         2018-01-01 08:15:00   \n",
       "9  2018-01-01 10:05:00         2018-01-01 09:15:00   \n",
       "10 2018-01-01 11:05:00         2018-01-01 10:15:00   \n",
       "11 2018-01-01 12:05:00         2018-01-01 11:15:00   \n",
       "12 2018-01-01 13:05:00         2018-01-01 12:15:00   \n",
       "13 2018-01-01 14:05:00         2018-01-01 13:15:00   \n",
       "14 2018-01-01 15:05:00         2018-01-01 14:15:00   \n",
       "15 2018-01-01 16:05:00         2018-01-01 15:15:00   \n",
       "16 2018-01-01 17:05:00         2018-01-01 16:15:00   \n",
       "17 2018-01-01 18:05:00         2018-01-01 17:15:00   \n",
       "18 2018-01-01 19:05:00         2018-01-01 18:15:00   \n",
       "19 2018-01-01 20:05:00         2018-01-01 19:15:00   \n",
       "20 2018-01-01 21:05:00         2018-01-01 20:15:00   \n",
       "21 2018-01-01 22:05:00         2018-01-01 21:15:00   \n",
       "22 2018-01-01 23:05:00         2018-01-01 22:15:00   \n",
       "23 2018-01-02 00:05:00         2018-01-01 23:15:00   \n",
       "\n",
       "   GENDER_NATIONAL_DESCRIPTION PSEUDONYMISED_PATIENT_ID  \\\n",
       "0                            1                        0   \n",
       "1                            1                        1   \n",
       "2                            1                        2   \n",
       "3                            1                        3   \n",
       "4                            1                        4   \n",
       "5                            1                        5   \n",
       "6                            1                        6   \n",
       "7                            1                        7   \n",
       "8                            1                        8   \n",
       "9                            1                        9   \n",
       "10                           1                       10   \n",
       "11                           1                       11   \n",
       "12                           1                       12   \n",
       "13                           1                       13   \n",
       "14                           1                       14   \n",
       "15                           1                       15   \n",
       "16                           1                       16   \n",
       "17                           1                       17   \n",
       "18                           1                       18   \n",
       "19                           1                       19   \n",
       "20                           1                       20   \n",
       "21                           1                       21   \n",
       "22                           1                       22   \n",
       "23                           1                       23   \n",
       "\n",
       "              ...             waiting_time arr_triage_wait arr_dr_wait  \\\n",
       "0             ...                     60.0            10.0        10.0   \n",
       "1             ...                     60.0            10.0        10.0   \n",
       "2             ...                     60.0            10.0        10.0   \n",
       "3             ...                     60.0            10.0        10.0   \n",
       "4             ...                     60.0            10.0        10.0   \n",
       "5             ...                     60.0            10.0        10.0   \n",
       "6             ...                     60.0            10.0        10.0   \n",
       "7             ...                     60.0            10.0        10.0   \n",
       "8             ...                     60.0            10.0        10.0   \n",
       "9             ...                     60.0            10.0        10.0   \n",
       "10            ...                     60.0            10.0        10.0   \n",
       "11            ...                     60.0            10.0        10.0   \n",
       "12            ...                     60.0            10.0        10.0   \n",
       "13            ...                     60.0            10.0        10.0   \n",
       "14            ...                     60.0            10.0        10.0   \n",
       "15            ...                     60.0            10.0        10.0   \n",
       "16            ...                     60.0            10.0        10.0   \n",
       "17            ...                     60.0            10.0        10.0   \n",
       "18            ...                     60.0            10.0        10.0   \n",
       "19            ...                     60.0            10.0        10.0   \n",
       "20            ...                     60.0            10.0        10.0   \n",
       "21            ...                     60.0            10.0        10.0   \n",
       "22            ...                     60.0            10.0        10.0   \n",
       "23            ...                     60.0            10.0        10.0   \n",
       "\n",
       "    arr_adm_req_wait  adm_req_dep_wait  dr_adm_req_wait  dr_dep_wait  \\\n",
       "0                NaN               NaN              NaN         50.0   \n",
       "1                NaN               NaN              NaN         50.0   \n",
       "2                NaN               NaN              NaN         50.0   \n",
       "3                NaN               NaN              NaN         50.0   \n",
       "4                NaN               NaN              NaN         50.0   \n",
       "5                NaN               NaN              NaN         50.0   \n",
       "6                NaN               NaN              NaN         50.0   \n",
       "7                NaN               NaN              NaN         50.0   \n",
       "8                NaN               NaN              NaN         50.0   \n",
       "9                NaN               NaN              NaN         50.0   \n",
       "10               NaN               NaN              NaN         50.0   \n",
       "11               NaN               NaN              NaN         50.0   \n",
       "12              45.0              15.0             35.0         50.0   \n",
       "13              45.0              15.0             35.0         50.0   \n",
       "14              45.0              15.0             35.0         50.0   \n",
       "15              45.0              15.0             35.0         50.0   \n",
       "16              45.0              15.0             35.0         50.0   \n",
       "17              45.0              15.0             35.0         50.0   \n",
       "18              45.0              15.0             35.0         50.0   \n",
       "19              45.0              15.0             35.0         50.0   \n",
       "20              45.0              15.0             35.0         50.0   \n",
       "21              45.0              15.0             35.0         50.0   \n",
       "22              45.0              15.0             35.0         50.0   \n",
       "23              45.0              15.0             35.0         50.0   \n",
       "\n",
       "    BREACH_FLAG     breach_datetime  event_column_name_rounded  \n",
       "0             0 2018-01-01 04:05:00        2018-01-01 01:00:00  \n",
       "1             0 2018-01-01 05:05:00        2018-01-01 02:00:00  \n",
       "2             0 2018-01-01 06:05:00        2018-01-01 03:00:00  \n",
       "3             0 2018-01-01 07:05:00        2018-01-01 04:00:00  \n",
       "4             0 2018-01-01 08:05:00        2018-01-01 05:00:00  \n",
       "5             0 2018-01-01 09:05:00        2018-01-01 06:00:00  \n",
       "6             0 2018-01-01 10:05:00        2018-01-01 07:00:00  \n",
       "7             0 2018-01-01 11:05:00        2018-01-01 08:00:00  \n",
       "8             0 2018-01-01 12:05:00        2018-01-01 09:00:00  \n",
       "9             0 2018-01-01 13:05:00        2018-01-01 10:00:00  \n",
       "10            0 2018-01-01 14:05:00        2018-01-01 11:00:00  \n",
       "11            0 2018-01-01 15:05:00        2018-01-01 12:00:00  \n",
       "12            0 2018-01-01 16:05:00        2018-01-01 13:00:00  \n",
       "13            0 2018-01-01 17:05:00        2018-01-01 14:00:00  \n",
       "14            0 2018-01-01 18:05:00        2018-01-01 15:00:00  \n",
       "15            0 2018-01-01 19:05:00        2018-01-01 16:00:00  \n",
       "16            0 2018-01-01 20:05:00        2018-01-01 17:00:00  \n",
       "17            0 2018-01-01 21:05:00        2018-01-01 18:00:00  \n",
       "18            0 2018-01-01 22:05:00        2018-01-01 19:00:00  \n",
       "19            0 2018-01-01 23:05:00        2018-01-01 20:00:00  \n",
       "20            0 2018-01-02 00:05:00        2018-01-01 21:00:00  \n",
       "21            0 2018-01-02 01:05:00        2018-01-01 22:00:00  \n",
       "22            0 2018-01-02 02:05:00        2018-01-01 23:00:00  \n",
       "23            0 2018-01-02 03:05:00        2018-01-02 00:00:00  \n",
       "\n",
       "[24 rows x 42 columns]"
      ]
     },
     "execution_count": 28,
     "metadata": {},
     "output_type": "execute_result"
    }
   ],
   "source": [
    "sd.data.ED.query('ARRIVAL_year in ' + str(years) +' or DEPARTURE_year in [2014,2015] ')"
   ]
  },
  {
   "cell_type": "code",
   "execution_count": 8,
   "metadata": {},
   "outputs": [],
   "source": [
    "import matplotlib.pyplot as plt"
   ]
  },
  {
   "cell_type": "code",
   "execution_count": 9,
   "metadata": {},
   "outputs": [
    {
     "data": {
      "image/png": "[encoded data removed]",
      "text/plain": [
       "<matplotlib.figure.Figure at 0x1e9b3273fd0>"
      ]
     },
     "metadata": {},
     "output_type": "display_data"
    }
   ],
   "source": [
    "s = pd.datetime(2018,1,1)\n",
    "e = pd.datetime(2018,2,1)\n",
    "sd.plot_period(s,e,15)"
   ]
  },
  {
   "cell_type": "code",
   "execution_count": 10,
   "metadata": {},
   "outputs": [
    {
     "name": "stdout",
     "output_type": "stream",
     "text": [
      "2018-01-01 00:00:00\n"
     ]
    },
    {
     "data": {
      "image/png": "[encoded data removed]",
      "text/plain": [
       "<matplotlib.figure.Figure at 0x1e9b32a5ac8>"
      ]
     },
     "metadata": {},
     "output_type": "display_data"
    },
    {
     "data": {
      "image/png": "[encoded data removed]",
      "text/plain": [
       "<matplotlib.figure.Figure at 0x1e9b347a320>"
      ]
     },
     "metadata": {},
     "output_type": "display_data"
    }
   ],
   "source": [
    "s = pd.datetime(2018,1,1)\n",
    "e = pd.datetime(2018,2,1)\n",
    "sd.plot_week(s,24)"
   ]
  },
  {
   "cell_type": "code",
   "execution_count": 11,
   "metadata": {},
   "outputs": [
    {
     "ename": "NameError",
     "evalue": "name 'pat' is not defined",
     "output_type": "error",
     "traceback": [
      "\u001b[1;31m---------------------------------------------------------------------------\u001b[0m",
      "\u001b[1;31mNameError\u001b[0m                                 Traceback (most recent call last)",
      "\u001b[1;32m<ipython-input-11-a3224316f822>\u001b[0m in \u001b[0;36m<module>\u001b[1;34m()\u001b[0m\n\u001b[1;32m----> 1\u001b[1;33m \u001b[0mpat\u001b[0m\u001b[1;33m.\u001b[0m\u001b[0mcolumns\u001b[0m\u001b[1;33m\u001b[0m\u001b[0m\n\u001b[0m",
      "\u001b[1;31mNameError\u001b[0m: name 'pat' is not defined"
     ]
    }
   ],
   "source": [
    "pat.columns"
   ]
  },
  {
   "cell_type": "code",
   "execution_count": null,
   "metadata": {},
   "outputs": [],
   "source": [
    "yearly"
   ]
  },
  {
   "cell_type": "code",
   "execution_count": null,
   "metadata": {},
   "outputs": [],
   "source": [
    "pat = sd.data.ED\n",
    "yearly = pat.groupby('ARRIVAL_year').agg({'PSEUDONYMISED_PATIENT_ID':'count','ADMISSION_FLAG':'sum'})[1:-1]\n",
    "\n",
    "yearly.rename(columns={'ADMISSION_FLAG':'ED admissions','PSEUDONYMISED_PATIENT_ID':'ED attendances'},inplace=True)\n",
    "\n",
    "yearly['conversion ratio'] = 100* yearly['ED admissions'] / yearly['ED attendances']\n",
    "\n",
    "ax = plt.subplot()\n",
    "\n",
    "width= 0.2\n",
    "\n",
    "yearly['ED attendances'].plot.bar(ax=ax,position=1,width=width,color='xkcd:blue',figsize=(6,4))\n",
    "ax2 = ax.twinx()\n",
    "yearly['ED admissions'].plot.bar(ax=ax2,position=0,width=width,color='xkcd:red')\n",
    "ax2.grid(False);\n",
    "\n",
    "ax.set_ylabel('attendances');\n",
    "ax2.set_ylabel('admissions');\n",
    "ax.set_xlabel('')\n",
    "## sort legend\n",
    "#lns = lns1+lns2\n",
    "#labs = ['attendances','admissions']\n",
    "\n",
    "lines, labels = ax.get_legend_handles_labels()\n",
    "lines2, labels2 = ax2.get_legend_handles_labels()\n",
    "ax2.legend(lines + lines2, labels + labels2, loc='lower right',frameon=True)\n",
    "\n",
    "#ax.legend(lns, labs, loc=0)\n",
    "#ax.legend(labs,frameon=True);\n"
   ]
  },
  {
   "cell_type": "code",
   "execution_count": 13,
   "metadata": {},
   "outputs": [
    {
     "data": {
      "text/html": [
       "<div>\n",
       "<style scoped>\n",
       "    .dataframe tbody tr th:only-of-type {\n",
       "        vertical-align: middle;\n",
       "    }\n",
       "\n",
       "    .dataframe tbody tr th {\n",
       "        vertical-align: top;\n",
       "    }\n",
       "\n",
       "    .dataframe thead th {\n",
       "        text-align: right;\n",
       "    }\n",
       "</style>\n",
       "<table border=\"1\" class=\"dataframe\">\n",
       "  <thead>\n",
       "    <tr style=\"text-align: right;\">\n",
       "      <th></th>\n",
       "      <th>plot_number</th>\n",
       "      <th>plot_name</th>\n",
       "      <th>plot_type</th>\n",
       "      <th>data_required</th>\n",
       "    </tr>\n",
       "  </thead>\n",
       "  <tbody>\n",
       "    <tr>\n",
       "      <th>0</th>\n",
       "      <td>1</td>\n",
       "      <td>ED attendance and admission numbers by year</td>\n",
       "      <td>hist</td>\n",
       "      <td>[ED]</td>\n",
       "    </tr>\n",
       "    <tr>\n",
       "      <th>1</th>\n",
       "      <td>2</td>\n",
       "      <td>ED attendance and admission numbers by year an...</td>\n",
       "      <td>hist</td>\n",
       "      <td>[ED]</td>\n",
       "    </tr>\n",
       "    <tr>\n",
       "      <th>4</th>\n",
       "      <td>5</td>\n",
       "      <td>Waiting time for admitted/non-admitted patient...</td>\n",
       "      <td>hist</td>\n",
       "      <td>[ED]</td>\n",
       "    </tr>\n",
       "    <tr>\n",
       "      <th>10</th>\n",
       "      <td>11</td>\n",
       "      <td>Types of admission by year</td>\n",
       "      <td>hist</td>\n",
       "      <td>[IP]</td>\n",
       "    </tr>\n",
       "    <tr>\n",
       "      <th>11</th>\n",
       "      <td>12</td>\n",
       "      <td>Admission by age group by year</td>\n",
       "      <td>hist</td>\n",
       "      <td>[IP]</td>\n",
       "    </tr>\n",
       "    <tr>\n",
       "      <th>12</th>\n",
       "      <td>13</td>\n",
       "      <td>Patient volume by type (table)</td>\n",
       "      <td>hist</td>\n",
       "      <td>[IP]</td>\n",
       "    </tr>\n",
       "    <tr>\n",
       "      <th>13</th>\n",
       "      <td>14</td>\n",
       "      <td>Emergency patient admission route numbers</td>\n",
       "      <td>hist</td>\n",
       "      <td>[IP]</td>\n",
       "    </tr>\n",
       "    <tr>\n",
       "      <th>18</th>\n",
       "      <td>19</td>\n",
       "      <td>Average ED occupancy by month</td>\n",
       "      <td>hist</td>\n",
       "      <td>[ED]</td>\n",
       "    </tr>\n",
       "    <tr>\n",
       "      <th>19</th>\n",
       "      <td>20</td>\n",
       "      <td>Average inpatient occupancy by month</td>\n",
       "      <td>hist</td>\n",
       "      <td>[IP]</td>\n",
       "    </tr>\n",
       "  </tbody>\n",
       "</table>\n",
       "</div>"
      ],
      "text/plain": [
       "    plot_number                                          plot_name plot_type  \\\n",
       "0             1        ED attendance and admission numbers by year      hist   \n",
       "1             2  ED attendance and admission numbers by year an...      hist   \n",
       "4             5  Waiting time for admitted/non-admitted patient...      hist   \n",
       "10           11                         Types of admission by year      hist   \n",
       "11           12                     Admission by age group by year      hist   \n",
       "12           13                     Patient volume by type (table)      hist   \n",
       "13           14          Emergency patient admission route numbers      hist   \n",
       "18           19                      Average ED occupancy by month      hist   \n",
       "19           20               Average inpatient occupancy by month      hist   \n",
       "\n",
       "   data_required  \n",
       "0           [ED]  \n",
       "1           [ED]  \n",
       "4           [ED]  \n",
       "10          [IP]  \n",
       "11          [IP]  \n",
       "12          [IP]  \n",
       "13          [IP]  \n",
       "18          [ED]  \n",
       "19          [IP]  "
      ]
     },
     "execution_count": 13,
     "metadata": {},
     "output_type": "execute_result"
    }
   ],
   "source": [
    "sd.metadata.PLOT_LIST.query('plot_type == \"hist\"')#['plot_name'].values[0]"
   ]
  },
  {
   "cell_type": "code",
   "execution_count": 14,
   "metadata": {},
   "outputs": [
    {
     "data": {
      "text/plain": [
       "'ED arrival and departure by hour of day (admitted)'"
      ]
     },
     "execution_count": 14,
     "metadata": {},
     "output_type": "execute_result"
    }
   ],
   "source": [
    "sd.metadata.PLOT_LIST.loc[9].plot_name"
   ]
  },
  {
   "cell_type": "code",
   "execution_count": 15,
   "metadata": {},
   "outputs": [],
   "source": [
    "import matplotlib.pyplot as plt"
   ]
  },
  {
   "cell_type": "code",
   "execution_count": 16,
   "metadata": {},
   "outputs": [
    {
     "data": {
      "image/png": "[encoded data removed]",
      "text/plain": [
       "<matplotlib.figure.Figure at 0x1c009571550>"
      ]
     },
     "metadata": {},
     "output_type": "display_data"
    }
   ],
   "source": [
    "pat2 = sd.data.ED\n",
    "wait_col = ['arr_dr_wait','dr_dep_wait']\n",
    "\n",
    "\n",
    "wait_col2 = ['arr_dr_wait','dr_adm_req_wait','adm_req_dep_wait','dr_dep_wait']\n",
    "\n",
    "fig, ax = plt.subplots()\n",
    "pat2.groupby('ADMISSION_FLAG')[wait_col2[0],wait_col2[3]].median().plot.bar(stacked=True,ax=ax,figsize=(4,4))\n",
    "ax.set_xticklabels(['non-admission','admission']);\n",
    "ax.set_ylabel('Median time in department (mins)');\n",
    "ax.set_xlabel('');\n",
    "ax.legend(['arrival -> dr','dr -> departure'],frameon=True);\n"
   ]
  },
  {
   "cell_type": "code",
   "execution_count": 17,
   "metadata": {},
   "outputs": [
    {
     "data": {
      "text/plain": [
       "Index(['ADMISSION_FLAG', 'ADM_REQUEST_DTTM', 'ADM_REQUEST_LOC_DESCRIPTION',\n",
       "       'AGE_AT_ARRIVAL', 'ARRIVAL_DTTM', 'ARRIVAL_MODE_NATIONAL_CODE',\n",
       "       'DEPARTURE_DTTM', 'FIRSTDOC_FOR_TREATMENT_DTTM',\n",
       "       'GENDER_NATIONAL_DESCRIPTION', 'PSEUDONYMISED_PATIENT_ID', 'SITE',\n",
       "       'STREAM_LOCAL_CODE', 'TRIAGE_ASSESSMENT_DTTM', 'ARRIVAL_hour',\n",
       "       'ARRIVAL_dayofweek', 'ARRIVAL_day', 'ARRIVAL_month', 'ARRIVAL_week',\n",
       "       'ARRIVAL_dayofweek_name', 'ARRIVAL_year', 'ARRIVAL_date',\n",
       "       'ARRIVAL_flag_wkend', 'DEPARTURE_hour', 'DEPARTURE_dayofweek',\n",
       "       'DEPARTURE_day', 'DEPARTURE_month', 'DEPARTURE_week',\n",
       "       'DEPARTURE_dayofweek_name', 'DEPARTURE_year', 'DEPARTURE_date',\n",
       "       'DEPARTURE_flag_wkend', 'age_group', 'waiting_time', 'arr_triage_wait',\n",
       "       'arr_dr_wait', 'arr_adm_req_wait', 'adm_req_dep_wait',\n",
       "       'dr_adm_req_wait', 'dr_dep_wait', 'breach_flag', 'breach_datetime',\n",
       "       'event_column_name_rounded'],\n",
       "      dtype='object')"
      ]
     },
     "execution_count": 17,
     "metadata": {},
     "output_type": "execute_result"
    }
   ],
   "source": [
    "sd.data.ED.columns"
   ]
  },
  {
   "cell_type": "code",
   "execution_count": 19,
   "metadata": {},
   "outputs": [
    {
     "ename": "AttributeError",
     "evalue": "'Plots' object has no attribute 'fig10'",
     "output_type": "error",
     "traceback": [
      "\u001b[1;31m---------------------------------------------------------------------------\u001b[0m",
      "\u001b[1;31mAttributeError\u001b[0m                            Traceback (most recent call last)",
      "\u001b[1;32m<ipython-input-19-33e7ff11692b>\u001b[0m in \u001b[0;36m<module>\u001b[1;34m()\u001b[0m\n\u001b[1;32m----> 1\u001b[1;33m \u001b[0msd\u001b[0m\u001b[1;33m.\u001b[0m\u001b[0mdata\u001b[0m\u001b[1;33m.\u001b[0m\u001b[0mplots\u001b[0m\u001b[1;33m.\u001b[0m\u001b[0mfig10\u001b[0m\u001b[1;33m\u001b[0m\u001b[0m\n\u001b[0m",
      "\u001b[1;31mAttributeError\u001b[0m: 'Plots' object has no attribute 'fig10'"
     ]
    }
   ],
   "source": [
    "sd.data.plots.fig1"
   ]
  },
  {
   "cell_type": "code",
   "execution_count": null,
   "metadata": {},
   "outputs": [],
   "source": [
    "sd.data.plots.fig1"
   ]
  },
  {
   "cell_type": "code",
   "execution_count": null,
   "metadata": {},
   "outputs": [],
   "source": [
    "sd.data.plots.table1"
   ]
  },
  {
   "cell_type": "code",
   "execution_count": null,
   "metadata": {},
   "outputs": [],
   "source": []
  },
  {
   "cell_type": "code",
   "execution_count": null,
   "metadata": {},
   "outputs": [],
   "source": [
    "plots_dict = {\n",
    "    'plot_number':[\n",
    "        1,\n",
    "        2,\n",
    "        3,\n",
    "    ],\n",
    "    'plot_title':[\n",
    "        ''\n",
    "    ]\n",
    "}"
   ]
  },
  {
   "cell_type": "code",
   "execution_count": null,
   "metadata": {},
   "outputs": [],
   "source": []
  },
  {
   "cell_type": "code",
   "execution_count": null,
   "metadata": {},
   "outputs": [],
   "source": [
    "sd.data.plots"
   ]
  },
  {
   "cell_type": "markdown",
   "metadata": {},
   "source": [
    "pat = sd.data.ED"
   ]
  },
  {
   "cell_type": "markdown",
   "metadata": {},
   "source": [
    "import matplotlib.pyplot as plt\n",
    "import seaborn as sns\n",
    "sns.set()"
   ]
  },
  {
   "cell_type": "markdown",
   "metadata": {},
   "source": [
    "sd.data.ED.columns"
   ]
  },
  {
   "cell_type": "markdown",
   "metadata": {},
   "source": [
    "## period analysis"
   ]
  },
  {
   "cell_type": "markdown",
   "metadata": {},
   "source": [
    "dt_start = pd.datetime(2017,1,1)\n",
    "dt_end = pd.datetime(2018,2,1)\n",
    "mask = (pat['ARRIVAL_DTTM'] > dt_start) & (pat['DEPARTURE_DTTM'] < dt_end)\n",
    "# pat.query('ARRIVAL_DTTM > dt_start')\n",
    "# pat[mask]"
   ]
  },
  {
   "cell_type": "markdown",
   "metadata": {},
   "source": [
    "#### ED hourly arrival discharge curves\n",
    "# filter for period selected\n",
    "\n",
    "# make table for plot\n",
    "\n",
    "arr = pat[['ARRIVAL_hour','PSEUDONYMISED_PATIENT_ID']].groupby(['ARRIVAL_hour']).count()#.plot(ax=ax)\n",
    "dep = pat[['DEPARTURE_hour','PSEUDONYMISED_PATIENT_ID']].groupby(['DEPARTURE_hour']).count()#.plot(ax=ax)\n",
    "\n",
    "arr.rename(columns={'PSEUDONYMISED_PATIENT_ID':'Arrivals'},inplace=True)\n",
    "dep.rename(columns={'PSEUDONYMISED_PATIENT_ID':'Departures'},inplace=True)\n",
    "table = arr.merge(dep, left_index=True, right_index=True)\n",
    "\n",
    "# plot\n",
    "fig, ax = plt.subplots()\n",
    "plt.suptitle('ED average hourly arrivals & departures')\n",
    "table.plot(ax=ax)\n",
    "ax.set_xticks(np.arange(0,25,2));"
   ]
  },
  {
   "cell_type": "code",
   "execution_count": null,
   "metadata": {},
   "outputs": [],
   "source": [
    "fig"
   ]
  },
  {
   "cell_type": "code",
   "execution_count": null,
   "metadata": {},
   "outputs": [],
   "source": []
  },
  {
   "cell_type": "code",
   "execution_count": null,
   "metadata": {},
   "outputs": [],
   "source": []
  },
  {
   "cell_type": "code",
   "execution_count": null,
   "metadata": {},
   "outputs": [],
   "source": [
    "sd.data.DAILY.plot(style='o')"
   ]
  },
  {
   "cell_type": "code",
   "execution_count": null,
   "metadata": {},
   "outputs": [],
   "source": [
    "sd.data.HOURLY.plot()"
   ]
  },
  {
   "cell_type": "code",
   "execution_count": null,
   "metadata": {},
   "outputs": [],
   "source": []
  },
  {
   "cell_type": "code",
   "execution_count": null,
   "metadata": {},
   "outputs": [],
   "source": [
    "sd.data.HOURLY.sum()"
   ]
  },
  {
   "cell_type": "code",
   "execution_count": null,
   "metadata": {},
   "outputs": [],
   "source": []
  },
  {
   "cell_type": "code",
   "execution_count": null,
   "metadata": {},
   "outputs": [],
   "source": [
    "sd.data.IPSPELL.shape"
   ]
  },
  {
   "cell_type": "code",
   "execution_count": null,
   "metadata": {},
   "outputs": [],
   "source": [
    "sd.data.DAILY"
   ]
  },
  {
   "cell_type": "code",
   "execution_count": null,
   "metadata": {},
   "outputs": [],
   "source": [
    "sd.data.IP.columns"
   ]
  },
  {
   "cell_type": "code",
   "execution_count": null,
   "metadata": {},
   "outputs": [],
   "source": [
    "ward = sd.data.IP"
   ]
  },
  {
   "cell_type": "code",
   "execution_count": null,
   "metadata": {},
   "outputs": [],
   "source": [
    "ward.query('PSEUDONYMISED_PATIENT_ID == \"100\"')"
   ]
  },
  {
   "cell_type": "code",
   "execution_count": null,
   "metadata": {},
   "outputs": [],
   "source": [
    "ward.shape"
   ]
  },
  {
   "cell_type": "code",
   "execution_count": null,
   "metadata": {},
   "outputs": [],
   "source": [
    "ward.query('LOCATION_NUMBER == \"1\"').shape"
   ]
  },
  {
   "cell_type": "code",
   "execution_count": null,
   "metadata": {},
   "outputs": [],
   "source": [
    "ward.shape"
   ]
  },
  {
   "cell_type": "code",
   "execution_count": null,
   "metadata": {},
   "outputs": [],
   "source": [
    "ward.drop(['LOCATION_END','LOCATION_START'],axis=1).shape"
   ]
  },
  {
   "cell_type": "code",
   "execution_count": null,
   "metadata": {},
   "outputs": [],
   "source": [
    "ward.LOCATION_NUMBER"
   ]
  },
  {
   "cell_type": "code",
   "execution_count": null,
   "metadata": {},
   "outputs": [],
   "source": [
    "MOVE_list = [column for column in ward.columns if 'LOCATION' in column]\n",
    "MOVE_list"
   ]
  },
  {
   "cell_type": "code",
   "execution_count": null,
   "metadata": {},
   "outputs": [],
   "source": [
    "ward[MOVE_list]"
   ]
  },
  {
   "cell_type": "code",
   "execution_count": null,
   "metadata": {},
   "outputs": [],
   "source": [
    "ward.columns"
   ]
  },
  {
   "cell_type": "code",
   "execution_count": null,
   "metadata": {},
   "outputs": [],
   "source": [
    "ward.head()"
   ]
  },
  {
   "cell_type": "code",
   "execution_count": null,
   "metadata": {},
   "outputs": [],
   "source": []
  },
  {
   "cell_type": "code",
   "execution_count": null,
   "metadata": {},
   "outputs": [],
   "source": []
  },
  {
   "cell_type": "code",
   "execution_count": null,
   "metadata": {},
   "outputs": [],
   "source": [
    "df = sd.data.HOURLY\n",
    "\n",
    "df.between_time('0:00', '12:01')\n",
    "\n",
    "#['ED_arrivals'].resample('D').sum()"
   ]
  },
  {
   "cell_type": "code",
   "execution_count": null,
   "metadata": {},
   "outputs": [],
   "source": [
    "sd.data.HOURLY"
   ]
  },
  {
   "cell_type": "code",
   "execution_count": null,
   "metadata": {},
   "outputs": [],
   "source": [
    "df.ADM_METHOD == '1'"
   ]
  },
  {
   "cell_type": "code",
   "execution_count": null,
   "metadata": {},
   "outputs": [],
   "source": [
    "# inputs = [\"1\"]\n",
    "df.query('ADM_METHOD in [\"1\"]')"
   ]
  },
  {
   "cell_type": "code",
   "execution_count": null,
   "metadata": {},
   "outputs": [],
   "source": [
    "# inputs = [\"1\"]\n",
    "df.query(\"ADM_METHOD in ['1']\")"
   ]
  },
  {
   "cell_type": "code",
   "execution_count": null,
   "metadata": {},
   "outputs": [],
   "source": []
  },
  {
   "cell_type": "code",
   "execution_count": null,
   "metadata": {},
   "outputs": [],
   "source": []
  },
  {
   "cell_type": "code",
   "execution_count": null,
   "metadata": {},
   "outputs": [],
   "source": [
    "test = sd.data.HOURLY"
   ]
  },
  {
   "cell_type": "code",
   "execution_count": null,
   "metadata": {},
   "outputs": [],
   "source": [
    "sd.data.DAILY"
   ]
  },
  {
   "cell_type": "code",
   "execution_count": null,
   "metadata": {},
   "outputs": [],
   "source": [
    "sd.data.IP.head()"
   ]
  },
  {
   "cell_type": "code",
   "execution_count": null,
   "metadata": {},
   "outputs": [],
   "source": [
    "sd.data.ED.head()"
   ]
  },
  {
   "cell_type": "code",
   "execution_count": null,
   "metadata": {},
   "outputs": [],
   "source": [
    "test"
   ]
  },
  {
   "cell_type": "code",
   "execution_count": null,
   "metadata": {},
   "outputs": [],
   "source": [
    "test.shape"
   ]
  },
  {
   "cell_type": "code",
   "execution_count": null,
   "metadata": {},
   "outputs": [],
   "source": [
    "daily_columns_list = []\n",
    "for column in ['ED_arrivals','ED_departures']:\n",
    "    daily_series = test[column].resample('D').sum()\n",
    "    daily_columns_list.append(daily_series)\n",
    "    \n",
    "daily_columns_list[0]"
   ]
  },
  {
   "cell_type": "code",
   "execution_count": null,
   "metadata": {},
   "outputs": [],
   "source": [
    "daily_columns_list = []\n",
    "for column in ['ED_arrivals','ED_departures']:\n",
    "    daily_series = test[column].resample('D').sum()\n",
    "    daily_columns_list.append(daily_series)\n",
    "    \n",
    "pd.DataFrame(daily_columns_list[0])"
   ]
  },
  {
   "cell_type": "code",
   "execution_count": null,
   "metadata": {},
   "outputs": [],
   "source": [
    "test.resample('D').sum()"
   ]
  },
  {
   "cell_type": "code",
   "execution_count": null,
   "metadata": {},
   "outputs": [],
   "source": []
  },
  {
   "cell_type": "code",
   "execution_count": null,
   "metadata": {},
   "outputs": [],
   "source": [
    "test.drop(index=test.index[[2,3,4,5]],inplace=True)"
   ]
  },
  {
   "cell_type": "code",
   "execution_count": null,
   "metadata": {},
   "outputs": [],
   "source": [
    "test"
   ]
  },
  {
   "cell_type": "code",
   "execution_count": null,
   "metadata": {},
   "outputs": [],
   "source": []
  },
  {
   "cell_type": "code",
   "execution_count": null,
   "metadata": {},
   "outputs": [],
   "source": [
    "test.iloc[5:10].drop()"
   ]
  },
  {
   "cell_type": "code",
   "execution_count": null,
   "metadata": {},
   "outputs": [],
   "source": []
  },
  {
   "cell_type": "code",
   "execution_count": null,
   "metadata": {},
   "outputs": [],
   "source": []
  },
  {
   "cell_type": "code",
   "execution_count": null,
   "metadata": {},
   "outputs": [],
   "source": []
  },
  {
   "cell_type": "code",
   "execution_count": null,
   "metadata": {},
   "outputs": [],
   "source": []
  },
  {
   "cell_type": "code",
   "execution_count": null,
   "metadata": {},
   "outputs": [],
   "source": [
    "sd.data.HOURLY2.head()"
   ]
  },
  {
   "cell_type": "code",
   "execution_count": null,
   "metadata": {},
   "outputs": [],
   "source": []
  },
  {
   "cell_type": "code",
   "execution_count": null,
   "metadata": {},
   "outputs": [],
   "source": [
    "sd.data.ED.head()"
   ]
  },
  {
   "cell_type": "code",
   "execution_count": null,
   "metadata": {},
   "outputs": [],
   "source": [
    "sd.data.ED.DEPARTURE_DTTM"
   ]
  },
  {
   "cell_type": "code",
   "execution_count": null,
   "metadata": {},
   "outputs": [],
   "source": [
    "sd.data.ED.columns"
   ]
  },
  {
   "cell_type": "code",
   "execution_count": null,
   "metadata": {},
   "outputs": [],
   "source": []
  },
  {
   "cell_type": "code",
   "execution_count": null,
   "metadata": {},
   "outputs": [],
   "source": [
    "import itertools\n",
    "def count_hourly_occupancy2(df,datetime_col_start,datetime_column_end, new_column_name):\n",
    "    \"\"\"\n",
    "    Function takes patient record level dataframe and calculates the occupancy/activity for each hour of the day.\n",
    "    The activity is defined based on the two datetime columns being provided.\n",
    "    e.g. if 'attendnace datetime' and 'departure datetime' were given then the 'activity' would be the occupancy of the department.\n",
    "\n",
    "    Inputs\n",
    "    ======\n",
    "    df, pandas dataframe, with patient-record level activity.\n",
    "    datetime_col_start, str, name of column in df when the activity begins. Column must be in datetime format.\n",
    "    datetime_col_end, str, name of column in df when the activity ends. Column must be in datetime format.\n",
    "    new_col_name, str, name to assign the new column that is produced.\n",
    "\n",
    "    Output\n",
    "    ======\n",
    "    df, pandas dataframe, datetime index at hourly level, single column containing the count of activity in that hour\n",
    "    (index potentially not continuous).\n",
    "    \"\"\"\n",
    "    #### setup data to be easier to compute, \n",
    "#         df['event_column_name_rounded'] = df[event_column_name].apply(lambda x : x.replace(second=0, minute=0)) # round to lower hour\n",
    "    df1 = df[[datetime_col_start,datetime_column_end]].copy()\n",
    "    df1[datetime_col_start] = df1[datetime_col_start].apply(lambda x : x.replace(second=0,minute=0)) # round arrival hour down\n",
    "    df1[datetime_column_end] = df1[datetime_column_end].apply(lambda x : x.replace(second=0,minute=0)) +pd.Timedelta(hours=1)\n",
    "    \n",
    "    \n",
    "    #### create col with number of hours active \n",
    "    df1['n_hours'] = ((df1[datetime_column_end] - df1[datetime_col_start])/pd.Timedelta(1,'h')).astype(int)\n",
    "    df1 = df1.drop(df1[df1['n_hours'] <=0].index) # must drop the negative n_hour rows as otherwise messes up my size of array initilisation (was getting an error that the index i was assinging to in ids was out of bounds).\n",
    "\n",
    "    #### time efficient (i hope) function for cycling through and finding all combinations of active hours for attednaces \n",
    "    # - create a (long format) list of links between attendance numbers and \n",
    "    # function for list comp which finds list of datetimes (for each hour)\n",
    "    date_func = lambda datetime , offset : datetime + pd.Timedelta(offset,'h')\n",
    "\n",
    "    # iterate over rows in df\n",
    "    df1 = df1.reset_index() # reset so have the new index to itereate over\n",
    "\n",
    "    ids = np.empty(shape=(df1['n_hours'].sum()),dtype='int64') # initilise array - change to np.empty() to speed up\n",
    "    timestamps = np.empty(shape=(df1['n_hours'].sum()),dtype='datetime64[s]')\n",
    "    row_count = 0 # initialise row counter for empty arrays\n",
    "    \n",
    "    # iterate through rows of df\n",
    "    for row in df1.itertuples():\n",
    "        atten_id = [row[1]] # get attendance id\n",
    "        hour_list = [date_func(row[2],i) for i in np.arange(row[4])] # make a list datetimes for each hour that patient is active.\n",
    "\n",
    "        # populate empty arrays with seperate list of ids and timestamps.  \n",
    "        for i in itertools.product(atten_id,hour_list):\n",
    "            ids[row_count] = i[0] # assign patient number to array\n",
    "            timestamps[row_count] = i[1] # \n",
    "            row_count += 1 # add to row count for new id-> hour pair\n",
    "    \n",
    "    # put ids and timestamps into df\n",
    "    data = {'atten_id':ids,'hours':timestamps}\n",
    "    df_new = pd.DataFrame(data=data)\n",
    "    \n",
    "    # count isntances for each hour\n",
    "    df_new = df_new.groupby(['hours']).count()\n",
    "    \n",
    "    # set hours column to index\n",
    "#     df_new.set_index('hours', inplace=True)\n",
    "    df_new.index.name = '' # remove 'hours' as index name\n",
    "    \n",
    "    return df_new\n",
    "\n",
    "df_new = count_hourly_occupancy2(sd.data.ED,'ARRIVAL_DTTM','DEPARTURE_DTTM','new_col')\n",
    "\n",
    "\n",
    "df_new.head()"
   ]
  },
  {
   "cell_type": "code",
   "execution_count": null,
   "metadata": {},
   "outputs": [],
   "source": [
    "df_new.index.name = ''"
   ]
  },
  {
   "cell_type": "code",
   "execution_count": null,
   "metadata": {},
   "outputs": [],
   "source": [
    "df_new.index"
   ]
  },
  {
   "cell_type": "code",
   "execution_count": null,
   "metadata": {},
   "outputs": [],
   "source": [
    "date_func = lambda datetime , offset : datetime + pd.Timedelta(offset,'h')\n",
    "ids = np.empty(shape=(df1['n_hours'].sum()),dtype='int64') # initilise array - change to np.empty() to speed up\n",
    "timestamps = np.empty(shape=(df1['n_hours'].sum()),dtype='datetime64[s]')\n",
    "row_count = 0\n",
    "\n",
    "for row in df1.itertuples():\n",
    "    atten_id = [row[1]] # get attendance ID\n",
    "    hour_list = [date_func(row[2],i) for i in np.arange(row[4])] # make a list datetimes for each hour that patient is active.\n",
    "#     print(atten_id)\n",
    "#     print(hour_list)\n",
    "\n",
    "    # create array of list for all combinations of timestamp\n",
    "    for i in itertools.product(atten_id,hour_list):\n",
    "        ids[row_count] = i[0] # assign patient numbers\n",
    "        timestamps[row_count] = i[1]\n",
    "        row_count += 1 # add to row count for new array\n",
    "#         print(i)\n",
    "    \n",
    "# put into df\n",
    "data = {'atten_id':ids,'hours':timestamps}\n",
    "df_new = pd.DataFrame(data=data)#,index=ids)#,columns=['new_col'])"
   ]
  },
  {
   "cell_type": "code",
   "execution_count": null,
   "metadata": {},
   "outputs": [],
   "source": [
    "df_new.groupby(['hours']).count()"
   ]
  },
  {
   "cell_type": "code",
   "execution_count": null,
   "metadata": {},
   "outputs": [],
   "source": [
    "df_new.groupby(['new_col']).count()"
   ]
  },
  {
   "cell_type": "code",
   "execution_count": null,
   "metadata": {},
   "outputs": [],
   "source": [
    "row[4],i"
   ]
  },
  {
   "cell_type": "code",
   "execution_count": null,
   "metadata": {},
   "outputs": [],
   "source": [
    "ids"
   ]
  },
  {
   "cell_type": "code",
   "execution_count": null,
   "metadata": {},
   "outputs": [],
   "source": [
    "row[1]"
   ]
  },
  {
   "cell_type": "code",
   "execution_count": null,
   "metadata": {},
   "outputs": [],
   "source": [
    "row.ARRIVAL_DTTM"
   ]
  },
  {
   "cell_type": "code",
   "execution_count": null,
   "metadata": {},
   "outputs": [],
   "source": [
    "hour_list"
   ]
  },
  {
   "cell_type": "code",
   "execution_count": null,
   "metadata": {},
   "outputs": [],
   "source": [
    "row_count"
   ]
  },
  {
   "cell_type": "code",
   "execution_count": null,
   "metadata": {},
   "outputs": [],
   "source": [
    "df_new"
   ]
  },
  {
   "cell_type": "code",
   "execution_count": null,
   "metadata": {},
   "outputs": [],
   "source": [
    "count_hourly_occupancy(sd.data.ED,'ARRIVAL_DTTM','DEPARTURE_DTTM','new_col')"
   ]
  },
  {
   "cell_type": "code",
   "execution_count": null,
   "metadata": {},
   "outputs": [],
   "source": [
    "for row in "
   ]
  },
  {
   "cell_type": "code",
   "execution_count": null,
   "metadata": {},
   "outputs": [],
   "source": []
  },
  {
   "cell_type": "code",
   "execution_count": null,
   "metadata": {},
   "outputs": [],
   "source": []
  },
  {
   "cell_type": "code",
   "execution_count": null,
   "metadata": {},
   "outputs": [],
   "source": []
  },
  {
   "cell_type": "code",
   "execution_count": null,
   "metadata": {},
   "outputs": [],
   "source": [
    "def count_hourly_occupancy(df,arrival_col,departure_col,count_name):\n",
    "    \"\"\"\n",
    "    inputs:\n",
    "    df with attendance number as index,\n",
    "    arrival, departure datetime col names (must be datetime format)\n",
    "    ouptut:\n",
    "    df, contains many-to-many link between the arrival_\n",
    "    NOTE: re-write required: very slow.\n",
    "    \"\"\"\n",
    "    import itertools\n",
    "    df1 = df[[arrival_col,departure_col]].copy()\n",
    "    df1[arrival_col] = df1[arrival_col].apply(lambda x : x.replace(second=0,minute=0)) # round arrival hour down\n",
    "    df1[departure_col] = df1[departure_col].apply(lambda x : x.replace(second=0,minute=0)) +pd.Timedelta(hours=1) # round leaving tim up\n",
    "    \n",
    "    #### create col with number of hours active \n",
    "    df1['n_hours'] = ((df1[departure_col] - df1[arrival_col])/pd.Timedelta(1,'h')).astype(int)\n",
    "    df1 = df1.drop(df1[df1['n_hours'] <=0].index) # must drop the negative n_hour rows as otherwise messes up my size of array initilisation (was getting an error that the index i was assinging to in ids was out of bounds).\n",
    "    \n",
    "    #### time efficient (i hope) function for cycling through and finding all combinations of active hours for attednaces - create a (long format) list of links between attendance numbers and \n",
    "\n",
    "    # function for list comp which finds list of datetimes (for each hour)\n",
    "    date_func = lambda datetime , offset : datetime + pd.Timedelta(offset,'h')\n",
    "\n",
    "    # iterate over rows in df\n",
    "    df1 = df1.reset_index() # reset so have the new index to itereate over\n",
    "\n",
    "    ids = np.empty(shape=(df1['n_hours'].sum()),dtype='int64') # initilise array - change to np.empty() to speed up\n",
    "    timestamps = np.empty(shape=(df1['n_hours'].sum()),dtype='datetime64[s]')\n",
    "    row_count = 0\n",
    "\n",
    "    for row in df1.itertuples():\n",
    "        atten_id = [row[1]]\n",
    "        hour_list = [date_func(row[2],i) for i in np.arange(row[4])] # creates list of hour datetimes\n",
    "\n",
    "        # create array of list for all combinations of timestamp\n",
    "        for i in itertools.product(atten_id,hour_list):\n",
    "            ids[row_count] = i[0] # assign patient numbers\n",
    "            timestamps[row_count] = i[1]\n",
    "            row_count += 1 # add to row count for new array    \n",
    "    # put into df\n",
    "    data = {'atten_id':ids}\n",
    "    df_new = pd.DataFrame(data=data,index=timestamps,columns=[count_name])\n",
    "\n",
    "    return(df_new)"
   ]
  },
  {
   "cell_type": "code",
   "execution_count": null,
   "metadata": {},
   "outputs": [],
   "source": []
  },
  {
   "cell_type": "code",
   "execution_count": null,
   "metadata": {},
   "outputs": [],
   "source": [
    "break"
   ]
  },
  {
   "cell_type": "code",
   "execution_count": null,
   "metadata": {},
   "outputs": [],
   "source": []
  },
  {
   "cell_type": "code",
   "execution_count": null,
   "metadata": {},
   "outputs": [],
   "source": [
    "%ls"
   ]
  },
  {
   "cell_type": "code",
   "execution_count": null,
   "metadata": {},
   "outputs": [],
   "source": [
    "setup = imp.load_source('setup.py',)"
   ]
  },
  {
   "cell_type": "code",
   "execution_count": null,
   "metadata": {},
   "outputs": [],
   "source": [
    "setup.RESULTS_SAVE_PATH"
   ]
  },
  {
   "cell_type": "code",
   "execution_count": null,
   "metadata": {},
   "outputs": [],
   "source": [
    "path = \"..//\"\n",
    "from path import flosp"
   ]
  },
  {
   "cell_type": "code",
   "execution_count": null,
   "metadata": {},
   "outputs": [],
   "source": []
  },
  {
   "cell_type": "code",
   "execution_count": null,
   "metadata": {},
   "outputs": [],
   "source": [
    "break"
   ]
  },
  {
   "cell_type": "code",
   "execution_count": null,
   "metadata": {},
   "outputs": [],
   "source": [
    "def import_package_above(num_dirs, module_name):\n",
    "    \"\"\" imports a package by moving to directory above, running import statement and returning to original directory\"\"\"\n",
    "    import importlib\n",
    "    import os\n",
    "    \n",
    "    path_original = os.getcwd()\n",
    "    os.chdir(\"../../\" * num_dirs) # move up to directory\n",
    "    try:\n",
    "        module = importlib.import_module(module_name)\n",
    "        print('Loaded package ', module_name)\n",
    "    except:\n",
    "        print('Could not load package')\n",
    "        \n",
    "    os.chdir(path_original) # return to original directory\n",
    "    return(module)\n",
    "\n",
    "flosp = import_package_above(2,'flosp')"
   ]
  },
  {
   "cell_type": "code",
   "execution_count": null,
   "metadata": {},
   "outputs": [],
   "source": [
    "class PeriodPlotting:\n",
    "    \"\"\" Class produces all plots for a period of time defined by user. \"\"\"\n",
    "    def __init__(self, data, metadata, dt_start, dt_end, required_plot='all'):\n",
    "        #### initialise all data\n",
    "        self.data = data\n",
    "        self.metadata = metadata\n",
    "        self.dt_start = dt_start\n",
    "        self.dt_end = dt_end\n",
    "        print('initialised')\n",
    "        \n",
    "        #### call all plot methods\n",
    "        if required_plot == 'all':\n",
    "            for plot_no in ['1']:\n",
    "                print('in for loop')\n",
    "                getattr(self, 'plot' + plot_no)\n",
    "                self.plot1()\n",
    "        else:\n",
    "            print('in else statement ')\n",
    "            exec('self.' + required_plot)\n",
    "            exec('self.plot2()')\n",
    "        return\n",
    "    \n",
    "    def plot1(self):\n",
    "        print('plot 1 print')\n",
    "        self.plot1output = 5\n",
    "        return\n",
    "    \n",
    "    def plot2(self):\n",
    "        print('plot 2 print')\n",
    "        self.plot2output = 10\n",
    "        return\n",
    "    \n",
    "    \n",
    "classname = PeriodPlotting(1,2,3,4,'plot2')\n",
    "\n",
    "#classname2 = PeriodPlotting(1,2,3,4,'plot2')\n"
   ]
  },
  {
   "cell_type": "code",
   "execution_count": null,
   "metadata": {},
   "outputs": [],
   "source": [
    "classname.plot1output"
   ]
  },
  {
   "cell_type": "code",
   "execution_count": null,
   "metadata": {},
   "outputs": [],
   "source": [
    "PeriodPlotting(1,2,3,4,'all')"
   ]
  },
  {
   "cell_type": "code",
   "execution_count": null,
   "metadata": {},
   "outputs": [],
   "source": [
    "PeriodPlotting(1,2,3,4,'all')"
   ]
  },
  {
   "cell_type": "code",
   "execution_count": null,
   "metadata": {},
   "outputs": [],
   "source": []
  },
  {
   "cell_type": "code",
   "execution_count": null,
   "metadata": {},
   "outputs": [],
   "source": []
  },
  {
   "cell_type": "markdown",
   "metadata": {},
   "source": [
    "# testing"
   ]
  },
  {
   "cell_type": "code",
   "execution_count": null,
   "metadata": {},
   "outputs": [],
   "source": [
    "cols = ['y','n','m']\n",
    "pd.DataFrame([[1,2,3],[4,5,6]],columns = cols)"
   ]
  }
 ],
 "metadata": {
  "kernelspec": {
   "display_name": "Python [default]",
   "language": "python",
   "name": "python3"
  },
  "language_info": {
   "codemirror_mode": {
    "name": "ipython",
    "version": 3
   },
   "file_extension": ".py",
   "mimetype": "text/x-python",
   "name": "python",
   "nbconvert_exporter": "python",
   "pygments_lexer": "ipython3",
   "version": "3.5.3"
  }
 },
 "nbformat": 4,
 "nbformat_minor": 2
}
