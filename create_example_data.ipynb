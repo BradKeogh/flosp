{
 "cells": [
  {
   "cell_type": "code",
   "execution_count": 38,
   "metadata": {},
   "outputs": [],
   "source": [
    "import pandas as pd\n",
    "import numpy as np"
   ]
  },
  {
   "cell_type": "code",
   "execution_count": 11,
   "metadata": {},
   "outputs": [
    {
     "name": "stderr",
     "output_type": "stream",
     "text": [
      "C:\\Anaconda3\\envs\\hospital-flow\\lib\\site-packages\\IPython\\core\\interactiveshell.py:2785: DtypeWarning: Columns (9,31,32,33,34,35,36,37,38,39,40,41,42,43,49,51,56,58,60,62,64,66,68,70,72,74,76,78,80,82,84,86,88,90,94) have mixed types. Specify dtype option on import or set low_memory=False.\n",
      "  interactivity=interactivity, compiler=compiler, result=result)\n"
     ]
    }
   ],
   "source": [
    "df = pd.read_csv('./../../3_Data/HH_ED_Flow_Study.csv')"
   ]
  },
  {
   "cell_type": "code",
   "execution_count": 31,
   "metadata": {},
   "outputs": [],
   "source": [
    "df2 = df.sample(frac=0.03)"
   ]
  },
  {
   "cell_type": "code",
   "execution_count": 32,
   "metadata": {},
   "outputs": [],
   "source": [
    "cols = [\n",
    "'PSEUDONYMISED_PATIENT_ID',\n",
    "'AGE_AT_ARRIVAL',\n",
    "'GENDER_NATIONAL_DESCRIPTION',\n",
    "'SITE',\n",
    "'ARRIVAL_DTTM',\n",
    "'ARRIVAL_MODE_NATIONAL_CODE',\n",
    "'INITIAL_ASSESSMENT_DTTM',\n",
    "'SEEN_FOR_TREATMENT_DTTM',\n",
    "'SPECIALTY_REQUEST_TIME',\n",
    "'SPECIALTY_REFERRED_TO_DESCRIPTION',\n",
    "'ADMISSION_FLAG',\n",
    "'ATTENDANCE_CONCLUSION_DTTM',\n",
    "'STREAM_LOCAL_CODE']"
   ]
  },
  {
   "cell_type": "code",
   "execution_count": 33,
   "metadata": {},
   "outputs": [],
   "source": [
    "df2 = df2[cols]"
   ]
  },
  {
   "cell_type": "code",
   "execution_count": 34,
   "metadata": {},
   "outputs": [
    {
     "data": {
      "text/plain": [
       "(17029, 13)"
      ]
     },
     "execution_count": 34,
     "metadata": {},
     "output_type": "execute_result"
    }
   ],
   "source": [
    "df2.shape"
   ]
  },
  {
   "cell_type": "markdown",
   "metadata": {},
   "source": [
    "anonymise hopsital"
   ]
  },
  {
   "cell_type": "code",
   "execution_count": 35,
   "metadata": {},
   "outputs": [],
   "source": [
    "df2.SITE = 'HOSPITAL1'"
   ]
  },
  {
   "cell_type": "code",
   "execution_count": 36,
   "metadata": {},
   "outputs": [
    {
     "data": {
      "text/html": [
       "<div>\n",
       "<style scoped>\n",
       "    .dataframe tbody tr th:only-of-type {\n",
       "        vertical-align: middle;\n",
       "    }\n",
       "\n",
       "    .dataframe tbody tr th {\n",
       "        vertical-align: top;\n",
       "    }\n",
       "\n",
       "    .dataframe thead th {\n",
       "        text-align: right;\n",
       "    }\n",
       "</style>\n",
       "<table border=\"1\" class=\"dataframe\">\n",
       "  <thead>\n",
       "    <tr style=\"text-align: right;\">\n",
       "      <th></th>\n",
       "      <th>PSEUDONYMISED_PATIENT_ID</th>\n",
       "      <th>AGE_AT_ARRIVAL</th>\n",
       "      <th>GENDER_NATIONAL_DESCRIPTION</th>\n",
       "      <th>SITE</th>\n",
       "      <th>ARRIVAL_DTTM</th>\n",
       "      <th>ARRIVAL_MODE_NATIONAL_CODE</th>\n",
       "      <th>INITIAL_ASSESSMENT_DTTM</th>\n",
       "      <th>SEEN_FOR_TREATMENT_DTTM</th>\n",
       "      <th>SPECIALTY_REQUEST_TIME</th>\n",
       "      <th>SPECIALTY_REFERRED_TO_DESCRIPTION</th>\n",
       "      <th>ADMISSION_FLAG</th>\n",
       "      <th>ATTENDANCE_CONCLUSION_DTTM</th>\n",
       "      <th>STREAM_LOCAL_CODE</th>\n",
       "    </tr>\n",
       "  </thead>\n",
       "  <tbody>\n",
       "    <tr>\n",
       "      <th>20349</th>\n",
       "      <td>1538194</td>\n",
       "      <td>41</td>\n",
       "      <td>Female</td>\n",
       "      <td>HOSPITAL1</td>\n",
       "      <td>09/01/2013 19:47</td>\n",
       "      <td>2.0</td>\n",
       "      <td>09/01/2013 19:52</td>\n",
       "      <td>09/01/2013 22:49</td>\n",
       "      <td>NaN</td>\n",
       "      <td>NaN</td>\n",
       "      <td>0</td>\n",
       "      <td>09/01/2013 23:06</td>\n",
       "      <td>MIN</td>\n",
       "    </tr>\n",
       "    <tr>\n",
       "      <th>44345</th>\n",
       "      <td>635516</td>\n",
       "      <td>5</td>\n",
       "      <td>Male</td>\n",
       "      <td>HOSPITAL1</td>\n",
       "      <td>04/07/2013 09:33</td>\n",
       "      <td>2.0</td>\n",
       "      <td>04/07/2013 09:47</td>\n",
       "      <td>04/07/2013 10:01</td>\n",
       "      <td>NaN</td>\n",
       "      <td>NaN</td>\n",
       "      <td>0</td>\n",
       "      <td>04/07/2013 10:02</td>\n",
       "      <td>MIN</td>\n",
       "    </tr>\n",
       "    <tr>\n",
       "      <th>286855</th>\n",
       "      <td>763002</td>\n",
       "      <td>43</td>\n",
       "      <td>Male</td>\n",
       "      <td>HOSPITAL1</td>\n",
       "      <td>27/08/2017 00:17</td>\n",
       "      <td>2.0</td>\n",
       "      <td>27/08/2017 01:39</td>\n",
       "      <td>27/08/2017 02:59</td>\n",
       "      <td>NaN</td>\n",
       "      <td>NaN</td>\n",
       "      <td>0</td>\n",
       "      <td>27/08/2017 03:32</td>\n",
       "      <td>MIN</td>\n",
       "    </tr>\n",
       "    <tr>\n",
       "      <th>483653</th>\n",
       "      <td>1593565</td>\n",
       "      <td>5</td>\n",
       "      <td>Female</td>\n",
       "      <td>HOSPITAL1</td>\n",
       "      <td>23/05/2016 18:53</td>\n",
       "      <td>2.0</td>\n",
       "      <td>23/05/2016 19:03</td>\n",
       "      <td>23/05/2016 19:11</td>\n",
       "      <td>NaN</td>\n",
       "      <td>NaN</td>\n",
       "      <td>0</td>\n",
       "      <td>23/05/2016 19:12</td>\n",
       "      <td>MIN</td>\n",
       "    </tr>\n",
       "    <tr>\n",
       "      <th>67869</th>\n",
       "      <td>1483910</td>\n",
       "      <td>70</td>\n",
       "      <td>Female</td>\n",
       "      <td>HOSPITAL1</td>\n",
       "      <td>13/12/2013 18:46</td>\n",
       "      <td>1.0</td>\n",
       "      <td>13/12/2013 19:00</td>\n",
       "      <td>13/12/2013 18:56</td>\n",
       "      <td>NaN</td>\n",
       "      <td>NaN</td>\n",
       "      <td>1</td>\n",
       "      <td>13/12/2013 22:40</td>\n",
       "      <td>MIN</td>\n",
       "    </tr>\n",
       "  </tbody>\n",
       "</table>\n",
       "</div>"
      ],
      "text/plain": [
       "        PSEUDONYMISED_PATIENT_ID  AGE_AT_ARRIVAL GENDER_NATIONAL_DESCRIPTION  \\\n",
       "20349                    1538194              41                      Female   \n",
       "44345                     635516               5                        Male   \n",
       "286855                    763002              43                        Male   \n",
       "483653                   1593565               5                      Female   \n",
       "67869                    1483910              70                      Female   \n",
       "\n",
       "             SITE      ARRIVAL_DTTM  ARRIVAL_MODE_NATIONAL_CODE  \\\n",
       "20349   HOSPITAL1  09/01/2013 19:47                         2.0   \n",
       "44345   HOSPITAL1  04/07/2013 09:33                         2.0   \n",
       "286855  HOSPITAL1  27/08/2017 00:17                         2.0   \n",
       "483653  HOSPITAL1  23/05/2016 18:53                         2.0   \n",
       "67869   HOSPITAL1  13/12/2013 18:46                         1.0   \n",
       "\n",
       "       INITIAL_ASSESSMENT_DTTM SEEN_FOR_TREATMENT_DTTM SPECIALTY_REQUEST_TIME  \\\n",
       "20349         09/01/2013 19:52        09/01/2013 22:49                    NaN   \n",
       "44345         04/07/2013 09:47        04/07/2013 10:01                    NaN   \n",
       "286855        27/08/2017 01:39        27/08/2017 02:59                    NaN   \n",
       "483653        23/05/2016 19:03        23/05/2016 19:11                    NaN   \n",
       "67869         13/12/2013 19:00        13/12/2013 18:56                    NaN   \n",
       "\n",
       "       SPECIALTY_REFERRED_TO_DESCRIPTION  ADMISSION_FLAG  \\\n",
       "20349                                NaN               0   \n",
       "44345                                NaN               0   \n",
       "286855                               NaN               0   \n",
       "483653                               NaN               0   \n",
       "67869                                NaN               1   \n",
       "\n",
       "       ATTENDANCE_CONCLUSION_DTTM STREAM_LOCAL_CODE  \n",
       "20349            09/01/2013 23:06               MIN  \n",
       "44345            04/07/2013 10:02               MIN  \n",
       "286855           27/08/2017 03:32               MIN  \n",
       "483653           23/05/2016 19:12               MIN  \n",
       "67869            13/12/2013 22:40               MIN  "
      ]
     },
     "execution_count": 36,
     "metadata": {},
     "output_type": "execute_result"
    }
   ],
   "source": [
    "df2.head()"
   ]
  },
  {
   "cell_type": "code",
   "execution_count": 37,
   "metadata": {},
   "outputs": [
    {
     "data": {
      "text/plain": [
       "Index(['PSEUDONYMISED_PATIENT_ID', 'AGE_AT_ARRIVAL',\n",
       "       'GENDER_NATIONAL_DESCRIPTION', 'SITE', 'ARRIVAL_DTTM',\n",
       "       'ARRIVAL_MODE_NATIONAL_CODE', 'INITIAL_ASSESSMENT_DTTM',\n",
       "       'SEEN_FOR_TREATMENT_DTTM', 'SPECIALTY_REQUEST_TIME',\n",
       "       'SPECIALTY_REFERRED_TO_DESCRIPTION', 'ADMISSION_FLAG',\n",
       "       'ATTENDANCE_CONCLUSION_DTTM', 'STREAM_LOCAL_CODE'],\n",
       "      dtype='object')"
      ]
     },
     "execution_count": 37,
     "metadata": {},
     "output_type": "execute_result"
    }
   ],
   "source": [
    "df2.columns"
   ]
  },
  {
   "cell_type": "code",
   "execution_count": null,
   "metadata": {},
   "outputs": [],
   "source": [
    "np.random.random_integers()"
   ]
  },
  {
   "cell_type": "markdown",
   "metadata": {},
   "source": [
    "remove anonysyed ids with randoms"
   ]
  },
  {
   "cell_type": "code",
   "execution_count": 44,
   "metadata": {},
   "outputs": [],
   "source": [
    "df2.PSEUDONYMISED_PATIENT_ID = np.random.randint(0,7000,df2.shape[0])"
   ]
  },
  {
   "cell_type": "code",
   "execution_count": 45,
   "metadata": {},
   "outputs": [
    {
     "data": {
      "text/html": [
       "<div>\n",
       "<style scoped>\n",
       "    .dataframe tbody tr th:only-of-type {\n",
       "        vertical-align: middle;\n",
       "    }\n",
       "\n",
       "    .dataframe tbody tr th {\n",
       "        vertical-align: top;\n",
       "    }\n",
       "\n",
       "    .dataframe thead th {\n",
       "        text-align: right;\n",
       "    }\n",
       "</style>\n",
       "<table border=\"1\" class=\"dataframe\">\n",
       "  <thead>\n",
       "    <tr style=\"text-align: right;\">\n",
       "      <th></th>\n",
       "      <th>PSEUDONYMISED_PATIENT_ID</th>\n",
       "      <th>AGE_AT_ARRIVAL</th>\n",
       "      <th>GENDER_NATIONAL_DESCRIPTION</th>\n",
       "      <th>SITE</th>\n",
       "      <th>ARRIVAL_DTTM</th>\n",
       "      <th>ARRIVAL_MODE_NATIONAL_CODE</th>\n",
       "      <th>INITIAL_ASSESSMENT_DTTM</th>\n",
       "      <th>SEEN_FOR_TREATMENT_DTTM</th>\n",
       "      <th>SPECIALTY_REQUEST_TIME</th>\n",
       "      <th>SPECIALTY_REFERRED_TO_DESCRIPTION</th>\n",
       "      <th>ADMISSION_FLAG</th>\n",
       "      <th>ATTENDANCE_CONCLUSION_DTTM</th>\n",
       "      <th>STREAM_LOCAL_CODE</th>\n",
       "    </tr>\n",
       "  </thead>\n",
       "  <tbody>\n",
       "    <tr>\n",
       "      <th>20349</th>\n",
       "      <td>2493</td>\n",
       "      <td>41</td>\n",
       "      <td>Female</td>\n",
       "      <td>HOSPITAL1</td>\n",
       "      <td>09/01/2013 19:47</td>\n",
       "      <td>2.0</td>\n",
       "      <td>09/01/2013 19:52</td>\n",
       "      <td>09/01/2013 22:49</td>\n",
       "      <td>NaN</td>\n",
       "      <td>NaN</td>\n",
       "      <td>0</td>\n",
       "      <td>09/01/2013 23:06</td>\n",
       "      <td>MIN</td>\n",
       "    </tr>\n",
       "    <tr>\n",
       "      <th>44345</th>\n",
       "      <td>4822</td>\n",
       "      <td>5</td>\n",
       "      <td>Male</td>\n",
       "      <td>HOSPITAL1</td>\n",
       "      <td>04/07/2013 09:33</td>\n",
       "      <td>2.0</td>\n",
       "      <td>04/07/2013 09:47</td>\n",
       "      <td>04/07/2013 10:01</td>\n",
       "      <td>NaN</td>\n",
       "      <td>NaN</td>\n",
       "      <td>0</td>\n",
       "      <td>04/07/2013 10:02</td>\n",
       "      <td>MIN</td>\n",
       "    </tr>\n",
       "    <tr>\n",
       "      <th>286855</th>\n",
       "      <td>6012</td>\n",
       "      <td>43</td>\n",
       "      <td>Male</td>\n",
       "      <td>HOSPITAL1</td>\n",
       "      <td>27/08/2017 00:17</td>\n",
       "      <td>2.0</td>\n",
       "      <td>27/08/2017 01:39</td>\n",
       "      <td>27/08/2017 02:59</td>\n",
       "      <td>NaN</td>\n",
       "      <td>NaN</td>\n",
       "      <td>0</td>\n",
       "      <td>27/08/2017 03:32</td>\n",
       "      <td>MIN</td>\n",
       "    </tr>\n",
       "    <tr>\n",
       "      <th>483653</th>\n",
       "      <td>5402</td>\n",
       "      <td>5</td>\n",
       "      <td>Female</td>\n",
       "      <td>HOSPITAL1</td>\n",
       "      <td>23/05/2016 18:53</td>\n",
       "      <td>2.0</td>\n",
       "      <td>23/05/2016 19:03</td>\n",
       "      <td>23/05/2016 19:11</td>\n",
       "      <td>NaN</td>\n",
       "      <td>NaN</td>\n",
       "      <td>0</td>\n",
       "      <td>23/05/2016 19:12</td>\n",
       "      <td>MIN</td>\n",
       "    </tr>\n",
       "    <tr>\n",
       "      <th>67869</th>\n",
       "      <td>1646</td>\n",
       "      <td>70</td>\n",
       "      <td>Female</td>\n",
       "      <td>HOSPITAL1</td>\n",
       "      <td>13/12/2013 18:46</td>\n",
       "      <td>1.0</td>\n",
       "      <td>13/12/2013 19:00</td>\n",
       "      <td>13/12/2013 18:56</td>\n",
       "      <td>NaN</td>\n",
       "      <td>NaN</td>\n",
       "      <td>1</td>\n",
       "      <td>13/12/2013 22:40</td>\n",
       "      <td>MIN</td>\n",
       "    </tr>\n",
       "  </tbody>\n",
       "</table>\n",
       "</div>"
      ],
      "text/plain": [
       "        PSEUDONYMISED_PATIENT_ID  AGE_AT_ARRIVAL GENDER_NATIONAL_DESCRIPTION  \\\n",
       "20349                       2493              41                      Female   \n",
       "44345                       4822               5                        Male   \n",
       "286855                      6012              43                        Male   \n",
       "483653                      5402               5                      Female   \n",
       "67869                       1646              70                      Female   \n",
       "\n",
       "             SITE      ARRIVAL_DTTM  ARRIVAL_MODE_NATIONAL_CODE  \\\n",
       "20349   HOSPITAL1  09/01/2013 19:47                         2.0   \n",
       "44345   HOSPITAL1  04/07/2013 09:33                         2.0   \n",
       "286855  HOSPITAL1  27/08/2017 00:17                         2.0   \n",
       "483653  HOSPITAL1  23/05/2016 18:53                         2.0   \n",
       "67869   HOSPITAL1  13/12/2013 18:46                         1.0   \n",
       "\n",
       "       INITIAL_ASSESSMENT_DTTM SEEN_FOR_TREATMENT_DTTM SPECIALTY_REQUEST_TIME  \\\n",
       "20349         09/01/2013 19:52        09/01/2013 22:49                    NaN   \n",
       "44345         04/07/2013 09:47        04/07/2013 10:01                    NaN   \n",
       "286855        27/08/2017 01:39        27/08/2017 02:59                    NaN   \n",
       "483653        23/05/2016 19:03        23/05/2016 19:11                    NaN   \n",
       "67869         13/12/2013 19:00        13/12/2013 18:56                    NaN   \n",
       "\n",
       "       SPECIALTY_REFERRED_TO_DESCRIPTION  ADMISSION_FLAG  \\\n",
       "20349                                NaN               0   \n",
       "44345                                NaN               0   \n",
       "286855                               NaN               0   \n",
       "483653                               NaN               0   \n",
       "67869                                NaN               1   \n",
       "\n",
       "       ATTENDANCE_CONCLUSION_DTTM STREAM_LOCAL_CODE  \n",
       "20349            09/01/2013 23:06               MIN  \n",
       "44345            04/07/2013 10:02               MIN  \n",
       "286855           27/08/2017 03:32               MIN  \n",
       "483653           23/05/2016 19:12               MIN  \n",
       "67869            13/12/2013 22:40               MIN  "
      ]
     },
     "execution_count": 45,
     "metadata": {},
     "output_type": "execute_result"
    }
   ],
   "source": [
    "df2.head()"
   ]
  },
  {
   "cell_type": "code",
   "execution_count": 74,
   "metadata": {},
   "outputs": [
    {
     "data": {
      "text/plain": [
       "Index(['PSEUDONYMISED_PATIENT_ID', 'AGE_AT_ARRIVAL',\n",
       "       'GENDER_NATIONAL_DESCRIPTION', 'SITE', 'ARRIVAL_DTTM',\n",
       "       'ARRIVAL_MODE_NATIONAL_CODE', 'INITIAL_ASSESSMENT_DTTM',\n",
       "       'SEEN_FOR_TREATMENT_DTTM', 'SPECIALTY_REQUEST_TIME',\n",
       "       'SPECIALTY_REFERRED_TO_DESCRIPTION', 'ADMISSION_FLAG',\n",
       "       'ATTENDANCE_CONCLUSION_DTTM', 'STREAM_LOCAL_CODE'],\n",
       "      dtype='object')"
      ]
     },
     "execution_count": 74,
     "metadata": {},
     "output_type": "execute_result"
    }
   ],
   "source": [
    "df2.columns"
   ]
  },
  {
   "cell_type": "markdown",
   "metadata": {},
   "source": [
    "randomise datetimes"
   ]
  },
  {
   "cell_type": "code",
   "execution_count": 64,
   "metadata": {},
   "outputs": [],
   "source": [
    "import flosp"
   ]
  },
  {
   "cell_type": "code",
   "execution_count": 75,
   "metadata": {},
   "outputs": [],
   "source": [
    "cols_toconvert = ['INITIAL_ASSESSMENT_DTTM',\n",
    "       'SEEN_FOR_TREATMENT_DTTM','ARRIVAL_DTTM','ATTENDANCE_CONCLUSION_DTTM']"
   ]
  },
  {
   "cell_type": "code",
   "execution_count": 76,
   "metadata": {},
   "outputs": [
    {
     "name": "stdout",
     "output_type": "stream",
     "text": [
      "Converting cols to datetime...(may take some time depedning on size of df)...\n",
      "ARRIVAL_DTTM...is already datetime format\n",
      "INITIAL_ASSESSMENT_DTTM...converting\n",
      "SEEN_FOR_TREATMENT_DTTM...converting\n",
      "ATTENDANCE_CONCLUSION_DTTM...converting\n"
     ]
    }
   ],
   "source": [
    "df2 = flosp.basic_tools.convert_cols_datetime(df2, '%d/%m/%Y %H:%M' ,cols_toconvert)"
   ]
  },
  {
   "cell_type": "code",
   "execution_count": 105,
   "metadata": {},
   "outputs": [],
   "source": [
    "def time_randomiser(x):\n",
    "    daychange = pd.Timedelta(np.random.randint(-2,2),'D')\n",
    "    hourchange = pd.Timedelta(np.random.randint(-1,1),'h')\n",
    "    minchange = pd.Timedelta(np.random.randint(-8,17),'m')\n",
    "    \n",
    "    y = x + daychange\n",
    "    y = y + hourchange\n",
    "    y = y + minchange\n",
    "    #print(y)\n",
    "    return(y)"
   ]
  },
  {
   "cell_type": "code",
   "execution_count": 106,
   "metadata": {},
   "outputs": [],
   "source": [
    "for i in cols_toconvert:\n",
    "    df2[i] = df2[i].apply(time_randomiser)"
   ]
  },
  {
   "cell_type": "code",
   "execution_count": 78,
   "metadata": {},
   "outputs": [
    {
     "data": {
      "text/plain": [
       "Timestamp('2013-01-08 19:47:00')"
      ]
     },
     "execution_count": 78,
     "metadata": {},
     "output_type": "execute_result"
    }
   ],
   "source": [
    "df2.head().ARRIVAL_DTTM[20349] + pd.Timedelta(-1,'D')"
   ]
  },
  {
   "cell_type": "code",
   "execution_count": 108,
   "metadata": {},
   "outputs": [
    {
     "data": {
      "text/plain": [
       "Timestamp('2013-01-07 19:44:00')"
      ]
     },
     "execution_count": 108,
     "metadata": {},
     "output_type": "execute_result"
    }
   ],
   "source": [
    "df2.head().ARRIVAL_DTTM[20349] + pd.Timedelta(-1,'D')"
   ]
  },
  {
   "cell_type": "code",
   "execution_count": null,
   "metadata": {},
   "outputs": [],
   "source": []
  },
  {
   "cell_type": "markdown",
   "metadata": {},
   "source": [
    "randomise ages"
   ]
  },
  {
   "cell_type": "code",
   "execution_count": 113,
   "metadata": {},
   "outputs": [],
   "source": [
    "def age_randomiser(x):\n",
    "    agechange = np.random.randint(0,20)\n",
    "    x+=agechange\n",
    "    \n",
    "    return(x)"
   ]
  },
  {
   "cell_type": "code",
   "execution_count": 115,
   "metadata": {},
   "outputs": [],
   "source": [
    "df2['AGE_AT_ARRIVAL'] = df2['AGE_AT_ARRIVAL'].apply(age_randomiser)"
   ]
  },
  {
   "cell_type": "code",
   "execution_count": null,
   "metadata": {},
   "outputs": [],
   "source": []
  },
  {
   "cell_type": "code",
   "execution_count": null,
   "metadata": {},
   "outputs": [],
   "source": []
  },
  {
   "cell_type": "code",
   "execution_count": 116,
   "metadata": {},
   "outputs": [],
   "source": [
    "df2.to_csv('./example_data.csv',index=False)"
   ]
  },
  {
   "cell_type": "code",
   "execution_count": null,
   "metadata": {},
   "outputs": [],
   "source": []
  }
 ],
 "metadata": {
  "kernelspec": {
   "display_name": "Python 3",
   "language": "python",
   "name": "python3"
  },
  "language_info": {
   "codemirror_mode": {
    "name": "ipython",
    "version": 3
   },
   "file_extension": ".py",
   "mimetype": "text/x-python",
   "name": "python",
   "nbconvert_exporter": "python",
   "pygments_lexer": "ipython3",
   "version": "3.6.4"
  }
 },
 "nbformat": 4,
 "nbformat_minor": 2
}
