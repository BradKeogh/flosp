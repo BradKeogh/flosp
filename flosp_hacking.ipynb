{
 "cells": [
  {
   "cell_type": "code",
   "execution_count": 6,
   "metadata": {},
   "outputs": [
    {
     "name": "stdout",
     "output_type": "stream",
     "text": [
      "The autoreload extension is already loaded. To reload it, use:\n",
      "  %reload_ext autoreload\n"
     ]
    }
   ],
   "source": [
    "%load_ext autoreload\n",
    "\n",
    "%autoreload 2"
   ]
  },
  {
   "cell_type": "code",
   "execution_count": 17,
   "metadata": {},
   "outputs": [],
   "source": [
    "from flosp import Interface\n",
    "import pandas as pd"
   ]
  },
  {
   "cell_type": "code",
   "execution_count": 9,
   "metadata": {},
   "outputs": [
    {
     "name": "stdout",
     "output_type": "stream",
     "text": [
      "flosp started.\n",
      "Imported setup.py sucessfully.\n"
     ]
    }
   ],
   "source": [
    "H = Interface(\"./example/setup.py\")"
   ]
  },
  {
   "cell_type": "code",
   "execution_count": 10,
   "metadata": {},
   "outputs": [
    {
     "name": "stdout",
     "output_type": "stream",
     "text": [
      "IO class called.\n",
      "IO class instantiated.\n"
     ]
    }
   ],
   "source": [
    "H.load_dataED('./example/example_data.csv')"
   ]
  },
  {
   "cell_type": "code",
   "execution_count": 12,
   "metadata": {},
   "outputs": [
    {
     "data": {
      "text/html": [
       "<div>\n",
       "<style scoped>\n",
       "    .dataframe tbody tr th:only-of-type {\n",
       "        vertical-align: middle;\n",
       "    }\n",
       "\n",
       "    .dataframe tbody tr th {\n",
       "        vertical-align: top;\n",
       "    }\n",
       "\n",
       "    .dataframe thead th {\n",
       "        text-align: right;\n",
       "    }\n",
       "</style>\n",
       "<table border=\"1\" class=\"dataframe\">\n",
       "  <thead>\n",
       "    <tr style=\"text-align: right;\">\n",
       "      <th></th>\n",
       "      <th>PSEUDONYMISED_PATIENT_ID</th>\n",
       "      <th>AGE_AT_ARRIVAL</th>\n",
       "      <th>GENDER_NATIONAL_DESCRIPTION</th>\n",
       "      <th>SITE</th>\n",
       "      <th>ARRIVAL_DTTM</th>\n",
       "      <th>ARRIVAL_MODE_NATIONAL_CODE</th>\n",
       "      <th>INITIAL_ASSESSMENT_DTTM</th>\n",
       "      <th>SEEN_FOR_TREATMENT_DTTM</th>\n",
       "      <th>SPECIALTY_REQUEST_TIME</th>\n",
       "      <th>SPECIALTY_REFERRED_TO_DESCRIPTION</th>\n",
       "      <th>ADMISSION_FLAG</th>\n",
       "      <th>DEPARTURE_DTTM</th>\n",
       "      <th>STREAM_LOCAL_CODE</th>\n",
       "    </tr>\n",
       "  </thead>\n",
       "  <tbody>\n",
       "    <tr>\n",
       "      <th>0</th>\n",
       "      <td>2493</td>\n",
       "      <td>50</td>\n",
       "      <td>Female</td>\n",
       "      <td>HOSPITAL1</td>\n",
       "      <td>2013-01-08 19:44:00</td>\n",
       "      <td>2.0</td>\n",
       "      <td>2013-01-07 18:50:00</td>\n",
       "      <td>2013-01-09 21:50:00</td>\n",
       "      <td>NaN</td>\n",
       "      <td>NaN</td>\n",
       "      <td>0</td>\n",
       "      <td>2013-01-10 23:16:00</td>\n",
       "      <td>MIN</td>\n",
       "    </tr>\n",
       "    <tr>\n",
       "      <th>1</th>\n",
       "      <td>4822</td>\n",
       "      <td>22</td>\n",
       "      <td>Male</td>\n",
       "      <td>HOSPITAL1</td>\n",
       "      <td>2013-07-03 09:34:00</td>\n",
       "      <td>2.0</td>\n",
       "      <td>2013-07-03 08:57:00</td>\n",
       "      <td>2013-07-02 09:17:00</td>\n",
       "      <td>NaN</td>\n",
       "      <td>NaN</td>\n",
       "      <td>0</td>\n",
       "      <td>2013-07-05 09:02:00</td>\n",
       "      <td>MIN</td>\n",
       "    </tr>\n",
       "    <tr>\n",
       "      <th>2</th>\n",
       "      <td>6012</td>\n",
       "      <td>51</td>\n",
       "      <td>Male</td>\n",
       "      <td>HOSPITAL1</td>\n",
       "      <td>2017-08-27 23:33:00</td>\n",
       "      <td>2.0</td>\n",
       "      <td>2017-08-26 01:32:00</td>\n",
       "      <td>2017-08-27 03:12:00</td>\n",
       "      <td>NaN</td>\n",
       "      <td>NaN</td>\n",
       "      <td>0</td>\n",
       "      <td>2017-08-26 03:31:00</td>\n",
       "      <td>MIN</td>\n",
       "    </tr>\n",
       "    <tr>\n",
       "      <th>3</th>\n",
       "      <td>5402</td>\n",
       "      <td>10</td>\n",
       "      <td>Female</td>\n",
       "      <td>HOSPITAL1</td>\n",
       "      <td>2016-05-23 18:48:00</td>\n",
       "      <td>2.0</td>\n",
       "      <td>2016-05-23 19:18:00</td>\n",
       "      <td>2016-05-24 18:23:00</td>\n",
       "      <td>NaN</td>\n",
       "      <td>NaN</td>\n",
       "      <td>0</td>\n",
       "      <td>2016-05-22 19:22:00</td>\n",
       "      <td>MIN</td>\n",
       "    </tr>\n",
       "    <tr>\n",
       "      <th>4</th>\n",
       "      <td>1646</td>\n",
       "      <td>75</td>\n",
       "      <td>Female</td>\n",
       "      <td>HOSPITAL1</td>\n",
       "      <td>2013-12-11 17:47:00</td>\n",
       "      <td>1.0</td>\n",
       "      <td>2013-12-14 17:59:00</td>\n",
       "      <td>2013-12-12 18:01:00</td>\n",
       "      <td>NaN</td>\n",
       "      <td>NaN</td>\n",
       "      <td>1</td>\n",
       "      <td>2013-12-14 21:45:00</td>\n",
       "      <td>MIN</td>\n",
       "    </tr>\n",
       "  </tbody>\n",
       "</table>\n",
       "</div>"
      ],
      "text/plain": [
       "   PSEUDONYMISED_PATIENT_ID  AGE_AT_ARRIVAL GENDER_NATIONAL_DESCRIPTION  \\\n",
       "0                      2493              50                      Female   \n",
       "1                      4822              22                        Male   \n",
       "2                      6012              51                        Male   \n",
       "3                      5402              10                      Female   \n",
       "4                      1646              75                      Female   \n",
       "\n",
       "        SITE         ARRIVAL_DTTM  ARRIVAL_MODE_NATIONAL_CODE  \\\n",
       "0  HOSPITAL1  2013-01-08 19:44:00                         2.0   \n",
       "1  HOSPITAL1  2013-07-03 09:34:00                         2.0   \n",
       "2  HOSPITAL1  2017-08-27 23:33:00                         2.0   \n",
       "3  HOSPITAL1  2016-05-23 18:48:00                         2.0   \n",
       "4  HOSPITAL1  2013-12-11 17:47:00                         1.0   \n",
       "\n",
       "  INITIAL_ASSESSMENT_DTTM SEEN_FOR_TREATMENT_DTTM SPECIALTY_REQUEST_TIME  \\\n",
       "0     2013-01-07 18:50:00     2013-01-09 21:50:00                    NaN   \n",
       "1     2013-07-03 08:57:00     2013-07-02 09:17:00                    NaN   \n",
       "2     2017-08-26 01:32:00     2017-08-27 03:12:00                    NaN   \n",
       "3     2016-05-23 19:18:00     2016-05-24 18:23:00                    NaN   \n",
       "4     2013-12-14 17:59:00     2013-12-12 18:01:00                    NaN   \n",
       "\n",
       "  SPECIALTY_REFERRED_TO_DESCRIPTION  ADMISSION_FLAG  \\\n",
       "0                               NaN               0   \n",
       "1                               NaN               0   \n",
       "2                               NaN               0   \n",
       "3                               NaN               0   \n",
       "4                               NaN               1   \n",
       "\n",
       "  DEPARTURE_DTTM STREAM_LOCAL_CODE  \n",
       "0        2013-01-10 23:16:00               MIN  \n",
       "1        2013-07-05 09:02:00               MIN  \n",
       "2        2017-08-26 03:31:00               MIN  \n",
       "3        2016-05-22 19:22:00               MIN  \n",
       "4        2013-12-14 21:45:00               MIN  "
      ]
     },
     "execution_count": 12,
     "metadata": {},
     "output_type": "execute_result"
    }
   ],
   "source": [
    "H.data.RawED.head()"
   ]
  },
  {
   "cell_type": "code",
   "execution_count": 14,
   "metadata": {},
   "outputs": [],
   "source": [
    "df = H.data.RawED "
   ]
  },
  {
   "cell_type": "code",
   "execution_count": 15,
   "metadata": {},
   "outputs": [
    {
     "data": {
      "text/html": [
       "<div>\n",
       "<style scoped>\n",
       "    .dataframe tbody tr th:only-of-type {\n",
       "        vertical-align: middle;\n",
       "    }\n",
       "\n",
       "    .dataframe tbody tr th {\n",
       "        vertical-align: top;\n",
       "    }\n",
       "\n",
       "    .dataframe thead th {\n",
       "        text-align: right;\n",
       "    }\n",
       "</style>\n",
       "<table border=\"1\" class=\"dataframe\">\n",
       "  <thead>\n",
       "    <tr style=\"text-align: right;\">\n",
       "      <th></th>\n",
       "      <th>PSEUDONYMISED_PATIENT_ID</th>\n",
       "      <th>AGE_AT_ARRIVAL</th>\n",
       "      <th>GENDER_NATIONAL_DESCRIPTION</th>\n",
       "      <th>SITE</th>\n",
       "      <th>ARRIVAL_DTTM</th>\n",
       "      <th>ARRIVAL_MODE_NATIONAL_CODE</th>\n",
       "      <th>INITIAL_ASSESSMENT_DTTM</th>\n",
       "      <th>SEEN_FOR_TREATMENT_DTTM</th>\n",
       "      <th>SPECIALTY_REQUEST_TIME</th>\n",
       "      <th>SPECIALTY_REFERRED_TO_DESCRIPTION</th>\n",
       "      <th>ADMISSION_FLAG</th>\n",
       "      <th>DEPARTURE_DTTM</th>\n",
       "      <th>STREAM_LOCAL_CODE</th>\n",
       "    </tr>\n",
       "  </thead>\n",
       "  <tbody>\n",
       "    <tr>\n",
       "      <th>0</th>\n",
       "      <td>2493</td>\n",
       "      <td>50</td>\n",
       "      <td>Female</td>\n",
       "      <td>HOSPITAL1</td>\n",
       "      <td>2013-01-08 19:44:00</td>\n",
       "      <td>2.0</td>\n",
       "      <td>2013-01-07 18:50:00</td>\n",
       "      <td>2013-01-09 21:50:00</td>\n",
       "      <td>NaN</td>\n",
       "      <td>NaN</td>\n",
       "      <td>0</td>\n",
       "      <td>2013-01-10 23:16:00</td>\n",
       "      <td>MIN</td>\n",
       "    </tr>\n",
       "  </tbody>\n",
       "</table>\n",
       "</div>"
      ],
      "text/plain": [
       "   PSEUDONYMISED_PATIENT_ID  AGE_AT_ARRIVAL GENDER_NATIONAL_DESCRIPTION  \\\n",
       "0                      2493              50                      Female   \n",
       "\n",
       "        SITE         ARRIVAL_DTTM  ARRIVAL_MODE_NATIONAL_CODE  \\\n",
       "0  HOSPITAL1  2013-01-08 19:44:00                         2.0   \n",
       "\n",
       "  INITIAL_ASSESSMENT_DTTM SEEN_FOR_TREATMENT_DTTM SPECIALTY_REQUEST_TIME  \\\n",
       "0     2013-01-07 18:50:00     2013-01-09 21:50:00                    NaN   \n",
       "\n",
       "  SPECIALTY_REFERRED_TO_DESCRIPTION  ADMISSION_FLAG  \\\n",
       "0                               NaN               0   \n",
       "\n",
       "  DEPARTURE_DTTM STREAM_LOCAL_CODE  \n",
       "0        2013-01-10 23:16:00               MIN  "
      ]
     },
     "execution_count": 15,
     "metadata": {},
     "output_type": "execute_result"
    }
   ],
   "source": [
    "df.head(1)"
   ]
  },
  {
   "cell_type": "code",
   "execution_count": 20,
   "metadata": {},
   "outputs": [
    {
     "data": {
      "text/plain": [
       "(17029, 13)"
      ]
     },
     "execution_count": 20,
     "metadata": {},
     "output_type": "execute_result"
    }
   ],
   "source": [
    "df.shape"
   ]
  },
  {
   "cell_type": "code",
   "execution_count": 16,
   "metadata": {},
   "outputs": [
    {
     "data": {
      "text/plain": [
       "Index(['PSEUDONYMISED_PATIENT_ID', 'AGE_AT_ARRIVAL',\n",
       "       'GENDER_NATIONAL_DESCRIPTION', 'SITE', 'ARRIVAL_DTTM',\n",
       "       'ARRIVAL_MODE_NATIONAL_CODE', 'INITIAL_ASSESSMENT_DTTM',\n",
       "       'SEEN_FOR_TREATMENT_DTTM', 'SPECIALTY_REQUEST_TIME',\n",
       "       'SPECIALTY_REFERRED_TO_DESCRIPTION', 'ADMISSION_FLAG',\n",
       "       'DEPARTURE_DTTM', 'STREAM_LOCAL_CODE'],\n",
       "      dtype='object')"
      ]
     },
     "execution_count": 16,
     "metadata": {},
     "output_type": "execute_result"
    }
   ],
   "source": [
    "df.columns"
   ]
  },
  {
   "cell_type": "code",
   "execution_count": 39,
   "metadata": {},
   "outputs": [],
   "source": [
    "dataRAW_expected_dtypes = {\n",
    "'PSEUDONYMISED_PATIENT_ID':str,\n",
    "'PSEUDONYMISED_PATIENT_ID':str,\n",
    "'AGE_AT_ARRIVAL':int,\n",
    "'GENDER_NATIONAL_DESCRIPTION':str,\n",
    "'SITE':str,\n",
    "'ARRIVAL_DTTM':object,\n",
    "'ARRIVAL_MODE_NATIONAL_CODE':str,\n",
    "'INITIAL_ASSESSMENT_DTTM':object,\n",
    "'SEEN_FOR_TREATMENT_DTTM':object,\n",
    "'SPECIALTY_REQUEST_TIME':object,\n",
    "'SPECIALTY_REFERRED_TO_DESCRIPTION':str,\n",
    "'ADMISSION_FLAG':str,\n",
    "'DEPARTURE_DTTM':object,\n",
    "'STREAM_LOCAL_CODE':str\n",
    "}"
   ]
  },
  {
   "cell_type": "code",
   "execution_count": 40,
   "metadata": {},
   "outputs": [
    {
     "data": {
      "text/html": [
       "<div>\n",
       "<style scoped>\n",
       "    .dataframe tbody tr th:only-of-type {\n",
       "        vertical-align: middle;\n",
       "    }\n",
       "\n",
       "    .dataframe tbody tr th {\n",
       "        vertical-align: top;\n",
       "    }\n",
       "\n",
       "    .dataframe thead th {\n",
       "        text-align: right;\n",
       "    }\n",
       "</style>\n",
       "<table border=\"1\" class=\"dataframe\">\n",
       "  <thead>\n",
       "    <tr style=\"text-align: right;\">\n",
       "      <th></th>\n",
       "      <th>PSEUDONYMISED_PATIENT_ID</th>\n",
       "      <th>AGE_AT_ARRIVAL</th>\n",
       "      <th>GENDER_NATIONAL_DESCRIPTION</th>\n",
       "      <th>SITE</th>\n",
       "      <th>ARRIVAL_DTTM</th>\n",
       "      <th>ARRIVAL_MODE_NATIONAL_CODE</th>\n",
       "      <th>INITIAL_ASSESSMENT_DTTM</th>\n",
       "      <th>SEEN_FOR_TREATMENT_DTTM</th>\n",
       "      <th>SPECIALTY_REQUEST_TIME</th>\n",
       "      <th>SPECIALTY_REFERRED_TO_DESCRIPTION</th>\n",
       "      <th>ADMISSION_FLAG</th>\n",
       "      <th>DEPARTURE_DTTM</th>\n",
       "      <th>STREAM_LOCAL_CODE</th>\n",
       "    </tr>\n",
       "  </thead>\n",
       "  <tbody>\n",
       "    <tr>\n",
       "      <th>0</th>\n",
       "      <td>2493</td>\n",
       "      <td>50</td>\n",
       "      <td>Female</td>\n",
       "      <td>HOSPITAL1</td>\n",
       "      <td>2013-01-08 19:44:00</td>\n",
       "      <td>2.0</td>\n",
       "      <td>2013-01-07 18:50:00</td>\n",
       "      <td>2013-01-09 21:50:00</td>\n",
       "      <td>NaN</td>\n",
       "      <td>NaN</td>\n",
       "      <td>0</td>\n",
       "      <td>2013-01-10 23:16:00</td>\n",
       "      <td>MIN</td>\n",
       "    </tr>\n",
       "  </tbody>\n",
       "</table>\n",
       "</div>"
      ],
      "text/plain": [
       "  PSEUDONYMISED_PATIENT_ID  AGE_AT_ARRIVAL GENDER_NATIONAL_DESCRIPTION  \\\n",
       "0                     2493              50                      Female   \n",
       "\n",
       "        SITE         ARRIVAL_DTTM ARRIVAL_MODE_NATIONAL_CODE  \\\n",
       "0  HOSPITAL1  2013-01-08 19:44:00                        2.0   \n",
       "\n",
       "  INITIAL_ASSESSMENT_DTTM SEEN_FOR_TREATMENT_DTTM SPECIALTY_REQUEST_TIME  \\\n",
       "0     2013-01-07 18:50:00     2013-01-09 21:50:00                    NaN   \n",
       "\n",
       "  SPECIALTY_REFERRED_TO_DESCRIPTION ADMISSION_FLAG DEPARTURE_DTTM  \\\n",
       "0                               NaN              0        2013-01-10 23:16:00   \n",
       "\n",
       "  STREAM_LOCAL_CODE  \n",
       "0               MIN  "
      ]
     },
     "execution_count": 40,
     "metadata": {},
     "output_type": "execute_result"
    }
   ],
   "source": [
    "# DTdict = {'SITE':str,'PSEUDONYMISED_PATIENT_ID':str,'AGE_AT_ARRIVAL':int}\n",
    "df2 = pd.read_csv('./example/example_data.csv',low_memory=True,dtype=dataRAW_expected_dtypes)\n",
    "                  \n",
    "#                   parse_dates = ['ARRIVAL_DTTM','INITIAL_ASSESSMENT_DTTM'],\n",
    "#                   infer_datetime_format=True)\n",
    "df2.head(1)"
   ]
  },
  {
   "cell_type": "code",
   "execution_count": 49,
   "metadata": {},
   "outputs": [
    {
     "data": {
      "text/plain": [
       "0             NaN\n",
       "1             NaN\n",
       "2             NaN\n",
       "3             NaN\n",
       "4             NaN\n",
       "5             NaN\n",
       "6             NaN\n",
       "7        18:10:08\n",
       "8             NaN\n",
       "9             NaN\n",
       "10            NaN\n",
       "11            NaN\n",
       "12            NaN\n",
       "13       16:53:38\n",
       "14            NaN\n",
       "15       17:10:44\n",
       "16            NaN\n",
       "17            NaN\n",
       "18            NaN\n",
       "19            NaN\n",
       "20            NaN\n",
       "21       15:45:50\n",
       "22            NaN\n",
       "23            NaN\n",
       "24            NaN\n",
       "25            NaN\n",
       "26            NaN\n",
       "27       07:15:24\n",
       "28            NaN\n",
       "29       03:39:41\n",
       "           ...   \n",
       "16999         NaN\n",
       "17000         NaN\n",
       "17001         NaN\n",
       "17002         NaN\n",
       "17003         NaN\n",
       "17004    19:30:55\n",
       "17005    19:19:02\n",
       "17006         NaN\n",
       "17007    16:49:00\n",
       "17008         NaN\n",
       "17009         NaN\n",
       "17010         NaN\n",
       "17011         NaN\n",
       "17012         NaN\n",
       "17013         NaN\n",
       "17014         NaN\n",
       "17015    17:50:48\n",
       "17016         NaN\n",
       "17017    20:53:53\n",
       "17018         NaN\n",
       "17019         NaN\n",
       "17020    01:01:07\n",
       "17021    16:47:53\n",
       "17022         NaN\n",
       "17023         NaN\n",
       "17024         NaN\n",
       "17025         NaN\n",
       "17026         NaN\n",
       "17027         NaN\n",
       "17028    16:50:42\n",
       "Name: SPECIALTY_REQUEST_TIME, Length: 17029, dtype: object"
      ]
     },
     "execution_count": 49,
     "metadata": {},
     "output_type": "execute_result"
    }
   ],
   "source": [
    "df2.SPECIALTY_REQUEST_TIME"
   ]
  },
  {
   "cell_type": "code",
   "execution_count": 41,
   "metadata": {},
   "outputs": [],
   "source": [
    "dataRAW_expected_datetime_cols = [\n",
    "    'ARRIVAL_DTTM',\n",
    "    'INITIAL_ASSESSMENT_DTTM',\n",
    "    'SEEN_FOR_TREATMENT_DTTM',\n",
    "    'SPECIALTY_REQUEST_TIME',\n",
    "    'DEPARTURE_DTTM',\n",
    "]"
   ]
  },
  {
   "cell_type": "code",
   "execution_count": 48,
   "metadata": {},
   "outputs": [
    {
     "data": {
      "text/plain": [
       "dtype('O')"
      ]
     },
     "execution_count": 48,
     "metadata": {},
     "output_type": "execute_result"
    }
   ],
   "source": [
    "df2.ARRIVAL_DTTM.dtype"
   ]
  },
  {
   "cell_type": "code",
   "execution_count": null,
   "metadata": {},
   "outputs": [],
   "source": []
  },
  {
   "cell_type": "code",
   "execution_count": 47,
   "metadata": {},
   "outputs": [
    {
     "data": {
      "text/plain": [
       "0       2013-01-08 19:44:00\n",
       "1       2013-07-03 09:34:00\n",
       "2       2017-08-27 23:33:00\n",
       "3       2016-05-23 18:48:00\n",
       "4       2013-12-11 17:47:00\n",
       "5       2013-08-24 08:29:00\n",
       "6       2016-08-29 15:16:00\n",
       "7       2014-08-09 14:31:00\n",
       "8       2016-06-01 19:50:00\n",
       "9       2016-11-11 19:48:00\n",
       "10      2015-05-01 12:55:00\n",
       "11      2017-05-05 16:36:00\n",
       "12      2016-11-24 06:28:00\n",
       "13      2013-03-13 15:26:00\n",
       "14      2015-09-02 13:51:00\n",
       "15      2018-01-08 15:11:00\n",
       "16      2013-11-08 21:23:00\n",
       "17      2014-09-30 06:38:00\n",
       "18      2014-04-14 08:16:00\n",
       "19      2012-11-06 07:00:00\n",
       "20      2017-06-19 21:26:00\n",
       "21      2015-08-21 11:16:00\n",
       "22      2014-09-19 19:39:00\n",
       "23      2012-12-22 09:25:00\n",
       "24      2015-03-04 08:02:00\n",
       "25      2015-08-28 19:20:00\n",
       "26      2012-12-07 08:22:00\n",
       "27      2014-03-06 03:20:00\n",
       "28      2016-07-25 08:01:00\n",
       "29      2017-06-19 03:22:00\n",
       "                ...        \n",
       "16999   2016-07-19 19:19:00\n",
       "17000   2015-07-22 15:11:00\n",
       "17001   2012-09-30 14:32:00\n",
       "17002   2013-11-16 16:50:00\n",
       "17003   2013-06-15 14:18:00\n",
       "17004   2013-01-17 16:19:00\n",
       "17005   2015-10-30 17:21:00\n",
       "17006   2015-04-29 14:09:00\n",
       "17007   2015-10-02 14:30:00\n",
       "17008   2017-11-22 09:43:00\n",
       "17009   2016-07-26 20:31:00\n",
       "17010   2013-10-07 12:37:00\n",
       "17011   2015-03-01 09:11:00\n",
       "17012   2015-04-15 19:28:00\n",
       "17013   2016-10-10 14:43:00\n",
       "17014   2015-01-04 17:07:00\n",
       "17015   2016-07-09 14:53:00\n",
       "17016   2014-07-20 12:19:00\n",
       "17017   2014-03-04 18:38:00\n",
       "17018   2013-04-04 19:34:00\n",
       "17019   2017-07-14 15:37:00\n",
       "17020   2015-11-22 22:02:00\n",
       "17021   2014-12-13 15:59:00\n",
       "17022   2017-04-19 23:47:00\n",
       "17023   2014-09-09 00:35:00\n",
       "17024   2017-07-06 08:18:00\n",
       "17025   2016-04-12 18:43:00\n",
       "17026   2017-05-25 20:47:00\n",
       "17027   2017-12-14 17:38:00\n",
       "17028   2017-08-25 14:48:00\n",
       "Name: ARRIVAL_DTTM, Length: 17029, dtype: datetime64[ns]"
      ]
     },
     "execution_count": 47,
     "metadata": {},
     "output_type": "execute_result"
    }
   ],
   "source": [
    "pd.to_datetime(df2[dataRAW_expected_datetime_cols[0]],format='%Y-%m-%d %H:%M:%S')"
   ]
  },
  {
   "cell_type": "code",
   "execution_count": 42,
   "metadata": {},
   "outputs": [
    {
     "data": {
      "text/plain": [
       "['ARRIVAL_DTTM',\n",
       " 'INITIAL_ASSESSMENT_DTTM',\n",
       " 'SEEN_FOR_TREATMENT_DTTM',\n",
       " 'SPECIALTY_REQUEST_TIME',\n",
       " 'DEPARTURE_DTTM']"
      ]
     },
     "execution_count": 42,
     "metadata": {},
     "output_type": "execute_result"
    }
   ],
   "source": [
    "for i in dataRAW_expected_datetime_cols:\n",
    "    "
   ]
  },
  {
   "cell_type": "code",
   "execution_count": 36,
   "metadata": {},
   "outputs": [
    {
     "data": {
      "text/plain": [
       "dtype('O')"
      ]
     },
     "execution_count": 36,
     "metadata": {},
     "output_type": "execute_result"
    }
   ],
   "source": [
    "df2.ARRIVAL_DTTM.dtype"
   ]
  },
  {
   "cell_type": "code",
   "execution_count": 37,
   "metadata": {},
   "outputs": [
    {
     "data": {
      "text/plain": [
       "dtype('int32')"
      ]
     },
     "execution_count": 37,
     "metadata": {},
     "output_type": "execute_result"
    }
   ],
   "source": [
    "df2.AGE_AT_ARRIVAL.dtype"
   ]
  },
  {
   "cell_type": "code",
   "execution_count": null,
   "metadata": {},
   "outputs": [],
   "source": []
  },
  {
   "cell_type": "code",
   "execution_count": null,
   "metadata": {},
   "outputs": [],
   "source": []
  }
 ],
 "metadata": {
  "kernelspec": {
   "display_name": "Python 3",
   "language": "python",
   "name": "python3"
  },
  "language_info": {
   "codemirror_mode": {
    "name": "ipython",
    "version": 3
   },
   "file_extension": ".py",
   "mimetype": "text/x-python",
   "name": "python",
   "nbconvert_exporter": "python",
   "pygments_lexer": "ipython3",
   "version": "3.6.4"
  }
 },
 "nbformat": 4,
 "nbformat_minor": 2
}
