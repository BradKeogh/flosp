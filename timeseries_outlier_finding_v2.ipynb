{
 "cells": [
  {
   "cell_type": "code",
   "execution_count": 1,
   "metadata": {},
   "outputs": [],
   "source": [
    "import pandas as pd\n",
    "import numpy as np\n",
    "import matplotlib.pyplot as plt\n",
    "%matplotlib inline\n",
    "import seaborn as sns\n",
    "sns.set()"
   ]
  },
  {
   "cell_type": "markdown",
   "metadata": {},
   "source": [
    "Use ML env"
   ]
  },
  {
   "cell_type": "code",
   "execution_count": 2,
   "metadata": {},
   "outputs": [],
   "source": [
    "from hospital import *"
   ]
  },
  {
   "cell_type": "code",
   "execution_count": 3,
   "metadata": {},
   "outputs": [
    {
     "name": "stdout",
     "output_type": "stream",
     "text": [
      "----------------------------------------\n",
      "Created hosp class instance:  hh\n",
      "----------------------------------------\n",
      "--------------------\n",
      "Patient fileload: \n",
      "--------------------\n",
      "Found:  hhEDpat.pkl\n",
      "Missing:  hhIPpat.pkl\n",
      "--------------------\n",
      "Daily fileload: \n",
      "--------------------\n",
      "Missing:  hhEDday.pkl\n",
      "Missing:  hhIPday.pkl\n"
     ]
    }
   ],
   "source": [
    "hh = hosp('hh')"
   ]
  },
  {
   "cell_type": "code",
   "execution_count": 4,
   "metadata": {},
   "outputs": [],
   "source": [
    "df = hh.pat.get_ED()"
   ]
  },
  {
   "cell_type": "code",
   "execution_count": 5,
   "metadata": {},
   "outputs": [],
   "source": [
    "ts = df.groupby('arrive_date').count()['hosp_patid']"
   ]
  },
  {
   "cell_type": "code",
   "execution_count": 6,
   "metadata": {},
   "outputs": [
    {
     "data": {
      "text/plain": [
       "<matplotlib.axes._subplots.AxesSubplot at 0x207877976a0>"
      ]
     },
     "execution_count": 6,
     "metadata": {},
     "output_type": "execute_result"
    },
    {
     "data": {
      "image/png": "[encoded data removed]",
      "text/plain": [
       "<matplotlib.figure.Figure at 0x207e39f72e8>"
      ]
     },
     "metadata": {},
     "output_type": "display_data"
    }
   ],
   "source": [
    "ts.plot()"
   ]
  },
  {
   "cell_type": "code",
   "execution_count": 7,
   "metadata": {},
   "outputs": [
    {
     "data": {
      "text/plain": [
       "DatetimeIndex(['2012-08-01', '2012-08-02', '2012-08-03', '2012-08-04',\n",
       "               '2012-08-05', '2012-08-06', '2012-08-07', '2012-08-08',\n",
       "               '2012-08-09', '2012-08-10',\n",
       "               ...\n",
       "               '2018-01-31', '2018-02-01', '2018-02-02', '2018-02-03',\n",
       "               '2018-02-04', '2018-02-05', '2018-02-06', '2018-02-07',\n",
       "               '2018-02-08', '2018-02-09'],\n",
       "              dtype='datetime64[ns]', name='arrive_date', length=2019, freq=None)"
      ]
     },
     "execution_count": 7,
     "metadata": {},
     "output_type": "execute_result"
    }
   ],
   "source": [
    "pd.to_datetime(ts.index)"
   ]
  },
  {
   "cell_type": "code",
   "execution_count": 8,
   "metadata": {},
   "outputs": [],
   "source": [
    "ts = ts.reset_index(level=0)"
   ]
  },
  {
   "cell_type": "code",
   "execution_count": 9,
   "metadata": {},
   "outputs": [
    {
     "data": {
      "text/plain": [
       "arrive_date    object\n",
       "hosp_patid      int64\n",
       "dtype: object"
      ]
     },
     "execution_count": 9,
     "metadata": {},
     "output_type": "execute_result"
    }
   ],
   "source": [
    "ts.dtypes"
   ]
  },
  {
   "cell_type": "code",
   "execution_count": 10,
   "metadata": {},
   "outputs": [],
   "source": [
    "ts = ts[:-1]"
   ]
  },
  {
   "cell_type": "code",
   "execution_count": 11,
   "metadata": {},
   "outputs": [],
   "source": [
    "ts.arrive_date = pd.to_datetime(ts.arrive_date)"
   ]
  },
  {
   "cell_type": "code",
   "execution_count": 12,
   "metadata": {},
   "outputs": [],
   "source": [
    "ts['year'] = ts.arrive_date.apply(lambda x : x.year)"
   ]
  },
  {
   "cell_type": "code",
   "execution_count": 13,
   "metadata": {},
   "outputs": [],
   "source": [
    "ts['month'] = ts.arrive_date.apply(lambda x : x.month)"
   ]
  },
  {
   "cell_type": "code",
   "execution_count": null,
   "metadata": {},
   "outputs": [],
   "source": []
  },
  {
   "cell_type": "code",
   "execution_count": 14,
   "metadata": {},
   "outputs": [],
   "source": [
    "month_descr = ts.groupby(['year','month']).describe().reset_index()"
   ]
  },
  {
   "cell_type": "code",
   "execution_count": 15,
   "metadata": {},
   "outputs": [
    {
     "data": {
      "text/html": [
       "<div>\n",
       "<style scoped>\n",
       "    .dataframe tbody tr th:only-of-type {\n",
       "        vertical-align: middle;\n",
       "    }\n",
       "\n",
       "    .dataframe tbody tr th {\n",
       "        vertical-align: top;\n",
       "    }\n",
       "\n",
       "    .dataframe thead tr th {\n",
       "        text-align: left;\n",
       "    }\n",
       "</style>\n",
       "<table border=\"1\" class=\"dataframe\">\n",
       "  <thead>\n",
       "    <tr>\n",
       "      <th></th>\n",
       "      <th>year</th>\n",
       "      <th>month</th>\n",
       "      <th colspan=\"8\" halign=\"left\">hosp_patid</th>\n",
       "    </tr>\n",
       "    <tr>\n",
       "      <th></th>\n",
       "      <th></th>\n",
       "      <th></th>\n",
       "      <th>count</th>\n",
       "      <th>mean</th>\n",
       "      <th>std</th>\n",
       "      <th>min</th>\n",
       "      <th>25%</th>\n",
       "      <th>50%</th>\n",
       "      <th>75%</th>\n",
       "      <th>max</th>\n",
       "    </tr>\n",
       "  </thead>\n",
       "  <tbody>\n",
       "    <tr>\n",
       "      <th>0</th>\n",
       "      <td>2012</td>\n",
       "      <td>8</td>\n",
       "      <td>31.0</td>\n",
       "      <td>242.580645</td>\n",
       "      <td>22.855742</td>\n",
       "      <td>202.0</td>\n",
       "      <td>227.00</td>\n",
       "      <td>240.0</td>\n",
       "      <td>253.00</td>\n",
       "      <td>288.0</td>\n",
       "    </tr>\n",
       "    <tr>\n",
       "      <th>1</th>\n",
       "      <td>2012</td>\n",
       "      <td>9</td>\n",
       "      <td>30.0</td>\n",
       "      <td>253.833333</td>\n",
       "      <td>20.299623</td>\n",
       "      <td>229.0</td>\n",
       "      <td>240.00</td>\n",
       "      <td>247.5</td>\n",
       "      <td>268.50</td>\n",
       "      <td>305.0</td>\n",
       "    </tr>\n",
       "    <tr>\n",
       "      <th>2</th>\n",
       "      <td>2012</td>\n",
       "      <td>10</td>\n",
       "      <td>31.0</td>\n",
       "      <td>243.161290</td>\n",
       "      <td>26.604632</td>\n",
       "      <td>201.0</td>\n",
       "      <td>218.50</td>\n",
       "      <td>238.0</td>\n",
       "      <td>264.50</td>\n",
       "      <td>290.0</td>\n",
       "    </tr>\n",
       "    <tr>\n",
       "      <th>3</th>\n",
       "      <td>2012</td>\n",
       "      <td>11</td>\n",
       "      <td>30.0</td>\n",
       "      <td>242.300000</td>\n",
       "      <td>20.027825</td>\n",
       "      <td>210.0</td>\n",
       "      <td>226.25</td>\n",
       "      <td>241.0</td>\n",
       "      <td>254.25</td>\n",
       "      <td>283.0</td>\n",
       "    </tr>\n",
       "    <tr>\n",
       "      <th>4</th>\n",
       "      <td>2012</td>\n",
       "      <td>12</td>\n",
       "      <td>31.0</td>\n",
       "      <td>234.483871</td>\n",
       "      <td>25.409803</td>\n",
       "      <td>190.0</td>\n",
       "      <td>219.50</td>\n",
       "      <td>225.0</td>\n",
       "      <td>251.00</td>\n",
       "      <td>293.0</td>\n",
       "    </tr>\n",
       "  </tbody>\n",
       "</table>\n",
       "</div>"
      ],
      "text/plain": [
       "   year month hosp_patid                                                       \\\n",
       "                   count        mean        std    min     25%    50%     75%   \n",
       "0  2012     8       31.0  242.580645  22.855742  202.0  227.00  240.0  253.00   \n",
       "1  2012     9       30.0  253.833333  20.299623  229.0  240.00  247.5  268.50   \n",
       "2  2012    10       31.0  243.161290  26.604632  201.0  218.50  238.0  264.50   \n",
       "3  2012    11       30.0  242.300000  20.027825  210.0  226.25  241.0  254.25   \n",
       "4  2012    12       31.0  234.483871  25.409803  190.0  219.50  225.0  251.00   \n",
       "\n",
       "          \n",
       "     max  \n",
       "0  288.0  \n",
       "1  305.0  \n",
       "2  290.0  \n",
       "3  283.0  \n",
       "4  293.0  "
      ]
     },
     "execution_count": 15,
     "metadata": {},
     "output_type": "execute_result"
    }
   ],
   "source": [
    "month_descr.head()"
   ]
  },
  {
   "cell_type": "code",
   "execution_count": null,
   "metadata": {},
   "outputs": [],
   "source": []
  },
  {
   "cell_type": "code",
   "execution_count": 16,
   "metadata": {},
   "outputs": [],
   "source": [
    "month_descr['hosp_patid'].columns = list(month_descr.columns.levels[1])[:-1]"
   ]
  },
  {
   "cell_type": "code",
   "execution_count": 17,
   "metadata": {},
   "outputs": [
    {
     "data": {
      "text/html": [
       "<div>\n",
       "<style scoped>\n",
       "    .dataframe tbody tr th:only-of-type {\n",
       "        vertical-align: middle;\n",
       "    }\n",
       "\n",
       "    .dataframe tbody tr th {\n",
       "        vertical-align: top;\n",
       "    }\n",
       "\n",
       "    .dataframe thead tr th {\n",
       "        text-align: left;\n",
       "    }\n",
       "</style>\n",
       "<table border=\"1\" class=\"dataframe\">\n",
       "  <thead>\n",
       "    <tr>\n",
       "      <th></th>\n",
       "      <th>year</th>\n",
       "      <th>month</th>\n",
       "      <th colspan=\"8\" halign=\"left\">hosp_patid</th>\n",
       "    </tr>\n",
       "    <tr>\n",
       "      <th></th>\n",
       "      <th></th>\n",
       "      <th></th>\n",
       "      <th>count</th>\n",
       "      <th>mean</th>\n",
       "      <th>std</th>\n",
       "      <th>min</th>\n",
       "      <th>25%</th>\n",
       "      <th>50%</th>\n",
       "      <th>75%</th>\n",
       "      <th>max</th>\n",
       "    </tr>\n",
       "  </thead>\n",
       "  <tbody>\n",
       "    <tr>\n",
       "      <th>0</th>\n",
       "      <td>2012</td>\n",
       "      <td>8</td>\n",
       "      <td>31.0</td>\n",
       "      <td>242.580645</td>\n",
       "      <td>22.855742</td>\n",
       "      <td>202.0</td>\n",
       "      <td>227.00</td>\n",
       "      <td>240.0</td>\n",
       "      <td>253.00</td>\n",
       "      <td>288.0</td>\n",
       "    </tr>\n",
       "    <tr>\n",
       "      <th>1</th>\n",
       "      <td>2012</td>\n",
       "      <td>9</td>\n",
       "      <td>30.0</td>\n",
       "      <td>253.833333</td>\n",
       "      <td>20.299623</td>\n",
       "      <td>229.0</td>\n",
       "      <td>240.00</td>\n",
       "      <td>247.5</td>\n",
       "      <td>268.50</td>\n",
       "      <td>305.0</td>\n",
       "    </tr>\n",
       "    <tr>\n",
       "      <th>2</th>\n",
       "      <td>2012</td>\n",
       "      <td>10</td>\n",
       "      <td>31.0</td>\n",
       "      <td>243.161290</td>\n",
       "      <td>26.604632</td>\n",
       "      <td>201.0</td>\n",
       "      <td>218.50</td>\n",
       "      <td>238.0</td>\n",
       "      <td>264.50</td>\n",
       "      <td>290.0</td>\n",
       "    </tr>\n",
       "    <tr>\n",
       "      <th>3</th>\n",
       "      <td>2012</td>\n",
       "      <td>11</td>\n",
       "      <td>30.0</td>\n",
       "      <td>242.300000</td>\n",
       "      <td>20.027825</td>\n",
       "      <td>210.0</td>\n",
       "      <td>226.25</td>\n",
       "      <td>241.0</td>\n",
       "      <td>254.25</td>\n",
       "      <td>283.0</td>\n",
       "    </tr>\n",
       "    <tr>\n",
       "      <th>4</th>\n",
       "      <td>2012</td>\n",
       "      <td>12</td>\n",
       "      <td>31.0</td>\n",
       "      <td>234.483871</td>\n",
       "      <td>25.409803</td>\n",
       "      <td>190.0</td>\n",
       "      <td>219.50</td>\n",
       "      <td>225.0</td>\n",
       "      <td>251.00</td>\n",
       "      <td>293.0</td>\n",
       "    </tr>\n",
       "  </tbody>\n",
       "</table>\n",
       "</div>"
      ],
      "text/plain": [
       "   year month hosp_patid                                                       \\\n",
       "                   count        mean        std    min     25%    50%     75%   \n",
       "0  2012     8       31.0  242.580645  22.855742  202.0  227.00  240.0  253.00   \n",
       "1  2012     9       30.0  253.833333  20.299623  229.0  240.00  247.5  268.50   \n",
       "2  2012    10       31.0  243.161290  26.604632  201.0  218.50  238.0  264.50   \n",
       "3  2012    11       30.0  242.300000  20.027825  210.0  226.25  241.0  254.25   \n",
       "4  2012    12       31.0  234.483871  25.409803  190.0  219.50  225.0  251.00   \n",
       "\n",
       "          \n",
       "     max  \n",
       "0  288.0  \n",
       "1  305.0  \n",
       "2  290.0  \n",
       "3  283.0  \n",
       "4  293.0  "
      ]
     },
     "execution_count": 17,
     "metadata": {},
     "output_type": "execute_result"
    }
   ],
   "source": [
    "month_descr.head()"
   ]
  },
  {
   "cell_type": "code",
   "execution_count": 18,
   "metadata": {},
   "outputs": [],
   "source": [
    "col_names = ['year','month'] + list(month_descr.columns.levels[1])[:-1]"
   ]
  },
  {
   "cell_type": "code",
   "execution_count": 19,
   "metadata": {},
   "outputs": [],
   "source": [
    "month_descr = pd.DataFrame(month_descr.as_matrix(),columns=col_names)"
   ]
  },
  {
   "cell_type": "code",
   "execution_count": 20,
   "metadata": {},
   "outputs": [],
   "source": [
    "ts = ts.merge(month_descr,on = ['year','month'])"
   ]
  },
  {
   "cell_type": "code",
   "execution_count": 21,
   "metadata": {},
   "outputs": [],
   "source": [
    "ts.rename(columns={'hosp_patid':'patient_count'},inplace=True)"
   ]
  },
  {
   "cell_type": "code",
   "execution_count": 22,
   "metadata": {},
   "outputs": [],
   "source": [
    "ts.set_index('arrive_date',inplace=True)"
   ]
  },
  {
   "cell_type": "code",
   "execution_count": 23,
   "metadata": {},
   "outputs": [
    {
     "data": {
      "text/html": [
       "<div>\n",
       "<style scoped>\n",
       "    .dataframe tbody tr th:only-of-type {\n",
       "        vertical-align: middle;\n",
       "    }\n",
       "\n",
       "    .dataframe tbody tr th {\n",
       "        vertical-align: top;\n",
       "    }\n",
       "\n",
       "    .dataframe thead th {\n",
       "        text-align: right;\n",
       "    }\n",
       "</style>\n",
       "<table border=\"1\" class=\"dataframe\">\n",
       "  <thead>\n",
       "    <tr style=\"text-align: right;\">\n",
       "      <th></th>\n",
       "      <th>patient_count</th>\n",
       "      <th>year</th>\n",
       "      <th>month</th>\n",
       "      <th>count</th>\n",
       "      <th>mean</th>\n",
       "      <th>std</th>\n",
       "      <th>min</th>\n",
       "      <th>25%</th>\n",
       "      <th>50%</th>\n",
       "      <th>75%</th>\n",
       "      <th>max</th>\n",
       "    </tr>\n",
       "    <tr>\n",
       "      <th>arrive_date</th>\n",
       "      <th></th>\n",
       "      <th></th>\n",
       "      <th></th>\n",
       "      <th></th>\n",
       "      <th></th>\n",
       "      <th></th>\n",
       "      <th></th>\n",
       "      <th></th>\n",
       "      <th></th>\n",
       "      <th></th>\n",
       "      <th></th>\n",
       "    </tr>\n",
       "  </thead>\n",
       "  <tbody>\n",
       "    <tr>\n",
       "      <th>2012-08-01</th>\n",
       "      <td>249</td>\n",
       "      <td>2012</td>\n",
       "      <td>8</td>\n",
       "      <td>31.0</td>\n",
       "      <td>242.580645</td>\n",
       "      <td>22.855742</td>\n",
       "      <td>202.0</td>\n",
       "      <td>227.0</td>\n",
       "      <td>240.0</td>\n",
       "      <td>253.0</td>\n",
       "      <td>288.0</td>\n",
       "    </tr>\n",
       "    <tr>\n",
       "      <th>2012-08-02</th>\n",
       "      <td>225</td>\n",
       "      <td>2012</td>\n",
       "      <td>8</td>\n",
       "      <td>31.0</td>\n",
       "      <td>242.580645</td>\n",
       "      <td>22.855742</td>\n",
       "      <td>202.0</td>\n",
       "      <td>227.0</td>\n",
       "      <td>240.0</td>\n",
       "      <td>253.0</td>\n",
       "      <td>288.0</td>\n",
       "    </tr>\n",
       "    <tr>\n",
       "      <th>2012-08-03</th>\n",
       "      <td>241</td>\n",
       "      <td>2012</td>\n",
       "      <td>8</td>\n",
       "      <td>31.0</td>\n",
       "      <td>242.580645</td>\n",
       "      <td>22.855742</td>\n",
       "      <td>202.0</td>\n",
       "      <td>227.0</td>\n",
       "      <td>240.0</td>\n",
       "      <td>253.0</td>\n",
       "      <td>288.0</td>\n",
       "    </tr>\n",
       "    <tr>\n",
       "      <th>2012-08-04</th>\n",
       "      <td>240</td>\n",
       "      <td>2012</td>\n",
       "      <td>8</td>\n",
       "      <td>31.0</td>\n",
       "      <td>242.580645</td>\n",
       "      <td>22.855742</td>\n",
       "      <td>202.0</td>\n",
       "      <td>227.0</td>\n",
       "      <td>240.0</td>\n",
       "      <td>253.0</td>\n",
       "      <td>288.0</td>\n",
       "    </tr>\n",
       "    <tr>\n",
       "      <th>2012-08-05</th>\n",
       "      <td>263</td>\n",
       "      <td>2012</td>\n",
       "      <td>8</td>\n",
       "      <td>31.0</td>\n",
       "      <td>242.580645</td>\n",
       "      <td>22.855742</td>\n",
       "      <td>202.0</td>\n",
       "      <td>227.0</td>\n",
       "      <td>240.0</td>\n",
       "      <td>253.0</td>\n",
       "      <td>288.0</td>\n",
       "    </tr>\n",
       "  </tbody>\n",
       "</table>\n",
       "</div>"
      ],
      "text/plain": [
       "             patient_count  year month  count        mean        std    min  \\\n",
       "arrive_date                                                                   \n",
       "2012-08-01             249  2012     8   31.0  242.580645  22.855742  202.0   \n",
       "2012-08-02             225  2012     8   31.0  242.580645  22.855742  202.0   \n",
       "2012-08-03             241  2012     8   31.0  242.580645  22.855742  202.0   \n",
       "2012-08-04             240  2012     8   31.0  242.580645  22.855742  202.0   \n",
       "2012-08-05             263  2012     8   31.0  242.580645  22.855742  202.0   \n",
       "\n",
       "               25%    50%    75%    max  \n",
       "arrive_date                              \n",
       "2012-08-01   227.0  240.0  253.0  288.0  \n",
       "2012-08-02   227.0  240.0  253.0  288.0  \n",
       "2012-08-03   227.0  240.0  253.0  288.0  \n",
       "2012-08-04   227.0  240.0  253.0  288.0  \n",
       "2012-08-05   227.0  240.0  253.0  288.0  "
      ]
     },
     "execution_count": 23,
     "metadata": {},
     "output_type": "execute_result"
    }
   ],
   "source": [
    "ts.head()"
   ]
  },
  {
   "cell_type": "markdown",
   "metadata": {},
   "source": [
    "#### calc sdev flag"
   ]
  },
  {
   "cell_type": "code",
   "execution_count": 24,
   "metadata": {},
   "outputs": [],
   "source": [
    "ts['flag_sd'] = 0"
   ]
  },
  {
   "cell_type": "code",
   "execution_count": 25,
   "metadata": {},
   "outputs": [],
   "source": [
    "ts.loc[ts[ts.patient_count >= ts['50%'] + 1.2*ts['std']].index,'flag_sd'] = 1"
   ]
  },
  {
   "cell_type": "code",
   "execution_count": 26,
   "metadata": {},
   "outputs": [
    {
     "data": {
      "text/plain": [
       "0    1728\n",
       "1     290\n",
       "Name: flag_sd, dtype: int64"
      ]
     },
     "execution_count": 26,
     "metadata": {},
     "output_type": "execute_result"
    }
   ],
   "source": [
    "ts.flag_sd.value_counts()"
   ]
  },
  {
   "cell_type": "code",
   "execution_count": 27,
   "metadata": {},
   "outputs": [
    {
     "name": "stdout",
     "output_type": "stream",
     "text": [
      "Percentage of flagged: 14.3706640238\n"
     ]
    }
   ],
   "source": [
    "print('Percentage of flagged: ' + str(100*ts.flag_sd.value_counts().values[1]/ts.shape[0]) )"
   ]
  },
  {
   "cell_type": "markdown",
   "metadata": {},
   "source": [
    "#### calc rolling worst prev 5 days in month?"
   ]
  },
  {
   "cell_type": "code",
   "execution_count": null,
   "metadata": {},
   "outputs": [],
   "source": []
  },
  {
   "cell_type": "code",
   "execution_count": null,
   "metadata": {},
   "outputs": [],
   "source": []
  },
  {
   "cell_type": "code",
   "execution_count": null,
   "metadata": {},
   "outputs": [],
   "source": []
  },
  {
   "cell_type": "code",
   "execution_count": 28,
   "metadata": {},
   "outputs": [
    {
     "data": {
      "text/plain": [
       "<matplotlib.axes._subplots.AxesSubplot at 0x207f0504f98>"
      ]
     },
     "execution_count": 28,
     "metadata": {},
     "output_type": "execute_result"
    },
    {
     "data": {
      "image/png": "[encoded data removed]",
      "text/plain": [
       "<matplotlib.figure.Figure at 0x207877d7d68>"
      ]
     },
     "metadata": {},
     "output_type": "display_data"
    }
   ],
   "source": [
    "ax = plt.subplot()\n",
    "ts['patient_count'].plot(ax=ax,figsize=(18,6))\n",
    "\n",
    "ts[ts.flag_sd == 1]['patient_count'].plot(ax=ax,style='.r')"
   ]
  },
  {
   "cell_type": "code",
   "execution_count": 29,
   "metadata": {},
   "outputs": [
    {
     "name": "stderr",
     "output_type": "stream",
     "text": [
      "C:\\Anaconda3\\envs\\ml\\lib\\site-packages\\ipykernel_launcher.py:4: UserWarning: Boolean Series key will be reindexed to match DataFrame index.\n",
      "  after removing the cwd from sys.path.\n"
     ]
    },
    {
     "data": {
      "text/plain": [
       "<matplotlib.axes._subplots.AxesSubplot at 0x2078779e748>"
      ]
     },
     "execution_count": 29,
     "metadata": {},
     "output_type": "execute_result"
    },
    {
     "data": {
      "image/png": "[encoded data removed]",
      "text/plain": [
       "<matplotlib.figure.Figure at 0x20785db9ef0>"
      ]
     },
     "metadata": {},
     "output_type": "display_data"
    }
   ],
   "source": [
    "ax = plt.subplot()\n",
    "ts[-300:]['patient_count'].plot(ax=ax,figsize=(18,6))\n",
    "\n",
    "ts[-300:][ts.flag_sd == 1]['patient_count'].plot(ax=ax,style='.r')"
   ]
  },
  {
   "cell_type": "code",
   "execution_count": null,
   "metadata": {},
   "outputs": [],
   "source": []
  },
  {
   "cell_type": "markdown",
   "metadata": {},
   "source": [
    "# Create features"
   ]
  },
  {
   "cell_type": "markdown",
   "metadata": {},
   "source": [
    "## prepare dfs"
   ]
  },
  {
   "cell_type": "code",
   "execution_count": 30,
   "metadata": {},
   "outputs": [],
   "source": [
    "days_df = ts.reset_index()"
   ]
  },
  {
   "cell_type": "code",
   "execution_count": 31,
   "metadata": {},
   "outputs": [
    {
     "data": {
      "text/html": [
       "<div>\n",
       "<style scoped>\n",
       "    .dataframe tbody tr th:only-of-type {\n",
       "        vertical-align: middle;\n",
       "    }\n",
       "\n",
       "    .dataframe tbody tr th {\n",
       "        vertical-align: top;\n",
       "    }\n",
       "\n",
       "    .dataframe thead th {\n",
       "        text-align: right;\n",
       "    }\n",
       "</style>\n",
       "<table border=\"1\" class=\"dataframe\">\n",
       "  <thead>\n",
       "    <tr style=\"text-align: right;\">\n",
       "      <th></th>\n",
       "      <th>arrive_date</th>\n",
       "      <th>patient_count</th>\n",
       "      <th>year</th>\n",
       "      <th>month</th>\n",
       "      <th>count</th>\n",
       "      <th>mean</th>\n",
       "      <th>std</th>\n",
       "      <th>min</th>\n",
       "      <th>25%</th>\n",
       "      <th>50%</th>\n",
       "      <th>75%</th>\n",
       "      <th>max</th>\n",
       "      <th>flag_sd</th>\n",
       "    </tr>\n",
       "  </thead>\n",
       "  <tbody>\n",
       "    <tr>\n",
       "      <th>1678</th>\n",
       "      <td>2017-03-06</td>\n",
       "      <td>289</td>\n",
       "      <td>2017</td>\n",
       "      <td>3</td>\n",
       "      <td>31.0</td>\n",
       "      <td>295.258065</td>\n",
       "      <td>21.625552</td>\n",
       "      <td>262.0</td>\n",
       "      <td>279.0</td>\n",
       "      <td>289.0</td>\n",
       "      <td>309.5</td>\n",
       "      <td>344.0</td>\n",
       "      <td>0</td>\n",
       "    </tr>\n",
       "  </tbody>\n",
       "</table>\n",
       "</div>"
      ],
      "text/plain": [
       "     arrive_date  patient_count  year month  count        mean        std  \\\n",
       "1678  2017-03-06            289  2017     3   31.0  295.258065  21.625552   \n",
       "\n",
       "        min    25%    50%    75%    max  flag_sd  \n",
       "1678  262.0  279.0  289.0  309.5  344.0        0  "
      ]
     },
     "execution_count": 31,
     "metadata": {},
     "output_type": "execute_result"
    }
   ],
   "source": [
    "days_df.sample()"
   ]
  },
  {
   "cell_type": "code",
   "execution_count": 32,
   "metadata": {},
   "outputs": [],
   "source": [
    "days_df2 = days_df[['arrive_date','flag_sd']]#.reset_index()"
   ]
  },
  {
   "cell_type": "code",
   "execution_count": 33,
   "metadata": {},
   "outputs": [],
   "source": [
    "#days_df2.rename(columns={'index':'day_index'},inplace=True)"
   ]
  },
  {
   "cell_type": "code",
   "execution_count": 34,
   "metadata": {},
   "outputs": [
    {
     "data": {
      "text/html": [
       "<div>\n",
       "<style scoped>\n",
       "    .dataframe tbody tr th:only-of-type {\n",
       "        vertical-align: middle;\n",
       "    }\n",
       "\n",
       "    .dataframe tbody tr th {\n",
       "        vertical-align: top;\n",
       "    }\n",
       "\n",
       "    .dataframe thead th {\n",
       "        text-align: right;\n",
       "    }\n",
       "</style>\n",
       "<table border=\"1\" class=\"dataframe\">\n",
       "  <thead>\n",
       "    <tr style=\"text-align: right;\">\n",
       "      <th></th>\n",
       "      <th>arrive_date</th>\n",
       "      <th>flag_sd</th>\n",
       "    </tr>\n",
       "  </thead>\n",
       "  <tbody>\n",
       "    <tr>\n",
       "      <th>0</th>\n",
       "      <td>2012-08-01</td>\n",
       "      <td>0</td>\n",
       "    </tr>\n",
       "  </tbody>\n",
       "</table>\n",
       "</div>"
      ],
      "text/plain": [
       "  arrive_date  flag_sd\n",
       "0  2012-08-01        0"
      ]
     },
     "execution_count": 34,
     "metadata": {},
     "output_type": "execute_result"
    }
   ],
   "source": [
    "days_df2.head(1)"
   ]
  },
  {
   "cell_type": "code",
   "execution_count": null,
   "metadata": {},
   "outputs": [],
   "source": []
  },
  {
   "cell_type": "code",
   "execution_count": 35,
   "metadata": {},
   "outputs": [
    {
     "data": {
      "text/plain": [
       "hospital.pat"
      ]
     },
     "execution_count": 35,
     "metadata": {},
     "output_type": "execute_result"
    }
   ],
   "source": [
    "pat"
   ]
  },
  {
   "cell_type": "code",
   "execution_count": 36,
   "metadata": {},
   "outputs": [],
   "source": [
    "atten_df = hh.pat.get_ED()"
   ]
  },
  {
   "cell_type": "code",
   "execution_count": 37,
   "metadata": {},
   "outputs": [],
   "source": [
    "atten_df = atten_df.reset_index()"
   ]
  },
  {
   "cell_type": "code",
   "execution_count": 38,
   "metadata": {},
   "outputs": [
    {
     "data": {
      "text/html": [
       "<div>\n",
       "<style scoped>\n",
       "    .dataframe tbody tr th:only-of-type {\n",
       "        vertical-align: middle;\n",
       "    }\n",
       "\n",
       "    .dataframe tbody tr th {\n",
       "        vertical-align: top;\n",
       "    }\n",
       "\n",
       "    .dataframe thead th {\n",
       "        text-align: right;\n",
       "    }\n",
       "</style>\n",
       "<table border=\"1\" class=\"dataframe\">\n",
       "  <thead>\n",
       "    <tr style=\"text-align: right;\">\n",
       "      <th></th>\n",
       "      <th>index</th>\n",
       "      <th>hosp_patid</th>\n",
       "      <th>age</th>\n",
       "      <th>gender</th>\n",
       "      <th>site</th>\n",
       "      <th>arrive_datetime</th>\n",
       "      <th>arrive_mode</th>\n",
       "      <th>first_triage_datetime</th>\n",
       "      <th>first_dr_datetime</th>\n",
       "      <th>first_adm_request_time</th>\n",
       "      <th>...</th>\n",
       "      <th>depart_weekday_name</th>\n",
       "      <th>depart_year</th>\n",
       "      <th>depart_date</th>\n",
       "      <th>first_adm_request_datetime</th>\n",
       "      <th>arr_triage_wait</th>\n",
       "      <th>arr_dr_wait</th>\n",
       "      <th>arr_adm_req_wait</th>\n",
       "      <th>adm_req_dep_wait</th>\n",
       "      <th>dr_adm_req_wait</th>\n",
       "      <th>dr_dep_wait</th>\n",
       "    </tr>\n",
       "  </thead>\n",
       "  <tbody>\n",
       "    <tr>\n",
       "      <th>0</th>\n",
       "      <td>0</td>\n",
       "      <td>489709</td>\n",
       "      <td>43</td>\n",
       "      <td>Female</td>\n",
       "      <td>BNHH</td>\n",
       "      <td>2012-08-01 00:04:00</td>\n",
       "      <td>2.0</td>\n",
       "      <td>2012-08-01 00:18:00</td>\n",
       "      <td>2012-08-01 02:24:00</td>\n",
       "      <td>NaN</td>\n",
       "      <td>...</td>\n",
       "      <td>Wednesday</td>\n",
       "      <td>2012</td>\n",
       "      <td>2012-08-01</td>\n",
       "      <td>NaT</td>\n",
       "      <td>14.0</td>\n",
       "      <td>140.0</td>\n",
       "      <td>NaN</td>\n",
       "      <td>NaN</td>\n",
       "      <td>NaN</td>\n",
       "      <td>80.0</td>\n",
       "    </tr>\n",
       "  </tbody>\n",
       "</table>\n",
       "<p>1 rows × 37 columns</p>\n",
       "</div>"
      ],
      "text/plain": [
       "   index  hosp_patid  age  gender  site     arrive_datetime  arrive_mode  \\\n",
       "0      0      489709   43  Female  BNHH 2012-08-01 00:04:00          2.0   \n",
       "\n",
       "  first_triage_datetime   first_dr_datetime first_adm_request_time  \\\n",
       "0   2012-08-01 00:18:00 2012-08-01 02:24:00                    NaN   \n",
       "\n",
       "      ...     depart_weekday_name  depart_year depart_date  \\\n",
       "0     ...               Wednesday         2012  2012-08-01   \n",
       "\n",
       "  first_adm_request_datetime  arr_triage_wait  arr_dr_wait arr_adm_req_wait  \\\n",
       "0                        NaT             14.0        140.0              NaN   \n",
       "\n",
       "  adm_req_dep_wait dr_adm_req_wait dr_dep_wait  \n",
       "0              NaN             NaN        80.0  \n",
       "\n",
       "[1 rows x 37 columns]"
      ]
     },
     "execution_count": 38,
     "metadata": {},
     "output_type": "execute_result"
    }
   ],
   "source": [
    "atten_df.head(1)"
   ]
  },
  {
   "cell_type": "code",
   "execution_count": 39,
   "metadata": {},
   "outputs": [],
   "source": [
    "atten_df2 = atten_df[['hosp_patid',\"age\",\"gender\",'arrive_datetime','arrive_mode','arrive_date']]"
   ]
  },
  {
   "cell_type": "code",
   "execution_count": 40,
   "metadata": {},
   "outputs": [
    {
     "data": {
      "text/plain": [
       "Male             286116\n",
       "Female           281480\n",
       "Not Specified        31\n",
       "Name: gender, dtype: int64"
      ]
     },
     "execution_count": 40,
     "metadata": {},
     "output_type": "execute_result"
    }
   ],
   "source": [
    "atten_df2.gender.value_counts()"
   ]
  },
  {
   "cell_type": "code",
   "execution_count": 41,
   "metadata": {},
   "outputs": [
    {
     "name": "stderr",
     "output_type": "stream",
     "text": [
      "C:\\Anaconda3\\envs\\ml\\lib\\site-packages\\pandas\\core\\indexing.py:537: SettingWithCopyWarning: \n",
      "A value is trying to be set on a copy of a slice from a DataFrame.\n",
      "Try using .loc[row_indexer,col_indexer] = value instead\n",
      "\n",
      "See the caveats in the documentation: http://pandas.pydata.org/pandas-docs/stable/indexing.html#indexing-view-versus-copy\n",
      "  self.obj[item] = s\n"
     ]
    }
   ],
   "source": [
    "atten_df2.loc[atten_df2['gender'] == 'Male', 'gender'] = 0\n",
    "atten_df2.loc[atten_df2['gender'] == 'Female', 'gender'] = 1\n",
    "atten_df2.loc[atten_df2['gender'] == 'Not Specified', 'gender'] = 2"
   ]
  },
  {
   "cell_type": "code",
   "execution_count": null,
   "metadata": {},
   "outputs": [],
   "source": []
  },
  {
   "cell_type": "code",
   "execution_count": null,
   "metadata": {},
   "outputs": [],
   "source": []
  },
  {
   "cell_type": "markdown",
   "metadata": {},
   "source": [
    "### encoder throws error for some reason\n",
    "from sklearn import preprocessing\n",
    "\n",
    "le = preprocessing.LabelEncoder()\n",
    "\n",
    "le.fit(['m','f'])\n",
    "\n",
    "le.fit(atten_df2.gender.values)"
   ]
  },
  {
   "cell_type": "markdown",
   "metadata": {},
   "source": [
    "## create entity set"
   ]
  },
  {
   "cell_type": "markdown",
   "metadata": {},
   "source": [
    "make set smaller"
   ]
  },
  {
   "cell_type": "code",
   "execution_count": 42,
   "metadata": {},
   "outputs": [],
   "source": [
    "cutoff = '2017-1-1'"
   ]
  },
  {
   "cell_type": "code",
   "execution_count": 43,
   "metadata": {},
   "outputs": [],
   "source": [
    "atten_df2 = atten_df2[atten_df2.arrive_datetime > cutoff]"
   ]
  },
  {
   "cell_type": "code",
   "execution_count": 44,
   "metadata": {},
   "outputs": [],
   "source": [
    "days_df2 = days_df2[days_df2.arrive_date > cutoff]"
   ]
  },
  {
   "cell_type": "code",
   "execution_count": 45,
   "metadata": {},
   "outputs": [],
   "source": [
    "import featuretools as ft\n",
    "#import utils\n",
    "#from utils import load_nyc_taxi_data, compute_features, preview, feature_importances\n",
    "#from sklearn.ensemble import GradientBoostingRegressor\n",
    "from featuretools.primitives import (Weekend, Minute, Hour, Day, Week, Month,\n",
    "                                     Weekday, Weekend, Count, Sum, Mean, Median, Std, Min, Max)"
   ]
  },
  {
   "cell_type": "code",
   "execution_count": 112,
   "metadata": {},
   "outputs": [],
   "source": [
    "es = ft.EntitySet(id=\"activity\")"
   ]
  },
  {
   "cell_type": "code",
   "execution_count": 113,
   "metadata": {},
   "outputs": [
    {
     "data": {
      "text/html": [
       "<div>\n",
       "<style scoped>\n",
       "    .dataframe tbody tr th:only-of-type {\n",
       "        vertical-align: middle;\n",
       "    }\n",
       "\n",
       "    .dataframe tbody tr th {\n",
       "        vertical-align: top;\n",
       "    }\n",
       "\n",
       "    .dataframe thead th {\n",
       "        text-align: right;\n",
       "    }\n",
       "</style>\n",
       "<table border=\"1\" class=\"dataframe\">\n",
       "  <thead>\n",
       "    <tr style=\"text-align: right;\">\n",
       "      <th></th>\n",
       "      <th>hosp_patid</th>\n",
       "      <th>age</th>\n",
       "      <th>gender</th>\n",
       "      <th>arrive_datetime</th>\n",
       "      <th>arrive_mode</th>\n",
       "      <th>arrive_date</th>\n",
       "    </tr>\n",
       "  </thead>\n",
       "  <tbody>\n",
       "    <tr>\n",
       "      <th>246703</th>\n",
       "      <td>2997007</td>\n",
       "      <td>53</td>\n",
       "      <td>1</td>\n",
       "      <td>2017-01-01 00:06:00</td>\n",
       "      <td>1.0</td>\n",
       "      <td>2017-01-01</td>\n",
       "    </tr>\n",
       "  </tbody>\n",
       "</table>\n",
       "</div>"
      ],
      "text/plain": [
       "        hosp_patid  age gender     arrive_datetime  arrive_mode arrive_date\n",
       "246703     2997007   53      1 2017-01-01 00:06:00          1.0  2017-01-01"
      ]
     },
     "execution_count": 113,
     "metadata": {},
     "output_type": "execute_result"
    }
   ],
   "source": [
    "atten_df2.head(1)"
   ]
  },
  {
   "cell_type": "code",
   "execution_count": 114,
   "metadata": {},
   "outputs": [
    {
     "name": "stdout",
     "output_type": "stream",
     "text": [
      "2018-04-17 09:59:45,078 featuretools.entityset - WARNING    index index not found in dataframe, creating new integer column\n"
     ]
    },
    {
     "data": {
      "text/plain": [
       "Entityset: activity\n",
       "  Entities:\n",
       "    attendances (shape = [122089, 7])\n",
       "  Relationships:\n",
       "    No relationships"
      ]
     },
     "execution_count": 114,
     "metadata": {},
     "output_type": "execute_result"
    }
   ],
   "source": [
    "es.entity_from_dataframe(entity_id=\"attendances\",\n",
    "                        dataframe=atten_df2,\n",
    "                         index=\"index\",\n",
    "                         time_index=\"arrive_datetime\",\n",
    "                         variable_types={\"gender\": ft.variable_types.Categorical,\n",
    "                                        \"arrive_mode\":ft.variable_types.Categorical}\n",
    "                        )"
   ]
  },
  {
   "cell_type": "code",
   "execution_count": 115,
   "metadata": {},
   "outputs": [
    {
     "data": {
      "text/plain": [
       "[<Variable: hosp_patid (dtype = numeric, count = 122089)>,\n",
       " <Variable: age (dtype = numeric, count = 122089)>,\n",
       " <Variable: arrive_datetime (dtype: datetime_time_index, format: None)>,\n",
       " <Variable: arrive_date (dtype: datetime, format: None)>,\n",
       " <Variable: gender (dtype = categorical, count = 122087)>,\n",
       " <Variable: arrive_mode (dtype = categorical, count = 121050)>,\n",
       " <Variable: index (dtype = index, count = 122089)>]"
      ]
     },
     "execution_count": 115,
     "metadata": {},
     "output_type": "execute_result"
    }
   ],
   "source": [
    "es[\"attendances\"].variables"
   ]
  },
  {
   "cell_type": "code",
   "execution_count": 126,
   "metadata": {},
   "outputs": [],
   "source": [
    "es = es.entity_from_dataframe(entity_id=\"days\",\n",
    "                              dataframe=days_df2,\n",
    "                              index=\"arrive_date\",\n",
    "                              time_index=\"arrive_date\",\n",
    "                              variable_types={\"flag_sd\": ft.variable_types.Categorical}\n",
    "                             )"
   ]
  },
  {
   "cell_type": "code",
   "execution_count": 127,
   "metadata": {},
   "outputs": [
    {
     "data": {
      "text/html": [
       "<div>\n",
       "<style scoped>\n",
       "    .dataframe tbody tr th:only-of-type {\n",
       "        vertical-align: middle;\n",
       "    }\n",
       "\n",
       "    .dataframe tbody tr th {\n",
       "        vertical-align: top;\n",
       "    }\n",
       "\n",
       "    .dataframe thead th {\n",
       "        text-align: right;\n",
       "    }\n",
       "</style>\n",
       "<table border=\"1\" class=\"dataframe\">\n",
       "  <thead>\n",
       "    <tr style=\"text-align: right;\">\n",
       "      <th></th>\n",
       "      <th>arrive_date</th>\n",
       "      <th>flag_sd</th>\n",
       "    </tr>\n",
       "  </thead>\n",
       "  <tbody>\n",
       "    <tr>\n",
       "      <th>1615</th>\n",
       "      <td>2017-01-02</td>\n",
       "      <td>1</td>\n",
       "    </tr>\n",
       "    <tr>\n",
       "      <th>1616</th>\n",
       "      <td>2017-01-03</td>\n",
       "      <td>1</td>\n",
       "    </tr>\n",
       "    <tr>\n",
       "      <th>1617</th>\n",
       "      <td>2017-01-04</td>\n",
       "      <td>1</td>\n",
       "    </tr>\n",
       "    <tr>\n",
       "      <th>1618</th>\n",
       "      <td>2017-01-05</td>\n",
       "      <td>0</td>\n",
       "    </tr>\n",
       "    <tr>\n",
       "      <th>1619</th>\n",
       "      <td>2017-01-06</td>\n",
       "      <td>0</td>\n",
       "    </tr>\n",
       "  </tbody>\n",
       "</table>\n",
       "</div>"
      ],
      "text/plain": [
       "     arrive_date  flag_sd\n",
       "1615  2017-01-02        1\n",
       "1616  2017-01-03        1\n",
       "1617  2017-01-04        1\n",
       "1618  2017-01-05        0\n",
       "1619  2017-01-06        0"
      ]
     },
     "execution_count": 127,
     "metadata": {},
     "output_type": "execute_result"
    }
   ],
   "source": [
    "days_df2.head()"
   ]
  },
  {
   "cell_type": "code",
   "execution_count": 128,
   "metadata": {},
   "outputs": [
    {
     "data": {
      "text/plain": [
       "[<Variable: flag_sd (dtype = categorical, count = 403)>,\n",
       " <Variable: arrive_date (dtype: datetime_time_index, format: None)>]"
      ]
     },
     "execution_count": 128,
     "metadata": {},
     "output_type": "execute_result"
    }
   ],
   "source": [
    "es[\"days\"].variables"
   ]
  },
  {
   "cell_type": "code",
   "execution_count": 129,
   "metadata": {},
   "outputs": [
    {
     "data": {
      "text/plain": [
       "Entityset: activity\n",
       "  Entities:\n",
       "    attendances (shape = [122089, 7])\n",
       "    days (shape = [403, 2])\n",
       "  Relationships:\n",
       "    No relationships"
      ]
     },
     "execution_count": 129,
     "metadata": {},
     "output_type": "execute_result"
    }
   ],
   "source": [
    "es"
   ]
  },
  {
   "cell_type": "markdown",
   "metadata": {},
   "source": [
    "Add relationhips"
   ]
  },
  {
   "cell_type": "code",
   "execution_count": 130,
   "metadata": {},
   "outputs": [],
   "source": [
    "new_relationship = ft.Relationship(es[\"days\"][\"arrive_date\"],\n",
    "                                  es[\"attendances\"][\"arrive_date\"])"
   ]
  },
  {
   "cell_type": "code",
   "execution_count": 131,
   "metadata": {},
   "outputs": [],
   "source": [
    "es = es.add_relationship(new_relationship)"
   ]
  },
  {
   "cell_type": "code",
   "execution_count": 132,
   "metadata": {},
   "outputs": [
    {
     "data": {
      "text/plain": [
       "Entityset: activity\n",
       "  Entities:\n",
       "    attendances (shape = [122089, 7])\n",
       "    days (shape = [403, 2])\n",
       "  Relationships:\n",
       "    attendances.arrive_date -> days.arrive_date"
      ]
     },
     "execution_count": 132,
     "metadata": {},
     "output_type": "execute_result"
    }
   ],
   "source": [
    "es"
   ]
  },
  {
   "cell_type": "markdown",
   "metadata": {},
   "source": [
    "create 'patient' entity"
   ]
  },
  {
   "cell_type": "code",
   "execution_count": 133,
   "metadata": {},
   "outputs": [],
   "source": [
    "es = es.normalize_entity(base_entity_id=\"attendances\",new_entity_id=\"patients\",index=\"hosp_patid\",\n",
    "                    additional_variables=[\"age\",\"gender\"])"
   ]
  },
  {
   "cell_type": "code",
   "execution_count": 134,
   "metadata": {},
   "outputs": [
    {
     "data": {
      "text/plain": [
       "Entityset: activity\n",
       "  Entities:\n",
       "    attendances (shape = [122089, 5])\n",
       "    days (shape = [403, 2])\n",
       "    patients (shape = [88891, 4])\n",
       "  Relationships:\n",
       "    attendances.arrive_date -> days.arrive_date\n",
       "    attendances.hosp_patid -> patients.hosp_patid"
      ]
     },
     "execution_count": 134,
     "metadata": {},
     "output_type": "execute_result"
    }
   ],
   "source": [
    "es"
   ]
  },
  {
   "cell_type": "code",
   "execution_count": 135,
   "metadata": {},
   "outputs": [
    {
     "data": {
      "text/plain": [
       "[<Variable: hosp_patid (dtype = index, count = 88891)>,\n",
       " <Variable: age (dtype = numeric, count = 88891)>,\n",
       " <Variable: gender (dtype = categorical, count = 88889)>,\n",
       " <Variable: first_attendances_time (dtype: datetime_time_index, format: None)>]"
      ]
     },
     "execution_count": 135,
     "metadata": {},
     "output_type": "execute_result"
    }
   ],
   "source": [
    "es[\"patients\"].variables"
   ]
  },
  {
   "cell_type": "code",
   "execution_count": 136,
   "metadata": {},
   "outputs": [
    {
     "data": {
      "text/plain": [
       "[<Variable: hosp_patid (dtype = id, count = 122089)>,\n",
       " <Variable: arrive_datetime (dtype: datetime_time_index, format: None)>,\n",
       " <Variable: arrive_date (dtype = id, count = 122089)>,\n",
       " <Variable: arrive_mode (dtype = categorical, count = 121050)>,\n",
       " <Variable: index (dtype = index, count = 122089)>]"
      ]
     },
     "execution_count": 136,
     "metadata": {},
     "output_type": "execute_result"
    }
   ],
   "source": [
    "es[\"attendances\"].variables"
   ]
  },
  {
   "cell_type": "code",
   "execution_count": 137,
   "metadata": {},
   "outputs": [
    {
     "data": {
      "text/plain": [
       "[<Variable: flag_sd (dtype = categorical, count = 403)>,\n",
       " <Variable: arrive_date (dtype = index, count = 403)>]"
      ]
     },
     "execution_count": 137,
     "metadata": {},
     "output_type": "execute_result"
    }
   ],
   "source": [
    "es[\"days\"].variables"
   ]
  },
  {
   "cell_type": "markdown",
   "metadata": {},
   "source": [
    "### make cuttoffs"
   ]
  },
  {
   "cell_type": "code",
   "execution_count": 138,
   "metadata": {},
   "outputs": [],
   "source": [
    "cutoff = pd.DataFrame(days_df2['arrive_date'])"
   ]
  },
  {
   "cell_type": "code",
   "execution_count": 139,
   "metadata": {},
   "outputs": [],
   "source": [
    "cutoff['time'] = pd.to_datetime(cutoff.arrive_date + pd.DateOffset(n=-1))"
   ]
  },
  {
   "cell_type": "code",
   "execution_count": 144,
   "metadata": {},
   "outputs": [],
   "source": [
    "cutoff['time'] = pd.to_datetime(cutoff.arrive_date.apply(lambda x: x.replace(hour=7)))"
   ]
  },
  {
   "cell_type": "code",
   "execution_count": 145,
   "metadata": {},
   "outputs": [
    {
     "data": {
      "text/html": [
       "<div>\n",
       "<style scoped>\n",
       "    .dataframe tbody tr th:only-of-type {\n",
       "        vertical-align: middle;\n",
       "    }\n",
       "\n",
       "    .dataframe tbody tr th {\n",
       "        vertical-align: top;\n",
       "    }\n",
       "\n",
       "    .dataframe thead th {\n",
       "        text-align: right;\n",
       "    }\n",
       "</style>\n",
       "<table border=\"1\" class=\"dataframe\">\n",
       "  <thead>\n",
       "    <tr style=\"text-align: right;\">\n",
       "      <th></th>\n",
       "      <th>arrive_date</th>\n",
       "      <th>time</th>\n",
       "    </tr>\n",
       "  </thead>\n",
       "  <tbody>\n",
       "    <tr>\n",
       "      <th>1615</th>\n",
       "      <td>2017-01-02</td>\n",
       "      <td>2017-01-02 07:00:00</td>\n",
       "    </tr>\n",
       "    <tr>\n",
       "      <th>1616</th>\n",
       "      <td>2017-01-03</td>\n",
       "      <td>2017-01-03 07:00:00</td>\n",
       "    </tr>\n",
       "    <tr>\n",
       "      <th>1617</th>\n",
       "      <td>2017-01-04</td>\n",
       "      <td>2017-01-04 07:00:00</td>\n",
       "    </tr>\n",
       "    <tr>\n",
       "      <th>1618</th>\n",
       "      <td>2017-01-05</td>\n",
       "      <td>2017-01-05 07:00:00</td>\n",
       "    </tr>\n",
       "    <tr>\n",
       "      <th>1619</th>\n",
       "      <td>2017-01-06</td>\n",
       "      <td>2017-01-06 07:00:00</td>\n",
       "    </tr>\n",
       "  </tbody>\n",
       "</table>\n",
       "</div>"
      ],
      "text/plain": [
       "     arrive_date                time\n",
       "1615  2017-01-02 2017-01-02 07:00:00\n",
       "1616  2017-01-03 2017-01-03 07:00:00\n",
       "1617  2017-01-04 2017-01-04 07:00:00\n",
       "1618  2017-01-05 2017-01-05 07:00:00\n",
       "1619  2017-01-06 2017-01-06 07:00:00"
      ]
     },
     "execution_count": 145,
     "metadata": {},
     "output_type": "execute_result"
    }
   ],
   "source": [
    "cutoff.head()"
   ]
  },
  {
   "cell_type": "markdown",
   "metadata": {},
   "source": [
    "can specify hour we want to know using..."
   ]
  },
  {
   "cell_type": "markdown",
   "metadata": {},
   "source": [
    "pd.to_datetime(days_df2.arrive_date).apply(lambda x: x.replace(hour=0)) # .apply(lam) #+ pd.DateOffset(n=-1)"
   ]
  },
  {
   "cell_type": "code",
   "execution_count": null,
   "metadata": {},
   "outputs": [],
   "source": []
  },
  {
   "cell_type": "markdown",
   "metadata": {},
   "source": [
    "ft.make_temporal_cutoffs(cutoffs['customer_id'],\n",
    "cutoffs['cutoff_time'],\n",
    "window_size='3d',\n",
    " num_windows=2)"
   ]
  },
  {
   "cell_type": "code",
   "execution_count": null,
   "metadata": {},
   "outputs": [],
   "source": []
  },
  {
   "cell_type": "code",
   "execution_count": null,
   "metadata": {},
   "outputs": [],
   "source": []
  },
  {
   "cell_type": "code",
   "execution_count": null,
   "metadata": {},
   "outputs": [],
   "source": []
  },
  {
   "cell_type": "markdown",
   "metadata": {},
   "source": [
    "### Create feature matrix"
   ]
  },
  {
   "cell_type": "code",
   "execution_count": 160,
   "metadata": {},
   "outputs": [
    {
     "name": "stdout",
     "output_type": "stream",
     "text": [
      "2018-04-17 10:28:28,474 featuretools.entityset - WARNING    Using training_window but last_time_index is not set on entity days\n",
      "2018-04-17 10:28:28,542 featuretools.entityset - WARNING    Using training_window but last_time_index is not set on entity days\n",
      "2018-04-17 10:28:28,597 featuretools.entityset - WARNING    Using training_window but last_time_index is not set on entity days\n",
      "2018-04-17 10:28:28,657 featuretools.entityset - WARNING    Using training_window but last_time_index is not set on entity days\n",
      "2018-04-17 10:28:28,711 featuretools.entityset - WARNING    Using training_window but last_time_index is not set on entity days\n",
      "2018-04-17 10:28:28,773 featuretools.entityset - WARNING    Using training_window but last_time_index is not set on entity days\n",
      "2018-04-17 10:28:28,835 featuretools.entityset - WARNING    Using training_window but last_time_index is not set on entity days\n",
      "2018-04-17 10:28:28,893 featuretools.entityset - WARNING    Using training_window but last_time_index is not set on entity days\n",
      "2018-04-17 10:28:28,946 featuretools.entityset - WARNING    Using training_window but last_time_index is not set on entity days\n",
      "2018-04-17 10:28:29,010 featuretools.entityset - WARNING    Using training_window but last_time_index is not set on entity days\n",
      "2018-04-17 10:28:29,077 featuretools.entityset - WARNING    Using training_window but last_time_index is not set on entity days\n",
      "2018-04-17 10:28:29,134 featuretools.entityset - WARNING    Using training_window but last_time_index is not set on entity days\n",
      "2018-04-17 10:28:29,191 featuretools.entityset - WARNING    Using training_window but last_time_index is not set on entity days\n",
      "2018-04-17 10:28:29,253 featuretools.entityset - WARNING    Using training_window but last_time_index is not set on entity days\n",
      "2018-04-17 10:28:29,310 featuretools.entityset - WARNING    Using training_window but last_time_index is not set on entity days\n",
      "2018-04-17 10:28:29,365 featuretools.entityset - WARNING    Using training_window but last_time_index is not set on entity days\n",
      "2018-04-17 10:28:29,421 featuretools.entityset - WARNING    Using training_window but last_time_index is not set on entity days\n",
      "2018-04-17 10:28:29,481 featuretools.entityset - WARNING    Using training_window but last_time_index is not set on entity days\n",
      "2018-04-17 10:28:29,542 featuretools.entityset - WARNING    Using training_window but last_time_index is not set on entity days\n",
      "2018-04-17 10:28:29,599 featuretools.entityset - WARNING    Using training_window but last_time_index is not set on entity days\n",
      "2018-04-17 10:28:29,653 featuretools.entityset - WARNING    Using training_window but last_time_index is not set on entity days\n",
      "2018-04-17 10:28:29,718 featuretools.entityset - WARNING    Using training_window but last_time_index is not set on entity days\n",
      "2018-04-17 10:28:29,782 featuretools.entityset - WARNING    Using training_window but last_time_index is not set on entity days\n",
      "2018-04-17 10:28:29,843 featuretools.entityset - WARNING    Using training_window but last_time_index is not set on entity days\n",
      "2018-04-17 10:28:29,901 featuretools.entityset - WARNING    Using training_window but last_time_index is not set on entity days\n",
      "2018-04-17 10:28:29,968 featuretools.entityset - WARNING    Using training_window but last_time_index is not set on entity days\n",
      "2018-04-17 10:28:30,025 featuretools.entityset - WARNING    Using training_window but last_time_index is not set on entity days\n",
      "2018-04-17 10:28:30,085 featuretools.entityset - WARNING    Using training_window but last_time_index is not set on entity days\n",
      "2018-04-17 10:28:30,145 featuretools.entityset - WARNING    Using training_window but last_time_index is not set on entity days\n",
      "2018-04-17 10:28:30,204 featuretools.entityset - WARNING    Using training_window but last_time_index is not set on entity days\n",
      "2018-04-17 10:28:30,265 featuretools.entityset - WARNING    Using training_window but last_time_index is not set on entity days\n",
      "2018-04-17 10:28:30,325 featuretools.entityset - WARNING    Using training_window but last_time_index is not set on entity days\n",
      "2018-04-17 10:28:30,388 featuretools.entityset - WARNING    Using training_window but last_time_index is not set on entity days\n",
      "2018-04-17 10:28:30,448 featuretools.entityset - WARNING    Using training_window but last_time_index is not set on entity days\n",
      "2018-04-17 10:28:30,507 featuretools.entityset - WARNING    Using training_window but last_time_index is not set on entity days\n",
      "2018-04-17 10:28:30,567 featuretools.entityset - WARNING    Using training_window but last_time_index is not set on entity days\n",
      "2018-04-17 10:28:30,628 featuretools.entityset - WARNING    Using training_window but last_time_index is not set on entity days\n",
      "2018-04-17 10:28:30,685 featuretools.entityset - WARNING    Using training_window but last_time_index is not set on entity days\n",
      "2018-04-17 10:28:30,747 featuretools.entityset - WARNING    Using training_window but last_time_index is not set on entity days\n",
      "2018-04-17 10:28:30,806 featuretools.entityset - WARNING    Using training_window but last_time_index is not set on entity days\n",
      "2018-04-17 10:28:30,869 featuretools.entityset - WARNING    Using training_window but last_time_index is not set on entity days\n",
      "2018-04-17 10:28:30,923 featuretools.entityset - WARNING    Using training_window but last_time_index is not set on entity days\n",
      "2018-04-17 10:28:30,985 featuretools.entityset - WARNING    Using training_window but last_time_index is not set on entity days\n",
      "2018-04-17 10:28:31,044 featuretools.entityset - WARNING    Using training_window but last_time_index is not set on entity days\n",
      "2018-04-17 10:28:31,106 featuretools.entityset - WARNING    Using training_window but last_time_index is not set on entity days\n",
      "2018-04-17 10:28:31,170 featuretools.entityset - WARNING    Using training_window but last_time_index is not set on entity days\n",
      "2018-04-17 10:28:31,232 featuretools.entityset - WARNING    Using training_window but last_time_index is not set on entity days\n",
      "2018-04-17 10:28:31,295 featuretools.entityset - WARNING    Using training_window but last_time_index is not set on entity days\n",
      "2018-04-17 10:28:31,353 featuretools.entityset - WARNING    Using training_window but last_time_index is not set on entity days\n",
      "2018-04-17 10:28:31,417 featuretools.entityset - WARNING    Using training_window but last_time_index is not set on entity days\n",
      "2018-04-17 10:28:31,479 featuretools.entityset - WARNING    Using training_window but last_time_index is not set on entity days\n",
      "2018-04-17 10:28:31,537 featuretools.entityset - WARNING    Using training_window but last_time_index is not set on entity days\n",
      "2018-04-17 10:28:31,593 featuretools.entityset - WARNING    Using training_window but last_time_index is not set on entity days\n",
      "2018-04-17 10:28:31,651 featuretools.entityset - WARNING    Using training_window but last_time_index is not set on entity days\n",
      "2018-04-17 10:28:31,710 featuretools.entityset - WARNING    Using training_window but last_time_index is not set on entity days\n",
      "2018-04-17 10:28:31,771 featuretools.entityset - WARNING    Using training_window but last_time_index is not set on entity days\n",
      "2018-04-17 10:28:31,830 featuretools.entityset - WARNING    Using training_window but last_time_index is not set on entity days\n",
      "2018-04-17 10:28:31,892 featuretools.entityset - WARNING    Using training_window but last_time_index is not set on entity days\n",
      "2018-04-17 10:28:31,949 featuretools.entityset - WARNING    Using training_window but last_time_index is not set on entity days\n",
      "2018-04-17 10:28:32,007 featuretools.entityset - WARNING    Using training_window but last_time_index is not set on entity days\n",
      "2018-04-17 10:28:32,065 featuretools.entityset - WARNING    Using training_window but last_time_index is not set on entity days\n",
      "2018-04-17 10:28:32,136 featuretools.entityset - WARNING    Using training_window but last_time_index is not set on entity days\n",
      "2018-04-17 10:28:32,194 featuretools.entityset - WARNING    Using training_window but last_time_index is not set on entity days\n",
      "2018-04-17 10:28:32,249 featuretools.entityset - WARNING    Using training_window but last_time_index is not set on entity days\n",
      "2018-04-17 10:28:32,305 featuretools.entityset - WARNING    Using training_window but last_time_index is not set on entity days\n"
     ]
    },
    {
     "name": "stdout",
     "output_type": "stream",
     "text": [
      "2018-04-17 10:28:32,366 featuretools.entityset - WARNING    Using training_window but last_time_index is not set on entity days\n",
      "2018-04-17 10:28:32,426 featuretools.entityset - WARNING    Using training_window but last_time_index is not set on entity days\n",
      "2018-04-17 10:28:32,489 featuretools.entityset - WARNING    Using training_window but last_time_index is not set on entity days\n",
      "2018-04-17 10:28:32,548 featuretools.entityset - WARNING    Using training_window but last_time_index is not set on entity days\n",
      "2018-04-17 10:28:32,606 featuretools.entityset - WARNING    Using training_window but last_time_index is not set on entity days\n",
      "2018-04-17 10:28:32,666 featuretools.entityset - WARNING    Using training_window but last_time_index is not set on entity days\n",
      "2018-04-17 10:28:32,726 featuretools.entityset - WARNING    Using training_window but last_time_index is not set on entity days\n",
      "2018-04-17 10:28:32,789 featuretools.entityset - WARNING    Using training_window but last_time_index is not set on entity days\n",
      "2018-04-17 10:28:32,850 featuretools.entityset - WARNING    Using training_window but last_time_index is not set on entity days\n",
      "2018-04-17 10:28:32,909 featuretools.entityset - WARNING    Using training_window but last_time_index is not set on entity days\n",
      "2018-04-17 10:28:32,967 featuretools.entityset - WARNING    Using training_window but last_time_index is not set on entity days\n",
      "2018-04-17 10:28:33,020 featuretools.entityset - WARNING    Using training_window but last_time_index is not set on entity days\n",
      "2018-04-17 10:28:33,082 featuretools.entityset - WARNING    Using training_window but last_time_index is not set on entity days\n",
      "2018-04-17 10:28:33,144 featuretools.entityset - WARNING    Using training_window but last_time_index is not set on entity days\n",
      "2018-04-17 10:28:33,204 featuretools.entityset - WARNING    Using training_window but last_time_index is not set on entity days\n",
      "2018-04-17 10:28:33,266 featuretools.entityset - WARNING    Using training_window but last_time_index is not set on entity days\n",
      "2018-04-17 10:28:33,330 featuretools.entityset - WARNING    Using training_window but last_time_index is not set on entity days\n",
      "2018-04-17 10:28:33,389 featuretools.entityset - WARNING    Using training_window but last_time_index is not set on entity days\n",
      "2018-04-17 10:28:33,450 featuretools.entityset - WARNING    Using training_window but last_time_index is not set on entity days\n",
      "2018-04-17 10:28:33,508 featuretools.entityset - WARNING    Using training_window but last_time_index is not set on entity days\n",
      "2018-04-17 10:28:33,567 featuretools.entityset - WARNING    Using training_window but last_time_index is not set on entity days\n",
      "2018-04-17 10:28:33,621 featuretools.entityset - WARNING    Using training_window but last_time_index is not set on entity days\n",
      "2018-04-17 10:28:33,681 featuretools.entityset - WARNING    Using training_window but last_time_index is not set on entity days\n",
      "2018-04-17 10:28:33,741 featuretools.entityset - WARNING    Using training_window but last_time_index is not set on entity days\n",
      "2018-04-17 10:28:33,798 featuretools.entityset - WARNING    Using training_window but last_time_index is not set on entity days\n",
      "2018-04-17 10:28:33,861 featuretools.entityset - WARNING    Using training_window but last_time_index is not set on entity days\n",
      "2018-04-17 10:28:33,920 featuretools.entityset - WARNING    Using training_window but last_time_index is not set on entity days\n",
      "2018-04-17 10:28:33,985 featuretools.entityset - WARNING    Using training_window but last_time_index is not set on entity days\n",
      "2018-04-17 10:28:34,045 featuretools.entityset - WARNING    Using training_window but last_time_index is not set on entity days\n",
      "2018-04-17 10:28:34,103 featuretools.entityset - WARNING    Using training_window but last_time_index is not set on entity days\n",
      "2018-04-17 10:28:34,165 featuretools.entityset - WARNING    Using training_window but last_time_index is not set on entity days\n",
      "2018-04-17 10:28:34,226 featuretools.entityset - WARNING    Using training_window but last_time_index is not set on entity days\n",
      "2018-04-17 10:28:34,288 featuretools.entityset - WARNING    Using training_window but last_time_index is not set on entity days\n",
      "2018-04-17 10:28:34,349 featuretools.entityset - WARNING    Using training_window but last_time_index is not set on entity days\n",
      "2018-04-17 10:28:34,408 featuretools.entityset - WARNING    Using training_window but last_time_index is not set on entity days\n",
      "2018-04-17 10:28:34,472 featuretools.entityset - WARNING    Using training_window but last_time_index is not set on entity days\n",
      "2018-04-17 10:28:34,538 featuretools.entityset - WARNING    Using training_window but last_time_index is not set on entity days\n",
      "2018-04-17 10:28:34,599 featuretools.entityset - WARNING    Using training_window but last_time_index is not set on entity days\n",
      "2018-04-17 10:28:34,655 featuretools.entityset - WARNING    Using training_window but last_time_index is not set on entity days\n",
      "2018-04-17 10:28:34,714 featuretools.entityset - WARNING    Using training_window but last_time_index is not set on entity days\n",
      "2018-04-17 10:28:34,773 featuretools.entityset - WARNING    Using training_window but last_time_index is not set on entity days\n",
      "2018-04-17 10:28:34,832 featuretools.entityset - WARNING    Using training_window but last_time_index is not set on entity days\n",
      "2018-04-17 10:28:34,889 featuretools.entityset - WARNING    Using training_window but last_time_index is not set on entity days\n",
      "2018-04-17 10:28:34,950 featuretools.entityset - WARNING    Using training_window but last_time_index is not set on entity days\n",
      "2018-04-17 10:28:35,010 featuretools.entityset - WARNING    Using training_window but last_time_index is not set on entity days\n",
      "2018-04-17 10:28:35,071 featuretools.entityset - WARNING    Using training_window but last_time_index is not set on entity days\n",
      "2018-04-17 10:28:35,131 featuretools.entityset - WARNING    Using training_window but last_time_index is not set on entity days\n",
      "2018-04-17 10:28:35,190 featuretools.entityset - WARNING    Using training_window but last_time_index is not set on entity days\n",
      "2018-04-17 10:28:35,249 featuretools.entityset - WARNING    Using training_window but last_time_index is not set on entity days\n",
      "2018-04-17 10:28:35,310 featuretools.entityset - WARNING    Using training_window but last_time_index is not set on entity days\n",
      "2018-04-17 10:28:35,371 featuretools.entityset - WARNING    Using training_window but last_time_index is not set on entity days\n",
      "2018-04-17 10:28:35,428 featuretools.entityset - WARNING    Using training_window but last_time_index is not set on entity days\n",
      "2018-04-17 10:28:35,491 featuretools.entityset - WARNING    Using training_window but last_time_index is not set on entity days\n",
      "2018-04-17 10:28:35,556 featuretools.entityset - WARNING    Using training_window but last_time_index is not set on entity days\n",
      "2018-04-17 10:28:35,612 featuretools.entityset - WARNING    Using training_window but last_time_index is not set on entity days\n",
      "2018-04-17 10:28:35,664 featuretools.entityset - WARNING    Using training_window but last_time_index is not set on entity days\n",
      "2018-04-17 10:28:35,723 featuretools.entityset - WARNING    Using training_window but last_time_index is not set on entity days\n",
      "2018-04-17 10:28:35,779 featuretools.entityset - WARNING    Using training_window but last_time_index is not set on entity days\n",
      "2018-04-17 10:28:35,837 featuretools.entityset - WARNING    Using training_window but last_time_index is not set on entity days\n",
      "2018-04-17 10:28:35,895 featuretools.entityset - WARNING    Using training_window but last_time_index is not set on entity days\n",
      "2018-04-17 10:28:35,953 featuretools.entityset - WARNING    Using training_window but last_time_index is not set on entity days\n",
      "2018-04-17 10:28:36,010 featuretools.entityset - WARNING    Using training_window but last_time_index is not set on entity days\n",
      "2018-04-17 10:28:36,067 featuretools.entityset - WARNING    Using training_window but last_time_index is not set on entity days\n",
      "2018-04-17 10:28:36,123 featuretools.entityset - WARNING    Using training_window but last_time_index is not set on entity days\n",
      "2018-04-17 10:28:36,180 featuretools.entityset - WARNING    Using training_window but last_time_index is not set on entity days\n"
     ]
    },
    {
     "name": "stdout",
     "output_type": "stream",
     "text": [
      "2018-04-17 10:28:36,241 featuretools.entityset - WARNING    Using training_window but last_time_index is not set on entity days\n",
      "2018-04-17 10:28:36,292 featuretools.entityset - WARNING    Using training_window but last_time_index is not set on entity days\n",
      "2018-04-17 10:28:36,358 featuretools.entityset - WARNING    Using training_window but last_time_index is not set on entity days\n",
      "2018-04-17 10:28:36,421 featuretools.entityset - WARNING    Using training_window but last_time_index is not set on entity days\n",
      "2018-04-17 10:28:36,474 featuretools.entityset - WARNING    Using training_window but last_time_index is not set on entity days\n",
      "2018-04-17 10:28:36,539 featuretools.entityset - WARNING    Using training_window but last_time_index is not set on entity days\n",
      "2018-04-17 10:28:36,604 featuretools.entityset - WARNING    Using training_window but last_time_index is not set on entity days\n",
      "2018-04-17 10:28:36,662 featuretools.entityset - WARNING    Using training_window but last_time_index is not set on entity days\n",
      "2018-04-17 10:28:36,718 featuretools.entityset - WARNING    Using training_window but last_time_index is not set on entity days\n",
      "2018-04-17 10:28:36,781 featuretools.entityset - WARNING    Using training_window but last_time_index is not set on entity days\n",
      "2018-04-17 10:28:36,839 featuretools.entityset - WARNING    Using training_window but last_time_index is not set on entity days\n",
      "2018-04-17 10:28:36,901 featuretools.entityset - WARNING    Using training_window but last_time_index is not set on entity days\n",
      "2018-04-17 10:28:36,960 featuretools.entityset - WARNING    Using training_window but last_time_index is not set on entity days\n",
      "2018-04-17 10:28:37,025 featuretools.entityset - WARNING    Using training_window but last_time_index is not set on entity days\n",
      "2018-04-17 10:28:37,089 featuretools.entityset - WARNING    Using training_window but last_time_index is not set on entity days\n",
      "2018-04-17 10:28:37,146 featuretools.entityset - WARNING    Using training_window but last_time_index is not set on entity days\n",
      "2018-04-17 10:28:37,207 featuretools.entityset - WARNING    Using training_window but last_time_index is not set on entity days\n",
      "2018-04-17 10:28:37,270 featuretools.entityset - WARNING    Using training_window but last_time_index is not set on entity days\n",
      "2018-04-17 10:28:37,325 featuretools.entityset - WARNING    Using training_window but last_time_index is not set on entity days\n",
      "2018-04-17 10:28:37,383 featuretools.entityset - WARNING    Using training_window but last_time_index is not set on entity days\n",
      "2018-04-17 10:28:37,443 featuretools.entityset - WARNING    Using training_window but last_time_index is not set on entity days\n",
      "2018-04-17 10:28:37,501 featuretools.entityset - WARNING    Using training_window but last_time_index is not set on entity days\n",
      "2018-04-17 10:28:37,560 featuretools.entityset - WARNING    Using training_window but last_time_index is not set on entity days\n",
      "2018-04-17 10:28:37,619 featuretools.entityset - WARNING    Using training_window but last_time_index is not set on entity days\n",
      "2018-04-17 10:28:37,679 featuretools.entityset - WARNING    Using training_window but last_time_index is not set on entity days\n",
      "2018-04-17 10:28:37,741 featuretools.entityset - WARNING    Using training_window but last_time_index is not set on entity days\n",
      "2018-04-17 10:28:37,801 featuretools.entityset - WARNING    Using training_window but last_time_index is not set on entity days\n",
      "2018-04-17 10:28:37,858 featuretools.entityset - WARNING    Using training_window but last_time_index is not set on entity days\n",
      "2018-04-17 10:28:37,919 featuretools.entityset - WARNING    Using training_window but last_time_index is not set on entity days\n",
      "2018-04-17 10:28:37,976 featuretools.entityset - WARNING    Using training_window but last_time_index is not set on entity days\n",
      "2018-04-17 10:28:38,038 featuretools.entityset - WARNING    Using training_window but last_time_index is not set on entity days\n",
      "2018-04-17 10:28:38,101 featuretools.entityset - WARNING    Using training_window but last_time_index is not set on entity days\n",
      "2018-04-17 10:28:38,157 featuretools.entityset - WARNING    Using training_window but last_time_index is not set on entity days\n",
      "2018-04-17 10:28:38,214 featuretools.entityset - WARNING    Using training_window but last_time_index is not set on entity days\n",
      "2018-04-17 10:28:38,273 featuretools.entityset - WARNING    Using training_window but last_time_index is not set on entity days\n",
      "2018-04-17 10:28:38,333 featuretools.entityset - WARNING    Using training_window but last_time_index is not set on entity days\n",
      "2018-04-17 10:28:38,394 featuretools.entityset - WARNING    Using training_window but last_time_index is not set on entity days\n",
      "2018-04-17 10:28:38,465 featuretools.entityset - WARNING    Using training_window but last_time_index is not set on entity days\n",
      "2018-04-17 10:28:38,527 featuretools.entityset - WARNING    Using training_window but last_time_index is not set on entity days\n",
      "2018-04-17 10:28:38,587 featuretools.entityset - WARNING    Using training_window but last_time_index is not set on entity days\n",
      "2018-04-17 10:28:38,647 featuretools.entityset - WARNING    Using training_window but last_time_index is not set on entity days\n",
      "2018-04-17 10:28:38,709 featuretools.entityset - WARNING    Using training_window but last_time_index is not set on entity days\n",
      "2018-04-17 10:28:38,778 featuretools.entityset - WARNING    Using training_window but last_time_index is not set on entity days\n",
      "2018-04-17 10:28:38,844 featuretools.entityset - WARNING    Using training_window but last_time_index is not set on entity days\n",
      "2018-04-17 10:28:38,908 featuretools.entityset - WARNING    Using training_window but last_time_index is not set on entity days\n",
      "2018-04-17 10:28:38,966 featuretools.entityset - WARNING    Using training_window but last_time_index is not set on entity days\n",
      "2018-04-17 10:28:39,022 featuretools.entityset - WARNING    Using training_window but last_time_index is not set on entity days\n",
      "2018-04-17 10:28:39,074 featuretools.entityset - WARNING    Using training_window but last_time_index is not set on entity days\n",
      "2018-04-17 10:28:39,134 featuretools.entityset - WARNING    Using training_window but last_time_index is not set on entity days\n",
      "2018-04-17 10:28:39,194 featuretools.entityset - WARNING    Using training_window but last_time_index is not set on entity days\n",
      "2018-04-17 10:28:39,254 featuretools.entityset - WARNING    Using training_window but last_time_index is not set on entity days\n",
      "2018-04-17 10:28:39,314 featuretools.entityset - WARNING    Using training_window but last_time_index is not set on entity days\n",
      "2018-04-17 10:28:39,373 featuretools.entityset - WARNING    Using training_window but last_time_index is not set on entity days\n",
      "2018-04-17 10:28:39,430 featuretools.entityset - WARNING    Using training_window but last_time_index is not set on entity days\n",
      "2018-04-17 10:28:39,493 featuretools.entityset - WARNING    Using training_window but last_time_index is not set on entity days\n",
      "2018-04-17 10:28:39,551 featuretools.entityset - WARNING    Using training_window but last_time_index is not set on entity days\n",
      "2018-04-17 10:28:39,614 featuretools.entityset - WARNING    Using training_window but last_time_index is not set on entity days\n",
      "2018-04-17 10:28:39,667 featuretools.entityset - WARNING    Using training_window but last_time_index is not set on entity days\n",
      "2018-04-17 10:28:39,727 featuretools.entityset - WARNING    Using training_window but last_time_index is not set on entity days\n",
      "2018-04-17 10:28:39,788 featuretools.entityset - WARNING    Using training_window but last_time_index is not set on entity days\n",
      "2018-04-17 10:28:39,850 featuretools.entityset - WARNING    Using training_window but last_time_index is not set on entity days\n",
      "2018-04-17 10:28:39,912 featuretools.entityset - WARNING    Using training_window but last_time_index is not set on entity days\n",
      "2018-04-17 10:28:39,972 featuretools.entityset - WARNING    Using training_window but last_time_index is not set on entity days\n",
      "2018-04-17 10:28:40,034 featuretools.entityset - WARNING    Using training_window but last_time_index is not set on entity days\n",
      "2018-04-17 10:28:40,093 featuretools.entityset - WARNING    Using training_window but last_time_index is not set on entity days\n"
     ]
    },
    {
     "name": "stdout",
     "output_type": "stream",
     "text": [
      "2018-04-17 10:28:40,152 featuretools.entityset - WARNING    Using training_window but last_time_index is not set on entity days\n",
      "2018-04-17 10:28:40,210 featuretools.entityset - WARNING    Using training_window but last_time_index is not set on entity days\n",
      "2018-04-17 10:28:40,271 featuretools.entityset - WARNING    Using training_window but last_time_index is not set on entity days\n",
      "2018-04-17 10:28:40,332 featuretools.entityset - WARNING    Using training_window but last_time_index is not set on entity days\n",
      "2018-04-17 10:28:40,392 featuretools.entityset - WARNING    Using training_window but last_time_index is not set on entity days\n",
      "2018-04-17 10:28:40,452 featuretools.entityset - WARNING    Using training_window but last_time_index is not set on entity days\n",
      "2018-04-17 10:28:40,513 featuretools.entityset - WARNING    Using training_window but last_time_index is not set on entity days\n",
      "2018-04-17 10:28:40,572 featuretools.entityset - WARNING    Using training_window but last_time_index is not set on entity days\n",
      "2018-04-17 10:28:40,633 featuretools.entityset - WARNING    Using training_window but last_time_index is not set on entity days\n",
      "2018-04-17 10:28:40,695 featuretools.entityset - WARNING    Using training_window but last_time_index is not set on entity days\n",
      "2018-04-17 10:28:40,755 featuretools.entityset - WARNING    Using training_window but last_time_index is not set on entity days\n",
      "2018-04-17 10:28:40,809 featuretools.entityset - WARNING    Using training_window but last_time_index is not set on entity days\n",
      "2018-04-17 10:28:40,874 featuretools.entityset - WARNING    Using training_window but last_time_index is not set on entity days\n",
      "2018-04-17 10:28:40,934 featuretools.entityset - WARNING    Using training_window but last_time_index is not set on entity days\n",
      "2018-04-17 10:28:40,991 featuretools.entityset - WARNING    Using training_window but last_time_index is not set on entity days\n",
      "2018-04-17 10:28:41,052 featuretools.entityset - WARNING    Using training_window but last_time_index is not set on entity days\n",
      "2018-04-17 10:28:41,112 featuretools.entityset - WARNING    Using training_window but last_time_index is not set on entity days\n",
      "2018-04-17 10:28:41,167 featuretools.entityset - WARNING    Using training_window but last_time_index is not set on entity days\n",
      "2018-04-17 10:28:41,228 featuretools.entityset - WARNING    Using training_window but last_time_index is not set on entity days\n",
      "2018-04-17 10:28:41,283 featuretools.entityset - WARNING    Using training_window but last_time_index is not set on entity days\n",
      "2018-04-17 10:28:41,345 featuretools.entityset - WARNING    Using training_window but last_time_index is not set on entity days\n",
      "2018-04-17 10:28:41,405 featuretools.entityset - WARNING    Using training_window but last_time_index is not set on entity days\n",
      "2018-04-17 10:28:41,464 featuretools.entityset - WARNING    Using training_window but last_time_index is not set on entity days\n",
      "2018-04-17 10:28:41,526 featuretools.entityset - WARNING    Using training_window but last_time_index is not set on entity days\n",
      "2018-04-17 10:28:41,578 featuretools.entityset - WARNING    Using training_window but last_time_index is not set on entity days\n",
      "2018-04-17 10:28:41,639 featuretools.entityset - WARNING    Using training_window but last_time_index is not set on entity days\n",
      "2018-04-17 10:28:41,702 featuretools.entityset - WARNING    Using training_window but last_time_index is not set on entity days\n",
      "2018-04-17 10:28:41,762 featuretools.entityset - WARNING    Using training_window but last_time_index is not set on entity days\n",
      "2018-04-17 10:28:41,824 featuretools.entityset - WARNING    Using training_window but last_time_index is not set on entity days\n",
      "2018-04-17 10:28:41,882 featuretools.entityset - WARNING    Using training_window but last_time_index is not set on entity days\n",
      "2018-04-17 10:28:41,944 featuretools.entityset - WARNING    Using training_window but last_time_index is not set on entity days\n",
      "2018-04-17 10:28:42,004 featuretools.entityset - WARNING    Using training_window but last_time_index is not set on entity days\n",
      "2018-04-17 10:28:42,063 featuretools.entityset - WARNING    Using training_window but last_time_index is not set on entity days\n",
      "2018-04-17 10:28:42,126 featuretools.entityset - WARNING    Using training_window but last_time_index is not set on entity days\n",
      "2018-04-17 10:28:42,183 featuretools.entityset - WARNING    Using training_window but last_time_index is not set on entity days\n",
      "2018-04-17 10:28:42,246 featuretools.entityset - WARNING    Using training_window but last_time_index is not set on entity days\n",
      "2018-04-17 10:28:42,305 featuretools.entityset - WARNING    Using training_window but last_time_index is not set on entity days\n",
      "2018-04-17 10:28:42,363 featuretools.entityset - WARNING    Using training_window but last_time_index is not set on entity days\n",
      "2018-04-17 10:28:42,418 featuretools.entityset - WARNING    Using training_window but last_time_index is not set on entity days\n",
      "2018-04-17 10:28:42,482 featuretools.entityset - WARNING    Using training_window but last_time_index is not set on entity days\n",
      "2018-04-17 10:28:42,540 featuretools.entityset - WARNING    Using training_window but last_time_index is not set on entity days\n",
      "2018-04-17 10:28:42,599 featuretools.entityset - WARNING    Using training_window but last_time_index is not set on entity days\n",
      "2018-04-17 10:28:42,661 featuretools.entityset - WARNING    Using training_window but last_time_index is not set on entity days\n",
      "2018-04-17 10:28:42,715 featuretools.entityset - WARNING    Using training_window but last_time_index is not set on entity days\n",
      "2018-04-17 10:28:42,777 featuretools.entityset - WARNING    Using training_window but last_time_index is not set on entity days\n",
      "2018-04-17 10:28:42,836 featuretools.entityset - WARNING    Using training_window but last_time_index is not set on entity days\n",
      "2018-04-17 10:28:42,894 featuretools.entityset - WARNING    Using training_window but last_time_index is not set on entity days\n",
      "2018-04-17 10:28:42,953 featuretools.entityset - WARNING    Using training_window but last_time_index is not set on entity days\n",
      "2018-04-17 10:28:43,014 featuretools.entityset - WARNING    Using training_window but last_time_index is not set on entity days\n",
      "2018-04-17 10:28:43,072 featuretools.entityset - WARNING    Using training_window but last_time_index is not set on entity days\n",
      "2018-04-17 10:28:43,128 featuretools.entityset - WARNING    Using training_window but last_time_index is not set on entity days\n",
      "2018-04-17 10:28:43,191 featuretools.entityset - WARNING    Using training_window but last_time_index is not set on entity days\n",
      "2018-04-17 10:28:43,250 featuretools.entityset - WARNING    Using training_window but last_time_index is not set on entity days\n",
      "2018-04-17 10:28:43,308 featuretools.entityset - WARNING    Using training_window but last_time_index is not set on entity days\n",
      "2018-04-17 10:28:43,375 featuretools.entityset - WARNING    Using training_window but last_time_index is not set on entity days\n",
      "2018-04-17 10:28:43,437 featuretools.entityset - WARNING    Using training_window but last_time_index is not set on entity days\n",
      "2018-04-17 10:28:43,499 featuretools.entityset - WARNING    Using training_window but last_time_index is not set on entity days\n",
      "2018-04-17 10:28:43,558 featuretools.entityset - WARNING    Using training_window but last_time_index is not set on entity days\n",
      "2018-04-17 10:28:43,615 featuretools.entityset - WARNING    Using training_window but last_time_index is not set on entity days\n",
      "2018-04-17 10:28:43,682 featuretools.entityset - WARNING    Using training_window but last_time_index is not set on entity days\n",
      "2018-04-17 10:28:43,738 featuretools.entityset - WARNING    Using training_window but last_time_index is not set on entity days\n",
      "2018-04-17 10:28:43,801 featuretools.entityset - WARNING    Using training_window but last_time_index is not set on entity days\n",
      "2018-04-17 10:28:43,861 featuretools.entityset - WARNING    Using training_window but last_time_index is not set on entity days\n",
      "2018-04-17 10:28:43,924 featuretools.entityset - WARNING    Using training_window but last_time_index is not set on entity days\n",
      "2018-04-17 10:28:43,983 featuretools.entityset - WARNING    Using training_window but last_time_index is not set on entity days\n"
     ]
    },
    {
     "name": "stdout",
     "output_type": "stream",
     "text": [
      "2018-04-17 10:28:44,045 featuretools.entityset - WARNING    Using training_window but last_time_index is not set on entity days\n",
      "2018-04-17 10:28:44,107 featuretools.entityset - WARNING    Using training_window but last_time_index is not set on entity days\n",
      "2018-04-17 10:28:44,172 featuretools.entityset - WARNING    Using training_window but last_time_index is not set on entity days\n",
      "2018-04-17 10:28:44,238 featuretools.entityset - WARNING    Using training_window but last_time_index is not set on entity days\n",
      "2018-04-17 10:28:44,299 featuretools.entityset - WARNING    Using training_window but last_time_index is not set on entity days\n",
      "2018-04-17 10:28:44,362 featuretools.entityset - WARNING    Using training_window but last_time_index is not set on entity days\n",
      "2018-04-17 10:28:44,419 featuretools.entityset - WARNING    Using training_window but last_time_index is not set on entity days\n",
      "2018-04-17 10:28:44,481 featuretools.entityset - WARNING    Using training_window but last_time_index is not set on entity days\n",
      "2018-04-17 10:28:44,541 featuretools.entityset - WARNING    Using training_window but last_time_index is not set on entity days\n",
      "2018-04-17 10:28:44,601 featuretools.entityset - WARNING    Using training_window but last_time_index is not set on entity days\n",
      "2018-04-17 10:28:44,662 featuretools.entityset - WARNING    Using training_window but last_time_index is not set on entity days\n",
      "2018-04-17 10:28:44,720 featuretools.entityset - WARNING    Using training_window but last_time_index is not set on entity days\n",
      "2018-04-17 10:28:44,779 featuretools.entityset - WARNING    Using training_window but last_time_index is not set on entity days\n",
      "2018-04-17 10:28:44,840 featuretools.entityset - WARNING    Using training_window but last_time_index is not set on entity days\n",
      "2018-04-17 10:28:44,901 featuretools.entityset - WARNING    Using training_window but last_time_index is not set on entity days\n",
      "2018-04-17 10:28:44,955 featuretools.entityset - WARNING    Using training_window but last_time_index is not set on entity days\n",
      "2018-04-17 10:28:45,018 featuretools.entityset - WARNING    Using training_window but last_time_index is not set on entity days\n",
      "2018-04-17 10:28:45,082 featuretools.entityset - WARNING    Using training_window but last_time_index is not set on entity days\n",
      "2018-04-17 10:28:45,138 featuretools.entityset - WARNING    Using training_window but last_time_index is not set on entity days\n",
      "2018-04-17 10:28:45,196 featuretools.entityset - WARNING    Using training_window but last_time_index is not set on entity days\n",
      "2018-04-17 10:28:45,259 featuretools.entityset - WARNING    Using training_window but last_time_index is not set on entity days\n",
      "2018-04-17 10:28:45,314 featuretools.entityset - WARNING    Using training_window but last_time_index is not set on entity days\n",
      "2018-04-17 10:28:45,376 featuretools.entityset - WARNING    Using training_window but last_time_index is not set on entity days\n",
      "2018-04-17 10:28:45,437 featuretools.entityset - WARNING    Using training_window but last_time_index is not set on entity days\n",
      "2018-04-17 10:28:45,495 featuretools.entityset - WARNING    Using training_window but last_time_index is not set on entity days\n",
      "2018-04-17 10:28:45,555 featuretools.entityset - WARNING    Using training_window but last_time_index is not set on entity days\n",
      "2018-04-17 10:28:45,617 featuretools.entityset - WARNING    Using training_window but last_time_index is not set on entity days\n",
      "2018-04-17 10:28:45,676 featuretools.entityset - WARNING    Using training_window but last_time_index is not set on entity days\n",
      "2018-04-17 10:28:45,728 featuretools.entityset - WARNING    Using training_window but last_time_index is not set on entity days\n",
      "2018-04-17 10:28:45,789 featuretools.entityset - WARNING    Using training_window but last_time_index is not set on entity days\n",
      "2018-04-17 10:28:45,850 featuretools.entityset - WARNING    Using training_window but last_time_index is not set on entity days\n",
      "2018-04-17 10:28:45,910 featuretools.entityset - WARNING    Using training_window but last_time_index is not set on entity days\n",
      "2018-04-17 10:28:45,971 featuretools.entityset - WARNING    Using training_window but last_time_index is not set on entity days\n",
      "2018-04-17 10:28:46,029 featuretools.entityset - WARNING    Using training_window but last_time_index is not set on entity days\n",
      "2018-04-17 10:28:46,091 featuretools.entityset - WARNING    Using training_window but last_time_index is not set on entity days\n",
      "2018-04-17 10:28:46,143 featuretools.entityset - WARNING    Using training_window but last_time_index is not set on entity days\n",
      "2018-04-17 10:28:46,206 featuretools.entityset - WARNING    Using training_window but last_time_index is not set on entity days\n",
      "2018-04-17 10:28:46,267 featuretools.entityset - WARNING    Using training_window but last_time_index is not set on entity days\n",
      "2018-04-17 10:28:46,320 featuretools.entityset - WARNING    Using training_window but last_time_index is not set on entity days\n",
      "2018-04-17 10:28:46,385 featuretools.entityset - WARNING    Using training_window but last_time_index is not set on entity days\n",
      "2018-04-17 10:28:46,448 featuretools.entityset - WARNING    Using training_window but last_time_index is not set on entity days\n",
      "2018-04-17 10:28:46,511 featuretools.entityset - WARNING    Using training_window but last_time_index is not set on entity days\n",
      "2018-04-17 10:28:46,571 featuretools.entityset - WARNING    Using training_window but last_time_index is not set on entity days\n",
      "2018-04-17 10:28:46,629 featuretools.entityset - WARNING    Using training_window but last_time_index is not set on entity days\n",
      "2018-04-17 10:28:46,685 featuretools.entityset - WARNING    Using training_window but last_time_index is not set on entity days\n",
      "2018-04-17 10:28:46,743 featuretools.entityset - WARNING    Using training_window but last_time_index is not set on entity days\n",
      "2018-04-17 10:28:46,803 featuretools.entityset - WARNING    Using training_window but last_time_index is not set on entity days\n",
      "2018-04-17 10:28:46,858 featuretools.entityset - WARNING    Using training_window but last_time_index is not set on entity days\n",
      "2018-04-17 10:28:46,920 featuretools.entityset - WARNING    Using training_window but last_time_index is not set on entity days\n",
      "2018-04-17 10:28:46,978 featuretools.entityset - WARNING    Using training_window but last_time_index is not set on entity days\n",
      "2018-04-17 10:28:47,031 featuretools.entityset - WARNING    Using training_window but last_time_index is not set on entity days\n",
      "2018-04-17 10:28:47,106 featuretools.entityset - WARNING    Using training_window but last_time_index is not set on entity days\n",
      "2018-04-17 10:28:47,167 featuretools.entityset - WARNING    Using training_window but last_time_index is not set on entity days\n",
      "2018-04-17 10:28:47,226 featuretools.entityset - WARNING    Using training_window but last_time_index is not set on entity days\n",
      "2018-04-17 10:28:47,279 featuretools.entityset - WARNING    Using training_window but last_time_index is not set on entity days\n",
      "2018-04-17 10:28:47,342 featuretools.entityset - WARNING    Using training_window but last_time_index is not set on entity days\n",
      "2018-04-17 10:28:47,403 featuretools.entityset - WARNING    Using training_window but last_time_index is not set on entity days\n",
      "2018-04-17 10:28:47,462 featuretools.entityset - WARNING    Using training_window but last_time_index is not set on entity days\n",
      "2018-04-17 10:28:47,521 featuretools.entityset - WARNING    Using training_window but last_time_index is not set on entity days\n",
      "2018-04-17 10:28:47,579 featuretools.entityset - WARNING    Using training_window but last_time_index is not set on entity days\n",
      "2018-04-17 10:28:47,643 featuretools.entityset - WARNING    Using training_window but last_time_index is not set on entity days\n",
      "2018-04-17 10:28:47,704 featuretools.entityset - WARNING    Using training_window but last_time_index is not set on entity days\n",
      "2018-04-17 10:28:47,764 featuretools.entityset - WARNING    Using training_window but last_time_index is not set on entity days\n",
      "2018-04-17 10:28:47,825 featuretools.entityset - WARNING    Using training_window but last_time_index is not set on entity days\n",
      "2018-04-17 10:28:47,879 featuretools.entityset - WARNING    Using training_window but last_time_index is not set on entity days\n"
     ]
    },
    {
     "name": "stdout",
     "output_type": "stream",
     "text": [
      "2018-04-17 10:28:47,940 featuretools.entityset - WARNING    Using training_window but last_time_index is not set on entity days\n",
      "2018-04-17 10:28:48,003 featuretools.entityset - WARNING    Using training_window but last_time_index is not set on entity days\n",
      "2018-04-17 10:28:48,062 featuretools.entityset - WARNING    Using training_window but last_time_index is not set on entity days\n",
      "2018-04-17 10:28:48,124 featuretools.entityset - WARNING    Using training_window but last_time_index is not set on entity days\n",
      "2018-04-17 10:28:48,182 featuretools.entityset - WARNING    Using training_window but last_time_index is not set on entity days\n",
      "2018-04-17 10:28:48,246 featuretools.entityset - WARNING    Using training_window but last_time_index is not set on entity days\n",
      "2018-04-17 10:28:48,306 featuretools.entityset - WARNING    Using training_window but last_time_index is not set on entity days\n",
      "2018-04-17 10:28:48,358 featuretools.entityset - WARNING    Using training_window but last_time_index is not set on entity days\n",
      "2018-04-17 10:28:48,425 featuretools.entityset - WARNING    Using training_window but last_time_index is not set on entity days\n",
      "2018-04-17 10:28:48,489 featuretools.entityset - WARNING    Using training_window but last_time_index is not set on entity days\n",
      "2018-04-17 10:28:48,541 featuretools.entityset - WARNING    Using training_window but last_time_index is not set on entity days\n",
      "2018-04-17 10:28:48,609 featuretools.entityset - WARNING    Using training_window but last_time_index is not set on entity days\n",
      "2018-04-17 10:28:48,672 featuretools.entityset - WARNING    Using training_window but last_time_index is not set on entity days\n",
      "2018-04-17 10:28:48,725 featuretools.entityset - WARNING    Using training_window but last_time_index is not set on entity days\n",
      "2018-04-17 10:28:48,787 featuretools.entityset - WARNING    Using training_window but last_time_index is not set on entity days\n",
      "2018-04-17 10:28:48,848 featuretools.entityset - WARNING    Using training_window but last_time_index is not set on entity days\n",
      "2018-04-17 10:28:48,910 featuretools.entityset - WARNING    Using training_window but last_time_index is not set on entity days\n",
      "2018-04-17 10:28:48,968 featuretools.entityset - WARNING    Using training_window but last_time_index is not set on entity days\n",
      "2018-04-17 10:28:49,029 featuretools.entityset - WARNING    Using training_window but last_time_index is not set on entity days\n",
      "2018-04-17 10:28:49,088 featuretools.entityset - WARNING    Using training_window but last_time_index is not set on entity days\n",
      "2018-04-17 10:28:49,149 featuretools.entityset - WARNING    Using training_window but last_time_index is not set on entity days\n",
      "2018-04-17 10:28:49,211 featuretools.entityset - WARNING    Using training_window but last_time_index is not set on entity days\n",
      "2018-04-17 10:28:49,272 featuretools.entityset - WARNING    Using training_window but last_time_index is not set on entity days\n",
      "2018-04-17 10:28:49,331 featuretools.entityset - WARNING    Using training_window but last_time_index is not set on entity days\n",
      "2018-04-17 10:28:49,396 featuretools.entityset - WARNING    Using training_window but last_time_index is not set on entity days\n",
      "2018-04-17 10:28:49,457 featuretools.entityset - WARNING    Using training_window but last_time_index is not set on entity days\n",
      "2018-04-17 10:28:49,517 featuretools.entityset - WARNING    Using training_window but last_time_index is not set on entity days\n",
      "2018-04-17 10:28:49,575 featuretools.entityset - WARNING    Using training_window but last_time_index is not set on entity days\n",
      "2018-04-17 10:28:49,635 featuretools.entityset - WARNING    Using training_window but last_time_index is not set on entity days\n",
      "2018-04-17 10:28:49,696 featuretools.entityset - WARNING    Using training_window but last_time_index is not set on entity days\n",
      "2018-04-17 10:28:49,755 featuretools.entityset - WARNING    Using training_window but last_time_index is not set on entity days\n",
      "2018-04-17 10:28:49,816 featuretools.entityset - WARNING    Using training_window but last_time_index is not set on entity days\n",
      "2018-04-17 10:28:49,877 featuretools.entityset - WARNING    Using training_window but last_time_index is not set on entity days\n",
      "2018-04-17 10:28:49,938 featuretools.entityset - WARNING    Using training_window but last_time_index is not set on entity days\n",
      "2018-04-17 10:28:49,997 featuretools.entityset - WARNING    Using training_window but last_time_index is not set on entity days\n",
      "2018-04-17 10:28:50,059 featuretools.entityset - WARNING    Using training_window but last_time_index is not set on entity days\n",
      "2018-04-17 10:28:50,122 featuretools.entityset - WARNING    Using training_window but last_time_index is not set on entity days\n",
      "2018-04-17 10:28:50,174 featuretools.entityset - WARNING    Using training_window but last_time_index is not set on entity days\n",
      "2018-04-17 10:28:50,238 featuretools.entityset - WARNING    Using training_window but last_time_index is not set on entity days\n",
      "2018-04-17 10:28:50,299 featuretools.entityset - WARNING    Using training_window but last_time_index is not set on entity days\n",
      "2018-04-17 10:28:50,360 featuretools.entityset - WARNING    Using training_window but last_time_index is not set on entity days\n",
      "2018-04-17 10:28:50,422 featuretools.entityset - WARNING    Using training_window but last_time_index is not set on entity days\n",
      "2018-04-17 10:28:50,483 featuretools.entityset - WARNING    Using training_window but last_time_index is not set on entity days\n",
      "2018-04-17 10:28:50,544 featuretools.entityset - WARNING    Using training_window but last_time_index is not set on entity days\n",
      "2018-04-17 10:28:50,605 featuretools.entityset - WARNING    Using training_window but last_time_index is not set on entity days\n",
      "2018-04-17 10:28:50,662 featuretools.entityset - WARNING    Using training_window but last_time_index is not set on entity days\n",
      "2018-04-17 10:28:50,726 featuretools.entityset - WARNING    Using training_window but last_time_index is not set on entity days\n",
      "2018-04-17 10:28:50,784 featuretools.entityset - WARNING    Using training_window but last_time_index is not set on entity days\n",
      "2018-04-17 10:28:50,846 featuretools.entityset - WARNING    Using training_window but last_time_index is not set on entity days\n",
      "2018-04-17 10:28:50,908 featuretools.entityset - WARNING    Using training_window but last_time_index is not set on entity days\n",
      "2018-04-17 10:28:50,978 featuretools.entityset - WARNING    Using training_window but last_time_index is not set on entity days\n",
      "2018-04-17 10:28:51,034 featuretools.entityset - WARNING    Using training_window but last_time_index is not set on entity days\n",
      "2018-04-17 10:28:51,093 featuretools.entityset - WARNING    Using training_window but last_time_index is not set on entity days\n",
      "2018-04-17 10:28:51,155 featuretools.entityset - WARNING    Using training_window but last_time_index is not set on entity days\n",
      "2018-04-17 10:28:51,214 featuretools.entityset - WARNING    Using training_window but last_time_index is not set on entity days\n",
      "2018-04-17 10:28:51,273 featuretools.entityset - WARNING    Using training_window but last_time_index is not set on entity days\n",
      "2018-04-17 10:28:51,331 featuretools.entityset - WARNING    Using training_window but last_time_index is not set on entity days\n",
      "2018-04-17 10:28:51,393 featuretools.entityset - WARNING    Using training_window but last_time_index is not set on entity days\n",
      "2018-04-17 10:28:51,453 featuretools.entityset - WARNING    Using training_window but last_time_index is not set on entity days\n",
      "2018-04-17 10:28:51,511 featuretools.entityset - WARNING    Using training_window but last_time_index is not set on entity days\n",
      "2018-04-17 10:28:51,572 featuretools.entityset - WARNING    Using training_window but last_time_index is not set on entity days\n",
      "2018-04-17 10:28:51,636 featuretools.entityset - WARNING    Using training_window but last_time_index is not set on entity days\n",
      "2018-04-17 10:28:51,693 featuretools.entityset - WARNING    Using training_window but last_time_index is not set on entity days\n",
      "2018-04-17 10:28:51,757 featuretools.entityset - WARNING    Using training_window but last_time_index is not set on entity days\n",
      "2018-04-17 10:28:51,819 featuretools.entityset - WARNING    Using training_window but last_time_index is not set on entity days\n"
     ]
    },
    {
     "name": "stdout",
     "output_type": "stream",
     "text": [
      "2018-04-17 10:28:51,879 featuretools.entityset - WARNING    Using training_window but last_time_index is not set on entity days\n",
      "2018-04-17 10:28:51,939 featuretools.entityset - WARNING    Using training_window but last_time_index is not set on entity days\n",
      "2018-04-17 10:28:51,999 featuretools.entityset - WARNING    Using training_window but last_time_index is not set on entity days\n",
      "2018-04-17 10:28:52,054 featuretools.entityset - WARNING    Using training_window but last_time_index is not set on entity days\n",
      "2018-04-17 10:28:52,116 featuretools.entityset - WARNING    Using training_window but last_time_index is not set on entity days\n",
      "2018-04-17 10:28:52,178 featuretools.entityset - WARNING    Using training_window but last_time_index is not set on entity days\n",
      "2018-04-17 10:28:52,241 featuretools.entityset - WARNING    Using training_window but last_time_index is not set on entity days\n",
      "2018-04-17 10:28:52,303 featuretools.entityset - WARNING    Using training_window but last_time_index is not set on entity days\n",
      "2018-04-17 10:28:52,363 featuretools.entityset - WARNING    Using training_window but last_time_index is not set on entity days\n",
      "2018-04-17 10:28:52,422 featuretools.entityset - WARNING    Using training_window but last_time_index is not set on entity days\n",
      "2018-04-17 10:28:52,483 featuretools.entityset - WARNING    Using training_window but last_time_index is not set on entity days\n",
      "2018-04-17 10:28:52,544 featuretools.entityset - WARNING    Using training_window but last_time_index is not set on entity days\n",
      "2018-04-17 10:28:52,603 featuretools.entityset - WARNING    Using training_window but last_time_index is not set on entity days\n"
     ]
    }
   ],
   "source": [
    "feature_matrix, feature_defs = ft.dfs(entityset=es,\n",
    "                                      target_entity=\"days\",\n",
    "                                      cutoff_time=cutoff,\n",
    "                                      training_window=\"1 hour\",\n",
    "                                     max_depth=1)\n",
    "                                     #cutoff_time"
   ]
  },
  {
   "cell_type": "markdown",
   "metadata": {},
   "source": [
    "feature_matrix, feature_defs = ft.dfs(entityset=es,target_entity=\"days\",cutoff_time=cutoff) #cutoff_time"
   ]
  },
  {
   "cell_type": "code",
   "execution_count": 161,
   "metadata": {},
   "outputs": [
    {
     "data": {
      "text/plain": [
       "[<Feature: flag_sd>,\n",
       " <Feature: COUNT(attendances)>,\n",
       " <Feature: NUM_UNIQUE(attendances.hosp_patid)>,\n",
       " <Feature: NUM_UNIQUE(attendances.arrive_mode)>,\n",
       " <Feature: MODE(attendances.hosp_patid)>,\n",
       " <Feature: MODE(attendances.arrive_mode)>]"
      ]
     },
     "execution_count": 161,
     "metadata": {},
     "output_type": "execute_result"
    }
   ],
   "source": [
    "feature_defs"
   ]
  },
  {
   "cell_type": "code",
   "execution_count": 152,
   "metadata": {},
   "outputs": [
    {
     "data": {
      "text/plain": [
       "[<Feature: flag_sd>,\n",
       " <Feature: COUNT(attendances)>,\n",
       " <Feature: NUM_UNIQUE(attendances.hosp_patid)>,\n",
       " <Feature: NUM_UNIQUE(attendances.arrive_mode)>,\n",
       " <Feature: MODE(attendances.hosp_patid)>,\n",
       " <Feature: MODE(attendances.arrive_mode)>]"
      ]
     },
     "execution_count": 152,
     "metadata": {},
     "output_type": "execute_result"
    }
   ],
   "source": [
    "feature_defs"
   ]
  },
  {
   "cell_type": "code",
   "execution_count": 162,
   "metadata": {},
   "outputs": [
    {
     "data": {
      "text/html": [
       "<div>\n",
       "<style scoped>\n",
       "    .dataframe tbody tr th:only-of-type {\n",
       "        vertical-align: middle;\n",
       "    }\n",
       "\n",
       "    .dataframe tbody tr th {\n",
       "        vertical-align: top;\n",
       "    }\n",
       "\n",
       "    .dataframe thead th {\n",
       "        text-align: right;\n",
       "    }\n",
       "</style>\n",
       "<table border=\"1\" class=\"dataframe\">\n",
       "  <thead>\n",
       "    <tr style=\"text-align: right;\">\n",
       "      <th></th>\n",
       "      <th>flag_sd</th>\n",
       "      <th>COUNT(attendances)</th>\n",
       "      <th>NUM_UNIQUE(attendances.hosp_patid)</th>\n",
       "      <th>NUM_UNIQUE(attendances.arrive_mode)</th>\n",
       "      <th>MODE(attendances.hosp_patid)</th>\n",
       "      <th>MODE(attendances.arrive_mode)</th>\n",
       "    </tr>\n",
       "    <tr>\n",
       "      <th>arrive_date</th>\n",
       "      <th></th>\n",
       "      <th></th>\n",
       "      <th></th>\n",
       "      <th></th>\n",
       "      <th></th>\n",
       "      <th></th>\n",
       "    </tr>\n",
       "  </thead>\n",
       "  <tbody>\n",
       "    <tr>\n",
       "      <th>2017-01-02</th>\n",
       "      <td>NaN</td>\n",
       "      <td>0</td>\n",
       "      <td>NaN</td>\n",
       "      <td>NaN</td>\n",
       "      <td>NaN</td>\n",
       "      <td>NaN</td>\n",
       "    </tr>\n",
       "    <tr>\n",
       "      <th>2017-01-03</th>\n",
       "      <td>NaN</td>\n",
       "      <td>0</td>\n",
       "      <td>NaN</td>\n",
       "      <td>NaN</td>\n",
       "      <td>NaN</td>\n",
       "      <td>NaN</td>\n",
       "    </tr>\n",
       "    <tr>\n",
       "      <th>2017-01-04</th>\n",
       "      <td>NaN</td>\n",
       "      <td>0</td>\n",
       "      <td>NaN</td>\n",
       "      <td>NaN</td>\n",
       "      <td>NaN</td>\n",
       "      <td>NaN</td>\n",
       "    </tr>\n",
       "    <tr>\n",
       "      <th>2017-01-05</th>\n",
       "      <td>NaN</td>\n",
       "      <td>0</td>\n",
       "      <td>NaN</td>\n",
       "      <td>NaN</td>\n",
       "      <td>NaN</td>\n",
       "      <td>NaN</td>\n",
       "    </tr>\n",
       "    <tr>\n",
       "      <th>2017-01-06</th>\n",
       "      <td>NaN</td>\n",
       "      <td>0</td>\n",
       "      <td>NaN</td>\n",
       "      <td>NaN</td>\n",
       "      <td>NaN</td>\n",
       "      <td>NaN</td>\n",
       "    </tr>\n",
       "  </tbody>\n",
       "</table>\n",
       "</div>"
      ],
      "text/plain": [
       "             flag_sd  COUNT(attendances)  NUM_UNIQUE(attendances.hosp_patid)  \\\n",
       "arrive_date                                                                    \n",
       "2017-01-02       NaN                   0                                 NaN   \n",
       "2017-01-03       NaN                   0                                 NaN   \n",
       "2017-01-04       NaN                   0                                 NaN   \n",
       "2017-01-05       NaN                   0                                 NaN   \n",
       "2017-01-06       NaN                   0                                 NaN   \n",
       "\n",
       "             NUM_UNIQUE(attendances.arrive_mode)  \\\n",
       "arrive_date                                        \n",
       "2017-01-02                                   NaN   \n",
       "2017-01-03                                   NaN   \n",
       "2017-01-04                                   NaN   \n",
       "2017-01-05                                   NaN   \n",
       "2017-01-06                                   NaN   \n",
       "\n",
       "             MODE(attendances.hosp_patid)  MODE(attendances.arrive_mode)  \n",
       "arrive_date                                                               \n",
       "2017-01-02                            NaN                            NaN  \n",
       "2017-01-03                            NaN                            NaN  \n",
       "2017-01-04                            NaN                            NaN  \n",
       "2017-01-05                            NaN                            NaN  \n",
       "2017-01-06                            NaN                            NaN  "
      ]
     },
     "execution_count": 162,
     "metadata": {},
     "output_type": "execute_result"
    }
   ],
   "source": [
    "feature_matrix.head(5)"
   ]
  },
  {
   "cell_type": "code",
   "execution_count": 153,
   "metadata": {},
   "outputs": [
    {
     "data": {
      "text/html": [
       "<div>\n",
       "<style scoped>\n",
       "    .dataframe tbody tr th:only-of-type {\n",
       "        vertical-align: middle;\n",
       "    }\n",
       "\n",
       "    .dataframe tbody tr th {\n",
       "        vertical-align: top;\n",
       "    }\n",
       "\n",
       "    .dataframe thead th {\n",
       "        text-align: right;\n",
       "    }\n",
       "</style>\n",
       "<table border=\"1\" class=\"dataframe\">\n",
       "  <thead>\n",
       "    <tr style=\"text-align: right;\">\n",
       "      <th></th>\n",
       "      <th>flag_sd</th>\n",
       "      <th>COUNT(attendances)</th>\n",
       "      <th>NUM_UNIQUE(attendances.hosp_patid)</th>\n",
       "      <th>NUM_UNIQUE(attendances.arrive_mode)</th>\n",
       "      <th>MODE(attendances.hosp_patid)</th>\n",
       "      <th>MODE(attendances.arrive_mode)</th>\n",
       "    </tr>\n",
       "    <tr>\n",
       "      <th>arrive_date</th>\n",
       "      <th></th>\n",
       "      <th></th>\n",
       "      <th></th>\n",
       "      <th></th>\n",
       "      <th></th>\n",
       "      <th></th>\n",
       "    </tr>\n",
       "  </thead>\n",
       "  <tbody>\n",
       "    <tr>\n",
       "      <th>2017-01-02</th>\n",
       "      <td>1</td>\n",
       "      <td>34</td>\n",
       "      <td>34</td>\n",
       "      <td>2.0</td>\n",
       "      <td>106989</td>\n",
       "      <td>1.0</td>\n",
       "    </tr>\n",
       "    <tr>\n",
       "      <th>2017-01-03</th>\n",
       "      <td>1</td>\n",
       "      <td>36</td>\n",
       "      <td>36</td>\n",
       "      <td>2.0</td>\n",
       "      <td>6322</td>\n",
       "      <td>2.0</td>\n",
       "    </tr>\n",
       "    <tr>\n",
       "      <th>2017-01-04</th>\n",
       "      <td>1</td>\n",
       "      <td>39</td>\n",
       "      <td>39</td>\n",
       "      <td>2.0</td>\n",
       "      <td>4681</td>\n",
       "      <td>2.0</td>\n",
       "    </tr>\n",
       "    <tr>\n",
       "      <th>2017-01-05</th>\n",
       "      <td>0</td>\n",
       "      <td>36</td>\n",
       "      <td>36</td>\n",
       "      <td>2.0</td>\n",
       "      <td>21931</td>\n",
       "      <td>1.0</td>\n",
       "    </tr>\n",
       "    <tr>\n",
       "      <th>2017-01-06</th>\n",
       "      <td>0</td>\n",
       "      <td>28</td>\n",
       "      <td>28</td>\n",
       "      <td>2.0</td>\n",
       "      <td>8589</td>\n",
       "      <td>1.0</td>\n",
       "    </tr>\n",
       "    <tr>\n",
       "      <th>2017-01-07</th>\n",
       "      <td>0</td>\n",
       "      <td>43</td>\n",
       "      <td>43</td>\n",
       "      <td>2.0</td>\n",
       "      <td>9925</td>\n",
       "      <td>1.0</td>\n",
       "    </tr>\n",
       "    <tr>\n",
       "      <th>2017-01-08</th>\n",
       "      <td>0</td>\n",
       "      <td>38</td>\n",
       "      <td>38</td>\n",
       "      <td>2.0</td>\n",
       "      <td>8252</td>\n",
       "      <td>1.0</td>\n",
       "    </tr>\n",
       "    <tr>\n",
       "      <th>2017-01-09</th>\n",
       "      <td>0</td>\n",
       "      <td>39</td>\n",
       "      <td>39</td>\n",
       "      <td>2.0</td>\n",
       "      <td>23849</td>\n",
       "      <td>1.0</td>\n",
       "    </tr>\n",
       "    <tr>\n",
       "      <th>2017-01-10</th>\n",
       "      <td>0</td>\n",
       "      <td>26</td>\n",
       "      <td>26</td>\n",
       "      <td>2.0</td>\n",
       "      <td>5762</td>\n",
       "      <td>1.0</td>\n",
       "    </tr>\n",
       "    <tr>\n",
       "      <th>2017-01-11</th>\n",
       "      <td>0</td>\n",
       "      <td>28</td>\n",
       "      <td>28</td>\n",
       "      <td>2.0</td>\n",
       "      <td>97688</td>\n",
       "      <td>1.0</td>\n",
       "    </tr>\n",
       "    <tr>\n",
       "      <th>2017-01-12</th>\n",
       "      <td>0</td>\n",
       "      <td>31</td>\n",
       "      <td>31</td>\n",
       "      <td>2.0</td>\n",
       "      <td>3523</td>\n",
       "      <td>1.0</td>\n",
       "    </tr>\n",
       "    <tr>\n",
       "      <th>2017-01-13</th>\n",
       "      <td>0</td>\n",
       "      <td>16</td>\n",
       "      <td>16</td>\n",
       "      <td>2.0</td>\n",
       "      <td>12107</td>\n",
       "      <td>1.0</td>\n",
       "    </tr>\n",
       "    <tr>\n",
       "      <th>2017-01-14</th>\n",
       "      <td>0</td>\n",
       "      <td>34</td>\n",
       "      <td>34</td>\n",
       "      <td>2.0</td>\n",
       "      <td>19124</td>\n",
       "      <td>2.0</td>\n",
       "    </tr>\n",
       "    <tr>\n",
       "      <th>2017-01-15</th>\n",
       "      <td>0</td>\n",
       "      <td>45</td>\n",
       "      <td>45</td>\n",
       "      <td>2.0</td>\n",
       "      <td>32607</td>\n",
       "      <td>1.0</td>\n",
       "    </tr>\n",
       "    <tr>\n",
       "      <th>2017-01-16</th>\n",
       "      <td>0</td>\n",
       "      <td>27</td>\n",
       "      <td>27</td>\n",
       "      <td>2.0</td>\n",
       "      <td>41659</td>\n",
       "      <td>2.0</td>\n",
       "    </tr>\n",
       "    <tr>\n",
       "      <th>2017-01-17</th>\n",
       "      <td>0</td>\n",
       "      <td>31</td>\n",
       "      <td>31</td>\n",
       "      <td>2.0</td>\n",
       "      <td>42586</td>\n",
       "      <td>2.0</td>\n",
       "    </tr>\n",
       "    <tr>\n",
       "      <th>2017-01-18</th>\n",
       "      <td>0</td>\n",
       "      <td>26</td>\n",
       "      <td>26</td>\n",
       "      <td>2.0</td>\n",
       "      <td>128540</td>\n",
       "      <td>1.0</td>\n",
       "    </tr>\n",
       "    <tr>\n",
       "      <th>2017-01-19</th>\n",
       "      <td>0</td>\n",
       "      <td>25</td>\n",
       "      <td>25</td>\n",
       "      <td>2.0</td>\n",
       "      <td>8690</td>\n",
       "      <td>1.0</td>\n",
       "    </tr>\n",
       "    <tr>\n",
       "      <th>2017-01-20</th>\n",
       "      <td>0</td>\n",
       "      <td>24</td>\n",
       "      <td>24</td>\n",
       "      <td>2.0</td>\n",
       "      <td>65161</td>\n",
       "      <td>1.0</td>\n",
       "    </tr>\n",
       "    <tr>\n",
       "      <th>2017-01-21</th>\n",
       "      <td>0</td>\n",
       "      <td>31</td>\n",
       "      <td>31</td>\n",
       "      <td>2.0</td>\n",
       "      <td>124284</td>\n",
       "      <td>1.0</td>\n",
       "    </tr>\n",
       "  </tbody>\n",
       "</table>\n",
       "</div>"
      ],
      "text/plain": [
       "             flag_sd  COUNT(attendances)  NUM_UNIQUE(attendances.hosp_patid)  \\\n",
       "arrive_date                                                                    \n",
       "2017-01-02         1                  34                                  34   \n",
       "2017-01-03         1                  36                                  36   \n",
       "2017-01-04         1                  39                                  39   \n",
       "2017-01-05         0                  36                                  36   \n",
       "2017-01-06         0                  28                                  28   \n",
       "2017-01-07         0                  43                                  43   \n",
       "2017-01-08         0                  38                                  38   \n",
       "2017-01-09         0                  39                                  39   \n",
       "2017-01-10         0                  26                                  26   \n",
       "2017-01-11         0                  28                                  28   \n",
       "2017-01-12         0                  31                                  31   \n",
       "2017-01-13         0                  16                                  16   \n",
       "2017-01-14         0                  34                                  34   \n",
       "2017-01-15         0                  45                                  45   \n",
       "2017-01-16         0                  27                                  27   \n",
       "2017-01-17         0                  31                                  31   \n",
       "2017-01-18         0                  26                                  26   \n",
       "2017-01-19         0                  25                                  25   \n",
       "2017-01-20         0                  24                                  24   \n",
       "2017-01-21         0                  31                                  31   \n",
       "\n",
       "             NUM_UNIQUE(attendances.arrive_mode)  \\\n",
       "arrive_date                                        \n",
       "2017-01-02                                   2.0   \n",
       "2017-01-03                                   2.0   \n",
       "2017-01-04                                   2.0   \n",
       "2017-01-05                                   2.0   \n",
       "2017-01-06                                   2.0   \n",
       "2017-01-07                                   2.0   \n",
       "2017-01-08                                   2.0   \n",
       "2017-01-09                                   2.0   \n",
       "2017-01-10                                   2.0   \n",
       "2017-01-11                                   2.0   \n",
       "2017-01-12                                   2.0   \n",
       "2017-01-13                                   2.0   \n",
       "2017-01-14                                   2.0   \n",
       "2017-01-15                                   2.0   \n",
       "2017-01-16                                   2.0   \n",
       "2017-01-17                                   2.0   \n",
       "2017-01-18                                   2.0   \n",
       "2017-01-19                                   2.0   \n",
       "2017-01-20                                   2.0   \n",
       "2017-01-21                                   2.0   \n",
       "\n",
       "             MODE(attendances.hosp_patid)  MODE(attendances.arrive_mode)  \n",
       "arrive_date                                                               \n",
       "2017-01-02                         106989                            1.0  \n",
       "2017-01-03                           6322                            2.0  \n",
       "2017-01-04                           4681                            2.0  \n",
       "2017-01-05                          21931                            1.0  \n",
       "2017-01-06                           8589                            1.0  \n",
       "2017-01-07                           9925                            1.0  \n",
       "2017-01-08                           8252                            1.0  \n",
       "2017-01-09                          23849                            1.0  \n",
       "2017-01-10                           5762                            1.0  \n",
       "2017-01-11                          97688                            1.0  \n",
       "2017-01-12                           3523                            1.0  \n",
       "2017-01-13                          12107                            1.0  \n",
       "2017-01-14                          19124                            2.0  \n",
       "2017-01-15                          32607                            1.0  \n",
       "2017-01-16                          41659                            2.0  \n",
       "2017-01-17                          42586                            2.0  \n",
       "2017-01-18                         128540                            1.0  \n",
       "2017-01-19                           8690                            1.0  \n",
       "2017-01-20                          65161                            1.0  \n",
       "2017-01-21                         124284                            1.0  "
      ]
     },
     "execution_count": 153,
     "metadata": {},
     "output_type": "execute_result"
    }
   ],
   "source": [
    "feature_matrix.head(20)"
   ]
  },
  {
   "cell_type": "code",
   "execution_count": 150,
   "metadata": {},
   "outputs": [
    {
     "data": {
      "text/html": [
       "<div>\n",
       "<style scoped>\n",
       "    .dataframe tbody tr th:only-of-type {\n",
       "        vertical-align: middle;\n",
       "    }\n",
       "\n",
       "    .dataframe tbody tr th {\n",
       "        vertical-align: top;\n",
       "    }\n",
       "\n",
       "    .dataframe thead th {\n",
       "        text-align: right;\n",
       "    }\n",
       "</style>\n",
       "<table border=\"1\" class=\"dataframe\">\n",
       "  <thead>\n",
       "    <tr style=\"text-align: right;\">\n",
       "      <th></th>\n",
       "      <th>flag_sd</th>\n",
       "      <th>COUNT(attendances)</th>\n",
       "      <th>NUM_UNIQUE(attendances.hosp_patid)</th>\n",
       "      <th>NUM_UNIQUE(attendances.arrive_mode)</th>\n",
       "      <th>MODE(attendances.hosp_patid)</th>\n",
       "      <th>MODE(attendances.arrive_mode)</th>\n",
       "    </tr>\n",
       "    <tr>\n",
       "      <th>arrive_date</th>\n",
       "      <th></th>\n",
       "      <th></th>\n",
       "      <th></th>\n",
       "      <th></th>\n",
       "      <th></th>\n",
       "      <th></th>\n",
       "    </tr>\n",
       "  </thead>\n",
       "  <tbody>\n",
       "    <tr>\n",
       "      <th>2017-01-02</th>\n",
       "      <td>1</td>\n",
       "      <td>328</td>\n",
       "      <td>327</td>\n",
       "      <td>2.0</td>\n",
       "      <td>1492907</td>\n",
       "      <td>2.0</td>\n",
       "    </tr>\n",
       "    <tr>\n",
       "      <th>2017-01-03</th>\n",
       "      <td>1</td>\n",
       "      <td>329</td>\n",
       "      <td>327</td>\n",
       "      <td>2.0</td>\n",
       "      <td>1503203</td>\n",
       "      <td>2.0</td>\n",
       "    </tr>\n",
       "    <tr>\n",
       "      <th>2017-01-04</th>\n",
       "      <td>1</td>\n",
       "      <td>336</td>\n",
       "      <td>335</td>\n",
       "      <td>2.0</td>\n",
       "      <td>795374</td>\n",
       "      <td>2.0</td>\n",
       "    </tr>\n",
       "    <tr>\n",
       "      <th>2017-01-05</th>\n",
       "      <td>0</td>\n",
       "      <td>286</td>\n",
       "      <td>284</td>\n",
       "      <td>2.0</td>\n",
       "      <td>968442</td>\n",
       "      <td>2.0</td>\n",
       "    </tr>\n",
       "    <tr>\n",
       "      <th>2017-01-06</th>\n",
       "      <td>0</td>\n",
       "      <td>274</td>\n",
       "      <td>271</td>\n",
       "      <td>2.0</td>\n",
       "      <td>96379</td>\n",
       "      <td>2.0</td>\n",
       "    </tr>\n",
       "    <tr>\n",
       "      <th>2017-01-07</th>\n",
       "      <td>0</td>\n",
       "      <td>279</td>\n",
       "      <td>275</td>\n",
       "      <td>2.0</td>\n",
       "      <td>299948</td>\n",
       "      <td>2.0</td>\n",
       "    </tr>\n",
       "    <tr>\n",
       "      <th>2017-01-08</th>\n",
       "      <td>0</td>\n",
       "      <td>325</td>\n",
       "      <td>324</td>\n",
       "      <td>2.0</td>\n",
       "      <td>967544</td>\n",
       "      <td>2.0</td>\n",
       "    </tr>\n",
       "    <tr>\n",
       "      <th>2017-01-09</th>\n",
       "      <td>0</td>\n",
       "      <td>325</td>\n",
       "      <td>324</td>\n",
       "      <td>2.0</td>\n",
       "      <td>928310</td>\n",
       "      <td>2.0</td>\n",
       "    </tr>\n",
       "    <tr>\n",
       "      <th>2017-01-10</th>\n",
       "      <td>0</td>\n",
       "      <td>280</td>\n",
       "      <td>279</td>\n",
       "      <td>2.0</td>\n",
       "      <td>330326</td>\n",
       "      <td>2.0</td>\n",
       "    </tr>\n",
       "    <tr>\n",
       "      <th>2017-01-11</th>\n",
       "      <td>0</td>\n",
       "      <td>239</td>\n",
       "      <td>238</td>\n",
       "      <td>2.0</td>\n",
       "      <td>2991037</td>\n",
       "      <td>2.0</td>\n",
       "    </tr>\n",
       "    <tr>\n",
       "      <th>2017-01-12</th>\n",
       "      <td>0</td>\n",
       "      <td>247</td>\n",
       "      <td>243</td>\n",
       "      <td>2.0</td>\n",
       "      <td>27442</td>\n",
       "      <td>2.0</td>\n",
       "    </tr>\n",
       "    <tr>\n",
       "      <th>2017-01-13</th>\n",
       "      <td>0</td>\n",
       "      <td>248</td>\n",
       "      <td>248</td>\n",
       "      <td>2.0</td>\n",
       "      <td>3070</td>\n",
       "      <td>2.0</td>\n",
       "    </tr>\n",
       "    <tr>\n",
       "      <th>2017-01-14</th>\n",
       "      <td>0</td>\n",
       "      <td>263</td>\n",
       "      <td>261</td>\n",
       "      <td>2.0</td>\n",
       "      <td>1510460</td>\n",
       "      <td>2.0</td>\n",
       "    </tr>\n",
       "    <tr>\n",
       "      <th>2017-01-15</th>\n",
       "      <td>0</td>\n",
       "      <td>298</td>\n",
       "      <td>297</td>\n",
       "      <td>2.0</td>\n",
       "      <td>514975</td>\n",
       "      <td>2.0</td>\n",
       "    </tr>\n",
       "    <tr>\n",
       "      <th>2017-01-16</th>\n",
       "      <td>0</td>\n",
       "      <td>309</td>\n",
       "      <td>306</td>\n",
       "      <td>2.0</td>\n",
       "      <td>76909</td>\n",
       "      <td>2.0</td>\n",
       "    </tr>\n",
       "    <tr>\n",
       "      <th>2017-01-17</th>\n",
       "      <td>0</td>\n",
       "      <td>267</td>\n",
       "      <td>265</td>\n",
       "      <td>2.0</td>\n",
       "      <td>458734</td>\n",
       "      <td>2.0</td>\n",
       "    </tr>\n",
       "    <tr>\n",
       "      <th>2017-01-18</th>\n",
       "      <td>0</td>\n",
       "      <td>252</td>\n",
       "      <td>251</td>\n",
       "      <td>2.0</td>\n",
       "      <td>1381785</td>\n",
       "      <td>2.0</td>\n",
       "    </tr>\n",
       "    <tr>\n",
       "      <th>2017-01-19</th>\n",
       "      <td>0</td>\n",
       "      <td>245</td>\n",
       "      <td>244</td>\n",
       "      <td>2.0</td>\n",
       "      <td>559261</td>\n",
       "      <td>2.0</td>\n",
       "    </tr>\n",
       "    <tr>\n",
       "      <th>2017-01-20</th>\n",
       "      <td>0</td>\n",
       "      <td>240</td>\n",
       "      <td>240</td>\n",
       "      <td>2.0</td>\n",
       "      <td>13216</td>\n",
       "      <td>2.0</td>\n",
       "    </tr>\n",
       "    <tr>\n",
       "      <th>2017-01-21</th>\n",
       "      <td>0</td>\n",
       "      <td>256</td>\n",
       "      <td>255</td>\n",
       "      <td>2.0</td>\n",
       "      <td>447076</td>\n",
       "      <td>2.0</td>\n",
       "    </tr>\n",
       "  </tbody>\n",
       "</table>\n",
       "</div>"
      ],
      "text/plain": [
       "             flag_sd  COUNT(attendances)  NUM_UNIQUE(attendances.hosp_patid)  \\\n",
       "arrive_date                                                                    \n",
       "2017-01-02         1                 328                                 327   \n",
       "2017-01-03         1                 329                                 327   \n",
       "2017-01-04         1                 336                                 335   \n",
       "2017-01-05         0                 286                                 284   \n",
       "2017-01-06         0                 274                                 271   \n",
       "2017-01-07         0                 279                                 275   \n",
       "2017-01-08         0                 325                                 324   \n",
       "2017-01-09         0                 325                                 324   \n",
       "2017-01-10         0                 280                                 279   \n",
       "2017-01-11         0                 239                                 238   \n",
       "2017-01-12         0                 247                                 243   \n",
       "2017-01-13         0                 248                                 248   \n",
       "2017-01-14         0                 263                                 261   \n",
       "2017-01-15         0                 298                                 297   \n",
       "2017-01-16         0                 309                                 306   \n",
       "2017-01-17         0                 267                                 265   \n",
       "2017-01-18         0                 252                                 251   \n",
       "2017-01-19         0                 245                                 244   \n",
       "2017-01-20         0                 240                                 240   \n",
       "2017-01-21         0                 256                                 255   \n",
       "\n",
       "             NUM_UNIQUE(attendances.arrive_mode)  \\\n",
       "arrive_date                                        \n",
       "2017-01-02                                   2.0   \n",
       "2017-01-03                                   2.0   \n",
       "2017-01-04                                   2.0   \n",
       "2017-01-05                                   2.0   \n",
       "2017-01-06                                   2.0   \n",
       "2017-01-07                                   2.0   \n",
       "2017-01-08                                   2.0   \n",
       "2017-01-09                                   2.0   \n",
       "2017-01-10                                   2.0   \n",
       "2017-01-11                                   2.0   \n",
       "2017-01-12                                   2.0   \n",
       "2017-01-13                                   2.0   \n",
       "2017-01-14                                   2.0   \n",
       "2017-01-15                                   2.0   \n",
       "2017-01-16                                   2.0   \n",
       "2017-01-17                                   2.0   \n",
       "2017-01-18                                   2.0   \n",
       "2017-01-19                                   2.0   \n",
       "2017-01-20                                   2.0   \n",
       "2017-01-21                                   2.0   \n",
       "\n",
       "             MODE(attendances.hosp_patid)  MODE(attendances.arrive_mode)  \n",
       "arrive_date                                                               \n",
       "2017-01-02                        1492907                            2.0  \n",
       "2017-01-03                        1503203                            2.0  \n",
       "2017-01-04                         795374                            2.0  \n",
       "2017-01-05                         968442                            2.0  \n",
       "2017-01-06                          96379                            2.0  \n",
       "2017-01-07                         299948                            2.0  \n",
       "2017-01-08                         967544                            2.0  \n",
       "2017-01-09                         928310                            2.0  \n",
       "2017-01-10                         330326                            2.0  \n",
       "2017-01-11                        2991037                            2.0  \n",
       "2017-01-12                          27442                            2.0  \n",
       "2017-01-13                           3070                            2.0  \n",
       "2017-01-14                        1510460                            2.0  \n",
       "2017-01-15                         514975                            2.0  \n",
       "2017-01-16                          76909                            2.0  \n",
       "2017-01-17                         458734                            2.0  \n",
       "2017-01-18                        1381785                            2.0  \n",
       "2017-01-19                         559261                            2.0  \n",
       "2017-01-20                          13216                            2.0  \n",
       "2017-01-21                         447076                            2.0  "
      ]
     },
     "execution_count": 150,
     "metadata": {},
     "output_type": "execute_result"
    }
   ],
   "source": [
    "feature_matrix.head(20)"
   ]
  },
  {
   "cell_type": "code",
   "execution_count": 67,
   "metadata": {},
   "outputs": [
    {
     "data": {
      "text/plain": [
       "(403, 6)"
      ]
     },
     "execution_count": 67,
     "metadata": {},
     "output_type": "execute_result"
    }
   ],
   "source": [
    "feature_matrix.shape"
   ]
  },
  {
   "cell_type": "code",
   "execution_count": 69,
   "metadata": {},
   "outputs": [
    {
     "data": {
      "text/plain": [
       "flag_sd                                0\n",
       "COUNT(attendances)                     0\n",
       "NUM_UNIQUE(attendances.hosp_patid)     0\n",
       "NUM_UNIQUE(attendances.arrive_mode)    0\n",
       "MODE(attendances.hosp_patid)           0\n",
       "MODE(attendances.arrive_mode)          0\n",
       "dtype: int64"
      ]
     },
     "execution_count": 69,
     "metadata": {},
     "output_type": "execute_result"
    }
   ],
   "source": [
    "feature_matrix.isnull().sum()"
   ]
  },
  {
   "cell_type": "markdown",
   "metadata": {},
   "source": [
    "Encode fm"
   ]
  },
  {
   "cell_type": "markdown",
   "metadata": {},
   "source": [
    "feature_matrix_enc, features_enc = ft.encode_features(feature_matrix, feature_defs)"
   ]
  },
  {
   "cell_type": "markdown",
   "metadata": {},
   "source": [
    "# Select features"
   ]
  },
  {
   "cell_type": "code",
   "execution_count": null,
   "metadata": {},
   "outputs": [],
   "source": []
  },
  {
   "cell_type": "code",
   "execution_count": null,
   "metadata": {},
   "outputs": [],
   "source": []
  },
  {
   "cell_type": "markdown",
   "metadata": {},
   "source": [
    "# run test model"
   ]
  },
  {
   "cell_type": "markdown",
   "metadata": {},
   "source": [
    "test/train split"
   ]
  },
  {
   "cell_type": "code",
   "execution_count": 70,
   "metadata": {},
   "outputs": [],
   "source": [
    "def split_test_train(data,y_var,test_days):\n",
    "    \"\"\"\n",
    "    Function to take a df (containing y and x vars) and split into X and y; training and testing sets\n",
    "    NOTE: outputs are in df\n",
    "    \"\"\"\n",
    "    train = data[:-test_days]\n",
    "    test = data[-test_days:]\n",
    "    \n",
    "    \n",
    "    X_train = train\n",
    "    y_train = train.pop(y_var)\n",
    "    X_test = test\n",
    "    y_test = test.pop(y_var)\n",
    "    \n",
    "    return(X_train,y_train,X_test,y_test)"
   ]
  },
  {
   "cell_type": "code",
   "execution_count": 71,
   "metadata": {},
   "outputs": [],
   "source": [
    "(X_train,y_train,X_test,y_test) = split_test_train(feature_matrix,y_var='flag_sd',test_days=180)"
   ]
  },
  {
   "cell_type": "markdown",
   "metadata": {},
   "source": [
    "#### scale/encode features??"
   ]
  },
  {
   "cell_type": "code",
   "execution_count": 98,
   "metadata": {},
   "outputs": [
    {
     "data": {
      "text/html": [
       "<div>\n",
       "<style scoped>\n",
       "    .dataframe tbody tr th:only-of-type {\n",
       "        vertical-align: middle;\n",
       "    }\n",
       "\n",
       "    .dataframe tbody tr th {\n",
       "        vertical-align: top;\n",
       "    }\n",
       "\n",
       "    .dataframe thead th {\n",
       "        text-align: right;\n",
       "    }\n",
       "</style>\n",
       "<table border=\"1\" class=\"dataframe\">\n",
       "  <thead>\n",
       "    <tr style=\"text-align: right;\">\n",
       "      <th></th>\n",
       "      <th>COUNT(attendances)</th>\n",
       "      <th>NUM_UNIQUE(attendances.hosp_patid)</th>\n",
       "      <th>NUM_UNIQUE(attendances.arrive_mode)</th>\n",
       "      <th>MODE(attendances.hosp_patid)</th>\n",
       "      <th>MODE(attendances.arrive_mode)</th>\n",
       "    </tr>\n",
       "    <tr>\n",
       "      <th>arrive_date</th>\n",
       "      <th></th>\n",
       "      <th></th>\n",
       "      <th></th>\n",
       "      <th></th>\n",
       "      <th></th>\n",
       "    </tr>\n",
       "  </thead>\n",
       "  <tbody>\n",
       "    <tr>\n",
       "      <th>2017-01-02</th>\n",
       "      <td>328</td>\n",
       "      <td>327</td>\n",
       "      <td>2.0</td>\n",
       "      <td>1492907</td>\n",
       "      <td>2.0</td>\n",
       "    </tr>\n",
       "    <tr>\n",
       "      <th>2017-01-03</th>\n",
       "      <td>329</td>\n",
       "      <td>327</td>\n",
       "      <td>2.0</td>\n",
       "      <td>1503203</td>\n",
       "      <td>2.0</td>\n",
       "    </tr>\n",
       "    <tr>\n",
       "      <th>2017-01-04</th>\n",
       "      <td>336</td>\n",
       "      <td>335</td>\n",
       "      <td>2.0</td>\n",
       "      <td>795374</td>\n",
       "      <td>2.0</td>\n",
       "    </tr>\n",
       "    <tr>\n",
       "      <th>2017-01-05</th>\n",
       "      <td>286</td>\n",
       "      <td>284</td>\n",
       "      <td>2.0</td>\n",
       "      <td>968442</td>\n",
       "      <td>2.0</td>\n",
       "    </tr>\n",
       "    <tr>\n",
       "      <th>2017-01-06</th>\n",
       "      <td>274</td>\n",
       "      <td>271</td>\n",
       "      <td>2.0</td>\n",
       "      <td>96379</td>\n",
       "      <td>2.0</td>\n",
       "    </tr>\n",
       "  </tbody>\n",
       "</table>\n",
       "</div>"
      ],
      "text/plain": [
       "             COUNT(attendances)  NUM_UNIQUE(attendances.hosp_patid)  \\\n",
       "arrive_date                                                           \n",
       "2017-01-02                  328                                 327   \n",
       "2017-01-03                  329                                 327   \n",
       "2017-01-04                  336                                 335   \n",
       "2017-01-05                  286                                 284   \n",
       "2017-01-06                  274                                 271   \n",
       "\n",
       "             NUM_UNIQUE(attendances.arrive_mode)  \\\n",
       "arrive_date                                        \n",
       "2017-01-02                                   2.0   \n",
       "2017-01-03                                   2.0   \n",
       "2017-01-04                                   2.0   \n",
       "2017-01-05                                   2.0   \n",
       "2017-01-06                                   2.0   \n",
       "\n",
       "             MODE(attendances.hosp_patid)  MODE(attendances.arrive_mode)  \n",
       "arrive_date                                                               \n",
       "2017-01-02                        1492907                            2.0  \n",
       "2017-01-03                        1503203                            2.0  \n",
       "2017-01-04                         795374                            2.0  \n",
       "2017-01-05                         968442                            2.0  \n",
       "2017-01-06                          96379                            2.0  "
      ]
     },
     "execution_count": 98,
     "metadata": {},
     "output_type": "execute_result"
    }
   ],
   "source": [
    "X_train.head()"
   ]
  },
  {
   "cell_type": "markdown",
   "metadata": {},
   "source": [
    "columns_to_encode = ['month','day_of_the_week']\n",
    "columns_to_scale  = ['ed_atten-1','ed_atten-7','ed_atten','ed_atten-6','ed_atten-2','ed_atten-3','ed_atten-4','ed_atten-5',\n",
    "                     'ed_adm','pos_virus_perc_t7','pm10_ugm3_t3', 'sulphur_dioxide_ug_m3_t3','air_temp_ave_t7',\n",
    "                    'air_temp_max']\n",
    "columns_to_label = []\n",
    "columns_notchange = ['holiday','year_scaled']"
   ]
  },
  {
   "cell_type": "code",
   "execution_count": null,
   "metadata": {},
   "outputs": [],
   "source": [
    "columns_to_encode = ['month','day_of_the_week']\n",
    "columns_to_scale  = ['ed_atten-1','ed_atten-7','ed_atten','ed_atten-6','ed_atten-2','ed_atten-3','ed_atten-4','ed_atten-5',\n",
    "                     'ed_adm','pos_virus_perc_t7','pm10_ugm3_t3', 'sulphur_dioxide_ug_m3_t3','air_temp_ave_t7',\n",
    "                    'air_temp_max']\n",
    "columns_to_label = []\n",
    "columns_notchange = ['holiday','year_scaled']"
   ]
  },
  {
   "cell_type": "code",
   "execution_count": null,
   "metadata": {},
   "outputs": [],
   "source": []
  },
  {
   "cell_type": "markdown",
   "metadata": {},
   "source": [
    "### run model"
   ]
  },
  {
   "cell_type": "code",
   "execution_count": 72,
   "metadata": {},
   "outputs": [],
   "source": [
    "from sklearn.model_selection import cross_val_score\n",
    "from sklearn.linear_model import LogisticRegression\n",
    "log_reg = LogisticRegression()"
   ]
  },
  {
   "cell_type": "code",
   "execution_count": 73,
   "metadata": {},
   "outputs": [
    {
     "data": {
      "text/plain": [
       "LogisticRegression(C=1.0, class_weight=None, dual=False, fit_intercept=True,\n",
       "          intercept_scaling=1, max_iter=100, multi_class='ovr', n_jobs=1,\n",
       "          penalty='l2', random_state=None, solver='liblinear', tol=0.0001,\n",
       "          verbose=0, warm_start=False)"
      ]
     },
     "execution_count": 73,
     "metadata": {},
     "output_type": "execute_result"
    }
   ],
   "source": [
    "model = LogisticRegression()\n",
    "model.fit(X_train,y_train)"
   ]
  },
  {
   "cell_type": "code",
   "execution_count": 74,
   "metadata": {},
   "outputs": [],
   "source": [
    "pred = model.predict(X_test)"
   ]
  },
  {
   "cell_type": "markdown",
   "metadata": {},
   "source": [
    "#### alternate model"
   ]
  },
  {
   "cell_type": "code",
   "execution_count": 75,
   "metadata": {},
   "outputs": [],
   "source": [
    "from sklearn.svm import SVC"
   ]
  },
  {
   "cell_type": "code",
   "execution_count": null,
   "metadata": {},
   "outputs": [],
   "source": []
  },
  {
   "cell_type": "code",
   "execution_count": 81,
   "metadata": {},
   "outputs": [],
   "source": [
    "SVM = SVC()\n",
    "#SVM.fit(X_train,y_train)"
   ]
  },
  {
   "cell_type": "markdown",
   "metadata": {},
   "source": [
    "optimise model hyper params"
   ]
  },
  {
   "cell_type": "code",
   "execution_count": 82,
   "metadata": {},
   "outputs": [],
   "source": [
    "from sklearn.model_selection import GridSearchCV"
   ]
  },
  {
   "cell_type": "code",
   "execution_count": 83,
   "metadata": {},
   "outputs": [],
   "source": [
    "param_grid = [{'kernel':['linear','rbf']}]"
   ]
  },
  {
   "cell_type": "markdown",
   "metadata": {},
   "source": [
    "param_grid = [\n",
    "    {'kernel':['linear']}, #,'rbf','poly','sigmoid']},\n",
    "    #{'kernel':['linear'],'epsilon':[10],'C':[0.1,0.15,0.2,0.3,0.5,0.6,1,2,3,4,5]}\n",
    "    {'kernel':['linear'],'epsilon':[10],'C':[0.5]}\n",
    "]\n",
    "\n",
    "  #  {'kernel':['sigmoid'], 'gamma':[0.001,0.01,0.05,0.1,1,2],'epsilon':[0.1,1],'C':[0.2,0.3,0.5,0.6,1,2]},"
   ]
  },
  {
   "cell_type": "code",
   "execution_count": 84,
   "metadata": {},
   "outputs": [],
   "source": [
    "grid_search = GridSearchCV(SVM,param_grid, cv=3, scoring=\"f1\") #neg_mean_absolute_error neg_mean_squared_error"
   ]
  },
  {
   "cell_type": "code",
   "execution_count": 85,
   "metadata": {},
   "outputs": [
    {
     "name": "stderr",
     "output_type": "stream",
     "text": [
      "C:\\Anaconda3\\envs\\ml\\lib\\site-packages\\sklearn\\metrics\\classification.py:1135: UndefinedMetricWarning: F-score is ill-defined and being set to 0.0 due to no predicted samples.\n",
      "  'precision', 'predicted', average, warn_for)\n",
      "C:\\Anaconda3\\envs\\ml\\lib\\site-packages\\sklearn\\metrics\\classification.py:1135: UndefinedMetricWarning: F-score is ill-defined and being set to 0.0 due to no predicted samples.\n",
      "  'precision', 'predicted', average, warn_for)\n",
      "C:\\Anaconda3\\envs\\ml\\lib\\site-packages\\sklearn\\metrics\\classification.py:1135: UndefinedMetricWarning: F-score is ill-defined and being set to 0.0 due to no predicted samples.\n",
      "  'precision', 'predicted', average, warn_for)\n",
      "C:\\Anaconda3\\envs\\ml\\lib\\site-packages\\sklearn\\metrics\\classification.py:1135: UndefinedMetricWarning: F-score is ill-defined and being set to 0.0 due to no predicted samples.\n",
      "  'precision', 'predicted', average, warn_for)\n"
     ]
    },
    {
     "data": {
      "text/plain": [
       "GridSearchCV(cv=3, error_score='raise',\n",
       "       estimator=SVC(C=1.0, cache_size=200, class_weight=None, coef0=0.0,\n",
       "  decision_function_shape='ovr', degree=3, gamma='auto', kernel='rbf',\n",
       "  max_iter=-1, probability=False, random_state=None, shrinking=True,\n",
       "  tol=0.001, verbose=False),\n",
       "       fit_params=None, iid=True, n_jobs=1,\n",
       "       param_grid=[{'kernel': ['linear', 'rbf']}], pre_dispatch='2*n_jobs',\n",
       "       refit=True, return_train_score='warn', scoring='f1', verbose=0)"
      ]
     },
     "execution_count": 85,
     "metadata": {},
     "output_type": "execute_result"
    }
   ],
   "source": [
    "grid_search.fit(X_train,y_train)"
   ]
  },
  {
   "cell_type": "code",
   "execution_count": 86,
   "metadata": {},
   "outputs": [],
   "source": [
    "cvres = grid_search.cv_results_"
   ]
  },
  {
   "cell_type": "code",
   "execution_count": 87,
   "metadata": {},
   "outputs": [
    {
     "name": "stderr",
     "output_type": "stream",
     "text": [
      "C:\\Anaconda3\\envs\\ml\\lib\\site-packages\\sklearn\\utils\\deprecation.py:122: FutureWarning: You are accessing a training score ('mean_train_score'), which will not be available by default any more in 0.21. If you need training scores, please set return_train_score=True\n",
      "  warnings.warn(*warn_args, **warn_kwargs)\n",
      "C:\\Anaconda3\\envs\\ml\\lib\\site-packages\\sklearn\\utils\\deprecation.py:122: FutureWarning: You are accessing a training score ('split0_train_score'), which will not be available by default any more in 0.21. If you need training scores, please set return_train_score=True\n",
      "  warnings.warn(*warn_args, **warn_kwargs)\n",
      "C:\\Anaconda3\\envs\\ml\\lib\\site-packages\\sklearn\\utils\\deprecation.py:122: FutureWarning: You are accessing a training score ('split1_train_score'), which will not be available by default any more in 0.21. If you need training scores, please set return_train_score=True\n",
      "  warnings.warn(*warn_args, **warn_kwargs)\n",
      "C:\\Anaconda3\\envs\\ml\\lib\\site-packages\\sklearn\\utils\\deprecation.py:122: FutureWarning: You are accessing a training score ('split2_train_score'), which will not be available by default any more in 0.21. If you need training scores, please set return_train_score=True\n",
      "  warnings.warn(*warn_args, **warn_kwargs)\n",
      "C:\\Anaconda3\\envs\\ml\\lib\\site-packages\\sklearn\\utils\\deprecation.py:122: FutureWarning: You are accessing a training score ('std_train_score'), which will not be available by default any more in 0.21. If you need training scores, please set return_train_score=True\n",
      "  warnings.warn(*warn_args, **warn_kwargs)\n"
     ]
    },
    {
     "data": {
      "text/plain": [
       "{'mean_fit_time': array([  2.38361261e+01,   2.67346700e-03]),\n",
       " 'mean_score_time': array([ 0.00268706,  0.00334247]),\n",
       " 'mean_test_score': array([ 0.31437338,  0.        ]),\n",
       " 'mean_train_score': array([ 0.29348659,  1.        ]),\n",
       " 'param_kernel': masked_array(data = ['linear' 'rbf'],\n",
       "              mask = [False False],\n",
       "        fill_value = ?),\n",
       " 'params': [{'kernel': 'linear'}, {'kernel': 'rbf'}],\n",
       " 'rank_test_score': array([1, 2]),\n",
       " 'split0_test_score': array([ 0.,  0.]),\n",
       " 'split0_train_score': array([ 0.26666667,  1.        ]),\n",
       " 'split1_test_score': array([ 0.63157895,  0.        ]),\n",
       " 'split1_train_score': array([ 0.2,  1. ]),\n",
       " 'split2_test_score': array([ 0.31578947,  0.        ]),\n",
       " 'split2_train_score': array([ 0.4137931,  1.       ]),\n",
       " 'std_fit_time': array([  1.72814865e+01,   4.72606701e-04]),\n",
       " 'std_score_time': array([ 0.00096275,  0.00047266]),\n",
       " 'std_test_score': array([ 0.25812604,  0.        ]),\n",
       " 'std_train_score': array([ 0.08931724,  0.        ])}"
      ]
     },
     "execution_count": 87,
     "metadata": {},
     "output_type": "execute_result"
    }
   ],
   "source": [
    "cvres"
   ]
  },
  {
   "cell_type": "code",
   "execution_count": 88,
   "metadata": {},
   "outputs": [
    {
     "name": "stdout",
     "output_type": "stream",
     "text": [
      "nan {'kernel': 'linear'}\n",
      "-0.0 {'kernel': 'rbf'}\n"
     ]
    }
   ],
   "source": [
    "for mean_score, params in zip(cvres[\"mean_test_score\"],cvres[\"params\"]):\n",
    "    print(np.sqrt(-mean_score),params)\n",
    "final_model = grid_search.best_estimator_\n",
    "#final_model"
   ]
  },
  {
   "cell_type": "code",
   "execution_count": null,
   "metadata": {},
   "outputs": [],
   "source": [
    "y_pred = final_model.predict(X_trains)\n",
    "model_mse = mean_squared_error(y_train, y_pred)\n",
    "model_rmse = np.sqrt(model_mse)"
   ]
  },
  {
   "cell_type": "code",
   "execution_count": null,
   "metadata": {},
   "outputs": [],
   "source": []
  },
  {
   "cell_type": "markdown",
   "metadata": {},
   "source": [
    "### eval model"
   ]
  },
  {
   "cell_type": "code",
   "execution_count": 120,
   "metadata": {},
   "outputs": [],
   "source": [
    "y_train_pred = cross_val_predict(model, X_train,y_train,cv=5)"
   ]
  },
  {
   "cell_type": "code",
   "execution_count": 124,
   "metadata": {},
   "outputs": [],
   "source": [
    "from sklearn.metrics import confusion_matrix"
   ]
  },
  {
   "cell_type": "code",
   "execution_count": 128,
   "metadata": {},
   "outputs": [
    {
     "data": {
      "text/plain": [
       "array([[1525,   50],\n",
       "       [ 156,  107]], dtype=int64)"
      ]
     },
     "execution_count": 128,
     "metadata": {},
     "output_type": "execute_result"
    }
   ],
   "source": [
    "cm = confusion_matrix(y_train,y_train_pred)\n",
    "cm"
   ]
  },
  {
   "cell_type": "code",
   "execution_count": 127,
   "metadata": {},
   "outputs": [
    {
     "data": {
      "text/plain": [
       "Text(92.68,0.5,'true value')"
      ]
     },
     "execution_count": 127,
     "metadata": {},
     "output_type": "execute_result"
    },
    {
     "data": {
      "image/png": "[encoded data removed]",
      "text/plain": [
       "<matplotlib.figure.Figure at 0x295242be7b8>"
      ]
     },
     "metadata": {},
     "output_type": "display_data"
    }
   ],
   "source": [
    "sns.heatmap(cm,square=True,annot=True,cbar=False)\n",
    "plt.xlabel('predicted value')\n",
    "plt.ylabel('true value')"
   ]
  },
  {
   "cell_type": "code",
   "execution_count": 90,
   "metadata": {},
   "outputs": [],
   "source": [
    "from sklearn.model_selection import cross_val_predict"
   ]
  },
  {
   "cell_type": "code",
   "execution_count": 91,
   "metadata": {},
   "outputs": [],
   "source": [
    "y_scores = cross_val_predict(final_model,X_train,y_train, cv=5,method='decision_function')"
   ]
  },
  {
   "cell_type": "code",
   "execution_count": 92,
   "metadata": {},
   "outputs": [],
   "source": [
    "from sklearn.metrics import precision_recall_curve\n",
    "precisions, recalls, thresholds = precision_recall_curve(y_train,y_scores)"
   ]
  },
  {
   "cell_type": "code",
   "execution_count": 93,
   "metadata": {},
   "outputs": [
    {
     "data": {
      "image/png": "[encoded data removed]",
      "text/plain": [
       "<matplotlib.figure.Figure at 0x207f0d4de10>"
      ]
     },
     "metadata": {},
     "output_type": "display_data"
    }
   ],
   "source": [
    "def plot_precision_recall_curve(precisions,recalls,thresholds):\n",
    "    plt.plot(thresholds, precisions[:-1],'b--',label='precision')\n",
    "    plt.plot(thresholds,recalls[:-1],'g--',label='recall')\n",
    "    plt.xlabel(\"Threshold\")\n",
    "    plt.ylim([0,1])\n",
    "    \n",
    "plot_precision_recall_curve(precisions,recalls,thresholds)"
   ]
  },
  {
   "cell_type": "code",
   "execution_count": 137,
   "metadata": {},
   "outputs": [
    {
     "data": {
      "image/png": "[encoded data removed]",
      "text/plain": [
       "<matplotlib.figure.Figure at 0x2952371db70>"
      ]
     },
     "metadata": {},
     "output_type": "display_data"
    }
   ],
   "source": [
    "def plot_precision_recall_curve(precisions,recalls,thresholds):\n",
    "    plt.plot(thresholds, precisions[:-1],'b--',label='precision')\n",
    "    plt.plot(thresholds,recalls[:-1],'g--',label='recall')\n",
    "    plt.xlabel(\"Threshold\")\n",
    "    plt.ylim([0,1])\n",
    "    \n",
    "plot_precision_recall_curve(precisions,recalls,thresholds)"
   ]
  },
  {
   "cell_type": "code",
   "execution_count": 94,
   "metadata": {},
   "outputs": [],
   "source": [
    "from sklearn.metrics import roc_curve"
   ]
  },
  {
   "cell_type": "code",
   "execution_count": 95,
   "metadata": {},
   "outputs": [],
   "source": [
    "fpr, tpr, thresholds = roc_curve(y_train,y_scores)"
   ]
  },
  {
   "cell_type": "code",
   "execution_count": 96,
   "metadata": {},
   "outputs": [
    {
     "data": {
      "image/png": "[encoded data removed]",
      "text/plain": [
       "<matplotlib.figure.Figure at 0x207f21a0400>"
      ]
     },
     "metadata": {},
     "output_type": "display_data"
    }
   ],
   "source": [
    "def plot_roc_curve(fpr,tpr,label=None):\n",
    "    plt.plot(fpr,tpr,label=label)\n",
    "    plt.plot([0,1],[0,1],'k--')\n",
    "    plt.axis([0,1,0,1])\n",
    "    plt.xlabel('False +ve rate')\n",
    "    plt.ylabel('True +ve rate')\n",
    "    \n",
    "plot_roc_curve(fpr,tpr)"
   ]
  },
  {
   "cell_type": "code",
   "execution_count": 151,
   "metadata": {},
   "outputs": [
    {
     "data": {
      "image/png": "[encoded data removed]",
      "text/plain": [
       "<matplotlib.figure.Figure at 0x29522adf940>"
      ]
     },
     "metadata": {},
     "output_type": "display_data"
    }
   ],
   "source": [
    "def plot_roc_curve(fpr,tpr,label=None):\n",
    "    plt.plot(fpr,tpr,label=label)\n",
    "    plt.plot([0,1],[0,1],'k--')\n",
    "    plt.axis([0,1,0,1])\n",
    "    plt.xlabel('False +ve rate')\n",
    "    plt.ylabel('True +ve rate')\n",
    "    \n",
    "plot_roc_curve(fpr,tpr)"
   ]
  },
  {
   "cell_type": "code",
   "execution_count": null,
   "metadata": {},
   "outputs": [],
   "source": []
  },
  {
   "cell_type": "code",
   "execution_count": null,
   "metadata": {},
   "outputs": [],
   "source": []
  },
  {
   "cell_type": "code",
   "execution_count": null,
   "metadata": {},
   "outputs": [],
   "source": []
  },
  {
   "cell_type": "code",
   "execution_count": null,
   "metadata": {},
   "outputs": [],
   "source": []
  },
  {
   "cell_type": "code",
   "execution_count": 66,
   "metadata": {},
   "outputs": [],
   "source": [
    "from sklearn import metrics"
   ]
  },
  {
   "cell_type": "code",
   "execution_count": 67,
   "metadata": {},
   "outputs": [
    {
     "data": {
      "text/plain": [
       "0.94444444444444442"
      ]
     },
     "execution_count": 67,
     "metadata": {},
     "output_type": "execute_result"
    }
   ],
   "source": [
    "metrics.accuracy_score(y_test,pred)"
   ]
  },
  {
   "cell_type": "code",
   "execution_count": 68,
   "metadata": {},
   "outputs": [
    {
     "data": {
      "text/plain": [
       "0.83870967741935487"
      ]
     },
     "execution_count": 68,
     "metadata": {},
     "output_type": "execute_result"
    }
   ],
   "source": [
    "metrics.f1_score(y_test,pred)"
   ]
  },
  {
   "cell_type": "code",
   "execution_count": 69,
   "metadata": {},
   "outputs": [],
   "source": [
    "mat = metrics.confusion_matrix(y_test,pred)"
   ]
  },
  {
   "cell_type": "code",
   "execution_count": 70,
   "metadata": {},
   "outputs": [
    {
     "data": {
      "text/plain": [
       "Text(92.68,0.5,'true value')"
      ]
     },
     "execution_count": 70,
     "metadata": {},
     "output_type": "execute_result"
    },
    {
     "data": {
      "image/png": "[encoded data removed]",
      "text/plain": [
       "<matplotlib.figure.Figure at 0x2952cf94a90>"
      ]
     },
     "metadata": {},
     "output_type": "display_data"
    }
   ],
   "source": [
    "sns.heatmap(mat,square=True,annot=True,cbar=False)\n",
    "plt.xlabel('predicted value')\n",
    "plt.ylabel('true value')"
   ]
  },
  {
   "cell_type": "code",
   "execution_count": 71,
   "metadata": {},
   "outputs": [
    {
     "data": {
      "text/plain": [
       "0.21176470588235294"
      ]
     },
     "execution_count": 71,
     "metadata": {},
     "output_type": "execute_result"
    }
   ],
   "source": [
    "36/170"
   ]
  },
  {
   "cell_type": "code",
   "execution_count": 72,
   "metadata": {},
   "outputs": [],
   "source": [
    "scoring = 'f1'"
   ]
  },
  {
   "cell_type": "code",
   "execution_count": 73,
   "metadata": {},
   "outputs": [
    {
     "data": {
      "text/plain": [
       "array([ 0.85405405,  0.86486486,  0.85405405,  0.90217391,  0.86956522,\n",
       "        0.93442623,  0.93442623,  0.86885246,  0.91256831,  0.84699454])"
      ]
     },
     "execution_count": 73,
     "metadata": {},
     "output_type": "execute_result"
    }
   ],
   "source": [
    "cross_val_score(model,X_train,y_train,cv=10,scoring='accuracy')"
   ]
  },
  {
   "cell_type": "code",
   "execution_count": 74,
   "metadata": {},
   "outputs": [],
   "source": [
    "fpr , tpr, threshholds = metrics.roc_curve(y_test,pred)"
   ]
  },
  {
   "cell_type": "code",
   "execution_count": 75,
   "metadata": {},
   "outputs": [
    {
     "data": {
      "image/png": "[encoded data removed]",
      "text/plain": [
       "<matplotlib.figure.Figure at 0x2952dbf0b70>"
      ]
     },
     "metadata": {},
     "output_type": "display_data"
    }
   ],
   "source": [
    "def plot_roc_curve(fpr,tpr,label=None):\n",
    "    plt.plot(fpr,tpr,linewidth=2,label=label)\n",
    "    \n",
    "plot_roc_curve(fpr,tpr)"
   ]
  },
  {
   "cell_type": "code",
   "execution_count": null,
   "metadata": {},
   "outputs": [],
   "source": []
  },
  {
   "cell_type": "code",
   "execution_count": 76,
   "metadata": {},
   "outputs": [
    {
     "data": {
      "text/plain": [
       "LogisticRegression(C=1.0, class_weight=None, dual=False, fit_intercept=True,\n",
       "          intercept_scaling=1, max_iter=100, multi_class='ovr', n_jobs=1,\n",
       "          penalty='l2', random_state=None, solver='liblinear', tol=0.0001,\n",
       "          verbose=0, warm_start=False)"
      ]
     },
     "execution_count": 76,
     "metadata": {},
     "output_type": "execute_result"
    }
   ],
   "source": [
    "model"
   ]
  },
  {
   "cell_type": "code",
   "execution_count": null,
   "metadata": {},
   "outputs": [],
   "source": []
  },
  {
   "cell_type": "code",
   "execution_count": 77,
   "metadata": {},
   "outputs": [],
   "source": [
    "def sk_run_default_models_classifier(X_trains,y_train,scoring=\"f1\"):\n",
    "    \"\"\"\n",
    "    Function runs many sklearn models with default settings and outputs results to a df for quick sorting.\n",
    "    \n",
    "    Inputs: \n",
    "    X_train : training data features\n",
    "    y_train : training data labels\n",
    "    \n",
    "    scoring : takes values from: http://scikit-learn.org/stable/modules/model_evaluation.html\n",
    "    For regression:\n",
    "    ‘explained_variance’ ‘neg_mean_absolute_error’ ‘neg_mean_squared_error’‘neg_mean_squared_log_error’\n",
    "    ‘neg_median_absolute_error’\n",
    "    ‘r2’\n",
    "    \"\"\"\n",
    "    \n",
    "    import pandas as pd\n",
    "    #     from sklearn.model_selection import cross_val_score\n",
    "    #     from sklearn.linear_model import LinearRegression\n",
    "    #     lin_reg = LinearRegression()\n",
    "    #     from sklearn.linear_model import Lasso\n",
    "    #     lasso = Lasso()\n",
    "    #     from sklearn.linear_model import Ridge\n",
    "    #     ridge = Ridge()\n",
    "    #     from sklearn.ensemble import RandomForestRegressor\n",
    "    #     rforest = RandomForestRegressor()\n",
    "    #     from sklearn.svm import SVR\n",
    "    #     svm_rbf = SVR()\n",
    "    #     svm_linear = SVR(kernel='linear')\n",
    "    #     svm_poly = SVR(kernel='poly')\n",
    "    #     svm_sigmoid = SVR(kernel='sigmoid')\n",
    "    #     from sklearn.naive_bayes import GaussianNB\n",
    "    #     gnb = GaussianNB()\n",
    "    #     from sklearn.neural_network import MLPRegressor\n",
    "    #     ann = MLPRegressor()\n",
    "    from sklearn.model_selection import cross_val_score\n",
    "    from sklearn.linear_model import LogisticRegression\n",
    "    log_reg = LogisticRegression()\n",
    "    \n",
    "    #models = {'lin_reg':lin_reg, 'lasso':lasso , 'ridge':ridge ,'rforest':rforest ,\n",
    "    #          'svm_rbf':svm_rbf ,'svm_linear':svm_linear,'svm_poly':svm_poly,'svm_sigmoid':svm_sigmoid, 'gnb': gnb}\n",
    "    \n",
    "    models = {'log_reg':log_reg}\n",
    "    output = pd.DataFrame() # create empty results frame\n",
    "    \n",
    "    for model in models.keys():\n",
    "        print('\\n' , model)\n",
    "        scores = cross_val_score(models[model],X_trains,y_train, scoring=scoring,cv=10)\n",
    "        rmse_scores = np.sqrt(-scores)\n",
    "        output = output.append({'model':model ,'RMSE_mean': rmse_scores.mean(),\n",
    "                                'RMSE_std':rmse_scores.std() ,'RMSE_scores':rmse_scores},ignore_index=True)\n",
    "    # sort cols and order \n",
    "    output = output[['model','RMSE_mean','RMSE_std','RMSE_scores']].sort_values('RMSE_mean').reset_index(drop=True)\n",
    "    \n",
    "    \n",
    "    return(output)\n"
   ]
  },
  {
   "cell_type": "code",
   "execution_count": 78,
   "metadata": {},
   "outputs": [
    {
     "ename": "NameError",
     "evalue": "name 'sk_run_default_models_regression' is not defined",
     "output_type": "error",
     "traceback": [
      "\u001b[1;31m---------------------------------------------------------------------------\u001b[0m",
      "\u001b[1;31mNameError\u001b[0m                                 Traceback (most recent call last)",
      "\u001b[1;32m<ipython-input-78-cc367eeed5d7>\u001b[0m in \u001b[0;36m<module>\u001b[1;34m()\u001b[0m\n\u001b[1;32m----> 1\u001b[1;33m \u001b[0my\u001b[0m \u001b[1;33m=\u001b[0m \u001b[0msk_run_default_models_regression\u001b[0m\u001b[1;33m(\u001b[0m\u001b[0mX_train\u001b[0m\u001b[1;33m,\u001b[0m\u001b[0my_train\u001b[0m\u001b[1;33m)\u001b[0m\u001b[1;33m\u001b[0m\u001b[0m\n\u001b[0m\u001b[0;32m      2\u001b[0m \u001b[0my\u001b[0m\u001b[1;33m\u001b[0m\u001b[0m\n",
      "\u001b[1;31mNameError\u001b[0m: name 'sk_run_default_models_regression' is not defined"
     ]
    }
   ],
   "source": [
    "y = sk_run_default_models_regression(X_train,y_train)\n",
    "y"
   ]
  },
  {
   "cell_type": "code",
   "execution_count": null,
   "metadata": {},
   "outputs": [],
   "source": []
  },
  {
   "cell_type": "code",
   "execution_count": null,
   "metadata": {},
   "outputs": [],
   "source": [
    "scores = cross_val_score(models[model],X_trains,y_train, scoring=scoring,cv=10)"
   ]
  },
  {
   "cell_type": "code",
   "execution_count": null,
   "metadata": {},
   "outputs": [],
   "source": []
  },
  {
   "cell_type": "code",
   "execution_count": null,
   "metadata": {},
   "outputs": [],
   "source": []
  },
  {
   "cell_type": "code",
   "execution_count": null,
   "metadata": {},
   "outputs": [],
   "source": [
    "def sk_run_default_models_regression(X_trains,y_train,scoring=\"neg_mean_squared_error\"):\n",
    "    \"\"\"\n",
    "    Function runs many sklearn models with default settings and outputs results to a df for quick sorting.\n",
    "    \n",
    "    Inputs: \n",
    "    X_train : training data features\n",
    "    y_train : training data labels\n",
    "    \n",
    "    scoring : takes values from: http://scikit-learn.org/stable/modules/model_evaluation.html\n",
    "    For regression:\n",
    "    ‘explained_variance’ ‘neg_mean_absolute_error’ ‘neg_mean_squared_error’‘neg_mean_squared_log_error’\n",
    "    ‘neg_median_absolute_error’\n",
    "    ‘r2’\n",
    "    \"\"\"\n",
    "    \n",
    "    import pandas as pd\n",
    "    from sklearn.model_selection import cross_val_score\n",
    "    from sklearn.linear_model import LinearRegression\n",
    "    lin_reg = LinearRegression()\n",
    "    from sklearn.linear_model import Lasso\n",
    "    lasso = Lasso()\n",
    "    from sklearn.linear_model import Ridge\n",
    "    ridge = Ridge()\n",
    "    from sklearn.ensemble import RandomForestRegressor\n",
    "    rforest = RandomForestRegressor()\n",
    "    from sklearn.svm import SVR\n",
    "    svm_rbf = SVR()\n",
    "    svm_linear = SVR(kernel='linear')\n",
    "    svm_poly = SVR(kernel='poly')\n",
    "    svm_sigmoid = SVR(kernel='sigmoid')\n",
    "    from sklearn.naive_bayes import GaussianNB\n",
    "    gnb = GaussianNB()\n",
    "    from sklearn.neural_network import MLPRegressor\n",
    "    ann = MLPRegressor()\n",
    "    \n",
    "    models = {'lin_reg':lin_reg, 'lasso':lasso , 'ridge':ridge ,'rforest':rforest ,\n",
    "              'svm_rbf':svm_rbf ,'svm_linear':svm_linear,'svm_poly':svm_poly,'svm_sigmoid':svm_sigmoid, 'gnb': gnb}\n",
    "    output = pd.DataFrame() # create empty results frame\n",
    "    \n",
    "    for model in models.keys():\n",
    "        print('\\n' , model)\n",
    "        scores = cross_val_score(models[model],X_trains,y_train, scoring=scoring,cv=10)\n",
    "        rmse_scores = np.sqrt(-scores)\n",
    "        output = output.append({'model':model ,'RMSE_mean': rmse_scores.mean(),\n",
    "                                'RMSE_std':rmse_scores.std() ,'RMSE_scores':rmse_scores},ignore_index=True)\n",
    "    # sort cols and order \n",
    "    output = output[['model','RMSE_mean','RMSE_std','RMSE_scores']].sort_values('RMSE_mean').reset_index(drop=True)\n",
    "    \n",
    "    \n",
    "    return(output)\n"
   ]
  },
  {
   "cell_type": "code",
   "execution_count": null,
   "metadata": {},
   "outputs": [],
   "source": []
  },
  {
   "cell_type": "markdown",
   "metadata": {},
   "source": [
    "# Dev"
   ]
  },
  {
   "cell_type": "code",
   "execution_count": null,
   "metadata": {},
   "outputs": [],
   "source": [
    "break"
   ]
  },
  {
   "cell_type": "code",
   "execution_count": null,
   "metadata": {},
   "outputs": [],
   "source": [
    "atten_df.arrive_date.head()"
   ]
  },
  {
   "cell_type": "code",
   "execution_count": null,
   "metadata": {},
   "outputs": [],
   "source": [
    "entities = {\n",
    "    \"days\": (days_df, \"arrive_date\"),\n",
    "    \"attendances\": (atten_df, \"hosp_patid\",'arrive_date'),\n",
    "}\n",
    "\n",
    "relationships = [(\"days\", \"arrive_date\", \"attendances\", \"arrive_date\")]"
   ]
  },
  {
   "cell_type": "code",
   "execution_count": null,
   "metadata": {},
   "outputs": [],
   "source": [
    "trans_primitives = [Weekend]\n",
    "\n",
    "features = ft.dfs(entities=entities,\n",
    "                  relationships=relationships,\n",
    "                  target_entity=\"days\",\n",
    "                  trans_primitives=trans_primitives,\n",
    "                  agg_primitives=[],\n",
    "                  ignore_variables={},\n",
    "                  features_only=True)"
   ]
  },
  {
   "cell_type": "code",
   "execution_count": null,
   "metadata": {},
   "outputs": [],
   "source": [
    "features"
   ]
  },
  {
   "cell_type": "code",
   "execution_count": 104,
   "metadata": {},
   "outputs": [],
   "source": [
    "import featuretools as ft\n",
    "\n",
    "es1 = ft.demo.load_mock_customer(return_entityset=True)"
   ]
  },
  {
   "cell_type": "code",
   "execution_count": 33,
   "metadata": {},
   "outputs": [],
   "source": [
    "import featuretools as ft\n",
    "\n",
    "(cust, prod, sess, trans) = ft.demo.load_mock_customer()"
   ]
  },
  {
   "cell_type": "code",
   "execution_count": 34,
   "metadata": {},
   "outputs": [
    {
     "data": {
      "text/plain": [
       "'customers'"
      ]
     },
     "execution_count": 34,
     "metadata": {},
     "output_type": "execute_result"
    }
   ],
   "source": [
    "cust"
   ]
  },
  {
   "cell_type": "code",
   "execution_count": 105,
   "metadata": {},
   "outputs": [
    {
     "data": {
      "text/plain": [
       "Entityset: transactions\n",
       "  Entities:\n",
       "    transactions (shape = [500, 5])\n",
       "    products (shape = [5, 2])\n",
       "    sessions (shape = [35, 4])\n",
       "    customers (shape = [5, 3])\n",
       "  Relationships:\n",
       "    transactions.product_id -> products.product_id\n",
       "    transactions.session_id -> sessions.session_id\n",
       "    sessions.customer_id -> customers.customer_id"
      ]
     },
     "execution_count": 105,
     "metadata": {},
     "output_type": "execute_result"
    }
   ],
   "source": [
    "es1"
   ]
  },
  {
   "cell_type": "code",
   "execution_count": 106,
   "metadata": {},
   "outputs": [
    {
     "data": {
      "text/plain": [
       "Entity: customers\n",
       "  Variables:\n",
       "    join_date (dtype: datetime_time_index)\n",
       "    zip_code (dtype: categorical)\n",
       "    customer_id (dtype: index)\n",
       "  Shape:\n",
       "    (5, 3)"
      ]
     },
     "execution_count": 106,
     "metadata": {},
     "output_type": "execute_result"
    }
   ],
   "source": [
    "es1['customers']"
   ]
  },
  {
   "cell_type": "code",
   "execution_count": 107,
   "metadata": {},
   "outputs": [
    {
     "data": {
      "text/plain": [
       "Entity: products\n",
       "  Variables:\n",
       "    brand (dtype: categorical)\n",
       "    product_id (dtype: index)\n",
       "  Shape:\n",
       "    (5, 2)"
      ]
     },
     "execution_count": 107,
     "metadata": {},
     "output_type": "execute_result"
    }
   ],
   "source": [
    "es1['products']"
   ]
  },
  {
   "cell_type": "code",
   "execution_count": 108,
   "metadata": {},
   "outputs": [],
   "source": [
    "feature_matrix, feature_defs = ft.dfs(entityset=es1,\n",
    "                                     target_entity=\"customers\",\n",
    "                                     max_depth=2)"
   ]
  },
  {
   "cell_type": "code",
   "execution_count": 109,
   "metadata": {},
   "outputs": [
    {
     "data": {
      "text/html": [
       "<div>\n",
       "<style scoped>\n",
       "    .dataframe tbody tr th:only-of-type {\n",
       "        vertical-align: middle;\n",
       "    }\n",
       "\n",
       "    .dataframe tbody tr th {\n",
       "        vertical-align: top;\n",
       "    }\n",
       "\n",
       "    .dataframe thead th {\n",
       "        text-align: right;\n",
       "    }\n",
       "</style>\n",
       "<table border=\"1\" class=\"dataframe\">\n",
       "  <thead>\n",
       "    <tr style=\"text-align: right;\">\n",
       "      <th></th>\n",
       "      <th>zip_code</th>\n",
       "      <th>COUNT(sessions)</th>\n",
       "      <th>NUM_UNIQUE(sessions.device)</th>\n",
       "      <th>MODE(sessions.device)</th>\n",
       "      <th>SUM(transactions.amount)</th>\n",
       "      <th>STD(transactions.amount)</th>\n",
       "      <th>MAX(transactions.amount)</th>\n",
       "      <th>SKEW(transactions.amount)</th>\n",
       "      <th>MIN(transactions.amount)</th>\n",
       "      <th>MEAN(transactions.amount)</th>\n",
       "      <th>...</th>\n",
       "      <th>NUM_UNIQUE(sessions.MODE(transactions.product_id))</th>\n",
       "      <th>NUM_UNIQUE(sessions.DAY(session_start))</th>\n",
       "      <th>NUM_UNIQUE(sessions.YEAR(session_start))</th>\n",
       "      <th>NUM_UNIQUE(sessions.MONTH(session_start))</th>\n",
       "      <th>NUM_UNIQUE(sessions.WEEKDAY(session_start))</th>\n",
       "      <th>MODE(sessions.MODE(transactions.product_id))</th>\n",
       "      <th>MODE(sessions.DAY(session_start))</th>\n",
       "      <th>MODE(sessions.YEAR(session_start))</th>\n",
       "      <th>MODE(sessions.MONTH(session_start))</th>\n",
       "      <th>MODE(sessions.WEEKDAY(session_start))</th>\n",
       "    </tr>\n",
       "    <tr>\n",
       "      <th>customer_id</th>\n",
       "      <th></th>\n",
       "      <th></th>\n",
       "      <th></th>\n",
       "      <th></th>\n",
       "      <th></th>\n",
       "      <th></th>\n",
       "      <th></th>\n",
       "      <th></th>\n",
       "      <th></th>\n",
       "      <th></th>\n",
       "      <th></th>\n",
       "      <th></th>\n",
       "      <th></th>\n",
       "      <th></th>\n",
       "      <th></th>\n",
       "      <th></th>\n",
       "      <th></th>\n",
       "      <th></th>\n",
       "      <th></th>\n",
       "      <th></th>\n",
       "      <th></th>\n",
       "    </tr>\n",
       "  </thead>\n",
       "  <tbody>\n",
       "    <tr>\n",
       "      <th>1</th>\n",
       "      <td>60091</td>\n",
       "      <td>10</td>\n",
       "      <td>3</td>\n",
       "      <td>desktop</td>\n",
       "      <td>10236.77</td>\n",
       "      <td>42.673267</td>\n",
       "      <td>149.95</td>\n",
       "      <td>0.070041</td>\n",
       "      <td>5.60</td>\n",
       "      <td>78.143282</td>\n",
       "      <td>...</td>\n",
       "      <td>3</td>\n",
       "      <td>1</td>\n",
       "      <td>1</td>\n",
       "      <td>1</td>\n",
       "      <td>1</td>\n",
       "      <td>1</td>\n",
       "      <td>1</td>\n",
       "      <td>2014</td>\n",
       "      <td>1</td>\n",
       "      <td>2</td>\n",
       "    </tr>\n",
       "    <tr>\n",
       "      <th>2</th>\n",
       "      <td>02139</td>\n",
       "      <td>8</td>\n",
       "      <td>3</td>\n",
       "      <td>mobile</td>\n",
       "      <td>9118.81</td>\n",
       "      <td>43.204771</td>\n",
       "      <td>149.15</td>\n",
       "      <td>0.028647</td>\n",
       "      <td>5.81</td>\n",
       "      <td>74.744344</td>\n",
       "      <td>...</td>\n",
       "      <td>5</td>\n",
       "      <td>1</td>\n",
       "      <td>1</td>\n",
       "      <td>1</td>\n",
       "      <td>1</td>\n",
       "      <td>1</td>\n",
       "      <td>1</td>\n",
       "      <td>2014</td>\n",
       "      <td>1</td>\n",
       "      <td>2</td>\n",
       "    </tr>\n",
       "    <tr>\n",
       "      <th>3</th>\n",
       "      <td>02139</td>\n",
       "      <td>5</td>\n",
       "      <td>2</td>\n",
       "      <td>desktop</td>\n",
       "      <td>5758.24</td>\n",
       "      <td>40.127924</td>\n",
       "      <td>147.73</td>\n",
       "      <td>0.070814</td>\n",
       "      <td>6.78</td>\n",
       "      <td>73.823590</td>\n",
       "      <td>...</td>\n",
       "      <td>4</td>\n",
       "      <td>1</td>\n",
       "      <td>1</td>\n",
       "      <td>1</td>\n",
       "      <td>1</td>\n",
       "      <td>3</td>\n",
       "      <td>1</td>\n",
       "      <td>2014</td>\n",
       "      <td>1</td>\n",
       "      <td>2</td>\n",
       "    </tr>\n",
       "    <tr>\n",
       "      <th>4</th>\n",
       "      <td>60091</td>\n",
       "      <td>8</td>\n",
       "      <td>3</td>\n",
       "      <td>desktop</td>\n",
       "      <td>8205.28</td>\n",
       "      <td>41.857208</td>\n",
       "      <td>149.56</td>\n",
       "      <td>0.087986</td>\n",
       "      <td>5.73</td>\n",
       "      <td>73.921441</td>\n",
       "      <td>...</td>\n",
       "      <td>5</td>\n",
       "      <td>1</td>\n",
       "      <td>1</td>\n",
       "      <td>1</td>\n",
       "      <td>1</td>\n",
       "      <td>1</td>\n",
       "      <td>1</td>\n",
       "      <td>2014</td>\n",
       "      <td>1</td>\n",
       "      <td>2</td>\n",
       "    </tr>\n",
       "    <tr>\n",
       "      <th>5</th>\n",
       "      <td>02139</td>\n",
       "      <td>4</td>\n",
       "      <td>3</td>\n",
       "      <td>tablet</td>\n",
       "      <td>4571.37</td>\n",
       "      <td>42.656189</td>\n",
       "      <td>148.17</td>\n",
       "      <td>0.085883</td>\n",
       "      <td>5.91</td>\n",
       "      <td>78.816724</td>\n",
       "      <td>...</td>\n",
       "      <td>3</td>\n",
       "      <td>1</td>\n",
       "      <td>1</td>\n",
       "      <td>1</td>\n",
       "      <td>1</td>\n",
       "      <td>2</td>\n",
       "      <td>1</td>\n",
       "      <td>2014</td>\n",
       "      <td>1</td>\n",
       "      <td>2</td>\n",
       "    </tr>\n",
       "  </tbody>\n",
       "</table>\n",
       "<p>5 rows × 69 columns</p>\n",
       "</div>"
      ],
      "text/plain": [
       "            zip_code  COUNT(sessions)  NUM_UNIQUE(sessions.device)  \\\n",
       "customer_id                                                          \n",
       "1              60091               10                            3   \n",
       "2              02139                8                            3   \n",
       "3              02139                5                            2   \n",
       "4              60091                8                            3   \n",
       "5              02139                4                            3   \n",
       "\n",
       "            MODE(sessions.device)  SUM(transactions.amount)  \\\n",
       "customer_id                                                   \n",
       "1                         desktop                  10236.77   \n",
       "2                          mobile                   9118.81   \n",
       "3                         desktop                   5758.24   \n",
       "4                         desktop                   8205.28   \n",
       "5                          tablet                   4571.37   \n",
       "\n",
       "             STD(transactions.amount)  MAX(transactions.amount)  \\\n",
       "customer_id                                                       \n",
       "1                           42.673267                    149.95   \n",
       "2                           43.204771                    149.15   \n",
       "3                           40.127924                    147.73   \n",
       "4                           41.857208                    149.56   \n",
       "5                           42.656189                    148.17   \n",
       "\n",
       "             SKEW(transactions.amount)  MIN(transactions.amount)  \\\n",
       "customer_id                                                        \n",
       "1                             0.070041                      5.60   \n",
       "2                             0.028647                      5.81   \n",
       "3                             0.070814                      6.78   \n",
       "4                             0.087986                      5.73   \n",
       "5                             0.085883                      5.91   \n",
       "\n",
       "             MEAN(transactions.amount)                  ...                    \\\n",
       "customer_id                                             ...                     \n",
       "1                            78.143282                  ...                     \n",
       "2                            74.744344                  ...                     \n",
       "3                            73.823590                  ...                     \n",
       "4                            73.921441                  ...                     \n",
       "5                            78.816724                  ...                     \n",
       "\n",
       "             NUM_UNIQUE(sessions.MODE(transactions.product_id))  \\\n",
       "customer_id                                                       \n",
       "1                                                            3    \n",
       "2                                                            5    \n",
       "3                                                            4    \n",
       "4                                                            5    \n",
       "5                                                            3    \n",
       "\n",
       "             NUM_UNIQUE(sessions.DAY(session_start))  \\\n",
       "customer_id                                            \n",
       "1                                                  1   \n",
       "2                                                  1   \n",
       "3                                                  1   \n",
       "4                                                  1   \n",
       "5                                                  1   \n",
       "\n",
       "             NUM_UNIQUE(sessions.YEAR(session_start))  \\\n",
       "customer_id                                             \n",
       "1                                                   1   \n",
       "2                                                   1   \n",
       "3                                                   1   \n",
       "4                                                   1   \n",
       "5                                                   1   \n",
       "\n",
       "             NUM_UNIQUE(sessions.MONTH(session_start))  \\\n",
       "customer_id                                              \n",
       "1                                                    1   \n",
       "2                                                    1   \n",
       "3                                                    1   \n",
       "4                                                    1   \n",
       "5                                                    1   \n",
       "\n",
       "             NUM_UNIQUE(sessions.WEEKDAY(session_start))  \\\n",
       "customer_id                                                \n",
       "1                                                      1   \n",
       "2                                                      1   \n",
       "3                                                      1   \n",
       "4                                                      1   \n",
       "5                                                      1   \n",
       "\n",
       "             MODE(sessions.MODE(transactions.product_id))  \\\n",
       "customer_id                                                 \n",
       "1                                                       1   \n",
       "2                                                       1   \n",
       "3                                                       3   \n",
       "4                                                       1   \n",
       "5                                                       2   \n",
       "\n",
       "             MODE(sessions.DAY(session_start))  \\\n",
       "customer_id                                      \n",
       "1                                            1   \n",
       "2                                            1   \n",
       "3                                            1   \n",
       "4                                            1   \n",
       "5                                            1   \n",
       "\n",
       "             MODE(sessions.YEAR(session_start))  \\\n",
       "customer_id                                       \n",
       "1                                          2014   \n",
       "2                                          2014   \n",
       "3                                          2014   \n",
       "4                                          2014   \n",
       "5                                          2014   \n",
       "\n",
       "             MODE(sessions.MONTH(session_start))  \\\n",
       "customer_id                                        \n",
       "1                                              1   \n",
       "2                                              1   \n",
       "3                                              1   \n",
       "4                                              1   \n",
       "5                                              1   \n",
       "\n",
       "             MODE(sessions.WEEKDAY(session_start))  \n",
       "customer_id                                         \n",
       "1                                                2  \n",
       "2                                                2  \n",
       "3                                                2  \n",
       "4                                                2  \n",
       "5                                                2  \n",
       "\n",
       "[5 rows x 69 columns]"
      ]
     },
     "execution_count": 109,
     "metadata": {},
     "output_type": "execute_result"
    }
   ],
   "source": [
    "feature_matrix"
   ]
  },
  {
   "cell_type": "code",
   "execution_count": 110,
   "metadata": {},
   "outputs": [
    {
     "data": {
      "text/plain": [
       "[<Feature: zip_code>,\n",
       " <Feature: COUNT(sessions)>,\n",
       " <Feature: NUM_UNIQUE(sessions.device)>,\n",
       " <Feature: MODE(sessions.device)>,\n",
       " <Feature: SUM(transactions.amount)>,\n",
       " <Feature: STD(transactions.amount)>,\n",
       " <Feature: MAX(transactions.amount)>,\n",
       " <Feature: SKEW(transactions.amount)>,\n",
       " <Feature: MIN(transactions.amount)>,\n",
       " <Feature: MEAN(transactions.amount)>,\n",
       " <Feature: COUNT(transactions)>,\n",
       " <Feature: NUM_UNIQUE(transactions.product_id)>,\n",
       " <Feature: MODE(transactions.product_id)>,\n",
       " <Feature: DAY(join_date)>,\n",
       " <Feature: YEAR(join_date)>,\n",
       " <Feature: MONTH(join_date)>,\n",
       " <Feature: WEEKDAY(join_date)>,\n",
       " <Feature: SUM(sessions.STD(transactions.amount))>,\n",
       " <Feature: SUM(sessions.MAX(transactions.amount))>,\n",
       " <Feature: SUM(sessions.SKEW(transactions.amount))>,\n",
       " <Feature: SUM(sessions.MIN(transactions.amount))>,\n",
       " <Feature: SUM(sessions.MEAN(transactions.amount))>,\n",
       " <Feature: SUM(sessions.NUM_UNIQUE(transactions.product_id))>,\n",
       " <Feature: STD(sessions.SUM(transactions.amount))>,\n",
       " <Feature: STD(sessions.MAX(transactions.amount))>,\n",
       " <Feature: STD(sessions.SKEW(transactions.amount))>,\n",
       " <Feature: STD(sessions.MIN(transactions.amount))>,\n",
       " <Feature: STD(sessions.MEAN(transactions.amount))>,\n",
       " <Feature: STD(sessions.COUNT(transactions))>,\n",
       " <Feature: STD(sessions.NUM_UNIQUE(transactions.product_id))>,\n",
       " <Feature: MAX(sessions.SUM(transactions.amount))>,\n",
       " <Feature: MAX(sessions.STD(transactions.amount))>,\n",
       " <Feature: MAX(sessions.SKEW(transactions.amount))>,\n",
       " <Feature: MAX(sessions.MIN(transactions.amount))>,\n",
       " <Feature: MAX(sessions.MEAN(transactions.amount))>,\n",
       " <Feature: MAX(sessions.COUNT(transactions))>,\n",
       " <Feature: MAX(sessions.NUM_UNIQUE(transactions.product_id))>,\n",
       " <Feature: SKEW(sessions.SUM(transactions.amount))>,\n",
       " <Feature: SKEW(sessions.STD(transactions.amount))>,\n",
       " <Feature: SKEW(sessions.MAX(transactions.amount))>,\n",
       " <Feature: SKEW(sessions.MIN(transactions.amount))>,\n",
       " <Feature: SKEW(sessions.MEAN(transactions.amount))>,\n",
       " <Feature: SKEW(sessions.COUNT(transactions))>,\n",
       " <Feature: SKEW(sessions.NUM_UNIQUE(transactions.product_id))>,\n",
       " <Feature: MIN(sessions.SUM(transactions.amount))>,\n",
       " <Feature: MIN(sessions.STD(transactions.amount))>,\n",
       " <Feature: MIN(sessions.MAX(transactions.amount))>,\n",
       " <Feature: MIN(sessions.SKEW(transactions.amount))>,\n",
       " <Feature: MIN(sessions.MEAN(transactions.amount))>,\n",
       " <Feature: MIN(sessions.COUNT(transactions))>,\n",
       " <Feature: MIN(sessions.NUM_UNIQUE(transactions.product_id))>,\n",
       " <Feature: MEAN(sessions.SUM(transactions.amount))>,\n",
       " <Feature: MEAN(sessions.STD(transactions.amount))>,\n",
       " <Feature: MEAN(sessions.MAX(transactions.amount))>,\n",
       " <Feature: MEAN(sessions.SKEW(transactions.amount))>,\n",
       " <Feature: MEAN(sessions.MIN(transactions.amount))>,\n",
       " <Feature: MEAN(sessions.MEAN(transactions.amount))>,\n",
       " <Feature: MEAN(sessions.COUNT(transactions))>,\n",
       " <Feature: MEAN(sessions.NUM_UNIQUE(transactions.product_id))>,\n",
       " <Feature: NUM_UNIQUE(sessions.MODE(transactions.product_id))>,\n",
       " <Feature: NUM_UNIQUE(sessions.DAY(session_start))>,\n",
       " <Feature: NUM_UNIQUE(sessions.YEAR(session_start))>,\n",
       " <Feature: NUM_UNIQUE(sessions.MONTH(session_start))>,\n",
       " <Feature: NUM_UNIQUE(sessions.WEEKDAY(session_start))>,\n",
       " <Feature: MODE(sessions.MODE(transactions.product_id))>,\n",
       " <Feature: MODE(sessions.DAY(session_start))>,\n",
       " <Feature: MODE(sessions.YEAR(session_start))>,\n",
       " <Feature: MODE(sessions.MONTH(session_start))>,\n",
       " <Feature: MODE(sessions.WEEKDAY(session_start))>]"
      ]
     },
     "execution_count": 110,
     "metadata": {},
     "output_type": "execute_result"
    }
   ],
   "source": [
    "feature_defs"
   ]
  },
  {
   "cell_type": "code",
   "execution_count": null,
   "metadata": {},
   "outputs": [],
   "source": []
  },
  {
   "cell_type": "code",
   "execution_count": 167,
   "metadata": {},
   "outputs": [
    {
     "ename": "AttributeError",
     "evalue": "'str' object has no attribute 'input_types'",
     "output_type": "error",
     "traceback": [
      "\u001b[1;31m---------------------------------------------------------------------------\u001b[0m",
      "\u001b[1;31mAttributeError\u001b[0m                            Traceback (most recent call last)",
      "\u001b[1;32m<ipython-input-167-2473a86c504b>\u001b[0m in \u001b[0;36m<module>\u001b[1;34m()\u001b[0m\n\u001b[0;32m      1\u001b[0m feature_matrix, feature_defs = ft.dfs(entityset=es1,\n\u001b[0;32m      2\u001b[0m                                      \u001b[0mtarget_entity\u001b[0m\u001b[1;33m=\u001b[0m\u001b[1;34m\"customers\"\u001b[0m\u001b[1;33m,\u001b[0m\u001b[1;33m\u001b[0m\u001b[0m\n\u001b[1;32m----> 3\u001b[1;33m                                    agg_primitives=[\"count\"], trans_primitives=[\"month\"])\n\u001b[0m",
      "\u001b[1;32mC:\\Anaconda3\\envs\\ml\\lib\\site-packages\\featuretools\\synthesis\\dfs.py\u001b[0m in \u001b[0;36mdfs\u001b[1;34m(entities, relationships, entityset, target_entity, cutoff_time, instance_ids, agg_primitives, trans_primitives, allowed_paths, max_depth, ignore_entities, ignore_variables, seed_features, drop_contains, drop_exact, where_primitives, max_features, cutoff_time_in_index, save_progress, features_only, training_window, approximate, verbose)\u001b[0m\n\u001b[0;32m    169\u001b[0m                                       seed_features=seed_features)\n\u001b[0;32m    170\u001b[0m \u001b[1;33m\u001b[0m\u001b[0m\n\u001b[1;32m--> 171\u001b[1;33m     \u001b[0mfeatures\u001b[0m \u001b[1;33m=\u001b[0m \u001b[0mdfs_object\u001b[0m\u001b[1;33m.\u001b[0m\u001b[0mbuild_features\u001b[0m\u001b[1;33m(\u001b[0m\u001b[0mverbose\u001b[0m\u001b[1;33m=\u001b[0m\u001b[0mverbose\u001b[0m\u001b[1;33m)\u001b[0m\u001b[1;33m\u001b[0m\u001b[0m\n\u001b[0m\u001b[0;32m    172\u001b[0m \u001b[1;33m\u001b[0m\u001b[0m\n\u001b[0;32m    173\u001b[0m     \u001b[1;32mif\u001b[0m \u001b[0mfeatures_only\u001b[0m\u001b[1;33m:\u001b[0m\u001b[1;33m\u001b[0m\u001b[0m\n",
      "\u001b[1;32mC:\\Anaconda3\\envs\\ml\\lib\\site-packages\\featuretools\\synthesis\\deep_feature_synthesis.py\u001b[0m in \u001b[0;36mbuild_features\u001b[1;34m(self, variable_types, verbose)\u001b[0m\n\u001b[0;32m    223\u001b[0m         \u001b[0mself\u001b[0m\u001b[1;33m.\u001b[0m\u001b[0mwhere_clauses\u001b[0m \u001b[1;33m=\u001b[0m \u001b[0mdefaultdict\u001b[0m\u001b[1;33m(\u001b[0m\u001b[0mset\u001b[0m\u001b[1;33m)\u001b[0m\u001b[1;33m\u001b[0m\u001b[0m\n\u001b[0;32m    224\u001b[0m         self._run_dfs(self.es[self.target_entity_id], [],\n\u001b[1;32m--> 225\u001b[1;33m                       all_features, max_depth=self.max_depth)\n\u001b[0m\u001b[0;32m    226\u001b[0m \u001b[1;33m\u001b[0m\u001b[0m\n\u001b[0;32m    227\u001b[0m         \u001b[0mnew_features\u001b[0m \u001b[1;33m=\u001b[0m \u001b[0mlist\u001b[0m\u001b[1;33m(\u001b[0m\u001b[0mall_features\u001b[0m\u001b[1;33m[\u001b[0m\u001b[0mself\u001b[0m\u001b[1;33m.\u001b[0m\u001b[0mtarget_entity_id\u001b[0m\u001b[1;33m]\u001b[0m\u001b[1;33m.\u001b[0m\u001b[0mvalues\u001b[0m\u001b[1;33m(\u001b[0m\u001b[1;33m)\u001b[0m\u001b[1;33m)\u001b[0m\u001b[1;33m\u001b[0m\u001b[0m\n",
      "\u001b[1;32mC:\\Anaconda3\\envs\\ml\\lib\\site-packages\\featuretools\\synthesis\\deep_feature_synthesis.py\u001b[0m in \u001b[0;36m_run_dfs\u001b[1;34m(self, entity, entity_path, all_features, max_depth)\u001b[0m\n\u001b[0;32m    347\u001b[0m                           \u001b[0mentity_path\u001b[0m\u001b[1;33m=\u001b[0m\u001b[0mlist\u001b[0m\u001b[1;33m(\u001b[0m\u001b[0mentity_path\u001b[0m\u001b[1;33m)\u001b[0m\u001b[1;33m,\u001b[0m\u001b[1;33m\u001b[0m\u001b[0m\n\u001b[0;32m    348\u001b[0m                           \u001b[0mall_features\u001b[0m\u001b[1;33m=\u001b[0m\u001b[0mall_features\u001b[0m\u001b[1;33m,\u001b[0m\u001b[1;33m\u001b[0m\u001b[0m\n\u001b[1;32m--> 349\u001b[1;33m                           max_depth=new_max_depth)\n\u001b[0m\u001b[0;32m    350\u001b[0m \u001b[1;33m\u001b[0m\u001b[0m\n\u001b[0;32m    351\u001b[0m         \"\"\"\n",
      "\u001b[1;32mC:\\Anaconda3\\envs\\ml\\lib\\site-packages\\featuretools\\synthesis\\deep_feature_synthesis.py\u001b[0m in \u001b[0;36m_run_dfs\u001b[1;34m(self, entity, entity_path, all_features, max_depth)\u001b[0m\n\u001b[0;32m    347\u001b[0m                           \u001b[0mentity_path\u001b[0m\u001b[1;33m=\u001b[0m\u001b[0mlist\u001b[0m\u001b[1;33m(\u001b[0m\u001b[0mentity_path\u001b[0m\u001b[1;33m)\u001b[0m\u001b[1;33m,\u001b[0m\u001b[1;33m\u001b[0m\u001b[0m\n\u001b[0;32m    348\u001b[0m                           \u001b[0mall_features\u001b[0m\u001b[1;33m=\u001b[0m\u001b[0mall_features\u001b[0m\u001b[1;33m,\u001b[0m\u001b[1;33m\u001b[0m\u001b[0m\n\u001b[1;32m--> 349\u001b[1;33m                           max_depth=new_max_depth)\n\u001b[0m\u001b[0;32m    350\u001b[0m \u001b[1;33m\u001b[0m\u001b[0m\n\u001b[0;32m    351\u001b[0m         \"\"\"\n",
      "\u001b[1;32mC:\\Anaconda3\\envs\\ml\\lib\\site-packages\\featuretools\\synthesis\\deep_feature_synthesis.py\u001b[0m in \u001b[0;36m_run_dfs\u001b[1;34m(self, entity, entity_path, all_features, max_depth)\u001b[0m\n\u001b[0;32m    371\u001b[0m         \u001b[0mStep\u001b[0m \u001b[1;36m3\u001b[0m \u001b[1;33m-\u001b[0m \u001b[0mCreate\u001b[0m \u001b[0mTransform\u001b[0m \u001b[0mfeatures\u001b[0m\u001b[1;33m\u001b[0m\u001b[0m\n\u001b[0;32m    372\u001b[0m         \"\"\"\n\u001b[1;32m--> 373\u001b[1;33m         \u001b[0mself\u001b[0m\u001b[1;33m.\u001b[0m\u001b[0m_build_transform_features\u001b[0m\u001b[1;33m(\u001b[0m\u001b[0mall_features\u001b[0m\u001b[1;33m,\u001b[0m \u001b[0mentity\u001b[0m\u001b[1;33m,\u001b[0m \u001b[0mmax_depth\u001b[0m\u001b[1;33m=\u001b[0m\u001b[0mmax_depth\u001b[0m\u001b[1;33m)\u001b[0m\u001b[1;33m\u001b[0m\u001b[0m\n\u001b[0m\u001b[0;32m    374\u001b[0m \u001b[1;33m\u001b[0m\u001b[0m\n\u001b[0;32m    375\u001b[0m         \"\"\"\n",
      "\u001b[1;32mC:\\Anaconda3\\envs\\ml\\lib\\site-packages\\featuretools\\synthesis\\deep_feature_synthesis.py\u001b[0m in \u001b[0;36m_build_transform_features\u001b[1;34m(self, all_features, entity, max_depth)\u001b[0m\n\u001b[0;32m    518\u001b[0m         \u001b[1;32mfor\u001b[0m \u001b[0mtrans_prim\u001b[0m \u001b[1;32min\u001b[0m \u001b[0mself\u001b[0m\u001b[1;33m.\u001b[0m\u001b[0mtrans_primitives\u001b[0m\u001b[1;33m:\u001b[0m\u001b[1;33m\u001b[0m\u001b[0m\n\u001b[0;32m    519\u001b[0m             \u001b[1;31m# if multiple input_types, only use first one for DFS\u001b[0m\u001b[1;33m\u001b[0m\u001b[1;33m\u001b[0m\u001b[0m\n\u001b[1;32m--> 520\u001b[1;33m             \u001b[0minput_types\u001b[0m \u001b[1;33m=\u001b[0m \u001b[0mtrans_prim\u001b[0m\u001b[1;33m.\u001b[0m\u001b[0minput_types\u001b[0m\u001b[1;33m\u001b[0m\u001b[0m\n\u001b[0m\u001b[0;32m    521\u001b[0m             \u001b[1;32mif\u001b[0m \u001b[0mtype\u001b[0m\u001b[1;33m(\u001b[0m\u001b[0minput_types\u001b[0m\u001b[1;33m[\u001b[0m\u001b[1;36m0\u001b[0m\u001b[1;33m]\u001b[0m\u001b[1;33m)\u001b[0m \u001b[1;33m==\u001b[0m \u001b[0mlist\u001b[0m\u001b[1;33m:\u001b[0m\u001b[1;33m\u001b[0m\u001b[0m\n\u001b[0;32m    522\u001b[0m                 \u001b[0minput_types\u001b[0m \u001b[1;33m=\u001b[0m \u001b[0minput_types\u001b[0m\u001b[1;33m[\u001b[0m\u001b[1;36m0\u001b[0m\u001b[1;33m]\u001b[0m\u001b[1;33m\u001b[0m\u001b[0m\n",
      "\u001b[1;31mAttributeError\u001b[0m: 'str' object has no attribute 'input_types'"
     ]
    }
   ],
   "source": [
    "feature_matrix, feature_defs = ft.dfs(entityset=es1,\n",
    "                                     target_entity=\"customers\",\n",
    "                                   agg_primitives=[\"count\"], trans_primitives=[\"month\"])"
   ]
  },
  {
   "cell_type": "code",
   "execution_count": 220,
   "metadata": {},
   "outputs": [
    {
     "ename": "AttributeError",
     "evalue": "'str' object has no attribute 'input_types'",
     "output_type": "error",
     "traceback": [
      "\u001b[1;31m---------------------------------------------------------------------------\u001b[0m",
      "\u001b[1;31mAttributeError\u001b[0m                            Traceback (most recent call last)",
      "\u001b[1;32m<ipython-input-220-6c77b4c59a6d>\u001b[0m in \u001b[0;36m<module>\u001b[1;34m()\u001b[0m\n\u001b[0;32m      3\u001b[0m                    \u001b[0magg_primitives\u001b[0m\u001b[1;33m=\u001b[0m\u001b[1;33m[\u001b[0m\u001b[1;34m\"count\"\u001b[0m\u001b[1;33m]\u001b[0m\u001b[1;33m,\u001b[0m\u001b[1;33m\u001b[0m\u001b[0m\n\u001b[0;32m      4\u001b[0m                       \u001b[0mtrans_primitives\u001b[0m\u001b[1;33m=\u001b[0m\u001b[1;33m[\u001b[0m\u001b[1;34m\"weekend\"\u001b[0m\u001b[1;33m]\u001b[0m\u001b[1;33m,\u001b[0m\u001b[1;33m\u001b[0m\u001b[0m\n\u001b[1;32m----> 5\u001b[1;33m                      features_only=True)\n\u001b[0m",
      "\u001b[1;32mC:\\Anaconda3\\envs\\ml\\lib\\site-packages\\featuretools\\synthesis\\dfs.py\u001b[0m in \u001b[0;36mdfs\u001b[1;34m(entities, relationships, entityset, target_entity, cutoff_time, instance_ids, agg_primitives, trans_primitives, allowed_paths, max_depth, ignore_entities, ignore_variables, seed_features, drop_contains, drop_exact, where_primitives, max_features, cutoff_time_in_index, save_progress, features_only, training_window, approximate, verbose)\u001b[0m\n\u001b[0;32m    169\u001b[0m                                       seed_features=seed_features)\n\u001b[0;32m    170\u001b[0m \u001b[1;33m\u001b[0m\u001b[0m\n\u001b[1;32m--> 171\u001b[1;33m     \u001b[0mfeatures\u001b[0m \u001b[1;33m=\u001b[0m \u001b[0mdfs_object\u001b[0m\u001b[1;33m.\u001b[0m\u001b[0mbuild_features\u001b[0m\u001b[1;33m(\u001b[0m\u001b[0mverbose\u001b[0m\u001b[1;33m=\u001b[0m\u001b[0mverbose\u001b[0m\u001b[1;33m)\u001b[0m\u001b[1;33m\u001b[0m\u001b[0m\n\u001b[0m\u001b[0;32m    172\u001b[0m \u001b[1;33m\u001b[0m\u001b[0m\n\u001b[0;32m    173\u001b[0m     \u001b[1;32mif\u001b[0m \u001b[0mfeatures_only\u001b[0m\u001b[1;33m:\u001b[0m\u001b[1;33m\u001b[0m\u001b[0m\n",
      "\u001b[1;32mC:\\Anaconda3\\envs\\ml\\lib\\site-packages\\featuretools\\synthesis\\deep_feature_synthesis.py\u001b[0m in \u001b[0;36mbuild_features\u001b[1;34m(self, variable_types, verbose)\u001b[0m\n\u001b[0;32m    223\u001b[0m         \u001b[0mself\u001b[0m\u001b[1;33m.\u001b[0m\u001b[0mwhere_clauses\u001b[0m \u001b[1;33m=\u001b[0m \u001b[0mdefaultdict\u001b[0m\u001b[1;33m(\u001b[0m\u001b[0mset\u001b[0m\u001b[1;33m)\u001b[0m\u001b[1;33m\u001b[0m\u001b[0m\n\u001b[0;32m    224\u001b[0m         self._run_dfs(self.es[self.target_entity_id], [],\n\u001b[1;32m--> 225\u001b[1;33m                       all_features, max_depth=self.max_depth)\n\u001b[0m\u001b[0;32m    226\u001b[0m \u001b[1;33m\u001b[0m\u001b[0m\n\u001b[0;32m    227\u001b[0m         \u001b[0mnew_features\u001b[0m \u001b[1;33m=\u001b[0m \u001b[0mlist\u001b[0m\u001b[1;33m(\u001b[0m\u001b[0mall_features\u001b[0m\u001b[1;33m[\u001b[0m\u001b[0mself\u001b[0m\u001b[1;33m.\u001b[0m\u001b[0mtarget_entity_id\u001b[0m\u001b[1;33m]\u001b[0m\u001b[1;33m.\u001b[0m\u001b[0mvalues\u001b[0m\u001b[1;33m(\u001b[0m\u001b[1;33m)\u001b[0m\u001b[1;33m)\u001b[0m\u001b[1;33m\u001b[0m\u001b[0m\n",
      "\u001b[1;32mC:\\Anaconda3\\envs\\ml\\lib\\site-packages\\featuretools\\synthesis\\deep_feature_synthesis.py\u001b[0m in \u001b[0;36m_run_dfs\u001b[1;34m(self, entity, entity_path, all_features, max_depth)\u001b[0m\n\u001b[0;32m    347\u001b[0m                           \u001b[0mentity_path\u001b[0m\u001b[1;33m=\u001b[0m\u001b[0mlist\u001b[0m\u001b[1;33m(\u001b[0m\u001b[0mentity_path\u001b[0m\u001b[1;33m)\u001b[0m\u001b[1;33m,\u001b[0m\u001b[1;33m\u001b[0m\u001b[0m\n\u001b[0;32m    348\u001b[0m                           \u001b[0mall_features\u001b[0m\u001b[1;33m=\u001b[0m\u001b[0mall_features\u001b[0m\u001b[1;33m,\u001b[0m\u001b[1;33m\u001b[0m\u001b[0m\n\u001b[1;32m--> 349\u001b[1;33m                           max_depth=new_max_depth)\n\u001b[0m\u001b[0;32m    350\u001b[0m \u001b[1;33m\u001b[0m\u001b[0m\n\u001b[0;32m    351\u001b[0m         \"\"\"\n",
      "\u001b[1;32mC:\\Anaconda3\\envs\\ml\\lib\\site-packages\\featuretools\\synthesis\\deep_feature_synthesis.py\u001b[0m in \u001b[0;36m_run_dfs\u001b[1;34m(self, entity, entity_path, all_features, max_depth)\u001b[0m\n\u001b[0;32m    347\u001b[0m                           \u001b[0mentity_path\u001b[0m\u001b[1;33m=\u001b[0m\u001b[0mlist\u001b[0m\u001b[1;33m(\u001b[0m\u001b[0mentity_path\u001b[0m\u001b[1;33m)\u001b[0m\u001b[1;33m,\u001b[0m\u001b[1;33m\u001b[0m\u001b[0m\n\u001b[0;32m    348\u001b[0m                           \u001b[0mall_features\u001b[0m\u001b[1;33m=\u001b[0m\u001b[0mall_features\u001b[0m\u001b[1;33m,\u001b[0m\u001b[1;33m\u001b[0m\u001b[0m\n\u001b[1;32m--> 349\u001b[1;33m                           max_depth=new_max_depth)\n\u001b[0m\u001b[0;32m    350\u001b[0m \u001b[1;33m\u001b[0m\u001b[0m\n\u001b[0;32m    351\u001b[0m         \"\"\"\n",
      "\u001b[1;32mC:\\Anaconda3\\envs\\ml\\lib\\site-packages\\featuretools\\synthesis\\deep_feature_synthesis.py\u001b[0m in \u001b[0;36m_run_dfs\u001b[1;34m(self, entity, entity_path, all_features, max_depth)\u001b[0m\n\u001b[0;32m    371\u001b[0m         \u001b[0mStep\u001b[0m \u001b[1;36m3\u001b[0m \u001b[1;33m-\u001b[0m \u001b[0mCreate\u001b[0m \u001b[0mTransform\u001b[0m \u001b[0mfeatures\u001b[0m\u001b[1;33m\u001b[0m\u001b[0m\n\u001b[0;32m    372\u001b[0m         \"\"\"\n\u001b[1;32m--> 373\u001b[1;33m         \u001b[0mself\u001b[0m\u001b[1;33m.\u001b[0m\u001b[0m_build_transform_features\u001b[0m\u001b[1;33m(\u001b[0m\u001b[0mall_features\u001b[0m\u001b[1;33m,\u001b[0m \u001b[0mentity\u001b[0m\u001b[1;33m,\u001b[0m \u001b[0mmax_depth\u001b[0m\u001b[1;33m=\u001b[0m\u001b[0mmax_depth\u001b[0m\u001b[1;33m)\u001b[0m\u001b[1;33m\u001b[0m\u001b[0m\n\u001b[0m\u001b[0;32m    374\u001b[0m \u001b[1;33m\u001b[0m\u001b[0m\n\u001b[0;32m    375\u001b[0m         \"\"\"\n",
      "\u001b[1;32mC:\\Anaconda3\\envs\\ml\\lib\\site-packages\\featuretools\\synthesis\\deep_feature_synthesis.py\u001b[0m in \u001b[0;36m_build_transform_features\u001b[1;34m(self, all_features, entity, max_depth)\u001b[0m\n\u001b[0;32m    518\u001b[0m         \u001b[1;32mfor\u001b[0m \u001b[0mtrans_prim\u001b[0m \u001b[1;32min\u001b[0m \u001b[0mself\u001b[0m\u001b[1;33m.\u001b[0m\u001b[0mtrans_primitives\u001b[0m\u001b[1;33m:\u001b[0m\u001b[1;33m\u001b[0m\u001b[0m\n\u001b[0;32m    519\u001b[0m             \u001b[1;31m# if multiple input_types, only use first one for DFS\u001b[0m\u001b[1;33m\u001b[0m\u001b[1;33m\u001b[0m\u001b[0m\n\u001b[1;32m--> 520\u001b[1;33m             \u001b[0minput_types\u001b[0m \u001b[1;33m=\u001b[0m \u001b[0mtrans_prim\u001b[0m\u001b[1;33m.\u001b[0m\u001b[0minput_types\u001b[0m\u001b[1;33m\u001b[0m\u001b[0m\n\u001b[0m\u001b[0;32m    521\u001b[0m             \u001b[1;32mif\u001b[0m \u001b[0mtype\u001b[0m\u001b[1;33m(\u001b[0m\u001b[0minput_types\u001b[0m\u001b[1;33m[\u001b[0m\u001b[1;36m0\u001b[0m\u001b[1;33m]\u001b[0m\u001b[1;33m)\u001b[0m \u001b[1;33m==\u001b[0m \u001b[0mlist\u001b[0m\u001b[1;33m:\u001b[0m\u001b[1;33m\u001b[0m\u001b[0m\n\u001b[0;32m    522\u001b[0m                 \u001b[0minput_types\u001b[0m \u001b[1;33m=\u001b[0m \u001b[0minput_types\u001b[0m\u001b[1;33m[\u001b[0m\u001b[1;36m0\u001b[0m\u001b[1;33m]\u001b[0m\u001b[1;33m\u001b[0m\u001b[0m\n",
      "\u001b[1;31mAttributeError\u001b[0m: 'str' object has no attribute 'input_types'"
     ]
    }
   ],
   "source": [
    "feature_defs = ft.dfs(entityset=es1,\n",
    "                     target_entity=\"customers\",\n",
    "                   agg_primitives=[\"count\"],\n",
    "                      trans_primitives=[\"weekend\"],\n",
    "                     features_only=True)"
   ]
  },
  {
   "cell_type": "code",
   "execution_count": null,
   "metadata": {},
   "outputs": [],
   "source": []
  }
 ],
 "metadata": {
  "kernelspec": {
   "display_name": "Python 3",
   "language": "python",
   "name": "python3"
  },
  "language_info": {
   "codemirror_mode": {
    "name": "ipython",
    "version": 3
   },
   "file_extension": ".py",
   "mimetype": "text/x-python",
   "name": "python",
   "nbconvert_exporter": "python",
   "pygments_lexer": "ipython3",
   "version": "3.6.3"
  }
 },
 "nbformat": 4,
 "nbformat_minor": 2
}
