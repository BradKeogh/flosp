{
 "cells": [
  {
   "cell_type": "code",
   "execution_count": 1,
   "metadata": {},
   "outputs": [],
   "source": [
    "#import dep\n",
    "import numpy as np\n",
    "import pandas as pd\n",
    "\n",
    "# local import\n",
    "from hospital import *"
   ]
  },
  {
   "cell_type": "code",
   "execution_count": 2,
   "metadata": {},
   "outputs": [
    {
     "name": "stdout",
     "output_type": "stream",
     "text": [
      "----------------------------------------\n",
      "Created hosp class instance:  pmth\n",
      "----------------------------------------\n",
      "--------------------\n",
      "Patient fileload: \n",
      "--------------------\n",
      "Found:  pmthEDpat.pkl\n",
      "Missing:  pmthIPpat.pkl\n",
      "--------------------\n",
      "Daily fileload: \n",
      "--------------------\n",
      "Found:  pmthEDdaily.pkl\n",
      "Missing:  pmthIPdaily.pkl\n"
     ]
    }
   ],
   "source": [
    "pmth = hosp('pmth')"
   ]
  },
  {
   "cell_type": "code",
   "execution_count": 4,
   "metadata": {},
   "outputs": [],
   "source": [
    "df = pmth.pat.get_ED()"
   ]
  },
  {
   "cell_type": "code",
   "execution_count": 5,
   "metadata": {},
   "outputs": [
    {
     "data": {
      "text/html": [
       "<div>\n",
       "<style scoped>\n",
       "    .dataframe tbody tr th:only-of-type {\n",
       "        vertical-align: middle;\n",
       "    }\n",
       "\n",
       "    .dataframe tbody tr th {\n",
       "        vertical-align: top;\n",
       "    }\n",
       "\n",
       "    .dataframe thead th {\n",
       "        text-align: right;\n",
       "    }\n",
       "</style>\n",
       "<table border=\"1\" class=\"dataframe\">\n",
       "  <thead>\n",
       "    <tr style=\"text-align: right;\">\n",
       "      <th></th>\n",
       "      <th>dept_patid</th>\n",
       "      <th>hosp_patid</th>\n",
       "      <th>age</th>\n",
       "      <th>gender</th>\n",
       "      <th>site</th>\n",
       "      <th>arrival_date</th>\n",
       "      <th>arrival_time</th>\n",
       "      <th>arrival_mode</th>\n",
       "      <th>first_triage_time</th>\n",
       "      <th>first_dr_time</th>\n",
       "      <th>...</th>\n",
       "      <th>leaving_datetime</th>\n",
       "      <th>waiting_time</th>\n",
       "      <th>breach_flag</th>\n",
       "      <th>arr_hour</th>\n",
       "      <th>arr_dayofweek</th>\n",
       "      <th>arr_month</th>\n",
       "      <th>leaving_hour</th>\n",
       "      <th>leaving_dayofweek</th>\n",
       "      <th>leaving_month</th>\n",
       "      <th>adm_flag</th>\n",
       "    </tr>\n",
       "  </thead>\n",
       "  <tbody>\n",
       "    <tr>\n",
       "      <th>0</th>\n",
       "      <td>1047212</td>\n",
       "      <td>4.723258e+09</td>\n",
       "      <td>41</td>\n",
       "      <td>Male</td>\n",
       "      <td>Queen Alexandra Hospital ED</td>\n",
       "      <td>22/01/2014</td>\n",
       "      <td>08:50</td>\n",
       "      <td>Private Transport</td>\n",
       "      <td>08:56</td>\n",
       "      <td>09:09</td>\n",
       "      <td>...</td>\n",
       "      <td>2014-01-22 10:48:00</td>\n",
       "      <td>118.0</td>\n",
       "      <td>0</td>\n",
       "      <td>8</td>\n",
       "      <td>2</td>\n",
       "      <td>1</td>\n",
       "      <td>10</td>\n",
       "      <td>2</td>\n",
       "      <td>1</td>\n",
       "      <td>0</td>\n",
       "    </tr>\n",
       "    <tr>\n",
       "      <th>1</th>\n",
       "      <td>4117153</td>\n",
       "      <td>4.307992e+09</td>\n",
       "      <td>42</td>\n",
       "      <td>Male</td>\n",
       "      <td>Queen Alexandra Hospital ED</td>\n",
       "      <td>22/01/2014</td>\n",
       "      <td>08:55</td>\n",
       "      <td>Private Transport</td>\n",
       "      <td>09:04</td>\n",
       "      <td>09:00</td>\n",
       "      <td>...</td>\n",
       "      <td>2014-01-22 10:01:00</td>\n",
       "      <td>66.0</td>\n",
       "      <td>0</td>\n",
       "      <td>8</td>\n",
       "      <td>2</td>\n",
       "      <td>1</td>\n",
       "      <td>10</td>\n",
       "      <td>2</td>\n",
       "      <td>1</td>\n",
       "      <td>0</td>\n",
       "    </tr>\n",
       "  </tbody>\n",
       "</table>\n",
       "<p>2 rows × 25 columns</p>\n",
       "</div>"
      ],
      "text/plain": [
       "  dept_patid    hosp_patid  age gender                         site  \\\n",
       "0    1047212  4.723258e+09   41   Male  Queen Alexandra Hospital ED   \n",
       "1    4117153  4.307992e+09   42   Male  Queen Alexandra Hospital ED   \n",
       "\n",
       "  arrival_date arrival_time       arrival_mode first_triage_time  \\\n",
       "0   22/01/2014        08:50  Private Transport             08:56   \n",
       "1   22/01/2014        08:55  Private Transport             09:04   \n",
       "\n",
       "  first_dr_time   ...       leaving_datetime waiting_time breach_flag  \\\n",
       "0         09:09   ...    2014-01-22 10:48:00        118.0           0   \n",
       "1         09:00   ...    2014-01-22 10:01:00         66.0           0   \n",
       "\n",
       "  arr_hour arr_dayofweek arr_month  leaving_hour  leaving_dayofweek  \\\n",
       "0        8             2         1            10                  2   \n",
       "1        8             2         1            10                  2   \n",
       "\n",
       "  leaving_month adm_flag  \n",
       "0             1        0  \n",
       "1             1        0  \n",
       "\n",
       "[2 rows x 25 columns]"
      ]
     },
     "execution_count": 5,
     "metadata": {},
     "output_type": "execute_result"
    }
   ],
   "source": [
    "df.head(2)"
   ]
  },
  {
   "cell_type": "code",
   "execution_count": null,
   "metadata": {},
   "outputs": [],
   "source": []
  }
 ],
 "metadata": {
  "kernelspec": {
   "display_name": "Python 3",
   "language": "python",
   "name": "python3"
  },
  "language_info": {
   "codemirror_mode": {
    "name": "ipython",
    "version": 3
   },
   "file_extension": ".py",
   "mimetype": "text/x-python",
   "name": "python",
   "nbconvert_exporter": "python",
   "pygments_lexer": "ipython3",
   "version": "3.6.4"
  }
 },
 "nbformat": 4,
 "nbformat_minor": 2
}
