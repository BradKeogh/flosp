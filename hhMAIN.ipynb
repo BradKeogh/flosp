{
 "cells": [
  {
   "attachments": {},
   "cell_type": "markdown",
   "metadata": {},
   "source": [
    "Focus on ED for now - simple stuff first!!\n",
    "Arrival and departure curves from ED\n",
    "\t- Comapre UHS and PHT\n",
    "\t- Weekday vs. weekend\n",
    "\n",
    "Arrivals/period - overtime\n",
    "\n",
    "Summary stats of variation for:\n",
    "Arrival - first clinitian\n",
    "Triage - …\n",
    "DTA - admission\n",
    " - how vary by time of day/year\n",
    "\n",
    "Seasonality stats?\n"
   ]
  },
  {
   "cell_type": "code",
   "execution_count": 1,
   "metadata": {},
   "outputs": [],
   "source": [
    "#import dep\n",
    "import numpy as np\n",
    "import pandas as pd\n",
    "import seaborn as sns\n",
    "sns.set()\n",
    "import matplotlib.pyplot as plt\n",
    "%matplotlib inline\n",
    "\n",
    "# local import\n",
    "from hospital import *"
   ]
  },
  {
   "cell_type": "code",
   "execution_count": 2,
   "metadata": {},
   "outputs": [
    {
     "name": "stdout",
     "output_type": "stream",
     "text": [
      "----------------------------------------\n",
      "Created hosp class instance:  hh\n",
      "----------------------------------------\n",
      "--------------------\n",
      "Patient fileload: \n",
      "--------------------\n",
      "Found:  hhEDpat.pkl\n",
      "Missing:  hhIPpat.pkl\n",
      "--------------------\n",
      "Daily fileload: \n",
      "--------------------\n",
      "Missing:  hhEDday.pkl\n",
      "Missing:  hhIPday.pkl\n"
     ]
    }
   ],
   "source": [
    "hh = hosp('hh')"
   ]
  },
  {
   "cell_type": "code",
   "execution_count": 3,
   "metadata": {},
   "outputs": [],
   "source": [
    "pat = hh.pat.get_ED()"
   ]
  },
  {
   "cell_type": "code",
   "execution_count": 4,
   "metadata": {},
   "outputs": [
    {
     "data": {
      "text/plain": [
       "(567635, 23)"
      ]
     },
     "execution_count": 4,
     "metadata": {},
     "output_type": "execute_result"
    }
   ],
   "source": [
    "pat.shape"
   ]
  },
  {
   "cell_type": "code",
   "execution_count": 5,
   "metadata": {},
   "outputs": [
    {
     "data": {
      "text/html": [
       "<div>\n",
       "<style scoped>\n",
       "    .dataframe tbody tr th:only-of-type {\n",
       "        vertical-align: middle;\n",
       "    }\n",
       "\n",
       "    .dataframe tbody tr th {\n",
       "        vertical-align: top;\n",
       "    }\n",
       "\n",
       "    .dataframe thead th {\n",
       "        text-align: right;\n",
       "    }\n",
       "</style>\n",
       "<table border=\"1\" class=\"dataframe\">\n",
       "  <thead>\n",
       "    <tr style=\"text-align: right;\">\n",
       "      <th></th>\n",
       "      <th>hosp_patid</th>\n",
       "      <th>age</th>\n",
       "      <th>gender</th>\n",
       "      <th>site</th>\n",
       "      <th>arrive_datetime</th>\n",
       "      <th>arrive_mode</th>\n",
       "      <th>first_triage_datetime</th>\n",
       "      <th>first_dr_datetime</th>\n",
       "      <th>first_adm_request_time</th>\n",
       "      <th>adm_referral_loc</th>\n",
       "      <th>...</th>\n",
       "      <th>waiting_time</th>\n",
       "      <th>breach_flag</th>\n",
       "      <th>arrive_hour</th>\n",
       "      <th>arrive_dayofweek</th>\n",
       "      <th>arrive_month</th>\n",
       "      <th>arrive_weekday_name</th>\n",
       "      <th>depart_hour</th>\n",
       "      <th>depart_dayofweek</th>\n",
       "      <th>depart_month</th>\n",
       "      <th>depart_weekday_name</th>\n",
       "    </tr>\n",
       "  </thead>\n",
       "  <tbody>\n",
       "    <tr>\n",
       "      <th>0</th>\n",
       "      <td>489709</td>\n",
       "      <td>43</td>\n",
       "      <td>Female</td>\n",
       "      <td>BNHH</td>\n",
       "      <td>2012-08-01 00:04:00</td>\n",
       "      <td>2.0</td>\n",
       "      <td>2012-08-01 00:18:00</td>\n",
       "      <td>2012-08-01 02:24:00</td>\n",
       "      <td>NaN</td>\n",
       "      <td>NaN</td>\n",
       "      <td>...</td>\n",
       "      <td>220.0</td>\n",
       "      <td>0</td>\n",
       "      <td>0</td>\n",
       "      <td>2</td>\n",
       "      <td>8</td>\n",
       "      <td>Wednesday</td>\n",
       "      <td>3</td>\n",
       "      <td>2</td>\n",
       "      <td>8</td>\n",
       "      <td>Wednesday</td>\n",
       "    </tr>\n",
       "  </tbody>\n",
       "</table>\n",
       "<p>1 rows × 23 columns</p>\n",
       "</div>"
      ],
      "text/plain": [
       "   hosp_patid  age  gender  site     arrive_datetime  arrive_mode  \\\n",
       "0      489709   43  Female  BNHH 2012-08-01 00:04:00          2.0   \n",
       "\n",
       "  first_triage_datetime   first_dr_datetime first_adm_request_time  \\\n",
       "0   2012-08-01 00:18:00 2012-08-01 02:24:00                    NaN   \n",
       "\n",
       "  adm_referral_loc         ...          waiting_time breach_flag arrive_hour  \\\n",
       "0              NaN         ...                 220.0           0           0   \n",
       "\n",
       "   arrive_dayofweek  arrive_month arrive_weekday_name depart_hour  \\\n",
       "0                 2             8           Wednesday           3   \n",
       "\n",
       "  depart_dayofweek depart_month depart_weekday_name  \n",
       "0                2            8           Wednesday  \n",
       "\n",
       "[1 rows x 23 columns]"
      ]
     },
     "execution_count": 5,
     "metadata": {},
     "output_type": "execute_result"
    }
   ],
   "source": [
    "pat.head(1)"
   ]
  },
  {
   "cell_type": "code",
   "execution_count": 6,
   "metadata": {},
   "outputs": [
    {
     "data": {
      "text/plain": [
       "Index(['hosp_patid', 'age', 'gender', 'site', 'arrive_datetime', 'arrive_mode',\n",
       "       'first_triage_datetime', 'first_dr_datetime', 'first_adm_request_time',\n",
       "       'adm_referral_loc', 'adm_flag', 'depart_datetime', 'stream',\n",
       "       'waiting_time', 'breach_flag', 'arrive_hour', 'arrive_dayofweek',\n",
       "       'arrive_month', 'arrive_weekday_name', 'depart_hour',\n",
       "       'depart_dayofweek', 'depart_month', 'depart_weekday_name'],\n",
       "      dtype='object')"
      ]
     },
     "execution_count": 6,
     "metadata": {},
     "output_type": "execute_result"
    }
   ],
   "source": [
    "pat.columns"
   ]
  },
  {
   "cell_type": "markdown",
   "metadata": {},
   "source": [
    "# Cleaning"
   ]
  },
  {
   "cell_type": "markdown",
   "metadata": {},
   "source": [
    "check for long wait times"
   ]
  },
  {
   "cell_type": "code",
   "execution_count": 81,
   "metadata": {},
   "outputs": [
    {
     "data": {
      "text/plain": [
       "(0, 24)"
      ]
     },
     "execution_count": 81,
     "metadata": {},
     "output_type": "execute_result"
    }
   ],
   "source": [
    "pat[pat.waiting_time > 7*24*60].shape"
   ]
  },
  {
   "cell_type": "markdown",
   "metadata": {},
   "source": [
    "Also some patients that have negative wait times"
   ]
  },
  {
   "cell_type": "code",
   "execution_count": 84,
   "metadata": {},
   "outputs": [
    {
     "data": {
      "text/plain": [
       "(0, 24)"
      ]
     },
     "execution_count": 84,
     "metadata": {},
     "output_type": "execute_result"
    }
   ],
   "source": [
    "pat[pat.waiting_time < 0].shape"
   ]
  },
  {
   "cell_type": "code",
   "execution_count": 12,
   "metadata": {},
   "outputs": [],
   "source": [
    "pat = pat[pat.waiting_time > 0]"
   ]
  },
  {
   "cell_type": "code",
   "execution_count": 13,
   "metadata": {},
   "outputs": [],
   "source": [
    "pat.reset_index(drop=True,inplace=True)"
   ]
  },
  {
   "cell_type": "markdown",
   "metadata": {},
   "source": [
    "### Hourly discharge curves - looks like i need pat level df for medians/IQR calcs + groupby is crazy quick!"
   ]
  },
  {
   "cell_type": "markdown",
   "metadata": {},
   "source": [
    "input: weekday/weekend, range of dates, \n",
    "\n",
    "output: "
   ]
  },
  {
   "cell_type": "code",
   "execution_count": 14,
   "metadata": {},
   "outputs": [],
   "source": [
    "f = lambda x : x.date()\n",
    "\n",
    "pat['arrive_date'] = pat['arrive_datetime'].apply(f)"
   ]
  },
  {
   "cell_type": "code",
   "execution_count": null,
   "metadata": {},
   "outputs": [],
   "source": []
  },
  {
   "cell_type": "code",
   "execution_count": 16,
   "metadata": {},
   "outputs": [
    {
     "data": {
      "text/plain": [
       "<matplotlib.axes._subplots.AxesSubplot at 0x16468a23080>"
      ]
     },
     "execution_count": 16,
     "metadata": {},
     "output_type": "execute_result"
    },
    {
     "data": {
      "image/png": "[encoded data removed]",
      "text/plain": [
       "<matplotlib.figure.Figure at 0x16468a01d30>"
      ]
     },
     "metadata": {},
     "output_type": "display_data"
    }
   ],
   "source": [
    "ax = plt.subplot()\n",
    "arr = pat[['arrive_hour','hosp_patid']].groupby(['arrive_hour']).count()#.plot(ax=ax)\n",
    "dep = pat[['depart_hour','hosp_patid']].groupby(['depart_hour']).count()#.plot(ax=ax)\n",
    "arr.plot(ax=ax)\n",
    "dep.plot(ax=ax)\n",
    "ax.set_xticks(np.arange(0,25,2));"
   ]
  },
  {
   "cell_type": "code",
   "execution_count": 17,
   "metadata": {},
   "outputs": [
    {
     "data": {
      "image/png": "[encoded data removed]",
      "text/plain": [
       "<matplotlib.figure.Figure at 0x164008ef940>"
      ]
     },
     "metadata": {},
     "output_type": "display_data"
    }
   ],
   "source": [
    "ax = plt.subplot();\n",
    "arr = pat[['arrive_hour','hosp_patid']].groupby(['arrive_hour']).count()#.plot(ax=ax)\n",
    "dep = pat[['depart_hour','hosp_patid']].groupby(['depart_hour']).count()#.plot(ax=ax)\n",
    "arr.plot(ax=ax);\n",
    "dep.plot(ax=ax);\n",
    "ax.legend(['arrivals','departures']);\n",
    "ax.set_xlabel('Hour of day');\n",
    "ax.set_ylabel('Count of patients');\n",
    "ax.set_xticks(np.arange(0,25,2));"
   ]
  },
  {
   "cell_type": "code",
   "execution_count": 18,
   "metadata": {},
   "outputs": [
    {
     "data": {
      "image/png": "[encoded data removed]",
      "text/plain": [
       "<matplotlib.figure.Figure at 0x1640090e6a0>"
      ]
     },
     "metadata": {},
     "output_type": "display_data"
    }
   ],
   "source": [
    "ax1 = plt.subplot();\n",
    "(arr-dep).plot(kind='bar',ax=ax1);\n",
    "ax.set_xlabel('Hour of day');\n",
    "ax.set_ylabel('Change in occupancy');"
   ]
  },
  {
   "cell_type": "code",
   "execution_count": 44,
   "metadata": {},
   "outputs": [
    {
     "data": {
      "text/plain": [
       "array([ 0,  2,  4,  6,  8, 10, 12, 14, 16, 18, 20, 22, 24])"
      ]
     },
     "execution_count": 44,
     "metadata": {},
     "output_type": "execute_result"
    }
   ],
   "source": [
    "np.arange(0,25,2)"
   ]
  },
  {
   "cell_type": "code",
   "execution_count": 46,
   "metadata": {},
   "outputs": [
    {
     "data": {
      "image/png": "[encoded data removed]",
      "text/plain": [
       "<matplotlib.figure.Figure at 0x16400adb0b8>"
      ]
     },
     "metadata": {},
     "output_type": "display_data"
    }
   ],
   "source": [
    "daily_dep = pat[['depart_hour','arrive_date','hosp_patid']].groupby(['depart_hour','arrive_date']).count()\n",
    "daily_arr = pat[['arrive_hour','arrive_date','hosp_patid']].groupby(['arrive_hour','arrive_date']).count()\n",
    "\n",
    "daily_dep_m = daily_dep.groupby(['depart_hour']).median()#['hosp_patid'].plot()\n",
    "daily_arr_m = daily_arr.groupby(['arrive_hour']).median()#['hosp_patid'].plot()\n",
    "\n",
    "daily_arr_UQ = daily_arr.groupby(['arrive_hour']).quantile(0.75)#['hosp_patid'].plot()\n",
    "daily_arr_LQ = daily_arr.groupby(['arrive_hour']).quantile(0.25)#['hosp_patid'].plot() \n",
    "\n",
    "\n",
    "daily_dep_UQ = daily_dep.groupby(['depart_hour']).quantile(0.75)#['hosp_patid'].plot()\n",
    "daily_dep_LQ = daily_dep.groupby(['depart_hour']).quantile(0.25)#['hosp_patid'].plot() \n",
    "\n",
    "\n",
    "ax = plt.subplot()\n",
    "\n",
    "daily_arr_m.plot(ax=ax)\n",
    "\n",
    "\n",
    "ax.fill_between(x = daily_arr_UQ.index,y1=daily_arr_UQ['hosp_patid'],y2=daily_arr_LQ['hosp_patid'],alpha=0.2)\n",
    "\n",
    "daily_dep_m.plot(ax=ax)\n",
    "ax.fill_between(x = daily_dep_UQ.index,y1=daily_dep_UQ['hosp_patid'],y2=daily_dep_LQ['hosp_patid'],alpha=0.2)\n",
    "\n",
    "\n",
    "ax.legend(['arrivals','departures','arr IQR','dep IQR'],frameon=True,loc='upper left');\n",
    "ax.set_xlabel('Hour of day');\n",
    "ax.set_ylabel('Number of patients (median)');\n",
    "ax.set_xticks(np.arange(0,25,2));"
   ]
  },
  {
   "cell_type": "code",
   "execution_count": 37,
   "metadata": {},
   "outputs": [
    {
     "data": {
      "text/plain": [
       "<matplotlib.legend.Legend at 0x16400825ac8>"
      ]
     },
     "execution_count": 37,
     "metadata": {},
     "output_type": "execute_result"
    },
    {
     "data": {
      "image/png": "[encoded data removed]",
      "text/plain": [
       "<matplotlib.figure.Figure at 0x1640068e518>"
      ]
     },
     "metadata": {},
     "output_type": "display_data"
    }
   ],
   "source": [
    "ax = plt.subplot();\n",
    "(daily_arr_m-daily_dep_m).plot(kind='bar',ax=ax);\n",
    "ax.set_xlabel('Hour of day');\n",
    "ax.set_ylabel('Change in occupancy per hour (median)');\n",
    "ax.legend([])"
   ]
  },
  {
   "cell_type": "code",
   "execution_count": 36,
   "metadata": {},
   "outputs": [
    {
     "data": {
      "text/plain": [
       "[<matplotlib.lines.Line2D at 0x164007a8f28>]"
      ]
     },
     "execution_count": 36,
     "metadata": {},
     "output_type": "execute_result"
    },
    {
     "data": {
      "image/png": "[encoded data removed]",
      "text/plain": [
       "<matplotlib.figure.Figure at 0x1640074cfd0>"
      ]
     },
     "metadata": {},
     "output_type": "display_data"
    }
   ],
   "source": [
    "ax = plt.subplot();\n",
    "(daily_arr_m-daily_dep_m).plot(ax=ax);\n",
    "\n",
    "\n",
    "y1 = (daily_arr_UQ - daily_dep_LQ)['hosp_patid']\n",
    "y2 = (daily_arr_LQ - daily_dep_UQ)['hosp_patid']\n",
    "\n",
    "ax.fill_between(x = daily_dep_UQ.index,y1=y1,y2=y2,alpha=0.2)\n",
    "\n",
    "\n",
    "\n",
    "ax.set_xlabel('Hour of day');\n",
    "ax.set_ylabel('Change in occupancy per hour');\n",
    "ax.legend(['median','IQR'])\n",
    "ax.plot([0,24],[0,0],'r')\n",
    "ax.set_xticks(np.arange(0,25,2));"
   ]
  },
  {
   "cell_type": "code",
   "execution_count": 50,
   "metadata": {},
   "outputs": [
    {
     "data": {
      "image/png": "[encoded data removed]",
      "text/plain": [
       "<matplotlib.figure.Figure at 0x164014275c0>"
      ]
     },
     "metadata": {},
     "output_type": "display_data"
    }
   ],
   "source": [
    "daily_dep = pat[['depart_hour','arrive_date','hosp_patid']].groupby(['depart_hour','arrive_date']).count()\n",
    "daily_arr = pat[['arrive_hour','arrive_date','hosp_patid']].groupby(['arrive_hour','arrive_date']).count()\n",
    "\n",
    "daily_arr = daily_arr.groupby(['arrive_hour']).mean()#['hosp_patid'].plot()\n",
    "daily_dep = daily_dep.groupby(['depart_hour']).mean()#['hosp_patid'].plot()\n",
    "\n",
    "\n",
    "#UQ = daily.groupby(['depart_hour']).quantile(0.75)#['hosp_patid'].plot()\n",
    "#LQ = daily.groupby(['depart_hour']).quantile(0.25)#['hosp_patid'].plot() \n",
    "\n",
    "ax = plt.subplot()\n",
    "daily_arr.plot(ax=ax)\n",
    "daily_dep.plot(ax=ax)\n",
    "\n",
    "ax.legend(['arrivals','departures']);\n",
    "ax.set_xlabel('Hour of day');\n",
    "ax.set_ylabel('Number of patients (mean)');\n",
    "ax.set_xticks(np.arange(0,25,2));"
   ]
  },
  {
   "cell_type": "code",
   "execution_count": 51,
   "metadata": {},
   "outputs": [
    {
     "data": {
      "text/plain": [
       "<matplotlib.legend.Legend at 0x1640129de80>"
      ]
     },
     "execution_count": 51,
     "metadata": {},
     "output_type": "execute_result"
    },
    {
     "data": {
      "image/png": "[encoded data removed]",
      "text/plain": [
       "<matplotlib.figure.Figure at 0x16401427c50>"
      ]
     },
     "metadata": {},
     "output_type": "display_data"
    }
   ],
   "source": [
    "ax = plt.subplot();\n",
    "(daily_arr-daily_dep).plot(kind='bar',ax=ax);\n",
    "ax.set_xlabel('Hour of day');\n",
    "ax.set_ylabel('Change in occupancy (mean)');\n",
    "ax.legend([])"
   ]
  },
  {
   "cell_type": "code",
   "execution_count": null,
   "metadata": {},
   "outputs": [],
   "source": []
  },
  {
   "cell_type": "markdown",
   "metadata": {},
   "source": [
    "# Arrival trends over time"
   ]
  },
  {
   "cell_type": "code",
   "execution_count": null,
   "metadata": {},
   "outputs": [],
   "source": [
    "pat[0:1].arrive_datetime[0].week"
   ]
  },
  {
   "cell_type": "code",
   "execution_count": 52,
   "metadata": {},
   "outputs": [],
   "source": [
    "f = lambda x : x.week()\n",
    "\n",
    "test = pat.copy()\n",
    "#pat['arrive_date'] = pat['arrive_datetime'].apply(f)"
   ]
  },
  {
   "cell_type": "code",
   "execution_count": 53,
   "metadata": {},
   "outputs": [
    {
     "data": {
      "text/html": [
       "<div>\n",
       "<style scoped>\n",
       "    .dataframe tbody tr th:only-of-type {\n",
       "        vertical-align: middle;\n",
       "    }\n",
       "\n",
       "    .dataframe tbody tr th {\n",
       "        vertical-align: top;\n",
       "    }\n",
       "\n",
       "    .dataframe thead th {\n",
       "        text-align: right;\n",
       "    }\n",
       "</style>\n",
       "<table border=\"1\" class=\"dataframe\">\n",
       "  <thead>\n",
       "    <tr style=\"text-align: right;\">\n",
       "      <th></th>\n",
       "      <th>hosp_patid</th>\n",
       "      <th>age</th>\n",
       "      <th>gender</th>\n",
       "      <th>site</th>\n",
       "      <th>arrive_datetime</th>\n",
       "      <th>arrive_mode</th>\n",
       "      <th>first_triage_datetime</th>\n",
       "      <th>first_dr_datetime</th>\n",
       "      <th>first_adm_request_time</th>\n",
       "      <th>adm_referral_loc</th>\n",
       "      <th>...</th>\n",
       "      <th>breach_flag</th>\n",
       "      <th>arrive_hour</th>\n",
       "      <th>arrive_dayofweek</th>\n",
       "      <th>arrive_month</th>\n",
       "      <th>arrive_weekday_name</th>\n",
       "      <th>depart_hour</th>\n",
       "      <th>depart_dayofweek</th>\n",
       "      <th>depart_month</th>\n",
       "      <th>depart_weekday_name</th>\n",
       "      <th>arrive_date</th>\n",
       "    </tr>\n",
       "  </thead>\n",
       "  <tbody>\n",
       "    <tr>\n",
       "      <th>0</th>\n",
       "      <td>489709</td>\n",
       "      <td>43</td>\n",
       "      <td>Female</td>\n",
       "      <td>BNHH</td>\n",
       "      <td>2012-08-01 00:04:00</td>\n",
       "      <td>2.0</td>\n",
       "      <td>2012-08-01 00:18:00</td>\n",
       "      <td>2012-08-01 02:24:00</td>\n",
       "      <td>NaN</td>\n",
       "      <td>NaN</td>\n",
       "      <td>...</td>\n",
       "      <td>0</td>\n",
       "      <td>0</td>\n",
       "      <td>2</td>\n",
       "      <td>8</td>\n",
       "      <td>Wednesday</td>\n",
       "      <td>3</td>\n",
       "      <td>2</td>\n",
       "      <td>8</td>\n",
       "      <td>Wednesday</td>\n",
       "      <td>2012-08-01</td>\n",
       "    </tr>\n",
       "  </tbody>\n",
       "</table>\n",
       "<p>1 rows × 24 columns</p>\n",
       "</div>"
      ],
      "text/plain": [
       "   hosp_patid  age  gender  site     arrive_datetime  arrive_mode  \\\n",
       "0      489709   43  Female  BNHH 2012-08-01 00:04:00          2.0   \n",
       "\n",
       "  first_triage_datetime   first_dr_datetime first_adm_request_time  \\\n",
       "0   2012-08-01 00:18:00 2012-08-01 02:24:00                    NaN   \n",
       "\n",
       "  adm_referral_loc     ...      breach_flag arrive_hour arrive_dayofweek  \\\n",
       "0              NaN     ...                0           0                2   \n",
       "\n",
       "   arrive_month  arrive_weekday_name depart_hour depart_dayofweek  \\\n",
       "0             8            Wednesday           3                2   \n",
       "\n",
       "  depart_month depart_weekday_name arrive_date  \n",
       "0            8           Wednesday  2012-08-01  \n",
       "\n",
       "[1 rows x 24 columns]"
      ]
     },
     "execution_count": 53,
     "metadata": {},
     "output_type": "execute_result"
    }
   ],
   "source": [
    "test.head(1)"
   ]
  },
  {
   "cell_type": "code",
   "execution_count": 80,
   "metadata": {},
   "outputs": [
    {
     "data": {
      "text/plain": [
       "<matplotlib.legend.Legend at 0x16412855080>"
      ]
     },
     "execution_count": 80,
     "metadata": {},
     "output_type": "execute_result"
    },
    {
     "data": {
      "image/png": "[encoded data removed]",
      "text/plain": [
       "<matplotlib.figure.Figure at 0x16410798c88>"
      ]
     },
     "metadata": {},
     "output_type": "display_data"
    }
   ],
   "source": [
    "ax = plt.subplot()\n",
    "pat[['arrive_date','hosp_patid']].groupby('arrive_date').count()[:-1].plot(ax=ax)\n",
    "pat[['arrive_date','hosp_patid']].groupby('arrive_date').count()[:-1].rolling(30).mean().plot(ax=ax,color='r')\n",
    "ax.set_ylabel('Daily arrivals')\n",
    "ax.legend(['daily','30 day mean'],frameon=True)"
   ]
  },
  {
   "cell_type": "markdown",
   "metadata": {},
   "source": [
    "### Summary stats of variation for: Arrival - first clinitian Triage - … DTA - admission"
   ]
  },
  {
   "cell_type": "code",
   "execution_count": 95,
   "metadata": {},
   "outputs": [
    {
     "data": {
      "text/plain": [
       "Index(['hosp_patid', 'age', 'gender', 'site', 'arrive_datetime', 'arrive_mode',\n",
       "       'first_triage_datetime', 'first_dr_datetime', 'first_adm_request_time',\n",
       "       'adm_referral_loc', 'adm_flag', 'depart_datetime', 'stream',\n",
       "       'waiting_time', 'breach_flag', 'arrive_hour', 'arrive_dayofweek',\n",
       "       'arrive_month', 'arrive_weekday_name', 'depart_hour',\n",
       "       'depart_dayofweek', 'depart_month', 'depart_weekday_name',\n",
       "       'arrive_date'],\n",
       "      dtype='object')"
      ]
     },
     "execution_count": 95,
     "metadata": {},
     "output_type": "execute_result"
    }
   ],
   "source": [
    "pat.columns"
   ]
  },
  {
   "cell_type": "code",
   "execution_count": null,
   "metadata": {},
   "outputs": [],
   "source": [
    "def convert_adm_request_datetime(df):\n",
    "    \"\"\"\n",
    "    creates a new column which has datetime of bed request (from time)\n",
    "    \"\"\"\n",
    "    "
   ]
  },
  {
   "cell_type": "code",
   "execution_count": null,
   "metadata": {},
   "outputs": [],
   "source": []
  },
  {
   "cell_type": "code",
   "execution_count": 149,
   "metadata": {},
   "outputs": [],
   "source": [
    "def f(x):\n",
    "    y = str(x.arrive_date) + ' ' + x.first_adm_request_time\n",
    "    return y"
   ]
  },
  {
   "cell_type": "code",
   "execution_count": 154,
   "metadata": {},
   "outputs": [],
   "source": [
    "mask = ~pat.first_adm_request_time.isnull()"
   ]
  },
  {
   "cell_type": "code",
   "execution_count": 155,
   "metadata": {},
   "outputs": [],
   "source": [
    "pat['first_adm_request_datetime'] = pat[mask].apply(f,axis=1) # add date and time together"
   ]
  },
  {
   "cell_type": "code",
   "execution_count": 158,
   "metadata": {},
   "outputs": [],
   "source": [
    "pat['first_adm_request_datetime'] = pat[mask]['first_adm_request_datetime'].apply(lambda x: pd.to_datetime(x)) # convert str to datetime"
   ]
  },
  {
   "cell_type": "markdown",
   "metadata": {},
   "source": [
    "add + 1D to all values where patient has overlapped midnight"
   ]
  },
  {
   "cell_type": "code",
   "execution_count": 186,
   "metadata": {},
   "outputs": [],
   "source": [
    "mask = (pat['first_adm_request_datetime'] - pat['arrive_datetime']) < pd.Timedelta(0, unit='D')"
   ]
  },
  {
   "cell_type": "code",
   "execution_count": 193,
   "metadata": {},
   "outputs": [],
   "source": [
    "pat['first_adm_request_datetime'] = pat[mask]['first_adm_request_datetime'] + pd.Timedelta(1, unit='D')"
   ]
  },
  {
   "cell_type": "code",
   "execution_count": null,
   "metadata": {},
   "outputs": [],
   "source": []
  },
  {
   "cell_type": "markdown",
   "metadata": {},
   "source": [
    "create minutes waited at each stage for each patient"
   ]
  },
  {
   "cell_type": "code",
   "execution_count": 196,
   "metadata": {},
   "outputs": [
    {
     "data": {
      "text/plain": [
       "Index(['hosp_patid', 'age', 'gender', 'site', 'arrive_datetime', 'arrive_mode',\n",
       "       'first_triage_datetime', 'first_dr_datetime', 'first_adm_request_time',\n",
       "       'adm_referral_loc', 'adm_flag', 'depart_datetime', 'stream',\n",
       "       'waiting_time', 'breach_flag', 'arrive_hour', 'arrive_dayofweek',\n",
       "       'arrive_month', 'arrive_weekday_name', 'depart_hour',\n",
       "       'depart_dayofweek', 'depart_month', 'depart_weekday_name',\n",
       "       'arrive_date', 'first_adm_request_datetime'],\n",
       "      dtype='object')"
      ]
     },
     "execution_count": 196,
     "metadata": {},
     "output_type": "execute_result"
    }
   ],
   "source": [
    "pat.columns"
   ]
  },
  {
   "cell_type": "code",
   "execution_count": 201,
   "metadata": {},
   "outputs": [],
   "source": [
    "pat['first_triage_wait'] = (pat.first_triage_datetime - pat.arrive_datetime) / pd.Timedelta('1 minute')"
   ]
  },
  {
   "cell_type": "code",
   "execution_count": 202,
   "metadata": {},
   "outputs": [],
   "source": [
    "pat['first_dr_wait'] = (pat.first_dr_datetime - pat.arrive_datetime) / pd.Timedelta('1 minute')"
   ]
  },
  {
   "cell_type": "code",
   "execution_count": 267,
   "metadata": {},
   "outputs": [],
   "source": [
    "pat['first_adm_req_wait'] = (pat.depart_datetime - pat.first_adm_request_datetime) / pd.Timedelta('1 minute')"
   ]
  },
  {
   "cell_type": "code",
   "execution_count": null,
   "metadata": {},
   "outputs": [],
   "source": []
  },
  {
   "cell_type": "code",
   "execution_count": 268,
   "metadata": {},
   "outputs": [],
   "source": [
    "wait_cols = ['first_triage_wait','first_dr_wait','first_adm_req_wait','waiting_time']\n",
    "dt_cols = ['arrive_datetime','first_triage_datetime','first_dr_datetime','first_adm_request_datetime','depart_datetime']"
   ]
  },
  {
   "cell_type": "code",
   "execution_count": 269,
   "metadata": {},
   "outputs": [
    {
     "data": {
      "text/html": [
       "<div>\n",
       "<style scoped>\n",
       "    .dataframe tbody tr th:only-of-type {\n",
       "        vertical-align: middle;\n",
       "    }\n",
       "\n",
       "    .dataframe tbody tr th {\n",
       "        vertical-align: top;\n",
       "    }\n",
       "\n",
       "    .dataframe thead th {\n",
       "        text-align: right;\n",
       "    }\n",
       "</style>\n",
       "<table border=\"1\" class=\"dataframe\">\n",
       "  <thead>\n",
       "    <tr style=\"text-align: right;\">\n",
       "      <th></th>\n",
       "      <th>first_triage_wait</th>\n",
       "      <th>first_dr_wait</th>\n",
       "      <th>first_adm_req_wait</th>\n",
       "      <th>waiting_time</th>\n",
       "      <th>arrive_datetime</th>\n",
       "      <th>first_triage_datetime</th>\n",
       "      <th>first_dr_datetime</th>\n",
       "      <th>first_adm_request_datetime</th>\n",
       "      <th>depart_datetime</th>\n",
       "    </tr>\n",
       "  </thead>\n",
       "  <tbody>\n",
       "    <tr>\n",
       "      <th>312029</th>\n",
       "      <td>-11520.0</td>\n",
       "      <td>46.0</td>\n",
       "      <td>NaN</td>\n",
       "      <td>75.0</td>\n",
       "      <td>2018-01-24 16:27:00</td>\n",
       "      <td>2018-01-16 16:27:00</td>\n",
       "      <td>2018-01-24 17:13:00</td>\n",
       "      <td>NaT</td>\n",
       "      <td>2018-01-24 17:42:00</td>\n",
       "    </tr>\n",
       "  </tbody>\n",
       "</table>\n",
       "</div>"
      ],
      "text/plain": [
       "        first_triage_wait  first_dr_wait  first_adm_req_wait  waiting_time  \\\n",
       "312029           -11520.0           46.0                 NaN          75.0   \n",
       "\n",
       "           arrive_datetime first_triage_datetime   first_dr_datetime  \\\n",
       "312029 2018-01-24 16:27:00   2018-01-16 16:27:00 2018-01-24 17:13:00   \n",
       "\n",
       "       first_adm_request_datetime     depart_datetime  \n",
       "312029                        NaT 2018-01-24 17:42:00  "
      ]
     },
     "execution_count": 269,
     "metadata": {},
     "output_type": "execute_result"
    }
   ],
   "source": [
    "pat[pat.first_triage_wait == -11520][wait_cols + dt_cols]"
   ]
  },
  {
   "cell_type": "code",
   "execution_count": 270,
   "metadata": {},
   "outputs": [
    {
     "data": {
      "text/html": [
       "<div>\n",
       "<style scoped>\n",
       "    .dataframe tbody tr th:only-of-type {\n",
       "        vertical-align: middle;\n",
       "    }\n",
       "\n",
       "    .dataframe tbody tr th {\n",
       "        vertical-align: top;\n",
       "    }\n",
       "\n",
       "    .dataframe thead th {\n",
       "        text-align: right;\n",
       "    }\n",
       "</style>\n",
       "<table border=\"1\" class=\"dataframe\">\n",
       "  <thead>\n",
       "    <tr style=\"text-align: right;\">\n",
       "      <th></th>\n",
       "      <th>first_triage_wait</th>\n",
       "      <th>first_dr_wait</th>\n",
       "      <th>first_adm_req_wait</th>\n",
       "      <th>waiting_time</th>\n",
       "      <th>arrive_datetime</th>\n",
       "      <th>first_triage_datetime</th>\n",
       "      <th>first_dr_datetime</th>\n",
       "      <th>first_adm_request_datetime</th>\n",
       "      <th>depart_datetime</th>\n",
       "    </tr>\n",
       "  </thead>\n",
       "  <tbody>\n",
       "    <tr>\n",
       "      <th>6138</th>\n",
       "      <td>383767.0</td>\n",
       "      <td>383906.0</td>\n",
       "      <td>NaN</td>\n",
       "      <td>179.0</td>\n",
       "      <td>2012-09-17 06:01:00</td>\n",
       "      <td>2013-06-10 18:08:00</td>\n",
       "      <td>2013-06-10 20:27:00</td>\n",
       "      <td>NaT</td>\n",
       "      <td>2012-09-17 09:00:00</td>\n",
       "    </tr>\n",
       "  </tbody>\n",
       "</table>\n",
       "</div>"
      ],
      "text/plain": [
       "      first_triage_wait  first_dr_wait  first_adm_req_wait  waiting_time  \\\n",
       "6138           383767.0       383906.0                 NaN         179.0   \n",
       "\n",
       "         arrive_datetime first_triage_datetime   first_dr_datetime  \\\n",
       "6138 2012-09-17 06:01:00   2013-06-10 18:08:00 2013-06-10 20:27:00   \n",
       "\n",
       "     first_adm_request_datetime     depart_datetime  \n",
       "6138                        NaT 2012-09-17 09:00:00  "
      ]
     },
     "execution_count": 270,
     "metadata": {},
     "output_type": "execute_result"
    }
   ],
   "source": [
    "pat[pat.first_triage_wait == 383767.000000][wait_cols + dt_cols]"
   ]
  },
  {
   "cell_type": "code",
   "execution_count": 271,
   "metadata": {},
   "outputs": [
    {
     "data": {
      "text/html": [
       "<div>\n",
       "<style scoped>\n",
       "    .dataframe tbody tr th:only-of-type {\n",
       "        vertical-align: middle;\n",
       "    }\n",
       "\n",
       "    .dataframe tbody tr th {\n",
       "        vertical-align: top;\n",
       "    }\n",
       "\n",
       "    .dataframe thead th {\n",
       "        text-align: right;\n",
       "    }\n",
       "</style>\n",
       "<table border=\"1\" class=\"dataframe\">\n",
       "  <thead>\n",
       "    <tr style=\"text-align: right;\">\n",
       "      <th></th>\n",
       "      <th>first_triage_wait</th>\n",
       "      <th>first_dr_wait</th>\n",
       "      <th>first_adm_req_wait</th>\n",
       "      <th>waiting_time</th>\n",
       "      <th>arrive_datetime</th>\n",
       "      <th>first_triage_datetime</th>\n",
       "      <th>first_dr_datetime</th>\n",
       "      <th>first_adm_request_datetime</th>\n",
       "      <th>depart_datetime</th>\n",
       "    </tr>\n",
       "  </thead>\n",
       "  <tbody>\n",
       "    <tr>\n",
       "      <th>561171</th>\n",
       "      <td>43.0</td>\n",
       "      <td>-10009.0</td>\n",
       "      <td>NaN</td>\n",
       "      <td>63.0</td>\n",
       "      <td>2017-12-26 12:34:00</td>\n",
       "      <td>2017-12-26 13:17:00</td>\n",
       "      <td>2017-12-19 13:45:00</td>\n",
       "      <td>NaT</td>\n",
       "      <td>2017-12-26 13:37:00</td>\n",
       "    </tr>\n",
       "  </tbody>\n",
       "</table>\n",
       "</div>"
      ],
      "text/plain": [
       "        first_triage_wait  first_dr_wait  first_adm_req_wait  waiting_time  \\\n",
       "561171               43.0       -10009.0                 NaN          63.0   \n",
       "\n",
       "           arrive_datetime first_triage_datetime   first_dr_datetime  \\\n",
       "561171 2017-12-26 12:34:00   2017-12-26 13:17:00 2017-12-19 13:45:00   \n",
       "\n",
       "       first_adm_request_datetime     depart_datetime  \n",
       "561171                        NaT 2017-12-26 13:37:00  "
      ]
     },
     "execution_count": 271,
     "metadata": {},
     "output_type": "execute_result"
    }
   ],
   "source": [
    "pat[pat.first_dr_wait == -10009.000000][wait_cols + dt_cols]"
   ]
  },
  {
   "cell_type": "markdown",
   "metadata": {},
   "source": [
    "### waiting time plots"
   ]
  },
  {
   "cell_type": "code",
   "execution_count": 272,
   "metadata": {},
   "outputs": [
    {
     "data": {
      "text/html": [
       "<div>\n",
       "<style scoped>\n",
       "    .dataframe tbody tr th:only-of-type {\n",
       "        vertical-align: middle;\n",
       "    }\n",
       "\n",
       "    .dataframe tbody tr th {\n",
       "        vertical-align: top;\n",
       "    }\n",
       "\n",
       "    .dataframe thead th {\n",
       "        text-align: right;\n",
       "    }\n",
       "</style>\n",
       "<table border=\"1\" class=\"dataframe\">\n",
       "  <thead>\n",
       "    <tr style=\"text-align: right;\">\n",
       "      <th></th>\n",
       "      <th>first_triage_wait</th>\n",
       "      <th>first_dr_wait</th>\n",
       "      <th>first_adm_req_wait</th>\n",
       "      <th>waiting_time</th>\n",
       "    </tr>\n",
       "  </thead>\n",
       "  <tbody>\n",
       "    <tr>\n",
       "      <th>count</th>\n",
       "      <td>563201.000000</td>\n",
       "      <td>567093.000000</td>\n",
       "      <td>13025.000000</td>\n",
       "      <td>567157.000000</td>\n",
       "    </tr>\n",
       "    <tr>\n",
       "      <th>mean</th>\n",
       "      <td>12.049663</td>\n",
       "      <td>76.159755</td>\n",
       "      <td>86.777925</td>\n",
       "      <td>165.726293</td>\n",
       "    </tr>\n",
       "    <tr>\n",
       "      <th>std</th>\n",
       "      <td>512.257834</td>\n",
       "      <td>521.742708</td>\n",
       "      <td>286.538725</td>\n",
       "      <td>123.759873</td>\n",
       "    </tr>\n",
       "    <tr>\n",
       "      <th>min</th>\n",
       "      <td>-11520.000000</td>\n",
       "      <td>-10009.000000</td>\n",
       "      <td>-1405.700000</td>\n",
       "      <td>1.000000</td>\n",
       "    </tr>\n",
       "    <tr>\n",
       "      <th>25%</th>\n",
       "      <td>2.000000</td>\n",
       "      <td>26.000000</td>\n",
       "      <td>24.883333</td>\n",
       "      <td>84.000000</td>\n",
       "    </tr>\n",
       "    <tr>\n",
       "      <th>50%</th>\n",
       "      <td>7.000000</td>\n",
       "      <td>59.000000</td>\n",
       "      <td>65.666667</td>\n",
       "      <td>155.000000</td>\n",
       "    </tr>\n",
       "    <tr>\n",
       "      <th>75%</th>\n",
       "      <td>15.000000</td>\n",
       "      <td>110.000000</td>\n",
       "      <td>135.466667</td>\n",
       "      <td>223.000000</td>\n",
       "    </tr>\n",
       "    <tr>\n",
       "      <th>max</th>\n",
       "      <td>383767.000000</td>\n",
       "      <td>383906.000000</td>\n",
       "      <td>2393.833333</td>\n",
       "      <td>8942.000000</td>\n",
       "    </tr>\n",
       "  </tbody>\n",
       "</table>\n",
       "</div>"
      ],
      "text/plain": [
       "       first_triage_wait  first_dr_wait  first_adm_req_wait   waiting_time\n",
       "count      563201.000000  567093.000000        13025.000000  567157.000000\n",
       "mean           12.049663      76.159755           86.777925     165.726293\n",
       "std           512.257834     521.742708          286.538725     123.759873\n",
       "min        -11520.000000  -10009.000000        -1405.700000       1.000000\n",
       "25%             2.000000      26.000000           24.883333      84.000000\n",
       "50%             7.000000      59.000000           65.666667     155.000000\n",
       "75%            15.000000     110.000000          135.466667     223.000000\n",
       "max        383767.000000  383906.000000         2393.833333    8942.000000"
      ]
     },
     "execution_count": 272,
     "metadata": {},
     "output_type": "execute_result"
    }
   ],
   "source": [
    "pat[wait_cols].describe()"
   ]
  },
  {
   "cell_type": "markdown",
   "metadata": {},
   "source": [
    "Some of these massive wait times are due to errors in dates etc. Lets see how many have crazy wait times... "
   ]
  },
  {
   "cell_type": "code",
   "execution_count": 258,
   "metadata": {},
   "outputs": [],
   "source": [
    "pat_list = []"
   ]
  },
  {
   "cell_type": "code",
   "execution_count": 259,
   "metadata": {},
   "outputs": [],
   "source": [
    "cutoff_wait = 24*60"
   ]
  },
  {
   "cell_type": "code",
   "execution_count": 265,
   "metadata": {},
   "outputs": [
    {
     "data": {
      "text/html": [
       "<div>\n",
       "<style scoped>\n",
       "    .dataframe tbody tr th:only-of-type {\n",
       "        vertical-align: middle;\n",
       "    }\n",
       "\n",
       "    .dataframe tbody tr th {\n",
       "        vertical-align: top;\n",
       "    }\n",
       "\n",
       "    .dataframe thead th {\n",
       "        text-align: right;\n",
       "    }\n",
       "</style>\n",
       "<table border=\"1\" class=\"dataframe\">\n",
       "  <thead>\n",
       "    <tr style=\"text-align: right;\">\n",
       "      <th></th>\n",
       "      <th>arrive_datetime</th>\n",
       "      <th>first_triage_datetime</th>\n",
       "      <th>first_dr_datetime</th>\n",
       "      <th>first_adm_request_datetime</th>\n",
       "      <th>depart_datetime</th>\n",
       "    </tr>\n",
       "  </thead>\n",
       "  <tbody>\n",
       "    <tr>\n",
       "      <th>6138</th>\n",
       "      <td>2012-09-17 06:01:00</td>\n",
       "      <td>2013-06-10 18:08:00</td>\n",
       "      <td>2013-06-10 20:27:00</td>\n",
       "      <td>NaT</td>\n",
       "      <td>2012-09-17 09:00:00</td>\n",
       "    </tr>\n",
       "    <tr>\n",
       "      <th>74167</th>\n",
       "      <td>2014-01-29 04:18:00</td>\n",
       "      <td>2014-01-30 07:37:00</td>\n",
       "      <td>2014-01-29 05:17:00</td>\n",
       "      <td>NaT</td>\n",
       "      <td>2014-01-29 08:17:00</td>\n",
       "    </tr>\n",
       "    <tr>\n",
       "      <th>349109</th>\n",
       "      <td>2013-05-25 23:38:00</td>\n",
       "      <td>2013-05-26 23:50:00</td>\n",
       "      <td>2013-05-26 01:26:00</td>\n",
       "      <td>NaT</td>\n",
       "      <td>2013-05-26 01:32:00</td>\n",
       "    </tr>\n",
       "    <tr>\n",
       "      <th>363781</th>\n",
       "      <td>2013-09-30 21:40:00</td>\n",
       "      <td>2013-10-01 21:55:00</td>\n",
       "      <td>2013-09-30 22:01:00</td>\n",
       "      <td>NaT</td>\n",
       "      <td>2013-10-01 01:30:00</td>\n",
       "    </tr>\n",
       "    <tr>\n",
       "      <th>365425</th>\n",
       "      <td>2013-10-14 23:25:00</td>\n",
       "      <td>2013-10-15 23:56:00</td>\n",
       "      <td>2013-10-15 00:14:00</td>\n",
       "      <td>NaT</td>\n",
       "      <td>2013-10-15 03:19:00</td>\n",
       "    </tr>\n",
       "    <tr>\n",
       "      <th>365708</th>\n",
       "      <td>2013-10-17 23:34:00</td>\n",
       "      <td>2013-10-18 23:35:00</td>\n",
       "      <td>2013-10-18 00:55:00</td>\n",
       "      <td>NaT</td>\n",
       "      <td>2013-10-18 03:12:00</td>\n",
       "    </tr>\n",
       "    <tr>\n",
       "      <th>367104</th>\n",
       "      <td>2013-10-29 23:39:00</td>\n",
       "      <td>2013-10-30 23:45:00</td>\n",
       "      <td>2013-10-30 00:31:00</td>\n",
       "      <td>2013-10-30 00:29:14</td>\n",
       "      <td>2013-10-30 01:00:00</td>\n",
       "    </tr>\n",
       "    <tr>\n",
       "      <th>516809</th>\n",
       "      <td>2017-01-29 15:14:00</td>\n",
       "      <td>2017-01-30 15:43:00</td>\n",
       "      <td>2017-01-30 18:20:00</td>\n",
       "      <td>NaT</td>\n",
       "      <td>2017-01-30 19:15:00</td>\n",
       "    </tr>\n",
       "    <tr>\n",
       "      <th>557241</th>\n",
       "      <td>2017-11-27 18:12:00</td>\n",
       "      <td>2017-11-28 19:44:00</td>\n",
       "      <td>2017-11-27 21:00:00</td>\n",
       "      <td>NaT</td>\n",
       "      <td>2017-11-27 22:31:00</td>\n",
       "    </tr>\n",
       "    <tr>\n",
       "      <th>559583</th>\n",
       "      <td>2017-12-14 20:11:00</td>\n",
       "      <td>2017-12-15 20:35:00</td>\n",
       "      <td>2017-12-14 20:27:00</td>\n",
       "      <td>NaT</td>\n",
       "      <td>2017-12-14 20:49:00</td>\n",
       "    </tr>\n",
       "  </tbody>\n",
       "</table>\n",
       "</div>"
      ],
      "text/plain": [
       "           arrive_datetime first_triage_datetime   first_dr_datetime  \\\n",
       "6138   2012-09-17 06:01:00   2013-06-10 18:08:00 2013-06-10 20:27:00   \n",
       "74167  2014-01-29 04:18:00   2014-01-30 07:37:00 2014-01-29 05:17:00   \n",
       "349109 2013-05-25 23:38:00   2013-05-26 23:50:00 2013-05-26 01:26:00   \n",
       "363781 2013-09-30 21:40:00   2013-10-01 21:55:00 2013-09-30 22:01:00   \n",
       "365425 2013-10-14 23:25:00   2013-10-15 23:56:00 2013-10-15 00:14:00   \n",
       "365708 2013-10-17 23:34:00   2013-10-18 23:35:00 2013-10-18 00:55:00   \n",
       "367104 2013-10-29 23:39:00   2013-10-30 23:45:00 2013-10-30 00:31:00   \n",
       "516809 2017-01-29 15:14:00   2017-01-30 15:43:00 2017-01-30 18:20:00   \n",
       "557241 2017-11-27 18:12:00   2017-11-28 19:44:00 2017-11-27 21:00:00   \n",
       "559583 2017-12-14 20:11:00   2017-12-15 20:35:00 2017-12-14 20:27:00   \n",
       "\n",
       "       first_adm_request_datetime     depart_datetime  \n",
       "6138                          NaT 2012-09-17 09:00:00  \n",
       "74167                         NaT 2014-01-29 08:17:00  \n",
       "349109                        NaT 2013-05-26 01:32:00  \n",
       "363781                        NaT 2013-10-01 01:30:00  \n",
       "365425                        NaT 2013-10-15 03:19:00  \n",
       "365708                        NaT 2013-10-18 03:12:00  \n",
       "367104        2013-10-30 00:29:14 2013-10-30 01:00:00  \n",
       "516809                        NaT 2017-01-30 19:15:00  \n",
       "557241                        NaT 2017-11-27 22:31:00  \n",
       "559583                        NaT 2017-12-14 20:49:00  "
      ]
     },
     "execution_count": 265,
     "metadata": {},
     "output_type": "execute_result"
    }
   ],
   "source": [
    "pat[pat.first_triage_wait > cutoff_wait][dt_cols]"
   ]
  },
  {
   "cell_type": "code",
   "execution_count": 278,
   "metadata": {},
   "outputs": [
    {
     "data": {
      "text/html": [
       "<div>\n",
       "<style scoped>\n",
       "    .dataframe tbody tr th:only-of-type {\n",
       "        vertical-align: middle;\n",
       "    }\n",
       "\n",
       "    .dataframe tbody tr th {\n",
       "        vertical-align: top;\n",
       "    }\n",
       "\n",
       "    .dataframe thead th {\n",
       "        text-align: right;\n",
       "    }\n",
       "</style>\n",
       "<table border=\"1\" class=\"dataframe\">\n",
       "  <thead>\n",
       "    <tr style=\"text-align: right;\">\n",
       "      <th></th>\n",
       "      <th>arrive_datetime</th>\n",
       "      <th>first_triage_datetime</th>\n",
       "      <th>first_dr_datetime</th>\n",
       "      <th>first_adm_request_datetime</th>\n",
       "      <th>depart_datetime</th>\n",
       "    </tr>\n",
       "  </thead>\n",
       "  <tbody>\n",
       "    <tr>\n",
       "      <th>11665</th>\n",
       "      <td>2012-10-30 17:45:00</td>\n",
       "      <td>2012-10-30 17:35:00</td>\n",
       "      <td>2012-10-30 18:05:00</td>\n",
       "      <td>NaT</td>\n",
       "      <td>2012-10-30 20:57:00</td>\n",
       "    </tr>\n",
       "    <tr>\n",
       "      <th>12563</th>\n",
       "      <td>2012-11-07 08:50:00</td>\n",
       "      <td>2012-11-07 08:40:00</td>\n",
       "      <td>2012-11-07 09:54:00</td>\n",
       "      <td>NaT</td>\n",
       "      <td>2012-11-07 12:49:00</td>\n",
       "    </tr>\n",
       "    <tr>\n",
       "      <th>12655</th>\n",
       "      <td>2012-11-07 22:39:00</td>\n",
       "      <td>2012-11-07 21:55:00</td>\n",
       "      <td>2012-11-08 00:30:00</td>\n",
       "      <td>2012-11-08 02:08:38</td>\n",
       "      <td>2012-11-08 02:15:00</td>\n",
       "    </tr>\n",
       "    <tr>\n",
       "      <th>13346</th>\n",
       "      <td>2012-11-13 10:55:00</td>\n",
       "      <td>2012-11-13 10:50:00</td>\n",
       "      <td>2012-11-13 12:40:00</td>\n",
       "      <td>NaT</td>\n",
       "      <td>2012-11-13 14:44:00</td>\n",
       "    </tr>\n",
       "    <tr>\n",
       "      <th>13381</th>\n",
       "      <td>2012-11-13 14:34:00</td>\n",
       "      <td>2012-11-13 14:30:00</td>\n",
       "      <td>2012-11-13 15:00:00</td>\n",
       "      <td>NaT</td>\n",
       "      <td>2012-11-13 18:00:00</td>\n",
       "    </tr>\n",
       "    <tr>\n",
       "      <th>14252</th>\n",
       "      <td>2012-11-20 04:05:00</td>\n",
       "      <td>2012-11-20 04:00:00</td>\n",
       "      <td>2012-11-20 05:41:00</td>\n",
       "      <td>NaT</td>\n",
       "      <td>2012-11-20 07:52:00</td>\n",
       "    </tr>\n",
       "    <tr>\n",
       "      <th>14311</th>\n",
       "      <td>2012-11-20 15:52:00</td>\n",
       "      <td>2012-11-20 15:30:00</td>\n",
       "      <td>2012-11-20 16:44:00</td>\n",
       "      <td>NaT</td>\n",
       "      <td>2012-11-20 22:27:00</td>\n",
       "    </tr>\n",
       "    <tr>\n",
       "      <th>14359</th>\n",
       "      <td>2012-11-20 21:47:00</td>\n",
       "      <td>2012-11-20 21:45:00</td>\n",
       "      <td>2012-11-21 01:28:00</td>\n",
       "      <td>NaT</td>\n",
       "      <td>2012-11-21 02:30:00</td>\n",
       "    </tr>\n",
       "    <tr>\n",
       "      <th>14626</th>\n",
       "      <td>2012-11-23 03:30:00</td>\n",
       "      <td>2012-11-23 03:25:00</td>\n",
       "      <td>2012-11-23 03:32:00</td>\n",
       "      <td>NaT</td>\n",
       "      <td>2012-11-23 09:30:00</td>\n",
       "    </tr>\n",
       "    <tr>\n",
       "      <th>14695</th>\n",
       "      <td>2012-11-23 17:35:00</td>\n",
       "      <td>2012-11-23 17:15:00</td>\n",
       "      <td>2012-11-23 18:54:00</td>\n",
       "      <td>NaT</td>\n",
       "      <td>2012-11-23 20:29:00</td>\n",
       "    </tr>\n",
       "    <tr>\n",
       "      <th>14724</th>\n",
       "      <td>2012-11-23 21:51:00</td>\n",
       "      <td>2012-11-23 00:40:00</td>\n",
       "      <td>2012-11-23 23:56:00</td>\n",
       "      <td>2012-11-24 01:20:27</td>\n",
       "      <td>2012-11-24 01:41:00</td>\n",
       "    </tr>\n",
       "    <tr>\n",
       "      <th>15389</th>\n",
       "      <td>2012-11-29 11:51:00</td>\n",
       "      <td>2012-11-29 11:40:00</td>\n",
       "      <td>2012-11-29 12:05:00</td>\n",
       "      <td>NaT</td>\n",
       "      <td>2012-11-29 15:49:00</td>\n",
       "    </tr>\n",
       "    <tr>\n",
       "      <th>15390</th>\n",
       "      <td>2012-11-29 11:59:00</td>\n",
       "      <td>2012-11-29 11:49:00</td>\n",
       "      <td>2012-11-29 13:50:00</td>\n",
       "      <td>NaT</td>\n",
       "      <td>2012-11-29 17:30:00</td>\n",
       "    </tr>\n",
       "    <tr>\n",
       "      <th>15396</th>\n",
       "      <td>2012-11-29 13:26:00</td>\n",
       "      <td>2012-11-29 13:20:00</td>\n",
       "      <td>2012-11-29 14:05:00</td>\n",
       "      <td>NaT</td>\n",
       "      <td>2012-11-29 16:24:00</td>\n",
       "    </tr>\n",
       "    <tr>\n",
       "      <th>15453</th>\n",
       "      <td>2012-11-29 21:35:00</td>\n",
       "      <td>2012-11-29 21:30:00</td>\n",
       "      <td>2012-11-30 00:31:00</td>\n",
       "      <td>2012-11-30 01:32:16</td>\n",
       "      <td>2012-11-30 01:34:00</td>\n",
       "    </tr>\n",
       "    <tr>\n",
       "      <th>15641</th>\n",
       "      <td>2012-12-01 14:00:00</td>\n",
       "      <td>2012-12-01 13:55:00</td>\n",
       "      <td>2012-12-01 16:06:00</td>\n",
       "      <td>NaT</td>\n",
       "      <td>2012-12-01 17:57:00</td>\n",
       "    </tr>\n",
       "    <tr>\n",
       "      <th>15669</th>\n",
       "      <td>2012-12-01 18:44:00</td>\n",
       "      <td>2012-12-01 18:25:00</td>\n",
       "      <td>2012-12-01 19:02:00</td>\n",
       "      <td>NaT</td>\n",
       "      <td>2012-12-01 20:21:00</td>\n",
       "    </tr>\n",
       "    <tr>\n",
       "      <th>15686</th>\n",
       "      <td>2012-12-01 22:22:00</td>\n",
       "      <td>2012-12-01 22:20:00</td>\n",
       "      <td>2012-12-02 00:00:00</td>\n",
       "      <td>NaT</td>\n",
       "      <td>2012-12-02 00:45:00</td>\n",
       "    </tr>\n",
       "    <tr>\n",
       "      <th>16853</th>\n",
       "      <td>2012-12-11 00:30:00</td>\n",
       "      <td>2012-12-10 00:30:00</td>\n",
       "      <td>2012-12-11 03:51:00</td>\n",
       "      <td>NaT</td>\n",
       "      <td>2012-12-11 04:30:00</td>\n",
       "    </tr>\n",
       "    <tr>\n",
       "      <th>17475</th>\n",
       "      <td>2012-12-16 12:20:00</td>\n",
       "      <td>2012-12-16 12:10:00</td>\n",
       "      <td>2012-12-16 13:28:00</td>\n",
       "      <td>NaT</td>\n",
       "      <td>2012-12-16 16:10:00</td>\n",
       "    </tr>\n",
       "    <tr>\n",
       "      <th>19087</th>\n",
       "      <td>2012-12-30 03:35:00</td>\n",
       "      <td>2012-12-30 03:25:00</td>\n",
       "      <td>2012-12-30 06:01:00</td>\n",
       "      <td>NaT</td>\n",
       "      <td>2012-12-30 09:11:00</td>\n",
       "    </tr>\n",
       "    <tr>\n",
       "      <th>19325</th>\n",
       "      <td>2013-01-01 01:11:00</td>\n",
       "      <td>2013-01-01 01:10:00</td>\n",
       "      <td>2013-01-01 03:06:00</td>\n",
       "      <td>NaT</td>\n",
       "      <td>2013-01-01 03:17:00</td>\n",
       "    </tr>\n",
       "    <tr>\n",
       "      <th>19390</th>\n",
       "      <td>2013-01-01 15:36:00</td>\n",
       "      <td>2013-01-01 15:30:00</td>\n",
       "      <td>2013-01-01 16:12:00</td>\n",
       "      <td>NaT</td>\n",
       "      <td>2013-01-01 21:34:00</td>\n",
       "    </tr>\n",
       "    <tr>\n",
       "      <th>20281</th>\n",
       "      <td>2013-01-09 09:55:00</td>\n",
       "      <td>2013-01-09 09:50:00</td>\n",
       "      <td>2013-01-09 10:32:00</td>\n",
       "      <td>NaT</td>\n",
       "      <td>2013-01-09 15:00:00</td>\n",
       "    </tr>\n",
       "    <tr>\n",
       "      <th>20344</th>\n",
       "      <td>2013-01-09 20:00:00</td>\n",
       "      <td>2013-01-09 19:50:00</td>\n",
       "      <td>2013-01-09 20:51:00</td>\n",
       "      <td>NaT</td>\n",
       "      <td>2013-01-09 22:00:00</td>\n",
       "    </tr>\n",
       "    <tr>\n",
       "      <th>20481</th>\n",
       "      <td>2013-01-11 02:15:00</td>\n",
       "      <td>2013-01-11 02:05:00</td>\n",
       "      <td>2013-01-11 04:40:00</td>\n",
       "      <td>NaT</td>\n",
       "      <td>2013-01-11 10:43:00</td>\n",
       "    </tr>\n",
       "    <tr>\n",
       "      <th>20552</th>\n",
       "      <td>2013-01-11 17:00:00</td>\n",
       "      <td>2013-01-11 16:55:00</td>\n",
       "      <td>2013-01-11 18:30:00</td>\n",
       "      <td>NaT</td>\n",
       "      <td>2013-01-11 20:52:00</td>\n",
       "    </tr>\n",
       "    <tr>\n",
       "      <th>20581</th>\n",
       "      <td>2013-01-11 23:29:00</td>\n",
       "      <td>2013-01-11 23:25:00</td>\n",
       "      <td>2013-01-12 01:20:00</td>\n",
       "      <td>NaT</td>\n",
       "      <td>2013-01-12 02:52:00</td>\n",
       "    </tr>\n",
       "    <tr>\n",
       "      <th>20629</th>\n",
       "      <td>2013-01-12 14:40:00</td>\n",
       "      <td>2013-01-12 13:40:00</td>\n",
       "      <td>2013-01-12 15:55:00</td>\n",
       "      <td>NaT</td>\n",
       "      <td>2013-01-12 17:47:00</td>\n",
       "    </tr>\n",
       "    <tr>\n",
       "      <th>21015</th>\n",
       "      <td>2013-01-15 17:53:00</td>\n",
       "      <td>2013-01-15 17:42:00</td>\n",
       "      <td>2013-01-15 18:30:00</td>\n",
       "      <td>NaT</td>\n",
       "      <td>2013-01-15 21:52:00</td>\n",
       "    </tr>\n",
       "    <tr>\n",
       "      <th>...</th>\n",
       "      <td>...</td>\n",
       "      <td>...</td>\n",
       "      <td>...</td>\n",
       "      <td>...</td>\n",
       "      <td>...</td>\n",
       "    </tr>\n",
       "    <tr>\n",
       "      <th>530980</th>\n",
       "      <td>2017-05-19 22:42:00</td>\n",
       "      <td>2017-05-19 22:41:00</td>\n",
       "      <td>2017-05-20 01:15:00</td>\n",
       "      <td>NaT</td>\n",
       "      <td>2017-05-20 02:01:00</td>\n",
       "    </tr>\n",
       "    <tr>\n",
       "      <th>531076</th>\n",
       "      <td>2017-05-20 17:33:00</td>\n",
       "      <td>2017-05-20 17:30:00</td>\n",
       "      <td>2017-05-20 19:12:00</td>\n",
       "      <td>NaT</td>\n",
       "      <td>2017-05-20 21:23:00</td>\n",
       "    </tr>\n",
       "    <tr>\n",
       "      <th>531173</th>\n",
       "      <td>2017-05-21 12:29:00</td>\n",
       "      <td>2017-05-21 12:25:00</td>\n",
       "      <td>2017-05-21 12:34:00</td>\n",
       "      <td>NaT</td>\n",
       "      <td>2017-05-21 15:00:00</td>\n",
       "    </tr>\n",
       "    <tr>\n",
       "      <th>531586</th>\n",
       "      <td>2017-05-24 11:00:00</td>\n",
       "      <td>2017-05-24 08:48:00</td>\n",
       "      <td>2017-05-24 12:07:00</td>\n",
       "      <td>NaT</td>\n",
       "      <td>2017-05-24 13:47:00</td>\n",
       "    </tr>\n",
       "    <tr>\n",
       "      <th>532253</th>\n",
       "      <td>2017-05-29 13:00:00</td>\n",
       "      <td>2017-05-29 12:50:00</td>\n",
       "      <td>2017-05-29 13:49:00</td>\n",
       "      <td>NaT</td>\n",
       "      <td>2017-05-29 14:54:00</td>\n",
       "    </tr>\n",
       "    <tr>\n",
       "      <th>532268</th>\n",
       "      <td>2017-05-29 14:30:00</td>\n",
       "      <td>2017-05-29 14:15:00</td>\n",
       "      <td>2017-05-29 16:00:00</td>\n",
       "      <td>NaT</td>\n",
       "      <td>2017-05-29 18:28:00</td>\n",
       "    </tr>\n",
       "    <tr>\n",
       "      <th>533295</th>\n",
       "      <td>2017-06-06 04:45:00</td>\n",
       "      <td>2017-06-06 04:35:00</td>\n",
       "      <td>2017-06-06 05:07:00</td>\n",
       "      <td>NaT</td>\n",
       "      <td>2017-06-06 07:57:00</td>\n",
       "    </tr>\n",
       "    <tr>\n",
       "      <th>533297</th>\n",
       "      <td>2017-06-06 05:53:00</td>\n",
       "      <td>2017-06-06 05:50:00</td>\n",
       "      <td>2017-06-06 06:37:00</td>\n",
       "      <td>NaT</td>\n",
       "      <td>2017-06-06 09:38:00</td>\n",
       "    </tr>\n",
       "    <tr>\n",
       "      <th>533516</th>\n",
       "      <td>2017-06-07 21:08:00</td>\n",
       "      <td>2017-06-07 21:00:00</td>\n",
       "      <td>2017-06-07 22:24:00</td>\n",
       "      <td>NaT</td>\n",
       "      <td>2017-06-07 23:45:00</td>\n",
       "    </tr>\n",
       "    <tr>\n",
       "      <th>533536</th>\n",
       "      <td>2017-06-08 00:18:00</td>\n",
       "      <td>2017-06-08 00:15:00</td>\n",
       "      <td>2017-06-08 01:51:00</td>\n",
       "      <td>NaT</td>\n",
       "      <td>2017-06-08 04:09:00</td>\n",
       "    </tr>\n",
       "    <tr>\n",
       "      <th>533608</th>\n",
       "      <td>2017-06-08 17:58:00</td>\n",
       "      <td>2017-06-08 16:25:00</td>\n",
       "      <td>2017-06-08 19:55:00</td>\n",
       "      <td>NaT</td>\n",
       "      <td>2017-06-08 21:50:00</td>\n",
       "    </tr>\n",
       "    <tr>\n",
       "      <th>533645</th>\n",
       "      <td>2017-06-08 22:37:00</td>\n",
       "      <td>2017-06-08 22:32:00</td>\n",
       "      <td>2017-06-09 00:28:00</td>\n",
       "      <td>2017-06-09 00:51:48</td>\n",
       "      <td>2017-06-09 02:15:00</td>\n",
       "    </tr>\n",
       "    <tr>\n",
       "      <th>534486</th>\n",
       "      <td>2017-06-14 18:53:00</td>\n",
       "      <td>2017-06-14 18:40:00</td>\n",
       "      <td>2017-06-14 19:11:00</td>\n",
       "      <td>NaT</td>\n",
       "      <td>2017-06-14 22:50:00</td>\n",
       "    </tr>\n",
       "    <tr>\n",
       "      <th>534580</th>\n",
       "      <td>2017-06-15 11:30:00</td>\n",
       "      <td>2017-06-15 11:25:00</td>\n",
       "      <td>2017-06-15 13:09:00</td>\n",
       "      <td>NaT</td>\n",
       "      <td>2017-06-15 15:25:00</td>\n",
       "    </tr>\n",
       "    <tr>\n",
       "      <th>535680</th>\n",
       "      <td>2017-06-22 22:41:00</td>\n",
       "      <td>2017-06-22 22:30:00</td>\n",
       "      <td>2017-06-22 23:51:00</td>\n",
       "      <td>NaT</td>\n",
       "      <td>2017-06-23 02:00:00</td>\n",
       "    </tr>\n",
       "    <tr>\n",
       "      <th>535859</th>\n",
       "      <td>2017-06-24 08:33:00</td>\n",
       "      <td>2017-06-24 08:30:00</td>\n",
       "      <td>2017-06-24 09:19:00</td>\n",
       "      <td>NaT</td>\n",
       "      <td>2017-06-24 12:52:00</td>\n",
       "    </tr>\n",
       "    <tr>\n",
       "      <th>536005</th>\n",
       "      <td>2017-06-25 04:54:00</td>\n",
       "      <td>2017-06-25 04:51:00</td>\n",
       "      <td>2017-06-25 05:59:00</td>\n",
       "      <td>NaT</td>\n",
       "      <td>2017-06-25 10:45:00</td>\n",
       "    </tr>\n",
       "    <tr>\n",
       "      <th>536006</th>\n",
       "      <td>2017-06-25 05:44:00</td>\n",
       "      <td>2017-06-25 05:30:00</td>\n",
       "      <td>2017-06-25 06:31:00</td>\n",
       "      <td>NaT</td>\n",
       "      <td>2017-06-25 11:36:00</td>\n",
       "    </tr>\n",
       "    <tr>\n",
       "      <th>536061</th>\n",
       "      <td>2017-06-25 13:04:00</td>\n",
       "      <td>2017-06-25 13:00:00</td>\n",
       "      <td>2017-06-25 16:20:00</td>\n",
       "      <td>NaT</td>\n",
       "      <td>2017-06-25 19:20:00</td>\n",
       "    </tr>\n",
       "    <tr>\n",
       "      <th>537033</th>\n",
       "      <td>2017-07-02 15:46:00</td>\n",
       "      <td>2017-07-02 15:40:00</td>\n",
       "      <td>2017-07-02 15:55:00</td>\n",
       "      <td>NaT</td>\n",
       "      <td>2017-07-02 18:24:00</td>\n",
       "    </tr>\n",
       "    <tr>\n",
       "      <th>538023</th>\n",
       "      <td>2017-07-09 18:45:00</td>\n",
       "      <td>2017-07-09 18:35:00</td>\n",
       "      <td>2017-07-09 20:49:00</td>\n",
       "      <td>NaT</td>\n",
       "      <td>2017-07-09 21:01:00</td>\n",
       "    </tr>\n",
       "    <tr>\n",
       "      <th>538051</th>\n",
       "      <td>2017-07-09 21:58:00</td>\n",
       "      <td>2017-07-09 21:50:00</td>\n",
       "      <td>2017-07-09 23:51:00</td>\n",
       "      <td>2017-07-10 00:34:07</td>\n",
       "      <td>2017-07-10 01:45:00</td>\n",
       "    </tr>\n",
       "    <tr>\n",
       "      <th>538073</th>\n",
       "      <td>2017-07-10 05:34:00</td>\n",
       "      <td>2017-07-10 05:30:00</td>\n",
       "      <td>2017-07-10 05:52:00</td>\n",
       "      <td>NaT</td>\n",
       "      <td>2017-07-10 07:40:00</td>\n",
       "    </tr>\n",
       "    <tr>\n",
       "      <th>538731</th>\n",
       "      <td>2017-07-15 02:27:00</td>\n",
       "      <td>2017-07-15 02:15:00</td>\n",
       "      <td>2017-07-15 06:21:00</td>\n",
       "      <td>NaT</td>\n",
       "      <td>2017-07-15 07:05:00</td>\n",
       "    </tr>\n",
       "    <tr>\n",
       "      <th>538973</th>\n",
       "      <td>2017-07-16 15:26:00</td>\n",
       "      <td>2017-07-16 15:20:00</td>\n",
       "      <td>2017-07-16 15:36:00</td>\n",
       "      <td>NaT</td>\n",
       "      <td>2017-07-16 19:10:00</td>\n",
       "    </tr>\n",
       "    <tr>\n",
       "      <th>539061</th>\n",
       "      <td>2017-07-17 05:58:00</td>\n",
       "      <td>2017-07-17 05:45:00</td>\n",
       "      <td>2017-07-17 08:10:00</td>\n",
       "      <td>NaT</td>\n",
       "      <td>2017-07-17 10:40:00</td>\n",
       "    </tr>\n",
       "    <tr>\n",
       "      <th>539108</th>\n",
       "      <td>2017-07-17 12:05:00</td>\n",
       "      <td>2017-07-17 11:55:00</td>\n",
       "      <td>2017-07-17 13:10:00</td>\n",
       "      <td>NaT</td>\n",
       "      <td>2017-07-17 13:52:00</td>\n",
       "    </tr>\n",
       "    <tr>\n",
       "      <th>552843</th>\n",
       "      <td>2017-10-26 20:13:00</td>\n",
       "      <td>2017-10-26 20:05:00</td>\n",
       "      <td>2017-10-26 20:21:00</td>\n",
       "      <td>NaT</td>\n",
       "      <td>2017-10-26 21:28:00</td>\n",
       "    </tr>\n",
       "    <tr>\n",
       "      <th>560550</th>\n",
       "      <td>2017-12-21 23:09:00</td>\n",
       "      <td>2017-12-21 22:50:00</td>\n",
       "      <td>2017-12-22 01:08:00</td>\n",
       "      <td>NaT</td>\n",
       "      <td>2017-12-22 03:45:00</td>\n",
       "    </tr>\n",
       "    <tr>\n",
       "      <th>560553</th>\n",
       "      <td>2017-12-21 23:23:00</td>\n",
       "      <td>2017-12-21 23:20:00</td>\n",
       "      <td>2017-12-22 01:29:00</td>\n",
       "      <td>NaT</td>\n",
       "      <td>2017-12-22 01:50:00</td>\n",
       "    </tr>\n",
       "  </tbody>\n",
       "</table>\n",
       "<p>2803 rows × 5 columns</p>\n",
       "</div>"
      ],
      "text/plain": [
       "           arrive_datetime first_triage_datetime   first_dr_datetime  \\\n",
       "11665  2012-10-30 17:45:00   2012-10-30 17:35:00 2012-10-30 18:05:00   \n",
       "12563  2012-11-07 08:50:00   2012-11-07 08:40:00 2012-11-07 09:54:00   \n",
       "12655  2012-11-07 22:39:00   2012-11-07 21:55:00 2012-11-08 00:30:00   \n",
       "13346  2012-11-13 10:55:00   2012-11-13 10:50:00 2012-11-13 12:40:00   \n",
       "13381  2012-11-13 14:34:00   2012-11-13 14:30:00 2012-11-13 15:00:00   \n",
       "14252  2012-11-20 04:05:00   2012-11-20 04:00:00 2012-11-20 05:41:00   \n",
       "14311  2012-11-20 15:52:00   2012-11-20 15:30:00 2012-11-20 16:44:00   \n",
       "14359  2012-11-20 21:47:00   2012-11-20 21:45:00 2012-11-21 01:28:00   \n",
       "14626  2012-11-23 03:30:00   2012-11-23 03:25:00 2012-11-23 03:32:00   \n",
       "14695  2012-11-23 17:35:00   2012-11-23 17:15:00 2012-11-23 18:54:00   \n",
       "14724  2012-11-23 21:51:00   2012-11-23 00:40:00 2012-11-23 23:56:00   \n",
       "15389  2012-11-29 11:51:00   2012-11-29 11:40:00 2012-11-29 12:05:00   \n",
       "15390  2012-11-29 11:59:00   2012-11-29 11:49:00 2012-11-29 13:50:00   \n",
       "15396  2012-11-29 13:26:00   2012-11-29 13:20:00 2012-11-29 14:05:00   \n",
       "15453  2012-11-29 21:35:00   2012-11-29 21:30:00 2012-11-30 00:31:00   \n",
       "15641  2012-12-01 14:00:00   2012-12-01 13:55:00 2012-12-01 16:06:00   \n",
       "15669  2012-12-01 18:44:00   2012-12-01 18:25:00 2012-12-01 19:02:00   \n",
       "15686  2012-12-01 22:22:00   2012-12-01 22:20:00 2012-12-02 00:00:00   \n",
       "16853  2012-12-11 00:30:00   2012-12-10 00:30:00 2012-12-11 03:51:00   \n",
       "17475  2012-12-16 12:20:00   2012-12-16 12:10:00 2012-12-16 13:28:00   \n",
       "19087  2012-12-30 03:35:00   2012-12-30 03:25:00 2012-12-30 06:01:00   \n",
       "19325  2013-01-01 01:11:00   2013-01-01 01:10:00 2013-01-01 03:06:00   \n",
       "19390  2013-01-01 15:36:00   2013-01-01 15:30:00 2013-01-01 16:12:00   \n",
       "20281  2013-01-09 09:55:00   2013-01-09 09:50:00 2013-01-09 10:32:00   \n",
       "20344  2013-01-09 20:00:00   2013-01-09 19:50:00 2013-01-09 20:51:00   \n",
       "20481  2013-01-11 02:15:00   2013-01-11 02:05:00 2013-01-11 04:40:00   \n",
       "20552  2013-01-11 17:00:00   2013-01-11 16:55:00 2013-01-11 18:30:00   \n",
       "20581  2013-01-11 23:29:00   2013-01-11 23:25:00 2013-01-12 01:20:00   \n",
       "20629  2013-01-12 14:40:00   2013-01-12 13:40:00 2013-01-12 15:55:00   \n",
       "21015  2013-01-15 17:53:00   2013-01-15 17:42:00 2013-01-15 18:30:00   \n",
       "...                    ...                   ...                 ...   \n",
       "530980 2017-05-19 22:42:00   2017-05-19 22:41:00 2017-05-20 01:15:00   \n",
       "531076 2017-05-20 17:33:00   2017-05-20 17:30:00 2017-05-20 19:12:00   \n",
       "531173 2017-05-21 12:29:00   2017-05-21 12:25:00 2017-05-21 12:34:00   \n",
       "531586 2017-05-24 11:00:00   2017-05-24 08:48:00 2017-05-24 12:07:00   \n",
       "532253 2017-05-29 13:00:00   2017-05-29 12:50:00 2017-05-29 13:49:00   \n",
       "532268 2017-05-29 14:30:00   2017-05-29 14:15:00 2017-05-29 16:00:00   \n",
       "533295 2017-06-06 04:45:00   2017-06-06 04:35:00 2017-06-06 05:07:00   \n",
       "533297 2017-06-06 05:53:00   2017-06-06 05:50:00 2017-06-06 06:37:00   \n",
       "533516 2017-06-07 21:08:00   2017-06-07 21:00:00 2017-06-07 22:24:00   \n",
       "533536 2017-06-08 00:18:00   2017-06-08 00:15:00 2017-06-08 01:51:00   \n",
       "533608 2017-06-08 17:58:00   2017-06-08 16:25:00 2017-06-08 19:55:00   \n",
       "533645 2017-06-08 22:37:00   2017-06-08 22:32:00 2017-06-09 00:28:00   \n",
       "534486 2017-06-14 18:53:00   2017-06-14 18:40:00 2017-06-14 19:11:00   \n",
       "534580 2017-06-15 11:30:00   2017-06-15 11:25:00 2017-06-15 13:09:00   \n",
       "535680 2017-06-22 22:41:00   2017-06-22 22:30:00 2017-06-22 23:51:00   \n",
       "535859 2017-06-24 08:33:00   2017-06-24 08:30:00 2017-06-24 09:19:00   \n",
       "536005 2017-06-25 04:54:00   2017-06-25 04:51:00 2017-06-25 05:59:00   \n",
       "536006 2017-06-25 05:44:00   2017-06-25 05:30:00 2017-06-25 06:31:00   \n",
       "536061 2017-06-25 13:04:00   2017-06-25 13:00:00 2017-06-25 16:20:00   \n",
       "537033 2017-07-02 15:46:00   2017-07-02 15:40:00 2017-07-02 15:55:00   \n",
       "538023 2017-07-09 18:45:00   2017-07-09 18:35:00 2017-07-09 20:49:00   \n",
       "538051 2017-07-09 21:58:00   2017-07-09 21:50:00 2017-07-09 23:51:00   \n",
       "538073 2017-07-10 05:34:00   2017-07-10 05:30:00 2017-07-10 05:52:00   \n",
       "538731 2017-07-15 02:27:00   2017-07-15 02:15:00 2017-07-15 06:21:00   \n",
       "538973 2017-07-16 15:26:00   2017-07-16 15:20:00 2017-07-16 15:36:00   \n",
       "539061 2017-07-17 05:58:00   2017-07-17 05:45:00 2017-07-17 08:10:00   \n",
       "539108 2017-07-17 12:05:00   2017-07-17 11:55:00 2017-07-17 13:10:00   \n",
       "552843 2017-10-26 20:13:00   2017-10-26 20:05:00 2017-10-26 20:21:00   \n",
       "560550 2017-12-21 23:09:00   2017-12-21 22:50:00 2017-12-22 01:08:00   \n",
       "560553 2017-12-21 23:23:00   2017-12-21 23:20:00 2017-12-22 01:29:00   \n",
       "\n",
       "       first_adm_request_datetime     depart_datetime  \n",
       "11665                         NaT 2012-10-30 20:57:00  \n",
       "12563                         NaT 2012-11-07 12:49:00  \n",
       "12655         2012-11-08 02:08:38 2012-11-08 02:15:00  \n",
       "13346                         NaT 2012-11-13 14:44:00  \n",
       "13381                         NaT 2012-11-13 18:00:00  \n",
       "14252                         NaT 2012-11-20 07:52:00  \n",
       "14311                         NaT 2012-11-20 22:27:00  \n",
       "14359                         NaT 2012-11-21 02:30:00  \n",
       "14626                         NaT 2012-11-23 09:30:00  \n",
       "14695                         NaT 2012-11-23 20:29:00  \n",
       "14724         2012-11-24 01:20:27 2012-11-24 01:41:00  \n",
       "15389                         NaT 2012-11-29 15:49:00  \n",
       "15390                         NaT 2012-11-29 17:30:00  \n",
       "15396                         NaT 2012-11-29 16:24:00  \n",
       "15453         2012-11-30 01:32:16 2012-11-30 01:34:00  \n",
       "15641                         NaT 2012-12-01 17:57:00  \n",
       "15669                         NaT 2012-12-01 20:21:00  \n",
       "15686                         NaT 2012-12-02 00:45:00  \n",
       "16853                         NaT 2012-12-11 04:30:00  \n",
       "17475                         NaT 2012-12-16 16:10:00  \n",
       "19087                         NaT 2012-12-30 09:11:00  \n",
       "19325                         NaT 2013-01-01 03:17:00  \n",
       "19390                         NaT 2013-01-01 21:34:00  \n",
       "20281                         NaT 2013-01-09 15:00:00  \n",
       "20344                         NaT 2013-01-09 22:00:00  \n",
       "20481                         NaT 2013-01-11 10:43:00  \n",
       "20552                         NaT 2013-01-11 20:52:00  \n",
       "20581                         NaT 2013-01-12 02:52:00  \n",
       "20629                         NaT 2013-01-12 17:47:00  \n",
       "21015                         NaT 2013-01-15 21:52:00  \n",
       "...                           ...                 ...  \n",
       "530980                        NaT 2017-05-20 02:01:00  \n",
       "531076                        NaT 2017-05-20 21:23:00  \n",
       "531173                        NaT 2017-05-21 15:00:00  \n",
       "531586                        NaT 2017-05-24 13:47:00  \n",
       "532253                        NaT 2017-05-29 14:54:00  \n",
       "532268                        NaT 2017-05-29 18:28:00  \n",
       "533295                        NaT 2017-06-06 07:57:00  \n",
       "533297                        NaT 2017-06-06 09:38:00  \n",
       "533516                        NaT 2017-06-07 23:45:00  \n",
       "533536                        NaT 2017-06-08 04:09:00  \n",
       "533608                        NaT 2017-06-08 21:50:00  \n",
       "533645        2017-06-09 00:51:48 2017-06-09 02:15:00  \n",
       "534486                        NaT 2017-06-14 22:50:00  \n",
       "534580                        NaT 2017-06-15 15:25:00  \n",
       "535680                        NaT 2017-06-23 02:00:00  \n",
       "535859                        NaT 2017-06-24 12:52:00  \n",
       "536005                        NaT 2017-06-25 10:45:00  \n",
       "536006                        NaT 2017-06-25 11:36:00  \n",
       "536061                        NaT 2017-06-25 19:20:00  \n",
       "537033                        NaT 2017-07-02 18:24:00  \n",
       "538023                        NaT 2017-07-09 21:01:00  \n",
       "538051        2017-07-10 00:34:07 2017-07-10 01:45:00  \n",
       "538073                        NaT 2017-07-10 07:40:00  \n",
       "538731                        NaT 2017-07-15 07:05:00  \n",
       "538973                        NaT 2017-07-16 19:10:00  \n",
       "539061                        NaT 2017-07-17 10:40:00  \n",
       "539108                        NaT 2017-07-17 13:52:00  \n",
       "552843                        NaT 2017-10-26 21:28:00  \n",
       "560550                        NaT 2017-12-22 03:45:00  \n",
       "560553                        NaT 2017-12-22 01:50:00  \n",
       "\n",
       "[2803 rows x 5 columns]"
      ]
     },
     "execution_count": 278,
     "metadata": {},
     "output_type": "execute_result"
    }
   ],
   "source": [
    "pat[pat.first_triage_wait < 0][dt_cols]"
   ]
  },
  {
   "cell_type": "code",
   "execution_count": 261,
   "metadata": {},
   "outputs": [
    {
     "data": {
      "text/html": [
       "<div>\n",
       "<style scoped>\n",
       "    .dataframe tbody tr th:only-of-type {\n",
       "        vertical-align: middle;\n",
       "    }\n",
       "\n",
       "    .dataframe tbody tr th {\n",
       "        vertical-align: top;\n",
       "    }\n",
       "\n",
       "    .dataframe thead th {\n",
       "        text-align: right;\n",
       "    }\n",
       "</style>\n",
       "<table border=\"1\" class=\"dataframe\">\n",
       "  <thead>\n",
       "    <tr style=\"text-align: right;\">\n",
       "      <th></th>\n",
       "      <th>arrive_datetime</th>\n",
       "      <th>first_triage_datetime</th>\n",
       "      <th>first_dr_datetime</th>\n",
       "      <th>first_adm_request_datetime</th>\n",
       "      <th>depart_datetime</th>\n",
       "    </tr>\n",
       "  </thead>\n",
       "  <tbody>\n",
       "    <tr>\n",
       "      <th>2679</th>\n",
       "      <td>2012-08-21 23:10:00</td>\n",
       "      <td>2012-08-21 23:11:00</td>\n",
       "      <td>2012-08-22 23:30:00</td>\n",
       "      <td>NaT</td>\n",
       "      <td>2012-08-22 01:09:00</td>\n",
       "    </tr>\n",
       "    <tr>\n",
       "      <th>6138</th>\n",
       "      <td>2012-09-17 06:01:00</td>\n",
       "      <td>2013-06-10 18:08:00</td>\n",
       "      <td>2013-06-10 20:27:00</td>\n",
       "      <td>NaT</td>\n",
       "      <td>2012-09-17 09:00:00</td>\n",
       "    </tr>\n",
       "    <tr>\n",
       "      <th>26436</th>\n",
       "      <td>2013-02-28 21:06:00</td>\n",
       "      <td>2013-02-28 21:18:00</td>\n",
       "      <td>2013-03-01 22:10:00</td>\n",
       "      <td>NaT</td>\n",
       "      <td>2013-02-28 22:10:00</td>\n",
       "    </tr>\n",
       "    <tr>\n",
       "      <th>27107</th>\n",
       "      <td>2013-03-05 21:35:00</td>\n",
       "      <td>2013-03-05 21:43:00</td>\n",
       "      <td>2013-03-06 21:50:00</td>\n",
       "      <td>NaT</td>\n",
       "      <td>2013-03-05 21:50:00</td>\n",
       "    </tr>\n",
       "    <tr>\n",
       "      <th>27967</th>\n",
       "      <td>2013-03-11 23:03:00</td>\n",
       "      <td>2013-03-11 23:15:00</td>\n",
       "      <td>2013-03-12 23:30:00</td>\n",
       "      <td>NaT</td>\n",
       "      <td>2013-03-12 01:06:00</td>\n",
       "    </tr>\n",
       "    <tr>\n",
       "      <th>28493</th>\n",
       "      <td>2013-03-16 06:45:00</td>\n",
       "      <td>2013-03-16 06:45:00</td>\n",
       "      <td>2013-03-17 08:25:00</td>\n",
       "      <td>NaT</td>\n",
       "      <td>2013-03-16 06:46:00</td>\n",
       "    </tr>\n",
       "    <tr>\n",
       "      <th>28858</th>\n",
       "      <td>2013-03-18 22:26:00</td>\n",
       "      <td>2013-03-18 22:37:00</td>\n",
       "      <td>2013-03-19 22:37:00</td>\n",
       "      <td>2013-03-19 01:38:45</td>\n",
       "      <td>2013-03-19 01:54:00</td>\n",
       "    </tr>\n",
       "    <tr>\n",
       "      <th>146849</th>\n",
       "      <td>2015-05-06 14:25:00</td>\n",
       "      <td>NaT</td>\n",
       "      <td>2015-05-15 08:11:00</td>\n",
       "      <td>NaT</td>\n",
       "      <td>2015-05-06 19:18:00</td>\n",
       "    </tr>\n",
       "    <tr>\n",
       "      <th>147440</th>\n",
       "      <td>2015-05-10 12:11:00</td>\n",
       "      <td>2015-05-10 12:11:00</td>\n",
       "      <td>2015-05-11 13:50:00</td>\n",
       "      <td>NaT</td>\n",
       "      <td>2015-05-10 13:50:00</td>\n",
       "    </tr>\n",
       "    <tr>\n",
       "      <th>150663</th>\n",
       "      <td>2015-05-30 11:32:00</td>\n",
       "      <td>2015-05-30 11:40:00</td>\n",
       "      <td>2015-05-31 11:44:00</td>\n",
       "      <td>NaT</td>\n",
       "      <td>2015-05-30 11:44:00</td>\n",
       "    </tr>\n",
       "    <tr>\n",
       "      <th>150843</th>\n",
       "      <td>2015-05-31 13:05:00</td>\n",
       "      <td>2015-05-31 13:05:00</td>\n",
       "      <td>2015-06-02 22:10:00</td>\n",
       "      <td>NaT</td>\n",
       "      <td>2015-05-31 13:25:00</td>\n",
       "    </tr>\n",
       "    <tr>\n",
       "      <th>212589</th>\n",
       "      <td>2016-06-13 18:59:00</td>\n",
       "      <td>NaT</td>\n",
       "      <td>2016-06-15 08:04:00</td>\n",
       "      <td>NaT</td>\n",
       "      <td>2016-06-15 08:04:00</td>\n",
       "    </tr>\n",
       "    <tr>\n",
       "      <th>301708</th>\n",
       "      <td>2017-11-22 15:04:00</td>\n",
       "      <td>NaT</td>\n",
       "      <td>2017-11-24 16:05:00</td>\n",
       "      <td>NaT</td>\n",
       "      <td>2017-11-24 16:12:00</td>\n",
       "    </tr>\n",
       "    <tr>\n",
       "      <th>339953</th>\n",
       "      <td>2013-03-09 14:50:00</td>\n",
       "      <td>2013-03-09 15:35:00</td>\n",
       "      <td>2013-03-10 18:30:00</td>\n",
       "      <td>NaT</td>\n",
       "      <td>2013-03-09 19:32:00</td>\n",
       "    </tr>\n",
       "    <tr>\n",
       "      <th>346272</th>\n",
       "      <td>2013-05-01 22:17:00</td>\n",
       "      <td>2013-05-01 22:57:00</td>\n",
       "      <td>2013-05-02 23:45:00</td>\n",
       "      <td>NaT</td>\n",
       "      <td>2013-05-01 23:45:00</td>\n",
       "    </tr>\n",
       "    <tr>\n",
       "      <th>346274</th>\n",
       "      <td>2013-05-01 22:34:00</td>\n",
       "      <td>2013-05-01 23:32:00</td>\n",
       "      <td>2013-05-02 23:32:00</td>\n",
       "      <td>NaT</td>\n",
       "      <td>2013-05-01 23:45:00</td>\n",
       "    </tr>\n",
       "    <tr>\n",
       "      <th>346360</th>\n",
       "      <td>2013-05-02 18:46:00</td>\n",
       "      <td>2013-05-02 19:03:00</td>\n",
       "      <td>2013-05-03 22:30:00</td>\n",
       "      <td>NaT</td>\n",
       "      <td>2013-05-02 23:34:00</td>\n",
       "    </tr>\n",
       "    <tr>\n",
       "      <th>360837</th>\n",
       "      <td>2013-09-04 16:23:00</td>\n",
       "      <td>2013-09-04 16:26:00</td>\n",
       "      <td>2013-09-05 18:58:00</td>\n",
       "      <td>NaT</td>\n",
       "      <td>2013-09-04 19:47:00</td>\n",
       "    </tr>\n",
       "    <tr>\n",
       "      <th>368569</th>\n",
       "      <td>2013-11-12 05:38:00</td>\n",
       "      <td>2013-11-12 05:38:00</td>\n",
       "      <td>2013-11-14 08:19:00</td>\n",
       "      <td>NaT</td>\n",
       "      <td>2013-11-12 09:37:00</td>\n",
       "    </tr>\n",
       "    <tr>\n",
       "      <th>375080</th>\n",
       "      <td>2014-01-09 16:53:00</td>\n",
       "      <td>2014-01-09 17:15:00</td>\n",
       "      <td>2014-01-10 18:30:00</td>\n",
       "      <td>NaT</td>\n",
       "      <td>2014-01-09 20:29:00</td>\n",
       "    </tr>\n",
       "    <tr>\n",
       "      <th>376971</th>\n",
       "      <td>2014-01-26 21:30:00</td>\n",
       "      <td>2014-01-26 21:30:00</td>\n",
       "      <td>2014-01-27 23:50:00</td>\n",
       "      <td>NaT</td>\n",
       "      <td>2014-01-27 01:20:00</td>\n",
       "    </tr>\n",
       "    <tr>\n",
       "      <th>442017</th>\n",
       "      <td>2015-07-14 21:12:00</td>\n",
       "      <td>2015-07-14 21:19:00</td>\n",
       "      <td>2015-07-15 23:50:00</td>\n",
       "      <td>2015-07-15 00:54:16</td>\n",
       "      <td>2015-07-15 04:50:00</td>\n",
       "    </tr>\n",
       "    <tr>\n",
       "      <th>475792</th>\n",
       "      <td>2016-03-29 09:48:00</td>\n",
       "      <td>NaT</td>\n",
       "      <td>2016-03-31 08:31:00</td>\n",
       "      <td>NaT</td>\n",
       "      <td>2016-03-29 12:28:00</td>\n",
       "    </tr>\n",
       "    <tr>\n",
       "      <th>503537</th>\n",
       "      <td>2016-10-20 17:24:00</td>\n",
       "      <td>2016-10-20 17:24:00</td>\n",
       "      <td>2016-12-05 11:25:00</td>\n",
       "      <td>NaT</td>\n",
       "      <td>2016-10-20 21:20:00</td>\n",
       "    </tr>\n",
       "    <tr>\n",
       "      <th>516103</th>\n",
       "      <td>2017-01-24 10:42:00</td>\n",
       "      <td>NaT</td>\n",
       "      <td>2017-01-30 10:40:00</td>\n",
       "      <td>NaT</td>\n",
       "      <td>2017-01-24 15:55:00</td>\n",
       "    </tr>\n",
       "    <tr>\n",
       "      <th>516809</th>\n",
       "      <td>2017-01-29 15:14:00</td>\n",
       "      <td>2017-01-30 15:43:00</td>\n",
       "      <td>2017-01-30 18:20:00</td>\n",
       "      <td>NaT</td>\n",
       "      <td>2017-01-30 19:15:00</td>\n",
       "    </tr>\n",
       "    <tr>\n",
       "      <th>538308</th>\n",
       "      <td>2017-07-11 17:27:00</td>\n",
       "      <td>2017-07-11 17:41:00</td>\n",
       "      <td>2017-07-12 17:41:00</td>\n",
       "      <td>NaT</td>\n",
       "      <td>2017-07-11 17:48:00</td>\n",
       "    </tr>\n",
       "    <tr>\n",
       "      <th>538915</th>\n",
       "      <td>2017-07-16 09:37:00</td>\n",
       "      <td>NaT</td>\n",
       "      <td>2017-07-17 17:02:00</td>\n",
       "      <td>NaT</td>\n",
       "      <td>2017-07-17 11:46:00</td>\n",
       "    </tr>\n",
       "    <tr>\n",
       "      <th>545332</th>\n",
       "      <td>2017-09-02 17:25:00</td>\n",
       "      <td>2017-09-02 18:00:00</td>\n",
       "      <td>2017-09-03 18:00:00</td>\n",
       "      <td>NaT</td>\n",
       "      <td>2017-09-02 18:00:00</td>\n",
       "    </tr>\n",
       "    <tr>\n",
       "      <th>547659</th>\n",
       "      <td>2017-09-20 17:03:00</td>\n",
       "      <td>2017-09-20 17:11:00</td>\n",
       "      <td>2017-09-21 19:00:00</td>\n",
       "      <td>NaT</td>\n",
       "      <td>2017-09-20 17:11:00</td>\n",
       "    </tr>\n",
       "    <tr>\n",
       "      <th>548247</th>\n",
       "      <td>2017-09-24 15:56:00</td>\n",
       "      <td>2017-09-24 16:17:00</td>\n",
       "      <td>2017-09-25 16:32:00</td>\n",
       "      <td>NaT</td>\n",
       "      <td>2017-09-24 16:32:00</td>\n",
       "    </tr>\n",
       "    <tr>\n",
       "      <th>552512</th>\n",
       "      <td>2017-10-24 13:34:00</td>\n",
       "      <td>2017-10-24 13:44:00</td>\n",
       "      <td>2017-10-26 16:23:00</td>\n",
       "      <td>NaT</td>\n",
       "      <td>2017-10-24 16:23:00</td>\n",
       "    </tr>\n",
       "    <tr>\n",
       "      <th>558997</th>\n",
       "      <td>2017-12-10 18:18:00</td>\n",
       "      <td>2017-12-10 18:20:00</td>\n",
       "      <td>2017-12-11 18:30:00</td>\n",
       "      <td>NaT</td>\n",
       "      <td>2017-12-10 18:33:00</td>\n",
       "    </tr>\n",
       "    <tr>\n",
       "      <th>560826</th>\n",
       "      <td>2017-12-24 08:07:00</td>\n",
       "      <td>NaT</td>\n",
       "      <td>2017-12-27 09:00:00</td>\n",
       "      <td>NaT</td>\n",
       "      <td>2017-12-24 08:16:00</td>\n",
       "    </tr>\n",
       "    <tr>\n",
       "      <th>560976</th>\n",
       "      <td>2017-12-25 07:54:00</td>\n",
       "      <td>NaT</td>\n",
       "      <td>2017-12-27 09:36:00</td>\n",
       "      <td>NaT</td>\n",
       "      <td>2017-12-27 10:37:00</td>\n",
       "    </tr>\n",
       "    <tr>\n",
       "      <th>561114</th>\n",
       "      <td>2017-12-26 08:03:00</td>\n",
       "      <td>NaT</td>\n",
       "      <td>2017-12-27 10:38:00</td>\n",
       "      <td>NaT</td>\n",
       "      <td>2017-12-27 11:28:00</td>\n",
       "    </tr>\n",
       "    <tr>\n",
       "      <th>566375</th>\n",
       "      <td>2018-02-03 15:41:00</td>\n",
       "      <td>2018-02-03 15:56:00</td>\n",
       "      <td>2018-02-05 04:05:00</td>\n",
       "      <td>NaT</td>\n",
       "      <td>2018-02-03 16:11:00</td>\n",
       "    </tr>\n",
       "    <tr>\n",
       "      <th>566383</th>\n",
       "      <td>2018-02-03 16:32:00</td>\n",
       "      <td>2018-02-03 16:39:00</td>\n",
       "      <td>2018-02-05 04:07:00</td>\n",
       "      <td>NaT</td>\n",
       "      <td>2018-02-03 16:39:00</td>\n",
       "    </tr>\n",
       "    <tr>\n",
       "      <th>566391</th>\n",
       "      <td>2018-02-03 17:14:00</td>\n",
       "      <td>2018-02-03 17:35:00</td>\n",
       "      <td>2018-02-05 04:08:00</td>\n",
       "      <td>NaT</td>\n",
       "      <td>2018-02-03 17:35:00</td>\n",
       "    </tr>\n",
       "    <tr>\n",
       "      <th>566399</th>\n",
       "      <td>2018-02-03 18:12:00</td>\n",
       "      <td>2018-02-03 18:43:00</td>\n",
       "      <td>2018-02-05 04:08:00</td>\n",
       "      <td>NaT</td>\n",
       "      <td>2018-02-03 18:43:00</td>\n",
       "    </tr>\n",
       "    <tr>\n",
       "      <th>566400</th>\n",
       "      <td>2018-02-03 18:16:00</td>\n",
       "      <td>2018-02-03 18:46:00</td>\n",
       "      <td>2018-02-05 04:09:00</td>\n",
       "      <td>NaT</td>\n",
       "      <td>2018-02-03 18:46:00</td>\n",
       "    </tr>\n",
       "  </tbody>\n",
       "</table>\n",
       "</div>"
      ],
      "text/plain": [
       "           arrive_datetime first_triage_datetime   first_dr_datetime  \\\n",
       "2679   2012-08-21 23:10:00   2012-08-21 23:11:00 2012-08-22 23:30:00   \n",
       "6138   2012-09-17 06:01:00   2013-06-10 18:08:00 2013-06-10 20:27:00   \n",
       "26436  2013-02-28 21:06:00   2013-02-28 21:18:00 2013-03-01 22:10:00   \n",
       "27107  2013-03-05 21:35:00   2013-03-05 21:43:00 2013-03-06 21:50:00   \n",
       "27967  2013-03-11 23:03:00   2013-03-11 23:15:00 2013-03-12 23:30:00   \n",
       "28493  2013-03-16 06:45:00   2013-03-16 06:45:00 2013-03-17 08:25:00   \n",
       "28858  2013-03-18 22:26:00   2013-03-18 22:37:00 2013-03-19 22:37:00   \n",
       "146849 2015-05-06 14:25:00                   NaT 2015-05-15 08:11:00   \n",
       "147440 2015-05-10 12:11:00   2015-05-10 12:11:00 2015-05-11 13:50:00   \n",
       "150663 2015-05-30 11:32:00   2015-05-30 11:40:00 2015-05-31 11:44:00   \n",
       "150843 2015-05-31 13:05:00   2015-05-31 13:05:00 2015-06-02 22:10:00   \n",
       "212589 2016-06-13 18:59:00                   NaT 2016-06-15 08:04:00   \n",
       "301708 2017-11-22 15:04:00                   NaT 2017-11-24 16:05:00   \n",
       "339953 2013-03-09 14:50:00   2013-03-09 15:35:00 2013-03-10 18:30:00   \n",
       "346272 2013-05-01 22:17:00   2013-05-01 22:57:00 2013-05-02 23:45:00   \n",
       "346274 2013-05-01 22:34:00   2013-05-01 23:32:00 2013-05-02 23:32:00   \n",
       "346360 2013-05-02 18:46:00   2013-05-02 19:03:00 2013-05-03 22:30:00   \n",
       "360837 2013-09-04 16:23:00   2013-09-04 16:26:00 2013-09-05 18:58:00   \n",
       "368569 2013-11-12 05:38:00   2013-11-12 05:38:00 2013-11-14 08:19:00   \n",
       "375080 2014-01-09 16:53:00   2014-01-09 17:15:00 2014-01-10 18:30:00   \n",
       "376971 2014-01-26 21:30:00   2014-01-26 21:30:00 2014-01-27 23:50:00   \n",
       "442017 2015-07-14 21:12:00   2015-07-14 21:19:00 2015-07-15 23:50:00   \n",
       "475792 2016-03-29 09:48:00                   NaT 2016-03-31 08:31:00   \n",
       "503537 2016-10-20 17:24:00   2016-10-20 17:24:00 2016-12-05 11:25:00   \n",
       "516103 2017-01-24 10:42:00                   NaT 2017-01-30 10:40:00   \n",
       "516809 2017-01-29 15:14:00   2017-01-30 15:43:00 2017-01-30 18:20:00   \n",
       "538308 2017-07-11 17:27:00   2017-07-11 17:41:00 2017-07-12 17:41:00   \n",
       "538915 2017-07-16 09:37:00                   NaT 2017-07-17 17:02:00   \n",
       "545332 2017-09-02 17:25:00   2017-09-02 18:00:00 2017-09-03 18:00:00   \n",
       "547659 2017-09-20 17:03:00   2017-09-20 17:11:00 2017-09-21 19:00:00   \n",
       "548247 2017-09-24 15:56:00   2017-09-24 16:17:00 2017-09-25 16:32:00   \n",
       "552512 2017-10-24 13:34:00   2017-10-24 13:44:00 2017-10-26 16:23:00   \n",
       "558997 2017-12-10 18:18:00   2017-12-10 18:20:00 2017-12-11 18:30:00   \n",
       "560826 2017-12-24 08:07:00                   NaT 2017-12-27 09:00:00   \n",
       "560976 2017-12-25 07:54:00                   NaT 2017-12-27 09:36:00   \n",
       "561114 2017-12-26 08:03:00                   NaT 2017-12-27 10:38:00   \n",
       "566375 2018-02-03 15:41:00   2018-02-03 15:56:00 2018-02-05 04:05:00   \n",
       "566383 2018-02-03 16:32:00   2018-02-03 16:39:00 2018-02-05 04:07:00   \n",
       "566391 2018-02-03 17:14:00   2018-02-03 17:35:00 2018-02-05 04:08:00   \n",
       "566399 2018-02-03 18:12:00   2018-02-03 18:43:00 2018-02-05 04:08:00   \n",
       "566400 2018-02-03 18:16:00   2018-02-03 18:46:00 2018-02-05 04:09:00   \n",
       "\n",
       "       first_adm_request_datetime     depart_datetime  \n",
       "2679                          NaT 2012-08-22 01:09:00  \n",
       "6138                          NaT 2012-09-17 09:00:00  \n",
       "26436                         NaT 2013-02-28 22:10:00  \n",
       "27107                         NaT 2013-03-05 21:50:00  \n",
       "27967                         NaT 2013-03-12 01:06:00  \n",
       "28493                         NaT 2013-03-16 06:46:00  \n",
       "28858         2013-03-19 01:38:45 2013-03-19 01:54:00  \n",
       "146849                        NaT 2015-05-06 19:18:00  \n",
       "147440                        NaT 2015-05-10 13:50:00  \n",
       "150663                        NaT 2015-05-30 11:44:00  \n",
       "150843                        NaT 2015-05-31 13:25:00  \n",
       "212589                        NaT 2016-06-15 08:04:00  \n",
       "301708                        NaT 2017-11-24 16:12:00  \n",
       "339953                        NaT 2013-03-09 19:32:00  \n",
       "346272                        NaT 2013-05-01 23:45:00  \n",
       "346274                        NaT 2013-05-01 23:45:00  \n",
       "346360                        NaT 2013-05-02 23:34:00  \n",
       "360837                        NaT 2013-09-04 19:47:00  \n",
       "368569                        NaT 2013-11-12 09:37:00  \n",
       "375080                        NaT 2014-01-09 20:29:00  \n",
       "376971                        NaT 2014-01-27 01:20:00  \n",
       "442017        2015-07-15 00:54:16 2015-07-15 04:50:00  \n",
       "475792                        NaT 2016-03-29 12:28:00  \n",
       "503537                        NaT 2016-10-20 21:20:00  \n",
       "516103                        NaT 2017-01-24 15:55:00  \n",
       "516809                        NaT 2017-01-30 19:15:00  \n",
       "538308                        NaT 2017-07-11 17:48:00  \n",
       "538915                        NaT 2017-07-17 11:46:00  \n",
       "545332                        NaT 2017-09-02 18:00:00  \n",
       "547659                        NaT 2017-09-20 17:11:00  \n",
       "548247                        NaT 2017-09-24 16:32:00  \n",
       "552512                        NaT 2017-10-24 16:23:00  \n",
       "558997                        NaT 2017-12-10 18:33:00  \n",
       "560826                        NaT 2017-12-24 08:16:00  \n",
       "560976                        NaT 2017-12-27 10:37:00  \n",
       "561114                        NaT 2017-12-27 11:28:00  \n",
       "566375                        NaT 2018-02-03 16:11:00  \n",
       "566383                        NaT 2018-02-03 16:39:00  \n",
       "566391                        NaT 2018-02-03 17:35:00  \n",
       "566399                        NaT 2018-02-03 18:43:00  \n",
       "566400                        NaT 2018-02-03 18:46:00  "
      ]
     },
     "execution_count": 261,
     "metadata": {},
     "output_type": "execute_result"
    }
   ],
   "source": [
    "pat[pat.first_dr_wait > cutoff_wait][dt_cols]"
   ]
  },
  {
   "cell_type": "code",
   "execution_count": 262,
   "metadata": {},
   "outputs": [
    {
     "data": {
      "text/html": [
       "<div>\n",
       "<style scoped>\n",
       "    .dataframe tbody tr th:only-of-type {\n",
       "        vertical-align: middle;\n",
       "    }\n",
       "\n",
       "    .dataframe tbody tr th {\n",
       "        vertical-align: top;\n",
       "    }\n",
       "\n",
       "    .dataframe thead th {\n",
       "        text-align: right;\n",
       "    }\n",
       "</style>\n",
       "<table border=\"1\" class=\"dataframe\">\n",
       "  <thead>\n",
       "    <tr style=\"text-align: right;\">\n",
       "      <th></th>\n",
       "      <th>arrive_datetime</th>\n",
       "      <th>first_triage_datetime</th>\n",
       "      <th>first_dr_datetime</th>\n",
       "      <th>first_adm_request_datetime</th>\n",
       "      <th>depart_datetime</th>\n",
       "    </tr>\n",
       "  </thead>\n",
       "  <tbody>\n",
       "  </tbody>\n",
       "</table>\n",
       "</div>"
      ],
      "text/plain": [
       "Empty DataFrame\n",
       "Columns: [arrive_datetime, first_triage_datetime, first_dr_datetime, first_adm_request_datetime, depart_datetime]\n",
       "Index: []"
      ]
     },
     "execution_count": 262,
     "metadata": {},
     "output_type": "execute_result"
    }
   ],
   "source": [
    "pat[pat.first_adm_req_wait > cutoff_wait][dt_cols]"
   ]
  },
  {
   "cell_type": "code",
   "execution_count": null,
   "metadata": {},
   "outputs": [],
   "source": []
  },
  {
   "cell_type": "code",
   "execution_count": null,
   "metadata": {},
   "outputs": [],
   "source": []
  },
  {
   "cell_type": "code",
   "execution_count": null,
   "metadata": {},
   "outputs": [],
   "source": []
  },
  {
   "cell_type": "code",
   "execution_count": null,
   "metadata": {},
   "outputs": [],
   "source": []
  },
  {
   "cell_type": "code",
   "execution_count": 27,
   "metadata": {},
   "outputs": [
    {
     "data": {
      "image/png": "[encoded data removed]",
      "text/plain": [
       "<matplotlib.figure.Figure at 0x164004c3470>"
      ]
     },
     "metadata": {},
     "output_type": "display_data"
    }
   ],
   "source": [
    "ax = plt.subplot();\n",
    "pat.waiting_time.hist(bins=50,ax=ax);\n",
    "ax.set_xlabel('Waiting time (mins)');\n",
    "ax.set_ylabel('Frequency');"
   ]
  },
  {
   "cell_type": "code",
   "execution_count": 34,
   "metadata": {},
   "outputs": [
    {
     "data": {
      "text/plain": [
       "<matplotlib.legend.Legend at 0x164006e06d8>"
      ]
     },
     "execution_count": 34,
     "metadata": {},
     "output_type": "execute_result"
    },
    {
     "data": {
      "image/png": "[encoded data removed]",
      "text/plain": [
       "<matplotlib.figure.Figure at 0x1640068b6d8>"
      ]
     },
     "metadata": {},
     "output_type": "display_data"
    }
   ],
   "source": [
    "ax = plt.subplot();\n",
    "\n",
    "UQR = pat[['waiting_time','arrive_hour']].groupby(['arrive_hour']).quantile(0.75)\n",
    "LQR = pat[['waiting_time','arrive_hour']].groupby(['arrive_hour']).quantile(0.25)\n",
    "\n",
    "ax.fill_between(x = UQR.index,y1=UQR['waiting_time'],y2=LQR['waiting_time'],alpha=0.3)\n",
    "pat[['waiting_time','arrive_hour']].groupby(['arrive_hour']).median().plot(ax=ax,color='r')\n",
    "ax.set_ylabel('Median wait time (mins)');\n",
    "ax.legend(['median','IQR'],frameon=True)"
   ]
  },
  {
   "cell_type": "code",
   "execution_count": 215,
   "metadata": {},
   "outputs": [
    {
     "data": {
      "text/plain": [
       "1440"
      ]
     },
     "execution_count": 215,
     "metadata": {},
     "output_type": "execute_result"
    }
   ],
   "source": [
    "24*60"
   ]
  },
  {
   "cell_type": "markdown",
   "metadata": {},
   "source": [
    "create mask for hist - some very long wait times squew plots massively"
   ]
  },
  {
   "cell_type": "code",
   "execution_count": 220,
   "metadata": {},
   "outputs": [],
   "source": [
    "mask = pat.waiting_time < 1000"
   ]
  },
  {
   "cell_type": "code",
   "execution_count": 221,
   "metadata": {},
   "outputs": [
    {
     "data": {
      "image/png": "[encoded data removed]",
      "text/plain": [
       "<matplotlib.figure.Figure at 0x1643f2f8da0>"
      ]
     },
     "metadata": {},
     "output_type": "display_data"
    }
   ],
   "source": [
    "ax = plt.subplot();\n",
    "pat[mask].waiting_time.hist(bins=50,ax=ax);\n",
    "ax.set_xlabel('Waiting time (mins)');\n",
    "ax.set_ylabel('Frequency');"
   ]
  },
  {
   "cell_type": "code",
   "execution_count": 222,
   "metadata": {},
   "outputs": [
    {
     "data": {
      "image/png": "[encoded data removed]",
      "text/plain": [
       "<matplotlib.figure.Figure at 0x1643f415588>"
      ]
     },
     "metadata": {},
     "output_type": "display_data"
    }
   ],
   "source": [
    "ax = plt.subplot();\n",
    "pat[mask].first_triage_wait.hist(bins=50,ax=ax);\n",
    "ax.set_xlabel('Waiting time (mins)');\n",
    "ax.set_ylabel('Frequency');"
   ]
  },
  {
   "cell_type": "code",
   "execution_count": 205,
   "metadata": {},
   "outputs": [
    {
     "data": {
      "text/plain": [
       "8942.0"
      ]
     },
     "execution_count": 205,
     "metadata": {},
     "output_type": "execute_result"
    }
   ],
   "source": [
    "pat.waiting_time.max()"
   ]
  },
  {
   "cell_type": "markdown",
   "metadata": {},
   "source": [
    "### admissions breakdown by time waiting for per speciality"
   ]
  },
  {
   "cell_type": "code",
   "execution_count": 206,
   "metadata": {},
   "outputs": [
    {
     "data": {
      "text/plain": [
       "149.03333333333333"
      ]
     },
     "execution_count": 206,
     "metadata": {},
     "output_type": "execute_result"
    }
   ],
   "source": [
    "8942/60"
   ]
  },
  {
   "cell_type": "code",
   "execution_count": null,
   "metadata": {},
   "outputs": [],
   "source": []
  },
  {
   "cell_type": "code",
   "execution_count": null,
   "metadata": {},
   "outputs": [],
   "source": []
  },
  {
   "cell_type": "markdown",
   "metadata": {},
   "source": [
    "#### function to select dates - return df"
   ]
  },
  {
   "cell_type": "code",
   "execution_count": 86,
   "metadata": {},
   "outputs": [],
   "source": [
    "start_date = pd.datetime(2012,12,31)\n",
    "end_date =  pd.datetime(2018,12,31)\n",
    "\n",
    "mask = (pat['arrive_datetime'] > start_date) & (pat['arrive_datetime'] <= end_date)"
   ]
  },
  {
   "cell_type": "code",
   "execution_count": null,
   "metadata": {},
   "outputs": [],
   "source": []
  },
  {
   "cell_type": "code",
   "execution_count": 87,
   "metadata": {},
   "outputs": [
    {
     "data": {
      "text/html": [
       "<div>\n",
       "<style scoped>\n",
       "    .dataframe tbody tr th:only-of-type {\n",
       "        vertical-align: middle;\n",
       "    }\n",
       "\n",
       "    .dataframe tbody tr th {\n",
       "        vertical-align: top;\n",
       "    }\n",
       "\n",
       "    .dataframe thead th {\n",
       "        text-align: right;\n",
       "    }\n",
       "</style>\n",
       "<table border=\"1\" class=\"dataframe\">\n",
       "  <thead>\n",
       "    <tr style=\"text-align: right;\">\n",
       "      <th></th>\n",
       "      <th>hosp_patid</th>\n",
       "      <th>age</th>\n",
       "      <th>gender</th>\n",
       "      <th>site</th>\n",
       "      <th>arrive_datetime</th>\n",
       "      <th>arrive_mode</th>\n",
       "      <th>first_triage_datetime</th>\n",
       "      <th>first_dr_datetime</th>\n",
       "      <th>first_adm_request_time</th>\n",
       "      <th>adm_referral_loc</th>\n",
       "      <th>...</th>\n",
       "      <th>waiting_time</th>\n",
       "      <th>breach_flag</th>\n",
       "      <th>arrive_hour</th>\n",
       "      <th>arrive_dayofweek</th>\n",
       "      <th>arrive_month</th>\n",
       "      <th>arrive_weekday_name</th>\n",
       "      <th>depart_hour</th>\n",
       "      <th>depart_dayofweek</th>\n",
       "      <th>depart_month</th>\n",
       "      <th>depart_weekday_name</th>\n",
       "    </tr>\n",
       "    <tr>\n",
       "      <th>arrive_date</th>\n",
       "      <th></th>\n",
       "      <th></th>\n",
       "      <th></th>\n",
       "      <th></th>\n",
       "      <th></th>\n",
       "      <th></th>\n",
       "      <th></th>\n",
       "      <th></th>\n",
       "      <th></th>\n",
       "      <th></th>\n",
       "      <th></th>\n",
       "      <th></th>\n",
       "      <th></th>\n",
       "      <th></th>\n",
       "      <th></th>\n",
       "      <th></th>\n",
       "      <th></th>\n",
       "      <th></th>\n",
       "      <th></th>\n",
       "      <th></th>\n",
       "      <th></th>\n",
       "    </tr>\n",
       "  </thead>\n",
       "  <tbody>\n",
       "    <tr>\n",
       "      <th>2012-12-31</th>\n",
       "      <td>223</td>\n",
       "      <td>223</td>\n",
       "      <td>223</td>\n",
       "      <td>223</td>\n",
       "      <td>223</td>\n",
       "      <td>221</td>\n",
       "      <td>221</td>\n",
       "      <td>223</td>\n",
       "      <td>66</td>\n",
       "      <td>65</td>\n",
       "      <td>...</td>\n",
       "      <td>223</td>\n",
       "      <td>223</td>\n",
       "      <td>223</td>\n",
       "      <td>223</td>\n",
       "      <td>223</td>\n",
       "      <td>223</td>\n",
       "      <td>223</td>\n",
       "      <td>223</td>\n",
       "      <td>223</td>\n",
       "      <td>223</td>\n",
       "    </tr>\n",
       "  </tbody>\n",
       "</table>\n",
       "<p>1 rows × 23 columns</p>\n",
       "</div>"
      ],
      "text/plain": [
       "             hosp_patid  age  gender  site  arrive_datetime  arrive_mode  \\\n",
       "arrive_date                                                                \n",
       "2012-12-31          223  223     223   223              223          221   \n",
       "\n",
       "             first_triage_datetime  first_dr_datetime  first_adm_request_time  \\\n",
       "arrive_date                                                                     \n",
       "2012-12-31                     221                223                      66   \n",
       "\n",
       "             adm_referral_loc         ...           waiting_time  breach_flag  \\\n",
       "arrive_date                           ...                                       \n",
       "2012-12-31                 65         ...                    223          223   \n",
       "\n",
       "             arrive_hour  arrive_dayofweek  arrive_month  arrive_weekday_name  \\\n",
       "arrive_date                                                                     \n",
       "2012-12-31           223               223           223                  223   \n",
       "\n",
       "             depart_hour  depart_dayofweek  depart_month  depart_weekday_name  \n",
       "arrive_date                                                                    \n",
       "2012-12-31           223               223           223                  223  \n",
       "\n",
       "[1 rows x 23 columns]"
      ]
     },
     "execution_count": 87,
     "metadata": {},
     "output_type": "execute_result"
    }
   ],
   "source": [
    "pat[mask].groupby(['arrive_date']).count().head(1)"
   ]
  },
  {
   "cell_type": "markdown",
   "metadata": {},
   "source": [
    "# functions to call plotting"
   ]
  },
  {
   "cell_type": "code",
   "execution_count": 88,
   "metadata": {},
   "outputs": [
    {
     "ename": "IndentationError",
     "evalue": "expected an indented block (<ipython-input-88-ddef4a270f57>, line 5)",
     "output_type": "error",
     "traceback": [
      "\u001b[1;36m  File \u001b[1;32m\"<ipython-input-88-ddef4a270f57>\"\u001b[1;36m, line \u001b[1;32m5\u001b[0m\n\u001b[1;33m    if include_days != None:\u001b[0m\n\u001b[1;37m     ^\u001b[0m\n\u001b[1;31mIndentationError\u001b[0m\u001b[1;31m:\u001b[0m expected an indented block\n"
     ]
    }
   ],
   "source": [
    "def plot(df,include_dow=None,include_dates=None, include_months= None, include_years=None):\n",
    "    if include_dates != None:\n",
    "        # call date selection function, retunr df2\n",
    "    \n",
    "    if include_dow != None:\n",
    "        # call day selection function, return df2\n",
    "        \n",
    "    #etc \n",
    "        \n",
    "    # do plotting on df2 - groupbys\n",
    "    # save plots out (how choose filenames)"
   ]
  },
  {
   "cell_type": "code",
   "execution_count": null,
   "metadata": {},
   "outputs": [],
   "source": []
  },
  {
   "cell_type": "code",
   "execution_count": null,
   "metadata": {},
   "outputs": [],
   "source": []
  },
  {
   "cell_type": "markdown",
   "metadata": {},
   "source": [
    "# dev"
   ]
  },
  {
   "cell_type": "code",
   "execution_count": null,
   "metadata": {},
   "outputs": [],
   "source": [
    "break"
   ]
  },
  {
   "cell_type": "code",
   "execution_count": 483,
   "metadata": {},
   "outputs": [],
   "source": [
    "path = './../../3_Data/HH_ED_Flow_Study.csv'"
   ]
  },
  {
   "cell_type": "code",
   "execution_count": 516,
   "metadata": {},
   "outputs": [],
   "source": [
    "df = pd.read_csv(path,\n",
    "        low_memory=False)"
   ]
  },
  {
   "cell_type": "code",
   "execution_count": 486,
   "metadata": {},
   "outputs": [],
   "source": [
    "dt_cols = []\n",
    "for i in df.columns:\n",
    "    if 'DTTM' in i:\n",
    "        dt_cols.append(i)"
   ]
  },
  {
   "cell_type": "code",
   "execution_count": 490,
   "metadata": {},
   "outputs": [
    {
     "data": {
      "text/html": [
       "<div>\n",
       "<style scoped>\n",
       "    .dataframe tbody tr th:only-of-type {\n",
       "        vertical-align: middle;\n",
       "    }\n",
       "\n",
       "    .dataframe tbody tr th {\n",
       "        vertical-align: top;\n",
       "    }\n",
       "\n",
       "    .dataframe thead th {\n",
       "        text-align: right;\n",
       "    }\n",
       "</style>\n",
       "<table border=\"1\" class=\"dataframe\">\n",
       "  <thead>\n",
       "    <tr style=\"text-align: right;\">\n",
       "      <th></th>\n",
       "      <th>ARRIVAL_DTTM</th>\n",
       "      <th>INITIAL_ASSESSMENT_DTTM</th>\n",
       "      <th>SEEN_FOR_TREATMENT_DTTM</th>\n",
       "      <th>ATTENDANCE_CONCLUSION_DTTM</th>\n",
       "    </tr>\n",
       "  </thead>\n",
       "  <tbody>\n",
       "    <tr>\n",
       "      <th>0</th>\n",
       "      <td>01/08/2012 00:04</td>\n",
       "      <td>01/08/2012 00:18</td>\n",
       "      <td>01/08/2012 02:24</td>\n",
       "      <td>01/08/2012 03:44</td>\n",
       "    </tr>\n",
       "    <tr>\n",
       "      <th>1</th>\n",
       "      <td>01/08/2012 00:37</td>\n",
       "      <td>01/08/2012 00:53</td>\n",
       "      <td>01/08/2012 02:43</td>\n",
       "      <td>01/08/2012 04:08</td>\n",
       "    </tr>\n",
       "    <tr>\n",
       "      <th>2</th>\n",
       "      <td>01/08/2012 00:55</td>\n",
       "      <td>01/08/2012 01:00</td>\n",
       "      <td>01/08/2012 01:24</td>\n",
       "      <td>01/08/2012 02:54</td>\n",
       "    </tr>\n",
       "    <tr>\n",
       "      <th>3</th>\n",
       "      <td>01/08/2012 00:58</td>\n",
       "      <td>01/08/2012 01:01</td>\n",
       "      <td>01/08/2012 02:04</td>\n",
       "      <td>01/08/2012 03:22</td>\n",
       "    </tr>\n",
       "    <tr>\n",
       "      <th>4</th>\n",
       "      <td>01/08/2012 01:40</td>\n",
       "      <td>01/08/2012 01:55</td>\n",
       "      <td>01/08/2012 02:27</td>\n",
       "      <td>01/08/2012 03:53</td>\n",
       "    </tr>\n",
       "    <tr>\n",
       "      <th>5</th>\n",
       "      <td>01/08/2012 02:25</td>\n",
       "      <td>01/08/2012 02:39</td>\n",
       "      <td>01/08/2012 03:38</td>\n",
       "      <td>01/08/2012 05:15</td>\n",
       "    </tr>\n",
       "    <tr>\n",
       "      <th>6</th>\n",
       "      <td>01/08/2012 02:47</td>\n",
       "      <td>01/08/2012 02:59</td>\n",
       "      <td>01/08/2012 05:32</td>\n",
       "      <td>01/08/2012 06:03</td>\n",
       "    </tr>\n",
       "    <tr>\n",
       "      <th>7</th>\n",
       "      <td>01/08/2012 03:53</td>\n",
       "      <td>01/08/2012 04:02</td>\n",
       "      <td>01/08/2012 04:23</td>\n",
       "      <td>01/08/2012 05:30</td>\n",
       "    </tr>\n",
       "    <tr>\n",
       "      <th>8</th>\n",
       "      <td>01/08/2012 04:00</td>\n",
       "      <td>01/08/2012 04:00</td>\n",
       "      <td>01/08/2012 04:31</td>\n",
       "      <td>01/08/2012 06:09</td>\n",
       "    </tr>\n",
       "    <tr>\n",
       "      <th>9</th>\n",
       "      <td>01/08/2012 04:30</td>\n",
       "      <td>01/08/2012 04:40</td>\n",
       "      <td>01/08/2012 05:32</td>\n",
       "      <td>01/08/2012 08:09</td>\n",
       "    </tr>\n",
       "    <tr>\n",
       "      <th>10</th>\n",
       "      <td>01/08/2012 04:40</td>\n",
       "      <td>01/08/2012 04:45</td>\n",
       "      <td>01/08/2012 05:30</td>\n",
       "      <td>01/08/2012 07:57</td>\n",
       "    </tr>\n",
       "    <tr>\n",
       "      <th>11</th>\n",
       "      <td>01/08/2012 05:21</td>\n",
       "      <td>01/08/2012 05:24</td>\n",
       "      <td>01/08/2012 08:08</td>\n",
       "      <td>01/08/2012 08:44</td>\n",
       "    </tr>\n",
       "    <tr>\n",
       "      <th>12</th>\n",
       "      <td>01/08/2012 05:33</td>\n",
       "      <td>01/08/2012 05:35</td>\n",
       "      <td>01/08/2012 06:06</td>\n",
       "      <td>01/08/2012 08:14</td>\n",
       "    </tr>\n",
       "    <tr>\n",
       "      <th>13</th>\n",
       "      <td>01/08/2012 06:17</td>\n",
       "      <td>01/08/2012 06:26</td>\n",
       "      <td>01/08/2012 06:36</td>\n",
       "      <td>01/08/2012 08:32</td>\n",
       "    </tr>\n",
       "    <tr>\n",
       "      <th>14</th>\n",
       "      <td>01/08/2012 06:19</td>\n",
       "      <td>01/08/2012 06:23</td>\n",
       "      <td>01/08/2012 06:30</td>\n",
       "      <td>01/08/2012 07:56</td>\n",
       "    </tr>\n",
       "    <tr>\n",
       "      <th>15</th>\n",
       "      <td>01/08/2012 06:53</td>\n",
       "      <td>01/08/2012 07:00</td>\n",
       "      <td>01/08/2012 07:12</td>\n",
       "      <td>01/08/2012 10:22</td>\n",
       "    </tr>\n",
       "    <tr>\n",
       "      <th>16</th>\n",
       "      <td>01/08/2012 07:21</td>\n",
       "      <td>01/08/2012 07:29</td>\n",
       "      <td>01/08/2012 08:20</td>\n",
       "      <td>01/08/2012 08:53</td>\n",
       "    </tr>\n",
       "    <tr>\n",
       "      <th>17</th>\n",
       "      <td>01/08/2012 07:27</td>\n",
       "      <td>01/08/2012 07:30</td>\n",
       "      <td>01/08/2012 08:33</td>\n",
       "      <td>01/08/2012 11:25</td>\n",
       "    </tr>\n",
       "    <tr>\n",
       "      <th>18</th>\n",
       "      <td>01/08/2012 07:38</td>\n",
       "      <td>01/08/2012 07:41</td>\n",
       "      <td>01/08/2012 08:54</td>\n",
       "      <td>01/08/2012 10:01</td>\n",
       "    </tr>\n",
       "    <tr>\n",
       "      <th>19</th>\n",
       "      <td>01/08/2012 07:40</td>\n",
       "      <td>01/08/2012 07:48</td>\n",
       "      <td>01/08/2012 09:12</td>\n",
       "      <td>01/08/2012 10:59</td>\n",
       "    </tr>\n",
       "    <tr>\n",
       "      <th>20</th>\n",
       "      <td>01/08/2012 08:20</td>\n",
       "      <td>01/08/2012 08:30</td>\n",
       "      <td>01/08/2012 09:23</td>\n",
       "      <td>01/08/2012 11:28</td>\n",
       "    </tr>\n",
       "    <tr>\n",
       "      <th>21</th>\n",
       "      <td>01/08/2012 08:36</td>\n",
       "      <td>01/08/2012 08:56</td>\n",
       "      <td>01/08/2012 09:55</td>\n",
       "      <td>01/08/2012 11:49</td>\n",
       "    </tr>\n",
       "    <tr>\n",
       "      <th>22</th>\n",
       "      <td>01/08/2012 08:46</td>\n",
       "      <td>01/08/2012 08:50</td>\n",
       "      <td>01/08/2012 08:54</td>\n",
       "      <td>01/08/2012 12:06</td>\n",
       "    </tr>\n",
       "    <tr>\n",
       "      <th>23</th>\n",
       "      <td>01/08/2012 09:12</td>\n",
       "      <td>01/08/2012 09:29</td>\n",
       "      <td>01/08/2012 09:34</td>\n",
       "      <td>01/08/2012 10:18</td>\n",
       "    </tr>\n",
       "    <tr>\n",
       "      <th>24</th>\n",
       "      <td>01/08/2012 09:16</td>\n",
       "      <td>01/08/2012 09:32</td>\n",
       "      <td>01/08/2012 10:00</td>\n",
       "      <td>01/08/2012 12:14</td>\n",
       "    </tr>\n",
       "    <tr>\n",
       "      <th>25</th>\n",
       "      <td>01/08/2012 09:17</td>\n",
       "      <td>01/08/2012 09:24</td>\n",
       "      <td>01/08/2012 10:26</td>\n",
       "      <td>01/08/2012 10:49</td>\n",
       "    </tr>\n",
       "    <tr>\n",
       "      <th>26</th>\n",
       "      <td>01/08/2012 09:35</td>\n",
       "      <td>01/08/2012 09:38</td>\n",
       "      <td>01/08/2012 09:45</td>\n",
       "      <td>01/08/2012 15:22</td>\n",
       "    </tr>\n",
       "    <tr>\n",
       "      <th>27</th>\n",
       "      <td>01/08/2012 10:00</td>\n",
       "      <td>01/08/2012 10:02</td>\n",
       "      <td>01/08/2012 10:25</td>\n",
       "      <td>01/08/2012 11:37</td>\n",
       "    </tr>\n",
       "    <tr>\n",
       "      <th>28</th>\n",
       "      <td>01/08/2012 10:04</td>\n",
       "      <td>NaN</td>\n",
       "      <td>01/08/2012 10:34</td>\n",
       "      <td>01/08/2012 11:17</td>\n",
       "    </tr>\n",
       "    <tr>\n",
       "      <th>29</th>\n",
       "      <td>01/08/2012 10:06</td>\n",
       "      <td>01/08/2012 10:08</td>\n",
       "      <td>01/08/2012 10:54</td>\n",
       "      <td>01/08/2012 11:45</td>\n",
       "    </tr>\n",
       "    <tr>\n",
       "      <th>...</th>\n",
       "      <td>...</td>\n",
       "      <td>...</td>\n",
       "      <td>...</td>\n",
       "      <td>...</td>\n",
       "    </tr>\n",
       "    <tr>\n",
       "      <th>567605</th>\n",
       "      <td>08/02/2018 19:20</td>\n",
       "      <td>08/02/2018 19:27</td>\n",
       "      <td>08/02/2018 19:38</td>\n",
       "      <td>08/02/2018 23:11</td>\n",
       "    </tr>\n",
       "    <tr>\n",
       "      <th>567606</th>\n",
       "      <td>08/02/2018 19:28</td>\n",
       "      <td>08/02/2018 19:48</td>\n",
       "      <td>08/02/2018 20:46</td>\n",
       "      <td>08/02/2018 20:54</td>\n",
       "    </tr>\n",
       "    <tr>\n",
       "      <th>567607</th>\n",
       "      <td>08/02/2018 19:35</td>\n",
       "      <td>08/02/2018 19:35</td>\n",
       "      <td>08/02/2018 22:02</td>\n",
       "      <td>08/02/2018 23:30</td>\n",
       "    </tr>\n",
       "    <tr>\n",
       "      <th>567608</th>\n",
       "      <td>08/02/2018 19:37</td>\n",
       "      <td>08/02/2018 19:52</td>\n",
       "      <td>08/02/2018 22:45</td>\n",
       "      <td>08/02/2018 23:00</td>\n",
       "    </tr>\n",
       "    <tr>\n",
       "      <th>567609</th>\n",
       "      <td>08/02/2018 19:40</td>\n",
       "      <td>08/02/2018 19:55</td>\n",
       "      <td>08/02/2018 21:50</td>\n",
       "      <td>08/02/2018 23:21</td>\n",
       "    </tr>\n",
       "    <tr>\n",
       "      <th>567610</th>\n",
       "      <td>08/02/2018 19:50</td>\n",
       "      <td>08/02/2018 20:03</td>\n",
       "      <td>08/02/2018 23:03</td>\n",
       "      <td>08/02/2018 23:48</td>\n",
       "    </tr>\n",
       "    <tr>\n",
       "      <th>567611</th>\n",
       "      <td>08/02/2018 19:54</td>\n",
       "      <td>08/02/2018 20:10</td>\n",
       "      <td>08/02/2018 22:15</td>\n",
       "      <td>09/02/2018 00:08</td>\n",
       "    </tr>\n",
       "    <tr>\n",
       "      <th>567612</th>\n",
       "      <td>08/02/2018 19:59</td>\n",
       "      <td>08/02/2018 20:29</td>\n",
       "      <td>08/02/2018 23:12</td>\n",
       "      <td>08/02/2018 23:55</td>\n",
       "    </tr>\n",
       "    <tr>\n",
       "      <th>567613</th>\n",
       "      <td>08/02/2018 20:34</td>\n",
       "      <td>08/02/2018 20:45</td>\n",
       "      <td>NaN</td>\n",
       "      <td>09/02/2018 04:08</td>\n",
       "    </tr>\n",
       "    <tr>\n",
       "      <th>567614</th>\n",
       "      <td>08/02/2018 20:39</td>\n",
       "      <td>08/02/2018 20:42</td>\n",
       "      <td>08/02/2018 21:01</td>\n",
       "      <td>08/02/2018 21:20</td>\n",
       "    </tr>\n",
       "    <tr>\n",
       "      <th>567615</th>\n",
       "      <td>08/02/2018 20:43</td>\n",
       "      <td>08/02/2018 20:52</td>\n",
       "      <td>08/02/2018 23:47</td>\n",
       "      <td>09/02/2018 00:44</td>\n",
       "    </tr>\n",
       "    <tr>\n",
       "      <th>567616</th>\n",
       "      <td>08/02/2018 20:45</td>\n",
       "      <td>08/02/2018 21:00</td>\n",
       "      <td>08/02/2018 21:05</td>\n",
       "      <td>08/02/2018 21:05</td>\n",
       "    </tr>\n",
       "    <tr>\n",
       "      <th>567617</th>\n",
       "      <td>08/02/2018 20:45</td>\n",
       "      <td>08/02/2018 21:00</td>\n",
       "      <td>08/02/2018 22:04</td>\n",
       "      <td>08/02/2018 23:00</td>\n",
       "    </tr>\n",
       "    <tr>\n",
       "      <th>567618</th>\n",
       "      <td>08/02/2018 20:57</td>\n",
       "      <td>08/02/2018 20:57</td>\n",
       "      <td>08/02/2018 21:13</td>\n",
       "      <td>09/02/2018 00:55</td>\n",
       "    </tr>\n",
       "    <tr>\n",
       "      <th>567619</th>\n",
       "      <td>08/02/2018 21:03</td>\n",
       "      <td>08/02/2018 21:34</td>\n",
       "      <td>09/02/2018 00:05</td>\n",
       "      <td>09/02/2018 01:02</td>\n",
       "    </tr>\n",
       "    <tr>\n",
       "      <th>567620</th>\n",
       "      <td>08/02/2018 21:03</td>\n",
       "      <td>08/02/2018 21:09</td>\n",
       "      <td>08/02/2018 22:52</td>\n",
       "      <td>08/02/2018 23:50</td>\n",
       "    </tr>\n",
       "    <tr>\n",
       "      <th>567621</th>\n",
       "      <td>08/02/2018 21:11</td>\n",
       "      <td>08/02/2018 21:13</td>\n",
       "      <td>09/02/2018 00:34</td>\n",
       "      <td>09/02/2018 02:41</td>\n",
       "    </tr>\n",
       "    <tr>\n",
       "      <th>567622</th>\n",
       "      <td>08/02/2018 21:12</td>\n",
       "      <td>08/02/2018 21:21</td>\n",
       "      <td>08/02/2018 23:39</td>\n",
       "      <td>09/02/2018 01:07</td>\n",
       "    </tr>\n",
       "    <tr>\n",
       "      <th>567623</th>\n",
       "      <td>08/02/2018 21:18</td>\n",
       "      <td>08/02/2018 21:20</td>\n",
       "      <td>09/02/2018 00:17</td>\n",
       "      <td>09/02/2018 01:16</td>\n",
       "    </tr>\n",
       "    <tr>\n",
       "      <th>567624</th>\n",
       "      <td>08/02/2018 21:22</td>\n",
       "      <td>08/02/2018 21:38</td>\n",
       "      <td>08/02/2018 23:02</td>\n",
       "      <td>09/02/2018 00:30</td>\n",
       "    </tr>\n",
       "    <tr>\n",
       "      <th>567625</th>\n",
       "      <td>08/02/2018 21:34</td>\n",
       "      <td>08/02/2018 21:48</td>\n",
       "      <td>08/02/2018 23:12</td>\n",
       "      <td>09/02/2018 00:14</td>\n",
       "    </tr>\n",
       "    <tr>\n",
       "      <th>567626</th>\n",
       "      <td>08/02/2018 21:52</td>\n",
       "      <td>08/02/2018 22:07</td>\n",
       "      <td>09/02/2018 00:38</td>\n",
       "      <td>09/02/2018 01:10</td>\n",
       "    </tr>\n",
       "    <tr>\n",
       "      <th>567627</th>\n",
       "      <td>08/02/2018 21:59</td>\n",
       "      <td>08/02/2018 22:10</td>\n",
       "      <td>09/02/2018 00:08</td>\n",
       "      <td>09/02/2018 00:30</td>\n",
       "    </tr>\n",
       "    <tr>\n",
       "      <th>567628</th>\n",
       "      <td>08/02/2018 22:00</td>\n",
       "      <td>08/02/2018 22:12</td>\n",
       "      <td>09/02/2018 01:19</td>\n",
       "      <td>09/02/2018 01:35</td>\n",
       "    </tr>\n",
       "    <tr>\n",
       "      <th>567629</th>\n",
       "      <td>08/02/2018 22:03</td>\n",
       "      <td>08/02/2018 22:18</td>\n",
       "      <td>09/02/2018 01:16</td>\n",
       "      <td>09/02/2018 01:57</td>\n",
       "    </tr>\n",
       "    <tr>\n",
       "      <th>567630</th>\n",
       "      <td>08/02/2018 22:24</td>\n",
       "      <td>08/02/2018 22:39</td>\n",
       "      <td>09/02/2018 00:39</td>\n",
       "      <td>09/02/2018 02:15</td>\n",
       "    </tr>\n",
       "    <tr>\n",
       "      <th>567631</th>\n",
       "      <td>08/02/2018 22:45</td>\n",
       "      <td>08/02/2018 23:00</td>\n",
       "      <td>09/02/2018 01:27</td>\n",
       "      <td>09/02/2018 02:10</td>\n",
       "    </tr>\n",
       "    <tr>\n",
       "      <th>567632</th>\n",
       "      <td>08/02/2018 23:16</td>\n",
       "      <td>08/02/2018 23:32</td>\n",
       "      <td>09/02/2018 03:03</td>\n",
       "      <td>09/02/2018 03:05</td>\n",
       "    </tr>\n",
       "    <tr>\n",
       "      <th>567633</th>\n",
       "      <td>08/02/2018 23:26</td>\n",
       "      <td>08/02/2018 23:39</td>\n",
       "      <td>09/02/2018 02:06</td>\n",
       "      <td>09/02/2018 04:22</td>\n",
       "    </tr>\n",
       "    <tr>\n",
       "      <th>567634</th>\n",
       "      <td>08/02/2018 23:32</td>\n",
       "      <td>08/02/2018 23:45</td>\n",
       "      <td>09/02/2018 00:19</td>\n",
       "      <td>09/02/2018 01:08</td>\n",
       "    </tr>\n",
       "  </tbody>\n",
       "</table>\n",
       "<p>567635 rows × 4 columns</p>\n",
       "</div>"
      ],
      "text/plain": [
       "            ARRIVAL_DTTM INITIAL_ASSESSMENT_DTTM SEEN_FOR_TREATMENT_DTTM  \\\n",
       "0       01/08/2012 00:04        01/08/2012 00:18        01/08/2012 02:24   \n",
       "1       01/08/2012 00:37        01/08/2012 00:53        01/08/2012 02:43   \n",
       "2       01/08/2012 00:55        01/08/2012 01:00        01/08/2012 01:24   \n",
       "3       01/08/2012 00:58        01/08/2012 01:01        01/08/2012 02:04   \n",
       "4       01/08/2012 01:40        01/08/2012 01:55        01/08/2012 02:27   \n",
       "5       01/08/2012 02:25        01/08/2012 02:39        01/08/2012 03:38   \n",
       "6       01/08/2012 02:47        01/08/2012 02:59        01/08/2012 05:32   \n",
       "7       01/08/2012 03:53        01/08/2012 04:02        01/08/2012 04:23   \n",
       "8       01/08/2012 04:00        01/08/2012 04:00        01/08/2012 04:31   \n",
       "9       01/08/2012 04:30        01/08/2012 04:40        01/08/2012 05:32   \n",
       "10      01/08/2012 04:40        01/08/2012 04:45        01/08/2012 05:30   \n",
       "11      01/08/2012 05:21        01/08/2012 05:24        01/08/2012 08:08   \n",
       "12      01/08/2012 05:33        01/08/2012 05:35        01/08/2012 06:06   \n",
       "13      01/08/2012 06:17        01/08/2012 06:26        01/08/2012 06:36   \n",
       "14      01/08/2012 06:19        01/08/2012 06:23        01/08/2012 06:30   \n",
       "15      01/08/2012 06:53        01/08/2012 07:00        01/08/2012 07:12   \n",
       "16      01/08/2012 07:21        01/08/2012 07:29        01/08/2012 08:20   \n",
       "17      01/08/2012 07:27        01/08/2012 07:30        01/08/2012 08:33   \n",
       "18      01/08/2012 07:38        01/08/2012 07:41        01/08/2012 08:54   \n",
       "19      01/08/2012 07:40        01/08/2012 07:48        01/08/2012 09:12   \n",
       "20      01/08/2012 08:20        01/08/2012 08:30        01/08/2012 09:23   \n",
       "21      01/08/2012 08:36        01/08/2012 08:56        01/08/2012 09:55   \n",
       "22      01/08/2012 08:46        01/08/2012 08:50        01/08/2012 08:54   \n",
       "23      01/08/2012 09:12        01/08/2012 09:29        01/08/2012 09:34   \n",
       "24      01/08/2012 09:16        01/08/2012 09:32        01/08/2012 10:00   \n",
       "25      01/08/2012 09:17        01/08/2012 09:24        01/08/2012 10:26   \n",
       "26      01/08/2012 09:35        01/08/2012 09:38        01/08/2012 09:45   \n",
       "27      01/08/2012 10:00        01/08/2012 10:02        01/08/2012 10:25   \n",
       "28      01/08/2012 10:04                     NaN        01/08/2012 10:34   \n",
       "29      01/08/2012 10:06        01/08/2012 10:08        01/08/2012 10:54   \n",
       "...                  ...                     ...                     ...   \n",
       "567605  08/02/2018 19:20        08/02/2018 19:27        08/02/2018 19:38   \n",
       "567606  08/02/2018 19:28        08/02/2018 19:48        08/02/2018 20:46   \n",
       "567607  08/02/2018 19:35        08/02/2018 19:35        08/02/2018 22:02   \n",
       "567608  08/02/2018 19:37        08/02/2018 19:52        08/02/2018 22:45   \n",
       "567609  08/02/2018 19:40        08/02/2018 19:55        08/02/2018 21:50   \n",
       "567610  08/02/2018 19:50        08/02/2018 20:03        08/02/2018 23:03   \n",
       "567611  08/02/2018 19:54        08/02/2018 20:10        08/02/2018 22:15   \n",
       "567612  08/02/2018 19:59        08/02/2018 20:29        08/02/2018 23:12   \n",
       "567613  08/02/2018 20:34        08/02/2018 20:45                     NaN   \n",
       "567614  08/02/2018 20:39        08/02/2018 20:42        08/02/2018 21:01   \n",
       "567615  08/02/2018 20:43        08/02/2018 20:52        08/02/2018 23:47   \n",
       "567616  08/02/2018 20:45        08/02/2018 21:00        08/02/2018 21:05   \n",
       "567617  08/02/2018 20:45        08/02/2018 21:00        08/02/2018 22:04   \n",
       "567618  08/02/2018 20:57        08/02/2018 20:57        08/02/2018 21:13   \n",
       "567619  08/02/2018 21:03        08/02/2018 21:34        09/02/2018 00:05   \n",
       "567620  08/02/2018 21:03        08/02/2018 21:09        08/02/2018 22:52   \n",
       "567621  08/02/2018 21:11        08/02/2018 21:13        09/02/2018 00:34   \n",
       "567622  08/02/2018 21:12        08/02/2018 21:21        08/02/2018 23:39   \n",
       "567623  08/02/2018 21:18        08/02/2018 21:20        09/02/2018 00:17   \n",
       "567624  08/02/2018 21:22        08/02/2018 21:38        08/02/2018 23:02   \n",
       "567625  08/02/2018 21:34        08/02/2018 21:48        08/02/2018 23:12   \n",
       "567626  08/02/2018 21:52        08/02/2018 22:07        09/02/2018 00:38   \n",
       "567627  08/02/2018 21:59        08/02/2018 22:10        09/02/2018 00:08   \n",
       "567628  08/02/2018 22:00        08/02/2018 22:12        09/02/2018 01:19   \n",
       "567629  08/02/2018 22:03        08/02/2018 22:18        09/02/2018 01:16   \n",
       "567630  08/02/2018 22:24        08/02/2018 22:39        09/02/2018 00:39   \n",
       "567631  08/02/2018 22:45        08/02/2018 23:00        09/02/2018 01:27   \n",
       "567632  08/02/2018 23:16        08/02/2018 23:32        09/02/2018 03:03   \n",
       "567633  08/02/2018 23:26        08/02/2018 23:39        09/02/2018 02:06   \n",
       "567634  08/02/2018 23:32        08/02/2018 23:45        09/02/2018 00:19   \n",
       "\n",
       "       ATTENDANCE_CONCLUSION_DTTM  \n",
       "0                01/08/2012 03:44  \n",
       "1                01/08/2012 04:08  \n",
       "2                01/08/2012 02:54  \n",
       "3                01/08/2012 03:22  \n",
       "4                01/08/2012 03:53  \n",
       "5                01/08/2012 05:15  \n",
       "6                01/08/2012 06:03  \n",
       "7                01/08/2012 05:30  \n",
       "8                01/08/2012 06:09  \n",
       "9                01/08/2012 08:09  \n",
       "10               01/08/2012 07:57  \n",
       "11               01/08/2012 08:44  \n",
       "12               01/08/2012 08:14  \n",
       "13               01/08/2012 08:32  \n",
       "14               01/08/2012 07:56  \n",
       "15               01/08/2012 10:22  \n",
       "16               01/08/2012 08:53  \n",
       "17               01/08/2012 11:25  \n",
       "18               01/08/2012 10:01  \n",
       "19               01/08/2012 10:59  \n",
       "20               01/08/2012 11:28  \n",
       "21               01/08/2012 11:49  \n",
       "22               01/08/2012 12:06  \n",
       "23               01/08/2012 10:18  \n",
       "24               01/08/2012 12:14  \n",
       "25               01/08/2012 10:49  \n",
       "26               01/08/2012 15:22  \n",
       "27               01/08/2012 11:37  \n",
       "28               01/08/2012 11:17  \n",
       "29               01/08/2012 11:45  \n",
       "...                           ...  \n",
       "567605           08/02/2018 23:11  \n",
       "567606           08/02/2018 20:54  \n",
       "567607           08/02/2018 23:30  \n",
       "567608           08/02/2018 23:00  \n",
       "567609           08/02/2018 23:21  \n",
       "567610           08/02/2018 23:48  \n",
       "567611           09/02/2018 00:08  \n",
       "567612           08/02/2018 23:55  \n",
       "567613           09/02/2018 04:08  \n",
       "567614           08/02/2018 21:20  \n",
       "567615           09/02/2018 00:44  \n",
       "567616           08/02/2018 21:05  \n",
       "567617           08/02/2018 23:00  \n",
       "567618           09/02/2018 00:55  \n",
       "567619           09/02/2018 01:02  \n",
       "567620           08/02/2018 23:50  \n",
       "567621           09/02/2018 02:41  \n",
       "567622           09/02/2018 01:07  \n",
       "567623           09/02/2018 01:16  \n",
       "567624           09/02/2018 00:30  \n",
       "567625           09/02/2018 00:14  \n",
       "567626           09/02/2018 01:10  \n",
       "567627           09/02/2018 00:30  \n",
       "567628           09/02/2018 01:35  \n",
       "567629           09/02/2018 01:57  \n",
       "567630           09/02/2018 02:15  \n",
       "567631           09/02/2018 02:10  \n",
       "567632           09/02/2018 03:05  \n",
       "567633           09/02/2018 04:22  \n",
       "567634           09/02/2018 01:08  \n",
       "\n",
       "[567635 rows x 4 columns]"
      ]
     },
     "execution_count": 490,
     "metadata": {},
     "output_type": "execute_result"
    }
   ],
   "source": [
    "df[dt_cols]"
   ]
  },
  {
   "cell_type": "code",
   "execution_count": 533,
   "metadata": {},
   "outputs": [
    {
     "data": {
      "text/plain": [
       "'01/08/2012 00:18'"
      ]
     },
     "execution_count": 533,
     "metadata": {},
     "output_type": "execute_result"
    }
   ],
   "source": [
    "df.INITIAL_ASSESSMENT_DTTM[0][0:16]"
   ]
  },
  {
   "cell_type": "code",
   "execution_count": 548,
   "metadata": {},
   "outputs": [
    {
     "data": {
      "text/plain": [
       "Series([], Name: INITIAL_ASSESSMENT_DTTM, dtype: object)"
      ]
     },
     "execution_count": 548,
     "metadata": {},
     "output_type": "execute_result"
    }
   ],
   "source": [
    "df[df.INITIAL_ASSESSMENT_DTTM == '1899-12-30 00:00:00.000000'].INITIAL_ASSESSMENT_DTTM"
   ]
  },
  {
   "cell_type": "code",
   "execution_count": 547,
   "metadata": {},
   "outputs": [],
   "source": [
    "df.loc[df.INITIAL_ASSESSMENT_DTTM == '1899-12-30 00:00:00.000000', 'INITIAL_ASSESSMENT_DTTM'] = np.nan"
   ]
  },
  {
   "cell_type": "code",
   "execution_count": 541,
   "metadata": {},
   "outputs": [
    {
     "data": {
      "text/plain": [
       "'1899-12-30 00:00'"
      ]
     },
     "execution_count": 541,
     "metadata": {},
     "output_type": "execute_result"
    }
   ],
   "source": [
    "'1899-12-30 00:00:00.000000'[0:16]"
   ]
  },
  {
   "cell_type": "code",
   "execution_count": 496,
   "metadata": {},
   "outputs": [
    {
     "data": {
      "text/plain": [
       "dtype('O')"
      ]
     },
     "execution_count": 496,
     "metadata": {},
     "output_type": "execute_result"
    }
   ],
   "source": [
    "df['ARRIVAL_DTTM'].dtype"
   ]
  },
  {
   "cell_type": "code",
   "execution_count": 497,
   "metadata": {},
   "outputs": [],
   "source": [
    "def convert_cols_datetime(x,col_names = None):\n",
    "    \"\"\" convert either all columns with datetime in name to type datetime, or if col_names given only convert slected cols.\n",
    "    input\n",
    "    x: df,\n",
    "    col_names: list of str, optional containing names of columns to convert\n",
    "    return: new type converted df\n",
    "    \"\"\"\n",
    "    print(40*'-')\n",
    "    print('Converting cols to datetime...(may take some time depedning on size of df)...')\n",
    "    print(20*'-')\n",
    "    if col_names == None:\n",
    "        for i in x.columns:\n",
    "            if ('datetime' in i) & (x[i].dtype != np.dtype('datetime64[ns]')):\n",
    "                #### selected cols have datetime in name and are not of type datetime64\n",
    "                print(i)\n",
    "                x[i] = pd.to_datetime(x[i])\n",
    "    else:\n",
    "        for i in col_names:\n",
    "            print(i)\n",
    "            x[i] = pd.to_datetime(x[i])\n",
    "    print(20*'-')\n",
    "    print('Conversion complete.')\n",
    "    print(20*'-')\n",
    "\n",
    "    return(x)"
   ]
  },
  {
   "cell_type": "code",
   "execution_count": 517,
   "metadata": {},
   "outputs": [],
   "source": [
    "x = df[['ARRIVAL_DTTM','ATTENDANCE_CONCLUSION_DTTM']][-2000:]"
   ]
  },
  {
   "cell_type": "code",
   "execution_count": 518,
   "metadata": {},
   "outputs": [
    {
     "data": {
      "text/html": [
       "<div>\n",
       "<style scoped>\n",
       "    .dataframe tbody tr th:only-of-type {\n",
       "        vertical-align: middle;\n",
       "    }\n",
       "\n",
       "    .dataframe tbody tr th {\n",
       "        vertical-align: top;\n",
       "    }\n",
       "\n",
       "    .dataframe thead th {\n",
       "        text-align: right;\n",
       "    }\n",
       "</style>\n",
       "<table border=\"1\" class=\"dataframe\">\n",
       "  <thead>\n",
       "    <tr style=\"text-align: right;\">\n",
       "      <th></th>\n",
       "      <th>ARRIVAL_DTTM</th>\n",
       "      <th>ATTENDANCE_CONCLUSION_DTTM</th>\n",
       "    </tr>\n",
       "  </thead>\n",
       "  <tbody>\n",
       "    <tr>\n",
       "      <th>567630</th>\n",
       "      <td>08/02/2018 22:24</td>\n",
       "      <td>09/02/2018 02:15</td>\n",
       "    </tr>\n",
       "    <tr>\n",
       "      <th>567631</th>\n",
       "      <td>08/02/2018 22:45</td>\n",
       "      <td>09/02/2018 02:10</td>\n",
       "    </tr>\n",
       "    <tr>\n",
       "      <th>567632</th>\n",
       "      <td>08/02/2018 23:16</td>\n",
       "      <td>09/02/2018 03:05</td>\n",
       "    </tr>\n",
       "    <tr>\n",
       "      <th>567633</th>\n",
       "      <td>08/02/2018 23:26</td>\n",
       "      <td>09/02/2018 04:22</td>\n",
       "    </tr>\n",
       "    <tr>\n",
       "      <th>567634</th>\n",
       "      <td>08/02/2018 23:32</td>\n",
       "      <td>09/02/2018 01:08</td>\n",
       "    </tr>\n",
       "  </tbody>\n",
       "</table>\n",
       "</div>"
      ],
      "text/plain": [
       "            ARRIVAL_DTTM ATTENDANCE_CONCLUSION_DTTM\n",
       "567630  08/02/2018 22:24           09/02/2018 02:15\n",
       "567631  08/02/2018 22:45           09/02/2018 02:10\n",
       "567632  08/02/2018 23:16           09/02/2018 03:05\n",
       "567633  08/02/2018 23:26           09/02/2018 04:22\n",
       "567634  08/02/2018 23:32           09/02/2018 01:08"
      ]
     },
     "execution_count": 518,
     "metadata": {},
     "output_type": "execute_result"
    }
   ],
   "source": [
    "x.tail()"
   ]
  },
  {
   "cell_type": "code",
   "execution_count": 506,
   "metadata": {},
   "outputs": [
    {
     "name": "stdout",
     "output_type": "stream",
     "text": [
      "----------------------------------------\n",
      "Converting cols to datetime...(may take some time depedning on size of df)...\n",
      "--------------------\n",
      "ARRIVAL_DTTM\n",
      "--------------------\n",
      "Conversion complete.\n",
      "--------------------\n"
     ]
    },
    {
     "name": "stderr",
     "output_type": "stream",
     "text": [
      "C:\\Anaconda3\\envs\\hospital-flow\\lib\\site-packages\\ipykernel_launcher.py:20: SettingWithCopyWarning: \n",
      "A value is trying to be set on a copy of a slice from a DataFrame.\n",
      "Try using .loc[row_indexer,col_indexer] = value instead\n",
      "\n",
      "See the caveats in the documentation: http://pandas.pydata.org/pandas-docs/stable/indexing.html#indexing-view-versus-copy\n"
     ]
    }
   ],
   "source": [
    "df2 = convert_cols_datetime(x,col_names = ['ARRIVAL_DTTM'])"
   ]
  },
  {
   "cell_type": "code",
   "execution_count": 508,
   "metadata": {},
   "outputs": [
    {
     "data": {
      "text/html": [
       "<div>\n",
       "<style scoped>\n",
       "    .dataframe tbody tr th:only-of-type {\n",
       "        vertical-align: middle;\n",
       "    }\n",
       "\n",
       "    .dataframe tbody tr th {\n",
       "        vertical-align: top;\n",
       "    }\n",
       "\n",
       "    .dataframe thead th {\n",
       "        text-align: right;\n",
       "    }\n",
       "</style>\n",
       "<table border=\"1\" class=\"dataframe\">\n",
       "  <thead>\n",
       "    <tr style=\"text-align: right;\">\n",
       "      <th></th>\n",
       "      <th>ARRIVAL_DTTM</th>\n",
       "      <th>ATTENDANCE_CONCLUSION_DTTM</th>\n",
       "    </tr>\n",
       "  </thead>\n",
       "  <tbody>\n",
       "    <tr>\n",
       "      <th>567630</th>\n",
       "      <td>2018-08-02 22:24:00</td>\n",
       "      <td>09/02/2018 02:15</td>\n",
       "    </tr>\n",
       "    <tr>\n",
       "      <th>567631</th>\n",
       "      <td>2018-08-02 22:45:00</td>\n",
       "      <td>09/02/2018 02:10</td>\n",
       "    </tr>\n",
       "    <tr>\n",
       "      <th>567632</th>\n",
       "      <td>2018-08-02 23:16:00</td>\n",
       "      <td>09/02/2018 03:05</td>\n",
       "    </tr>\n",
       "    <tr>\n",
       "      <th>567633</th>\n",
       "      <td>2018-08-02 23:26:00</td>\n",
       "      <td>09/02/2018 04:22</td>\n",
       "    </tr>\n",
       "    <tr>\n",
       "      <th>567634</th>\n",
       "      <td>2018-08-02 23:32:00</td>\n",
       "      <td>09/02/2018 01:08</td>\n",
       "    </tr>\n",
       "  </tbody>\n",
       "</table>\n",
       "</div>"
      ],
      "text/plain": [
       "              ARRIVAL_DTTM ATTENDANCE_CONCLUSION_DTTM\n",
       "567630 2018-08-02 22:24:00           09/02/2018 02:15\n",
       "567631 2018-08-02 22:45:00           09/02/2018 02:10\n",
       "567632 2018-08-02 23:16:00           09/02/2018 03:05\n",
       "567633 2018-08-02 23:26:00           09/02/2018 04:22\n",
       "567634 2018-08-02 23:32:00           09/02/2018 01:08"
      ]
     },
     "execution_count": 508,
     "metadata": {},
     "output_type": "execute_result"
    }
   ],
   "source": [
    "df2.tail()"
   ]
  },
  {
   "cell_type": "markdown",
   "metadata": {},
   "source": [
    "08/02/2018 22:24"
   ]
  },
  {
   "cell_type": "code",
   "execution_count": 524,
   "metadata": {},
   "outputs": [
    {
     "ename": "Exception",
     "evalue": "Problem!",
     "output_type": "error",
     "traceback": [
      "\u001b[1;31m---------------------------------------------------------------------------\u001b[0m",
      "\u001b[1;31mException\u001b[0m                                 Traceback (most recent call last)",
      "\u001b[1;32m<ipython-input-524-5fc5db71a87a>\u001b[0m in \u001b[0;36m<module>\u001b[1;34m()\u001b[0m\n\u001b[1;32m----> 1\u001b[1;33m \u001b[1;32mraise\u001b[0m \u001b[0mException\u001b[0m\u001b[1;33m(\u001b[0m\u001b[1;34m'Problem!'\u001b[0m\u001b[1;33m)\u001b[0m\u001b[1;33m\u001b[0m\u001b[0m\n\u001b[0m",
      "\u001b[1;31mException\u001b[0m: Problem!"
     ]
    }
   ],
   "source": [
    "raise Exception('Problem!')"
   ]
  },
  {
   "cell_type": "code",
   "execution_count": 519,
   "metadata": {},
   "outputs": [],
   "source": [
    "i = 'ARRIVAL_DTTM'"
   ]
  },
  {
   "cell_type": "code",
   "execution_count": 522,
   "metadata": {},
   "outputs": [],
   "source": [
    "y = pd.to_datetime(x[i],format=\"%d/%m/%Y %H:%M\")"
   ]
  },
  {
   "cell_type": "code",
   "execution_count": 523,
   "metadata": {},
   "outputs": [
    {
     "data": {
      "text/plain": [
       "565635   2018-01-26 00:25:00\n",
       "565636   2018-01-26 01:05:00\n",
       "565637   2018-01-26 03:14:00\n",
       "565638   2018-01-26 03:34:00\n",
       "565639   2018-01-26 03:55:00\n",
       "565640   2018-01-26 04:04:00\n",
       "565641   2018-01-26 04:46:00\n",
       "565642   2018-01-26 05:21:00\n",
       "565643   2018-01-26 06:26:00\n",
       "565644   2018-01-26 07:17:00\n",
       "565645   2018-01-26 07:43:00\n",
       "565646   2018-01-26 07:45:00\n",
       "565647   2018-01-26 08:41:00\n",
       "565648   2018-01-26 08:44:00\n",
       "565649   2018-01-26 09:17:00\n",
       "565650   2018-01-26 09:24:00\n",
       "565651   2018-01-26 09:29:00\n",
       "565652   2018-01-26 09:36:00\n",
       "565653   2018-01-26 09:43:00\n",
       "565654   2018-01-26 09:55:00\n",
       "565655   2018-01-26 09:56:00\n",
       "565656   2018-01-26 09:57:00\n",
       "565657   2018-01-26 10:01:00\n",
       "565658   2018-01-26 10:08:00\n",
       "565659   2018-01-26 10:17:00\n",
       "565660   2018-01-26 10:21:00\n",
       "565661   2018-01-26 10:42:00\n",
       "565662   2018-01-26 10:50:00\n",
       "565663   2018-01-26 11:03:00\n",
       "565664   2018-01-26 11:04:00\n",
       "                 ...        \n",
       "567605   2018-02-08 19:20:00\n",
       "567606   2018-02-08 19:28:00\n",
       "567607   2018-02-08 19:35:00\n",
       "567608   2018-02-08 19:37:00\n",
       "567609   2018-02-08 19:40:00\n",
       "567610   2018-02-08 19:50:00\n",
       "567611   2018-02-08 19:54:00\n",
       "567612   2018-02-08 19:59:00\n",
       "567613   2018-02-08 20:34:00\n",
       "567614   2018-02-08 20:39:00\n",
       "567615   2018-02-08 20:43:00\n",
       "567616   2018-02-08 20:45:00\n",
       "567617   2018-02-08 20:45:00\n",
       "567618   2018-02-08 20:57:00\n",
       "567619   2018-02-08 21:03:00\n",
       "567620   2018-02-08 21:03:00\n",
       "567621   2018-02-08 21:11:00\n",
       "567622   2018-02-08 21:12:00\n",
       "567623   2018-02-08 21:18:00\n",
       "567624   2018-02-08 21:22:00\n",
       "567625   2018-02-08 21:34:00\n",
       "567626   2018-02-08 21:52:00\n",
       "567627   2018-02-08 21:59:00\n",
       "567628   2018-02-08 22:00:00\n",
       "567629   2018-02-08 22:03:00\n",
       "567630   2018-02-08 22:24:00\n",
       "567631   2018-02-08 22:45:00\n",
       "567632   2018-02-08 23:16:00\n",
       "567633   2018-02-08 23:26:00\n",
       "567634   2018-02-08 23:32:00\n",
       "Name: ARRIVAL_DTTM, Length: 2000, dtype: datetime64[ns]"
      ]
     },
     "execution_count": 523,
     "metadata": {},
     "output_type": "execute_result"
    }
   ],
   "source": [
    "y"
   ]
  },
  {
   "cell_type": "code",
   "execution_count": 525,
   "metadata": {},
   "outputs": [
    {
     "data": {
      "text/html": [
       "<div>\n",
       "<style scoped>\n",
       "    .dataframe tbody tr th:only-of-type {\n",
       "        vertical-align: middle;\n",
       "    }\n",
       "\n",
       "    .dataframe tbody tr th {\n",
       "        vertical-align: top;\n",
       "    }\n",
       "\n",
       "    .dataframe thead th {\n",
       "        text-align: right;\n",
       "    }\n",
       "</style>\n",
       "<table border=\"1\" class=\"dataframe\">\n",
       "  <thead>\n",
       "    <tr style=\"text-align: right;\">\n",
       "      <th></th>\n",
       "      <th>ARRIVAL_DTTM</th>\n",
       "      <th>ATTENDANCE_CONCLUSION_DTTM</th>\n",
       "    </tr>\n",
       "  </thead>\n",
       "  <tbody>\n",
       "    <tr>\n",
       "      <th>565635</th>\n",
       "      <td>26/01/2018 00:25</td>\n",
       "      <td>26/01/2018 01:40</td>\n",
       "    </tr>\n",
       "    <tr>\n",
       "      <th>565636</th>\n",
       "      <td>26/01/2018 01:05</td>\n",
       "      <td>26/01/2018 02:33</td>\n",
       "    </tr>\n",
       "    <tr>\n",
       "      <th>565637</th>\n",
       "      <td>26/01/2018 03:14</td>\n",
       "      <td>26/01/2018 06:42</td>\n",
       "    </tr>\n",
       "    <tr>\n",
       "      <th>565638</th>\n",
       "      <td>26/01/2018 03:34</td>\n",
       "      <td>26/01/2018 06:19</td>\n",
       "    </tr>\n",
       "    <tr>\n",
       "      <th>565639</th>\n",
       "      <td>26/01/2018 03:55</td>\n",
       "      <td>26/01/2018 06:06</td>\n",
       "    </tr>\n",
       "    <tr>\n",
       "      <th>565640</th>\n",
       "      <td>26/01/2018 04:04</td>\n",
       "      <td>26/01/2018 04:39</td>\n",
       "    </tr>\n",
       "    <tr>\n",
       "      <th>565641</th>\n",
       "      <td>26/01/2018 04:46</td>\n",
       "      <td>26/01/2018 05:54</td>\n",
       "    </tr>\n",
       "    <tr>\n",
       "      <th>565642</th>\n",
       "      <td>26/01/2018 05:21</td>\n",
       "      <td>26/01/2018 09:19</td>\n",
       "    </tr>\n",
       "    <tr>\n",
       "      <th>565643</th>\n",
       "      <td>26/01/2018 06:26</td>\n",
       "      <td>26/01/2018 07:47</td>\n",
       "    </tr>\n",
       "    <tr>\n",
       "      <th>565644</th>\n",
       "      <td>26/01/2018 07:17</td>\n",
       "      <td>26/01/2018 09:40</td>\n",
       "    </tr>\n",
       "    <tr>\n",
       "      <th>565645</th>\n",
       "      <td>26/01/2018 07:43</td>\n",
       "      <td>26/01/2018 10:51</td>\n",
       "    </tr>\n",
       "    <tr>\n",
       "      <th>565646</th>\n",
       "      <td>26/01/2018 07:45</td>\n",
       "      <td>26/01/2018 12:51</td>\n",
       "    </tr>\n",
       "    <tr>\n",
       "      <th>565647</th>\n",
       "      <td>26/01/2018 08:41</td>\n",
       "      <td>26/01/2018 10:45</td>\n",
       "    </tr>\n",
       "    <tr>\n",
       "      <th>565648</th>\n",
       "      <td>26/01/2018 08:44</td>\n",
       "      <td>26/01/2018 09:59</td>\n",
       "    </tr>\n",
       "    <tr>\n",
       "      <th>565649</th>\n",
       "      <td>26/01/2018 09:17</td>\n",
       "      <td>26/01/2018 11:00</td>\n",
       "    </tr>\n",
       "    <tr>\n",
       "      <th>565650</th>\n",
       "      <td>26/01/2018 09:24</td>\n",
       "      <td>26/01/2018 12:05</td>\n",
       "    </tr>\n",
       "    <tr>\n",
       "      <th>565651</th>\n",
       "      <td>26/01/2018 09:29</td>\n",
       "      <td>26/01/2018 11:45</td>\n",
       "    </tr>\n",
       "    <tr>\n",
       "      <th>565652</th>\n",
       "      <td>26/01/2018 09:36</td>\n",
       "      <td>26/01/2018 11:14</td>\n",
       "    </tr>\n",
       "    <tr>\n",
       "      <th>565653</th>\n",
       "      <td>26/01/2018 09:43</td>\n",
       "      <td>26/01/2018 11:10</td>\n",
       "    </tr>\n",
       "    <tr>\n",
       "      <th>565654</th>\n",
       "      <td>26/01/2018 09:55</td>\n",
       "      <td>26/01/2018 12:23</td>\n",
       "    </tr>\n",
       "    <tr>\n",
       "      <th>565655</th>\n",
       "      <td>26/01/2018 09:56</td>\n",
       "      <td>26/01/2018 12:50</td>\n",
       "    </tr>\n",
       "    <tr>\n",
       "      <th>565656</th>\n",
       "      <td>26/01/2018 09:57</td>\n",
       "      <td>26/01/2018 13:50</td>\n",
       "    </tr>\n",
       "    <tr>\n",
       "      <th>565657</th>\n",
       "      <td>26/01/2018 10:01</td>\n",
       "      <td>26/01/2018 14:01</td>\n",
       "    </tr>\n",
       "    <tr>\n",
       "      <th>565658</th>\n",
       "      <td>26/01/2018 10:08</td>\n",
       "      <td>26/01/2018 14:06</td>\n",
       "    </tr>\n",
       "    <tr>\n",
       "      <th>565659</th>\n",
       "      <td>26/01/2018 10:17</td>\n",
       "      <td>26/01/2018 14:15</td>\n",
       "    </tr>\n",
       "    <tr>\n",
       "      <th>565660</th>\n",
       "      <td>26/01/2018 10:21</td>\n",
       "      <td>26/01/2018 14:28</td>\n",
       "    </tr>\n",
       "    <tr>\n",
       "      <th>565661</th>\n",
       "      <td>26/01/2018 10:42</td>\n",
       "      <td>26/01/2018 13:22</td>\n",
       "    </tr>\n",
       "    <tr>\n",
       "      <th>565662</th>\n",
       "      <td>26/01/2018 10:50</td>\n",
       "      <td>26/01/2018 12:44</td>\n",
       "    </tr>\n",
       "    <tr>\n",
       "      <th>565663</th>\n",
       "      <td>26/01/2018 11:03</td>\n",
       "      <td>26/01/2018 11:55</td>\n",
       "    </tr>\n",
       "    <tr>\n",
       "      <th>565664</th>\n",
       "      <td>26/01/2018 11:04</td>\n",
       "      <td>26/01/2018 13:17</td>\n",
       "    </tr>\n",
       "    <tr>\n",
       "      <th>...</th>\n",
       "      <td>...</td>\n",
       "      <td>...</td>\n",
       "    </tr>\n",
       "    <tr>\n",
       "      <th>567605</th>\n",
       "      <td>08/02/2018 19:20</td>\n",
       "      <td>08/02/2018 23:11</td>\n",
       "    </tr>\n",
       "    <tr>\n",
       "      <th>567606</th>\n",
       "      <td>08/02/2018 19:28</td>\n",
       "      <td>08/02/2018 20:54</td>\n",
       "    </tr>\n",
       "    <tr>\n",
       "      <th>567607</th>\n",
       "      <td>08/02/2018 19:35</td>\n",
       "      <td>08/02/2018 23:30</td>\n",
       "    </tr>\n",
       "    <tr>\n",
       "      <th>567608</th>\n",
       "      <td>08/02/2018 19:37</td>\n",
       "      <td>08/02/2018 23:00</td>\n",
       "    </tr>\n",
       "    <tr>\n",
       "      <th>567609</th>\n",
       "      <td>08/02/2018 19:40</td>\n",
       "      <td>08/02/2018 23:21</td>\n",
       "    </tr>\n",
       "    <tr>\n",
       "      <th>567610</th>\n",
       "      <td>08/02/2018 19:50</td>\n",
       "      <td>08/02/2018 23:48</td>\n",
       "    </tr>\n",
       "    <tr>\n",
       "      <th>567611</th>\n",
       "      <td>08/02/2018 19:54</td>\n",
       "      <td>09/02/2018 00:08</td>\n",
       "    </tr>\n",
       "    <tr>\n",
       "      <th>567612</th>\n",
       "      <td>08/02/2018 19:59</td>\n",
       "      <td>08/02/2018 23:55</td>\n",
       "    </tr>\n",
       "    <tr>\n",
       "      <th>567613</th>\n",
       "      <td>08/02/2018 20:34</td>\n",
       "      <td>09/02/2018 04:08</td>\n",
       "    </tr>\n",
       "    <tr>\n",
       "      <th>567614</th>\n",
       "      <td>08/02/2018 20:39</td>\n",
       "      <td>08/02/2018 21:20</td>\n",
       "    </tr>\n",
       "    <tr>\n",
       "      <th>567615</th>\n",
       "      <td>08/02/2018 20:43</td>\n",
       "      <td>09/02/2018 00:44</td>\n",
       "    </tr>\n",
       "    <tr>\n",
       "      <th>567616</th>\n",
       "      <td>08/02/2018 20:45</td>\n",
       "      <td>08/02/2018 21:05</td>\n",
       "    </tr>\n",
       "    <tr>\n",
       "      <th>567617</th>\n",
       "      <td>08/02/2018 20:45</td>\n",
       "      <td>08/02/2018 23:00</td>\n",
       "    </tr>\n",
       "    <tr>\n",
       "      <th>567618</th>\n",
       "      <td>08/02/2018 20:57</td>\n",
       "      <td>09/02/2018 00:55</td>\n",
       "    </tr>\n",
       "    <tr>\n",
       "      <th>567619</th>\n",
       "      <td>08/02/2018 21:03</td>\n",
       "      <td>09/02/2018 01:02</td>\n",
       "    </tr>\n",
       "    <tr>\n",
       "      <th>567620</th>\n",
       "      <td>08/02/2018 21:03</td>\n",
       "      <td>08/02/2018 23:50</td>\n",
       "    </tr>\n",
       "    <tr>\n",
       "      <th>567621</th>\n",
       "      <td>08/02/2018 21:11</td>\n",
       "      <td>09/02/2018 02:41</td>\n",
       "    </tr>\n",
       "    <tr>\n",
       "      <th>567622</th>\n",
       "      <td>08/02/2018 21:12</td>\n",
       "      <td>09/02/2018 01:07</td>\n",
       "    </tr>\n",
       "    <tr>\n",
       "      <th>567623</th>\n",
       "      <td>08/02/2018 21:18</td>\n",
       "      <td>09/02/2018 01:16</td>\n",
       "    </tr>\n",
       "    <tr>\n",
       "      <th>567624</th>\n",
       "      <td>08/02/2018 21:22</td>\n",
       "      <td>09/02/2018 00:30</td>\n",
       "    </tr>\n",
       "    <tr>\n",
       "      <th>567625</th>\n",
       "      <td>08/02/2018 21:34</td>\n",
       "      <td>09/02/2018 00:14</td>\n",
       "    </tr>\n",
       "    <tr>\n",
       "      <th>567626</th>\n",
       "      <td>08/02/2018 21:52</td>\n",
       "      <td>09/02/2018 01:10</td>\n",
       "    </tr>\n",
       "    <tr>\n",
       "      <th>567627</th>\n",
       "      <td>08/02/2018 21:59</td>\n",
       "      <td>09/02/2018 00:30</td>\n",
       "    </tr>\n",
       "    <tr>\n",
       "      <th>567628</th>\n",
       "      <td>08/02/2018 22:00</td>\n",
       "      <td>09/02/2018 01:35</td>\n",
       "    </tr>\n",
       "    <tr>\n",
       "      <th>567629</th>\n",
       "      <td>08/02/2018 22:03</td>\n",
       "      <td>09/02/2018 01:57</td>\n",
       "    </tr>\n",
       "    <tr>\n",
       "      <th>567630</th>\n",
       "      <td>08/02/2018 22:24</td>\n",
       "      <td>09/02/2018 02:15</td>\n",
       "    </tr>\n",
       "    <tr>\n",
       "      <th>567631</th>\n",
       "      <td>08/02/2018 22:45</td>\n",
       "      <td>09/02/2018 02:10</td>\n",
       "    </tr>\n",
       "    <tr>\n",
       "      <th>567632</th>\n",
       "      <td>08/02/2018 23:16</td>\n",
       "      <td>09/02/2018 03:05</td>\n",
       "    </tr>\n",
       "    <tr>\n",
       "      <th>567633</th>\n",
       "      <td>08/02/2018 23:26</td>\n",
       "      <td>09/02/2018 04:22</td>\n",
       "    </tr>\n",
       "    <tr>\n",
       "      <th>567634</th>\n",
       "      <td>08/02/2018 23:32</td>\n",
       "      <td>09/02/2018 01:08</td>\n",
       "    </tr>\n",
       "  </tbody>\n",
       "</table>\n",
       "<p>2000 rows × 2 columns</p>\n",
       "</div>"
      ],
      "text/plain": [
       "            ARRIVAL_DTTM ATTENDANCE_CONCLUSION_DTTM\n",
       "565635  26/01/2018 00:25           26/01/2018 01:40\n",
       "565636  26/01/2018 01:05           26/01/2018 02:33\n",
       "565637  26/01/2018 03:14           26/01/2018 06:42\n",
       "565638  26/01/2018 03:34           26/01/2018 06:19\n",
       "565639  26/01/2018 03:55           26/01/2018 06:06\n",
       "565640  26/01/2018 04:04           26/01/2018 04:39\n",
       "565641  26/01/2018 04:46           26/01/2018 05:54\n",
       "565642  26/01/2018 05:21           26/01/2018 09:19\n",
       "565643  26/01/2018 06:26           26/01/2018 07:47\n",
       "565644  26/01/2018 07:17           26/01/2018 09:40\n",
       "565645  26/01/2018 07:43           26/01/2018 10:51\n",
       "565646  26/01/2018 07:45           26/01/2018 12:51\n",
       "565647  26/01/2018 08:41           26/01/2018 10:45\n",
       "565648  26/01/2018 08:44           26/01/2018 09:59\n",
       "565649  26/01/2018 09:17           26/01/2018 11:00\n",
       "565650  26/01/2018 09:24           26/01/2018 12:05\n",
       "565651  26/01/2018 09:29           26/01/2018 11:45\n",
       "565652  26/01/2018 09:36           26/01/2018 11:14\n",
       "565653  26/01/2018 09:43           26/01/2018 11:10\n",
       "565654  26/01/2018 09:55           26/01/2018 12:23\n",
       "565655  26/01/2018 09:56           26/01/2018 12:50\n",
       "565656  26/01/2018 09:57           26/01/2018 13:50\n",
       "565657  26/01/2018 10:01           26/01/2018 14:01\n",
       "565658  26/01/2018 10:08           26/01/2018 14:06\n",
       "565659  26/01/2018 10:17           26/01/2018 14:15\n",
       "565660  26/01/2018 10:21           26/01/2018 14:28\n",
       "565661  26/01/2018 10:42           26/01/2018 13:22\n",
       "565662  26/01/2018 10:50           26/01/2018 12:44\n",
       "565663  26/01/2018 11:03           26/01/2018 11:55\n",
       "565664  26/01/2018 11:04           26/01/2018 13:17\n",
       "...                  ...                        ...\n",
       "567605  08/02/2018 19:20           08/02/2018 23:11\n",
       "567606  08/02/2018 19:28           08/02/2018 20:54\n",
       "567607  08/02/2018 19:35           08/02/2018 23:30\n",
       "567608  08/02/2018 19:37           08/02/2018 23:00\n",
       "567609  08/02/2018 19:40           08/02/2018 23:21\n",
       "567610  08/02/2018 19:50           08/02/2018 23:48\n",
       "567611  08/02/2018 19:54           09/02/2018 00:08\n",
       "567612  08/02/2018 19:59           08/02/2018 23:55\n",
       "567613  08/02/2018 20:34           09/02/2018 04:08\n",
       "567614  08/02/2018 20:39           08/02/2018 21:20\n",
       "567615  08/02/2018 20:43           09/02/2018 00:44\n",
       "567616  08/02/2018 20:45           08/02/2018 21:05\n",
       "567617  08/02/2018 20:45           08/02/2018 23:00\n",
       "567618  08/02/2018 20:57           09/02/2018 00:55\n",
       "567619  08/02/2018 21:03           09/02/2018 01:02\n",
       "567620  08/02/2018 21:03           08/02/2018 23:50\n",
       "567621  08/02/2018 21:11           09/02/2018 02:41\n",
       "567622  08/02/2018 21:12           09/02/2018 01:07\n",
       "567623  08/02/2018 21:18           09/02/2018 01:16\n",
       "567624  08/02/2018 21:22           09/02/2018 00:30\n",
       "567625  08/02/2018 21:34           09/02/2018 00:14\n",
       "567626  08/02/2018 21:52           09/02/2018 01:10\n",
       "567627  08/02/2018 21:59           09/02/2018 00:30\n",
       "567628  08/02/2018 22:00           09/02/2018 01:35\n",
       "567629  08/02/2018 22:03           09/02/2018 01:57\n",
       "567630  08/02/2018 22:24           09/02/2018 02:15\n",
       "567631  08/02/2018 22:45           09/02/2018 02:10\n",
       "567632  08/02/2018 23:16           09/02/2018 03:05\n",
       "567633  08/02/2018 23:26           09/02/2018 04:22\n",
       "567634  08/02/2018 23:32           09/02/2018 01:08\n",
       "\n",
       "[2000 rows x 2 columns]"
      ]
     },
     "execution_count": 525,
     "metadata": {},
     "output_type": "execute_result"
    }
   ],
   "source": [
    "x"
   ]
  },
  {
   "cell_type": "code",
   "execution_count": null,
   "metadata": {},
   "outputs": [],
   "source": []
  },
  {
   "cell_type": "code",
   "execution_count": null,
   "metadata": {},
   "outputs": [],
   "source": []
  },
  {
   "cell_type": "code",
   "execution_count": null,
   "metadata": {},
   "outputs": [],
   "source": []
  },
  {
   "cell_type": "code",
   "execution_count": null,
   "metadata": {},
   "outputs": [],
   "source": []
  },
  {
   "cell_type": "code",
   "execution_count": null,
   "metadata": {},
   "outputs": [],
   "source": []
  },
  {
   "cell_type": "code",
   "execution_count": null,
   "metadata": {},
   "outputs": [],
   "source": [
    "hh_cols = {\n",
    "'PSEUDONYMISED_PATIENT_ID':'dept_patid',\n",
    "'PSEUDONYMISED_PATIENT_ID':'hosp_patid',\n",
    "'AGE_AT_ARRIVAL':'age',\n",
    "'GENDER_NATIONAL_DESCRIPTION':'gender',\n",
    "'SITE':'site',\n",
    "'ARRIVAL_DTTM':'arrival_date',\n",
    "'ARRIVAL_DTTM':'arrival_time',\n",
    "'ARRIVAL_MODE_NATIONAL_CODE':'arrival_mode',\n",
    "'INITIAL_ASSESSMENT_DTTM':'first_triage_time',\n",
    "'SEEN_FOR_TREATMENT_DTTM':'first_dr_time',\n",
    "'SPECIALTY_REQUEST_TIME':'first_adm_request_time',\n",
    "'SPECIALTY_REFERRED_TO_CODE':'adm_referral_loc',\n",
    "'ADMISSION_FLAG':'departure_method',\n",
    "'ATTENDANCE_CONCLUSION_DTTM':'leaving_time',\n",
    "'STREAM_LOCAL_CODE':'stream'\n",
    "}\n",
    "\n",
    "### import data\n",
    "hh.ioED.load_hosp_csv('./../../3_Data/HH_ED_Flow_Study.csv',hh_cols)\n",
    "\n",
    "\n",
    "\n",
    "hh.ioED.checks()\n"
   ]
  },
  {
   "cell_type": "code",
   "execution_count": null,
   "metadata": {},
   "outputs": [],
   "source": [
    "hh.ioED.get_EDraw()"
   ]
  },
  {
   "cell_type": "code",
   "execution_count": null,
   "metadata": {},
   "outputs": [],
   "source": [
    "test.head()"
   ]
  },
  {
   "cell_type": "code",
   "execution_count": null,
   "metadata": {},
   "outputs": [],
   "source": [
    "test.minutes_today.sum()"
   ]
  },
  {
   "cell_type": "code",
   "execution_count": null,
   "metadata": {},
   "outputs": [],
   "source": [
    "test.columns\n"
   ]
  },
  {
   "cell_type": "code",
   "execution_count": null,
   "metadata": {},
   "outputs": [],
   "source": [
    "pd.to_datetime(test.leaving_time)"
   ]
  },
  {
   "cell_type": "code",
   "execution_count": null,
   "metadata": {},
   "outputs": [],
   "source": []
  },
  {
   "cell_type": "code",
   "execution_count": null,
   "metadata": {},
   "outputs": [],
   "source": []
  },
  {
   "cell_type": "code",
   "execution_count": null,
   "metadata": {},
   "outputs": [],
   "source": [
    "df"
   ]
  },
  {
   "cell_type": "code",
   "execution_count": null,
   "metadata": {},
   "outputs": [],
   "source": [
    "df.head(1)"
   ]
  },
  {
   "cell_type": "code",
   "execution_count": null,
   "metadata": {
    "scrolled": true
   },
   "outputs": [],
   "source": [
    "df.index"
   ]
  },
  {
   "cell_type": "code",
   "execution_count": null,
   "metadata": {},
   "outputs": [],
   "source": [
    "df['year'] = df.apply(lambda x: x.name.year ,axis=1)\n",
    "df['year'] = df.apply(lambda x: x.name.year ,axis=1)\n",
    "df['year'] = df.apply(lambda x: x.name.year ,axis=1)\n",
    "\n",
    "df['date'] = df.index"
   ]
  },
  {
   "cell_type": "code",
   "execution_count": null,
   "metadata": {},
   "outputs": [],
   "source": [
    "df.date.values"
   ]
  },
  {
   "cell_type": "code",
   "execution_count": null,
   "metadata": {},
   "outputs": [],
   "source": [
    "df.date.values[0] #.astype(datetime)"
   ]
  },
  {
   "cell_type": "code",
   "execution_count": null,
   "metadata": {},
   "outputs": [],
   "source": [
    "pd.to_datetime(df.date.values).weekday_name"
   ]
  },
  {
   "cell_type": "markdown",
   "metadata": {},
   "source": [
    "# prefix to all cols test"
   ]
  },
  {
   "cell_type": "code",
   "execution_count": null,
   "metadata": {},
   "outputs": [],
   "source": []
  },
  {
   "cell_type": "code",
   "execution_count": null,
   "metadata": {},
   "outputs": [],
   "source": [
    "def prefix_cols(x,prefix):\n",
    "    \"\"\" adds string prefix to all col names\"\"\"\n",
    "    for i in df.columns:\n",
    "        x.rename(columns={i:prefix + i},inplace=True)"
   ]
  },
  {
   "cell_type": "code",
   "execution_count": null,
   "metadata": {},
   "outputs": [],
   "source": [
    "prefix_cols(df,'ED_')"
   ]
  },
  {
   "cell_type": "code",
   "execution_count": null,
   "metadata": {},
   "outputs": [],
   "source": [
    "df"
   ]
  },
  {
   "cell_type": "code",
   "execution_count": null,
   "metadata": {},
   "outputs": [],
   "source": [
    "df"
   ]
  },
  {
   "cell_type": "code",
   "execution_count": null,
   "metadata": {},
   "outputs": [],
   "source": [
    "pd.to_datetime(df.index)"
   ]
  },
  {
   "cell_type": "markdown",
   "metadata": {},
   "source": [
    "# Dev"
   ]
  },
  {
   "cell_type": "code",
   "execution_count": null,
   "metadata": {},
   "outputs": [],
   "source": [
    "break"
   ]
  },
  {
   "cell_type": "code",
   "execution_count": null,
   "metadata": {},
   "outputs": [],
   "source": [
    "#import dep\n",
    "import numpy as np\n",
    "import pandas as pd\n",
    "import seaborn as sns\n",
    "sns.set()\n",
    "\n",
    "# local import\n",
    "from hospital import *"
   ]
  },
  {
   "cell_type": "code",
   "execution_count": null,
   "metadata": {},
   "outputs": [],
   "source": [
    "hh = hosp('hh')"
   ]
  },
  {
   "cell_type": "code",
   "execution_count": null,
   "metadata": {},
   "outputs": [],
   "source": [
    "hh_cols = {\n",
    "'PSEUDONYMISED_PATIENT_ID':'dept_patid',\n",
    "'PSEUDONYMISED_PATIENT_ID':'hosp_patid',\n",
    "'AGE_AT_ARRIVAL':'age',\n",
    "'GENDER_NATIONAL_DESCRIPTION':'gender',\n",
    "'SITE':'site',\n",
    "'ARRIVAL_DTTM':'arrival_datetime',\n",
    "'ARRIVAL_MODE_NATIONAL_CODE':'arrival_mode',\n",
    "'INITIAL_ASSESSMENT_DTTM':'first_triage_datetime',\n",
    "'SEEN_FOR_TREATMENT_DTTM':'first_dr_datetime',\n",
    "'SPECIALTY_REQUEST_TIME':'first_adm_request_time',\n",
    "'SPECIALTY_REFERRED_TO_CODE':'adm_referral_loc',\n",
    "'ADMISSION_FLAG':'departure_method',\n",
    "'ATTENDANCE_CONCLUSION_DTTM':'leaving_datetime',\n",
    "'STREAM_LOCAL_CODE':'stream'\n",
    "}\n",
    "\n",
    "### import data\n",
    "hh.ioED.load_hosp_csv('./../../3_Data/HH_ED_Flow_Study.csv',hh_cols)"
   ]
  },
  {
   "cell_type": "code",
   "execution_count": null,
   "metadata": {},
   "outputs": [],
   "source": [
    "hh.ioED.checks()"
   ]
  },
  {
   "cell_type": "code",
   "execution_count": null,
   "metadata": {},
   "outputs": [],
   "source": [
    "df = hh.ioED.get_EDraw()\n",
    "df = df[0:100]\n",
    "hh.ioED.replace_EDraw(df)\n"
   ]
  },
  {
   "cell_type": "code",
   "execution_count": null,
   "metadata": {},
   "outputs": [],
   "source": []
  },
  {
   "cell_type": "code",
   "execution_count": null,
   "metadata": {},
   "outputs": [],
   "source": [
    "hh.ioED.convert_cols_datetime()"
   ]
  },
  {
   "cell_type": "code",
   "execution_count": null,
   "metadata": {},
   "outputs": [],
   "source": [
    "hh.ioED.checks()"
   ]
  },
  {
   "cell_type": "code",
   "execution_count": null,
   "metadata": {},
   "outputs": [],
   "source": [
    "hh.ioED.create_auto_columns()"
   ]
  },
  {
   "cell_type": "code",
   "execution_count": null,
   "metadata": {},
   "outputs": [],
   "source": [
    "hh.ioED.checks()"
   ]
  },
  {
   "cell_type": "code",
   "execution_count": null,
   "metadata": {},
   "outputs": [],
   "source": [
    "hh.ioED.get_EDraw().columns"
   ]
  },
  {
   "cell_type": "code",
   "execution_count": null,
   "metadata": {},
   "outputs": [],
   "source": []
  },
  {
   "cell_type": "code",
   "execution_count": null,
   "metadata": {},
   "outputs": [],
   "source": [
    "hh.ioED."
   ]
  },
  {
   "cell_type": "code",
   "execution_count": null,
   "metadata": {},
   "outputs": [],
   "source": [
    "df.shape"
   ]
  },
  {
   "cell_type": "code",
   "execution_count": null,
   "metadata": {},
   "outputs": [],
   "source": [
    "df.arrival_datetime.dtype"
   ]
  },
  {
   "cell_type": "code",
   "execution_count": null,
   "metadata": {},
   "outputs": [],
   "source": [
    "pd.to_datetime(df.arrival_datetime).dtype"
   ]
  },
  {
   "cell_type": "code",
   "execution_count": null,
   "metadata": {},
   "outputs": [],
   "source": [
    "if ('datetime' in 'test_col_datetime') & (1 == 2):\n",
    "    print('True')"
   ]
  },
  {
   "cell_type": "code",
   "execution_count": null,
   "metadata": {},
   "outputs": [],
   "source": [
    "if not np.float in [np.int,np.float]:\n",
    "    print('True')"
   ]
  },
  {
   "cell_type": "code",
   "execution_count": null,
   "metadata": {},
   "outputs": [],
   "source": [
    "np.float in np.float"
   ]
  },
  {
   "cell_type": "code",
   "execution_count": null,
   "metadata": {},
   "outputs": [],
   "source": []
  },
  {
   "cell_type": "code",
   "execution_count": null,
   "metadata": {},
   "outputs": [],
   "source": []
  },
  {
   "cell_type": "code",
   "execution_count": null,
   "metadata": {},
   "outputs": [],
   "source": [
    "hh = pd.read_csv('./../../3_data/HH_ED_Flow_Study.csv',usecols=hh_cols)"
   ]
  },
  {
   "cell_type": "code",
   "execution_count": null,
   "metadata": {},
   "outputs": [],
   "source": [
    "hh"
   ]
  },
  {
   "cell_type": "code",
   "execution_count": null,
   "metadata": {},
   "outputs": [],
   "source": []
  },
  {
   "cell_type": "code",
   "execution_count": null,
   "metadata": {},
   "outputs": [],
   "source": [
    "hh.head(1)"
   ]
  },
  {
   "cell_type": "code",
   "execution_count": null,
   "metadata": {},
   "outputs": [],
   "source": [
    "hh.columns"
   ]
  },
  {
   "cell_type": "code",
   "execution_count": null,
   "metadata": {},
   "outputs": [],
   "source": [
    "for x in hh.columns:\n",
    "    print(x)"
   ]
  },
  {
   "cell_type": "code",
   "execution_count": null,
   "metadata": {},
   "outputs": [],
   "source": [
    "hh.head(1)"
   ]
  },
  {
   "cell_type": "code",
   "execution_count": null,
   "metadata": {},
   "outputs": [],
   "source": []
  }
 ],
 "metadata": {
  "kernelspec": {
   "display_name": "Python 3",
   "language": "python",
   "name": "python3"
  }
 },
 "nbformat": 4,
 "nbformat_minor": 2
}
