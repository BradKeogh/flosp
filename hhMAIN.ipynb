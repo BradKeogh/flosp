{
 "cells": [
  {
   "cell_type": "markdown",
   "metadata": {},
   "source": [
    "Focus on ED for now - simple stuff first!!\n",
    "Arrival and departure curves from ED\n",
    "\t- Comapre UHS and PHT\n",
    "\t- Weekday vs. weekend\n",
    "\n",
    "Arrivals/period - overtime\n",
    "\n",
    "Summary stats of variation for:\n",
    "Arrival - first clinitian\n",
    "Triage - …\n",
    "DTA - admission\n",
    " - how vary by time of day/year\n",
    "\n",
    "Seasonality stats?\n"
   ]
  },
  {
   "cell_type": "code",
   "execution_count": 1,
   "metadata": {},
   "outputs": [],
   "source": [
    "#import dep\n",
    "import numpy as np\n",
    "import pandas as pd\n",
    "import seaborn as sns\n",
    "sns.set()\n",
    "import matplotlib.pyplot as plt\n",
    "%matplotlib inline\n",
    "\n",
    "# local import\n",
    "from hospital import *"
   ]
  },
  {
   "cell_type": "code",
   "execution_count": 2,
   "metadata": {},
   "outputs": [
    {
     "name": "stdout",
     "output_type": "stream",
     "text": [
      "----------------------------------------\n",
      "Created hosp class instance:  hh\n",
      "----------------------------------------\n",
      "--------------------\n",
      "Patient fileload: \n",
      "--------------------\n",
      "Found:  hhEDpat.pkl\n",
      "Missing:  hhIPpat.pkl\n",
      "--------------------\n",
      "Daily fileload: \n",
      "--------------------\n",
      "Missing:  hhEDday.pkl\n",
      "Missing:  hhIPday.pkl\n"
     ]
    }
   ],
   "source": [
    "hh = hosp('hh')"
   ]
  },
  {
   "cell_type": "code",
   "execution_count": 3,
   "metadata": {},
   "outputs": [],
   "source": [
    "pat = hh.pat.get_ED()"
   ]
  },
  {
   "cell_type": "code",
   "execution_count": 4,
   "metadata": {},
   "outputs": [
    {
     "data": {
      "text/plain": [
       "(567635, 36)"
      ]
     },
     "execution_count": 4,
     "metadata": {},
     "output_type": "execute_result"
    }
   ],
   "source": [
    "pat.shape"
   ]
  },
  {
   "cell_type": "code",
   "execution_count": 5,
   "metadata": {},
   "outputs": [
    {
     "data": {
      "text/html": [
       "<div>\n",
       "<style scoped>\n",
       "    .dataframe tbody tr th:only-of-type {\n",
       "        vertical-align: middle;\n",
       "    }\n",
       "\n",
       "    .dataframe tbody tr th {\n",
       "        vertical-align: top;\n",
       "    }\n",
       "\n",
       "    .dataframe thead th {\n",
       "        text-align: right;\n",
       "    }\n",
       "</style>\n",
       "<table border=\"1\" class=\"dataframe\">\n",
       "  <thead>\n",
       "    <tr style=\"text-align: right;\">\n",
       "      <th></th>\n",
       "      <th>hosp_patid</th>\n",
       "      <th>age</th>\n",
       "      <th>gender</th>\n",
       "      <th>site</th>\n",
       "      <th>arrive_datetime</th>\n",
       "      <th>arrive_mode</th>\n",
       "      <th>first_triage_datetime</th>\n",
       "      <th>first_dr_datetime</th>\n",
       "      <th>first_adm_request_time</th>\n",
       "      <th>adm_referral_loc</th>\n",
       "      <th>...</th>\n",
       "      <th>depart_weekday_name</th>\n",
       "      <th>depart_year</th>\n",
       "      <th>depart_date</th>\n",
       "      <th>first_adm_request_datetime</th>\n",
       "      <th>arr_triage_wait</th>\n",
       "      <th>arr_dr_wait</th>\n",
       "      <th>arr_adm_req_wait</th>\n",
       "      <th>adm_req_dep_wait</th>\n",
       "      <th>dr_adm_req_wait</th>\n",
       "      <th>dr_dep_wait</th>\n",
       "    </tr>\n",
       "  </thead>\n",
       "  <tbody>\n",
       "    <tr>\n",
       "      <th>0</th>\n",
       "      <td>489709</td>\n",
       "      <td>43</td>\n",
       "      <td>Female</td>\n",
       "      <td>BNHH</td>\n",
       "      <td>2012-08-01 00:04:00</td>\n",
       "      <td>2.0</td>\n",
       "      <td>2012-08-01 00:18:00</td>\n",
       "      <td>2012-08-01 02:24:00</td>\n",
       "      <td>NaN</td>\n",
       "      <td>NaN</td>\n",
       "      <td>...</td>\n",
       "      <td>Wednesday</td>\n",
       "      <td>2012</td>\n",
       "      <td>2012-08-01</td>\n",
       "      <td>NaT</td>\n",
       "      <td>14.0</td>\n",
       "      <td>140.0</td>\n",
       "      <td>NaN</td>\n",
       "      <td>NaN</td>\n",
       "      <td>NaN</td>\n",
       "      <td>80.0</td>\n",
       "    </tr>\n",
       "  </tbody>\n",
       "</table>\n",
       "<p>1 rows × 36 columns</p>\n",
       "</div>"
      ],
      "text/plain": [
       "   hosp_patid  age  gender  site     arrive_datetime  arrive_mode  \\\n",
       "0      489709   43  Female  BNHH 2012-08-01 00:04:00          2.0   \n",
       "\n",
       "  first_triage_datetime   first_dr_datetime first_adm_request_time  \\\n",
       "0   2012-08-01 00:18:00 2012-08-01 02:24:00                    NaN   \n",
       "\n",
       "  adm_referral_loc     ...      depart_weekday_name depart_year depart_date  \\\n",
       "0              NaN     ...                Wednesday        2012  2012-08-01   \n",
       "\n",
       "   first_adm_request_datetime  arr_triage_wait arr_dr_wait arr_adm_req_wait  \\\n",
       "0                         NaT             14.0       140.0              NaN   \n",
       "\n",
       "  adm_req_dep_wait dr_adm_req_wait dr_dep_wait  \n",
       "0              NaN             NaN        80.0  \n",
       "\n",
       "[1 rows x 36 columns]"
      ]
     },
     "execution_count": 5,
     "metadata": {},
     "output_type": "execute_result"
    }
   ],
   "source": [
    "pat.head(1)"
   ]
  },
  {
   "cell_type": "code",
   "execution_count": 6,
   "metadata": {},
   "outputs": [
    {
     "data": {
      "text/plain": [
       "Index(['hosp_patid', 'age', 'gender', 'site', 'arrive_datetime', 'arrive_mode',\n",
       "       'first_triage_datetime', 'first_dr_datetime', 'first_adm_request_time',\n",
       "       'adm_referral_loc', 'adm_flag', 'depart_datetime', 'stream',\n",
       "       'waiting_time', 'breach_flag', 'arrive_hour', 'arrive_dayofweek',\n",
       "       'arrive_month', 'arrive_week', 'arrive_weekday_name', 'arrive_year',\n",
       "       'arrive_date', 'depart_hour', 'depart_dayofweek', 'depart_month',\n",
       "       'depart_week', 'depart_weekday_name', 'depart_year', 'depart_date',\n",
       "       'first_adm_request_datetime', 'arr_triage_wait', 'arr_dr_wait',\n",
       "       'arr_adm_req_wait', 'adm_req_dep_wait', 'dr_adm_req_wait',\n",
       "       'dr_dep_wait'],\n",
       "      dtype='object')"
      ]
     },
     "execution_count": 6,
     "metadata": {},
     "output_type": "execute_result"
    }
   ],
   "source": [
    "pat.columns"
   ]
  },
  {
   "cell_type": "markdown",
   "metadata": {},
   "source": [
    "# Cleaning"
   ]
  },
  {
   "cell_type": "markdown",
   "metadata": {},
   "source": [
    "check for long wait times"
   ]
  },
  {
   "cell_type": "code",
   "execution_count": 7,
   "metadata": {},
   "outputs": [
    {
     "data": {
      "text/plain": [
       "(0, 36)"
      ]
     },
     "execution_count": 7,
     "metadata": {},
     "output_type": "execute_result"
    }
   ],
   "source": [
    "pat[pat.waiting_time > 7*24*60].shape"
   ]
  },
  {
   "cell_type": "markdown",
   "metadata": {},
   "source": [
    "Also some patients that have negative wait times"
   ]
  },
  {
   "cell_type": "code",
   "execution_count": 8,
   "metadata": {},
   "outputs": [
    {
     "data": {
      "text/plain": [
       "(10, 36)"
      ]
     },
     "execution_count": 8,
     "metadata": {},
     "output_type": "execute_result"
    }
   ],
   "source": [
    "pat[pat.waiting_time < 0].shape"
   ]
  },
  {
   "cell_type": "markdown",
   "metadata": {},
   "source": [
    "pat = pat[pat.waiting_time > 0]"
   ]
  },
  {
   "cell_type": "markdown",
   "metadata": {},
   "source": [
    "pat.reset_index(drop=True,inplace=True)"
   ]
  },
  {
   "cell_type": "markdown",
   "metadata": {},
   "source": [
    "### Hourly discharge curves - looks like i need pat level df for medians/IQR calcs + groupby is crazy quick!"
   ]
  },
  {
   "cell_type": "markdown",
   "metadata": {},
   "source": [
    "input: weekday/weekend, range of dates, \n",
    "\n",
    "output: "
   ]
  },
  {
   "cell_type": "code",
   "execution_count": 9,
   "metadata": {},
   "outputs": [
    {
     "data": {
      "image/png": "[encoded data removed]",
      "text/plain": [
       "<matplotlib.figure.Figure at 0x1cf9fbd2da0>"
      ]
     },
     "metadata": {},
     "output_type": "display_data"
    }
   ],
   "source": [
    "ax = plt.subplot()\n",
    "arr = pat[['arrive_hour','hosp_patid']].groupby(['arrive_hour']).count()#.plot(ax=ax)\n",
    "dep = pat[['depart_hour','hosp_patid']].groupby(['depart_hour']).count()#.plot(ax=ax)\n",
    "arr.plot(ax=ax)\n",
    "dep.plot(ax=ax)\n",
    "ax.set_xticks(np.arange(0,25,2));"
   ]
  },
  {
   "cell_type": "code",
   "execution_count": 10,
   "metadata": {},
   "outputs": [
    {
     "data": {
      "image/png": "[encoded data removed]",
      "text/plain": [
       "<matplotlib.figure.Figure at 0x1cfb72935c0>"
      ]
     },
     "metadata": {},
     "output_type": "display_data"
    }
   ],
   "source": [
    "ax = plt.subplot();\n",
    "arr = pat[['arrive_hour','hosp_patid']].groupby(['arrive_hour']).count()#.plot(ax=ax)\n",
    "dep = pat[['depart_hour','hosp_patid']].groupby(['depart_hour']).count()#.plot(ax=ax)\n",
    "arr.plot(ax=ax);\n",
    "dep.plot(ax=ax);\n",
    "ax.legend(['arrivals','departures']);\n",
    "ax.set_xlabel('Hour of day');\n",
    "ax.set_ylabel('Count of patients');\n",
    "ax.set_xticks(np.arange(0,25,2));"
   ]
  },
  {
   "cell_type": "code",
   "execution_count": 11,
   "metadata": {},
   "outputs": [
    {
     "data": {
      "image/png": "[encoded data removed]",
      "text/plain": [
       "<matplotlib.figure.Figure at 0x1cfa84827f0>"
      ]
     },
     "metadata": {},
     "output_type": "display_data"
    }
   ],
   "source": [
    "ax1 = plt.subplot();\n",
    "(arr-dep).plot(kind='bar',ax=ax1);\n",
    "ax.set_xlabel('Hour of day');\n",
    "ax.set_ylabel('Change in occupancy');"
   ]
  },
  {
   "cell_type": "code",
   "execution_count": 12,
   "metadata": {},
   "outputs": [
    {
     "data": {
      "image/png": "[encoded data removed]",
      "text/plain": [
       "<matplotlib.figure.Figure at 0x1cfa61b6978>"
      ]
     },
     "metadata": {},
     "output_type": "display_data"
    }
   ],
   "source": [
    "daily_dep = pat[['depart_hour','arrive_date','hosp_patid']].groupby(['depart_hour','arrive_date']).count()\n",
    "daily_arr = pat[['arrive_hour','arrive_date','hosp_patid']].groupby(['arrive_hour','arrive_date']).count()\n",
    "\n",
    "daily_dep_m = daily_dep.groupby(['depart_hour']).median()#['hosp_patid'].plot()\n",
    "daily_arr_m = daily_arr.groupby(['arrive_hour']).median()#['hosp_patid'].plot()\n",
    "\n",
    "daily_arr_UQ = daily_arr.groupby(['arrive_hour']).quantile(0.75)#['hosp_patid'].plot()\n",
    "daily_arr_LQ = daily_arr.groupby(['arrive_hour']).quantile(0.25)#['hosp_patid'].plot() \n",
    "\n",
    "\n",
    "daily_dep_UQ = daily_dep.groupby(['depart_hour']).quantile(0.75)#['hosp_patid'].plot()\n",
    "daily_dep_LQ = daily_dep.groupby(['depart_hour']).quantile(0.25)#['hosp_patid'].plot() \n",
    "\n",
    "\n",
    "ax = plt.subplot()\n",
    "\n",
    "daily_arr_m.plot(ax=ax)\n",
    "\n",
    "\n",
    "ax.fill_between(x = daily_arr_UQ.index,y1=daily_arr_UQ['hosp_patid'],y2=daily_arr_LQ['hosp_patid'],alpha=0.2)\n",
    "\n",
    "daily_dep_m.plot(ax=ax)\n",
    "ax.fill_between(x = daily_dep_UQ.index,y1=daily_dep_UQ['hosp_patid'],y2=daily_dep_LQ['hosp_patid'],alpha=0.2)\n",
    "\n",
    "\n",
    "ax.legend(['arrivals','departures','arr IQR','dep IQR'],frameon=True,loc='upper left');\n",
    "ax.set_xlabel('Hour of day');\n",
    "ax.set_ylabel('Number of patients (median)');\n",
    "ax.set_xticks(np.arange(0,25,2));"
   ]
  },
  {
   "cell_type": "code",
   "execution_count": 13,
   "metadata": {},
   "outputs": [
    {
     "data": {
      "text/plain": [
       "<matplotlib.legend.Legend at 0x1cfa6451c50>"
      ]
     },
     "execution_count": 13,
     "metadata": {},
     "output_type": "execute_result"
    },
    {
     "data": {
      "image/png": "[encoded data removed]",
      "text/plain": [
       "<matplotlib.figure.Figure at 0x1cfa62d9b38>"
      ]
     },
     "metadata": {},
     "output_type": "display_data"
    }
   ],
   "source": [
    "ax = plt.subplot();\n",
    "(daily_arr_m-daily_dep_m).plot(kind='bar',ax=ax);\n",
    "ax.set_xlabel('Hour of day');\n",
    "ax.set_ylabel('Change in occupancy per hour (median)');\n",
    "ax.legend([])"
   ]
  },
  {
   "cell_type": "code",
   "execution_count": 14,
   "metadata": {},
   "outputs": [
    {
     "data": {
      "image/png": "[encoded data removed]",
      "text/plain": [
       "<matplotlib.figure.Figure at 0x1cfa63d1d30>"
      ]
     },
     "metadata": {},
     "output_type": "display_data"
    }
   ],
   "source": [
    "ax = plt.subplot();\n",
    "(daily_arr_m-daily_dep_m).plot(ax=ax);\n",
    "\n",
    "\n",
    "y1 = (daily_arr_UQ - daily_dep_LQ)['hosp_patid']\n",
    "y2 = (daily_arr_LQ - daily_dep_UQ)['hosp_patid']\n",
    "\n",
    "ax.fill_between(x = daily_dep_UQ.index,y1=y1,y2=y2,alpha=0.2)\n",
    "\n",
    "\n",
    "\n",
    "ax.set_xlabel('Hour of day');\n",
    "ax.set_ylabel('Change in occupancy per hour');\n",
    "ax.legend(['median','IQR'])\n",
    "ax.plot([0,24],[0,0],'r')\n",
    "ax.set_xticks(np.arange(0,25,2));"
   ]
  },
  {
   "cell_type": "code",
   "execution_count": 15,
   "metadata": {},
   "outputs": [
    {
     "data": {
      "image/png": "[encoded data removed]",
      "text/plain": [
       "<matplotlib.figure.Figure at 0x1cfa61f1eb8>"
      ]
     },
     "metadata": {},
     "output_type": "display_data"
    }
   ],
   "source": [
    "daily_dep = pat[['depart_hour','arrive_date','hosp_patid']].groupby(['depart_hour','arrive_date']).count()\n",
    "daily_arr = pat[['arrive_hour','arrive_date','hosp_patid']].groupby(['arrive_hour','arrive_date']).count()\n",
    "\n",
    "daily_arr = daily_arr.groupby(['arrive_hour']).mean()#['hosp_patid'].plot()\n",
    "daily_dep = daily_dep.groupby(['depart_hour']).mean()#['hosp_patid'].plot()\n",
    "\n",
    "\n",
    "#UQ = daily.groupby(['depart_hour']).quantile(0.75)#['hosp_patid'].plot()\n",
    "#LQ = daily.groupby(['depart_hour']).quantile(0.25)#['hosp_patid'].plot() \n",
    "\n",
    "ax = plt.subplot()\n",
    "daily_arr.plot(ax=ax)\n",
    "daily_dep.plot(ax=ax)\n",
    "\n",
    "ax.legend(['arrivals','departures']);\n",
    "ax.set_xlabel('Hour of day');\n",
    "ax.set_ylabel('Number of patients (mean)');\n",
    "ax.set_xticks(np.arange(0,25,2));"
   ]
  },
  {
   "cell_type": "code",
   "execution_count": 16,
   "metadata": {},
   "outputs": [
    {
     "data": {
      "text/plain": [
       "<matplotlib.legend.Legend at 0x1cfa66c0e80>"
      ]
     },
     "execution_count": 16,
     "metadata": {},
     "output_type": "execute_result"
    },
    {
     "data": {
      "image/png": "[encoded data removed]",
      "text/plain": [
       "<matplotlib.figure.Figure at 0x1cfa60f2c18>"
      ]
     },
     "metadata": {},
     "output_type": "display_data"
    }
   ],
   "source": [
    "ax = plt.subplot();\n",
    "(daily_arr-daily_dep).plot(kind='bar',ax=ax);\n",
    "ax.set_xlabel('Hour of day');\n",
    "ax.set_ylabel('Change in occupancy (mean)');\n",
    "ax.legend([])"
   ]
  },
  {
   "cell_type": "code",
   "execution_count": null,
   "metadata": {},
   "outputs": [],
   "source": []
  },
  {
   "cell_type": "markdown",
   "metadata": {},
   "source": [
    "# Arrival trends over time"
   ]
  },
  {
   "cell_type": "code",
   "execution_count": 17,
   "metadata": {},
   "outputs": [
    {
     "data": {
      "text/plain": [
       "<matplotlib.legend.Legend at 0x1cfa612a390>"
      ]
     },
     "execution_count": 17,
     "metadata": {},
     "output_type": "execute_result"
    },
    {
     "data": {
      "image/png": "[encoded data removed]",
      "text/plain": [
       "<matplotlib.figure.Figure at 0x1cfa63f5b00>"
      ]
     },
     "metadata": {},
     "output_type": "display_data"
    }
   ],
   "source": [
    "ax = plt.subplot()\n",
    "pat[['arrive_date','hosp_patid']].groupby('arrive_date').count()[:-1].plot(ax=ax)\n",
    "pat[['arrive_date','hosp_patid']].groupby('arrive_date').count()[:-1].rolling(30).mean().plot(ax=ax,color='r')\n",
    "ax.set_ylabel('Daily arrivals')\n",
    "ax.legend(['daily','30 day mean'],frameon=True)"
   ]
  },
  {
   "cell_type": "code",
   "execution_count": 18,
   "metadata": {},
   "outputs": [],
   "source": [
    "labels = pat[['arrive_year','arrive_month','hosp_patid']].groupby(['arrive_year','arrive_month']).count().index"
   ]
  },
  {
   "cell_type": "code",
   "execution_count": 19,
   "metadata": {},
   "outputs": [
    {
     "data": {
      "text/plain": [
       "[Text(0,0,'2011'),\n",
       " Text(0,0,'2012'),\n",
       " Text(0,0,'2013'),\n",
       " Text(0,0,'2014'),\n",
       " Text(0,0,'2015'),\n",
       " Text(0,0,'2016'),\n",
       " Text(0,0,'2017'),\n",
       " Text(0,0,'2018')]"
      ]
     },
     "execution_count": 19,
     "metadata": {},
     "output_type": "execute_result"
    },
    {
     "data": {
      "image/png": "[encoded data removed]",
      "text/plain": [
       "<matplotlib.figure.Figure at 0x1cfa632dba8>"
      ]
     },
     "metadata": {},
     "output_type": "display_data"
    }
   ],
   "source": [
    "ax = plt.subplot()\n",
    "pat[['arrive_year','arrive_month','hosp_patid']].groupby(['arrive_year','arrive_month']).count()[:-1].plot(ax=ax,kind='line');\n",
    "ax2 = ax.twinx()\n",
    "pat[['arrive_year','arrive_month','adm_flag']].groupby(['arrive_year','arrive_month']).sum()[:-1].plot(ax=ax2,kind='line',style='r');\n",
    "#pat[['arrive_date','hosp_patid']].groupby('arrive_date').count()[:-1].rolling(30).mean().plot(ax=ax,color='r')\n",
    "ax.set_ylabel('Monthly attendances');\n",
    "ax.legend(['attendances'],frameon=True);\n",
    "ax2.legend(['admissions'],frameon=True, loc='lower right');\n",
    "ax2.grid(False)\n",
    "ax2.set_ylabel('Monthly admissions');\n",
    "ax.set_xticklabels(np.arange(2011,2019,1))### not this is massively guessed!"
   ]
  },
  {
   "cell_type": "code",
   "execution_count": 20,
   "metadata": {},
   "outputs": [
    {
     "data": {
      "text/plain": [
       "Text(0.5,0,'')"
      ]
     },
     "execution_count": 20,
     "metadata": {},
     "output_type": "execute_result"
    },
    {
     "data": {
      "image/png": "[encoded data removed]",
      "text/plain": [
       "<matplotlib.figure.Figure at 0x1cfa61b67f0>"
      ]
     },
     "metadata": {},
     "output_type": "display_data"
    }
   ],
   "source": [
    "ax = plt.subplot()\n",
    "pat[['arrive_year','hosp_patid']].groupby('arrive_year').count()[:-1][1:].plot(ax=ax,kind='bar')\n",
    "#pat[['arrive_date','hosp_patid']].groupby('arrive_date').count()[:-1].rolling(30).mean().plot(ax=ax,color='r')\n",
    "ax.set_ylabel('yearly attendances')\n",
    "ax.legend_.remove()\n",
    "ax.set_xlabel('')\n",
    "#ax.legend(['daily','30 day mean'],frameon=True)"
   ]
  },
  {
   "cell_type": "code",
   "execution_count": 21,
   "metadata": {},
   "outputs": [
    {
     "data": {
      "text/plain": [
       "Text(0,0.5,'Total arrivals')"
      ]
     },
     "execution_count": 21,
     "metadata": {},
     "output_type": "execute_result"
    },
    {
     "data": {
      "image/png": "[encoded data removed]",
      "text/plain": [
       "<matplotlib.figure.Figure at 0x1cfa6108518>"
      ]
     },
     "metadata": {},
     "output_type": "display_data"
    }
   ],
   "source": [
    "ax = plt.subplot()\n",
    "pat[['arrive_year','hosp_patid']].groupby('arrive_year').count()[:-1].plot(ax=ax,kind='bar')\n",
    "#pat[['arrive_date','hosp_patid']].groupby('arrive_date').count()[:-1].rolling(30).mean().plot(ax=ax,color='r')\n",
    "ax.set_ylabel('Total arrivals')\n",
    "#ax.legend(['daily','30 day mean'],frameon=True)"
   ]
  },
  {
   "cell_type": "code",
   "execution_count": 22,
   "metadata": {},
   "outputs": [
    {
     "data": {
      "text/plain": [
       "Text(0,0.5,'Total arrivals')"
      ]
     },
     "execution_count": 22,
     "metadata": {},
     "output_type": "execute_result"
    },
    {
     "data": {
      "image/png": "[encoded data removed]",
      "text/plain": [
       "<matplotlib.figure.Figure at 0x1cfa6800438>"
      ]
     },
     "metadata": {},
     "output_type": "display_data"
    }
   ],
   "source": [
    "ax = plt.subplot()\n",
    "pat[['arrive_year','adm_flag']].groupby('arrive_year').sum()[:-1].plot(ax=ax,kind='bar')\n",
    "#pat[['arrive_date','hosp_patid']].groupby('arrive_date').count()[:-1].rolling(30).mean().plot(ax=ax,color='r')\n",
    "ax.set_ylabel('Total arrivals')\n",
    "#ax.legend(['daily','30 day mean'],frameon=True)"
   ]
  },
  {
   "cell_type": "code",
   "execution_count": 23,
   "metadata": {},
   "outputs": [
    {
     "data": {
      "text/html": [
       "<div>\n",
       "<style scoped>\n",
       "    .dataframe tbody tr th:only-of-type {\n",
       "        vertical-align: middle;\n",
       "    }\n",
       "\n",
       "    .dataframe tbody tr th {\n",
       "        vertical-align: top;\n",
       "    }\n",
       "\n",
       "    .dataframe thead th {\n",
       "        text-align: right;\n",
       "    }\n",
       "</style>\n",
       "<table border=\"1\" class=\"dataframe\">\n",
       "  <thead>\n",
       "    <tr style=\"text-align: right;\">\n",
       "      <th></th>\n",
       "      <th>hosp_patid</th>\n",
       "    </tr>\n",
       "    <tr>\n",
       "      <th>arrive_year</th>\n",
       "      <th></th>\n",
       "    </tr>\n",
       "  </thead>\n",
       "  <tbody>\n",
       "    <tr>\n",
       "      <th>2013</th>\n",
       "      <td>93024</td>\n",
       "    </tr>\n",
       "    <tr>\n",
       "      <th>2014</th>\n",
       "      <td>101688</td>\n",
       "    </tr>\n",
       "    <tr>\n",
       "      <th>2015</th>\n",
       "      <td>103547</td>\n",
       "    </tr>\n",
       "    <tr>\n",
       "      <th>2016</th>\n",
       "      <td>110075</td>\n",
       "    </tr>\n",
       "    <tr>\n",
       "      <th>2017</th>\n",
       "      <td>110887</td>\n",
       "    </tr>\n",
       "  </tbody>\n",
       "</table>\n",
       "</div>"
      ],
      "text/plain": [
       "             hosp_patid\n",
       "arrive_year            \n",
       "2013              93024\n",
       "2014             101688\n",
       "2015             103547\n",
       "2016             110075\n",
       "2017             110887"
      ]
     },
     "execution_count": 23,
     "metadata": {},
     "output_type": "execute_result"
    }
   ],
   "source": [
    "pat[['arrive_year','hosp_patid']].groupby('arrive_year').count()[1:-1]"
   ]
  },
  {
   "cell_type": "code",
   "execution_count": 24,
   "metadata": {},
   "outputs": [],
   "source": [
    "yearly = pat.groupby('arrive_year').agg({'hosp_patid':'count','adm_flag':'sum'})[1:-1]"
   ]
  },
  {
   "cell_type": "code",
   "execution_count": 25,
   "metadata": {},
   "outputs": [],
   "source": [
    "yearly.rename(columns={'adm_flag':'ED admissions','hosp_patid':'ED attendances'},inplace=True)"
   ]
  },
  {
   "cell_type": "code",
   "execution_count": 26,
   "metadata": {},
   "outputs": [],
   "source": [
    "yearly['conversion ratio'] = 100* yearly['ED admissions'] / yearly['ED attendances']"
   ]
  },
  {
   "cell_type": "code",
   "execution_count": 27,
   "metadata": {},
   "outputs": [
    {
     "data": {
      "text/html": [
       "<div>\n",
       "<style scoped>\n",
       "    .dataframe tbody tr th:only-of-type {\n",
       "        vertical-align: middle;\n",
       "    }\n",
       "\n",
       "    .dataframe tbody tr th {\n",
       "        vertical-align: top;\n",
       "    }\n",
       "\n",
       "    .dataframe thead th {\n",
       "        text-align: right;\n",
       "    }\n",
       "</style>\n",
       "<table border=\"1\" class=\"dataframe\">\n",
       "  <thead>\n",
       "    <tr style=\"text-align: right;\">\n",
       "      <th></th>\n",
       "      <th>ED attendances</th>\n",
       "      <th>ED admissions</th>\n",
       "      <th>conversion ratio</th>\n",
       "    </tr>\n",
       "    <tr>\n",
       "      <th>arrive_year</th>\n",
       "      <th></th>\n",
       "      <th></th>\n",
       "      <th></th>\n",
       "    </tr>\n",
       "  </thead>\n",
       "  <tbody>\n",
       "    <tr>\n",
       "      <th>2013</th>\n",
       "      <td>93024</td>\n",
       "      <td>23189</td>\n",
       "      <td>24.927976</td>\n",
       "    </tr>\n",
       "    <tr>\n",
       "      <th>2014</th>\n",
       "      <td>101688</td>\n",
       "      <td>23898</td>\n",
       "      <td>23.501298</td>\n",
       "    </tr>\n",
       "    <tr>\n",
       "      <th>2015</th>\n",
       "      <td>103547</td>\n",
       "      <td>26563</td>\n",
       "      <td>25.653085</td>\n",
       "    </tr>\n",
       "    <tr>\n",
       "      <th>2016</th>\n",
       "      <td>110075</td>\n",
       "      <td>29702</td>\n",
       "      <td>26.983420</td>\n",
       "    </tr>\n",
       "    <tr>\n",
       "      <th>2017</th>\n",
       "      <td>110887</td>\n",
       "      <td>29798</td>\n",
       "      <td>26.872402</td>\n",
       "    </tr>\n",
       "  </tbody>\n",
       "</table>\n",
       "</div>"
      ],
      "text/plain": [
       "             ED attendances  ED admissions  conversion ratio\n",
       "arrive_year                                                 \n",
       "2013                  93024          23189         24.927976\n",
       "2014                 101688          23898         23.501298\n",
       "2015                 103547          26563         25.653085\n",
       "2016                 110075          29702         26.983420\n",
       "2017                 110887          29798         26.872402"
      ]
     },
     "execution_count": 27,
     "metadata": {},
     "output_type": "execute_result"
    }
   ],
   "source": [
    "yearly"
   ]
  },
  {
   "cell_type": "code",
   "execution_count": 28,
   "metadata": {},
   "outputs": [
    {
     "data": {
      "text/plain": [
       "0.09313725490196079"
      ]
     },
     "execution_count": 28,
     "metadata": {},
     "output_type": "execute_result"
    }
   ],
   "source": [
    "(101688 - 93024)/93024"
   ]
  },
  {
   "cell_type": "code",
   "execution_count": 29,
   "metadata": {},
   "outputs": [
    {
     "data": {
      "text/html": [
       "<div>\n",
       "<style scoped>\n",
       "    .dataframe tbody tr th:only-of-type {\n",
       "        vertical-align: middle;\n",
       "    }\n",
       "\n",
       "    .dataframe tbody tr th {\n",
       "        vertical-align: top;\n",
       "    }\n",
       "\n",
       "    .dataframe thead th {\n",
       "        text-align: right;\n",
       "    }\n",
       "</style>\n",
       "<table border=\"1\" class=\"dataframe\">\n",
       "  <thead>\n",
       "    <tr style=\"text-align: right;\">\n",
       "      <th></th>\n",
       "      <th>ED attendances</th>\n",
       "      <th>ED admissions</th>\n",
       "      <th>conversion ratio</th>\n",
       "    </tr>\n",
       "    <tr>\n",
       "      <th>arrive_year</th>\n",
       "      <th></th>\n",
       "      <th></th>\n",
       "      <th></th>\n",
       "    </tr>\n",
       "  </thead>\n",
       "  <tbody>\n",
       "    <tr>\n",
       "      <th>2013</th>\n",
       "      <td>NaN</td>\n",
       "      <td>NaN</td>\n",
       "      <td>NaN</td>\n",
       "    </tr>\n",
       "    <tr>\n",
       "      <th>2014</th>\n",
       "      <td>9.313725</td>\n",
       "      <td>3.057484</td>\n",
       "      <td>-5.723198</td>\n",
       "    </tr>\n",
       "    <tr>\n",
       "      <th>2015</th>\n",
       "      <td>1.828141</td>\n",
       "      <td>11.151561</td>\n",
       "      <td>9.156035</td>\n",
       "    </tr>\n",
       "    <tr>\n",
       "      <th>2016</th>\n",
       "      <td>6.304384</td>\n",
       "      <td>11.817189</td>\n",
       "      <td>5.185869</td>\n",
       "    </tr>\n",
       "    <tr>\n",
       "      <th>2017</th>\n",
       "      <td>0.737679</td>\n",
       "      <td>0.323211</td>\n",
       "      <td>-0.411433</td>\n",
       "    </tr>\n",
       "  </tbody>\n",
       "</table>\n",
       "</div>"
      ],
      "text/plain": [
       "             ED attendances  ED admissions  conversion ratio\n",
       "arrive_year                                                 \n",
       "2013                    NaN            NaN               NaN\n",
       "2014               9.313725       3.057484         -5.723198\n",
       "2015               1.828141      11.151561          9.156035\n",
       "2016               6.304384      11.817189          5.185869\n",
       "2017               0.737679       0.323211         -0.411433"
      ]
     },
     "execution_count": 29,
     "metadata": {},
     "output_type": "execute_result"
    }
   ],
   "source": [
    "yearly.pct_change()*100"
   ]
  },
  {
   "cell_type": "code",
   "execution_count": 30,
   "metadata": {},
   "outputs": [
    {
     "data": {
      "text/html": [
       "<div>\n",
       "<style scoped>\n",
       "    .dataframe tbody tr th:only-of-type {\n",
       "        vertical-align: middle;\n",
       "    }\n",
       "\n",
       "    .dataframe tbody tr th {\n",
       "        vertical-align: top;\n",
       "    }\n",
       "\n",
       "    .dataframe thead th {\n",
       "        text-align: right;\n",
       "    }\n",
       "</style>\n",
       "<table border=\"1\" class=\"dataframe\">\n",
       "  <thead>\n",
       "    <tr style=\"text-align: right;\">\n",
       "      <th></th>\n",
       "      <th>ED attendances</th>\n",
       "      <th>ED admissions</th>\n",
       "      <th>conversion ratio</th>\n",
       "    </tr>\n",
       "    <tr>\n",
       "      <th>arrive_year</th>\n",
       "      <th></th>\n",
       "      <th></th>\n",
       "      <th></th>\n",
       "    </tr>\n",
       "  </thead>\n",
       "  <tbody>\n",
       "    <tr>\n",
       "      <th>2013</th>\n",
       "      <td>NaN</td>\n",
       "      <td>NaN</td>\n",
       "      <td>NaN</td>\n",
       "    </tr>\n",
       "    <tr>\n",
       "      <th>2017</th>\n",
       "      <td>19.202571</td>\n",
       "      <td>28.500582</td>\n",
       "      <td>7.800176</td>\n",
       "    </tr>\n",
       "  </tbody>\n",
       "</table>\n",
       "</div>"
      ],
      "text/plain": [
       "             ED attendances  ED admissions  conversion ratio\n",
       "arrive_year                                                 \n",
       "2013                    NaN            NaN               NaN\n",
       "2017              19.202571      28.500582          7.800176"
      ]
     },
     "execution_count": 30,
     "metadata": {},
     "output_type": "execute_result"
    }
   ],
   "source": [
    "yearly.loc[[2013,2017]].pct_change()*100"
   ]
  },
  {
   "cell_type": "code",
   "execution_count": 31,
   "metadata": {},
   "outputs": [
    {
     "data": {
      "text/html": [
       "<div>\n",
       "<style scoped>\n",
       "    .dataframe tbody tr th:only-of-type {\n",
       "        vertical-align: middle;\n",
       "    }\n",
       "\n",
       "    .dataframe tbody tr th {\n",
       "        vertical-align: top;\n",
       "    }\n",
       "\n",
       "    .dataframe thead th {\n",
       "        text-align: right;\n",
       "    }\n",
       "</style>\n",
       "<table border=\"1\" class=\"dataframe\">\n",
       "  <thead>\n",
       "    <tr style=\"text-align: right;\">\n",
       "      <th></th>\n",
       "      <th>ED attendances</th>\n",
       "      <th>ED admissions</th>\n",
       "      <th>conversion ratio</th>\n",
       "    </tr>\n",
       "    <tr>\n",
       "      <th>arrive_year</th>\n",
       "      <th></th>\n",
       "      <th></th>\n",
       "      <th></th>\n",
       "    </tr>\n",
       "  </thead>\n",
       "  <tbody>\n",
       "    <tr>\n",
       "      <th>2013</th>\n",
       "      <td>NaN</td>\n",
       "      <td>NaN</td>\n",
       "      <td>NaN</td>\n",
       "    </tr>\n",
       "    <tr>\n",
       "      <th>2017</th>\n",
       "      <td>4.800643</td>\n",
       "      <td>7.125146</td>\n",
       "      <td>1.950044</td>\n",
       "    </tr>\n",
       "  </tbody>\n",
       "</table>\n",
       "</div>"
      ],
      "text/plain": [
       "             ED attendances  ED admissions  conversion ratio\n",
       "arrive_year                                                 \n",
       "2013                    NaN            NaN               NaN\n",
       "2017               4.800643       7.125146          1.950044"
      ]
     },
     "execution_count": 31,
     "metadata": {},
     "output_type": "execute_result"
    }
   ],
   "source": [
    "yearly.loc[[2013,2017]].pct_change()*100/4"
   ]
  },
  {
   "cell_type": "code",
   "execution_count": 32,
   "metadata": {},
   "outputs": [
    {
     "data": {
      "text/plain": [
       "<matplotlib.legend.Legend at 0x1cfa6712240>"
      ]
     },
     "execution_count": 32,
     "metadata": {},
     "output_type": "execute_result"
    },
    {
     "data": {
      "image/png": "[encoded data removed]",
      "text/plain": [
       "<matplotlib.figure.Figure at 0x1cfa616d080>"
      ]
     },
     "metadata": {},
     "output_type": "display_data"
    }
   ],
   "source": [
    "ax = plt.subplot()\n",
    "ax2 = ax.twinx()\n",
    "width= 0.2\n",
    "yearly['ED attendances'].plot.bar(ax=ax,position=1,width=width,color='b')\n",
    "yearly['ED admissions'].plot.bar(ax=ax2,position=0,width=width,color='r')\n",
    "ax2.grid(False);\n",
    "ax.set_ylabel('attendances');\n",
    "ax2.set_ylabel('admissions');\n",
    "ax.set_xlabel('')\n",
    "ax.legend(['attendances','admissions'],frameon=True)\n"
   ]
  },
  {
   "cell_type": "code",
   "execution_count": 33,
   "metadata": {},
   "outputs": [
    {
     "data": {
      "text/plain": [
       "Text(0.5,0,'')"
      ]
     },
     "execution_count": 33,
     "metadata": {},
     "output_type": "execute_result"
    },
    {
     "data": {
      "image/png": "[encoded data removed]",
      "text/plain": [
       "<matplotlib.figure.Figure at 0x1cfa63a0d30>"
      ]
     },
     "metadata": {},
     "output_type": "display_data"
    }
   ],
   "source": [
    "ax = plt.subplot()\n",
    "#ax2 = ax.twinx()\n",
    "width= 0.3\n",
    "#yearly['ED attendances'].plot.bar(ax=ax,position=1,width=width,color='b')\n",
    "#yearly['ED admissions'].plot.bar(ax=ax,position=0,width=width,secondary_y=True,color='r')\n",
    "yearly.plot.bar(ax=ax,position=0,width=width,secondary_y=['ED admissions'],color='r')\n",
    "#ax.grid(False);\n",
    "ax.set_ylabel('attendances');\n",
    "ax.right_ax.set_ylabel('admisisons');\n",
    "#ax2.set_ylabel('admissions');\n",
    "ax.right_ax.grid(False)\n",
    "ax.set_xlabel('')\n",
    "#ax.legend(['attendances','admissions'],frameon=True)\n"
   ]
  },
  {
   "cell_type": "code",
   "execution_count": null,
   "metadata": {},
   "outputs": [],
   "source": []
  },
  {
   "cell_type": "markdown",
   "metadata": {},
   "source": [
    "### Summary stats of variation for: Arrival - first clinitian Triage - … DTA - admission"
   ]
  },
  {
   "cell_type": "code",
   "execution_count": 34,
   "metadata": {},
   "outputs": [
    {
     "data": {
      "text/plain": [
       "Index(['hosp_patid', 'age', 'gender', 'site', 'arrive_datetime', 'arrive_mode',\n",
       "       'first_triage_datetime', 'first_dr_datetime', 'first_adm_request_time',\n",
       "       'adm_referral_loc', 'adm_flag', 'depart_datetime', 'stream',\n",
       "       'waiting_time', 'breach_flag', 'arrive_hour', 'arrive_dayofweek',\n",
       "       'arrive_month', 'arrive_week', 'arrive_weekday_name', 'arrive_year',\n",
       "       'arrive_date', 'depart_hour', 'depart_dayofweek', 'depart_month',\n",
       "       'depart_week', 'depart_weekday_name', 'depart_year', 'depart_date',\n",
       "       'first_adm_request_datetime', 'arr_triage_wait', 'arr_dr_wait',\n",
       "       'arr_adm_req_wait', 'adm_req_dep_wait', 'dr_adm_req_wait',\n",
       "       'dr_dep_wait'],\n",
       "      dtype='object')"
      ]
     },
     "execution_count": 34,
     "metadata": {},
     "output_type": "execute_result"
    }
   ],
   "source": [
    "pat.columns"
   ]
  },
  {
   "cell_type": "code",
   "execution_count": null,
   "metadata": {},
   "outputs": [],
   "source": []
  },
  {
   "cell_type": "code",
   "execution_count": null,
   "metadata": {},
   "outputs": [],
   "source": []
  },
  {
   "cell_type": "code",
   "execution_count": null,
   "metadata": {},
   "outputs": [],
   "source": []
  },
  {
   "cell_type": "markdown",
   "metadata": {},
   "source": [
    "### waiting time plots"
   ]
  },
  {
   "cell_type": "code",
   "execution_count": 35,
   "metadata": {},
   "outputs": [],
   "source": [
    "wait_cols = ['arr_triage_wait','arr_dr_wait','dr_adm_req_wait','adm_req_dep_wait','dr_dep_wait']\n",
    "dt_cols = ['arrive_datetime','first_triage_datetime','first_dr_datetime','first_adm_request_datetime','depart_datetime']"
   ]
  },
  {
   "cell_type": "code",
   "execution_count": 36,
   "metadata": {},
   "outputs": [
    {
     "data": {
      "text/html": [
       "<div>\n",
       "<style scoped>\n",
       "    .dataframe tbody tr th:only-of-type {\n",
       "        vertical-align: middle;\n",
       "    }\n",
       "\n",
       "    .dataframe tbody tr th {\n",
       "        vertical-align: top;\n",
       "    }\n",
       "\n",
       "    .dataframe thead th {\n",
       "        text-align: right;\n",
       "    }\n",
       "</style>\n",
       "<table border=\"1\" class=\"dataframe\">\n",
       "  <thead>\n",
       "    <tr style=\"text-align: right;\">\n",
       "      <th></th>\n",
       "      <th>arr_triage_wait</th>\n",
       "      <th>arr_dr_wait</th>\n",
       "      <th>dr_adm_req_wait</th>\n",
       "      <th>adm_req_dep_wait</th>\n",
       "      <th>dr_dep_wait</th>\n",
       "    </tr>\n",
       "  </thead>\n",
       "  <tbody>\n",
       "    <tr>\n",
       "      <th>count</th>\n",
       "      <td>563648.000000</td>\n",
       "      <td>567571.000000</td>\n",
       "      <td>118593.000000</td>\n",
       "      <td>118594.000000</td>\n",
       "      <td>567571.000000</td>\n",
       "    </tr>\n",
       "    <tr>\n",
       "      <th>mean</th>\n",
       "      <td>12.043955</td>\n",
       "      <td>76.126664</td>\n",
       "      <td>64.332233</td>\n",
       "      <td>130.702723</td>\n",
       "      <td>89.456593</td>\n",
       "    </tr>\n",
       "    <tr>\n",
       "      <th>std</th>\n",
       "      <td>512.054942</td>\n",
       "      <td>521.529433</td>\n",
       "      <td>1120.810694</td>\n",
       "      <td>175.462916</td>\n",
       "      <td>529.560274</td>\n",
       "    </tr>\n",
       "    <tr>\n",
       "      <th>min</th>\n",
       "      <td>-11520.000000</td>\n",
       "      <td>-10009.000000</td>\n",
       "      <td>-383756.783333</td>\n",
       "      <td>-1435.383333</td>\n",
       "      <td>-383727.000000</td>\n",
       "    </tr>\n",
       "    <tr>\n",
       "      <th>25%</th>\n",
       "      <td>2.000000</td>\n",
       "      <td>26.000000</td>\n",
       "      <td>24.116667</td>\n",
       "      <td>44.616667</td>\n",
       "      <td>22.000000</td>\n",
       "    </tr>\n",
       "    <tr>\n",
       "      <th>50%</th>\n",
       "      <td>7.000000</td>\n",
       "      <td>59.000000</td>\n",
       "      <td>61.050000</td>\n",
       "      <td>94.200000</td>\n",
       "      <td>58.000000</td>\n",
       "    </tr>\n",
       "    <tr>\n",
       "      <th>75%</th>\n",
       "      <td>15.000000</td>\n",
       "      <td>110.000000</td>\n",
       "      <td>107.516667</td>\n",
       "      <td>174.662500</td>\n",
       "      <td>129.000000</td>\n",
       "    </tr>\n",
       "    <tr>\n",
       "      <th>max</th>\n",
       "      <td>383767.000000</td>\n",
       "      <td>383906.000000</td>\n",
       "      <td>1704.950000</td>\n",
       "      <td>5318.550000</td>\n",
       "      <td>10072.000000</td>\n",
       "    </tr>\n",
       "  </tbody>\n",
       "</table>\n",
       "</div>"
      ],
      "text/plain": [
       "       arr_triage_wait    arr_dr_wait  dr_adm_req_wait  adm_req_dep_wait  \\\n",
       "count    563648.000000  567571.000000    118593.000000     118594.000000   \n",
       "mean         12.043955      76.126664        64.332233        130.702723   \n",
       "std         512.054942     521.529433      1120.810694        175.462916   \n",
       "min      -11520.000000  -10009.000000   -383756.783333      -1435.383333   \n",
       "25%           2.000000      26.000000        24.116667         44.616667   \n",
       "50%           7.000000      59.000000        61.050000         94.200000   \n",
       "75%          15.000000     110.000000       107.516667        174.662500   \n",
       "max      383767.000000  383906.000000      1704.950000       5318.550000   \n",
       "\n",
       "         dr_dep_wait  \n",
       "count  567571.000000  \n",
       "mean       89.456593  \n",
       "std       529.560274  \n",
       "min   -383727.000000  \n",
       "25%        22.000000  \n",
       "50%        58.000000  \n",
       "75%       129.000000  \n",
       "max     10072.000000  "
      ]
     },
     "execution_count": 36,
     "metadata": {},
     "output_type": "execute_result"
    }
   ],
   "source": [
    "pat[wait_cols].describe()"
   ]
  },
  {
   "cell_type": "markdown",
   "metadata": {},
   "source": [
    "how many patients have negative adm request to adm times? -20 %!"
   ]
  },
  {
   "cell_type": "code",
   "execution_count": 38,
   "metadata": {},
   "outputs": [
    {
     "data": {
      "text/plain": [
       "(6111, 36)"
      ]
     },
     "execution_count": 38,
     "metadata": {},
     "output_type": "execute_result"
    }
   ],
   "source": [
    "pat[pat.adm_req_dep_wait < 0].shape"
   ]
  },
  {
   "cell_type": "code",
   "execution_count": 39,
   "metadata": {},
   "outputs": [
    {
     "data": {
      "text/plain": [
       "19.666666666666668"
      ]
     },
     "execution_count": 39,
     "metadata": {},
     "output_type": "execute_result"
    }
   ],
   "source": [
    "118/6"
   ]
  },
  {
   "cell_type": "markdown",
   "metadata": {},
   "source": [
    "Some of these massive wait times are due to errors in dates etc. Lets see how many have crazy wait times... "
   ]
  },
  {
   "cell_type": "code",
   "execution_count": 41,
   "metadata": {},
   "outputs": [],
   "source": [
    "exclude_index = pat.query('arr_triage_wait < 0 or arr_dr_wait < 0 or arr_adm_req_wait < 0 or waiting_time < 0'\n",
    "                          +'or arr_triage_wait > 24*60 or arr_dr_wait > 24*60 or arr_adm_req_wait > 24*60'\n",
    "                          'or waiting_time > 24*60' + 'or adm_req_dep_wait < 0 or dr_adm_req_wait <0 or dr_dep_wait < 0'\n",
    "                          ).index\n"
   ]
  },
  {
   "cell_type": "markdown",
   "metadata": {},
   "source": [
    "dr_dep_wait < 0 loses about 50% (20k) of these!!!"
   ]
  },
  {
   "cell_type": "code",
   "execution_count": 42,
   "metadata": {},
   "outputs": [
    {
     "data": {
      "text/plain": [
       "(43911,)"
      ]
     },
     "execution_count": 42,
     "metadata": {},
     "output_type": "execute_result"
    }
   ],
   "source": [
    "exclude_index.shape"
   ]
  },
  {
   "cell_type": "code",
   "execution_count": 43,
   "metadata": {},
   "outputs": [
    {
     "data": {
      "text/plain": [
       "13.186046511627907"
      ]
     },
     "execution_count": 43,
     "metadata": {},
     "output_type": "execute_result"
    }
   ],
   "source": [
    "567/43"
   ]
  },
  {
   "cell_type": "code",
   "execution_count": 44,
   "metadata": {},
   "outputs": [
    {
     "data": {
      "text/plain": [
       "24.0"
      ]
     },
     "execution_count": 44,
     "metadata": {},
     "output_type": "execute_result"
    }
   ],
   "source": [
    "1440/60"
   ]
  },
  {
   "cell_type": "code",
   "execution_count": 45,
   "metadata": {},
   "outputs": [],
   "source": [
    "pat2 = pat.loc[~pat.index.isin(exclude_index)]"
   ]
  },
  {
   "cell_type": "code",
   "execution_count": null,
   "metadata": {},
   "outputs": [],
   "source": []
  },
  {
   "cell_type": "code",
   "execution_count": 46,
   "metadata": {},
   "outputs": [
    {
     "data": {
      "text/html": [
       "<div>\n",
       "<style scoped>\n",
       "    .dataframe tbody tr th:only-of-type {\n",
       "        vertical-align: middle;\n",
       "    }\n",
       "\n",
       "    .dataframe tbody tr th {\n",
       "        vertical-align: top;\n",
       "    }\n",
       "\n",
       "    .dataframe thead th {\n",
       "        text-align: right;\n",
       "    }\n",
       "</style>\n",
       "<table border=\"1\" class=\"dataframe\">\n",
       "  <thead>\n",
       "    <tr style=\"text-align: right;\">\n",
       "      <th></th>\n",
       "      <th>arr_triage_wait</th>\n",
       "      <th>arr_dr_wait</th>\n",
       "      <th>dr_adm_req_wait</th>\n",
       "      <th>adm_req_dep_wait</th>\n",
       "      <th>dr_dep_wait</th>\n",
       "    </tr>\n",
       "  </thead>\n",
       "  <tbody>\n",
       "    <tr>\n",
       "      <th>count</th>\n",
       "      <td>520051.000000</td>\n",
       "      <td>523661.000000</td>\n",
       "      <td>95447.000000</td>\n",
       "      <td>95448.000000</td>\n",
       "      <td>523661.000000</td>\n",
       "    </tr>\n",
       "    <tr>\n",
       "      <th>mean</th>\n",
       "      <td>11.485235</td>\n",
       "      <td>74.672011</td>\n",
       "      <td>80.446567</td>\n",
       "      <td>135.471532</td>\n",
       "      <td>92.522939</td>\n",
       "    </tr>\n",
       "    <tr>\n",
       "      <th>std</th>\n",
       "      <td>16.392266</td>\n",
       "      <td>60.071161</td>\n",
       "      <td>59.534138</td>\n",
       "      <td>142.635745</td>\n",
       "      <td>105.611671</td>\n",
       "    </tr>\n",
       "    <tr>\n",
       "      <th>min</th>\n",
       "      <td>0.000000</td>\n",
       "      <td>0.000000</td>\n",
       "      <td>0.000000</td>\n",
       "      <td>0.000000</td>\n",
       "      <td>0.000000</td>\n",
       "    </tr>\n",
       "    <tr>\n",
       "      <th>25%</th>\n",
       "      <td>2.000000</td>\n",
       "      <td>27.000000</td>\n",
       "      <td>38.583333</td>\n",
       "      <td>48.095833</td>\n",
       "      <td>25.000000</td>\n",
       "    </tr>\n",
       "    <tr>\n",
       "      <th>50%</th>\n",
       "      <td>7.000000</td>\n",
       "      <td>59.000000</td>\n",
       "      <td>69.316667</td>\n",
       "      <td>91.000000</td>\n",
       "      <td>61.000000</td>\n",
       "    </tr>\n",
       "    <tr>\n",
       "      <th>75%</th>\n",
       "      <td>15.000000</td>\n",
       "      <td>110.000000</td>\n",
       "      <td>110.300000</td>\n",
       "      <td>161.016667</td>\n",
       "      <td>130.000000</td>\n",
       "    </tr>\n",
       "    <tr>\n",
       "      <th>max</th>\n",
       "      <td>1440.000000</td>\n",
       "      <td>935.000000</td>\n",
       "      <td>1234.300000</td>\n",
       "      <td>1370.500000</td>\n",
       "      <td>1423.000000</td>\n",
       "    </tr>\n",
       "  </tbody>\n",
       "</table>\n",
       "</div>"
      ],
      "text/plain": [
       "       arr_triage_wait    arr_dr_wait  dr_adm_req_wait  adm_req_dep_wait  \\\n",
       "count    520051.000000  523661.000000     95447.000000      95448.000000   \n",
       "mean         11.485235      74.672011        80.446567        135.471532   \n",
       "std          16.392266      60.071161        59.534138        142.635745   \n",
       "min           0.000000       0.000000         0.000000          0.000000   \n",
       "25%           2.000000      27.000000        38.583333         48.095833   \n",
       "50%           7.000000      59.000000        69.316667         91.000000   \n",
       "75%          15.000000     110.000000       110.300000        161.016667   \n",
       "max        1440.000000     935.000000      1234.300000       1370.500000   \n",
       "\n",
       "         dr_dep_wait  \n",
       "count  523661.000000  \n",
       "mean       92.522939  \n",
       "std       105.611671  \n",
       "min         0.000000  \n",
       "25%        25.000000  \n",
       "50%        61.000000  \n",
       "75%       130.000000  \n",
       "max      1423.000000  "
      ]
     },
     "execution_count": 46,
     "metadata": {},
     "output_type": "execute_result"
    }
   ],
   "source": [
    "pat2[wait_cols].describe()"
   ]
  },
  {
   "cell_type": "code",
   "execution_count": 47,
   "metadata": {},
   "outputs": [
    {
     "data": {
      "text/plain": [
       "(0, 36)"
      ]
     },
     "execution_count": 47,
     "metadata": {},
     "output_type": "execute_result"
    }
   ],
   "source": [
    "pat2[pat2.dr_dep_wait < 0].shape"
   ]
  },
  {
   "cell_type": "code",
   "execution_count": 79,
   "metadata": {},
   "outputs": [],
   "source": [
    "wait_col = ['arr_dr_wait','dr_dep_wait']"
   ]
  },
  {
   "cell_type": "code",
   "execution_count": 80,
   "metadata": {},
   "outputs": [
    {
     "data": {
      "image/png": "[encoded data removed]",
      "text/plain": [
       "<matplotlib.figure.Figure at 0x1cfa77cecc0>"
      ]
     },
     "metadata": {},
     "output_type": "display_data"
    }
   ],
   "source": [
    "ax = plt.subplot()\n",
    "pat2[wait_col].plot.box(ax=ax)\n",
    "ax.set_ylim(0,400);"
   ]
  },
  {
   "cell_type": "code",
   "execution_count": 84,
   "metadata": {},
   "outputs": [
    {
     "data": {
      "image/png": "[encoded data removed]",
      "text/plain": [
       "<matplotlib.figure.Figure at 0x1cfa7147240>"
      ]
     },
     "metadata": {},
     "output_type": "display_data"
    }
   ],
   "source": [
    "ax = plt.subplot()\n",
    "pat2[pat2.adm_flag == 0][wait_col].plot.box(ax=ax)\n",
    "ax.set_ylim(0,400);\n",
    "ax.set_ylabel('waiting minutes');\n"
   ]
  },
  {
   "cell_type": "code",
   "execution_count": 85,
   "metadata": {},
   "outputs": [
    {
     "data": {
      "image/png": "[encoded data removed]",
      "text/plain": [
       "<matplotlib.figure.Figure at 0x1cfa7503d68>"
      ]
     },
     "metadata": {},
     "output_type": "display_data"
    }
   ],
   "source": [
    "ax = plt.subplot()\n",
    "pat2[pat2.adm_flag == 1][wait_col].plot.box(ax=ax)\n",
    "ax.set_ylim(0,400);\n",
    "ax.set_ylabel('waiting minutes');"
   ]
  },
  {
   "cell_type": "code",
   "execution_count": 51,
   "metadata": {},
   "outputs": [
    {
     "data": {
      "text/html": [
       "<div>\n",
       "<style scoped>\n",
       "    .dataframe tbody tr th:only-of-type {\n",
       "        vertical-align: middle;\n",
       "    }\n",
       "\n",
       "    .dataframe tbody tr th {\n",
       "        vertical-align: top;\n",
       "    }\n",
       "\n",
       "    .dataframe thead th {\n",
       "        text-align: right;\n",
       "    }\n",
       "</style>\n",
       "<table border=\"1\" class=\"dataframe\">\n",
       "  <thead>\n",
       "    <tr style=\"text-align: right;\">\n",
       "      <th></th>\n",
       "      <th>arr_triage_wait</th>\n",
       "      <th>arr_dr_wait</th>\n",
       "      <th>dr_adm_req_wait</th>\n",
       "      <th>adm_req_dep_wait</th>\n",
       "      <th>dr_dep_wait</th>\n",
       "    </tr>\n",
       "  </thead>\n",
       "  <tbody>\n",
       "    <tr>\n",
       "      <th>count</th>\n",
       "      <td>398072.000000</td>\n",
       "      <td>401501.000000</td>\n",
       "      <td>0.0</td>\n",
       "      <td>0.0</td>\n",
       "      <td>401501.000000</td>\n",
       "    </tr>\n",
       "    <tr>\n",
       "      <th>mean</th>\n",
       "      <td>12.214393</td>\n",
       "      <td>76.494721</td>\n",
       "      <td>NaN</td>\n",
       "      <td>NaN</td>\n",
       "      <td>61.387521</td>\n",
       "    </tr>\n",
       "    <tr>\n",
       "      <th>std</th>\n",
       "      <td>15.508261</td>\n",
       "      <td>60.540972</td>\n",
       "      <td>NaN</td>\n",
       "      <td>NaN</td>\n",
       "      <td>60.477723</td>\n",
       "    </tr>\n",
       "    <tr>\n",
       "      <th>min</th>\n",
       "      <td>0.000000</td>\n",
       "      <td>0.000000</td>\n",
       "      <td>NaN</td>\n",
       "      <td>NaN</td>\n",
       "      <td>0.000000</td>\n",
       "    </tr>\n",
       "    <tr>\n",
       "      <th>25%</th>\n",
       "      <td>3.000000</td>\n",
       "      <td>27.000000</td>\n",
       "      <td>NaN</td>\n",
       "      <td>NaN</td>\n",
       "      <td>19.000000</td>\n",
       "    </tr>\n",
       "    <tr>\n",
       "      <th>50%</th>\n",
       "      <td>8.000000</td>\n",
       "      <td>61.000000</td>\n",
       "      <td>NaN</td>\n",
       "      <td>NaN</td>\n",
       "      <td>44.000000</td>\n",
       "    </tr>\n",
       "    <tr>\n",
       "      <th>75%</th>\n",
       "      <td>16.000000</td>\n",
       "      <td>113.000000</td>\n",
       "      <td>NaN</td>\n",
       "      <td>NaN</td>\n",
       "      <td>87.000000</td>\n",
       "    </tr>\n",
       "    <tr>\n",
       "      <th>max</th>\n",
       "      <td>1440.000000</td>\n",
       "      <td>935.000000</td>\n",
       "      <td>NaN</td>\n",
       "      <td>NaN</td>\n",
       "      <td>1382.000000</td>\n",
       "    </tr>\n",
       "  </tbody>\n",
       "</table>\n",
       "</div>"
      ],
      "text/plain": [
       "       arr_triage_wait    arr_dr_wait  dr_adm_req_wait  adm_req_dep_wait  \\\n",
       "count    398072.000000  401501.000000              0.0               0.0   \n",
       "mean         12.214393      76.494721              NaN               NaN   \n",
       "std          15.508261      60.540972              NaN               NaN   \n",
       "min           0.000000       0.000000              NaN               NaN   \n",
       "25%           3.000000      27.000000              NaN               NaN   \n",
       "50%           8.000000      61.000000              NaN               NaN   \n",
       "75%          16.000000     113.000000              NaN               NaN   \n",
       "max        1440.000000     935.000000              NaN               NaN   \n",
       "\n",
       "         dr_dep_wait  \n",
       "count  401501.000000  \n",
       "mean       61.387521  \n",
       "std        60.477723  \n",
       "min         0.000000  \n",
       "25%        19.000000  \n",
       "50%        44.000000  \n",
       "75%        87.000000  \n",
       "max      1382.000000  "
      ]
     },
     "execution_count": 51,
     "metadata": {},
     "output_type": "execute_result"
    }
   ],
   "source": [
    "pat2[pat2.adm_flag == 0][wait_cols].describe()"
   ]
  },
  {
   "cell_type": "code",
   "execution_count": 52,
   "metadata": {},
   "outputs": [
    {
     "data": {
      "text/html": [
       "<div>\n",
       "<style scoped>\n",
       "    .dataframe tbody tr th:only-of-type {\n",
       "        vertical-align: middle;\n",
       "    }\n",
       "\n",
       "    .dataframe tbody tr th {\n",
       "        vertical-align: top;\n",
       "    }\n",
       "\n",
       "    .dataframe thead th {\n",
       "        text-align: right;\n",
       "    }\n",
       "</style>\n",
       "<table border=\"1\" class=\"dataframe\">\n",
       "  <thead>\n",
       "    <tr style=\"text-align: right;\">\n",
       "      <th></th>\n",
       "      <th>arr_triage_wait</th>\n",
       "      <th>arr_dr_wait</th>\n",
       "      <th>dr_adm_req_wait</th>\n",
       "      <th>adm_req_dep_wait</th>\n",
       "      <th>dr_dep_wait</th>\n",
       "    </tr>\n",
       "  </thead>\n",
       "  <tbody>\n",
       "    <tr>\n",
       "      <th>count</th>\n",
       "      <td>121979.000000</td>\n",
       "      <td>122160.000000</td>\n",
       "      <td>95447.000000</td>\n",
       "      <td>95448.000000</td>\n",
       "      <td>122160.000000</td>\n",
       "    </tr>\n",
       "    <tr>\n",
       "      <th>mean</th>\n",
       "      <td>9.105666</td>\n",
       "      <td>68.681344</td>\n",
       "      <td>80.446567</td>\n",
       "      <td>135.471532</td>\n",
       "      <td>194.855141</td>\n",
       "    </tr>\n",
       "    <tr>\n",
       "      <th>std</th>\n",
       "      <td>18.797381</td>\n",
       "      <td>58.099275</td>\n",
       "      <td>59.534138</td>\n",
       "      <td>142.635745</td>\n",
       "      <td>148.774195</td>\n",
       "    </tr>\n",
       "    <tr>\n",
       "      <th>min</th>\n",
       "      <td>0.000000</td>\n",
       "      <td>0.000000</td>\n",
       "      <td>0.000000</td>\n",
       "      <td>0.000000</td>\n",
       "      <td>0.000000</td>\n",
       "    </tr>\n",
       "    <tr>\n",
       "      <th>25%</th>\n",
       "      <td>0.000000</td>\n",
       "      <td>24.000000</td>\n",
       "      <td>38.583333</td>\n",
       "      <td>48.095833</td>\n",
       "      <td>108.000000</td>\n",
       "    </tr>\n",
       "    <tr>\n",
       "      <th>50%</th>\n",
       "      <td>5.000000</td>\n",
       "      <td>52.000000</td>\n",
       "      <td>69.316667</td>\n",
       "      <td>91.000000</td>\n",
       "      <td>163.000000</td>\n",
       "    </tr>\n",
       "    <tr>\n",
       "      <th>75%</th>\n",
       "      <td>12.000000</td>\n",
       "      <td>99.000000</td>\n",
       "      <td>110.300000</td>\n",
       "      <td>161.016667</td>\n",
       "      <td>221.000000</td>\n",
       "    </tr>\n",
       "    <tr>\n",
       "      <th>max</th>\n",
       "      <td>1440.000000</td>\n",
       "      <td>658.000000</td>\n",
       "      <td>1234.300000</td>\n",
       "      <td>1370.500000</td>\n",
       "      <td>1423.000000</td>\n",
       "    </tr>\n",
       "  </tbody>\n",
       "</table>\n",
       "</div>"
      ],
      "text/plain": [
       "       arr_triage_wait    arr_dr_wait  dr_adm_req_wait  adm_req_dep_wait  \\\n",
       "count    121979.000000  122160.000000     95447.000000      95448.000000   \n",
       "mean          9.105666      68.681344        80.446567        135.471532   \n",
       "std          18.797381      58.099275        59.534138        142.635745   \n",
       "min           0.000000       0.000000         0.000000          0.000000   \n",
       "25%           0.000000      24.000000        38.583333         48.095833   \n",
       "50%           5.000000      52.000000        69.316667         91.000000   \n",
       "75%          12.000000      99.000000       110.300000        161.016667   \n",
       "max        1440.000000     658.000000      1234.300000       1370.500000   \n",
       "\n",
       "         dr_dep_wait  \n",
       "count  122160.000000  \n",
       "mean      194.855141  \n",
       "std       148.774195  \n",
       "min         0.000000  \n",
       "25%       108.000000  \n",
       "50%       163.000000  \n",
       "75%       221.000000  \n",
       "max      1423.000000  "
      ]
     },
     "execution_count": 52,
     "metadata": {},
     "output_type": "execute_result"
    }
   ],
   "source": [
    "pat2[pat2.adm_flag == 1][wait_cols].describe()"
   ]
  },
  {
   "cell_type": "code",
   "execution_count": 53,
   "metadata": {},
   "outputs": [],
   "source": [
    "wait_col2 = ['arr_dr_wait','dr_adm_req_wait','adm_req_dep_wait','dr_dep_wait']"
   ]
  },
  {
   "cell_type": "code",
   "execution_count": 90,
   "metadata": {},
   "outputs": [
    {
     "name": "stderr",
     "output_type": "stream",
     "text": [
      "C:\\Anaconda3\\envs\\hospital-flow\\lib\\site-packages\\ipykernel_launcher.py:2: DeprecationWarning: \n",
      ".ix is deprecated. Please use\n",
      ".loc for label based indexing or\n",
      ".iloc for positional indexing\n",
      "\n",
      "See the documentation here:\n",
      "http://pandas.pydata.org/pandas-docs/stable/indexing.html#ix-indexer-is-deprecated\n",
      "  \n"
     ]
    },
    {
     "data": {
      "image/png": "[encoded data removed]",
      "text/plain": [
       "<matplotlib.figure.Figure at 0x1cfa767b668>"
      ]
     },
     "metadata": {},
     "output_type": "display_data"
    }
   ],
   "source": [
    "ax = plt.subplot()\n",
    "pat2[pat2.adm_flag == 0][wait_col2].describe().ix[['25%','50%','75%']].plot.barh(stacked=True,ax=ax);\n",
    "ax.set_xlim([0,400]);\n",
    "ax2 = plt.twinx()\n",
    "ax2.plot([240,240], ['75%','25%'], 'r--');\n",
    "ax.set_xlabel('minutes');"
   ]
  },
  {
   "cell_type": "code",
   "execution_count": 91,
   "metadata": {},
   "outputs": [
    {
     "name": "stderr",
     "output_type": "stream",
     "text": [
      "C:\\Anaconda3\\envs\\hospital-flow\\lib\\site-packages\\ipykernel_launcher.py:2: DeprecationWarning: \n",
      ".ix is deprecated. Please use\n",
      ".loc for label based indexing or\n",
      ".iloc for positional indexing\n",
      "\n",
      "See the documentation here:\n",
      "http://pandas.pydata.org/pandas-docs/stable/indexing.html#ix-indexer-is-deprecated\n",
      "  \n"
     ]
    },
    {
     "data": {
      "image/png": "[encoded data removed]",
      "text/plain": [
       "<matplotlib.figure.Figure at 0x1cfa6b70a58>"
      ]
     },
     "metadata": {},
     "output_type": "display_data"
    }
   ],
   "source": [
    "ax = plt.subplot()\n",
    "pat2[pat2.adm_flag == 1][wait_col2[0:3]].describe().ix[['25%','50%','75%']].plot.barh(stacked=True,ax=ax);\n",
    "\n",
    "ax.set_xlim([0,400]);\n",
    "ax2 = plt.twinx()\n",
    "ax2.plot([240,240], ['75%','25%'], 'r--');\n",
    "ax.set_xlabel('minutes');"
   ]
  },
  {
   "cell_type": "code",
   "execution_count": 56,
   "metadata": {},
   "outputs": [
    {
     "data": {
      "image/png": "[encoded data removed]",
      "text/plain": [
       "<matplotlib.figure.Figure at 0x1cfa73ae400>"
      ]
     },
     "metadata": {},
     "output_type": "display_data"
    }
   ],
   "source": [
    "ax = plt.subplot()\n",
    "pat2[pat2.adm_flag == 0][wait_col2].median().plot.barh(stacked=True);\n",
    "ax.set_xlim([0,200]);"
   ]
  },
  {
   "cell_type": "code",
   "execution_count": 57,
   "metadata": {},
   "outputs": [
    {
     "data": {
      "image/png": "[encoded data removed]",
      "text/plain": [
       "<matplotlib.figure.Figure at 0x1cfa753b710>"
      ]
     },
     "metadata": {},
     "output_type": "display_data"
    }
   ],
   "source": [
    "ax = plt.subplot()\n",
    "pat2[pat2.adm_flag == 1][wait_col2].median().plot.barh(stacked=True);\n",
    "ax.set_xlim([0,200]);"
   ]
  },
  {
   "cell_type": "code",
   "execution_count": 58,
   "metadata": {},
   "outputs": [
    {
     "data": {
      "image/png": "[encoded data removed]",
      "text/plain": [
       "<matplotlib.figure.Figure at 0x1cfa72105f8>"
      ]
     },
     "metadata": {},
     "output_type": "display_data"
    }
   ],
   "source": [
    "pat2[wait_col2[0:3]].plot.hist(stacked=False,bins=30);"
   ]
  },
  {
   "cell_type": "code",
   "execution_count": 60,
   "metadata": {},
   "outputs": [
    {
     "data": {
      "image/png": "[encoded data removed]",
      "text/plain": [
       "<matplotlib.figure.Figure at 0x1cfa7636f60>"
      ]
     },
     "metadata": {},
     "output_type": "display_data"
    }
   ],
   "source": [
    "ax = plt.subplot()\n",
    "pat2.groupby('arrive_hour')[wait_col2[0],wait_col2[3]].median().plot.bar(stacked=True,ax=ax)\n",
    "ax.set_ylabel('Median patient waiting time (mins)');"
   ]
  },
  {
   "cell_type": "code",
   "execution_count": 61,
   "metadata": {},
   "outputs": [
    {
     "data": {
      "text/plain": [
       "(0, 230)"
      ]
     },
     "execution_count": 61,
     "metadata": {},
     "output_type": "execute_result"
    },
    {
     "data": {
      "image/png": "[encoded data removed]",
      "text/plain": [
       "<matplotlib.figure.Figure at 0x1cfa7391048>"
      ]
     },
     "metadata": {},
     "output_type": "display_data"
    }
   ],
   "source": [
    "ax = plt.subplot()\n",
    "pat2[pat2.adm_flag == 0].groupby('arrive_hour')[wait_col2[0],wait_col2[3]].median().plot.bar(stacked=True,ax=ax)\n",
    "ax.set_ylabel('Median patient waiting time (mins)');\n",
    "ax.set_ylim([0,230])"
   ]
  },
  {
   "cell_type": "code",
   "execution_count": 92,
   "metadata": {},
   "outputs": [
    {
     "data": {
      "text/plain": [
       "<matplotlib.legend.Legend at 0x1cfa6dad6a0>"
      ]
     },
     "execution_count": 92,
     "metadata": {},
     "output_type": "execute_result"
    },
    {
     "data": {
      "image/png": "[encoded data removed]",
      "text/plain": [
       "<matplotlib.figure.Figure at 0x1cfa6dad748>"
      ]
     },
     "metadata": {},
     "output_type": "display_data"
    }
   ],
   "source": [
    "ax = plt.subplot()\n",
    "pat2[pat2.adm_flag == 1].groupby('arrive_hour')[wait_col2[0],wait_col2[3]].median().plot.bar(stacked=True,ax=ax)\n",
    "ax.set_ylabel('Median patient waiting time (mins)');\n",
    "ax.legend(loc='lower right',frameon=True)"
   ]
  },
  {
   "cell_type": "code",
   "execution_count": 93,
   "metadata": {},
   "outputs": [
    {
     "data": {
      "image/png": "[encoded data removed]",
      "text/plain": [
       "<matplotlib.figure.Figure at 0x1cfa6bd3208>"
      ]
     },
     "metadata": {},
     "output_type": "display_data"
    }
   ],
   "source": [
    "ax = plt.subplot()\n",
    "pat2[pat2.adm_flag == 1].groupby('arrive_hour')[wait_col2[0:3]].median().plot.bar(stacked=True,ax=ax)\n",
    "ax.set_ylabel('Median patient waiting time (mins)');\n",
    "ax.legend(loc='lower right',frameon=True);"
   ]
  },
  {
   "cell_type": "code",
   "execution_count": 64,
   "metadata": {},
   "outputs": [
    {
     "data": {
      "text/plain": [
       "(0, 230)"
      ]
     },
     "execution_count": 64,
     "metadata": {},
     "output_type": "execute_result"
    },
    {
     "data": {
      "image/png": "[encoded data removed]",
      "text/plain": [
       "<matplotlib.figure.Figure at 0x1cfa715d358>"
      ]
     },
     "metadata": {},
     "output_type": "display_data"
    }
   ],
   "source": [
    "ax = plt.subplot()\n",
    "pat2[pat2.adm_flag == 0].groupby('arrive_month')[wait_col2[0],wait_col2[3]].median().plot.bar(stacked=True,ax=ax)\n",
    "ax.set_ylabel('Median patient waiting time (mins)');\n",
    "ax.set_ylim([0,230])"
   ]
  },
  {
   "cell_type": "code",
   "execution_count": 65,
   "metadata": {},
   "outputs": [
    {
     "data": {
      "image/png": "[encoded data removed]",
      "text/plain": [
       "<matplotlib.figure.Figure at 0x1cfa70b7c18>"
      ]
     },
     "metadata": {},
     "output_type": "display_data"
    }
   ],
   "source": [
    "ax = plt.subplot()\n",
    "pat2[pat2.adm_flag == 1].groupby('arrive_month')[wait_col2[0],wait_col2[3]].median().plot.bar(stacked=True,ax=ax)\n",
    "ax.set_ylabel('Median patient waiting time (mins)');\n",
    "#ax.set_ylim([0,230])"
   ]
  },
  {
   "cell_type": "markdown",
   "metadata": {},
   "source": [
    "auto gerenate year somethere previosu in future!!!!"
   ]
  },
  {
   "cell_type": "code",
   "execution_count": 66,
   "metadata": {},
   "outputs": [
    {
     "name": "stderr",
     "output_type": "stream",
     "text": [
      "C:\\Anaconda3\\envs\\hospital-flow\\lib\\site-packages\\ipykernel_launcher.py:1: SettingWithCopyWarning: \n",
      "A value is trying to be set on a copy of a slice from a DataFrame.\n",
      "Try using .loc[row_indexer,col_indexer] = value instead\n",
      "\n",
      "See the caveats in the documentation: http://pandas.pydata.org/pandas-docs/stable/indexing.html#indexing-view-versus-copy\n",
      "  \"\"\"Entry point for launching an IPython kernel.\n"
     ]
    }
   ],
   "source": [
    "pat2['arrive_year'] = pat2.arrive_datetime.apply(lambda x : x.year)"
   ]
  },
  {
   "cell_type": "code",
   "execution_count": 67,
   "metadata": {},
   "outputs": [
    {
     "data": {
      "text/plain": [
       "(0, 240)"
      ]
     },
     "execution_count": 67,
     "metadata": {},
     "output_type": "execute_result"
    },
    {
     "data": {
      "image/png": "[encoded data removed]",
      "text/plain": [
       "<matplotlib.figure.Figure at 0x1cfa6c000f0>"
      ]
     },
     "metadata": {},
     "output_type": "display_data"
    }
   ],
   "source": [
    "ax = plt.subplot()\n",
    "pat2[pat2.adm_flag == 0].groupby('arrive_year')[wait_col2[0],wait_col2[3]].median().plot.bar(stacked=True,ax=ax)\n",
    "ax.set_ylabel('Median patient waiting time (mins)');\n",
    "ax.set_ylim([0,240])"
   ]
  },
  {
   "cell_type": "code",
   "execution_count": 68,
   "metadata": {},
   "outputs": [
    {
     "data": {
      "image/png": "[encoded data removed]",
      "text/plain": [
       "<matplotlib.figure.Figure at 0x1cfa6c3eb00>"
      ]
     },
     "metadata": {},
     "output_type": "display_data"
    }
   ],
   "source": [
    "ax = plt.subplot()\n",
    "pat2[pat2.adm_flag == 1].groupby('arrive_year')[wait_col2[0],wait_col2[3]].median().plot.bar(stacked=True,ax=ax)\n",
    "ax.set_ylabel('Median patient waiting time (mins)');\n",
    "#ax.set_ylim([0,230])"
   ]
  },
  {
   "cell_type": "code",
   "execution_count": null,
   "metadata": {},
   "outputs": [],
   "source": []
  },
  {
   "cell_type": "code",
   "execution_count": null,
   "metadata": {},
   "outputs": [],
   "source": []
  },
  {
   "cell_type": "code",
   "execution_count": 69,
   "metadata": {},
   "outputs": [
    {
     "data": {
      "text/plain": [
       "arr_dr_wait             63\n",
       "dr_adm_req_wait     428277\n",
       "adm_req_dep_wait    428276\n",
       "dr_dep_wait             63\n",
       "dtype: int64"
      ]
     },
     "execution_count": 69,
     "metadata": {},
     "output_type": "execute_result"
    }
   ],
   "source": [
    "pat2[wait_col2].isnull().sum()"
   ]
  },
  {
   "cell_type": "code",
   "execution_count": 70,
   "metadata": {},
   "outputs": [
    {
     "data": {
      "text/plain": [
       "0    421589\n",
       "1    146046\n",
       "Name: adm_flag, dtype: int64"
      ]
     },
     "execution_count": 70,
     "metadata": {},
     "output_type": "execute_result"
    }
   ],
   "source": [
    "pat.adm_flag.value_counts()"
   ]
  },
  {
   "cell_type": "code",
   "execution_count": 71,
   "metadata": {},
   "outputs": [
    {
     "data": {
      "text/plain": [
       "0    401561\n",
       "1    122163\n",
       "Name: adm_flag, dtype: int64"
      ]
     },
     "execution_count": 71,
     "metadata": {},
     "output_type": "execute_result"
    }
   ],
   "source": [
    "pat2.adm_flag.value_counts()"
   ]
  },
  {
   "cell_type": "code",
   "execution_count": 72,
   "metadata": {},
   "outputs": [
    {
     "data": {
      "text/plain": [
       "arr_dr_wait             64\n",
       "dr_adm_req_wait     449042\n",
       "adm_req_dep_wait    449041\n",
       "dr_dep_wait             64\n",
       "dtype: int64"
      ]
     },
     "execution_count": 72,
     "metadata": {},
     "output_type": "execute_result"
    }
   ],
   "source": [
    "pat[wait_col2].isnull().sum()"
   ]
  },
  {
   "cell_type": "code",
   "execution_count": 73,
   "metadata": {},
   "outputs": [
    {
     "data": {
      "text/plain": [
       "arrive_datetime                    0\n",
       "first_triage_datetime           3987\n",
       "first_dr_datetime                 64\n",
       "first_adm_request_datetime    449041\n",
       "depart_datetime                    0\n",
       "dtype: int64"
      ]
     },
     "execution_count": 73,
     "metadata": {},
     "output_type": "execute_result"
    }
   ],
   "source": [
    "pat[dt_cols].isnull().sum()"
   ]
  },
  {
   "cell_type": "markdown",
   "metadata": {},
   "source": [
    "### admissions breakdown by time waiting for per speciality"
   ]
  },
  {
   "cell_type": "code",
   "execution_count": 74,
   "metadata": {},
   "outputs": [
    {
     "data": {
      "text/plain": [
       "Index(['hosp_patid', 'age', 'gender', 'site', 'arrive_datetime', 'arrive_mode',\n",
       "       'first_triage_datetime', 'first_dr_datetime', 'first_adm_request_time',\n",
       "       'adm_referral_loc', 'adm_flag', 'depart_datetime', 'stream',\n",
       "       'waiting_time', 'breach_flag', 'arrive_hour', 'arrive_dayofweek',\n",
       "       'arrive_month', 'arrive_week', 'arrive_weekday_name', 'arrive_year',\n",
       "       'arrive_date', 'depart_hour', 'depart_dayofweek', 'depart_month',\n",
       "       'depart_week', 'depart_weekday_name', 'depart_year', 'depart_date',\n",
       "       'first_adm_request_datetime', 'arr_triage_wait', 'arr_dr_wait',\n",
       "       'arr_adm_req_wait', 'adm_req_dep_wait', 'dr_adm_req_wait',\n",
       "       'dr_dep_wait'],\n",
       "      dtype='object')"
      ]
     },
     "execution_count": 74,
     "metadata": {},
     "output_type": "execute_result"
    }
   ],
   "source": [
    "pat2.columns"
   ]
  },
  {
   "cell_type": "code",
   "execution_count": 75,
   "metadata": {},
   "outputs": [
    {
     "data": {
      "text/html": [
       "<div>\n",
       "<style scoped>\n",
       "    .dataframe tbody tr th:only-of-type {\n",
       "        vertical-align: middle;\n",
       "    }\n",
       "\n",
       "    .dataframe tbody tr th {\n",
       "        vertical-align: top;\n",
       "    }\n",
       "\n",
       "    .dataframe thead th {\n",
       "        text-align: right;\n",
       "    }\n",
       "</style>\n",
       "<table border=\"1\" class=\"dataframe\">\n",
       "  <thead>\n",
       "    <tr style=\"text-align: right;\">\n",
       "      <th></th>\n",
       "      <th>arr_dr_wait</th>\n",
       "      <th>dr_adm_req_wait</th>\n",
       "      <th>adm_req_dep_wait</th>\n",
       "      <th>dr_dep_wait</th>\n",
       "    </tr>\n",
       "    <tr>\n",
       "      <th>adm_referral_loc</th>\n",
       "      <th></th>\n",
       "      <th></th>\n",
       "      <th></th>\n",
       "      <th></th>\n",
       "    </tr>\n",
       "  </thead>\n",
       "  <tbody>\n",
       "    <tr>\n",
       "      <th>TS</th>\n",
       "      <td>96.0</td>\n",
       "      <td>126.833333</td>\n",
       "      <td>221.733333</td>\n",
       "      <td>416.0</td>\n",
       "    </tr>\n",
       "    <tr>\n",
       "      <th>IT</th>\n",
       "      <td>19.0</td>\n",
       "      <td>46.800000</td>\n",
       "      <td>126.116667</td>\n",
       "      <td>192.0</td>\n",
       "    </tr>\n",
       "    <tr>\n",
       "      <th>PY</th>\n",
       "      <td>66.0</td>\n",
       "      <td>53.958333</td>\n",
       "      <td>119.400000</td>\n",
       "      <td>186.0</td>\n",
       "    </tr>\n",
       "    <tr>\n",
       "      <th>FS</th>\n",
       "      <td>21.0</td>\n",
       "      <td>2.100000</td>\n",
       "      <td>117.550000</td>\n",
       "      <td>144.0</td>\n",
       "    </tr>\n",
       "    <tr>\n",
       "      <th>GE</th>\n",
       "      <td>26.0</td>\n",
       "      <td>55.616667</td>\n",
       "      <td>113.033333</td>\n",
       "      <td>204.0</td>\n",
       "    </tr>\n",
       "    <tr>\n",
       "      <th>NS</th>\n",
       "      <td>27.5</td>\n",
       "      <td>106.308333</td>\n",
       "      <td>108.541667</td>\n",
       "      <td>213.0</td>\n",
       "    </tr>\n",
       "    <tr>\n",
       "      <th>MO</th>\n",
       "      <td>47.0</td>\n",
       "      <td>81.866667</td>\n",
       "      <td>108.066667</td>\n",
       "      <td>210.0</td>\n",
       "    </tr>\n",
       "    <tr>\n",
       "      <th>ME</th>\n",
       "      <td>48.0</td>\n",
       "      <td>81.200000</td>\n",
       "      <td>104.933333</td>\n",
       "      <td>197.0</td>\n",
       "    </tr>\n",
       "    <tr>\n",
       "      <th>OR</th>\n",
       "      <td>49.0</td>\n",
       "      <td>64.883333</td>\n",
       "      <td>98.966667</td>\n",
       "      <td>174.0</td>\n",
       "    </tr>\n",
       "    <tr>\n",
       "      <th>SO</th>\n",
       "      <td>55.5</td>\n",
       "      <td>65.800000</td>\n",
       "      <td>95.583333</td>\n",
       "      <td>173.0</td>\n",
       "    </tr>\n",
       "    <tr>\n",
       "      <th>SU</th>\n",
       "      <td>62.0</td>\n",
       "      <td>70.416667</td>\n",
       "      <td>89.250000</td>\n",
       "      <td>173.0</td>\n",
       "    </tr>\n",
       "    <tr>\n",
       "      <th>UY</th>\n",
       "      <td>51.0</td>\n",
       "      <td>65.216667</td>\n",
       "      <td>88.850000</td>\n",
       "      <td>166.0</td>\n",
       "    </tr>\n",
       "    <tr>\n",
       "      <th>MS</th>\n",
       "      <td>58.0</td>\n",
       "      <td>88.200000</td>\n",
       "      <td>83.233333</td>\n",
       "      <td>179.0</td>\n",
       "    </tr>\n",
       "    <tr>\n",
       "      <th>SG</th>\n",
       "      <td>59.0</td>\n",
       "      <td>61.116667</td>\n",
       "      <td>79.416667</td>\n",
       "      <td>155.0</td>\n",
       "    </tr>\n",
       "    <tr>\n",
       "      <th>EN</th>\n",
       "      <td>49.0</td>\n",
       "      <td>44.350000</td>\n",
       "      <td>77.700000</td>\n",
       "      <td>137.0</td>\n",
       "    </tr>\n",
       "    <tr>\n",
       "      <th>CC</th>\n",
       "      <td>29.0</td>\n",
       "      <td>42.783333</td>\n",
       "      <td>72.633333</td>\n",
       "      <td>143.0</td>\n",
       "    </tr>\n",
       "    <tr>\n",
       "      <th>PS</th>\n",
       "      <td>40.0</td>\n",
       "      <td>60.316667</td>\n",
       "      <td>66.866667</td>\n",
       "      <td>128.0</td>\n",
       "    </tr>\n",
       "    <tr>\n",
       "      <th>MF</th>\n",
       "      <td>49.0</td>\n",
       "      <td>57.800000</td>\n",
       "      <td>66.633333</td>\n",
       "      <td>149.0</td>\n",
       "    </tr>\n",
       "    <tr>\n",
       "      <th>PA</th>\n",
       "      <td>47.0</td>\n",
       "      <td>39.333333</td>\n",
       "      <td>56.816667</td>\n",
       "      <td>107.0</td>\n",
       "    </tr>\n",
       "    <tr>\n",
       "      <th>OG</th>\n",
       "      <td>64.0</td>\n",
       "      <td>51.450000</td>\n",
       "      <td>46.183333</td>\n",
       "      <td>111.0</td>\n",
       "    </tr>\n",
       "    <tr>\n",
       "      <th>DY</th>\n",
       "      <td>35.0</td>\n",
       "      <td>138.016667</td>\n",
       "      <td>41.983333</td>\n",
       "      <td>180.0</td>\n",
       "    </tr>\n",
       "    <tr>\n",
       "      <th>DE</th>\n",
       "      <td>116.0</td>\n",
       "      <td>82.716667</td>\n",
       "      <td>32.283333</td>\n",
       "      <td>115.0</td>\n",
       "    </tr>\n",
       "    <tr>\n",
       "      <th>SS</th>\n",
       "      <td>103.0</td>\n",
       "      <td>85.258333</td>\n",
       "      <td>27.041667</td>\n",
       "      <td>134.0</td>\n",
       "    </tr>\n",
       "    <tr>\n",
       "      <th>OS</th>\n",
       "      <td>48.0</td>\n",
       "      <td>38.016667</td>\n",
       "      <td>20.708333</td>\n",
       "      <td>66.0</td>\n",
       "    </tr>\n",
       "  </tbody>\n",
       "</table>\n",
       "</div>"
      ],
      "text/plain": [
       "                  arr_dr_wait  dr_adm_req_wait  adm_req_dep_wait  dr_dep_wait\n",
       "adm_referral_loc                                                             \n",
       "TS                       96.0       126.833333        221.733333        416.0\n",
       "IT                       19.0        46.800000        126.116667        192.0\n",
       "PY                       66.0        53.958333        119.400000        186.0\n",
       "FS                       21.0         2.100000        117.550000        144.0\n",
       "GE                       26.0        55.616667        113.033333        204.0\n",
       "NS                       27.5       106.308333        108.541667        213.0\n",
       "MO                       47.0        81.866667        108.066667        210.0\n",
       "ME                       48.0        81.200000        104.933333        197.0\n",
       "OR                       49.0        64.883333         98.966667        174.0\n",
       "SO                       55.5        65.800000         95.583333        173.0\n",
       "SU                       62.0        70.416667         89.250000        173.0\n",
       "UY                       51.0        65.216667         88.850000        166.0\n",
       "MS                       58.0        88.200000         83.233333        179.0\n",
       "SG                       59.0        61.116667         79.416667        155.0\n",
       "EN                       49.0        44.350000         77.700000        137.0\n",
       "CC                       29.0        42.783333         72.633333        143.0\n",
       "PS                       40.0        60.316667         66.866667        128.0\n",
       "MF                       49.0        57.800000         66.633333        149.0\n",
       "PA                       47.0        39.333333         56.816667        107.0\n",
       "OG                       64.0        51.450000         46.183333        111.0\n",
       "DY                       35.0       138.016667         41.983333        180.0\n",
       "DE                      116.0        82.716667         32.283333        115.0\n",
       "SS                      103.0        85.258333         27.041667        134.0\n",
       "OS                       48.0        38.016667         20.708333         66.0"
      ]
     },
     "execution_count": 75,
     "metadata": {},
     "output_type": "execute_result"
    }
   ],
   "source": [
    "pat2.groupby(['adm_referral_loc'])[wait_col2].median().sort_values('adm_req_dep_wait',ascending=False)"
   ]
  },
  {
   "cell_type": "code",
   "execution_count": null,
   "metadata": {},
   "outputs": [],
   "source": []
  },
  {
   "cell_type": "markdown",
   "metadata": {},
   "source": [
    "#### function to select dates - return df"
   ]
  },
  {
   "cell_type": "code",
   "execution_count": 76,
   "metadata": {},
   "outputs": [],
   "source": [
    "start_date = pd.datetime(2012,12,31)\n",
    "end_date =  pd.datetime(2018,12,31)\n",
    "\n",
    "mask = (pat['arrive_datetime'] > start_date) & (pat['arrive_datetime'] <= end_date)"
   ]
  },
  {
   "cell_type": "code",
   "execution_count": null,
   "metadata": {},
   "outputs": [],
   "source": []
  },
  {
   "cell_type": "code",
   "execution_count": 77,
   "metadata": {},
   "outputs": [
    {
     "data": {
      "text/html": [
       "<div>\n",
       "<style scoped>\n",
       "    .dataframe tbody tr th:only-of-type {\n",
       "        vertical-align: middle;\n",
       "    }\n",
       "\n",
       "    .dataframe tbody tr th {\n",
       "        vertical-align: top;\n",
       "    }\n",
       "\n",
       "    .dataframe thead th {\n",
       "        text-align: right;\n",
       "    }\n",
       "</style>\n",
       "<table border=\"1\" class=\"dataframe\">\n",
       "  <thead>\n",
       "    <tr style=\"text-align: right;\">\n",
       "      <th></th>\n",
       "      <th>hosp_patid</th>\n",
       "      <th>age</th>\n",
       "      <th>gender</th>\n",
       "      <th>site</th>\n",
       "      <th>arrive_datetime</th>\n",
       "      <th>arrive_mode</th>\n",
       "      <th>first_triage_datetime</th>\n",
       "      <th>first_dr_datetime</th>\n",
       "      <th>first_adm_request_time</th>\n",
       "      <th>adm_referral_loc</th>\n",
       "      <th>...</th>\n",
       "      <th>depart_weekday_name</th>\n",
       "      <th>depart_year</th>\n",
       "      <th>depart_date</th>\n",
       "      <th>first_adm_request_datetime</th>\n",
       "      <th>arr_triage_wait</th>\n",
       "      <th>arr_dr_wait</th>\n",
       "      <th>arr_adm_req_wait</th>\n",
       "      <th>adm_req_dep_wait</th>\n",
       "      <th>dr_adm_req_wait</th>\n",
       "      <th>dr_dep_wait</th>\n",
       "    </tr>\n",
       "    <tr>\n",
       "      <th>arrive_date</th>\n",
       "      <th></th>\n",
       "      <th></th>\n",
       "      <th></th>\n",
       "      <th></th>\n",
       "      <th></th>\n",
       "      <th></th>\n",
       "      <th></th>\n",
       "      <th></th>\n",
       "      <th></th>\n",
       "      <th></th>\n",
       "      <th></th>\n",
       "      <th></th>\n",
       "      <th></th>\n",
       "      <th></th>\n",
       "      <th></th>\n",
       "      <th></th>\n",
       "      <th></th>\n",
       "      <th></th>\n",
       "      <th></th>\n",
       "      <th></th>\n",
       "      <th></th>\n",
       "    </tr>\n",
       "  </thead>\n",
       "  <tbody>\n",
       "    <tr>\n",
       "      <th>2012-12-31</th>\n",
       "      <td>223</td>\n",
       "      <td>223</td>\n",
       "      <td>223</td>\n",
       "      <td>223</td>\n",
       "      <td>223</td>\n",
       "      <td>221</td>\n",
       "      <td>221</td>\n",
       "      <td>223</td>\n",
       "      <td>66</td>\n",
       "      <td>65</td>\n",
       "      <td>...</td>\n",
       "      <td>223</td>\n",
       "      <td>223</td>\n",
       "      <td>223</td>\n",
       "      <td>66</td>\n",
       "      <td>221</td>\n",
       "      <td>223</td>\n",
       "      <td>66</td>\n",
       "      <td>66</td>\n",
       "      <td>66</td>\n",
       "      <td>223</td>\n",
       "    </tr>\n",
       "  </tbody>\n",
       "</table>\n",
       "<p>1 rows × 35 columns</p>\n",
       "</div>"
      ],
      "text/plain": [
       "             hosp_patid  age  gender  site  arrive_datetime  arrive_mode  \\\n",
       "arrive_date                                                                \n",
       "2012-12-31          223  223     223   223              223          221   \n",
       "\n",
       "             first_triage_datetime  first_dr_datetime  first_adm_request_time  \\\n",
       "arrive_date                                                                     \n",
       "2012-12-31                     221                223                      66   \n",
       "\n",
       "             adm_referral_loc     ...       depart_weekday_name  depart_year  \\\n",
       "arrive_date                       ...                                          \n",
       "2012-12-31                 65     ...                       223          223   \n",
       "\n",
       "             depart_date  first_adm_request_datetime  arr_triage_wait  \\\n",
       "arrive_date                                                             \n",
       "2012-12-31           223                          66              221   \n",
       "\n",
       "             arr_dr_wait  arr_adm_req_wait  adm_req_dep_wait  dr_adm_req_wait  \\\n",
       "arrive_date                                                                     \n",
       "2012-12-31           223                66                66               66   \n",
       "\n",
       "             dr_dep_wait  \n",
       "arrive_date               \n",
       "2012-12-31           223  \n",
       "\n",
       "[1 rows x 35 columns]"
      ]
     },
     "execution_count": 77,
     "metadata": {},
     "output_type": "execute_result"
    }
   ],
   "source": [
    "pat[mask].groupby(['arrive_date']).count().head(1)"
   ]
  },
  {
   "cell_type": "markdown",
   "metadata": {},
   "source": [
    "# functions to call plotting"
   ]
  },
  {
   "cell_type": "markdown",
   "metadata": {},
   "source": [
    "## !! Add in filter to get non-spurious cases!!!!!"
   ]
  },
  {
   "cell_type": "code",
   "execution_count": null,
   "metadata": {},
   "outputs": [],
   "source": [
    "pat.arrive_dayofweek"
   ]
  },
  {
   "cell_type": "code",
   "execution_count": 105,
   "metadata": {},
   "outputs": [],
   "source": [
    "def col_filter(df,col,values):\n",
    "    \"\"\"\n",
    "    col: str, column name to select from\n",
    "    values: list of values\n",
    "    \"\"\"\n",
    "    return df[df[col].isin(values)]\n",
    "    "
   ]
  },
  {
   "cell_type": "code",
   "execution_count": 166,
   "metadata": {},
   "outputs": [],
   "source": [
    "def plot_filter(df,dow=None, months= None, years=None,include_dates=None):\n",
    "    dff = df\n",
    "    if include_dates != None:\n",
    "        # call date selection function, retunr df2\n",
    "        print('WARNING dates not yet implemented!!')\n",
    "        \n",
    "    if years != None:\n",
    "        # call day selection function, return df2\n",
    "        dff = col_filter(dff,'arrive_year',years)\n",
    "        \n",
    "    if months != None:\n",
    "        # call day selection function, return df2\n",
    "        dff = col_filter(dff,'arrive_month',months)\n",
    "        \n",
    "    if dow != None:\n",
    "        # call day selection function, return df2\n",
    "        dff = col_filter(dff,'arrive_dayofweek',dow)\n",
    "    #etc \n",
    "    \n",
    "    return(dff)\n",
    "        \n",
    "    # do plotting on df2 - groupbys\n",
    "    # save plots out (how choose filenames)"
   ]
  },
  {
   "cell_type": "code",
   "execution_count": null,
   "metadata": {},
   "outputs": [],
   "source": []
  },
  {
   "cell_type": "code",
   "execution_count": 202,
   "metadata": {},
   "outputs": [
    {
     "data": {
      "image/png": "[encoded data removed]",
      "text/plain": [
       "<matplotlib.figure.Figure at 0x1cfaa87dbe0>"
      ]
     },
     "metadata": {},
     "output_type": "display_data"
    }
   ],
   "source": [
    "fig = plt.figure(figsize=(7,10))\n",
    "\n",
    "df = plot_filter(pat2,years=[2013])\n",
    "\n",
    "ax = plt.subplot(211)\n",
    "df[df.adm_flag == 0].groupby('arrive_hour')[wait_col2[0],wait_col2[3]].median().plot.bar(stacked=True,ax=ax)\n",
    "ax.set_ylabel('Median patient waiting time (mins)');\n",
    "ax.set_ylim([0,230]);\n",
    "ax.legend(frameon=True)\n",
    "ax.set_title('Non-admitted patients, 2013');\n",
    "\n",
    "ax = plt.subplot(212)\n",
    "df[df.adm_flag == 1].groupby('arrive_hour')[wait_col2[0],wait_col2[3]].median().plot.bar(stacked=True,ax=ax)\n",
    "ax.set_ylabel('Median patient waiting time (mins)');\n",
    "ax.set_ylim([0,230]);\n",
    "ax.legend_.remove()\n",
    "ax.set_title('Admitted patients, 2013');\n",
    "\n"
   ]
  },
  {
   "cell_type": "code",
   "execution_count": 201,
   "metadata": {},
   "outputs": [
    {
     "data": {
      "image/png": "[encoded data removed]",
      "text/plain": [
       "<matplotlib.figure.Figure at 0x1cfaac730b8>"
      ]
     },
     "metadata": {},
     "output_type": "display_data"
    }
   ],
   "source": [
    "fig = plt.figure(figsize=(7,10))\n",
    "\n",
    "df = plot_filter(pat2,years=[2017])\n",
    "\n",
    "ax = plt.subplot(211)\n",
    "df[df.adm_flag == 0].groupby('arrive_hour')[wait_col2[0],wait_col2[3]].median().plot.bar(stacked=True,ax=ax)\n",
    "ax.set_ylabel('Median patient waiting time (mins)');\n",
    "ax.set_ylim([0,230]);\n",
    "ax.legend(frameon=True)\n",
    "ax.set_title('Non-admitted patients, 2017');\n",
    "\n",
    "ax = plt.subplot(212)\n",
    "df[df.adm_flag == 1].groupby('arrive_hour')[wait_col2[0],wait_col2[3]].median().plot.bar(stacked=True,ax=ax)\n",
    "ax.set_ylabel('Median patient waiting time (mins)');\n",
    "ax.set_ylim([0,230]);\n",
    "ax.legend_.remove()\n",
    "ax.set_title('Admitted patients, 2017');\n",
    "\n"
   ]
  },
  {
   "cell_type": "code",
   "execution_count": 200,
   "metadata": {},
   "outputs": [
    {
     "name": "stderr",
     "output_type": "stream",
     "text": [
      "C:\\Anaconda3\\envs\\hospital-flow\\lib\\site-packages\\ipykernel_launcher.py:9: DeprecationWarning: \n",
      ".ix is deprecated. Please use\n",
      ".loc for label based indexing or\n",
      ".iloc for positional indexing\n",
      "\n",
      "See the documentation here:\n",
      "http://pandas.pydata.org/pandas-docs/stable/indexing.html#ix-indexer-is-deprecated\n",
      "  if __name__ == '__main__':\n",
      "C:\\Anaconda3\\envs\\hospital-flow\\lib\\site-packages\\ipykernel_launcher.py:21: DeprecationWarning: \n",
      ".ix is deprecated. Please use\n",
      ".loc for label based indexing or\n",
      ".iloc for positional indexing\n",
      "\n",
      "See the documentation here:\n",
      "http://pandas.pydata.org/pandas-docs/stable/indexing.html#ix-indexer-is-deprecated\n"
     ]
    },
    {
     "data": {
      "text/plain": [
       "Text(0.5,1,'Admitted patients,[2013]')"
      ]
     },
     "execution_count": 200,
     "metadata": {},
     "output_type": "execute_result"
    },
    {
     "data": {
      "image/png": "[encoded data removed]",
      "text/plain": [
       "<matplotlib.figure.Figure at 0x1cfab173f28>"
      ]
     },
     "metadata": {},
     "output_type": "display_data"
    }
   ],
   "source": [
    "fig = plt.figure(figsize=(7,10))\n",
    "\n",
    "years=[2013]\n",
    "\n",
    "df = plot_filter(pat2,years=years)\n",
    "\n",
    "ax = plt.subplot(211)\n",
    "\n",
    "df[df.adm_flag == 0][wait_col].describe().ix[['25%','50%','75%']].plot.barh(stacked=True,ax=ax);\n",
    "ax.set_xlim([0,400]);\n",
    "ax.set_yticklabels(['UQ','median','LQ'])\n",
    "ax2 = plt.twinx()\n",
    "ax2.plot([240,240], ['75%','25%'], 'r--');\n",
    "ax2.grid(False)\n",
    "ax2.set_yticklabels('');\n",
    "ax.set_xlabel('minutes');\n",
    "ax.set_title('Non-admitted patients,' + str(years))\n",
    "\n",
    "ax = plt.subplot(212)\n",
    "\n",
    "df[df.adm_flag == 1][wait_col].describe().ix[['25%','50%','75%']].plot.barh(stacked=True,ax=ax);\n",
    "ax.set_xlim([0,400]);\n",
    "ax.set_yticklabels(['UQ','median','LQ'])\n",
    "ax2 = plt.twinx()\n",
    "ax2.plot([240,240], ['75%','25%'], 'r--');\n",
    "ax2.grid(False)\n",
    "ax2.set_yticklabels('');\n",
    "ax.set_xlabel('minutes');\n",
    "ax.set_title('Admitted patients,' + str(years))"
   ]
  },
  {
   "cell_type": "code",
   "execution_count": null,
   "metadata": {},
   "outputs": [],
   "source": []
  },
  {
   "cell_type": "code",
   "execution_count": 207,
   "metadata": {},
   "outputs": [
    {
     "name": "stderr",
     "output_type": "stream",
     "text": [
      "C:\\Anaconda3\\envs\\hospital-flow\\lib\\site-packages\\matplotlib\\cbook\\deprecation.py:106: MatplotlibDeprecationWarning: Adding an axes using the same arguments as a previous axes currently reuses the earlier instance.  In a future version, a new instance will always be created and returned.  Meanwhile, this warning can be suppressed, and the future behavior ensured, by passing a unique label to each axes instance.\n",
      "  warnings.warn(message, mplDeprecation, stacklevel=1)\n"
     ]
    },
    {
     "data": {
      "text/plain": [
       "(0, 28)"
      ]
     },
     "execution_count": 207,
     "metadata": {},
     "output_type": "execute_result"
    },
    {
     "data": {
      "image/png": "[encoded data removed]",
      "text/plain": [
       "<matplotlib.figure.Figure at 0x1cfac68e630>"
      ]
     },
     "metadata": {},
     "output_type": "display_data"
    }
   ],
   "source": [
    "fig = plt.figure(figsize=(8,5))\n",
    "\n",
    "years=[2013]\n",
    "#dows = [0,1,2,3,4]\n",
    "dows=[5,6]\n",
    "#dows=None\n",
    "\n",
    "df = plot_filter(pat2,years=years,dow=dows)\n",
    "\n",
    "ax = plt.subplot()\n",
    "daily_dep = df[['depart_hour','arrive_date','hosp_patid']].groupby(['depart_hour','arrive_date']).count()\n",
    "daily_arr = df[['arrive_hour','arrive_date','hosp_patid']].groupby(['arrive_hour','arrive_date']).count()\n",
    "\n",
    "daily_dep_m = daily_dep.groupby(['depart_hour']).median()#['hosp_patid'].plot()\n",
    "daily_arr_m = daily_arr.groupby(['arrive_hour']).median()#['hosp_patid'].plot()\n",
    "\n",
    "daily_arr_UQ = daily_arr.groupby(['arrive_hour']).quantile(0.75)#['hosp_patid'].plot()\n",
    "daily_arr_LQ = daily_arr.groupby(['arrive_hour']).quantile(0.25)#['hosp_patid'].plot() \n",
    "\n",
    "\n",
    "daily_dep_UQ = daily_dep.groupby(['depart_hour']).quantile(0.75)#['hosp_patid'].plot()\n",
    "daily_dep_LQ = daily_dep.groupby(['depart_hour']).quantile(0.25)#['hosp_patid'].plot() \n",
    "\n",
    "\n",
    "ax = plt.subplot()\n",
    "\n",
    "daily_arr_m.plot(ax=ax)\n",
    "\n",
    "\n",
    "ax.fill_between(x = daily_arr_UQ.index,y1=daily_arr_UQ['hosp_patid'],y2=daily_arr_LQ['hosp_patid'],alpha=0.2)\n",
    "\n",
    "daily_dep_m.plot(ax=ax)\n",
    "ax.fill_between(x = daily_dep_UQ.index,y1=daily_dep_UQ['hosp_patid'],y2=daily_dep_LQ['hosp_patid'],alpha=0.2)\n",
    "\n",
    "\n",
    "ax.legend(['arrivals','departures','arr IQR','dep IQR'],frameon=True,loc='upper left');\n",
    "ax.set_xlabel('Hour of day');\n",
    "ax.set_ylabel('Number of patients (median)');\n",
    "ax.set_xticks(np.arange(0,25,2));\n",
    "ax.set_title('Attendance-Departure by hour of day:'+str(years)+str(dows));\n",
    "ax.set_ylim([0,28])"
   ]
  },
  {
   "cell_type": "code",
   "execution_count": 198,
   "metadata": {},
   "outputs": [
    {
     "data": {
      "image/png": "[encoded data removed]",
      "text/plain": [
       "<matplotlib.figure.Figure at 0x1cfab3bb320>"
      ]
     },
     "metadata": {},
     "output_type": "display_data"
    }
   ],
   "source": [
    "#### this is a follow on from above! - no filtering this time!\n",
    "fig = plt.figure(figsize=(8,5))\n",
    "\n",
    "df = plot_filter(pat2,years=years,dow=dows)\n",
    "\n",
    "ax = plt.subplot();\n",
    "(daily_arr_m-daily_dep_m).plot(ax=ax);\n",
    "\n",
    "\n",
    "y1 = (daily_arr_UQ - daily_dep_LQ)['hosp_patid']\n",
    "y2 = (daily_arr_LQ - daily_dep_UQ)['hosp_patid']\n",
    "\n",
    "ax.fill_between(x = daily_dep_UQ.index,y1=y1,y2=y2,alpha=0.2)\n",
    "\n",
    "\n",
    "\n",
    "ax.set_xlabel('Hour of day');\n",
    "ax.set_ylabel('Change in occupancy per hour');\n",
    "ax.legend(['median','IQR'])\n",
    "ax.plot([0,24],[0,0],'r')\n",
    "ax.set_xticks(np.arange(0,25,2));\n",
    "ax.set_title('Occupacny change by hour of day:'+str(years)+str(dows));\n",
    "ax.set_ylim([-15,15]);"
   ]
  },
  {
   "cell_type": "code",
   "execution_count": 58,
   "metadata": {},
   "outputs": [
    {
     "data": {
      "image/png": "[encoded data removed]",
      "text/plain": [
       "<matplotlib.figure.Figure at 0x1cfa72105f8>"
      ]
     },
     "metadata": {},
     "output_type": "display_data"
    }
   ],
   "source": [
    "pat2[wait_col2[0:3]].plot.hist(stacked=False,bins=30);"
   ]
  },
  {
   "cell_type": "code",
   "execution_count": 213,
   "metadata": {},
   "outputs": [
    {
     "data": {
      "text/plain": [
       "<matplotlib.axes._subplots.AxesSubplot at 0x1cfaa6a41d0>"
      ]
     },
     "execution_count": 213,
     "metadata": {},
     "output_type": "execute_result"
    },
    {
     "data": {
      "image/png": "[encoded data removed]",
      "text/plain": [
       "<matplotlib.figure.Figure at 0x1cfaa776f28>"
      ]
     },
     "metadata": {},
     "output_type": "display_data"
    }
   ],
   "source": [
    "pat2[(pat2.adm_flag == 1) & (pat2.arrive_year == 2013)]['adm_req_dep_wait'].hist(bins=50)"
   ]
  },
  {
   "cell_type": "code",
   "execution_count": 214,
   "metadata": {},
   "outputs": [
    {
     "data": {
      "text/plain": [
       "<matplotlib.axes._subplots.AxesSubplot at 0x1cfaa5d64a8>"
      ]
     },
     "execution_count": 214,
     "metadata": {},
     "output_type": "execute_result"
    },
    {
     "data": {
      "image/png": "[encoded data removed]",
      "text/plain": [
       "<matplotlib.figure.Figure at 0x1cfaa5111d0>"
      ]
     },
     "metadata": {},
     "output_type": "display_data"
    }
   ],
   "source": [
    "pat2[(pat2.adm_flag == 1) & (pat2.arrive_year == 2017)]['adm_req_dep_wait'].hist(bins=50)"
   ]
  },
  {
   "cell_type": "code",
   "execution_count": 215,
   "metadata": {},
   "outputs": [
    {
     "data": {
      "text/plain": [
       "<matplotlib.axes._subplots.AxesSubplot at 0x1cfaa50b828>"
      ]
     },
     "execution_count": 215,
     "metadata": {},
     "output_type": "execute_result"
    },
    {
     "data": {
      "image/png": "[encoded data removed]",
      "text/plain": [
       "<matplotlib.figure.Figure at 0x1cfaa4ca898>"
      ]
     },
     "metadata": {},
     "output_type": "display_data"
    }
   ],
   "source": [
    "pat2[(pat2.adm_flag == 1) & (pat2.arrive_year == 2013)]['dr_dep_wait'].hist(bins=50)"
   ]
  },
  {
   "cell_type": "code",
   "execution_count": 216,
   "metadata": {},
   "outputs": [
    {
     "data": {
      "text/plain": [
       "<matplotlib.axes._subplots.AxesSubplot at 0x1cfaa4aeb00>"
      ]
     },
     "execution_count": 216,
     "metadata": {},
     "output_type": "execute_result"
    },
    {
     "data": {
      "image/png": "[encoded data removed]",
      "text/plain": [
       "<matplotlib.figure.Figure at 0x1cfaa485da0>"
      ]
     },
     "metadata": {},
     "output_type": "display_data"
    }
   ],
   "source": [
    "pat2[(pat2.adm_flag == 1) & (pat2.arrive_year == 2017)]['dr_dep_wait'].hist(bins=50)"
   ]
  },
  {
   "cell_type": "code",
   "execution_count": 157,
   "metadata": {},
   "outputs": [
    {
     "data": {
      "text/plain": [
       "'None'"
      ]
     },
     "execution_count": 157,
     "metadata": {},
     "output_type": "execute_result"
    }
   ],
   "source": [
    "str(None)"
   ]
  },
  {
   "cell_type": "code",
   "execution_count": 165,
   "metadata": {},
   "outputs": [
    {
     "data": {
      "text/plain": [
       "(395432, 36)"
      ]
     },
     "execution_count": 165,
     "metadata": {},
     "output_type": "execute_result"
    }
   ],
   "source": [
    "df.shape"
   ]
  },
  {
   "cell_type": "code",
   "execution_count": null,
   "metadata": {},
   "outputs": [],
   "source": []
  },
  {
   "cell_type": "markdown",
   "metadata": {},
   "source": [
    "# dev"
   ]
  },
  {
   "cell_type": "code",
   "execution_count": null,
   "metadata": {},
   "outputs": [],
   "source": [
    "break"
   ]
  },
  {
   "cell_type": "code",
   "execution_count": null,
   "metadata": {},
   "outputs": [],
   "source": [
    "path = './../../3_Data/HH_ED_Flow_Study.csv'"
   ]
  },
  {
   "cell_type": "code",
   "execution_count": null,
   "metadata": {},
   "outputs": [],
   "source": [
    "df = pd.read_csv(path,\n",
    "        low_memory=False)"
   ]
  },
  {
   "cell_type": "code",
   "execution_count": null,
   "metadata": {},
   "outputs": [],
   "source": [
    "dt_cols = []\n",
    "for i in df.columns:\n",
    "    if 'DTTM' in i:\n",
    "        dt_cols.append(i)"
   ]
  },
  {
   "cell_type": "code",
   "execution_count": null,
   "metadata": {},
   "outputs": [],
   "source": [
    "df[dt_cols]"
   ]
  },
  {
   "cell_type": "code",
   "execution_count": null,
   "metadata": {},
   "outputs": [],
   "source": [
    "df.INITIAL_ASSESSMENT_DTTM[0][0:16]"
   ]
  },
  {
   "cell_type": "code",
   "execution_count": null,
   "metadata": {},
   "outputs": [],
   "source": [
    "df[df.INITIAL_ASSESSMENT_DTTM == '1899-12-30 00:00:00.000000'].INITIAL_ASSESSMENT_DTTM"
   ]
  },
  {
   "cell_type": "code",
   "execution_count": null,
   "metadata": {},
   "outputs": [],
   "source": [
    "df.loc[df.INITIAL_ASSESSMENT_DTTM == '1899-12-30 00:00:00.000000', 'INITIAL_ASSESSMENT_DTTM'] = np.nan"
   ]
  },
  {
   "cell_type": "code",
   "execution_count": null,
   "metadata": {},
   "outputs": [],
   "source": [
    "'1899-12-30 00:00:00.000000'[0:16]"
   ]
  },
  {
   "cell_type": "code",
   "execution_count": null,
   "metadata": {},
   "outputs": [],
   "source": [
    "df['ARRIVAL_DTTM'].dtype"
   ]
  },
  {
   "cell_type": "code",
   "execution_count": null,
   "metadata": {},
   "outputs": [],
   "source": [
    "def convert_cols_datetime(x,col_names = None):\n",
    "    \"\"\" convert either all columns with datetime in name to type datetime, or if col_names given only convert slected cols.\n",
    "    input\n",
    "    x: df,\n",
    "    col_names: list of str, optional containing names of columns to convert\n",
    "    return: new type converted df\n",
    "    \"\"\"\n",
    "    print(40*'-')\n",
    "    print('Converting cols to datetime...(may take some time depedning on size of df)...')\n",
    "    print(20*'-')\n",
    "    if col_names == None:\n",
    "        for i in x.columns:\n",
    "            if ('datetime' in i) & (x[i].dtype != np.dtype('datetime64[ns]')):\n",
    "                #### selected cols have datetime in name and are not of type datetime64\n",
    "                print(i)\n",
    "                x[i] = pd.to_datetime(x[i])\n",
    "    else:\n",
    "        for i in col_names:\n",
    "            print(i)\n",
    "            x[i] = pd.to_datetime(x[i])\n",
    "    print(20*'-')\n",
    "    print('Conversion complete.')\n",
    "    print(20*'-')\n",
    "\n",
    "    return(x)"
   ]
  },
  {
   "cell_type": "code",
   "execution_count": null,
   "metadata": {},
   "outputs": [],
   "source": [
    "x = df[['ARRIVAL_DTTM','ATTENDANCE_CONCLUSION_DTTM']][-2000:]"
   ]
  },
  {
   "cell_type": "code",
   "execution_count": null,
   "metadata": {},
   "outputs": [],
   "source": [
    "x.tail()"
   ]
  },
  {
   "cell_type": "code",
   "execution_count": null,
   "metadata": {},
   "outputs": [],
   "source": [
    "df2 = convert_cols_datetime(x,col_names = ['ARRIVAL_DTTM'])"
   ]
  },
  {
   "cell_type": "code",
   "execution_count": null,
   "metadata": {},
   "outputs": [],
   "source": [
    "df2.tail()"
   ]
  },
  {
   "cell_type": "markdown",
   "metadata": {},
   "source": [
    "08/02/2018 22:24"
   ]
  },
  {
   "cell_type": "code",
   "execution_count": null,
   "metadata": {},
   "outputs": [],
   "source": [
    "raise Exception('Problem!')"
   ]
  },
  {
   "cell_type": "code",
   "execution_count": null,
   "metadata": {},
   "outputs": [],
   "source": [
    "i = 'ARRIVAL_DTTM'"
   ]
  },
  {
   "cell_type": "code",
   "execution_count": null,
   "metadata": {},
   "outputs": [],
   "source": [
    "y = pd.to_datetime(x[i],format=\"%d/%m/%Y %H:%M\")"
   ]
  },
  {
   "cell_type": "code",
   "execution_count": null,
   "metadata": {},
   "outputs": [],
   "source": [
    "y"
   ]
  },
  {
   "cell_type": "code",
   "execution_count": null,
   "metadata": {},
   "outputs": [],
   "source": [
    "x"
   ]
  },
  {
   "cell_type": "code",
   "execution_count": null,
   "metadata": {},
   "outputs": [],
   "source": []
  },
  {
   "cell_type": "code",
   "execution_count": null,
   "metadata": {},
   "outputs": [],
   "source": []
  },
  {
   "cell_type": "code",
   "execution_count": null,
   "metadata": {},
   "outputs": [],
   "source": []
  },
  {
   "cell_type": "code",
   "execution_count": null,
   "metadata": {},
   "outputs": [],
   "source": []
  },
  {
   "cell_type": "code",
   "execution_count": null,
   "metadata": {},
   "outputs": [],
   "source": []
  },
  {
   "cell_type": "code",
   "execution_count": null,
   "metadata": {},
   "outputs": [],
   "source": [
    "hh_cols = {\n",
    "'PSEUDONYMISED_PATIENT_ID':'dept_patid',\n",
    "'PSEUDONYMISED_PATIENT_ID':'hosp_patid',\n",
    "'AGE_AT_ARRIVAL':'age',\n",
    "'GENDER_NATIONAL_DESCRIPTION':'gender',\n",
    "'SITE':'site',\n",
    "'ARRIVAL_DTTM':'arrival_date',\n",
    "'ARRIVAL_DTTM':'arrival_time',\n",
    "'ARRIVAL_MODE_NATIONAL_CODE':'arrival_mode',\n",
    "'INITIAL_ASSESSMENT_DTTM':'first_triage_time',\n",
    "'SEEN_FOR_TREATMENT_DTTM':'first_dr_time',\n",
    "'SPECIALTY_REQUEST_TIME':'first_adm_request_time',\n",
    "'SPECIALTY_REFERRED_TO_CODE':'adm_referral_loc',\n",
    "'ADMISSION_FLAG':'departure_method',\n",
    "'ATTENDANCE_CONCLUSION_DTTM':'leaving_time',\n",
    "'STREAM_LOCAL_CODE':'stream'\n",
    "}\n",
    "\n",
    "### import data\n",
    "hh.ioED.load_hosp_csv('./../../3_Data/HH_ED_Flow_Study.csv',hh_cols)\n",
    "\n",
    "\n",
    "\n",
    "hh.ioED.checks()\n"
   ]
  },
  {
   "cell_type": "code",
   "execution_count": null,
   "metadata": {},
   "outputs": [],
   "source": [
    "hh.ioED.get_EDraw()"
   ]
  },
  {
   "cell_type": "code",
   "execution_count": null,
   "metadata": {},
   "outputs": [],
   "source": [
    "test.head()"
   ]
  },
  {
   "cell_type": "code",
   "execution_count": null,
   "metadata": {},
   "outputs": [],
   "source": [
    "test.minutes_today.sum()"
   ]
  },
  {
   "cell_type": "code",
   "execution_count": null,
   "metadata": {},
   "outputs": [],
   "source": [
    "test.columns\n"
   ]
  },
  {
   "cell_type": "code",
   "execution_count": null,
   "metadata": {},
   "outputs": [],
   "source": [
    "pd.to_datetime(test.leaving_time)"
   ]
  },
  {
   "cell_type": "code",
   "execution_count": null,
   "metadata": {},
   "outputs": [],
   "source": []
  },
  {
   "cell_type": "code",
   "execution_count": null,
   "metadata": {},
   "outputs": [],
   "source": []
  },
  {
   "cell_type": "code",
   "execution_count": null,
   "metadata": {},
   "outputs": [],
   "source": [
    "df"
   ]
  },
  {
   "cell_type": "code",
   "execution_count": null,
   "metadata": {},
   "outputs": [],
   "source": [
    "df.head(1)"
   ]
  },
  {
   "cell_type": "code",
   "execution_count": null,
   "metadata": {
    "scrolled": true
   },
   "outputs": [],
   "source": [
    "df.index"
   ]
  },
  {
   "cell_type": "code",
   "execution_count": null,
   "metadata": {},
   "outputs": [],
   "source": [
    "df['year'] = df.apply(lambda x: x.name.year ,axis=1)\n",
    "df['year'] = df.apply(lambda x: x.name.year ,axis=1)\n",
    "df['year'] = df.apply(lambda x: x.name.year ,axis=1)\n",
    "\n",
    "df['date'] = df.index"
   ]
  },
  {
   "cell_type": "code",
   "execution_count": null,
   "metadata": {},
   "outputs": [],
   "source": [
    "df.date.values"
   ]
  },
  {
   "cell_type": "code",
   "execution_count": null,
   "metadata": {},
   "outputs": [],
   "source": [
    "df.date.values[0] #.astype(datetime)"
   ]
  },
  {
   "cell_type": "code",
   "execution_count": null,
   "metadata": {},
   "outputs": [],
   "source": [
    "pd.to_datetime(df.date.values).weekday_name"
   ]
  },
  {
   "cell_type": "markdown",
   "metadata": {},
   "source": [
    "# prefix to all cols test"
   ]
  },
  {
   "cell_type": "code",
   "execution_count": null,
   "metadata": {},
   "outputs": [],
   "source": []
  },
  {
   "cell_type": "code",
   "execution_count": null,
   "metadata": {},
   "outputs": [],
   "source": [
    "def prefix_cols(x,prefix):\n",
    "    \"\"\" adds string prefix to all col names\"\"\"\n",
    "    for i in df.columns:\n",
    "        x.rename(columns={i:prefix + i},inplace=True)"
   ]
  },
  {
   "cell_type": "code",
   "execution_count": null,
   "metadata": {},
   "outputs": [],
   "source": [
    "prefix_cols(df,'ED_')"
   ]
  },
  {
   "cell_type": "code",
   "execution_count": null,
   "metadata": {},
   "outputs": [],
   "source": [
    "df"
   ]
  },
  {
   "cell_type": "code",
   "execution_count": null,
   "metadata": {},
   "outputs": [],
   "source": [
    "df"
   ]
  },
  {
   "cell_type": "code",
   "execution_count": null,
   "metadata": {},
   "outputs": [],
   "source": [
    "pd.to_datetime(df.index)"
   ]
  },
  {
   "cell_type": "markdown",
   "metadata": {},
   "source": [
    "# Dev"
   ]
  },
  {
   "cell_type": "code",
   "execution_count": null,
   "metadata": {},
   "outputs": [],
   "source": [
    "break"
   ]
  },
  {
   "cell_type": "code",
   "execution_count": null,
   "metadata": {},
   "outputs": [],
   "source": [
    "#import dep\n",
    "import numpy as np\n",
    "import pandas as pd\n",
    "import seaborn as sns\n",
    "sns.set()\n",
    "\n",
    "# local import\n",
    "from hospital import *"
   ]
  },
  {
   "cell_type": "code",
   "execution_count": null,
   "metadata": {},
   "outputs": [],
   "source": [
    "hh = hosp('hh')"
   ]
  },
  {
   "cell_type": "code",
   "execution_count": null,
   "metadata": {},
   "outputs": [],
   "source": [
    "hh_cols = {\n",
    "'PSEUDONYMISED_PATIENT_ID':'dept_patid',\n",
    "'PSEUDONYMISED_PATIENT_ID':'hosp_patid',\n",
    "'AGE_AT_ARRIVAL':'age',\n",
    "'GENDER_NATIONAL_DESCRIPTION':'gender',\n",
    "'SITE':'site',\n",
    "'ARRIVAL_DTTM':'arrival_datetime',\n",
    "'ARRIVAL_MODE_NATIONAL_CODE':'arrival_mode',\n",
    "'INITIAL_ASSESSMENT_DTTM':'first_triage_datetime',\n",
    "'SEEN_FOR_TREATMENT_DTTM':'first_dr_datetime',\n",
    "'SPECIALTY_REQUEST_TIME':'first_adm_request_time',\n",
    "'SPECIALTY_REFERRED_TO_CODE':'adm_referral_loc',\n",
    "'ADMISSION_FLAG':'departure_method',\n",
    "'ATTENDANCE_CONCLUSION_DTTM':'leaving_datetime',\n",
    "'STREAM_LOCAL_CODE':'stream'\n",
    "}\n",
    "\n",
    "### import data\n",
    "hh.ioED.load_hosp_csv('./../../3_Data/HH_ED_Flow_Study.csv',hh_cols)"
   ]
  },
  {
   "cell_type": "code",
   "execution_count": null,
   "metadata": {},
   "outputs": [],
   "source": [
    "hh.ioED.checks()"
   ]
  },
  {
   "cell_type": "code",
   "execution_count": null,
   "metadata": {},
   "outputs": [],
   "source": [
    "df = hh.ioED.get_EDraw()\n",
    "df = df[0:100]\n",
    "hh.ioED.replace_EDraw(df)\n"
   ]
  },
  {
   "cell_type": "code",
   "execution_count": null,
   "metadata": {},
   "outputs": [],
   "source": []
  },
  {
   "cell_type": "code",
   "execution_count": null,
   "metadata": {},
   "outputs": [],
   "source": [
    "hh.ioED.convert_cols_datetime()"
   ]
  },
  {
   "cell_type": "code",
   "execution_count": null,
   "metadata": {},
   "outputs": [],
   "source": [
    "hh.ioED.checks()"
   ]
  },
  {
   "cell_type": "code",
   "execution_count": null,
   "metadata": {},
   "outputs": [],
   "source": [
    "hh.ioED.create_auto_columns()"
   ]
  },
  {
   "cell_type": "code",
   "execution_count": null,
   "metadata": {},
   "outputs": [],
   "source": [
    "hh.ioED.checks()"
   ]
  },
  {
   "cell_type": "code",
   "execution_count": null,
   "metadata": {},
   "outputs": [],
   "source": [
    "hh.ioED.get_EDraw().columns"
   ]
  },
  {
   "cell_type": "code",
   "execution_count": null,
   "metadata": {},
   "outputs": [],
   "source": []
  },
  {
   "cell_type": "code",
   "execution_count": null,
   "metadata": {},
   "outputs": [],
   "source": [
    "hh.ioED."
   ]
  },
  {
   "cell_type": "code",
   "execution_count": null,
   "metadata": {},
   "outputs": [],
   "source": [
    "df.shape"
   ]
  },
  {
   "cell_type": "code",
   "execution_count": null,
   "metadata": {},
   "outputs": [],
   "source": [
    "df.arrival_datetime.dtype"
   ]
  },
  {
   "cell_type": "code",
   "execution_count": null,
   "metadata": {},
   "outputs": [],
   "source": [
    "pd.to_datetime(df.arrival_datetime).dtype"
   ]
  },
  {
   "cell_type": "code",
   "execution_count": null,
   "metadata": {},
   "outputs": [],
   "source": [
    "if ('datetime' in 'test_col_datetime') & (1 == 2):\n",
    "    print('True')"
   ]
  },
  {
   "cell_type": "code",
   "execution_count": null,
   "metadata": {},
   "outputs": [],
   "source": [
    "if not np.float in [np.int,np.float]:\n",
    "    print('True')"
   ]
  },
  {
   "cell_type": "code",
   "execution_count": null,
   "metadata": {},
   "outputs": [],
   "source": [
    "np.float in np.float"
   ]
  },
  {
   "cell_type": "code",
   "execution_count": null,
   "metadata": {},
   "outputs": [],
   "source": []
  },
  {
   "cell_type": "code",
   "execution_count": null,
   "metadata": {},
   "outputs": [],
   "source": []
  },
  {
   "cell_type": "code",
   "execution_count": null,
   "metadata": {},
   "outputs": [],
   "source": [
    "hh = pd.read_csv('./../../3_data/HH_ED_Flow_Study.csv',usecols=hh_cols)"
   ]
  },
  {
   "cell_type": "code",
   "execution_count": null,
   "metadata": {},
   "outputs": [],
   "source": [
    "hh"
   ]
  },
  {
   "cell_type": "code",
   "execution_count": null,
   "metadata": {},
   "outputs": [],
   "source": []
  },
  {
   "cell_type": "code",
   "execution_count": null,
   "metadata": {},
   "outputs": [],
   "source": [
    "hh.head(1)"
   ]
  },
  {
   "cell_type": "code",
   "execution_count": null,
   "metadata": {},
   "outputs": [],
   "source": [
    "hh.columns"
   ]
  },
  {
   "cell_type": "code",
   "execution_count": null,
   "metadata": {},
   "outputs": [],
   "source": [
    "for x in hh.columns:\n",
    "    print(x)"
   ]
  },
  {
   "cell_type": "code",
   "execution_count": null,
   "metadata": {},
   "outputs": [],
   "source": [
    "hh.head(1)"
   ]
  },
  {
   "cell_type": "code",
   "execution_count": null,
   "metadata": {},
   "outputs": [],
   "source": [
    "hh_cols = {\n",
    "'PSEUDONYMISED_PATIENT_ID':'dept_patid',\n",
    "'PSEUDONYMISED_PATIENT_ID':'hosp_patid',\n",
    "'AGE_AT_ARRIVAL':'age',\n",
    "'GENDER_NATIONAL_DESCRIPTION':'gender',\n",
    "'SITE':'site',\n",
    "'ARRIVAL_DTTM':'arrive_datetime',\n",
    "'ARRIVAL_MODE_NATIONAL_CODE':'arrive_mode',\n",
    "'INITIAL_ASSESSMENT_DTTM':'first_triage_datetime',\n",
    "'SEEN_FOR_TREATMENT_DTTM':'first_dr_datetime',\n",
    "'SPECIALTY_REQUEST_TIME':'first_adm_request_time',\n",
    "'SPECIALTY_REFERRED_TO_CODE':'adm_referral_loc',\n",
    "'ADMISSION_FLAG':'adm_flag',\n",
    "'ATTENDANCE_CONCLUSION_DTTM':'depart_datetime',\n",
    "'STREAM_LOCAL_CODE':'stream'\n",
    "}\n",
    "\n",
    "### import data\n",
    "hh2.ioED.load_hosp_csv('./../../3_Data/HH_ED_Flow_Study.csv',hh_cols)"
   ]
  },
  {
   "cell_type": "code",
   "execution_count": null,
   "metadata": {},
   "outputs": [],
   "source": [
    "hh2 = hosp('hh2')"
   ]
  },
  {
   "cell_type": "code",
   "execution_count": null,
   "metadata": {},
   "outputs": [],
   "source": [
    "hh2.ioED.load_hosp_csv('./../../3_Data/HH_ED_Flow_Study.csv',hh_cols)"
   ]
  },
  {
   "cell_type": "code",
   "execution_count": null,
   "metadata": {},
   "outputs": [],
   "source": [
    "hh2.ioED._dataRAW.columns"
   ]
  },
  {
   "cell_type": "code",
   "execution_count": null,
   "metadata": {},
   "outputs": [],
   "source": [
    "hh2.ioED.get_EDraw().first_adm_request_time.isnull().value_counts()"
   ]
  },
  {
   "cell_type": "code",
   "execution_count": null,
   "metadata": {},
   "outputs": [],
   "source": []
  },
  {
   "cell_type": "code",
   "execution_count": null,
   "metadata": {},
   "outputs": [],
   "source": [
    "df = pd.read_csv('./../../3_Data/HH_ED_Flow_Study.csv')"
   ]
  },
  {
   "cell_type": "code",
   "execution_count": null,
   "metadata": {},
   "outputs": [],
   "source": [
    "df.columns"
   ]
  },
  {
   "cell_type": "code",
   "execution_count": null,
   "metadata": {},
   "outputs": [],
   "source": [
    "for i in df.columns:\n",
    "    print(i)"
   ]
  },
  {
   "cell_type": "code",
   "execution_count": null,
   "metadata": {},
   "outputs": [],
   "source": [
    "df[['ADMISSION_FLAG',\n",
    "'INPATIENT_BED_REQUEST_TIME',\n",
    "'SPECIALTY_REQUEST_TIME',\n",
    "'WARD_REFERRED_TO',\n",
    "'SPECIALTY_REFERRED_TO_CODE',\n",
    "'SPECIALTY_REFERRED_TO_DESCRIPTION']].isnull().sum()"
   ]
  },
  {
   "cell_type": "code",
   "execution_count": null,
   "metadata": {},
   "outputs": [],
   "source": [
    "df.ADMISSION_FLAG.value_counts()"
   ]
  },
  {
   "cell_type": "code",
   "execution_count": null,
   "metadata": {},
   "outputs": [],
   "source": [
    "df.shape"
   ]
  },
  {
   "cell_type": "code",
   "execution_count": null,
   "metadata": {},
   "outputs": [],
   "source": [
    "567635 - 449041"
   ]
  },
  {
   "cell_type": "code",
   "execution_count": null,
   "metadata": {},
   "outputs": [],
   "source": [
    "df[~df.SPECIALTY_REQUEST_TIME.isnull()].SPECIALTY_REQUEST_TIME"
   ]
  },
  {
   "cell_type": "markdown",
   "metadata": {},
   "source": [
    "# code removed from above after moving to atom files"
   ]
  },
  {
   "cell_type": "code",
   "execution_count": null,
   "metadata": {},
   "outputs": [],
   "source": [
    "np.float,np.float64"
   ]
  },
  {
   "cell_type": "code",
   "execution_count": null,
   "metadata": {},
   "outputs": [],
   "source": []
  },
  {
   "cell_type": "code",
   "execution_count": null,
   "metadata": {},
   "outputs": [],
   "source": [
    "def f(x):\n",
    "    y = str(x.arrive_date) + ' ' + x.first_adm_request_time\n",
    "    return y"
   ]
  },
  {
   "cell_type": "code",
   "execution_count": null,
   "metadata": {},
   "outputs": [],
   "source": [
    "mask = ~pat.first_adm_request_time.isnull()"
   ]
  },
  {
   "cell_type": "code",
   "execution_count": null,
   "metadata": {},
   "outputs": [],
   "source": [
    "pat['first_adm_request_datetime'] = pat[mask].apply(f,axis=1) # add date and time together"
   ]
  },
  {
   "cell_type": "code",
   "execution_count": null,
   "metadata": {},
   "outputs": [],
   "source": [
    "pat.first_adm_request_datetime.isnull().value_counts()"
   ]
  },
  {
   "cell_type": "code",
   "execution_count": null,
   "metadata": {},
   "outputs": [],
   "source": [
    "pat[mask].shape"
   ]
  },
  {
   "cell_type": "code",
   "execution_count": null,
   "metadata": {},
   "outputs": [],
   "source": []
  },
  {
   "cell_type": "code",
   "execution_count": null,
   "metadata": {},
   "outputs": [],
   "source": [
    "pat['first_adm_request_datetime'] = pat[mask]['first_adm_request_datetime'].apply(lambda x: pd.to_datetime(x)) # convert str to datetime"
   ]
  },
  {
   "cell_type": "code",
   "execution_count": null,
   "metadata": {},
   "outputs": [],
   "source": [
    "pat.first_adm_request_datetime.isnull().value_counts()"
   ]
  },
  {
   "cell_type": "markdown",
   "metadata": {},
   "source": [
    "add + 1D to all values where patient has overlapped midnight"
   ]
  },
  {
   "cell_type": "code",
   "execution_count": null,
   "metadata": {},
   "outputs": [],
   "source": [
    "mask = (pat['first_adm_request_datetime'] - pat['arrive_datetime']) < pd.Timedelta(0, unit='D')"
   ]
  },
  {
   "cell_type": "code",
   "execution_count": null,
   "metadata": {},
   "outputs": [],
   "source": [
    "mask.value_counts()"
   ]
  },
  {
   "cell_type": "code",
   "execution_count": null,
   "metadata": {},
   "outputs": [],
   "source": [
    "pat.loc[pat[mask].index,'first_adm_request_datetime'] = pat[mask]['first_adm_request_datetime'] + pd.Timedelta(1, unit='D')"
   ]
  },
  {
   "cell_type": "code",
   "execution_count": null,
   "metadata": {},
   "outputs": [],
   "source": [
    "pat.first_adm_request_datetime.isnull().value_counts()"
   ]
  },
  {
   "cell_type": "code",
   "execution_count": null,
   "metadata": {},
   "outputs": [],
   "source": [
    "test = (pat['first_adm_request_datetime'] - pat['arrive_datetime']) < pd.Timedelta(0, unit='D')"
   ]
  },
  {
   "cell_type": "code",
   "execution_count": null,
   "metadata": {},
   "outputs": [],
   "source": [
    "test.value_counts()"
   ]
  },
  {
   "cell_type": "markdown",
   "metadata": {},
   "source": [
    "##### note that we've preserved all datetimes at this point - it's when taking the differences that some get lost"
   ]
  },
  {
   "cell_type": "markdown",
   "metadata": {},
   "source": [
    "create minutes waited at each stage for each patient"
   ]
  },
  {
   "cell_type": "code",
   "execution_count": null,
   "metadata": {},
   "outputs": [],
   "source": [
    "pat.columns"
   ]
  },
  {
   "cell_type": "code",
   "execution_count": null,
   "metadata": {},
   "outputs": [],
   "source": [
    "pat['arr_triage_wait'] = (pat.first_triage_datetime - pat.arrive_datetime) / pd.Timedelta('1 minute')"
   ]
  },
  {
   "cell_type": "code",
   "execution_count": null,
   "metadata": {},
   "outputs": [],
   "source": [
    "pat['arr_dr_wait'] = (pat.first_dr_datetime - pat.arrive_datetime) / pd.Timedelta('1 minute')"
   ]
  },
  {
   "cell_type": "code",
   "execution_count": null,
   "metadata": {},
   "outputs": [],
   "source": [
    "pat['arr_adm_req_wait'] = (pat.first_adm_request_datetime - pat.arrive_datetime) / pd.Timedelta('1 minute')"
   ]
  },
  {
   "cell_type": "code",
   "execution_count": null,
   "metadata": {},
   "outputs": [],
   "source": [
    "pat['adm_req_dep_wait'] = (pat.depart_datetime - pat.first_adm_request_datetime) / pd.Timedelta('1 minute')"
   ]
  },
  {
   "cell_type": "code",
   "execution_count": null,
   "metadata": {},
   "outputs": [],
   "source": [
    "pat['dr_adm_req_wait'] = (pat.first_adm_request_datetime - pat.first_dr_datetime) / pd.Timedelta('1 minute')"
   ]
  },
  {
   "cell_type": "code",
   "execution_count": null,
   "metadata": {},
   "outputs": [],
   "source": [
    "pat['dr_dep_wait'] = (pat.depart_datetime - pat.first_dr_datetime) / pd.Timedelta('1 minute')"
   ]
  },
  {
   "cell_type": "code",
   "execution_count": null,
   "metadata": {},
   "outputs": [],
   "source": [
    "pat.dr_dep_wait.describe()"
   ]
  },
  {
   "cell_type": "code",
   "execution_count": null,
   "metadata": {},
   "outputs": [],
   "source": [
    "pat[pat.dr_dep_wait < -10].adm_flag.value_counts()"
   ]
  },
  {
   "cell_type": "code",
   "execution_count": null,
   "metadata": {},
   "outputs": [],
   "source": [
    "# pat[pat.dr_dep_wait < -10][dt_cols]"
   ]
  },
  {
   "cell_type": "code",
   "execution_count": null,
   "metadata": {},
   "outputs": [],
   "source": []
  },
  {
   "cell_type": "code",
   "execution_count": null,
   "metadata": {},
   "outputs": [],
   "source": [
    "pat.first_adm_request_time.isnull().value_counts()"
   ]
  },
  {
   "cell_type": "markdown",
   "metadata": {},
   "source": [
    "doulbe check admission flag"
   ]
  },
  {
   "cell_type": "code",
   "execution_count": null,
   "metadata": {},
   "outputs": [],
   "source": [
    "pat.adm_flag.value_counts()"
   ]
  },
  {
   "cell_type": "code",
   "execution_count": null,
   "metadata": {},
   "outputs": [],
   "source": [
    "mask = pat.first_adm_request_time.isnull()"
   ]
  },
  {
   "cell_type": "code",
   "execution_count": null,
   "metadata": {},
   "outputs": [],
   "source": []
  },
  {
   "cell_type": "code",
   "execution_count": null,
   "metadata": {},
   "outputs": [],
   "source": []
  },
  {
   "cell_type": "code",
   "execution_count": null,
   "metadata": {},
   "outputs": [],
   "source": []
  },
  {
   "cell_type": "code",
   "execution_count": null,
   "metadata": {},
   "outputs": [],
   "source": [
    "pat.loc[pat[~mask].index,'adm_flag'] = 1"
   ]
  },
  {
   "cell_type": "code",
   "execution_count": null,
   "metadata": {},
   "outputs": [],
   "source": [
    "pat.adm_flag.value_counts()"
   ]
  },
  {
   "cell_type": "markdown",
   "metadata": {},
   "source": [
    "adm_flag should now contain all admissions for patietns who have a bed request time. Maybe this is erroneus?"
   ]
  },
  {
   "cell_type": "code",
   "execution_count": null,
   "metadata": {},
   "outputs": [],
   "source": []
  }
 ],
 "metadata": {
  "kernelspec": {
   "display_name": "Python 3",
   "language": "python",
   "name": "python3"
  },
  "language_info": {
   "codemirror_mode": {
    "name": "ipython",
    "version": 3
   },
   "file_extension": ".py",
   "mimetype": "text/x-python",
   "name": "python",
   "nbconvert_exporter": "python",
   "pygments_lexer": "ipython3",
   "version": "3.6.4"
  }
 },
 "nbformat": 4,
 "nbformat_minor": 2
}
