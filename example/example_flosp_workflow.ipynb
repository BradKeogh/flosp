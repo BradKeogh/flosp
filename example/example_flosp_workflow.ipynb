{
 "cells": [
  {
   "cell_type": "markdown",
   "metadata": {},
   "source": [
    "# Example workflow for using flosp to import and clean ED data"
   ]
  },
  {
   "cell_type": "markdown",
   "metadata": {},
   "source": [
    "Get to directory above to import flosp"
   ]
  },
  {
   "cell_type": "code",
   "execution_count": 1,
   "metadata": {},
   "outputs": [
    {
     "name": "stdout",
     "output_type": "stream",
     "text": [
      " Volume in drive C is Windows\n",
      " Volume Serial Number is EE63-178E\n",
      "\n",
      " Directory of C:\\Users\\bjk1y13\\OneDrive - University of Southampton\\MH030_HHFT_flow\\4_Analysis\\flosp\\example\n",
      "\n",
      "05/02/2019  14:09    <DIR>          .\n",
      "05/02/2019  14:09    <DIR>          ..\n",
      "04/01/2019  11:00    <DIR>          .ipynb_checkpoints\n",
      "05/02/2019  13:23    <DIR>          __pycache__\n",
      "09/01/2019  14:59         3,512,358 example_data_ED.csv\n",
      "05/02/2019  12:12        20,308,140 example_data_IP.csv\n",
      "05/02/2019  14:09            51,291 example_flosp_workflow.ipynb\n",
      "05/02/2019  10:13    <DIR>          example_results\n",
      "05/02/2019  13:19               214 setup.py\n",
      "               4 File(s)     23,872,003 bytes\n",
      "               5 Dir(s)  337,669,431,296 bytes free\n"
     ]
    }
   ],
   "source": [
    "%ls"
   ]
  },
  {
   "cell_type": "code",
   "execution_count": 2,
   "metadata": {},
   "outputs": [
    {
     "name": "stdout",
     "output_type": "stream",
     "text": [
      "C:\\Users\\bjk1y13\\OneDrive - University of Southampton\\MH030_HHFT_flow\\4_Analysis\\flosp\n"
     ]
    }
   ],
   "source": [
    "%cd \".\\.."
   ]
  },
  {
   "cell_type": "code",
   "execution_count": 3,
   "metadata": {},
   "outputs": [],
   "source": [
    "import flosp"
   ]
  },
  {
   "cell_type": "code",
   "execution_count": null,
   "metadata": {},
   "outputs": [],
   "source": []
  },
  {
   "cell_type": "markdown",
   "metadata": {},
   "source": [
    "## initialise flosp\n",
    "\n",
    "You must provide the path to the setup file, which you should edit to your project specifics."
   ]
  },
  {
   "cell_type": "code",
   "execution_count": 4,
   "metadata": {},
   "outputs": [],
   "source": [
    "from flosp import Interface"
   ]
  },
  {
   "cell_type": "code",
   "execution_count": 5,
   "metadata": {},
   "outputs": [
    {
     "name": "stdout",
     "output_type": "stream",
     "text": [
      "flosp started.\n",
      "<module 'flosp.expected_structures.ED' from 'C:\\\\Users\\\\bjk1y13\\\\OneDrive - University of Southampton\\\\MH030_HHFT_flow\\\\4_Analysis\\\\flosp\\\\flosp\\\\expected_structures\\\\ED.py'>\n",
      "<module 'flosp.expected_structures.IP' from 'C:\\\\Users\\\\bjk1y13\\\\OneDrive - University of Southampton\\\\MH030_HHFT_flow\\\\4_Analysis\\\\flosp\\\\flosp\\\\expected_structures\\\\IP.py'>\n",
      "Imported setup.py sucessfully.\n",
      "Loading processed data from pickles.\n",
      "Found: ./example/example_results/processed/ED.pkl\n",
      "Missing: ./example/example_results/processed/IPfce.pkl\n",
      "Missing: ./example/example_results/processed/IPward.pkl\n",
      "Missing: ./example/example_results/processed/IPspell.pkl\n",
      "Missing: ./example/example_results/processed/HOURLY.pkl\n",
      "Missing: ./example/example_results/processed/DAILY.pkl\n"
     ]
    }
   ],
   "source": [
    "hosp = Interface(setup_file_path='./setup.py')"
   ]
  },
  {
   "cell_type": "markdown",
   "metadata": {},
   "source": [
    "### Importing ED data"
   ]
  },
  {
   "cell_type": "markdown",
   "metadata": {},
   "source": [
    "load raw data"
   ]
  },
  {
   "cell_type": "code",
   "execution_count": 6,
   "metadata": {},
   "outputs": [
    {
     "name": "stdout",
     "output_type": "stream",
     "text": [
      "IO class called.\n",
      "ARRIVAL_DTTM\n",
      "TRIAGE_ASSESSMENT_DTTM\n",
      "FIRSTDOC_FOR_TREATMENT_DTTM\n",
      "ADM_REQUEST_DTTM\n",
      "ATTENDANCE_CONCLUSION_DTTM\n",
      "----------------------------------------\n",
      "Making callender columns from:  ARRIVAL_DTTM\n",
      "----------------------------------------\n",
      "Making callender columns from:  ATTENDANCE_CONCLUSION_DTTM\n",
      "----------------------------------------\n",
      "saved file: ./example/example_results/processed/ED.pkl\n",
      "Import completed.\n"
     ]
    }
   ],
   "source": [
    "hosp.load_dataED('./example/example_data_ED.csv') #,nrows=1500) # limit number of rows for quick runtime during dev"
   ]
  },
  {
   "cell_type": "markdown",
   "metadata": {},
   "source": [
    "look at the dataframe at any stage of processing"
   ]
  },
  {
   "cell_type": "code",
   "execution_count": 7,
   "metadata": {},
   "outputs": [
    {
     "data": {
      "text/html": [
       "<div>\n",
       "<style scoped>\n",
       "    .dataframe tbody tr th:only-of-type {\n",
       "        vertical-align: middle;\n",
       "    }\n",
       "\n",
       "    .dataframe tbody tr th {\n",
       "        vertical-align: top;\n",
       "    }\n",
       "\n",
       "    .dataframe thead th {\n",
       "        text-align: right;\n",
       "    }\n",
       "</style>\n",
       "<table border=\"1\" class=\"dataframe\">\n",
       "  <thead>\n",
       "    <tr style=\"text-align: right;\">\n",
       "      <th></th>\n",
       "      <th>PSEUDONYMISED_PATIENT_ID</th>\n",
       "      <th>AGE_AT_ARRIVAL</th>\n",
       "      <th>GENDER_NATIONAL_DESCRIPTION</th>\n",
       "      <th>SITE</th>\n",
       "      <th>ARRIVAL_DTTM</th>\n",
       "      <th>ARRIVAL_MODE_NATIONAL_CODE</th>\n",
       "      <th>TRIAGE_ASSESSMENT_DTTM</th>\n",
       "      <th>FIRSTDOC_FOR_TREATMENT_DTTM</th>\n",
       "      <th>ADM_REQUEST_DTTM</th>\n",
       "      <th>ADM_REQUEST_LOC_DESCRIPTION</th>\n",
       "      <th>...</th>\n",
       "      <th>age_group</th>\n",
       "      <th>waiting_time</th>\n",
       "      <th>arr_triage_wait</th>\n",
       "      <th>arr_dr_wait</th>\n",
       "      <th>arr_adm_req_wait</th>\n",
       "      <th>adm_req_dep_wait</th>\n",
       "      <th>dr_adm_req_wait</th>\n",
       "      <th>dr_dep_wait</th>\n",
       "      <th>breach_flag</th>\n",
       "      <th>breach_datetime</th>\n",
       "    </tr>\n",
       "  </thead>\n",
       "  <tbody>\n",
       "    <tr>\n",
       "      <th>0</th>\n",
       "      <td>6473</td>\n",
       "      <td>86</td>\n",
       "      <td>Male</td>\n",
       "      <td>HOSPITAL1</td>\n",
       "      <td>2015-12-01 04:49:00</td>\n",
       "      <td>1.0</td>\n",
       "      <td>2015-11-29 03:40:00</td>\n",
       "      <td>2015-11-30 04:19:00</td>\n",
       "      <td>2015-11-30 06:08:53</td>\n",
       "      <td>General Medicine</td>\n",
       "      <td>...</td>\n",
       "      <td>65+</td>\n",
       "      <td>642.0</td>\n",
       "      <td>-2949.0</td>\n",
       "      <td>-1470.0</td>\n",
       "      <td>-1360.116667</td>\n",
       "      <td>2002.116667</td>\n",
       "      <td>109.883333</td>\n",
       "      <td>2112.0</td>\n",
       "      <td>1</td>\n",
       "      <td>2015-12-01 08:49:00</td>\n",
       "    </tr>\n",
       "    <tr>\n",
       "      <th>1</th>\n",
       "      <td>3955</td>\n",
       "      <td>20</td>\n",
       "      <td>Male</td>\n",
       "      <td>HOSPITAL1</td>\n",
       "      <td>2016-06-23 13:41:00</td>\n",
       "      <td>2.0</td>\n",
       "      <td>2016-06-23 14:47:00</td>\n",
       "      <td>2016-06-24 16:58:00</td>\n",
       "      <td>NaT</td>\n",
       "      <td>NaN</td>\n",
       "      <td>...</td>\n",
       "      <td>18-64</td>\n",
       "      <td>208.0</td>\n",
       "      <td>66.0</td>\n",
       "      <td>1637.0</td>\n",
       "      <td>NaN</td>\n",
       "      <td>NaN</td>\n",
       "      <td>NaN</td>\n",
       "      <td>-1429.0</td>\n",
       "      <td>0</td>\n",
       "      <td>2016-06-23 17:41:00</td>\n",
       "    </tr>\n",
       "    <tr>\n",
       "      <th>2</th>\n",
       "      <td>2880</td>\n",
       "      <td>127</td>\n",
       "      <td>Male</td>\n",
       "      <td>HOSPITAL1</td>\n",
       "      <td>2015-08-15 20:03:00</td>\n",
       "      <td>1.0</td>\n",
       "      <td>2015-08-15 20:23:00</td>\n",
       "      <td>2015-08-13 22:08:00</td>\n",
       "      <td>NaT</td>\n",
       "      <td>NaN</td>\n",
       "      <td>...</td>\n",
       "      <td>65+</td>\n",
       "      <td>176.0</td>\n",
       "      <td>20.0</td>\n",
       "      <td>-2755.0</td>\n",
       "      <td>NaN</td>\n",
       "      <td>NaN</td>\n",
       "      <td>NaN</td>\n",
       "      <td>2931.0</td>\n",
       "      <td>0</td>\n",
       "      <td>2015-08-16 00:03:00</td>\n",
       "    </tr>\n",
       "    <tr>\n",
       "      <th>3</th>\n",
       "      <td>5278</td>\n",
       "      <td>11</td>\n",
       "      <td>Female</td>\n",
       "      <td>HOSPITAL1</td>\n",
       "      <td>2016-07-26 17:39:00</td>\n",
       "      <td>2.0</td>\n",
       "      <td>2016-07-24 18:14:00</td>\n",
       "      <td>2016-07-24 19:23:00</td>\n",
       "      <td>NaT</td>\n",
       "      <td>NaN</td>\n",
       "      <td>...</td>\n",
       "      <td>0-17</td>\n",
       "      <td>148.0</td>\n",
       "      <td>-2845.0</td>\n",
       "      <td>-2776.0</td>\n",
       "      <td>NaN</td>\n",
       "      <td>NaN</td>\n",
       "      <td>NaN</td>\n",
       "      <td>2924.0</td>\n",
       "      <td>0</td>\n",
       "      <td>2016-07-26 21:39:00</td>\n",
       "    </tr>\n",
       "    <tr>\n",
       "      <th>4</th>\n",
       "      <td>1950</td>\n",
       "      <td>83</td>\n",
       "      <td>Male</td>\n",
       "      <td>HOSPITAL1</td>\n",
       "      <td>2016-05-23 09:04:00</td>\n",
       "      <td>1.0</td>\n",
       "      <td>2016-05-24 08:09:00</td>\n",
       "      <td>2016-05-21 08:17:00</td>\n",
       "      <td>2016-05-23 09:53:40</td>\n",
       "      <td>General Medicine</td>\n",
       "      <td>...</td>\n",
       "      <td>65+</td>\n",
       "      <td>1634.0</td>\n",
       "      <td>1385.0</td>\n",
       "      <td>-2927.0</td>\n",
       "      <td>49.666667</td>\n",
       "      <td>1584.333333</td>\n",
       "      <td>2976.666667</td>\n",
       "      <td>4561.0</td>\n",
       "      <td>1</td>\n",
       "      <td>2016-05-23 13:04:00</td>\n",
       "    </tr>\n",
       "  </tbody>\n",
       "</table>\n",
       "<p>5 rows × 41 columns</p>\n",
       "</div>"
      ],
      "text/plain": [
       "  PSEUDONYMISED_PATIENT_ID  AGE_AT_ARRIVAL GENDER_NATIONAL_DESCRIPTION  \\\n",
       "0                     6473              86                        Male   \n",
       "1                     3955              20                        Male   \n",
       "2                     2880             127                        Male   \n",
       "3                     5278              11                      Female   \n",
       "4                     1950              83                        Male   \n",
       "\n",
       "        SITE        ARRIVAL_DTTM ARRIVAL_MODE_NATIONAL_CODE  \\\n",
       "0  HOSPITAL1 2015-12-01 04:49:00                        1.0   \n",
       "1  HOSPITAL1 2016-06-23 13:41:00                        2.0   \n",
       "2  HOSPITAL1 2015-08-15 20:03:00                        1.0   \n",
       "3  HOSPITAL1 2016-07-26 17:39:00                        2.0   \n",
       "4  HOSPITAL1 2016-05-23 09:04:00                        1.0   \n",
       "\n",
       "  TRIAGE_ASSESSMENT_DTTM FIRSTDOC_FOR_TREATMENT_DTTM    ADM_REQUEST_DTTM  \\\n",
       "0    2015-11-29 03:40:00         2015-11-30 04:19:00 2015-11-30 06:08:53   \n",
       "1    2016-06-23 14:47:00         2016-06-24 16:58:00                 NaT   \n",
       "2    2015-08-15 20:23:00         2015-08-13 22:08:00                 NaT   \n",
       "3    2016-07-24 18:14:00         2016-07-24 19:23:00                 NaT   \n",
       "4    2016-05-24 08:09:00         2016-05-21 08:17:00 2016-05-23 09:53:40   \n",
       "\n",
       "  ADM_REQUEST_LOC_DESCRIPTION         ...         age_group waiting_time  \\\n",
       "0            General Medicine         ...               65+        642.0   \n",
       "1                         NaN         ...             18-64        208.0   \n",
       "2                         NaN         ...               65+        176.0   \n",
       "3                         NaN         ...              0-17        148.0   \n",
       "4            General Medicine         ...               65+       1634.0   \n",
       "\n",
       "  arr_triage_wait  arr_dr_wait  arr_adm_req_wait  adm_req_dep_wait  \\\n",
       "0         -2949.0      -1470.0      -1360.116667       2002.116667   \n",
       "1            66.0       1637.0               NaN               NaN   \n",
       "2            20.0      -2755.0               NaN               NaN   \n",
       "3         -2845.0      -2776.0               NaN               NaN   \n",
       "4          1385.0      -2927.0         49.666667       1584.333333   \n",
       "\n",
       "   dr_adm_req_wait  dr_dep_wait breach_flag     breach_datetime  \n",
       "0       109.883333       2112.0           1 2015-12-01 08:49:00  \n",
       "1              NaN      -1429.0           0 2016-06-23 17:41:00  \n",
       "2              NaN       2931.0           0 2015-08-16 00:03:00  \n",
       "3              NaN       2924.0           0 2016-07-26 21:39:00  \n",
       "4      2976.666667       4561.0           1 2016-05-23 13:04:00  \n",
       "\n",
       "[5 rows x 41 columns]"
      ]
     },
     "execution_count": 7,
     "metadata": {},
     "output_type": "execute_result"
    }
   ],
   "source": [
    "hosp.extract_data('ED').head()"
   ]
  },
  {
   "cell_type": "markdown",
   "metadata": {},
   "source": [
    "subsampling method - for quicker inital runtime during development of cleaning (some of the datetime conversions can take some time on larger data sets"
   ]
  },
  {
   "cell_type": "markdown",
   "metadata": {},
   "source": [
    "## Import IP data"
   ]
  },
  {
   "cell_type": "code",
   "execution_count": 8,
   "metadata": {},
   "outputs": [
    {
     "name": "stdout",
     "output_type": "stream",
     "text": [
      "IO class called.\n",
      "ADM_DTTM\n",
      "DIS_DTTM\n",
      "MOVE_START\n",
      "MOVE_END\n",
      "----------------------------------------\n",
      "Making callender columns from:  ADM_DTTM\n",
      "----------------------------------------\n",
      "Making callender columns from:  DIS_DTTM\n"
     ]
    },
    {
     "name": "stderr",
     "output_type": "stream",
     "text": [
      "C:\\Users\\bjk1y13\\OneDrive - University of Southampton\\MH030_HHFT_flow\\4_Analysis\\flosp\\flosp\\basic_tools.py:99: UserWarning: Some datetimes in your column are missing.\n",
      "  warnings.warn('Some datetimes in your column are missing.')\n"
     ]
    },
    {
     "name": "stdout",
     "output_type": "stream",
     "text": [
      "----------------------------------------\n",
      "saved file: ./example/example_results/processed/IP.pkl\n",
      "Import completed.\n"
     ]
    }
   ],
   "source": [
    "hosp.load_dataIP('./example/example_data_IP.csv')"
   ]
  },
  {
   "cell_type": "code",
   "execution_count": 12,
   "metadata": {},
   "outputs": [
    {
     "data": {
      "text/html": [
       "<div>\n",
       "<style scoped>\n",
       "    .dataframe tbody tr th:only-of-type {\n",
       "        vertical-align: middle;\n",
       "    }\n",
       "\n",
       "    .dataframe tbody tr th {\n",
       "        vertical-align: top;\n",
       "    }\n",
       "\n",
       "    .dataframe thead th {\n",
       "        text-align: right;\n",
       "    }\n",
       "</style>\n",
       "<table border=\"1\" class=\"dataframe\">\n",
       "  <thead>\n",
       "    <tr style=\"text-align: right;\">\n",
       "      <th></th>\n",
       "      <th>MOVE_NUMBER</th>\n",
       "      <th>ADM_SOURCE_CODE</th>\n",
       "      <th>ADM_METHOD</th>\n",
       "      <th>ADM_DTTM</th>\n",
       "      <th>ADM_TYPE</th>\n",
       "      <th>SITE</th>\n",
       "      <th>GENDER_NATIONAL_DESCRIPTION</th>\n",
       "      <th>MOVE_END</th>\n",
       "      <th>DIS_DESTINATION</th>\n",
       "      <th>DIS_METHOD</th>\n",
       "      <th>...</th>\n",
       "      <th>DIS_hour</th>\n",
       "      <th>DIS_dayofweek</th>\n",
       "      <th>DIS_day</th>\n",
       "      <th>DIS_month</th>\n",
       "      <th>DIS_week</th>\n",
       "      <th>DIS_dayofweek_name</th>\n",
       "      <th>DIS_year</th>\n",
       "      <th>DIS_date</th>\n",
       "      <th>DIS_flag_wkend</th>\n",
       "      <th>age_group</th>\n",
       "    </tr>\n",
       "  </thead>\n",
       "  <tbody>\n",
       "    <tr>\n",
       "      <th>0</th>\n",
       "      <td>1</td>\n",
       "      <td>19</td>\n",
       "      <td>31</td>\n",
       "      <td>2017-07-05 07:32:00</td>\n",
       "      <td>Non-Elective</td>\n",
       "      <td>HOSPITAL1</td>\n",
       "      <td>2</td>\n",
       "      <td>2017-07-08 13:53:00</td>\n",
       "      <td>19.0</td>\n",
       "      <td>1.0</td>\n",
       "      <td>...</td>\n",
       "      <td>14.0</td>\n",
       "      <td>5.0</td>\n",
       "      <td>8.0</td>\n",
       "      <td>7.0</td>\n",
       "      <td>27.0</td>\n",
       "      <td>Saturday</td>\n",
       "      <td>2017.0</td>\n",
       "      <td>2017-07-08</td>\n",
       "      <td>0</td>\n",
       "      <td>18-64</td>\n",
       "    </tr>\n",
       "    <tr>\n",
       "      <th>1</th>\n",
       "      <td>1</td>\n",
       "      <td>79</td>\n",
       "      <td>82</td>\n",
       "      <td>2017-06-17 05:03:00</td>\n",
       "      <td>Day Case</td>\n",
       "      <td>HOSPITAL1</td>\n",
       "      <td>1</td>\n",
       "      <td>2017-06-20 22:41:00</td>\n",
       "      <td>19.0</td>\n",
       "      <td>1.0</td>\n",
       "      <td>...</td>\n",
       "      <td>21.0</td>\n",
       "      <td>1.0</td>\n",
       "      <td>20.0</td>\n",
       "      <td>6.0</td>\n",
       "      <td>25.0</td>\n",
       "      <td>Tuesday</td>\n",
       "      <td>2017.0</td>\n",
       "      <td>2017-06-20</td>\n",
       "      <td>0</td>\n",
       "      <td>18-64</td>\n",
       "    </tr>\n",
       "    <tr>\n",
       "      <th>2</th>\n",
       "      <td>9</td>\n",
       "      <td>19</td>\n",
       "      <td>21</td>\n",
       "      <td>2017-11-09 22:08:00</td>\n",
       "      <td>Non-Elective</td>\n",
       "      <td>HOSPITAL1</td>\n",
       "      <td>1</td>\n",
       "      <td>2017-12-19 09:38:00</td>\n",
       "      <td>19.0</td>\n",
       "      <td>1.0</td>\n",
       "      <td>...</td>\n",
       "      <td>15.0</td>\n",
       "      <td>2.0</td>\n",
       "      <td>20.0</td>\n",
       "      <td>12.0</td>\n",
       "      <td>51.0</td>\n",
       "      <td>Wednesday</td>\n",
       "      <td>2017.0</td>\n",
       "      <td>2017-12-20</td>\n",
       "      <td>0</td>\n",
       "      <td>65+</td>\n",
       "    </tr>\n",
       "    <tr>\n",
       "      <th>3</th>\n",
       "      <td>12</td>\n",
       "      <td>19</td>\n",
       "      <td>21</td>\n",
       "      <td>2017-12-08 17:41:00</td>\n",
       "      <td>Non-Elective</td>\n",
       "      <td>HOSPITAL1</td>\n",
       "      <td>1</td>\n",
       "      <td>2018-02-03 11:00:00</td>\n",
       "      <td>19.0</td>\n",
       "      <td>1.0</td>\n",
       "      <td>...</td>\n",
       "      <td>11.0</td>\n",
       "      <td>5.0</td>\n",
       "      <td>3.0</td>\n",
       "      <td>2.0</td>\n",
       "      <td>5.0</td>\n",
       "      <td>Saturday</td>\n",
       "      <td>2018.0</td>\n",
       "      <td>2018-02-03</td>\n",
       "      <td>0</td>\n",
       "      <td>65+</td>\n",
       "    </tr>\n",
       "    <tr>\n",
       "      <th>4</th>\n",
       "      <td>2</td>\n",
       "      <td>19</td>\n",
       "      <td>21</td>\n",
       "      <td>2018-04-07 15:25:00</td>\n",
       "      <td>Non-Elective</td>\n",
       "      <td>HOSPITAL1</td>\n",
       "      <td>1</td>\n",
       "      <td>2018-04-11 19:51:00</td>\n",
       "      <td>19.0</td>\n",
       "      <td>1.0</td>\n",
       "      <td>...</td>\n",
       "      <td>19.0</td>\n",
       "      <td>2.0</td>\n",
       "      <td>11.0</td>\n",
       "      <td>4.0</td>\n",
       "      <td>15.0</td>\n",
       "      <td>Wednesday</td>\n",
       "      <td>2018.0</td>\n",
       "      <td>2018-04-11</td>\n",
       "      <td>0</td>\n",
       "      <td>65+</td>\n",
       "    </tr>\n",
       "  </tbody>\n",
       "</table>\n",
       "<p>5 rows × 35 columns</p>\n",
       "</div>"
      ],
      "text/plain": [
       "   MOVE_NUMBER ADM_SOURCE_CODE ADM_METHOD            ADM_DTTM      ADM_TYPE  \\\n",
       "0            1              19         31 2017-07-05 07:32:00  Non-Elective   \n",
       "1            1              79         82 2017-06-17 05:03:00      Day Case   \n",
       "2            9              19         21 2017-11-09 22:08:00  Non-Elective   \n",
       "3           12              19         21 2017-12-08 17:41:00  Non-Elective   \n",
       "4            2              19         21 2018-04-07 15:25:00  Non-Elective   \n",
       "\n",
       "        SITE GENDER_NATIONAL_DESCRIPTION            MOVE_END DIS_DESTINATION  \\\n",
       "0  HOSPITAL1                           2 2017-07-08 13:53:00            19.0   \n",
       "1  HOSPITAL1                           1 2017-06-20 22:41:00            19.0   \n",
       "2  HOSPITAL1                           1 2017-12-19 09:38:00            19.0   \n",
       "3  HOSPITAL1                           1 2018-02-03 11:00:00            19.0   \n",
       "4  HOSPITAL1                           1 2018-04-11 19:51:00            19.0   \n",
       "\n",
       "  DIS_METHOD    ...     DIS_hour DIS_dayofweek DIS_day  DIS_month  DIS_week  \\\n",
       "0        1.0    ...         14.0           5.0     8.0        7.0      27.0   \n",
       "1        1.0    ...         21.0           1.0    20.0        6.0      25.0   \n",
       "2        1.0    ...         15.0           2.0    20.0       12.0      51.0   \n",
       "3        1.0    ...         11.0           5.0     3.0        2.0       5.0   \n",
       "4        1.0    ...         19.0           2.0    11.0        4.0      15.0   \n",
       "\n",
       "  DIS_dayofweek_name  DIS_year    DIS_date  DIS_flag_wkend  age_group  \n",
       "0           Saturday    2017.0  2017-07-08               0      18-64  \n",
       "1            Tuesday    2017.0  2017-06-20               0      18-64  \n",
       "2          Wednesday    2017.0  2017-12-20               0        65+  \n",
       "3           Saturday    2018.0  2018-02-03               0        65+  \n",
       "4          Wednesday    2018.0  2018-04-11               0        65+  \n",
       "\n",
       "[5 rows x 35 columns]"
      ]
     },
     "execution_count": 12,
     "metadata": {},
     "output_type": "execute_result"
    }
   ],
   "source": [
    "hosp.extract_data('IP').head()"
   ]
  },
  {
   "cell_type": "code",
   "execution_count": null,
   "metadata": {},
   "outputs": [],
   "source": []
  },
  {
   "cell_type": "code",
   "execution_count": null,
   "metadata": {},
   "outputs": [],
   "source": []
  },
  {
   "cell_type": "code",
   "execution_count": null,
   "metadata": {},
   "outputs": [],
   "source": []
  },
  {
   "cell_type": "code",
   "execution_count": null,
   "metadata": {},
   "outputs": [],
   "source": []
  },
  {
   "cell_type": "code",
   "execution_count": null,
   "metadata": {},
   "outputs": [],
   "source": []
  },
  {
   "cell_type": "code",
   "execution_count": 9,
   "metadata": {},
   "outputs": [
    {
     "ename": "SyntaxError",
     "evalue": "'break' outside loop (<ipython-input-9-6aaf1f276005>, line 1)",
     "output_type": "error",
     "traceback": [
      "\u001b[1;36m  File \u001b[1;32m\"<ipython-input-9-6aaf1f276005>\"\u001b[1;36m, line \u001b[1;32m1\u001b[0m\n\u001b[1;33m    break\u001b[0m\n\u001b[1;37m         ^\u001b[0m\n\u001b[1;31mSyntaxError\u001b[0m\u001b[1;31m:\u001b[0m 'break' outside loop\n"
     ]
    }
   ],
   "source": [
    "break"
   ]
  },
  {
   "cell_type": "markdown",
   "metadata": {},
   "source": [
    "### mapping columns to standard naming convention"
   ]
  },
  {
   "cell_type": "markdown",
   "metadata": {},
   "source": [
    "unless your columns are already named using the required names - use column mapping method"
   ]
  },
  {
   "cell_type": "code",
   "execution_count": 1,
   "metadata": {},
   "outputs": [],
   "source": [
    "#### define dictionary for mapping\n",
    "col_map = {\n",
    "'PSEUDONYMISED_PATIENT_ID':'dept_patid',\n",
    "'PSEUDONYMISED_PATIENT_ID':'hosp_patid',\n",
    "'AGE_AT_ARRIVAL':'age',\n",
    "'GENDER_NATIONAL_DESCRIPTION':'gender',\n",
    "'SITE':'site',\n",
    "'ARRIVAL_DTTM':'arrive_datetime',\n",
    "'ARRIVAL_MODE_NATIONAL_CODE':'arrive_mode',\n",
    "'INITIAL_ASSESSMENT_DTTM':'first_triage_datetime',\n",
    "'SEEN_FOR_TREATMENT_DTTM':'first_dr_datetime',\n",
    "'SPECIALTY_REQUEST_TIME':'first_adm_request_time',\n",
    "'SPECIALTY_REFERRED_TO_DESCRIPTION':'adm_referral_loc',\n",
    "'ADMISSION_FLAG':'adm_flag',\n",
    "'ATTENDANCE_CONCLUSION_DTTM':'depart_datetime',\n",
    "'STREAM_LOCAL_CODE':'stream'\n",
    "}"
   ]
  },
  {
   "cell_type": "code",
   "execution_count": 3,
   "metadata": {},
   "outputs": [
    {
     "data": {
      "text/plain": [
       "13"
      ]
     },
     "execution_count": 3,
     "metadata": {},
     "output_type": "execute_result"
    }
   ],
   "source": [
    "len(col_map)"
   ]
  },
  {
   "cell_type": "code",
   "execution_count": 7,
   "metadata": {},
   "outputs": [
    {
     "name": "stdout",
     "output_type": "stream",
     "text": [
      "----------------------------------------\n",
      "mapping column names\n"
     ]
    }
   ],
   "source": [
    "EDdata.map_columns(col_map)"
   ]
  },
  {
   "cell_type": "markdown",
   "metadata": {},
   "source": [
    "required column names can be found: "
   ]
  },
  {
   "cell_type": "code",
   "execution_count": 8,
   "metadata": {},
   "outputs": [
    {
     "data": {
      "text/plain": [
       "dict_keys(['hosp_patid', 'age', 'age_group', 'gender', 'arrive_datetime', 'arrive_mode', 'arrive_hour', 'arrive_dayofweek', 'arrive_month', 'arrive_dayofweek_name', 'arrive_date', 'arrive_week', 'first_triage_datetime', 'first_dr_datetime', 'first_adm_request_datetime', 'adm_referral_loc', 'depart_datetime', 'depart_method', 'depart_hour', 'depart_dayofweek', 'depart_week', 'depart_month', 'depart_dayofweek_name', 'depart_date', 'waiting_time', 'breach_flag', 'adm_flag', 'stream', 'minutes_today', 'minutes_tomo', 'breach_datetime', 'arr_triage_wait', 'arr_dr_wait', 'arr_adm_req_wait', 'adm_req_dep_wait', 'dr_adm_req_wait', 'dr_dep_wait'])"
      ]
     },
     "execution_count": 8,
     "metadata": {},
     "output_type": "execute_result"
    }
   ],
   "source": [
    "flosp._expected_file_structures.dataRAW_expected_cols.keys()"
   ]
  },
  {
   "cell_type": "code",
   "execution_count": null,
   "metadata": {},
   "outputs": [],
   "source": []
  },
  {
   "cell_type": "code",
   "execution_count": 9,
   "metadata": {},
   "outputs": [
    {
     "data": {
      "text/html": [
       "<div>\n",
       "<style scoped>\n",
       "    .dataframe tbody tr th:only-of-type {\n",
       "        vertical-align: middle;\n",
       "    }\n",
       "\n",
       "    .dataframe tbody tr th {\n",
       "        vertical-align: top;\n",
       "    }\n",
       "\n",
       "    .dataframe thead th {\n",
       "        text-align: right;\n",
       "    }\n",
       "</style>\n",
       "<table border=\"1\" class=\"dataframe\">\n",
       "  <thead>\n",
       "    <tr style=\"text-align: right;\">\n",
       "      <th></th>\n",
       "      <th>hosp_patid</th>\n",
       "      <th>age</th>\n",
       "      <th>gender</th>\n",
       "      <th>site</th>\n",
       "      <th>arrive_datetime</th>\n",
       "      <th>arrive_mode</th>\n",
       "      <th>first_triage_datetime</th>\n",
       "      <th>first_dr_datetime</th>\n",
       "      <th>first_adm_request_time</th>\n",
       "      <th>adm_referral_loc</th>\n",
       "      <th>adm_flag</th>\n",
       "      <th>depart_datetime</th>\n",
       "      <th>stream</th>\n",
       "    </tr>\n",
       "  </thead>\n",
       "  <tbody>\n",
       "    <tr>\n",
       "      <th>0</th>\n",
       "      <td>2493</td>\n",
       "      <td>50</td>\n",
       "      <td>Female</td>\n",
       "      <td>HOSPITAL1</td>\n",
       "      <td>2013-01-08 19:44:00</td>\n",
       "      <td>2.0</td>\n",
       "      <td>2013-01-07 18:50:00</td>\n",
       "      <td>2013-01-09 21:50:00</td>\n",
       "      <td>NaN</td>\n",
       "      <td>NaN</td>\n",
       "      <td>0</td>\n",
       "      <td>2013-01-10 23:16:00</td>\n",
       "      <td>MIN</td>\n",
       "    </tr>\n",
       "    <tr>\n",
       "      <th>1</th>\n",
       "      <td>4822</td>\n",
       "      <td>22</td>\n",
       "      <td>Male</td>\n",
       "      <td>HOSPITAL1</td>\n",
       "      <td>2013-07-03 09:34:00</td>\n",
       "      <td>2.0</td>\n",
       "      <td>2013-07-03 08:57:00</td>\n",
       "      <td>2013-07-02 09:17:00</td>\n",
       "      <td>NaN</td>\n",
       "      <td>NaN</td>\n",
       "      <td>0</td>\n",
       "      <td>2013-07-05 09:02:00</td>\n",
       "      <td>MIN</td>\n",
       "    </tr>\n",
       "    <tr>\n",
       "      <th>2</th>\n",
       "      <td>6012</td>\n",
       "      <td>51</td>\n",
       "      <td>Male</td>\n",
       "      <td>HOSPITAL1</td>\n",
       "      <td>2017-08-27 23:33:00</td>\n",
       "      <td>2.0</td>\n",
       "      <td>2017-08-26 01:32:00</td>\n",
       "      <td>2017-08-27 03:12:00</td>\n",
       "      <td>NaN</td>\n",
       "      <td>NaN</td>\n",
       "      <td>0</td>\n",
       "      <td>2017-08-26 03:31:00</td>\n",
       "      <td>MIN</td>\n",
       "    </tr>\n",
       "  </tbody>\n",
       "</table>\n",
       "</div>"
      ],
      "text/plain": [
       "   hosp_patid  age  gender       site      arrive_datetime  arrive_mode  \\\n",
       "0        2493   50  Female  HOSPITAL1  2013-01-08 19:44:00          2.0   \n",
       "1        4822   22    Male  HOSPITAL1  2013-07-03 09:34:00          2.0   \n",
       "2        6012   51    Male  HOSPITAL1  2017-08-27 23:33:00          2.0   \n",
       "\n",
       "  first_triage_datetime    first_dr_datetime first_adm_request_time  \\\n",
       "0   2013-01-07 18:50:00  2013-01-09 21:50:00                    NaN   \n",
       "1   2013-07-03 08:57:00  2013-07-02 09:17:00                    NaN   \n",
       "2   2017-08-26 01:32:00  2017-08-27 03:12:00                    NaN   \n",
       "\n",
       "  adm_referral_loc  adm_flag      depart_datetime stream  \n",
       "0              NaN         0  2013-01-10 23:16:00    MIN  \n",
       "1              NaN         0  2013-07-05 09:02:00    MIN  \n",
       "2              NaN         0  2017-08-26 03:31:00    MIN  "
      ]
     },
     "execution_count": 9,
     "metadata": {},
     "output_type": "execute_result"
    }
   ],
   "source": [
    "EDdata.get_EDraw().head(3)"
   ]
  },
  {
   "cell_type": "code",
   "execution_count": null,
   "metadata": {},
   "outputs": [],
   "source": []
  },
  {
   "cell_type": "markdown",
   "metadata": {},
   "source": [
    "### bespoke user cleaning operations "
   ]
  },
  {
   "cell_type": "markdown",
   "metadata": {},
   "source": [
    "if at any stage manual edits to the data are required (e.g. cleaning a spurious datetime)... get data out of class, edit and replace:"
   ]
  },
  {
   "cell_type": "code",
   "execution_count": 10,
   "metadata": {},
   "outputs": [],
   "source": [
    "#### get data out\n",
    "df = EDdata.get_EDraw()\n",
    "\n",
    "#### make changes to df\n",
    "# my changes here\n",
    "\n",
    "#### replace data into EDdata\n",
    "EDdata.replace_EDraw(df)"
   ]
  },
  {
   "cell_type": "code",
   "execution_count": null,
   "metadata": {},
   "outputs": [],
   "source": []
  },
  {
   "cell_type": "code",
   "execution_count": null,
   "metadata": {},
   "outputs": [],
   "source": []
  },
  {
   "cell_type": "code",
   "execution_count": null,
   "metadata": {},
   "outputs": [],
   "source": []
  },
  {
   "cell_type": "code",
   "execution_count": null,
   "metadata": {},
   "outputs": [],
   "source": []
  },
  {
   "cell_type": "markdown",
   "metadata": {},
   "source": [
    "### converting datetimes\n",
    "#### datetime formats are often non-standard...some attention is needed but there are some built in methods to help."
   ]
  },
  {
   "cell_type": "markdown",
   "metadata": {},
   "source": [
    "convert columns to datetime formats (by default anything with 'datetime' in column name will be transformed."
   ]
  },
  {
   "cell_type": "code",
   "execution_count": 11,
   "metadata": {},
   "outputs": [
    {
     "name": "stderr",
     "output_type": "stream",
     "text": [
      "C:\\Users\\bjk1y13\\OneDrive - University of Southampton\\MH000_HHFT_flow\\4_Analysis\\flosp\\flosp\\ioED.py:101: UserWarning: Datetime conversion can be problemtic. Make sure you have used the correct datetime string format for each column. You can call this method multiple times with different 'datetime formats' & 'list of columns' to convert if neccessary.\n",
      "  warnings.warn(\"Datetime conversion can be problemtic. Make sure you have used the correct datetime string format for each column. You can call this method multiple times with different 'datetime formats' & 'list of columns' to convert if neccessary.\")\n"
     ]
    },
    {
     "name": "stdout",
     "output_type": "stream",
     "text": [
      "Converting cols to datetime...(may take some time depedning on size of df)...\n",
      "arrive_datetime...converting\n",
      "first_triage_datetime...converting\n",
      "first_dr_datetime...converting\n",
      "depart_datetime...converting\n"
     ]
    }
   ],
   "source": [
    "EDdata.convert_cols_datetime(\"%Y/%m/%d %H:%M\")"
   ]
  },
  {
   "cell_type": "markdown",
   "metadata": {},
   "source": [
    "create a datetime column from seperate time and date columns."
   ]
  },
  {
   "cell_type": "code",
   "execution_count": 12,
   "metadata": {},
   "outputs": [
    {
     "name": "stdout",
     "output_type": "stream",
     "text": [
      "----------------------------------------\n",
      "Create datetime column from: first_adm_request_time & arrive_datetime\n"
     ]
    },
    {
     "name": "stderr",
     "output_type": "stream",
     "text": [
      "C:\\Users\\bjk1y13\\OneDrive - University of Southampton\\MH000_HHFT_flow\\4_Analysis\\flosp\\flosp\\basic_tools.py:131: UserWarning: 422 patients detected who have -ve wait times. They have probably rolled over midnight, so we add + 1day to the new datetime column created. This assumes < 24hr stays only.\n",
      "\n",
      "\n",
      "\n",
      "  warnings.warn(str(datetime_values.shape[0]) + ' patients detected who have -ve wait times. They have probably rolled over midnight, so we add + 1day to the new datetime column created. This assumes < 24hr stays only.\\n\\n\\n')\n"
     ]
    }
   ],
   "source": [
    "EDdata.create_datetime_from_time('first_adm_request_time','arrive_datetime','first_adm_request_datetime')"
   ]
  },
  {
   "cell_type": "markdown",
   "metadata": {},
   "source": [
    "### automated cleaning"
   ]
  },
  {
   "cell_type": "markdown",
   "metadata": {},
   "source": [
    "check what else needs doing to get data into normalised format:"
   ]
  },
  {
   "cell_type": "code",
   "execution_count": 13,
   "metadata": {},
   "outputs": [
    {
     "name": "stdout",
     "output_type": "stream",
     "text": [
      "--------------------\n",
      "Finding missing columns...\n",
      "age_group try using:  use make_age_group_column\n",
      "arrive_hour try using:  make_callender_columns\n",
      "arrive_dayofweek try using:  make_callender_columns\n",
      "arrive_month try using:  make_callender_columns\n",
      "arrive_dayofweek_name try using:  make_callender_columns\n",
      "arrive_date try using:  make_callender_columns\n",
      "arrive_week try using:  make_callender_columns\n",
      "depart_method try using:  \n",
      "depart_hour try using:  make_callender_columns\n",
      "depart_dayofweek try using:  make_callender_columns\n",
      "depart_week try using:  make_callender_columns\n",
      "depart_month try using:  make_callender_columns\n",
      "depart_dayofweek_name try using:  make_callender_columns\n",
      "depart_date try using:  make_callender_columns\n",
      "waiting_time try using:  \n",
      "breach_flag try using:  \n",
      "minutes_today try using:  \n",
      "minutes_tomo try using:  \n",
      "breach_datetime try using:  \n",
      "arr_triage_wait try using:  \n",
      "arr_dr_wait try using:  \n",
      "arr_adm_req_wait try using:  \n",
      "adm_req_dep_wait try using:  \n",
      "dr_adm_req_wait try using:  \n",
      "dr_dep_wait try using:  \n",
      "--------------------\n",
      "Finding columns with wrong datatypes...\n",
      "Col  arrive_mode                is: float64 . Expected any of:  [<class 'object'>]\n",
      "Col  adm_flag                   is: int64 . Expected any of:  [<class 'int'>]\n",
      "Col  stream                     is: object . Expected any of:  [<class 'float'>, <class 'int'>, <class 'numpy.int64'>, <class 'str'>]\n"
     ]
    }
   ],
   "source": [
    "EDdata.run_tests()"
   ]
  },
  {
   "cell_type": "markdown",
   "metadata": {},
   "source": [
    "#### run as much automated cleaning as possible using: "
   ]
  },
  {
   "cell_type": "code",
   "execution_count": 15,
   "metadata": {},
   "outputs": [
    {
     "name": "stdout",
     "output_type": "stream",
     "text": [
      "----------------------------------------\n",
      "Making callender columns from:arrive_datetime\n",
      "----------------------------------------\n",
      "Making callender columns from:depart_datetime\n"
     ]
    }
   ],
   "source": [
    "EDdata.autoclean()"
   ]
  },
  {
   "cell_type": "markdown",
   "metadata": {},
   "source": [
    "run tests again:"
   ]
  },
  {
   "cell_type": "code",
   "execution_count": 16,
   "metadata": {},
   "outputs": [
    {
     "name": "stdout",
     "output_type": "stream",
     "text": [
      "--------------------\n",
      "Finding missing columns...\n",
      "depart_method try using:  \n",
      "minutes_today try using:  \n",
      "minutes_tomo try using:  \n",
      "--------------------\n",
      "Finding columns with wrong datatypes...\n",
      "Col  arrive_mode                is: float64 . Expected any of:  [<class 'object'>]\n",
      "Col  adm_flag                   is: int64 . Expected any of:  [<class 'int'>]\n",
      "Col  stream                     is: object . Expected any of:  [<class 'float'>, <class 'int'>, <class 'numpy.int64'>, <class 'str'>]\n",
      "Col  depart_dayofweek_name      is: object . Expected any of:  [<class 'str'>]\n",
      "Col  age_group                  is: category . Expected any of:  [<class 'str'>, 'pandas category type']\n"
     ]
    }
   ],
   "source": [
    "EDdata.run_tests()"
   ]
  },
  {
   "cell_type": "markdown",
   "metadata": {},
   "source": [
    "#### alternativly to autoclean,  step through the process using various methods:"
   ]
  },
  {
   "cell_type": "code",
   "execution_count": 17,
   "metadata": {},
   "outputs": [
    {
     "name": "stdout",
     "output_type": "stream",
     "text": [
      "----------------------------------------\n",
      "Making callender columns from:arrive_datetime\n",
      "----------------------------------------\n",
      "Making callender columns from:depart_datetime\n"
     ]
    }
   ],
   "source": [
    "EDdata.make_callender_columns()"
   ]
  },
  {
   "cell_type": "code",
   "execution_count": 18,
   "metadata": {},
   "outputs": [],
   "source": [
    "EDdata.make_wait_columns()"
   ]
  },
  {
   "cell_type": "code",
   "execution_count": 19,
   "metadata": {},
   "outputs": [],
   "source": [
    "EDdata.make_breach_columns()"
   ]
  },
  {
   "cell_type": "code",
   "execution_count": 20,
   "metadata": {},
   "outputs": [],
   "source": [
    "EDdata.make_age_group_column()"
   ]
  },
  {
   "cell_type": "code",
   "execution_count": null,
   "metadata": {},
   "outputs": [],
   "source": []
  },
  {
   "cell_type": "code",
   "execution_count": 21,
   "metadata": {},
   "outputs": [
    {
     "name": "stdout",
     "output_type": "stream",
     "text": [
      "--------------------\n",
      "Finding missing columns...\n",
      "depart_method try using:  \n",
      "minutes_today try using:  \n",
      "minutes_tomo try using:  \n",
      "--------------------\n",
      "Finding columns with wrong datatypes...\n",
      "Col  arrive_mode                is: float64 . Expected any of:  [<class 'object'>]\n",
      "Col  adm_flag                   is: int64 . Expected any of:  [<class 'int'>]\n",
      "Col  stream                     is: object . Expected any of:  [<class 'float'>, <class 'int'>, <class 'numpy.int64'>, <class 'str'>]\n",
      "Col  depart_dayofweek_name      is: object . Expected any of:  [<class 'str'>]\n",
      "Col  age_group                  is: category . Expected any of:  [<class 'str'>, 'pandas category type']\n"
     ]
    }
   ],
   "source": [
    "EDdata.run_tests()"
   ]
  },
  {
   "cell_type": "code",
   "execution_count": null,
   "metadata": {},
   "outputs": [],
   "source": []
  },
  {
   "cell_type": "code",
   "execution_count": null,
   "metadata": {},
   "outputs": [],
   "source": []
  },
  {
   "cell_type": "markdown",
   "metadata": {},
   "source": [
    "## saving\n",
    "#### ioED (and flosp) will automate the structure of your saving folder in the root dir you provided when you created the EDdata instance of ioED"
   ]
  },
  {
   "cell_type": "code",
   "execution_count": 26,
   "metadata": {},
   "outputs": [
    {
     "data": {
      "text/plain": [
       "'./processed/myhosp/'"
      ]
     },
     "execution_count": 26,
     "metadata": {},
     "output_type": "execute_result"
    }
   ],
   "source": [
    "EDdata.save_path"
   ]
  },
  {
   "cell_type": "code",
   "execution_count": null,
   "metadata": {},
   "outputs": [],
   "source": []
  },
  {
   "cell_type": "markdown",
   "metadata": {},
   "source": [
    "#### at any stage save your data out to come back to later.."
   ]
  },
  {
   "cell_type": "code",
   "execution_count": 22,
   "metadata": {},
   "outputs": [
    {
     "name": "stdout",
     "output_type": "stream",
     "text": [
      "----------------------------------------\n",
      "saved file: ./processed/myhosp/RAW/myhospED.pkl\n"
     ]
    }
   ],
   "source": [
    "EDdata.saveRAWasRAW()"
   ]
  },
  {
   "cell_type": "code",
   "execution_count": null,
   "metadata": {},
   "outputs": [],
   "source": []
  },
  {
   "cell_type": "code",
   "execution_count": null,
   "metadata": {},
   "outputs": [],
   "source": []
  },
  {
   "cell_type": "markdown",
   "metadata": {},
   "source": [
    "#### once your data is cleaned, save cleaned data out to .pkl file"
   ]
  },
  {
   "cell_type": "code",
   "execution_count": 23,
   "metadata": {},
   "outputs": [
    {
     "name": "stdout",
     "output_type": "stream",
     "text": [
      "----------------------------------------\n",
      "saved file: ./processed/myhosp/myhospED.pkl\n"
     ]
    }
   ],
   "source": [
    "EDdata.saveRAWasCLEAN()"
   ]
  },
  {
   "cell_type": "code",
   "execution_count": null,
   "metadata": {},
   "outputs": [],
   "source": []
  },
  {
   "cell_type": "markdown",
   "metadata": {},
   "source": [
    "#### load your data back from cleaned file again if you are using ioED:"
   ]
  },
  {
   "cell_type": "code",
   "execution_count": 24,
   "metadata": {},
   "outputs": [
    {
     "name": "stdout",
     "output_type": "stream",
     "text": [
      "----------------------------------------\n",
      "loaded file: ./processed/myhosp/myhospED.pkl\n"
     ]
    }
   ],
   "source": [
    "EDdata.loadPKLasRAW()"
   ]
  },
  {
   "cell_type": "code",
   "execution_count": null,
   "metadata": {},
   "outputs": [],
   "source": []
  },
  {
   "cell_type": "code",
   "execution_count": null,
   "metadata": {},
   "outputs": [],
   "source": []
  }
 ],
 "metadata": {
  "kernelspec": {
   "display_name": "Python [default]",
   "language": "python",
   "name": "python3"
  },
  "language_info": {
   "codemirror_mode": {
    "name": "ipython",
    "version": 3
   },
   "file_extension": ".py",
   "mimetype": "text/x-python",
   "name": "python",
   "nbconvert_exporter": "python",
   "pygments_lexer": "ipython3",
   "version": "3.5.3"
  }
 },
 "nbformat": 4,
 "nbformat_minor": 2
}
