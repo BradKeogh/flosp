{
 "cells": [
  {
   "cell_type": "markdown",
   "metadata": {},
   "source": [
    "# Example workflow for using flosp to import and clean ED data"
   ]
  },
  {
   "cell_type": "markdown",
   "metadata": {},
   "source": [
    "Get to directory above to import flosp"
   ]
  },
  {
   "cell_type": "code",
   "execution_count": 1,
   "metadata": {},
   "outputs": [],
   "source": [
    "%load_ext autoreload\n",
    "%autoreload 2"
   ]
  },
  {
   "cell_type": "code",
   "execution_count": 2,
   "metadata": {},
   "outputs": [
    {
     "name": "stdout",
     "output_type": "stream",
     "text": [
      " Volume in drive C is Windows\n",
      " Volume Serial Number is EE63-178E\n",
      "\n",
      " Directory of C:\\Users\\bjk1y13\\OneDrive - University of Southampton\\MH030_HHFT_flow\\4_Analysis\\flosp\\example\n",
      "\n",
      "13/02/2019  14:51    <DIR>          .\n",
      "13/02/2019  14:51    <DIR>          ..\n",
      "04/01/2019  11:00    <DIR>          .ipynb_checkpoints\n",
      "12/02/2019  14:42    <DIR>          __pycache__\n",
      "05/02/2019  15:00         3,513,598 example_data_ED.csv\n",
      "05/02/2019  12:12        20,308,140 example_data_IP.csv\n",
      "13/02/2019  14:51           173,411 example_flosp_workflow.ipynb\n",
      "05/02/2019  10:13    <DIR>          example_results\n",
      "05/02/2019  13:19               214 setup.py\n",
      "               4 File(s)     23,995,363 bytes\n",
      "               5 Dir(s)  334,520,270,848 bytes free\n"
     ]
    }
   ],
   "source": [
    "%ls"
   ]
  },
  {
   "cell_type": "code",
   "execution_count": 3,
   "metadata": {},
   "outputs": [
    {
     "name": "stdout",
     "output_type": "stream",
     "text": [
      "C:\\Users\\bjk1y13\\OneDrive - University of Southampton\\MH030_HHFT_flow\\4_Analysis\\flosp\n"
     ]
    }
   ],
   "source": [
    "%cd \".\\.."
   ]
  },
  {
   "cell_type": "code",
   "execution_count": 4,
   "metadata": {},
   "outputs": [],
   "source": [
    "import flosp"
   ]
  },
  {
   "cell_type": "code",
   "execution_count": null,
   "metadata": {},
   "outputs": [],
   "source": []
  },
  {
   "cell_type": "markdown",
   "metadata": {},
   "source": [
    "## initialise flosp\n",
    "\n",
    "You must provide the path to the setup file, which you should edit to your project specifics."
   ]
  },
  {
   "cell_type": "code",
   "execution_count": 5,
   "metadata": {},
   "outputs": [],
   "source": [
    "from flosp import Interface"
   ]
  },
  {
   "cell_type": "code",
   "execution_count": 6,
   "metadata": {},
   "outputs": [
    {
     "name": "stdout",
     "output_type": "stream",
     "text": [
      "flosp started.\n",
      "<module 'flosp.expected_structures.ED' from 'C:\\\\Users\\\\bjk1y13\\\\OneDrive - University of Southampton\\\\MH030_HHFT_flow\\\\4_Analysis\\\\flosp\\\\flosp\\\\expected_structures\\\\ED.py'>\n",
      "<module 'flosp.expected_structures.IP' from 'C:\\\\Users\\\\bjk1y13\\\\OneDrive - University of Southampton\\\\MH030_HHFT_flow\\\\4_Analysis\\\\flosp\\\\flosp\\\\expected_structures\\\\IP.py'>\n",
      "Imported setup.py sucessfully.\n",
      "Loading processed data from pickles.\n",
      "Found: ./example/example_results/processed/ED.pkl\n",
      "Missing: ./example/example_results/processed/IPfce.pkl\n",
      "Missing: ./example/example_results/processed/IPward.pkl\n",
      "Missing: ./example/example_results/processed/IPspell.pkl\n",
      "Missing: ./example/example_results/processed/HOURLY.pkl\n",
      "Missing: ./example/example_results/processed/DAILY.pkl\n"
     ]
    }
   ],
   "source": [
    "hosp = Interface(setup_file_path='./setup.py')"
   ]
  },
  {
   "cell_type": "code",
   "execution_count": 7,
   "metadata": {},
   "outputs": [
    {
     "name": "stdout",
     "output_type": "stream",
     "text": [
      "flosp started.\n",
      "<module 'flosp.expected_structures.ED' from 'C:\\\\Users\\\\bjk1y13\\\\OneDrive - University of Southampton\\\\MH030_HHFT_flow\\\\4_Analysis\\\\flosp\\\\flosp\\\\expected_structures\\\\ED.py'>\n",
      "<module 'flosp.expected_structures.IP' from 'C:\\\\Users\\\\bjk1y13\\\\OneDrive - University of Southampton\\\\MH030_HHFT_flow\\\\4_Analysis\\\\flosp\\\\flosp\\\\expected_structures\\\\IP.py'>\n",
      "Imported setup.py sucessfully.\n",
      "Loading processed data from pickles.\n",
      "Found: ./example/example_results/processed/ED.pkl\n",
      "Missing: ./example/example_results/processed/IPfce.pkl\n",
      "Missing: ./example/example_results/processed/IPward.pkl\n",
      "Missing: ./example/example_results/processed/IPspell.pkl\n",
      "Missing: ./example/example_results/processed/HOURLY.pkl\n",
      "Missing: ./example/example_results/processed/DAILY.pkl\n"
     ]
    }
   ],
   "source": [
    "hosp = Interface(setup_file_path='./ff/setup.py')"
   ]
  },
  {
   "cell_type": "code",
   "execution_count": 8,
   "metadata": {},
   "outputs": [],
   "source": [
    "from example.setup import HOSPITAL_NAME"
   ]
  },
  {
   "cell_type": "markdown",
   "metadata": {},
   "source": [
    "setup_file_path = './setup.py'"
   ]
  },
  {
   "cell_type": "markdown",
   "metadata": {},
   "source": [
    "from setup_file_path import HOSPITAL_NAME"
   ]
  },
  {
   "cell_type": "markdown",
   "metadata": {},
   "source": [
    "### Importing ED data"
   ]
  },
  {
   "cell_type": "markdown",
   "metadata": {},
   "source": [
    "load raw data"
   ]
  },
  {
   "cell_type": "code",
   "execution_count": 9,
   "metadata": {},
   "outputs": [
    {
     "name": "stdout",
     "output_type": "stream",
     "text": [
      "IO class called.\n",
      "ARRIVAL_DTTM\n",
      "TRIAGE_ASSESSMENT_DTTM\n",
      "FIRSTDOC_FOR_TREATMENT_DTTM\n",
      "ADM_REQUEST_DTTM\n",
      "DEPARTURE_DTTM\n",
      "----------------------------------------\n",
      "Making callender columns from:  ARRIVAL_DTTM\n",
      "----------------------------------------\n",
      "Making callender columns from:  DEPARTURE_DTTM\n",
      "----------------------------------------\n",
      "saved file: ./example/example_results/processed/ED.pkl\n",
      "Import completed.\n"
     ]
    }
   ],
   "source": [
    "hosp.load_dataED('./example/example_data_ED.csv') #,nrows=1500) # limit number of rows for quick runtime during dev"
   ]
  },
  {
   "cell_type": "markdown",
   "metadata": {},
   "source": [
    "look at the dataframe at any stage of processing"
   ]
  },
  {
   "cell_type": "code",
   "execution_count": 10,
   "metadata": {},
   "outputs": [
    {
     "data": {
      "text/html": [
       "<div>\n",
       "<style scoped>\n",
       "    .dataframe tbody tr th:only-of-type {\n",
       "        vertical-align: middle;\n",
       "    }\n",
       "\n",
       "    .dataframe tbody tr th {\n",
       "        vertical-align: top;\n",
       "    }\n",
       "\n",
       "    .dataframe thead th {\n",
       "        text-align: right;\n",
       "    }\n",
       "</style>\n",
       "<table border=\"1\" class=\"dataframe\">\n",
       "  <thead>\n",
       "    <tr style=\"text-align: right;\">\n",
       "      <th></th>\n",
       "      <th>PSEUDONYMISED_PATIENT_ID</th>\n",
       "      <th>AGE_AT_ARRIVAL</th>\n",
       "      <th>GENDER_NATIONAL_DESCRIPTION</th>\n",
       "      <th>SITE</th>\n",
       "      <th>ARRIVAL_DTTM</th>\n",
       "      <th>ARRIVAL_MODE_NATIONAL_CODE</th>\n",
       "      <th>TRIAGE_ASSESSMENT_DTTM</th>\n",
       "      <th>FIRSTDOC_FOR_TREATMENT_DTTM</th>\n",
       "      <th>ADM_REQUEST_DTTM</th>\n",
       "      <th>ADM_REQUEST_LOC_DESCRIPTION</th>\n",
       "      <th>...</th>\n",
       "      <th>age_group</th>\n",
       "      <th>waiting_time</th>\n",
       "      <th>arr_triage_wait</th>\n",
       "      <th>arr_dr_wait</th>\n",
       "      <th>arr_adm_req_wait</th>\n",
       "      <th>adm_req_dep_wait</th>\n",
       "      <th>dr_adm_req_wait</th>\n",
       "      <th>dr_dep_wait</th>\n",
       "      <th>BREACH_FLAG</th>\n",
       "      <th>breach_datetime</th>\n",
       "    </tr>\n",
       "  </thead>\n",
       "  <tbody>\n",
       "    <tr>\n",
       "      <th>0</th>\n",
       "      <td>4484</td>\n",
       "      <td>56</td>\n",
       "      <td>Female</td>\n",
       "      <td>HOSPITAL1</td>\n",
       "      <td>2013-08-04 09:59:00</td>\n",
       "      <td>2.0</td>\n",
       "      <td>2013-08-01 10:52:00</td>\n",
       "      <td>2013-08-01 12:41:00</td>\n",
       "      <td>NaT</td>\n",
       "      <td>NaN</td>\n",
       "      <td>...</td>\n",
       "      <td>18-64</td>\n",
       "      <td>-1297.0</td>\n",
       "      <td>-4267.0</td>\n",
       "      <td>-4158.0</td>\n",
       "      <td>NaN</td>\n",
       "      <td>NaN</td>\n",
       "      <td>NaN</td>\n",
       "      <td>2861.0</td>\n",
       "      <td>0</td>\n",
       "      <td>2013-08-04 13:59:00</td>\n",
       "    </tr>\n",
       "    <tr>\n",
       "      <th>1</th>\n",
       "      <td>3924</td>\n",
       "      <td>88</td>\n",
       "      <td>Female</td>\n",
       "      <td>HOSPITAL1</td>\n",
       "      <td>2014-04-09 10:14:00</td>\n",
       "      <td>1.0</td>\n",
       "      <td>2014-04-10 08:55:00</td>\n",
       "      <td>2014-04-08 10:51:00</td>\n",
       "      <td>2014-04-09 13:29:15</td>\n",
       "      <td>General Medicine</td>\n",
       "      <td>...</td>\n",
       "      <td>65+</td>\n",
       "      <td>294.0</td>\n",
       "      <td>1361.0</td>\n",
       "      <td>-1403.0</td>\n",
       "      <td>195.25</td>\n",
       "      <td>98.75</td>\n",
       "      <td>1598.25</td>\n",
       "      <td>1697.0</td>\n",
       "      <td>1</td>\n",
       "      <td>2014-04-09 14:14:00</td>\n",
       "    </tr>\n",
       "    <tr>\n",
       "      <th>2</th>\n",
       "      <td>2622</td>\n",
       "      <td>41</td>\n",
       "      <td>Female</td>\n",
       "      <td>HOSPITAL1</td>\n",
       "      <td>2012-11-30 03:49:00</td>\n",
       "      <td>1.0</td>\n",
       "      <td>2012-11-30 05:30:00</td>\n",
       "      <td>2012-11-29 05:43:00</td>\n",
       "      <td>NaT</td>\n",
       "      <td>NaN</td>\n",
       "      <td>...</td>\n",
       "      <td>18-64</td>\n",
       "      <td>1582.0</td>\n",
       "      <td>101.0</td>\n",
       "      <td>-1326.0</td>\n",
       "      <td>NaN</td>\n",
       "      <td>NaN</td>\n",
       "      <td>NaN</td>\n",
       "      <td>2908.0</td>\n",
       "      <td>1</td>\n",
       "      <td>2012-11-30 07:49:00</td>\n",
       "    </tr>\n",
       "    <tr>\n",
       "      <th>3</th>\n",
       "      <td>6868</td>\n",
       "      <td>29</td>\n",
       "      <td>Male</td>\n",
       "      <td>HOSPITAL1</td>\n",
       "      <td>2017-09-06 18:49:00</td>\n",
       "      <td>2.0</td>\n",
       "      <td>2017-09-06 19:04:00</td>\n",
       "      <td>2017-09-05 19:15:00</td>\n",
       "      <td>NaT</td>\n",
       "      <td>NaN</td>\n",
       "      <td>...</td>\n",
       "      <td>18-64</td>\n",
       "      <td>197.0</td>\n",
       "      <td>15.0</td>\n",
       "      <td>-1414.0</td>\n",
       "      <td>NaN</td>\n",
       "      <td>NaN</td>\n",
       "      <td>NaN</td>\n",
       "      <td>1611.0</td>\n",
       "      <td>0</td>\n",
       "      <td>2017-09-06 22:49:00</td>\n",
       "    </tr>\n",
       "    <tr>\n",
       "      <th>4</th>\n",
       "      <td>1563</td>\n",
       "      <td>35</td>\n",
       "      <td>Male</td>\n",
       "      <td>HOSPITAL1</td>\n",
       "      <td>2015-07-12 15:54:00</td>\n",
       "      <td>2.0</td>\n",
       "      <td>2015-07-14 16:09:00</td>\n",
       "      <td>2015-07-15 15:41:00</td>\n",
       "      <td>NaT</td>\n",
       "      <td>NaN</td>\n",
       "      <td>...</td>\n",
       "      <td>18-64</td>\n",
       "      <td>2902.0</td>\n",
       "      <td>2895.0</td>\n",
       "      <td>4307.0</td>\n",
       "      <td>NaN</td>\n",
       "      <td>NaN</td>\n",
       "      <td>NaN</td>\n",
       "      <td>-1405.0</td>\n",
       "      <td>1</td>\n",
       "      <td>2015-07-12 19:54:00</td>\n",
       "    </tr>\n",
       "  </tbody>\n",
       "</table>\n",
       "<p>5 rows × 41 columns</p>\n",
       "</div>"
      ],
      "text/plain": [
       "  PSEUDONYMISED_PATIENT_ID  AGE_AT_ARRIVAL GENDER_NATIONAL_DESCRIPTION  \\\n",
       "0                     4484              56                      Female   \n",
       "1                     3924              88                      Female   \n",
       "2                     2622              41                      Female   \n",
       "3                     6868              29                        Male   \n",
       "4                     1563              35                        Male   \n",
       "\n",
       "        SITE        ARRIVAL_DTTM ARRIVAL_MODE_NATIONAL_CODE  \\\n",
       "0  HOSPITAL1 2013-08-04 09:59:00                        2.0   \n",
       "1  HOSPITAL1 2014-04-09 10:14:00                        1.0   \n",
       "2  HOSPITAL1 2012-11-30 03:49:00                        1.0   \n",
       "3  HOSPITAL1 2017-09-06 18:49:00                        2.0   \n",
       "4  HOSPITAL1 2015-07-12 15:54:00                        2.0   \n",
       "\n",
       "  TRIAGE_ASSESSMENT_DTTM FIRSTDOC_FOR_TREATMENT_DTTM    ADM_REQUEST_DTTM  \\\n",
       "0    2013-08-01 10:52:00         2013-08-01 12:41:00                 NaT   \n",
       "1    2014-04-10 08:55:00         2014-04-08 10:51:00 2014-04-09 13:29:15   \n",
       "2    2012-11-30 05:30:00         2012-11-29 05:43:00                 NaT   \n",
       "3    2017-09-06 19:04:00         2017-09-05 19:15:00                 NaT   \n",
       "4    2015-07-14 16:09:00         2015-07-15 15:41:00                 NaT   \n",
       "\n",
       "  ADM_REQUEST_LOC_DESCRIPTION         ...         age_group waiting_time  \\\n",
       "0                         NaN         ...             18-64      -1297.0   \n",
       "1            General Medicine         ...               65+        294.0   \n",
       "2                         NaN         ...             18-64       1582.0   \n",
       "3                         NaN         ...             18-64        197.0   \n",
       "4                         NaN         ...             18-64       2902.0   \n",
       "\n",
       "  arr_triage_wait  arr_dr_wait  arr_adm_req_wait  adm_req_dep_wait  \\\n",
       "0         -4267.0      -4158.0               NaN               NaN   \n",
       "1          1361.0      -1403.0            195.25             98.75   \n",
       "2           101.0      -1326.0               NaN               NaN   \n",
       "3            15.0      -1414.0               NaN               NaN   \n",
       "4          2895.0       4307.0               NaN               NaN   \n",
       "\n",
       "   dr_adm_req_wait  dr_dep_wait BREACH_FLAG     breach_datetime  \n",
       "0              NaN       2861.0           0 2013-08-04 13:59:00  \n",
       "1          1598.25       1697.0           1 2014-04-09 14:14:00  \n",
       "2              NaN       2908.0           1 2012-11-30 07:49:00  \n",
       "3              NaN       1611.0           0 2017-09-06 22:49:00  \n",
       "4              NaN      -1405.0           1 2015-07-12 19:54:00  \n",
       "\n",
       "[5 rows x 41 columns]"
      ]
     },
     "execution_count": 10,
     "metadata": {},
     "output_type": "execute_result"
    }
   ],
   "source": [
    "hosp.extract_data('ED').head()"
   ]
  },
  {
   "cell_type": "markdown",
   "metadata": {},
   "source": [
    "subsampling method - for quicker inital runtime during development of cleaning (some of the datetime conversions can take some time on larger data sets"
   ]
  },
  {
   "cell_type": "markdown",
   "metadata": {},
   "source": [
    "## Import IP data"
   ]
  },
  {
   "cell_type": "code",
   "execution_count": 11,
   "metadata": {},
   "outputs": [
    {
     "name": "stdout",
     "output_type": "stream",
     "text": [
      "IO class called.\n",
      "ADM_DTTM\n",
      "DIS_DTTM\n",
      "LOCATION_START\n",
      "LOCATION_END\n",
      "----------------------------------------\n",
      "Making callender columns from:  ADM_DTTM\n",
      "----------------------------------------\n",
      "Making callender columns from:  DIS_DTTM\n"
     ]
    },
    {
     "name": "stderr",
     "output_type": "stream",
     "text": [
      "C:\\Users\\bjk1y13\\OneDrive - University of Southampton\\MH030_HHFT_flow\\4_Analysis\\flosp\\flosp\\basic_tools.py:99: UserWarning: Some datetimes in your column are missing.\n",
      "  warnings.warn('Some datetimes in your column are missing.')\n"
     ]
    },
    {
     "name": "stdout",
     "output_type": "stream",
     "text": [
      "----------------------------------------\n",
      "saved file: ./example/example_results/processed/IP.pkl\n",
      "Import completed.\n"
     ]
    }
   ],
   "source": [
    "hosp.load_dataIP('./example/example_data_IP.csv')"
   ]
  },
  {
   "cell_type": "code",
   "execution_count": 12,
   "metadata": {},
   "outputs": [
    {
     "data": {
      "text/html": [
       "<div>\n",
       "<style scoped>\n",
       "    .dataframe tbody tr th:only-of-type {\n",
       "        vertical-align: middle;\n",
       "    }\n",
       "\n",
       "    .dataframe tbody tr th {\n",
       "        vertical-align: top;\n",
       "    }\n",
       "\n",
       "    .dataframe thead th {\n",
       "        text-align: right;\n",
       "    }\n",
       "</style>\n",
       "<table border=\"1\" class=\"dataframe\">\n",
       "  <thead>\n",
       "    <tr style=\"text-align: right;\">\n",
       "      <th></th>\n",
       "      <th>LOCATION_NUMBER</th>\n",
       "      <th>ADM_SOURCE_CODE</th>\n",
       "      <th>ADM_METHOD</th>\n",
       "      <th>ADM_DTTM</th>\n",
       "      <th>ADM_TYPE</th>\n",
       "      <th>SITE</th>\n",
       "      <th>GENDER_NATIONAL_DESCRIPTION</th>\n",
       "      <th>LOCATION_END</th>\n",
       "      <th>DIS_DESTINATION</th>\n",
       "      <th>DIS_METHOD</th>\n",
       "      <th>...</th>\n",
       "      <th>DIS_hour</th>\n",
       "      <th>DIS_dayofweek</th>\n",
       "      <th>DIS_day</th>\n",
       "      <th>DIS_month</th>\n",
       "      <th>DIS_week</th>\n",
       "      <th>DIS_dayofweek_name</th>\n",
       "      <th>DIS_year</th>\n",
       "      <th>DIS_date</th>\n",
       "      <th>DIS_flag_wkend</th>\n",
       "      <th>age_group</th>\n",
       "    </tr>\n",
       "  </thead>\n",
       "  <tbody>\n",
       "    <tr>\n",
       "      <th>0</th>\n",
       "      <td>1</td>\n",
       "      <td>19</td>\n",
       "      <td>31</td>\n",
       "      <td>2017-07-05 07:32:00</td>\n",
       "      <td>Non-Elective</td>\n",
       "      <td>HOSPITAL1</td>\n",
       "      <td>2</td>\n",
       "      <td>2017-07-08 13:53:00</td>\n",
       "      <td>19.0</td>\n",
       "      <td>1.0</td>\n",
       "      <td>...</td>\n",
       "      <td>14.0</td>\n",
       "      <td>5.0</td>\n",
       "      <td>8.0</td>\n",
       "      <td>7.0</td>\n",
       "      <td>27.0</td>\n",
       "      <td>Saturday</td>\n",
       "      <td>2017.0</td>\n",
       "      <td>2017-07-08</td>\n",
       "      <td>0</td>\n",
       "      <td>18-64</td>\n",
       "    </tr>\n",
       "    <tr>\n",
       "      <th>1</th>\n",
       "      <td>1</td>\n",
       "      <td>79</td>\n",
       "      <td>82</td>\n",
       "      <td>2017-06-17 05:03:00</td>\n",
       "      <td>Day Case</td>\n",
       "      <td>HOSPITAL1</td>\n",
       "      <td>1</td>\n",
       "      <td>2017-06-20 22:41:00</td>\n",
       "      <td>19.0</td>\n",
       "      <td>1.0</td>\n",
       "      <td>...</td>\n",
       "      <td>21.0</td>\n",
       "      <td>1.0</td>\n",
       "      <td>20.0</td>\n",
       "      <td>6.0</td>\n",
       "      <td>25.0</td>\n",
       "      <td>Tuesday</td>\n",
       "      <td>2017.0</td>\n",
       "      <td>2017-06-20</td>\n",
       "      <td>0</td>\n",
       "      <td>18-64</td>\n",
       "    </tr>\n",
       "    <tr>\n",
       "      <th>2</th>\n",
       "      <td>9</td>\n",
       "      <td>19</td>\n",
       "      <td>21</td>\n",
       "      <td>2017-11-09 22:08:00</td>\n",
       "      <td>Non-Elective</td>\n",
       "      <td>HOSPITAL1</td>\n",
       "      <td>1</td>\n",
       "      <td>2017-12-19 09:38:00</td>\n",
       "      <td>19.0</td>\n",
       "      <td>1.0</td>\n",
       "      <td>...</td>\n",
       "      <td>15.0</td>\n",
       "      <td>2.0</td>\n",
       "      <td>20.0</td>\n",
       "      <td>12.0</td>\n",
       "      <td>51.0</td>\n",
       "      <td>Wednesday</td>\n",
       "      <td>2017.0</td>\n",
       "      <td>2017-12-20</td>\n",
       "      <td>0</td>\n",
       "      <td>65+</td>\n",
       "    </tr>\n",
       "    <tr>\n",
       "      <th>3</th>\n",
       "      <td>12</td>\n",
       "      <td>19</td>\n",
       "      <td>21</td>\n",
       "      <td>2017-12-08 17:41:00</td>\n",
       "      <td>Non-Elective</td>\n",
       "      <td>HOSPITAL1</td>\n",
       "      <td>1</td>\n",
       "      <td>2018-02-03 11:00:00</td>\n",
       "      <td>19.0</td>\n",
       "      <td>1.0</td>\n",
       "      <td>...</td>\n",
       "      <td>11.0</td>\n",
       "      <td>5.0</td>\n",
       "      <td>3.0</td>\n",
       "      <td>2.0</td>\n",
       "      <td>5.0</td>\n",
       "      <td>Saturday</td>\n",
       "      <td>2018.0</td>\n",
       "      <td>2018-02-03</td>\n",
       "      <td>0</td>\n",
       "      <td>65+</td>\n",
       "    </tr>\n",
       "    <tr>\n",
       "      <th>4</th>\n",
       "      <td>2</td>\n",
       "      <td>19</td>\n",
       "      <td>21</td>\n",
       "      <td>2018-04-07 15:25:00</td>\n",
       "      <td>Non-Elective</td>\n",
       "      <td>HOSPITAL1</td>\n",
       "      <td>1</td>\n",
       "      <td>2018-04-11 19:51:00</td>\n",
       "      <td>19.0</td>\n",
       "      <td>1.0</td>\n",
       "      <td>...</td>\n",
       "      <td>19.0</td>\n",
       "      <td>2.0</td>\n",
       "      <td>11.0</td>\n",
       "      <td>4.0</td>\n",
       "      <td>15.0</td>\n",
       "      <td>Wednesday</td>\n",
       "      <td>2018.0</td>\n",
       "      <td>2018-04-11</td>\n",
       "      <td>0</td>\n",
       "      <td>65+</td>\n",
       "    </tr>\n",
       "  </tbody>\n",
       "</table>\n",
       "<p>5 rows × 35 columns</p>\n",
       "</div>"
      ],
      "text/plain": [
       "   LOCATION_NUMBER ADM_SOURCE_CODE ADM_METHOD            ADM_DTTM      ADM_TYPE  \\\n",
       "0            1              19         31 2017-07-05 07:32:00  Non-Elective   \n",
       "1            1              79         82 2017-06-17 05:03:00      Day Case   \n",
       "2            9              19         21 2017-11-09 22:08:00  Non-Elective   \n",
       "3           12              19         21 2017-12-08 17:41:00  Non-Elective   \n",
       "4            2              19         21 2018-04-07 15:25:00  Non-Elective   \n",
       "\n",
       "        SITE GENDER_NATIONAL_DESCRIPTION            LOCATION_END DIS_DESTINATION  \\\n",
       "0  HOSPITAL1                           2 2017-07-08 13:53:00            19.0   \n",
       "1  HOSPITAL1                           1 2017-06-20 22:41:00            19.0   \n",
       "2  HOSPITAL1                           1 2017-12-19 09:38:00            19.0   \n",
       "3  HOSPITAL1                           1 2018-02-03 11:00:00            19.0   \n",
       "4  HOSPITAL1                           1 2018-04-11 19:51:00            19.0   \n",
       "\n",
       "  DIS_METHOD    ...     DIS_hour DIS_dayofweek DIS_day  DIS_month  DIS_week  \\\n",
       "0        1.0    ...         14.0           5.0     8.0        7.0      27.0   \n",
       "1        1.0    ...         21.0           1.0    20.0        6.0      25.0   \n",
       "2        1.0    ...         15.0           2.0    20.0       12.0      51.0   \n",
       "3        1.0    ...         11.0           5.0     3.0        2.0       5.0   \n",
       "4        1.0    ...         19.0           2.0    11.0        4.0      15.0   \n",
       "\n",
       "  DIS_dayofweek_name  DIS_year    DIS_date  DIS_flag_wkend  age_group  \n",
       "0           Saturday    2017.0  2017-07-08               0      18-64  \n",
       "1            Tuesday    2017.0  2017-06-20               0      18-64  \n",
       "2          Wednesday    2017.0  2017-12-20               0        65+  \n",
       "3           Saturday    2018.0  2018-02-03               0        65+  \n",
       "4          Wednesday    2018.0  2018-04-11               0        65+  \n",
       "\n",
       "[5 rows x 35 columns]"
      ]
     },
     "execution_count": 12,
     "metadata": {},
     "output_type": "execute_result"
    }
   ],
   "source": [
    "hosp.extract_data('IP').head()"
   ]
  },
  {
   "cell_type": "code",
   "execution_count": null,
   "metadata": {},
   "outputs": [],
   "source": []
  },
  {
   "cell_type": "code",
   "execution_count": null,
   "metadata": {},
   "outputs": [],
   "source": []
  },
  {
   "cell_type": "markdown",
   "metadata": {},
   "source": [
    "# Make aggregated tables at hourly and daily level"
   ]
  },
  {
   "cell_type": "code",
   "execution_count": 13,
   "metadata": {},
   "outputs": [],
   "source": [
    "%matplotlib inline"
   ]
  },
  {
   "cell_type": "code",
   "execution_count": 14,
   "metadata": {},
   "outputs": [
    {
     "name": "stdout",
     "output_type": "stream",
     "text": [
      "[Timestamp('2018-02-09 11:26:00'), Timestamp('2018-09-03 20:06:00')]\n"
     ]
    },
    {
     "name": "stderr",
     "output_type": "stream",
     "text": [
      "C:\\Anaconda3\\lib\\site-packages\\numpy\\lib\\arraysetops.py:285: FutureWarning: In the future, NAT != NAT will be True rather than False.\n",
      "  flag = np.concatenate(([True], aux[1:] != aux[:-1]))\n"
     ]
    }
   ],
   "source": [
    "hosp.make_new_tables()"
   ]
  },
  {
   "cell_type": "code",
   "execution_count": 15,
   "metadata": {},
   "outputs": [
    {
     "data": {
      "text/plain": [
       "<matplotlib.axes._subplots.AxesSubplot at 0x19a3d480da0>"
      ]
     },
     "execution_count": 15,
     "metadata": {},
     "output_type": "execute_result"
    },
    {
     "data": {
      "image/png": "[encoded data removed]",
      "text/plain": [
       "<matplotlib.figure.Figure at 0x19a3cf2d668>"
      ]
     },
     "metadata": {},
     "output_type": "display_data"
    }
   ],
   "source": [
    "hosp.data.HOURLY.plot()"
   ]
  },
  {
   "cell_type": "code",
   "execution_count": 18,
   "metadata": {},
   "outputs": [
    {
     "data": {
      "text/plain": [
       "ED_occ_total    0.0\n",
       "dtype: float64"
      ]
     },
     "execution_count": 18,
     "metadata": {},
     "output_type": "execute_result"
    }
   ],
   "source": [
    "hosp.data.HOURLY2.sum()"
   ]
  },
  {
   "cell_type": "code",
   "execution_count": 20,
   "metadata": {},
   "outputs": [
    {
     "data": {
      "text/plain": [
       "Timestamp('2018-02-09 11:26:00')"
      ]
     },
     "execution_count": 20,
     "metadata": {},
     "output_type": "execute_result"
    }
   ],
   "source": [
    "hosp.data.ED.ARRIVAL_DTTM.max()"
   ]
  },
  {
   "cell_type": "code",
   "execution_count": 18,
   "metadata": {},
   "outputs": [
    {
     "data": {
      "text/plain": [
       "ED_arrivals                1.0\n",
       "ED_departures              7.0\n",
       "IP_admissions_total    37674.0\n",
       "IP_discharges_total    40055.0\n",
       "dtype: float64"
      ]
     },
     "execution_count": 18,
     "metadata": {},
     "output_type": "execute_result"
    }
   ],
   "source": [
    "hosp.data.HOURLY2.sum()"
   ]
  },
  {
   "cell_type": "code",
   "execution_count": null,
   "metadata": {},
   "outputs": [],
   "source": [
    "hosp."
   ]
  },
  {
   "cell_type": "code",
   "execution_count": 16,
   "metadata": {},
   "outputs": [
    {
     "data": {
      "text/html": [
       "<div>\n",
       "<style scoped>\n",
       "    .dataframe tbody tr th:only-of-type {\n",
       "        vertical-align: middle;\n",
       "    }\n",
       "\n",
       "    .dataframe tbody tr th {\n",
       "        vertical-align: top;\n",
       "    }\n",
       "\n",
       "    .dataframe thead th {\n",
       "        text-align: right;\n",
       "    }\n",
       "</style>\n",
       "<table border=\"1\" class=\"dataframe\">\n",
       "  <thead>\n",
       "    <tr style=\"text-align: right;\">\n",
       "      <th></th>\n",
       "      <th>ED_arrivals</th>\n",
       "      <th>ED_departures</th>\n",
       "      <th>IP_admissions_total</th>\n",
       "      <th>IP_discharges_total</th>\n",
       "    </tr>\n",
       "  </thead>\n",
       "  <tbody>\n",
       "    <tr>\n",
       "      <th>2018-02-09 00:00:00</th>\n",
       "      <td>NaN</td>\n",
       "      <td>NaN</td>\n",
       "      <td>9.0</td>\n",
       "      <td>1.0</td>\n",
       "    </tr>\n",
       "    <tr>\n",
       "      <th>2018-02-09 01:00:00</th>\n",
       "      <td>NaN</td>\n",
       "      <td>NaN</td>\n",
       "      <td>7.0</td>\n",
       "      <td>1.0</td>\n",
       "    </tr>\n",
       "    <tr>\n",
       "      <th>2018-02-09 02:00:00</th>\n",
       "      <td>NaN</td>\n",
       "      <td>NaN</td>\n",
       "      <td>7.0</td>\n",
       "      <td>3.0</td>\n",
       "    </tr>\n",
       "    <tr>\n",
       "      <th>2018-02-09 03:00:00</th>\n",
       "      <td>NaN</td>\n",
       "      <td>NaN</td>\n",
       "      <td>3.0</td>\n",
       "      <td>4.0</td>\n",
       "    </tr>\n",
       "    <tr>\n",
       "      <th>2018-02-09 04:00:00</th>\n",
       "      <td>NaN</td>\n",
       "      <td>NaN</td>\n",
       "      <td>3.0</td>\n",
       "      <td>NaN</td>\n",
       "    </tr>\n",
       "    <tr>\n",
       "      <th>2018-02-09 05:00:00</th>\n",
       "      <td>NaN</td>\n",
       "      <td>NaN</td>\n",
       "      <td>5.0</td>\n",
       "      <td>NaN</td>\n",
       "    </tr>\n",
       "    <tr>\n",
       "      <th>2018-02-09 06:00:00</th>\n",
       "      <td>NaN</td>\n",
       "      <td>NaN</td>\n",
       "      <td>27.0</td>\n",
       "      <td>1.0</td>\n",
       "    </tr>\n",
       "    <tr>\n",
       "      <th>2018-02-09 07:00:00</th>\n",
       "      <td>NaN</td>\n",
       "      <td>NaN</td>\n",
       "      <td>31.0</td>\n",
       "      <td>1.0</td>\n",
       "    </tr>\n",
       "    <tr>\n",
       "      <th>2018-02-09 08:00:00</th>\n",
       "      <td>NaN</td>\n",
       "      <td>1.0</td>\n",
       "      <td>20.0</td>\n",
       "      <td>6.0</td>\n",
       "    </tr>\n",
       "    <tr>\n",
       "      <th>2018-02-09 09:00:00</th>\n",
       "      <td>NaN</td>\n",
       "      <td>NaN</td>\n",
       "      <td>16.0</td>\n",
       "      <td>7.0</td>\n",
       "    </tr>\n",
       "    <tr>\n",
       "      <th>2018-02-09 10:00:00</th>\n",
       "      <td>NaN</td>\n",
       "      <td>1.0</td>\n",
       "      <td>20.0</td>\n",
       "      <td>21.0</td>\n",
       "    </tr>\n",
       "    <tr>\n",
       "      <th>2018-02-09 11:00:00</th>\n",
       "      <td>1.0</td>\n",
       "      <td>NaN</td>\n",
       "      <td>15.0</td>\n",
       "      <td>18.0</td>\n",
       "    </tr>\n",
       "    <tr>\n",
       "      <th>2018-02-09 12:00:00</th>\n",
       "      <td>NaN</td>\n",
       "      <td>NaN</td>\n",
       "      <td>18.0</td>\n",
       "      <td>27.0</td>\n",
       "    </tr>\n",
       "    <tr>\n",
       "      <th>2018-02-09 13:00:00</th>\n",
       "      <td>NaN</td>\n",
       "      <td>NaN</td>\n",
       "      <td>22.0</td>\n",
       "      <td>33.0</td>\n",
       "    </tr>\n",
       "    <tr>\n",
       "      <th>2018-02-09 14:00:00</th>\n",
       "      <td>NaN</td>\n",
       "      <td>NaN</td>\n",
       "      <td>18.0</td>\n",
       "      <td>36.0</td>\n",
       "    </tr>\n",
       "    <tr>\n",
       "      <th>2018-02-09 15:00:00</th>\n",
       "      <td>NaN</td>\n",
       "      <td>NaN</td>\n",
       "      <td>12.0</td>\n",
       "      <td>35.0</td>\n",
       "    </tr>\n",
       "    <tr>\n",
       "      <th>2018-02-09 16:00:00</th>\n",
       "      <td>NaN</td>\n",
       "      <td>NaN</td>\n",
       "      <td>25.0</td>\n",
       "      <td>37.0</td>\n",
       "    </tr>\n",
       "    <tr>\n",
       "      <th>2018-02-09 17:00:00</th>\n",
       "      <td>NaN</td>\n",
       "      <td>NaN</td>\n",
       "      <td>19.0</td>\n",
       "      <td>27.0</td>\n",
       "    </tr>\n",
       "    <tr>\n",
       "      <th>2018-02-09 18:00:00</th>\n",
       "      <td>NaN</td>\n",
       "      <td>1.0</td>\n",
       "      <td>10.0</td>\n",
       "      <td>30.0</td>\n",
       "    </tr>\n",
       "    <tr>\n",
       "      <th>2018-02-09 19:00:00</th>\n",
       "      <td>NaN</td>\n",
       "      <td>1.0</td>\n",
       "      <td>12.0</td>\n",
       "      <td>17.0</td>\n",
       "    </tr>\n",
       "    <tr>\n",
       "      <th>2018-02-09 20:00:00</th>\n",
       "      <td>NaN</td>\n",
       "      <td>NaN</td>\n",
       "      <td>6.0</td>\n",
       "      <td>10.0</td>\n",
       "    </tr>\n",
       "    <tr>\n",
       "      <th>2018-02-09 21:00:00</th>\n",
       "      <td>NaN</td>\n",
       "      <td>1.0</td>\n",
       "      <td>8.0</td>\n",
       "      <td>7.0</td>\n",
       "    </tr>\n",
       "    <tr>\n",
       "      <th>2018-02-09 22:00:00</th>\n",
       "      <td>NaN</td>\n",
       "      <td>1.0</td>\n",
       "      <td>7.0</td>\n",
       "      <td>3.0</td>\n",
       "    </tr>\n",
       "    <tr>\n",
       "      <th>2018-02-09 23:00:00</th>\n",
       "      <td>NaN</td>\n",
       "      <td>NaN</td>\n",
       "      <td>8.0</td>\n",
       "      <td>1.0</td>\n",
       "    </tr>\n",
       "    <tr>\n",
       "      <th>2018-02-10 00:00:00</th>\n",
       "      <td>NaN</td>\n",
       "      <td>NaN</td>\n",
       "      <td>8.0</td>\n",
       "      <td>1.0</td>\n",
       "    </tr>\n",
       "    <tr>\n",
       "      <th>2018-02-10 01:00:00</th>\n",
       "      <td>NaN</td>\n",
       "      <td>1.0</td>\n",
       "      <td>7.0</td>\n",
       "      <td>NaN</td>\n",
       "    </tr>\n",
       "    <tr>\n",
       "      <th>2018-02-10 02:00:00</th>\n",
       "      <td>NaN</td>\n",
       "      <td>NaN</td>\n",
       "      <td>4.0</td>\n",
       "      <td>3.0</td>\n",
       "    </tr>\n",
       "    <tr>\n",
       "      <th>2018-02-10 03:00:00</th>\n",
       "      <td>NaN</td>\n",
       "      <td>NaN</td>\n",
       "      <td>7.0</td>\n",
       "      <td>NaN</td>\n",
       "    </tr>\n",
       "    <tr>\n",
       "      <th>2018-02-10 04:00:00</th>\n",
       "      <td>NaN</td>\n",
       "      <td>NaN</td>\n",
       "      <td>6.0</td>\n",
       "      <td>NaN</td>\n",
       "    </tr>\n",
       "    <tr>\n",
       "      <th>2018-02-10 05:00:00</th>\n",
       "      <td>NaN</td>\n",
       "      <td>NaN</td>\n",
       "      <td>5.0</td>\n",
       "      <td>2.0</td>\n",
       "    </tr>\n",
       "    <tr>\n",
       "      <th>...</th>\n",
       "      <td>...</td>\n",
       "      <td>...</td>\n",
       "      <td>...</td>\n",
       "      <td>...</td>\n",
       "    </tr>\n",
       "    <tr>\n",
       "      <th>2018-09-27 19:00:00</th>\n",
       "      <td>NaN</td>\n",
       "      <td>NaN</td>\n",
       "      <td>NaN</td>\n",
       "      <td>NaN</td>\n",
       "    </tr>\n",
       "    <tr>\n",
       "      <th>2018-09-27 20:00:00</th>\n",
       "      <td>NaN</td>\n",
       "      <td>NaN</td>\n",
       "      <td>NaN</td>\n",
       "      <td>NaN</td>\n",
       "    </tr>\n",
       "    <tr>\n",
       "      <th>2018-09-27 21:00:00</th>\n",
       "      <td>NaN</td>\n",
       "      <td>NaN</td>\n",
       "      <td>NaN</td>\n",
       "      <td>NaN</td>\n",
       "    </tr>\n",
       "    <tr>\n",
       "      <th>2018-09-27 22:00:00</th>\n",
       "      <td>NaN</td>\n",
       "      <td>NaN</td>\n",
       "      <td>NaN</td>\n",
       "      <td>NaN</td>\n",
       "    </tr>\n",
       "    <tr>\n",
       "      <th>2018-09-27 23:00:00</th>\n",
       "      <td>NaN</td>\n",
       "      <td>NaN</td>\n",
       "      <td>NaN</td>\n",
       "      <td>NaN</td>\n",
       "    </tr>\n",
       "    <tr>\n",
       "      <th>2018-09-28 00:00:00</th>\n",
       "      <td>NaN</td>\n",
       "      <td>NaN</td>\n",
       "      <td>NaN</td>\n",
       "      <td>NaN</td>\n",
       "    </tr>\n",
       "    <tr>\n",
       "      <th>2018-09-28 01:00:00</th>\n",
       "      <td>NaN</td>\n",
       "      <td>NaN</td>\n",
       "      <td>NaN</td>\n",
       "      <td>NaN</td>\n",
       "    </tr>\n",
       "    <tr>\n",
       "      <th>2018-09-28 02:00:00</th>\n",
       "      <td>NaN</td>\n",
       "      <td>NaN</td>\n",
       "      <td>NaN</td>\n",
       "      <td>NaN</td>\n",
       "    </tr>\n",
       "    <tr>\n",
       "      <th>2018-09-28 03:00:00</th>\n",
       "      <td>NaN</td>\n",
       "      <td>NaN</td>\n",
       "      <td>NaN</td>\n",
       "      <td>NaN</td>\n",
       "    </tr>\n",
       "    <tr>\n",
       "      <th>2018-09-28 04:00:00</th>\n",
       "      <td>NaN</td>\n",
       "      <td>NaN</td>\n",
       "      <td>NaN</td>\n",
       "      <td>NaN</td>\n",
       "    </tr>\n",
       "    <tr>\n",
       "      <th>2018-09-28 05:00:00</th>\n",
       "      <td>NaN</td>\n",
       "      <td>NaN</td>\n",
       "      <td>NaN</td>\n",
       "      <td>NaN</td>\n",
       "    </tr>\n",
       "    <tr>\n",
       "      <th>2018-09-28 06:00:00</th>\n",
       "      <td>NaN</td>\n",
       "      <td>NaN</td>\n",
       "      <td>NaN</td>\n",
       "      <td>NaN</td>\n",
       "    </tr>\n",
       "    <tr>\n",
       "      <th>2018-09-28 07:00:00</th>\n",
       "      <td>NaN</td>\n",
       "      <td>NaN</td>\n",
       "      <td>NaN</td>\n",
       "      <td>NaN</td>\n",
       "    </tr>\n",
       "    <tr>\n",
       "      <th>2018-09-28 08:00:00</th>\n",
       "      <td>NaN</td>\n",
       "      <td>NaN</td>\n",
       "      <td>NaN</td>\n",
       "      <td>NaN</td>\n",
       "    </tr>\n",
       "    <tr>\n",
       "      <th>2018-09-28 09:00:00</th>\n",
       "      <td>NaN</td>\n",
       "      <td>NaN</td>\n",
       "      <td>NaN</td>\n",
       "      <td>NaN</td>\n",
       "    </tr>\n",
       "    <tr>\n",
       "      <th>2018-09-28 10:00:00</th>\n",
       "      <td>NaN</td>\n",
       "      <td>NaN</td>\n",
       "      <td>NaN</td>\n",
       "      <td>NaN</td>\n",
       "    </tr>\n",
       "    <tr>\n",
       "      <th>2018-09-28 11:00:00</th>\n",
       "      <td>NaN</td>\n",
       "      <td>NaN</td>\n",
       "      <td>NaN</td>\n",
       "      <td>NaN</td>\n",
       "    </tr>\n",
       "    <tr>\n",
       "      <th>2018-09-28 12:00:00</th>\n",
       "      <td>NaN</td>\n",
       "      <td>NaN</td>\n",
       "      <td>NaN</td>\n",
       "      <td>NaN</td>\n",
       "    </tr>\n",
       "    <tr>\n",
       "      <th>2018-09-28 13:00:00</th>\n",
       "      <td>NaN</td>\n",
       "      <td>NaN</td>\n",
       "      <td>NaN</td>\n",
       "      <td>NaN</td>\n",
       "    </tr>\n",
       "    <tr>\n",
       "      <th>2018-09-28 14:00:00</th>\n",
       "      <td>NaN</td>\n",
       "      <td>NaN</td>\n",
       "      <td>NaN</td>\n",
       "      <td>NaN</td>\n",
       "    </tr>\n",
       "    <tr>\n",
       "      <th>2018-09-28 15:00:00</th>\n",
       "      <td>NaN</td>\n",
       "      <td>NaN</td>\n",
       "      <td>NaN</td>\n",
       "      <td>1.0</td>\n",
       "    </tr>\n",
       "    <tr>\n",
       "      <th>2018-09-28 16:00:00</th>\n",
       "      <td>NaN</td>\n",
       "      <td>NaN</td>\n",
       "      <td>NaN</td>\n",
       "      <td>NaN</td>\n",
       "    </tr>\n",
       "    <tr>\n",
       "      <th>2018-09-28 17:00:00</th>\n",
       "      <td>NaN</td>\n",
       "      <td>NaN</td>\n",
       "      <td>NaN</td>\n",
       "      <td>NaN</td>\n",
       "    </tr>\n",
       "    <tr>\n",
       "      <th>2018-09-28 18:00:00</th>\n",
       "      <td>NaN</td>\n",
       "      <td>NaN</td>\n",
       "      <td>NaN</td>\n",
       "      <td>NaN</td>\n",
       "    </tr>\n",
       "    <tr>\n",
       "      <th>2018-09-28 19:00:00</th>\n",
       "      <td>NaN</td>\n",
       "      <td>NaN</td>\n",
       "      <td>NaN</td>\n",
       "      <td>NaN</td>\n",
       "    </tr>\n",
       "    <tr>\n",
       "      <th>2018-09-28 20:00:00</th>\n",
       "      <td>NaN</td>\n",
       "      <td>NaN</td>\n",
       "      <td>NaN</td>\n",
       "      <td>NaN</td>\n",
       "    </tr>\n",
       "    <tr>\n",
       "      <th>2018-09-28 21:00:00</th>\n",
       "      <td>NaN</td>\n",
       "      <td>NaN</td>\n",
       "      <td>NaN</td>\n",
       "      <td>NaN</td>\n",
       "    </tr>\n",
       "    <tr>\n",
       "      <th>2018-09-28 22:00:00</th>\n",
       "      <td>NaN</td>\n",
       "      <td>NaN</td>\n",
       "      <td>NaN</td>\n",
       "      <td>NaN</td>\n",
       "    </tr>\n",
       "    <tr>\n",
       "      <th>2018-09-28 23:00:00</th>\n",
       "      <td>NaN</td>\n",
       "      <td>NaN</td>\n",
       "      <td>NaN</td>\n",
       "      <td>NaN</td>\n",
       "    </tr>\n",
       "    <tr>\n",
       "      <th>2018-09-29 00:00:00</th>\n",
       "      <td>NaN</td>\n",
       "      <td>NaN</td>\n",
       "      <td>NaN</td>\n",
       "      <td>NaN</td>\n",
       "    </tr>\n",
       "  </tbody>\n",
       "</table>\n",
       "<p>5569 rows × 4 columns</p>\n",
       "</div>"
      ],
      "text/plain": [
       "                     ED_arrivals  ED_departures  IP_admissions_total  \\\n",
       "2018-02-09 00:00:00          NaN            NaN                  9.0   \n",
       "2018-02-09 01:00:00          NaN            NaN                  7.0   \n",
       "2018-02-09 02:00:00          NaN            NaN                  7.0   \n",
       "2018-02-09 03:00:00          NaN            NaN                  3.0   \n",
       "2018-02-09 04:00:00          NaN            NaN                  3.0   \n",
       "2018-02-09 05:00:00          NaN            NaN                  5.0   \n",
       "2018-02-09 06:00:00          NaN            NaN                 27.0   \n",
       "2018-02-09 07:00:00          NaN            NaN                 31.0   \n",
       "2018-02-09 08:00:00          NaN            1.0                 20.0   \n",
       "2018-02-09 09:00:00          NaN            NaN                 16.0   \n",
       "2018-02-09 10:00:00          NaN            1.0                 20.0   \n",
       "2018-02-09 11:00:00          1.0            NaN                 15.0   \n",
       "2018-02-09 12:00:00          NaN            NaN                 18.0   \n",
       "2018-02-09 13:00:00          NaN            NaN                 22.0   \n",
       "2018-02-09 14:00:00          NaN            NaN                 18.0   \n",
       "2018-02-09 15:00:00          NaN            NaN                 12.0   \n",
       "2018-02-09 16:00:00          NaN            NaN                 25.0   \n",
       "2018-02-09 17:00:00          NaN            NaN                 19.0   \n",
       "2018-02-09 18:00:00          NaN            1.0                 10.0   \n",
       "2018-02-09 19:00:00          NaN            1.0                 12.0   \n",
       "2018-02-09 20:00:00          NaN            NaN                  6.0   \n",
       "2018-02-09 21:00:00          NaN            1.0                  8.0   \n",
       "2018-02-09 22:00:00          NaN            1.0                  7.0   \n",
       "2018-02-09 23:00:00          NaN            NaN                  8.0   \n",
       "2018-02-10 00:00:00          NaN            NaN                  8.0   \n",
       "2018-02-10 01:00:00          NaN            1.0                  7.0   \n",
       "2018-02-10 02:00:00          NaN            NaN                  4.0   \n",
       "2018-02-10 03:00:00          NaN            NaN                  7.0   \n",
       "2018-02-10 04:00:00          NaN            NaN                  6.0   \n",
       "2018-02-10 05:00:00          NaN            NaN                  5.0   \n",
       "...                          ...            ...                  ...   \n",
       "2018-09-27 19:00:00          NaN            NaN                  NaN   \n",
       "2018-09-27 20:00:00          NaN            NaN                  NaN   \n",
       "2018-09-27 21:00:00          NaN            NaN                  NaN   \n",
       "2018-09-27 22:00:00          NaN            NaN                  NaN   \n",
       "2018-09-27 23:00:00          NaN            NaN                  NaN   \n",
       "2018-09-28 00:00:00          NaN            NaN                  NaN   \n",
       "2018-09-28 01:00:00          NaN            NaN                  NaN   \n",
       "2018-09-28 02:00:00          NaN            NaN                  NaN   \n",
       "2018-09-28 03:00:00          NaN            NaN                  NaN   \n",
       "2018-09-28 04:00:00          NaN            NaN                  NaN   \n",
       "2018-09-28 05:00:00          NaN            NaN                  NaN   \n",
       "2018-09-28 06:00:00          NaN            NaN                  NaN   \n",
       "2018-09-28 07:00:00          NaN            NaN                  NaN   \n",
       "2018-09-28 08:00:00          NaN            NaN                  NaN   \n",
       "2018-09-28 09:00:00          NaN            NaN                  NaN   \n",
       "2018-09-28 10:00:00          NaN            NaN                  NaN   \n",
       "2018-09-28 11:00:00          NaN            NaN                  NaN   \n",
       "2018-09-28 12:00:00          NaN            NaN                  NaN   \n",
       "2018-09-28 13:00:00          NaN            NaN                  NaN   \n",
       "2018-09-28 14:00:00          NaN            NaN                  NaN   \n",
       "2018-09-28 15:00:00          NaN            NaN                  NaN   \n",
       "2018-09-28 16:00:00          NaN            NaN                  NaN   \n",
       "2018-09-28 17:00:00          NaN            NaN                  NaN   \n",
       "2018-09-28 18:00:00          NaN            NaN                  NaN   \n",
       "2018-09-28 19:00:00          NaN            NaN                  NaN   \n",
       "2018-09-28 20:00:00          NaN            NaN                  NaN   \n",
       "2018-09-28 21:00:00          NaN            NaN                  NaN   \n",
       "2018-09-28 22:00:00          NaN            NaN                  NaN   \n",
       "2018-09-28 23:00:00          NaN            NaN                  NaN   \n",
       "2018-09-29 00:00:00          NaN            NaN                  NaN   \n",
       "\n",
       "                     IP_discharges_total  \n",
       "2018-02-09 00:00:00                  1.0  \n",
       "2018-02-09 01:00:00                  1.0  \n",
       "2018-02-09 02:00:00                  3.0  \n",
       "2018-02-09 03:00:00                  4.0  \n",
       "2018-02-09 04:00:00                  NaN  \n",
       "2018-02-09 05:00:00                  NaN  \n",
       "2018-02-09 06:00:00                  1.0  \n",
       "2018-02-09 07:00:00                  1.0  \n",
       "2018-02-09 08:00:00                  6.0  \n",
       "2018-02-09 09:00:00                  7.0  \n",
       "2018-02-09 10:00:00                 21.0  \n",
       "2018-02-09 11:00:00                 18.0  \n",
       "2018-02-09 12:00:00                 27.0  \n",
       "2018-02-09 13:00:00                 33.0  \n",
       "2018-02-09 14:00:00                 36.0  \n",
       "2018-02-09 15:00:00                 35.0  \n",
       "2018-02-09 16:00:00                 37.0  \n",
       "2018-02-09 17:00:00                 27.0  \n",
       "2018-02-09 18:00:00                 30.0  \n",
       "2018-02-09 19:00:00                 17.0  \n",
       "2018-02-09 20:00:00                 10.0  \n",
       "2018-02-09 21:00:00                  7.0  \n",
       "2018-02-09 22:00:00                  3.0  \n",
       "2018-02-09 23:00:00                  1.0  \n",
       "2018-02-10 00:00:00                  1.0  \n",
       "2018-02-10 01:00:00                  NaN  \n",
       "2018-02-10 02:00:00                  3.0  \n",
       "2018-02-10 03:00:00                  NaN  \n",
       "2018-02-10 04:00:00                  NaN  \n",
       "2018-02-10 05:00:00                  2.0  \n",
       "...                                  ...  \n",
       "2018-09-27 19:00:00                  NaN  \n",
       "2018-09-27 20:00:00                  NaN  \n",
       "2018-09-27 21:00:00                  NaN  \n",
       "2018-09-27 22:00:00                  NaN  \n",
       "2018-09-27 23:00:00                  NaN  \n",
       "2018-09-28 00:00:00                  NaN  \n",
       "2018-09-28 01:00:00                  NaN  \n",
       "2018-09-28 02:00:00                  NaN  \n",
       "2018-09-28 03:00:00                  NaN  \n",
       "2018-09-28 04:00:00                  NaN  \n",
       "2018-09-28 05:00:00                  NaN  \n",
       "2018-09-28 06:00:00                  NaN  \n",
       "2018-09-28 07:00:00                  NaN  \n",
       "2018-09-28 08:00:00                  NaN  \n",
       "2018-09-28 09:00:00                  NaN  \n",
       "2018-09-28 10:00:00                  NaN  \n",
       "2018-09-28 11:00:00                  NaN  \n",
       "2018-09-28 12:00:00                  NaN  \n",
       "2018-09-28 13:00:00                  NaN  \n",
       "2018-09-28 14:00:00                  NaN  \n",
       "2018-09-28 15:00:00                  1.0  \n",
       "2018-09-28 16:00:00                  NaN  \n",
       "2018-09-28 17:00:00                  NaN  \n",
       "2018-09-28 18:00:00                  NaN  \n",
       "2018-09-28 19:00:00                  NaN  \n",
       "2018-09-28 20:00:00                  NaN  \n",
       "2018-09-28 21:00:00                  NaN  \n",
       "2018-09-28 22:00:00                  NaN  \n",
       "2018-09-28 23:00:00                  NaN  \n",
       "2018-09-29 00:00:00                  NaN  \n",
       "\n",
       "[5569 rows x 4 columns]"
      ]
     },
     "execution_count": 16,
     "metadata": {},
     "output_type": "execute_result"
    }
   ],
   "source": [
    "hosp.data.HOURLY"
   ]
  },
  {
   "cell_type": "code",
   "execution_count": 15,
   "metadata": {},
   "outputs": [
    {
     "data": {
      "text/plain": [
       "<matplotlib.axes._subplots.AxesSubplot at 0x16f25211a58>"
      ]
     },
     "execution_count": 15,
     "metadata": {},
     "output_type": "execute_result"
    },
    {
     "data": {
      "image/png": "[encoded data removed]",
      "text/plain": [
       "<matplotlib.figure.Figure at 0x16f247d7208>"
      ]
     },
     "metadata": {},
     "output_type": "display_data"
    }
   ],
   "source": [
    "hosp.data.HOURLY.plot()"
   ]
  },
  {
   "cell_type": "code",
   "execution_count": 16,
   "metadata": {},
   "outputs": [
    {
     "data": {
      "text/plain": [
       "(28382, 42)"
      ]
     },
     "execution_count": 16,
     "metadata": {},
     "output_type": "execute_result"
    }
   ],
   "source": [
    "hosp.data.ED.shape"
   ]
  },
  {
   "cell_type": "code",
   "execution_count": 17,
   "metadata": {},
   "outputs": [
    {
     "data": {
      "text/html": [
       "<div>\n",
       "<style scoped>\n",
       "    .dataframe tbody tr th:only-of-type {\n",
       "        vertical-align: middle;\n",
       "    }\n",
       "\n",
       "    .dataframe tbody tr th {\n",
       "        vertical-align: top;\n",
       "    }\n",
       "\n",
       "    .dataframe thead th {\n",
       "        text-align: right;\n",
       "    }\n",
       "</style>\n",
       "<table border=\"1\" class=\"dataframe\">\n",
       "  <thead>\n",
       "    <tr style=\"text-align: right;\">\n",
       "      <th></th>\n",
       "      <th>ED_arrivals</th>\n",
       "      <th>ED_departures</th>\n",
       "      <th>IP_admissions_total</th>\n",
       "      <th>IP_discharges_total</th>\n",
       "    </tr>\n",
       "  </thead>\n",
       "  <tbody>\n",
       "    <tr>\n",
       "      <th>NaT</th>\n",
       "      <td>NaN</td>\n",
       "      <td>NaN</td>\n",
       "      <td>NaN</td>\n",
       "      <td>18.0</td>\n",
       "    </tr>\n",
       "    <tr>\n",
       "      <th>2012-07-30 12:00:00</th>\n",
       "      <td>1.0</td>\n",
       "      <td>NaN</td>\n",
       "      <td>NaN</td>\n",
       "      <td>NaN</td>\n",
       "    </tr>\n",
       "    <tr>\n",
       "      <th>2012-07-30 13:00:00</th>\n",
       "      <td>1.0</td>\n",
       "      <td>NaN</td>\n",
       "      <td>NaN</td>\n",
       "      <td>NaN</td>\n",
       "    </tr>\n",
       "    <tr>\n",
       "      <th>2012-07-30 14:00:00</th>\n",
       "      <td>NaN</td>\n",
       "      <td>1.0</td>\n",
       "      <td>NaN</td>\n",
       "      <td>NaN</td>\n",
       "    </tr>\n",
       "    <tr>\n",
       "      <th>2012-07-30 16:00:00</th>\n",
       "      <td>1.0</td>\n",
       "      <td>NaN</td>\n",
       "      <td>NaN</td>\n",
       "      <td>NaN</td>\n",
       "    </tr>\n",
       "    <tr>\n",
       "      <th>2012-07-30 18:00:00</th>\n",
       "      <td>1.0</td>\n",
       "      <td>NaN</td>\n",
       "      <td>NaN</td>\n",
       "      <td>NaN</td>\n",
       "    </tr>\n",
       "    <tr>\n",
       "      <th>2012-07-30 20:00:00</th>\n",
       "      <td>NaN</td>\n",
       "      <td>1.0</td>\n",
       "      <td>NaN</td>\n",
       "      <td>NaN</td>\n",
       "    </tr>\n",
       "    <tr>\n",
       "      <th>2012-07-31 00:00:00</th>\n",
       "      <td>1.0</td>\n",
       "      <td>NaN</td>\n",
       "      <td>NaN</td>\n",
       "      <td>NaN</td>\n",
       "    </tr>\n",
       "    <tr>\n",
       "      <th>2012-07-31 05:00:00</th>\n",
       "      <td>NaN</td>\n",
       "      <td>1.0</td>\n",
       "      <td>NaN</td>\n",
       "      <td>NaN</td>\n",
       "    </tr>\n",
       "    <tr>\n",
       "      <th>2012-07-31 10:00:00</th>\n",
       "      <td>NaN</td>\n",
       "      <td>2.0</td>\n",
       "      <td>NaN</td>\n",
       "      <td>NaN</td>\n",
       "    </tr>\n",
       "    <tr>\n",
       "      <th>2012-07-31 13:00:00</th>\n",
       "      <td>NaN</td>\n",
       "      <td>1.0</td>\n",
       "      <td>NaN</td>\n",
       "      <td>NaN</td>\n",
       "    </tr>\n",
       "    <tr>\n",
       "      <th>2012-07-31 14:00:00</th>\n",
       "      <td>NaN</td>\n",
       "      <td>1.0</td>\n",
       "      <td>NaN</td>\n",
       "      <td>NaN</td>\n",
       "    </tr>\n",
       "    <tr>\n",
       "      <th>2012-07-31 15:00:00</th>\n",
       "      <td>NaN</td>\n",
       "      <td>1.0</td>\n",
       "      <td>NaN</td>\n",
       "      <td>NaN</td>\n",
       "    </tr>\n",
       "    <tr>\n",
       "      <th>2012-07-31 17:00:00</th>\n",
       "      <td>1.0</td>\n",
       "      <td>NaN</td>\n",
       "      <td>NaN</td>\n",
       "      <td>NaN</td>\n",
       "    </tr>\n",
       "    <tr>\n",
       "      <th>2012-07-31 20:00:00</th>\n",
       "      <td>NaN</td>\n",
       "      <td>1.0</td>\n",
       "      <td>NaN</td>\n",
       "      <td>NaN</td>\n",
       "    </tr>\n",
       "    <tr>\n",
       "      <th>2012-07-31 21:00:00</th>\n",
       "      <td>NaN</td>\n",
       "      <td>1.0</td>\n",
       "      <td>NaN</td>\n",
       "      <td>NaN</td>\n",
       "    </tr>\n",
       "    <tr>\n",
       "      <th>2012-08-01 05:00:00</th>\n",
       "      <td>1.0</td>\n",
       "      <td>NaN</td>\n",
       "      <td>NaN</td>\n",
       "      <td>NaN</td>\n",
       "    </tr>\n",
       "    <tr>\n",
       "      <th>2012-08-01 08:00:00</th>\n",
       "      <td>2.0</td>\n",
       "      <td>NaN</td>\n",
       "      <td>NaN</td>\n",
       "      <td>NaN</td>\n",
       "    </tr>\n",
       "    <tr>\n",
       "      <th>2012-08-01 09:00:00</th>\n",
       "      <td>1.0</td>\n",
       "      <td>1.0</td>\n",
       "      <td>NaN</td>\n",
       "      <td>NaN</td>\n",
       "    </tr>\n",
       "    <tr>\n",
       "      <th>2012-08-01 10:00:00</th>\n",
       "      <td>2.0</td>\n",
       "      <td>1.0</td>\n",
       "      <td>NaN</td>\n",
       "      <td>NaN</td>\n",
       "    </tr>\n",
       "    <tr>\n",
       "      <th>2012-08-01 11:00:00</th>\n",
       "      <td>2.0</td>\n",
       "      <td>NaN</td>\n",
       "      <td>NaN</td>\n",
       "      <td>NaN</td>\n",
       "    </tr>\n",
       "    <tr>\n",
       "      <th>2012-08-01 12:00:00</th>\n",
       "      <td>2.0</td>\n",
       "      <td>NaN</td>\n",
       "      <td>NaN</td>\n",
       "      <td>NaN</td>\n",
       "    </tr>\n",
       "    <tr>\n",
       "      <th>2012-08-01 13:00:00</th>\n",
       "      <td>NaN</td>\n",
       "      <td>1.0</td>\n",
       "      <td>NaN</td>\n",
       "      <td>NaN</td>\n",
       "    </tr>\n",
       "    <tr>\n",
       "      <th>2012-08-01 14:00:00</th>\n",
       "      <td>1.0</td>\n",
       "      <td>NaN</td>\n",
       "      <td>NaN</td>\n",
       "      <td>NaN</td>\n",
       "    </tr>\n",
       "    <tr>\n",
       "      <th>2012-08-01 15:00:00</th>\n",
       "      <td>1.0</td>\n",
       "      <td>1.0</td>\n",
       "      <td>NaN</td>\n",
       "      <td>NaN</td>\n",
       "    </tr>\n",
       "    <tr>\n",
       "      <th>2012-08-01 19:00:00</th>\n",
       "      <td>2.0</td>\n",
       "      <td>NaN</td>\n",
       "      <td>NaN</td>\n",
       "      <td>NaN</td>\n",
       "    </tr>\n",
       "    <tr>\n",
       "      <th>2012-08-01 20:00:00</th>\n",
       "      <td>NaN</td>\n",
       "      <td>1.0</td>\n",
       "      <td>NaN</td>\n",
       "      <td>NaN</td>\n",
       "    </tr>\n",
       "    <tr>\n",
       "      <th>2012-08-01 21:00:00</th>\n",
       "      <td>NaN</td>\n",
       "      <td>1.0</td>\n",
       "      <td>NaN</td>\n",
       "      <td>NaN</td>\n",
       "    </tr>\n",
       "    <tr>\n",
       "      <th>2012-08-01 23:00:00</th>\n",
       "      <td>NaN</td>\n",
       "      <td>1.0</td>\n",
       "      <td>NaN</td>\n",
       "      <td>NaN</td>\n",
       "    </tr>\n",
       "    <tr>\n",
       "      <th>2012-08-02 02:00:00</th>\n",
       "      <td>1.0</td>\n",
       "      <td>NaN</td>\n",
       "      <td>NaN</td>\n",
       "      <td>NaN</td>\n",
       "    </tr>\n",
       "    <tr>\n",
       "      <th>...</th>\n",
       "      <td>...</td>\n",
       "      <td>...</td>\n",
       "      <td>...</td>\n",
       "      <td>...</td>\n",
       "    </tr>\n",
       "    <tr>\n",
       "      <th>2018-08-22 09:00:00</th>\n",
       "      <td>NaN</td>\n",
       "      <td>NaN</td>\n",
       "      <td>NaN</td>\n",
       "      <td>1.0</td>\n",
       "    </tr>\n",
       "    <tr>\n",
       "      <th>2018-08-22 11:00:00</th>\n",
       "      <td>NaN</td>\n",
       "      <td>NaN</td>\n",
       "      <td>NaN</td>\n",
       "      <td>1.0</td>\n",
       "    </tr>\n",
       "    <tr>\n",
       "      <th>2018-08-23 09:00:00</th>\n",
       "      <td>NaN</td>\n",
       "      <td>NaN</td>\n",
       "      <td>NaN</td>\n",
       "      <td>1.0</td>\n",
       "    </tr>\n",
       "    <tr>\n",
       "      <th>2018-08-26 16:00:00</th>\n",
       "      <td>NaN</td>\n",
       "      <td>NaN</td>\n",
       "      <td>NaN</td>\n",
       "      <td>1.0</td>\n",
       "    </tr>\n",
       "    <tr>\n",
       "      <th>2018-08-28 16:00:00</th>\n",
       "      <td>NaN</td>\n",
       "      <td>NaN</td>\n",
       "      <td>NaN</td>\n",
       "      <td>1.0</td>\n",
       "    </tr>\n",
       "    <tr>\n",
       "      <th>2018-08-28 17:00:00</th>\n",
       "      <td>NaN</td>\n",
       "      <td>NaN</td>\n",
       "      <td>NaN</td>\n",
       "      <td>1.0</td>\n",
       "    </tr>\n",
       "    <tr>\n",
       "      <th>2018-09-01 09:00:00</th>\n",
       "      <td>NaN</td>\n",
       "      <td>NaN</td>\n",
       "      <td>NaN</td>\n",
       "      <td>1.0</td>\n",
       "    </tr>\n",
       "    <tr>\n",
       "      <th>2018-09-03 20:00:00</th>\n",
       "      <td>NaN</td>\n",
       "      <td>NaN</td>\n",
       "      <td>1.0</td>\n",
       "      <td>NaN</td>\n",
       "    </tr>\n",
       "    <tr>\n",
       "      <th>2018-09-04 19:00:00</th>\n",
       "      <td>NaN</td>\n",
       "      <td>NaN</td>\n",
       "      <td>NaN</td>\n",
       "      <td>1.0</td>\n",
       "    </tr>\n",
       "    <tr>\n",
       "      <th>2018-09-05 00:00:00</th>\n",
       "      <td>NaN</td>\n",
       "      <td>NaN</td>\n",
       "      <td>NaN</td>\n",
       "      <td>1.0</td>\n",
       "    </tr>\n",
       "    <tr>\n",
       "      <th>2018-09-05 20:00:00</th>\n",
       "      <td>NaN</td>\n",
       "      <td>NaN</td>\n",
       "      <td>NaN</td>\n",
       "      <td>1.0</td>\n",
       "    </tr>\n",
       "    <tr>\n",
       "      <th>2018-09-10 00:00:00</th>\n",
       "      <td>NaN</td>\n",
       "      <td>NaN</td>\n",
       "      <td>NaN</td>\n",
       "      <td>1.0</td>\n",
       "    </tr>\n",
       "    <tr>\n",
       "      <th>2018-09-10 13:00:00</th>\n",
       "      <td>NaN</td>\n",
       "      <td>NaN</td>\n",
       "      <td>NaN</td>\n",
       "      <td>1.0</td>\n",
       "    </tr>\n",
       "    <tr>\n",
       "      <th>2018-09-11 14:00:00</th>\n",
       "      <td>NaN</td>\n",
       "      <td>NaN</td>\n",
       "      <td>NaN</td>\n",
       "      <td>1.0</td>\n",
       "    </tr>\n",
       "    <tr>\n",
       "      <th>2018-09-11 15:00:00</th>\n",
       "      <td>NaN</td>\n",
       "      <td>NaN</td>\n",
       "      <td>NaN</td>\n",
       "      <td>1.0</td>\n",
       "    </tr>\n",
       "    <tr>\n",
       "      <th>2018-09-13 12:00:00</th>\n",
       "      <td>NaN</td>\n",
       "      <td>NaN</td>\n",
       "      <td>NaN</td>\n",
       "      <td>1.0</td>\n",
       "    </tr>\n",
       "    <tr>\n",
       "      <th>2018-09-13 15:00:00</th>\n",
       "      <td>NaN</td>\n",
       "      <td>NaN</td>\n",
       "      <td>NaN</td>\n",
       "      <td>1.0</td>\n",
       "    </tr>\n",
       "    <tr>\n",
       "      <th>2018-09-15 16:00:00</th>\n",
       "      <td>NaN</td>\n",
       "      <td>NaN</td>\n",
       "      <td>NaN</td>\n",
       "      <td>1.0</td>\n",
       "    </tr>\n",
       "    <tr>\n",
       "      <th>2018-09-17 12:00:00</th>\n",
       "      <td>NaN</td>\n",
       "      <td>NaN</td>\n",
       "      <td>NaN</td>\n",
       "      <td>1.0</td>\n",
       "    </tr>\n",
       "    <tr>\n",
       "      <th>2018-09-17 13:00:00</th>\n",
       "      <td>NaN</td>\n",
       "      <td>NaN</td>\n",
       "      <td>NaN</td>\n",
       "      <td>1.0</td>\n",
       "    </tr>\n",
       "    <tr>\n",
       "      <th>2018-09-17 16:00:00</th>\n",
       "      <td>NaN</td>\n",
       "      <td>NaN</td>\n",
       "      <td>NaN</td>\n",
       "      <td>1.0</td>\n",
       "    </tr>\n",
       "    <tr>\n",
       "      <th>2018-09-18 13:00:00</th>\n",
       "      <td>NaN</td>\n",
       "      <td>NaN</td>\n",
       "      <td>NaN</td>\n",
       "      <td>1.0</td>\n",
       "    </tr>\n",
       "    <tr>\n",
       "      <th>2018-09-18 14:00:00</th>\n",
       "      <td>NaN</td>\n",
       "      <td>NaN</td>\n",
       "      <td>NaN</td>\n",
       "      <td>2.0</td>\n",
       "    </tr>\n",
       "    <tr>\n",
       "      <th>2018-09-19 15:00:00</th>\n",
       "      <td>NaN</td>\n",
       "      <td>NaN</td>\n",
       "      <td>NaN</td>\n",
       "      <td>1.0</td>\n",
       "    </tr>\n",
       "    <tr>\n",
       "      <th>2018-09-20 12:00:00</th>\n",
       "      <td>NaN</td>\n",
       "      <td>NaN</td>\n",
       "      <td>NaN</td>\n",
       "      <td>1.0</td>\n",
       "    </tr>\n",
       "    <tr>\n",
       "      <th>2018-09-20 16:00:00</th>\n",
       "      <td>NaN</td>\n",
       "      <td>NaN</td>\n",
       "      <td>NaN</td>\n",
       "      <td>1.0</td>\n",
       "    </tr>\n",
       "    <tr>\n",
       "      <th>2018-09-21 15:00:00</th>\n",
       "      <td>NaN</td>\n",
       "      <td>NaN</td>\n",
       "      <td>NaN</td>\n",
       "      <td>1.0</td>\n",
       "    </tr>\n",
       "    <tr>\n",
       "      <th>2018-09-26 13:00:00</th>\n",
       "      <td>NaN</td>\n",
       "      <td>NaN</td>\n",
       "      <td>NaN</td>\n",
       "      <td>1.0</td>\n",
       "    </tr>\n",
       "    <tr>\n",
       "      <th>2018-09-27 15:00:00</th>\n",
       "      <td>NaN</td>\n",
       "      <td>NaN</td>\n",
       "      <td>NaN</td>\n",
       "      <td>1.0</td>\n",
       "    </tr>\n",
       "    <tr>\n",
       "      <th>2018-09-28 15:00:00</th>\n",
       "      <td>NaN</td>\n",
       "      <td>NaN</td>\n",
       "      <td>NaN</td>\n",
       "      <td>1.0</td>\n",
       "    </tr>\n",
       "  </tbody>\n",
       "</table>\n",
       "<p>37193 rows × 4 columns</p>\n",
       "</div>"
      ],
      "text/plain": [
       "                     ED_arrivals  ED_departures  IP_admissions_total  \\\n",
       "NaT                          NaN            NaN                  NaN   \n",
       "2012-07-30 12:00:00          1.0            NaN                  NaN   \n",
       "2012-07-30 13:00:00          1.0            NaN                  NaN   \n",
       "2012-07-30 14:00:00          NaN            1.0                  NaN   \n",
       "2012-07-30 16:00:00          1.0            NaN                  NaN   \n",
       "2012-07-30 18:00:00          1.0            NaN                  NaN   \n",
       "2012-07-30 20:00:00          NaN            1.0                  NaN   \n",
       "2012-07-31 00:00:00          1.0            NaN                  NaN   \n",
       "2012-07-31 05:00:00          NaN            1.0                  NaN   \n",
       "2012-07-31 10:00:00          NaN            2.0                  NaN   \n",
       "2012-07-31 13:00:00          NaN            1.0                  NaN   \n",
       "2012-07-31 14:00:00          NaN            1.0                  NaN   \n",
       "2012-07-31 15:00:00          NaN            1.0                  NaN   \n",
       "2012-07-31 17:00:00          1.0            NaN                  NaN   \n",
       "2012-07-31 20:00:00          NaN            1.0                  NaN   \n",
       "2012-07-31 21:00:00          NaN            1.0                  NaN   \n",
       "2012-08-01 05:00:00          1.0            NaN                  NaN   \n",
       "2012-08-01 08:00:00          2.0            NaN                  NaN   \n",
       "2012-08-01 09:00:00          1.0            1.0                  NaN   \n",
       "2012-08-01 10:00:00          2.0            1.0                  NaN   \n",
       "2012-08-01 11:00:00          2.0            NaN                  NaN   \n",
       "2012-08-01 12:00:00          2.0            NaN                  NaN   \n",
       "2012-08-01 13:00:00          NaN            1.0                  NaN   \n",
       "2012-08-01 14:00:00          1.0            NaN                  NaN   \n",
       "2012-08-01 15:00:00          1.0            1.0                  NaN   \n",
       "2012-08-01 19:00:00          2.0            NaN                  NaN   \n",
       "2012-08-01 20:00:00          NaN            1.0                  NaN   \n",
       "2012-08-01 21:00:00          NaN            1.0                  NaN   \n",
       "2012-08-01 23:00:00          NaN            1.0                  NaN   \n",
       "2012-08-02 02:00:00          1.0            NaN                  NaN   \n",
       "...                          ...            ...                  ...   \n",
       "2018-08-22 09:00:00          NaN            NaN                  NaN   \n",
       "2018-08-22 11:00:00          NaN            NaN                  NaN   \n",
       "2018-08-23 09:00:00          NaN            NaN                  NaN   \n",
       "2018-08-26 16:00:00          NaN            NaN                  NaN   \n",
       "2018-08-28 16:00:00          NaN            NaN                  NaN   \n",
       "2018-08-28 17:00:00          NaN            NaN                  NaN   \n",
       "2018-09-01 09:00:00          NaN            NaN                  NaN   \n",
       "2018-09-03 20:00:00          NaN            NaN                  1.0   \n",
       "2018-09-04 19:00:00          NaN            NaN                  NaN   \n",
       "2018-09-05 00:00:00          NaN            NaN                  NaN   \n",
       "2018-09-05 20:00:00          NaN            NaN                  NaN   \n",
       "2018-09-10 00:00:00          NaN            NaN                  NaN   \n",
       "2018-09-10 13:00:00          NaN            NaN                  NaN   \n",
       "2018-09-11 14:00:00          NaN            NaN                  NaN   \n",
       "2018-09-11 15:00:00          NaN            NaN                  NaN   \n",
       "2018-09-13 12:00:00          NaN            NaN                  NaN   \n",
       "2018-09-13 15:00:00          NaN            NaN                  NaN   \n",
       "2018-09-15 16:00:00          NaN            NaN                  NaN   \n",
       "2018-09-17 12:00:00          NaN            NaN                  NaN   \n",
       "2018-09-17 13:00:00          NaN            NaN                  NaN   \n",
       "2018-09-17 16:00:00          NaN            NaN                  NaN   \n",
       "2018-09-18 13:00:00          NaN            NaN                  NaN   \n",
       "2018-09-18 14:00:00          NaN            NaN                  NaN   \n",
       "2018-09-19 15:00:00          NaN            NaN                  NaN   \n",
       "2018-09-20 12:00:00          NaN            NaN                  NaN   \n",
       "2018-09-20 16:00:00          NaN            NaN                  NaN   \n",
       "2018-09-21 15:00:00          NaN            NaN                  NaN   \n",
       "2018-09-26 13:00:00          NaN            NaN                  NaN   \n",
       "2018-09-27 15:00:00          NaN            NaN                  NaN   \n",
       "2018-09-28 15:00:00          NaN            NaN                  NaN   \n",
       "\n",
       "                     IP_discharges_total  \n",
       "NaT                                 18.0  \n",
       "2012-07-30 12:00:00                  NaN  \n",
       "2012-07-30 13:00:00                  NaN  \n",
       "2012-07-30 14:00:00                  NaN  \n",
       "2012-07-30 16:00:00                  NaN  \n",
       "2012-07-30 18:00:00                  NaN  \n",
       "2012-07-30 20:00:00                  NaN  \n",
       "2012-07-31 00:00:00                  NaN  \n",
       "2012-07-31 05:00:00                  NaN  \n",
       "2012-07-31 10:00:00                  NaN  \n",
       "2012-07-31 13:00:00                  NaN  \n",
       "2012-07-31 14:00:00                  NaN  \n",
       "2012-07-31 15:00:00                  NaN  \n",
       "2012-07-31 17:00:00                  NaN  \n",
       "2012-07-31 20:00:00                  NaN  \n",
       "2012-07-31 21:00:00                  NaN  \n",
       "2012-08-01 05:00:00                  NaN  \n",
       "2012-08-01 08:00:00                  NaN  \n",
       "2012-08-01 09:00:00                  NaN  \n",
       "2012-08-01 10:00:00                  NaN  \n",
       "2012-08-01 11:00:00                  NaN  \n",
       "2012-08-01 12:00:00                  NaN  \n",
       "2012-08-01 13:00:00                  NaN  \n",
       "2012-08-01 14:00:00                  NaN  \n",
       "2012-08-01 15:00:00                  NaN  \n",
       "2012-08-01 19:00:00                  NaN  \n",
       "2012-08-01 20:00:00                  NaN  \n",
       "2012-08-01 21:00:00                  NaN  \n",
       "2012-08-01 23:00:00                  NaN  \n",
       "2012-08-02 02:00:00                  NaN  \n",
       "...                                  ...  \n",
       "2018-08-22 09:00:00                  1.0  \n",
       "2018-08-22 11:00:00                  1.0  \n",
       "2018-08-23 09:00:00                  1.0  \n",
       "2018-08-26 16:00:00                  1.0  \n",
       "2018-08-28 16:00:00                  1.0  \n",
       "2018-08-28 17:00:00                  1.0  \n",
       "2018-09-01 09:00:00                  1.0  \n",
       "2018-09-03 20:00:00                  NaN  \n",
       "2018-09-04 19:00:00                  1.0  \n",
       "2018-09-05 00:00:00                  1.0  \n",
       "2018-09-05 20:00:00                  1.0  \n",
       "2018-09-10 00:00:00                  1.0  \n",
       "2018-09-10 13:00:00                  1.0  \n",
       "2018-09-11 14:00:00                  1.0  \n",
       "2018-09-11 15:00:00                  1.0  \n",
       "2018-09-13 12:00:00                  1.0  \n",
       "2018-09-13 15:00:00                  1.0  \n",
       "2018-09-15 16:00:00                  1.0  \n",
       "2018-09-17 12:00:00                  1.0  \n",
       "2018-09-17 13:00:00                  1.0  \n",
       "2018-09-17 16:00:00                  1.0  \n",
       "2018-09-18 13:00:00                  1.0  \n",
       "2018-09-18 14:00:00                  2.0  \n",
       "2018-09-19 15:00:00                  1.0  \n",
       "2018-09-20 12:00:00                  1.0  \n",
       "2018-09-20 16:00:00                  1.0  \n",
       "2018-09-21 15:00:00                  1.0  \n",
       "2018-09-26 13:00:00                  1.0  \n",
       "2018-09-27 15:00:00                  1.0  \n",
       "2018-09-28 15:00:00                  1.0  \n",
       "\n",
       "[37193 rows x 4 columns]"
      ]
     },
     "execution_count": 17,
     "metadata": {},
     "output_type": "execute_result"
    }
   ],
   "source": [
    "hosp.data.HOURLY"
   ]
  },
  {
   "cell_type": "code",
   "execution_count": 18,
   "metadata": {},
   "outputs": [
    {
     "data": {
      "text/plain": [
       "(28382, 42)"
      ]
     },
     "execution_count": 18,
     "metadata": {},
     "output_type": "execute_result"
    }
   ],
   "source": [
    "hosp.data.ED.shape"
   ]
  },
  {
   "cell_type": "code",
   "execution_count": null,
   "metadata": {},
   "outputs": [],
   "source": []
  },
  {
   "cell_type": "code",
   "execution_count": null,
   "metadata": {},
   "outputs": [],
   "source": []
  },
  {
   "cell_type": "code",
   "execution_count": 19,
   "metadata": {},
   "outputs": [
    {
     "data": {
      "text/plain": [
       "Index(['PSEUDONYMISED_PATIENT_ID', 'AGE_AT_ARRIVAL',\n",
       "       'GENDER_NATIONAL_DESCRIPTION', 'SITE', 'ARRIVAL_DTTM',\n",
       "       'ARRIVAL_MODE_NATIONAL_CODE', 'TRIAGE_ASSESSMENT_DTTM',\n",
       "       'FIRSTDOC_FOR_TREATMENT_DTTM', 'ADM_REQUEST_DTTM',\n",
       "       'ADM_REQUEST_LOC_DESCRIPTION', 'ADMISSION_FLAG', 'DEPARTURE_DTTM',\n",
       "       'STREAM_LOCAL_CODE', 'ARRIVAL_hour', 'ARRIVAL_dayofweek', 'ARRIVAL_day',\n",
       "       'ARRIVAL_month', 'ARRIVAL_week', 'ARRIVAL_dayofweek_name',\n",
       "       'ARRIVAL_year', 'ARRIVAL_date', 'ARRIVAL_flag_wkend', 'DEPARTURE_hour',\n",
       "       'DEPARTURE_dayofweek', 'DEPARTURE_day', 'DEPARTURE_month',\n",
       "       'DEPARTURE_week', 'DEPARTURE_dayofweek_name', 'DEPARTURE_year',\n",
       "       'DEPARTURE_date', 'DEPARTURE_flag_wkend', 'age_group', 'waiting_time',\n",
       "       'arr_triage_wait', 'arr_dr_wait', 'arr_adm_req_wait',\n",
       "       'adm_req_dep_wait', 'dr_adm_req_wait', 'dr_dep_wait', 'BREACH_FLAG',\n",
       "       'breach_datetime', 'event_column_name_rounded'],\n",
       "      dtype='object')"
      ]
     },
     "execution_count": 19,
     "metadata": {},
     "output_type": "execute_result"
    }
   ],
   "source": [
    "hosp.data.ED.columns"
   ]
  },
  {
   "cell_type": "code",
   "execution_count": 20,
   "metadata": {},
   "outputs": [],
   "source": [
    "def count_hourly_occupancy(df,arrival_col,departure_col,count_name):\n",
    "    \"\"\"\n",
    "    inputs:\n",
    "    df with attendance number as index,\n",
    "    arrival, departure datetime col names (must be datetime format)\n",
    "    ouptut:\n",
    "    df, contains many-to-many link between the arrival_\n",
    "    \"\"\"\n",
    "    df1 = df[[arrival_col,departure_col]].head(1000).copy()\n",
    "    df1[arrival_col] = df1[arrival_col].apply(lambda x : x.replace(second=0,minute=0)) # round arrival hour down\n",
    "    df1[departure_col] = df1[departure_col].apply(lambda x : x.replace(second=0,minute=0)) +pd.Timedelta(hours=1) # round leaving tim up\n",
    "    \n",
    "    #### create col with number of hours active \n",
    "    df1['n_hours'] = ((df1[departure_col] - df1[arrival_col])/pd.Timedelta(1,'h')).astype(int)\n",
    "    df1 = df1.drop(df1[df1['n_hours'] <=0].index) # must drop the negative n_hour rows as otherwise messes up my size of array initilisation (was getting an error that the index i was assinging to in ids was out of bounds).\n",
    "    \n",
    "    #### time efficient (i hope) function for cycling through and finding all combinations of active hours for attednaces - create a (long format) list of links between attendance numbers and \n",
    "\n",
    "    # function for list comp which finds list of datetimes (for each hour)\n",
    "    date_func = lambda datetime , offset : datetime + pd.Timedelta(offset,'h')\n",
    "\n",
    "    # iterate over rows in df\n",
    "    df1 = df1.reset_index() # reset so have the new index to itereate over\n",
    "\n",
    "    ids = np.empty(shape=(df1['n_hours'].sum()),dtype='int64') # initilise array - change to np.empty() to speed up\n",
    "    timestamps = np.empty(shape=(df1['n_hours'].sum()),dtype='datetime64[s]')\n",
    "    row_count = 0\n",
    "\n",
    "    for row in df1.itertuples():\n",
    "        atten_id = [row[1]]\n",
    "        hour_list = [date_func(row[2],i) for i in np.arange(row[4])] # creates list of hour datetimes\n",
    "\n",
    "        # create array of list for all combinations of timestamp\n",
    "        for i in itertools.product(atten_id,hour_list):\n",
    "            ids[row_count] = i[0] # assign patient numbers\n",
    "            timestamps[row_count] = i[1]\n",
    "            row_count += 1 # add to row count for new array    \n",
    "    # put into df\n",
    "    data = {'atten_id':ids}\n",
    "    df_new = pd.DataFrame(data=data,index=timestamps)#,columns=[count_name])\n",
    "\n",
    "    return(df_new)\n"
   ]
  },
  {
   "cell_type": "code",
   "execution_count": 21,
   "metadata": {},
   "outputs": [
    {
     "ename": "NameError",
     "evalue": "name 'pd' is not defined",
     "output_type": "error",
     "traceback": [
      "\u001b[1;31m---------------------------------------------------------------------------\u001b[0m",
      "\u001b[1;31mNameError\u001b[0m                                 Traceback (most recent call last)",
      "\u001b[1;32m<ipython-input-21-7aa028a1b43a>\u001b[0m in \u001b[0;36m<module>\u001b[1;34m()\u001b[0m\n\u001b[1;32m----> 1\u001b[1;33m \u001b[0mtest\u001b[0m \u001b[1;33m=\u001b[0m\u001b[0mcount_hourly_occupancy\u001b[0m\u001b[1;33m(\u001b[0m\u001b[0mhosp\u001b[0m\u001b[1;33m.\u001b[0m\u001b[0mdata\u001b[0m\u001b[1;33m.\u001b[0m\u001b[0mED\u001b[0m\u001b[1;33m,\u001b[0m\u001b[1;34m'ARRIVAL_DTTM'\u001b[0m\u001b[1;33m,\u001b[0m\u001b[1;34m'DEPARTURE_DTTM'\u001b[0m\u001b[1;33m,\u001b[0m\u001b[1;34m'test'\u001b[0m\u001b[1;33m)\u001b[0m\u001b[1;33m\u001b[0m\u001b[0m\n\u001b[0m",
      "\u001b[1;32m<ipython-input-20-676b9f5eaa06>\u001b[0m in \u001b[0;36mcount_hourly_occupancy\u001b[1;34m(df, arrival_col, departure_col, count_name)\u001b[0m\n\u001b[0;32m      9\u001b[0m     \u001b[0mdf1\u001b[0m \u001b[1;33m=\u001b[0m \u001b[0mdf\u001b[0m\u001b[1;33m[\u001b[0m\u001b[1;33m[\u001b[0m\u001b[0marrival_col\u001b[0m\u001b[1;33m,\u001b[0m\u001b[0mdeparture_col\u001b[0m\u001b[1;33m]\u001b[0m\u001b[1;33m]\u001b[0m\u001b[1;33m.\u001b[0m\u001b[0mhead\u001b[0m\u001b[1;33m(\u001b[0m\u001b[1;36m1000\u001b[0m\u001b[1;33m)\u001b[0m\u001b[1;33m.\u001b[0m\u001b[0mcopy\u001b[0m\u001b[1;33m(\u001b[0m\u001b[1;33m)\u001b[0m\u001b[1;33m\u001b[0m\u001b[0m\n\u001b[0;32m     10\u001b[0m     \u001b[0mdf1\u001b[0m\u001b[1;33m[\u001b[0m\u001b[0marrival_col\u001b[0m\u001b[1;33m]\u001b[0m \u001b[1;33m=\u001b[0m \u001b[0mdf1\u001b[0m\u001b[1;33m[\u001b[0m\u001b[0marrival_col\u001b[0m\u001b[1;33m]\u001b[0m\u001b[1;33m.\u001b[0m\u001b[0mapply\u001b[0m\u001b[1;33m(\u001b[0m\u001b[1;32mlambda\u001b[0m \u001b[0mx\u001b[0m \u001b[1;33m:\u001b[0m \u001b[0mx\u001b[0m\u001b[1;33m.\u001b[0m\u001b[0mreplace\u001b[0m\u001b[1;33m(\u001b[0m\u001b[0msecond\u001b[0m\u001b[1;33m=\u001b[0m\u001b[1;36m0\u001b[0m\u001b[1;33m,\u001b[0m\u001b[0mminute\u001b[0m\u001b[1;33m=\u001b[0m\u001b[1;36m0\u001b[0m\u001b[1;33m)\u001b[0m\u001b[1;33m)\u001b[0m \u001b[1;31m# round arrival hour down\u001b[0m\u001b[1;33m\u001b[0m\u001b[0m\n\u001b[1;32m---> 11\u001b[1;33m     \u001b[0mdf1\u001b[0m\u001b[1;33m[\u001b[0m\u001b[0mdeparture_col\u001b[0m\u001b[1;33m]\u001b[0m \u001b[1;33m=\u001b[0m \u001b[0mdf1\u001b[0m\u001b[1;33m[\u001b[0m\u001b[0mdeparture_col\u001b[0m\u001b[1;33m]\u001b[0m\u001b[1;33m.\u001b[0m\u001b[0mapply\u001b[0m\u001b[1;33m(\u001b[0m\u001b[1;32mlambda\u001b[0m \u001b[0mx\u001b[0m \u001b[1;33m:\u001b[0m \u001b[0mx\u001b[0m\u001b[1;33m.\u001b[0m\u001b[0mreplace\u001b[0m\u001b[1;33m(\u001b[0m\u001b[0msecond\u001b[0m\u001b[1;33m=\u001b[0m\u001b[1;36m0\u001b[0m\u001b[1;33m,\u001b[0m\u001b[0mminute\u001b[0m\u001b[1;33m=\u001b[0m\u001b[1;36m0\u001b[0m\u001b[1;33m)\u001b[0m\u001b[1;33m)\u001b[0m \u001b[1;33m+\u001b[0m\u001b[0mpd\u001b[0m\u001b[1;33m.\u001b[0m\u001b[0mTimedelta\u001b[0m\u001b[1;33m(\u001b[0m\u001b[0mhours\u001b[0m\u001b[1;33m=\u001b[0m\u001b[1;36m1\u001b[0m\u001b[1;33m)\u001b[0m \u001b[1;31m# round leaving tim up\u001b[0m\u001b[1;33m\u001b[0m\u001b[0m\n\u001b[0m\u001b[0;32m     12\u001b[0m \u001b[1;33m\u001b[0m\u001b[0m\n\u001b[0;32m     13\u001b[0m     \u001b[1;31m#### create col with number of hours active\u001b[0m\u001b[1;33m\u001b[0m\u001b[1;33m\u001b[0m\u001b[0m\n",
      "\u001b[1;31mNameError\u001b[0m: name 'pd' is not defined"
     ]
    }
   ],
   "source": [
    "test =count_hourly_occupancy(hosp.data.ED,'ARRIVAL_DTTM','DEPARTURE_DTTM','test')"
   ]
  },
  {
   "cell_type": "code",
   "execution_count": null,
   "metadata": {},
   "outputs": [],
   "source": [
    "def count_hourly_events(df,event_column_name,new_col_name):\n",
    "    \"\"\"\n",
    "    Count number of events (records) at hourly level, given datetime column.\n",
    "    input: df, column_name\n",
    "    \"\"\"\n",
    "    #### set up data to make calc easier\n",
    "    df['event_column_name_rounded'] = df[event_column_name].apply(lambda x : x.replace(second=0,minute=0)) # round to lower hour\n",
    "    \n",
    "    #### make array and find counts of uniques datetimes\n",
    "    times = df['event_column_name_rounded'].values\n",
    "    unique, counts = np.unique(times, return_counts=True)\n",
    "    \n",
    "    # put into df\n",
    "    event_counts = pd.DataFrame(data = counts, index= unique,columns =[new_col_name] )\n",
    "    return event_counts\n",
    "\n",
    "count_hourly_events(hosp.data.ED,'ARRIVAL_DTTM','new_col')"
   ]
  },
  {
   "cell_type": "code",
   "execution_count": null,
   "metadata": {},
   "outputs": [],
   "source": [
    "a = np.array([0, 3, 0, 1, 0, 1, 2, 1, 0, 0, 0, 0, 1, 3, 4])\n",
    "unique, counts = np.unique(a, return_counts=True)"
   ]
  },
  {
   "cell_type": "code",
   "execution_count": null,
   "metadata": {},
   "outputs": [],
   "source": [
    "counts"
   ]
  },
  {
   "cell_type": "code",
   "execution_count": null,
   "metadata": {},
   "outputs": [],
   "source": [
    "a = np.array(df1.index)\n",
    "unique, counts = np.unique(a, return_counts=True)"
   ]
  },
  {
   "cell_type": "code",
   "execution_count": null,
   "metadata": {},
   "outputs": [],
   "source": [
    "df1.index"
   ]
  },
  {
   "cell_type": "code",
   "execution_count": null,
   "metadata": {},
   "outputs": [],
   "source": [
    "df1.col1.values"
   ]
  },
  {
   "cell_type": "code",
   "execution_count": null,
   "metadata": {},
   "outputs": [],
   "source": [
    "pd.Series(df1.index)"
   ]
  },
  {
   "cell_type": "code",
   "execution_count": null,
   "metadata": {},
   "outputs": [],
   "source": [
    "\n",
    "hosp.data.ED['ARRIVAL_DTTM'].apply(lambda x : x.replace(second=0,minute=0))"
   ]
  },
  {
   "cell_type": "code",
   "execution_count": null,
   "metadata": {},
   "outputs": [],
   "source": [
    "%matplotlib inline\n",
    "test.plot()"
   ]
  },
  {
   "cell_type": "code",
   "execution_count": null,
   "metadata": {},
   "outputs": [],
   "source": [
    "test['atten_id'].value_counts()"
   ]
  },
  {
   "cell_type": "code",
   "execution_count": null,
   "metadata": {},
   "outputs": [],
   "source": []
  },
  {
   "cell_type": "code",
   "execution_count": null,
   "metadata": {},
   "outputs": [],
   "source": []
  },
  {
   "cell_type": "code",
   "execution_count": null,
   "metadata": {},
   "outputs": [],
   "source": []
  },
  {
   "cell_type": "code",
   "execution_count": null,
   "metadata": {},
   "outputs": [],
   "source": [
    "break"
   ]
  },
  {
   "cell_type": "markdown",
   "metadata": {},
   "source": [
    "# Dev"
   ]
  },
  {
   "cell_type": "code",
   "execution_count": 23,
   "metadata": {},
   "outputs": [],
   "source": [
    "import pandas as pd\n",
    "import numpy as np"
   ]
  },
  {
   "cell_type": "code",
   "execution_count": 24,
   "metadata": {},
   "outputs": [
    {
     "data": {
      "text/plain": [
       "datetime.datetime(2019, 2, 13, 12, 24, 31, 925039)"
      ]
     },
     "execution_count": 24,
     "metadata": {},
     "output_type": "execute_result"
    }
   ],
   "source": [
    "pd.datetime.now()"
   ]
  },
  {
   "cell_type": "code",
   "execution_count": 25,
   "metadata": {},
   "outputs": [
    {
     "data": {
      "text/plain": [
       "DatetimeIndex(['2019-01-01', '2019-01-02', '2019-01-03', '2019-01-04',\n",
       "               '2019-01-05', '2019-01-06', '2019-01-07', '2019-01-08',\n",
       "               '2019-01-09', '2019-01-10', '2019-01-11', '2019-01-12',\n",
       "               '2019-01-13', '2019-01-14', '2019-01-15', '2019-01-16',\n",
       "               '2019-01-17', '2019-01-18', '2019-01-19', '2019-01-20'],\n",
       "              dtype='datetime64[ns]', freq=None)"
      ]
     },
     "execution_count": 25,
     "metadata": {},
     "output_type": "execute_result"
    }
   ],
   "source": [
    "master_index = pd.DatetimeIndex(start=pd.datetime(2019,1,1),periods=20,freq='D').round('D')\n",
    "master_index"
   ]
  },
  {
   "cell_type": "code",
   "execution_count": 26,
   "metadata": {},
   "outputs": [
    {
     "data": {
      "text/html": [
       "<div>\n",
       "<style scoped>\n",
       "    .dataframe tbody tr th:only-of-type {\n",
       "        vertical-align: middle;\n",
       "    }\n",
       "\n",
       "    .dataframe tbody tr th {\n",
       "        vertical-align: top;\n",
       "    }\n",
       "\n",
       "    .dataframe thead th {\n",
       "        text-align: right;\n",
       "    }\n",
       "</style>\n",
       "<table border=\"1\" class=\"dataframe\">\n",
       "  <thead>\n",
       "    <tr style=\"text-align: right;\">\n",
       "      <th></th>\n",
       "      <th>col1</th>\n",
       "    </tr>\n",
       "  </thead>\n",
       "  <tbody>\n",
       "    <tr>\n",
       "      <th>2019-01-01</th>\n",
       "      <td>3</td>\n",
       "    </tr>\n",
       "    <tr>\n",
       "      <th>2019-01-02</th>\n",
       "      <td>5</td>\n",
       "    </tr>\n",
       "  </tbody>\n",
       "</table>\n",
       "</div>"
      ],
      "text/plain": [
       "            col1\n",
       "2019-01-01     3\n",
       "2019-01-02     5"
      ]
     },
     "execution_count": 26,
     "metadata": {},
     "output_type": "execute_result"
    }
   ],
   "source": [
    "df1 = pd.DataFrame([3,5],master_index[0:2],columns=['col1'])\n",
    "df1"
   ]
  },
  {
   "cell_type": "code",
   "execution_count": 27,
   "metadata": {},
   "outputs": [
    {
     "data": {
      "text/html": [
       "<div>\n",
       "<style scoped>\n",
       "    .dataframe tbody tr th:only-of-type {\n",
       "        vertical-align: middle;\n",
       "    }\n",
       "\n",
       "    .dataframe tbody tr th {\n",
       "        vertical-align: top;\n",
       "    }\n",
       "\n",
       "    .dataframe thead th {\n",
       "        text-align: right;\n",
       "    }\n",
       "</style>\n",
       "<table border=\"1\" class=\"dataframe\">\n",
       "  <thead>\n",
       "    <tr style=\"text-align: right;\">\n",
       "      <th></th>\n",
       "      <th>col2</th>\n",
       "    </tr>\n",
       "  </thead>\n",
       "  <tbody>\n",
       "    <tr>\n",
       "      <th>2019-01-09</th>\n",
       "      <td>8</td>\n",
       "    </tr>\n",
       "    <tr>\n",
       "      <th>2019-01-10</th>\n",
       "      <td>9</td>\n",
       "    </tr>\n",
       "  </tbody>\n",
       "</table>\n",
       "</div>"
      ],
      "text/plain": [
       "            col2\n",
       "2019-01-09     8\n",
       "2019-01-10     9"
      ]
     },
     "execution_count": 27,
     "metadata": {},
     "output_type": "execute_result"
    }
   ],
   "source": [
    "df2 = pd.DataFrame([8,9],master_index[8:10],columns=['col2'])\n",
    "df2"
   ]
  },
  {
   "cell_type": "code",
   "execution_count": 28,
   "metadata": {},
   "outputs": [
    {
     "data": {
      "text/html": [
       "<div>\n",
       "<style scoped>\n",
       "    .dataframe tbody tr th:only-of-type {\n",
       "        vertical-align: middle;\n",
       "    }\n",
       "\n",
       "    .dataframe tbody tr th {\n",
       "        vertical-align: top;\n",
       "    }\n",
       "\n",
       "    .dataframe thead th {\n",
       "        text-align: right;\n",
       "    }\n",
       "</style>\n",
       "<table border=\"1\" class=\"dataframe\">\n",
       "  <thead>\n",
       "    <tr style=\"text-align: right;\">\n",
       "      <th></th>\n",
       "      <th>col3</th>\n",
       "    </tr>\n",
       "  </thead>\n",
       "  <tbody>\n",
       "    <tr>\n",
       "      <th>2019-01-02</th>\n",
       "      <td>1</td>\n",
       "    </tr>\n",
       "    <tr>\n",
       "      <th>2019-01-03</th>\n",
       "      <td>2</td>\n",
       "    </tr>\n",
       "    <tr>\n",
       "      <th>2019-01-04</th>\n",
       "      <td>3</td>\n",
       "    </tr>\n",
       "  </tbody>\n",
       "</table>\n",
       "</div>"
      ],
      "text/plain": [
       "            col3\n",
       "2019-01-02     1\n",
       "2019-01-03     2\n",
       "2019-01-04     3"
      ]
     },
     "execution_count": 28,
     "metadata": {},
     "output_type": "execute_result"
    }
   ],
   "source": [
    "df3 = pd.DataFrame([1,2,3],master_index[1:4],columns=['col3'])\n",
    "df3"
   ]
  },
  {
   "cell_type": "code",
   "execution_count": 29,
   "metadata": {},
   "outputs": [
    {
     "data": {
      "text/html": [
       "<div>\n",
       "<style scoped>\n",
       "    .dataframe tbody tr th:only-of-type {\n",
       "        vertical-align: middle;\n",
       "    }\n",
       "\n",
       "    .dataframe tbody tr th {\n",
       "        vertical-align: top;\n",
       "    }\n",
       "\n",
       "    .dataframe thead th {\n",
       "        text-align: right;\n",
       "    }\n",
       "</style>\n",
       "<table border=\"1\" class=\"dataframe\">\n",
       "  <thead>\n",
       "    <tr style=\"text-align: right;\">\n",
       "      <th></th>\n",
       "      <th>col1</th>\n",
       "      <th>col2</th>\n",
       "      <th>col3</th>\n",
       "    </tr>\n",
       "  </thead>\n",
       "  <tbody>\n",
       "    <tr>\n",
       "      <th>2019-01-01</th>\n",
       "      <td>3.0</td>\n",
       "      <td>NaN</td>\n",
       "      <td>NaN</td>\n",
       "    </tr>\n",
       "    <tr>\n",
       "      <th>2019-01-02</th>\n",
       "      <td>5.0</td>\n",
       "      <td>NaN</td>\n",
       "      <td>NaN</td>\n",
       "    </tr>\n",
       "    <tr>\n",
       "      <th>2019-01-09</th>\n",
       "      <td>NaN</td>\n",
       "      <td>8.0</td>\n",
       "      <td>NaN</td>\n",
       "    </tr>\n",
       "    <tr>\n",
       "      <th>2019-01-10</th>\n",
       "      <td>NaN</td>\n",
       "      <td>9.0</td>\n",
       "      <td>NaN</td>\n",
       "    </tr>\n",
       "    <tr>\n",
       "      <th>2019-01-02</th>\n",
       "      <td>NaN</td>\n",
       "      <td>NaN</td>\n",
       "      <td>1.0</td>\n",
       "    </tr>\n",
       "    <tr>\n",
       "      <th>2019-01-03</th>\n",
       "      <td>NaN</td>\n",
       "      <td>NaN</td>\n",
       "      <td>2.0</td>\n",
       "    </tr>\n",
       "    <tr>\n",
       "      <th>2019-01-04</th>\n",
       "      <td>NaN</td>\n",
       "      <td>NaN</td>\n",
       "      <td>3.0</td>\n",
       "    </tr>\n",
       "  </tbody>\n",
       "</table>\n",
       "</div>"
      ],
      "text/plain": [
       "            col1  col2  col3\n",
       "2019-01-01   3.0   NaN   NaN\n",
       "2019-01-02   5.0   NaN   NaN\n",
       "2019-01-09   NaN   8.0   NaN\n",
       "2019-01-10   NaN   9.0   NaN\n",
       "2019-01-02   NaN   NaN   1.0\n",
       "2019-01-03   NaN   NaN   2.0\n",
       "2019-01-04   NaN   NaN   3.0"
      ]
     },
     "execution_count": 29,
     "metadata": {},
     "output_type": "execute_result"
    }
   ],
   "source": [
    "concat = pd.concat([df1,df2,df3],sort=True)\n",
    "concat"
   ]
  },
  {
   "cell_type": "code",
   "execution_count": 30,
   "metadata": {},
   "outputs": [
    {
     "data": {
      "text/html": [
       "<div>\n",
       "<style scoped>\n",
       "    .dataframe tbody tr th:only-of-type {\n",
       "        vertical-align: middle;\n",
       "    }\n",
       "\n",
       "    .dataframe tbody tr th {\n",
       "        vertical-align: top;\n",
       "    }\n",
       "\n",
       "    .dataframe thead th {\n",
       "        text-align: right;\n",
       "    }\n",
       "</style>\n",
       "<table border=\"1\" class=\"dataframe\">\n",
       "  <thead>\n",
       "    <tr style=\"text-align: right;\">\n",
       "      <th></th>\n",
       "      <th>col1</th>\n",
       "      <th>col2</th>\n",
       "      <th>col3</th>\n",
       "    </tr>\n",
       "  </thead>\n",
       "  <tbody>\n",
       "    <tr>\n",
       "      <th>2019-01-01</th>\n",
       "      <td>3.0</td>\n",
       "      <td>NaN</td>\n",
       "      <td>NaN</td>\n",
       "    </tr>\n",
       "    <tr>\n",
       "      <th>2019-01-02</th>\n",
       "      <td>5.0</td>\n",
       "      <td>NaN</td>\n",
       "      <td>NaN</td>\n",
       "    </tr>\n",
       "    <tr>\n",
       "      <th>2019-01-09</th>\n",
       "      <td>NaN</td>\n",
       "      <td>8.0</td>\n",
       "      <td>NaN</td>\n",
       "    </tr>\n",
       "    <tr>\n",
       "      <th>2019-01-10</th>\n",
       "      <td>NaN</td>\n",
       "      <td>9.0</td>\n",
       "      <td>NaN</td>\n",
       "    </tr>\n",
       "    <tr>\n",
       "      <th>2019-01-02</th>\n",
       "      <td>NaN</td>\n",
       "      <td>NaN</td>\n",
       "      <td>1.0</td>\n",
       "    </tr>\n",
       "    <tr>\n",
       "      <th>2019-01-03</th>\n",
       "      <td>NaN</td>\n",
       "      <td>NaN</td>\n",
       "      <td>2.0</td>\n",
       "    </tr>\n",
       "    <tr>\n",
       "      <th>2019-01-04</th>\n",
       "      <td>NaN</td>\n",
       "      <td>NaN</td>\n",
       "      <td>3.0</td>\n",
       "    </tr>\n",
       "  </tbody>\n",
       "</table>\n",
       "</div>"
      ],
      "text/plain": [
       "            col1  col2  col3\n",
       "2019-01-01   3.0   NaN   NaN\n",
       "2019-01-02   5.0   NaN   NaN\n",
       "2019-01-09   NaN   8.0   NaN\n",
       "2019-01-10   NaN   9.0   NaN\n",
       "2019-01-02   NaN   NaN   1.0\n",
       "2019-01-03   NaN   NaN   2.0\n",
       "2019-01-04   NaN   NaN   3.0"
      ]
     },
     "execution_count": 30,
     "metadata": {},
     "output_type": "execute_result"
    }
   ],
   "source": [
    "concat.reindex()"
   ]
  },
  {
   "cell_type": "code",
   "execution_count": 31,
   "metadata": {},
   "outputs": [
    {
     "ename": "AttributeError",
     "evalue": "module 'pandas' has no attribute 'master_index'",
     "output_type": "error",
     "traceback": [
      "\u001b[1;31m---------------------------------------------------------------------------\u001b[0m",
      "\u001b[1;31mAttributeError\u001b[0m                            Traceback (most recent call last)",
      "\u001b[1;32m<ipython-input-31-6a7dd60b5c8b>\u001b[0m in \u001b[0;36m<module>\u001b[1;34m()\u001b[0m\n\u001b[1;32m----> 1\u001b[1;33m \u001b[0mpd\u001b[0m\u001b[1;33m.\u001b[0m\u001b[0mmaster_index\u001b[0m\u001b[1;33m\u001b[0m\u001b[0m\n\u001b[0m",
      "\u001b[1;31mAttributeError\u001b[0m: module 'pandas' has no attribute 'master_index'"
     ]
    }
   ],
   "source": [
    "pd.master_index"
   ]
  },
  {
   "cell_type": "code",
   "execution_count": 65,
   "metadata": {},
   "outputs": [],
   "source": []
  },
  {
   "cell_type": "code",
   "execution_count": 35,
   "metadata": {},
   "outputs": [
    {
     "data": {
      "text/html": [
       "<div>\n",
       "<style scoped>\n",
       "    .dataframe tbody tr th:only-of-type {\n",
       "        vertical-align: middle;\n",
       "    }\n",
       "\n",
       "    .dataframe tbody tr th {\n",
       "        vertical-align: top;\n",
       "    }\n",
       "\n",
       "    .dataframe thead th {\n",
       "        text-align: right;\n",
       "    }\n",
       "</style>\n",
       "<table border=\"1\" class=\"dataframe\">\n",
       "  <thead>\n",
       "    <tr style=\"text-align: right;\">\n",
       "      <th></th>\n",
       "      <th>col1</th>\n",
       "      <th>col3</th>\n",
       "      <th>col2</th>\n",
       "    </tr>\n",
       "  </thead>\n",
       "  <tbody>\n",
       "    <tr>\n",
       "      <th>2019-01-01</th>\n",
       "      <td>3.0</td>\n",
       "      <td>NaN</td>\n",
       "      <td>NaN</td>\n",
       "    </tr>\n",
       "    <tr>\n",
       "      <th>2019-01-02</th>\n",
       "      <td>5.0</td>\n",
       "      <td>1.0</td>\n",
       "      <td>NaN</td>\n",
       "    </tr>\n",
       "    <tr>\n",
       "      <th>2019-01-03</th>\n",
       "      <td>NaN</td>\n",
       "      <td>2.0</td>\n",
       "      <td>NaN</td>\n",
       "    </tr>\n",
       "    <tr>\n",
       "      <th>2019-01-04</th>\n",
       "      <td>NaN</td>\n",
       "      <td>3.0</td>\n",
       "      <td>NaN</td>\n",
       "    </tr>\n",
       "    <tr>\n",
       "      <th>2019-01-09</th>\n",
       "      <td>NaN</td>\n",
       "      <td>NaN</td>\n",
       "      <td>8.0</td>\n",
       "    </tr>\n",
       "    <tr>\n",
       "      <th>2019-01-10</th>\n",
       "      <td>NaN</td>\n",
       "      <td>NaN</td>\n",
       "      <td>9.0</td>\n",
       "    </tr>\n",
       "  </tbody>\n",
       "</table>\n",
       "</div>"
      ],
      "text/plain": [
       "            col1  col3  col2\n",
       "2019-01-01   3.0   NaN   NaN\n",
       "2019-01-02   5.0   1.0   NaN\n",
       "2019-01-03   NaN   2.0   NaN\n",
       "2019-01-04   NaN   3.0   NaN\n",
       "2019-01-09   NaN   NaN   8.0\n",
       "2019-01-10   NaN   NaN   9.0"
      ]
     },
     "execution_count": 35,
     "metadata": {},
     "output_type": "execute_result"
    }
   ],
   "source": [
    "from functools import reduce\n",
    "data_frames = [df1, df3, df2]\n",
    "df_merged = reduce(lambda  left,right: pd.merge(left,right,left_index=True,right_index=True,\n",
    "                                            how='outer'), data_frames)\n",
    "df_merged.ffill()\n",
    "df_merged"
   ]
  },
  {
   "cell_type": "code",
   "execution_count": 37,
   "metadata": {},
   "outputs": [
    {
     "data": {
      "text/html": [
       "<div>\n",
       "<style scoped>\n",
       "    .dataframe tbody tr th:only-of-type {\n",
       "        vertical-align: middle;\n",
       "    }\n",
       "\n",
       "    .dataframe tbody tr th {\n",
       "        vertical-align: top;\n",
       "    }\n",
       "\n",
       "    .dataframe thead th {\n",
       "        text-align: right;\n",
       "    }\n",
       "</style>\n",
       "<table border=\"1\" class=\"dataframe\">\n",
       "  <thead>\n",
       "    <tr style=\"text-align: right;\">\n",
       "      <th></th>\n",
       "      <th>col1</th>\n",
       "      <th>col3</th>\n",
       "      <th>col2</th>\n",
       "    </tr>\n",
       "  </thead>\n",
       "  <tbody>\n",
       "    <tr>\n",
       "      <th>2019-01-01</th>\n",
       "      <td>3.0</td>\n",
       "      <td>NaN</td>\n",
       "      <td>NaN</td>\n",
       "    </tr>\n",
       "    <tr>\n",
       "      <th>2019-01-02</th>\n",
       "      <td>5.0</td>\n",
       "      <td>1.0</td>\n",
       "      <td>NaN</td>\n",
       "    </tr>\n",
       "    <tr>\n",
       "      <th>2019-01-03</th>\n",
       "      <td>NaN</td>\n",
       "      <td>2.0</td>\n",
       "      <td>NaN</td>\n",
       "    </tr>\n",
       "    <tr>\n",
       "      <th>2019-01-04</th>\n",
       "      <td>NaN</td>\n",
       "      <td>3.0</td>\n",
       "      <td>NaN</td>\n",
       "    </tr>\n",
       "    <tr>\n",
       "      <th>2019-01-05</th>\n",
       "      <td>NaN</td>\n",
       "      <td>NaN</td>\n",
       "      <td>NaN</td>\n",
       "    </tr>\n",
       "    <tr>\n",
       "      <th>2019-01-06</th>\n",
       "      <td>NaN</td>\n",
       "      <td>NaN</td>\n",
       "      <td>NaN</td>\n",
       "    </tr>\n",
       "    <tr>\n",
       "      <th>2019-01-07</th>\n",
       "      <td>NaN</td>\n",
       "      <td>NaN</td>\n",
       "      <td>NaN</td>\n",
       "    </tr>\n",
       "    <tr>\n",
       "      <th>2019-01-08</th>\n",
       "      <td>NaN</td>\n",
       "      <td>NaN</td>\n",
       "      <td>NaN</td>\n",
       "    </tr>\n",
       "    <tr>\n",
       "      <th>2019-01-09</th>\n",
       "      <td>NaN</td>\n",
       "      <td>NaN</td>\n",
       "      <td>8.0</td>\n",
       "    </tr>\n",
       "    <tr>\n",
       "      <th>2019-01-10</th>\n",
       "      <td>NaN</td>\n",
       "      <td>NaN</td>\n",
       "      <td>9.0</td>\n",
       "    </tr>\n",
       "    <tr>\n",
       "      <th>2019-01-11</th>\n",
       "      <td>NaN</td>\n",
       "      <td>NaN</td>\n",
       "      <td>NaN</td>\n",
       "    </tr>\n",
       "    <tr>\n",
       "      <th>2019-01-12</th>\n",
       "      <td>NaN</td>\n",
       "      <td>NaN</td>\n",
       "      <td>NaN</td>\n",
       "    </tr>\n",
       "    <tr>\n",
       "      <th>2019-01-13</th>\n",
       "      <td>NaN</td>\n",
       "      <td>NaN</td>\n",
       "      <td>NaN</td>\n",
       "    </tr>\n",
       "    <tr>\n",
       "      <th>2019-01-14</th>\n",
       "      <td>NaN</td>\n",
       "      <td>NaN</td>\n",
       "      <td>NaN</td>\n",
       "    </tr>\n",
       "    <tr>\n",
       "      <th>2019-01-15</th>\n",
       "      <td>NaN</td>\n",
       "      <td>NaN</td>\n",
       "      <td>NaN</td>\n",
       "    </tr>\n",
       "    <tr>\n",
       "      <th>2019-01-16</th>\n",
       "      <td>NaN</td>\n",
       "      <td>NaN</td>\n",
       "      <td>NaN</td>\n",
       "    </tr>\n",
       "    <tr>\n",
       "      <th>2019-01-17</th>\n",
       "      <td>NaN</td>\n",
       "      <td>NaN</td>\n",
       "      <td>NaN</td>\n",
       "    </tr>\n",
       "    <tr>\n",
       "      <th>2019-01-18</th>\n",
       "      <td>NaN</td>\n",
       "      <td>NaN</td>\n",
       "      <td>NaN</td>\n",
       "    </tr>\n",
       "    <tr>\n",
       "      <th>2019-01-19</th>\n",
       "      <td>NaN</td>\n",
       "      <td>NaN</td>\n",
       "      <td>NaN</td>\n",
       "    </tr>\n",
       "    <tr>\n",
       "      <th>2019-01-20</th>\n",
       "      <td>NaN</td>\n",
       "      <td>NaN</td>\n",
       "      <td>NaN</td>\n",
       "    </tr>\n",
       "  </tbody>\n",
       "</table>\n",
       "</div>"
      ],
      "text/plain": [
       "            col1  col3  col2\n",
       "2019-01-01   3.0   NaN   NaN\n",
       "2019-01-02   5.0   1.0   NaN\n",
       "2019-01-03   NaN   2.0   NaN\n",
       "2019-01-04   NaN   3.0   NaN\n",
       "2019-01-05   NaN   NaN   NaN\n",
       "2019-01-06   NaN   NaN   NaN\n",
       "2019-01-07   NaN   NaN   NaN\n",
       "2019-01-08   NaN   NaN   NaN\n",
       "2019-01-09   NaN   NaN   8.0\n",
       "2019-01-10   NaN   NaN   9.0\n",
       "2019-01-11   NaN   NaN   NaN\n",
       "2019-01-12   NaN   NaN   NaN\n",
       "2019-01-13   NaN   NaN   NaN\n",
       "2019-01-14   NaN   NaN   NaN\n",
       "2019-01-15   NaN   NaN   NaN\n",
       "2019-01-16   NaN   NaN   NaN\n",
       "2019-01-17   NaN   NaN   NaN\n",
       "2019-01-18   NaN   NaN   NaN\n",
       "2019-01-19   NaN   NaN   NaN\n",
       "2019-01-20   NaN   NaN   NaN"
      ]
     },
     "execution_count": 37,
     "metadata": {},
     "output_type": "execute_result"
    }
   ],
   "source": [
    "df_merged.reindex(index=master_index)"
   ]
  },
  {
   "cell_type": "code",
   "execution_count": null,
   "metadata": {},
   "outputs": [],
   "source": []
  },
  {
   "cell_type": "code",
   "execution_count": null,
   "metadata": {},
   "outputs": [],
   "source": []
  },
  {
   "cell_type": "code",
   "execution_count": null,
   "metadata": {},
   "outputs": [],
   "source": []
  },
  {
   "cell_type": "markdown",
   "metadata": {},
   "source": [
    "### mapping columns to standard naming convention"
   ]
  },
  {
   "cell_type": "markdown",
   "metadata": {},
   "source": [
    "unless your columns are already named using the required names - use column mapping method"
   ]
  },
  {
   "cell_type": "code",
   "execution_count": 1,
   "metadata": {},
   "outputs": [],
   "source": [
    "#### define dictionary for mapping\n",
    "col_map = {\n",
    "'PSEUDONYMISED_PATIENT_ID':'dept_patid',\n",
    "'PSEUDONYMISED_PATIENT_ID':'hosp_patid',\n",
    "'AGE_AT_ARRIVAL':'age',\n",
    "'GENDER_NATIONAL_DESCRIPTION':'gender',\n",
    "'SITE':'site',\n",
    "'ARRIVAL_DTTM':'arrive_datetime',\n",
    "'ARRIVAL_MODE_NATIONAL_CODE':'arrive_mode',\n",
    "'INITIAL_ASSESSMENT_DTTM':'first_triage_datetime',\n",
    "'SEEN_FOR_TREATMENT_DTTM':'first_dr_datetime',\n",
    "'SPECIALTY_REQUEST_TIME':'first_adm_request_time',\n",
    "'SPECIALTY_REFERRED_TO_DESCRIPTION':'adm_referral_loc',\n",
    "'ADMISSION_FLAG':'adm_flag',\n",
    "'DEPARTURE_DTTM':'depart_datetime',\n",
    "'STREAM_LOCAL_CODE':'stream'\n",
    "}"
   ]
  },
  {
   "cell_type": "code",
   "execution_count": 3,
   "metadata": {},
   "outputs": [
    {
     "data": {
      "text/plain": [
       "13"
      ]
     },
     "execution_count": 3,
     "metadata": {},
     "output_type": "execute_result"
    }
   ],
   "source": [
    "len(col_map)"
   ]
  },
  {
   "cell_type": "code",
   "execution_count": 7,
   "metadata": {},
   "outputs": [
    {
     "name": "stdout",
     "output_type": "stream",
     "text": [
      "----------------------------------------\n",
      "mapping column names\n"
     ]
    }
   ],
   "source": [
    "EDdata.map_columns(col_map)"
   ]
  },
  {
   "cell_type": "markdown",
   "metadata": {},
   "source": [
    "required column names can be found: "
   ]
  },
  {
   "cell_type": "code",
   "execution_count": 8,
   "metadata": {},
   "outputs": [
    {
     "data": {
      "text/plain": [
       "dict_keys(['hosp_patid', 'age', 'age_group', 'gender', 'arrive_datetime', 'arrive_mode', 'arrive_hour', 'arrive_dayofweek', 'arrive_month', 'arrive_dayofweek_name', 'arrive_date', 'arrive_week', 'first_triage_datetime', 'first_dr_datetime', 'first_adm_request_datetime', 'adm_referral_loc', 'depart_datetime', 'depart_method', 'depart_hour', 'depart_dayofweek', 'depart_week', 'depart_month', 'depart_dayofweek_name', 'depart_date', 'waiting_time', 'BREACH_FLAG', 'adm_flag', 'stream', 'minutes_today', 'minutes_tomo', 'breach_datetime', 'arr_triage_wait', 'arr_dr_wait', 'arr_adm_req_wait', 'adm_req_dep_wait', 'dr_adm_req_wait', 'dr_dep_wait'])"
      ]
     },
     "execution_count": 8,
     "metadata": {},
     "output_type": "execute_result"
    }
   ],
   "source": [
    "flosp._expected_file_structures.dataRAW_expected_cols.keys()"
   ]
  },
  {
   "cell_type": "code",
   "execution_count": null,
   "metadata": {},
   "outputs": [],
   "source": []
  },
  {
   "cell_type": "code",
   "execution_count": 9,
   "metadata": {},
   "outputs": [
    {
     "data": {
      "text/html": [
       "<div>\n",
       "<style scoped>\n",
       "    .dataframe tbody tr th:only-of-type {\n",
       "        vertical-align: middle;\n",
       "    }\n",
       "\n",
       "    .dataframe tbody tr th {\n",
       "        vertical-align: top;\n",
       "    }\n",
       "\n",
       "    .dataframe thead th {\n",
       "        text-align: right;\n",
       "    }\n",
       "</style>\n",
       "<table border=\"1\" class=\"dataframe\">\n",
       "  <thead>\n",
       "    <tr style=\"text-align: right;\">\n",
       "      <th></th>\n",
       "      <th>hosp_patid</th>\n",
       "      <th>age</th>\n",
       "      <th>gender</th>\n",
       "      <th>site</th>\n",
       "      <th>arrive_datetime</th>\n",
       "      <th>arrive_mode</th>\n",
       "      <th>first_triage_datetime</th>\n",
       "      <th>first_dr_datetime</th>\n",
       "      <th>first_adm_request_time</th>\n",
       "      <th>adm_referral_loc</th>\n",
       "      <th>adm_flag</th>\n",
       "      <th>depart_datetime</th>\n",
       "      <th>stream</th>\n",
       "    </tr>\n",
       "  </thead>\n",
       "  <tbody>\n",
       "    <tr>\n",
       "      <th>0</th>\n",
       "      <td>2493</td>\n",
       "      <td>50</td>\n",
       "      <td>Female</td>\n",
       "      <td>HOSPITAL1</td>\n",
       "      <td>2013-01-08 19:44:00</td>\n",
       "      <td>2.0</td>\n",
       "      <td>2013-01-07 18:50:00</td>\n",
       "      <td>2013-01-09 21:50:00</td>\n",
       "      <td>NaN</td>\n",
       "      <td>NaN</td>\n",
       "      <td>0</td>\n",
       "      <td>2013-01-10 23:16:00</td>\n",
       "      <td>MIN</td>\n",
       "    </tr>\n",
       "    <tr>\n",
       "      <th>1</th>\n",
       "      <td>4822</td>\n",
       "      <td>22</td>\n",
       "      <td>Male</td>\n",
       "      <td>HOSPITAL1</td>\n",
       "      <td>2013-07-03 09:34:00</td>\n",
       "      <td>2.0</td>\n",
       "      <td>2013-07-03 08:57:00</td>\n",
       "      <td>2013-07-02 09:17:00</td>\n",
       "      <td>NaN</td>\n",
       "      <td>NaN</td>\n",
       "      <td>0</td>\n",
       "      <td>2013-07-05 09:02:00</td>\n",
       "      <td>MIN</td>\n",
       "    </tr>\n",
       "    <tr>\n",
       "      <th>2</th>\n",
       "      <td>6012</td>\n",
       "      <td>51</td>\n",
       "      <td>Male</td>\n",
       "      <td>HOSPITAL1</td>\n",
       "      <td>2017-08-27 23:33:00</td>\n",
       "      <td>2.0</td>\n",
       "      <td>2017-08-26 01:32:00</td>\n",
       "      <td>2017-08-27 03:12:00</td>\n",
       "      <td>NaN</td>\n",
       "      <td>NaN</td>\n",
       "      <td>0</td>\n",
       "      <td>2017-08-26 03:31:00</td>\n",
       "      <td>MIN</td>\n",
       "    </tr>\n",
       "  </tbody>\n",
       "</table>\n",
       "</div>"
      ],
      "text/plain": [
       "   hosp_patid  age  gender       site      arrive_datetime  arrive_mode  \\\n",
       "0        2493   50  Female  HOSPITAL1  2013-01-08 19:44:00          2.0   \n",
       "1        4822   22    Male  HOSPITAL1  2013-07-03 09:34:00          2.0   \n",
       "2        6012   51    Male  HOSPITAL1  2017-08-27 23:33:00          2.0   \n",
       "\n",
       "  first_triage_datetime    first_dr_datetime first_adm_request_time  \\\n",
       "0   2013-01-07 18:50:00  2013-01-09 21:50:00                    NaN   \n",
       "1   2013-07-03 08:57:00  2013-07-02 09:17:00                    NaN   \n",
       "2   2017-08-26 01:32:00  2017-08-27 03:12:00                    NaN   \n",
       "\n",
       "  adm_referral_loc  adm_flag      depart_datetime stream  \n",
       "0              NaN         0  2013-01-10 23:16:00    MIN  \n",
       "1              NaN         0  2013-07-05 09:02:00    MIN  \n",
       "2              NaN         0  2017-08-26 03:31:00    MIN  "
      ]
     },
     "execution_count": 9,
     "metadata": {},
     "output_type": "execute_result"
    }
   ],
   "source": [
    "EDdata.get_EDraw().head(3)"
   ]
  },
  {
   "cell_type": "code",
   "execution_count": null,
   "metadata": {},
   "outputs": [],
   "source": []
  },
  {
   "cell_type": "markdown",
   "metadata": {},
   "source": [
    "### bespoke user cleaning operations "
   ]
  },
  {
   "cell_type": "markdown",
   "metadata": {},
   "source": [
    "if at any stage manual edits to the data are required (e.g. cleaning a spurious datetime)... get data out of class, edit and replace:"
   ]
  },
  {
   "cell_type": "code",
   "execution_count": 10,
   "metadata": {},
   "outputs": [],
   "source": [
    "#### get data out\n",
    "df = EDdata.get_EDraw()\n",
    "\n",
    "#### make changes to df\n",
    "# my changes here\n",
    "\n",
    "#### replace data into EDdata\n",
    "EDdata.replace_EDraw(df)"
   ]
  },
  {
   "cell_type": "code",
   "execution_count": null,
   "metadata": {},
   "outputs": [],
   "source": []
  },
  {
   "cell_type": "code",
   "execution_count": null,
   "metadata": {},
   "outputs": [],
   "source": []
  },
  {
   "cell_type": "code",
   "execution_count": null,
   "metadata": {},
   "outputs": [],
   "source": []
  },
  {
   "cell_type": "code",
   "execution_count": null,
   "metadata": {},
   "outputs": [],
   "source": []
  },
  {
   "cell_type": "markdown",
   "metadata": {},
   "source": [
    "### converting datetimes\n",
    "#### datetime formats are often non-standard...some attention is needed but there are some built in methods to help."
   ]
  },
  {
   "cell_type": "markdown",
   "metadata": {},
   "source": [
    "convert columns to datetime formats (by default anything with 'datetime' in column name will be transformed."
   ]
  },
  {
   "cell_type": "code",
   "execution_count": 11,
   "metadata": {},
   "outputs": [
    {
     "name": "stderr",
     "output_type": "stream",
     "text": [
      "C:\\Users\\bjk1y13\\OneDrive - University of Southampton\\MH000_HHFT_flow\\4_Analysis\\flosp\\flosp\\ioED.py:101: UserWarning: Datetime conversion can be problemtic. Make sure you have used the correct datetime string format for each column. You can call this method multiple times with different 'datetime formats' & 'list of columns' to convert if neccessary.\n",
      "  warnings.warn(\"Datetime conversion can be problemtic. Make sure you have used the correct datetime string format for each column. You can call this method multiple times with different 'datetime formats' & 'list of columns' to convert if neccessary.\")\n"
     ]
    },
    {
     "name": "stdout",
     "output_type": "stream",
     "text": [
      "Converting cols to datetime...(may take some time depedning on size of df)...\n",
      "arrive_datetime...converting\n",
      "first_triage_datetime...converting\n",
      "first_dr_datetime...converting\n",
      "depart_datetime...converting\n"
     ]
    }
   ],
   "source": [
    "EDdata.convert_cols_datetime(\"%Y/%m/%d %H:%M\")"
   ]
  },
  {
   "cell_type": "markdown",
   "metadata": {},
   "source": [
    "create a datetime column from seperate time and date columns."
   ]
  },
  {
   "cell_type": "code",
   "execution_count": 12,
   "metadata": {},
   "outputs": [
    {
     "name": "stdout",
     "output_type": "stream",
     "text": [
      "----------------------------------------\n",
      "Create datetime column from: first_adm_request_time & arrive_datetime\n"
     ]
    },
    {
     "name": "stderr",
     "output_type": "stream",
     "text": [
      "C:\\Users\\bjk1y13\\OneDrive - University of Southampton\\MH000_HHFT_flow\\4_Analysis\\flosp\\flosp\\basic_tools.py:131: UserWarning: 422 patients detected who have -ve wait times. They have probably rolled over midnight, so we add + 1day to the new datetime column created. This assumes < 24hr stays only.\n",
      "\n",
      "\n",
      "\n",
      "  warnings.warn(str(datetime_values.shape[0]) + ' patients detected who have -ve wait times. They have probably rolled over midnight, so we add + 1day to the new datetime column created. This assumes < 24hr stays only.\\n\\n\\n')\n"
     ]
    }
   ],
   "source": [
    "EDdata.create_datetime_from_time('first_adm_request_time','arrive_datetime','first_adm_request_datetime')"
   ]
  },
  {
   "cell_type": "markdown",
   "metadata": {},
   "source": [
    "### automated cleaning"
   ]
  },
  {
   "cell_type": "markdown",
   "metadata": {},
   "source": [
    "check what else needs doing to get data into normalised format:"
   ]
  },
  {
   "cell_type": "code",
   "execution_count": 13,
   "metadata": {},
   "outputs": [
    {
     "name": "stdout",
     "output_type": "stream",
     "text": [
      "--------------------\n",
      "Finding missing columns...\n",
      "age_group try using:  use make_age_group_column\n",
      "arrive_hour try using:  make_callender_columns\n",
      "arrive_dayofweek try using:  make_callender_columns\n",
      "arrive_month try using:  make_callender_columns\n",
      "arrive_dayofweek_name try using:  make_callender_columns\n",
      "arrive_date try using:  make_callender_columns\n",
      "arrive_week try using:  make_callender_columns\n",
      "depart_method try using:  \n",
      "depart_hour try using:  make_callender_columns\n",
      "depart_dayofweek try using:  make_callender_columns\n",
      "depart_week try using:  make_callender_columns\n",
      "depart_month try using:  make_callender_columns\n",
      "depart_dayofweek_name try using:  make_callender_columns\n",
      "depart_date try using:  make_callender_columns\n",
      "waiting_time try using:  \n",
      "BREACH_FLAG try using:  \n",
      "minutes_today try using:  \n",
      "minutes_tomo try using:  \n",
      "breach_datetime try using:  \n",
      "arr_triage_wait try using:  \n",
      "arr_dr_wait try using:  \n",
      "arr_adm_req_wait try using:  \n",
      "adm_req_dep_wait try using:  \n",
      "dr_adm_req_wait try using:  \n",
      "dr_dep_wait try using:  \n",
      "--------------------\n",
      "Finding columns with wrong datatypes...\n",
      "Col  arrive_mode                is: float64 . Expected any of:  [<class 'object'>]\n",
      "Col  adm_flag                   is: int64 . Expected any of:  [<class 'int'>]\n",
      "Col  stream                     is: object . Expected any of:  [<class 'float'>, <class 'int'>, <class 'numpy.int64'>, <class 'str'>]\n"
     ]
    }
   ],
   "source": [
    "EDdata.run_tests()"
   ]
  },
  {
   "cell_type": "markdown",
   "metadata": {},
   "source": [
    "#### run as much automated cleaning as possible using: "
   ]
  },
  {
   "cell_type": "code",
   "execution_count": 15,
   "metadata": {},
   "outputs": [
    {
     "name": "stdout",
     "output_type": "stream",
     "text": [
      "----------------------------------------\n",
      "Making callender columns from:arrive_datetime\n",
      "----------------------------------------\n",
      "Making callender columns from:depart_datetime\n"
     ]
    }
   ],
   "source": [
    "EDdata.autoclean()"
   ]
  },
  {
   "cell_type": "markdown",
   "metadata": {},
   "source": [
    "run tests again:"
   ]
  },
  {
   "cell_type": "code",
   "execution_count": 16,
   "metadata": {},
   "outputs": [
    {
     "name": "stdout",
     "output_type": "stream",
     "text": [
      "--------------------\n",
      "Finding missing columns...\n",
      "depart_method try using:  \n",
      "minutes_today try using:  \n",
      "minutes_tomo try using:  \n",
      "--------------------\n",
      "Finding columns with wrong datatypes...\n",
      "Col  arrive_mode                is: float64 . Expected any of:  [<class 'object'>]\n",
      "Col  adm_flag                   is: int64 . Expected any of:  [<class 'int'>]\n",
      "Col  stream                     is: object . Expected any of:  [<class 'float'>, <class 'int'>, <class 'numpy.int64'>, <class 'str'>]\n",
      "Col  depart_dayofweek_name      is: object . Expected any of:  [<class 'str'>]\n",
      "Col  age_group                  is: category . Expected any of:  [<class 'str'>, 'pandas category type']\n"
     ]
    }
   ],
   "source": [
    "EDdata.run_tests()"
   ]
  },
  {
   "cell_type": "markdown",
   "metadata": {},
   "source": [
    "#### alternativly to autoclean,  step through the process using various methods:"
   ]
  },
  {
   "cell_type": "code",
   "execution_count": 17,
   "metadata": {},
   "outputs": [
    {
     "name": "stdout",
     "output_type": "stream",
     "text": [
      "----------------------------------------\n",
      "Making callender columns from:arrive_datetime\n",
      "----------------------------------------\n",
      "Making callender columns from:depart_datetime\n"
     ]
    }
   ],
   "source": [
    "EDdata.make_callender_columns()"
   ]
  },
  {
   "cell_type": "code",
   "execution_count": 18,
   "metadata": {},
   "outputs": [],
   "source": [
    "EDdata.make_wait_columns()"
   ]
  },
  {
   "cell_type": "code",
   "execution_count": 19,
   "metadata": {},
   "outputs": [],
   "source": [
    "EDdata.make_breach_columns()"
   ]
  },
  {
   "cell_type": "code",
   "execution_count": 20,
   "metadata": {},
   "outputs": [],
   "source": [
    "EDdata.make_age_group_column()"
   ]
  },
  {
   "cell_type": "code",
   "execution_count": null,
   "metadata": {},
   "outputs": [],
   "source": []
  },
  {
   "cell_type": "code",
   "execution_count": 21,
   "metadata": {},
   "outputs": [
    {
     "name": "stdout",
     "output_type": "stream",
     "text": [
      "--------------------\n",
      "Finding missing columns...\n",
      "depart_method try using:  \n",
      "minutes_today try using:  \n",
      "minutes_tomo try using:  \n",
      "--------------------\n",
      "Finding columns with wrong datatypes...\n",
      "Col  arrive_mode                is: float64 . Expected any of:  [<class 'object'>]\n",
      "Col  adm_flag                   is: int64 . Expected any of:  [<class 'int'>]\n",
      "Col  stream                     is: object . Expected any of:  [<class 'float'>, <class 'int'>, <class 'numpy.int64'>, <class 'str'>]\n",
      "Col  depart_dayofweek_name      is: object . Expected any of:  [<class 'str'>]\n",
      "Col  age_group                  is: category . Expected any of:  [<class 'str'>, 'pandas category type']\n"
     ]
    }
   ],
   "source": [
    "EDdata.run_tests()"
   ]
  },
  {
   "cell_type": "code",
   "execution_count": null,
   "metadata": {},
   "outputs": [],
   "source": []
  },
  {
   "cell_type": "code",
   "execution_count": null,
   "metadata": {},
   "outputs": [],
   "source": []
  },
  {
   "cell_type": "markdown",
   "metadata": {},
   "source": [
    "## saving\n",
    "#### ioED (and flosp) will automate the structure of your saving folder in the root dir you provided when you created the EDdata instance of ioED"
   ]
  },
  {
   "cell_type": "code",
   "execution_count": 26,
   "metadata": {},
   "outputs": [
    {
     "data": {
      "text/plain": [
       "'./processed/myhosp/'"
      ]
     },
     "execution_count": 26,
     "metadata": {},
     "output_type": "execute_result"
    }
   ],
   "source": [
    "EDdata.save_path"
   ]
  },
  {
   "cell_type": "code",
   "execution_count": null,
   "metadata": {},
   "outputs": [],
   "source": []
  },
  {
   "cell_type": "markdown",
   "metadata": {},
   "source": [
    "#### at any stage save your data out to come back to later.."
   ]
  },
  {
   "cell_type": "code",
   "execution_count": 22,
   "metadata": {},
   "outputs": [
    {
     "name": "stdout",
     "output_type": "stream",
     "text": [
      "----------------------------------------\n",
      "saved file: ./processed/myhosp/RAW/myhospED.pkl\n"
     ]
    }
   ],
   "source": [
    "EDdata.saveRAWasRAW()"
   ]
  },
  {
   "cell_type": "code",
   "execution_count": null,
   "metadata": {},
   "outputs": [],
   "source": []
  },
  {
   "cell_type": "code",
   "execution_count": null,
   "metadata": {},
   "outputs": [],
   "source": []
  },
  {
   "cell_type": "markdown",
   "metadata": {},
   "source": [
    "#### once your data is cleaned, save cleaned data out to .pkl file"
   ]
  },
  {
   "cell_type": "code",
   "execution_count": 23,
   "metadata": {},
   "outputs": [
    {
     "name": "stdout",
     "output_type": "stream",
     "text": [
      "----------------------------------------\n",
      "saved file: ./processed/myhosp/myhospED.pkl\n"
     ]
    }
   ],
   "source": [
    "EDdata.saveRAWasCLEAN()"
   ]
  },
  {
   "cell_type": "code",
   "execution_count": null,
   "metadata": {},
   "outputs": [],
   "source": []
  },
  {
   "cell_type": "markdown",
   "metadata": {},
   "source": [
    "#### load your data back from cleaned file again if you are using ioED:"
   ]
  },
  {
   "cell_type": "code",
   "execution_count": 24,
   "metadata": {},
   "outputs": [
    {
     "name": "stdout",
     "output_type": "stream",
     "text": [
      "----------------------------------------\n",
      "loaded file: ./processed/myhosp/myhospED.pkl\n"
     ]
    }
   ],
   "source": [
    "EDdata.loadPKLasRAW()"
   ]
  },
  {
   "cell_type": "code",
   "execution_count": null,
   "metadata": {},
   "outputs": [],
   "source": []
  },
  {
   "cell_type": "code",
   "execution_count": null,
   "metadata": {},
   "outputs": [],
   "source": []
  }
 ],
 "metadata": {
  "kernelspec": {
   "display_name": "Python [default]",
   "language": "python",
   "name": "python3"
  },
  "language_info": {
   "codemirror_mode": {
    "name": "ipython",
    "version": 3
   },
   "file_extension": ".py",
   "mimetype": "text/x-python",
   "name": "python",
   "nbconvert_exporter": "python",
   "pygments_lexer": "ipython3",
   "version": "3.5.3"
  }
 },
 "nbformat": 4,
 "nbformat_minor": 2
}
