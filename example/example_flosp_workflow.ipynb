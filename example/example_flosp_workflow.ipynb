{
 "cells": [
  {
   "cell_type": "markdown",
   "metadata": {},
   "source": [
    "# Example workflow for using flosp to import and clean ED data"
   ]
  },
  {
   "cell_type": "markdown",
   "metadata": {},
   "source": [
    "Get to directory above to import flosp"
   ]
  },
  {
   "cell_type": "code",
   "execution_count": 1,
   "metadata": {},
   "outputs": [
    {
     "name": "stdout",
     "output_type": "stream",
     "text": [
      " Volume in drive C is Windows\n",
      " Volume Serial Number is EE63-178E\n",
      "\n",
      " Directory of C:\\Users\\bjk1y13\\OneDrive - University of Southampton\\MH030_HHFT_flow\\4_Analysis\\flosp\\example_data\n",
      "\n",
      "04/01/2019  11:02    <DIR>          .\n",
      "04/01/2019  11:02    <DIR>          ..\n",
      "04/01/2019  11:00    <DIR>          .ipynb_checkpoints\n",
      "04/01/2019  10:53         2,068,415 example_data.csv\n",
      "04/01/2019  11:00            28,750 example_flosp_workflow.ipynb\n",
      "04/01/2019  10:54    <DIR>          example_results\n",
      "04/01/2019  11:03               126 setup.py\n",
      "               3 File(s)      2,097,291 bytes\n",
      "               4 Dir(s)  335,571,881,984 bytes free\n"
     ]
    }
   ],
   "source": [
    "%ls"
   ]
  },
  {
   "cell_type": "code",
   "execution_count": 2,
   "metadata": {},
   "outputs": [
    {
     "name": "stdout",
     "output_type": "stream",
     "text": [
      "C:\\Users\\bjk1y13\\OneDrive - University of Southampton\\MH030_HHFT_flow\\4_Analysis\\flosp\n"
     ]
    }
   ],
   "source": [
    "%cd \".\\.."
   ]
  },
  {
   "cell_type": "code",
   "execution_count": 4,
   "metadata": {},
   "outputs": [],
   "source": [
    "import flosp"
   ]
  },
  {
   "cell_type": "code",
   "execution_count": null,
   "metadata": {},
   "outputs": [],
   "source": []
  },
  {
   "cell_type": "markdown",
   "metadata": {},
   "source": [
    "## initialise flosp\n",
    "\n",
    "You must provide the path to the setup file, which you should edit to your project specifics."
   ]
  },
  {
   "cell_type": "code",
   "execution_count": 8,
   "metadata": {},
   "outputs": [],
   "source": [
    "from flosp import Interface"
   ]
  },
  {
   "cell_type": "code",
   "execution_count": 9,
   "metadata": {},
   "outputs": [
    {
     "name": "stdout",
     "output_type": "stream",
     "text": [
      "created_flosp\n"
     ]
    }
   ],
   "source": [
    "eg = Interface()"
   ]
  },
  {
   "cell_type": "markdown",
   "metadata": {},
   "source": [
    "### Importing ED data"
   ]
  },
  {
   "cell_type": "code",
   "execution_count": null,
   "metadata": {},
   "outputs": [],
   "source": []
  },
  {
   "cell_type": "code",
   "execution_count": 5,
   "metadata": {},
   "outputs": [
    {
     "ename": "AttributeError",
     "evalue": "module 'flosp' has no attribute 'ioED'",
     "output_type": "error",
     "traceback": [
      "\u001b[1;31m---------------------------------------------------------------------------\u001b[0m",
      "\u001b[1;31mAttributeError\u001b[0m                            Traceback (most recent call last)",
      "\u001b[1;32m<ipython-input-5-7c8dff70b0a5>\u001b[0m in \u001b[0;36m<module>\u001b[1;34m()\u001b[0m\n\u001b[1;32m----> 1\u001b[1;33m \u001b[0mEDdata\u001b[0m \u001b[1;33m=\u001b[0m \u001b[0mflosp\u001b[0m\u001b[1;33m.\u001b[0m\u001b[0mioED\u001b[0m\u001b[1;33m(\u001b[0m\u001b[1;34m'myhosp'\u001b[0m\u001b[1;33m,\u001b[0m\u001b[1;34m'./'\u001b[0m\u001b[1;33m)\u001b[0m\u001b[1;33m\u001b[0m\u001b[0m\n\u001b[0m",
      "\u001b[1;31mAttributeError\u001b[0m: module 'flosp' has no attribute 'ioED'"
     ]
    }
   ],
   "source": [
    "EDdata = flosp.ioED('myhosp','./')"
   ]
  },
  {
   "cell_type": "markdown",
   "metadata": {},
   "source": [
    "load raw data"
   ]
  },
  {
   "cell_type": "code",
   "execution_count": 3,
   "metadata": {},
   "outputs": [
    {
     "name": "stdout",
     "output_type": "stream",
     "text": [
      "----------------------------------------\n",
      "importing ED csv data to RAW dataframe\n"
     ]
    }
   ],
   "source": [
    "EDdata.load_csv('./example_data.csv') #,nrows=1500) # limit number of rows for quick runtime during dev"
   ]
  },
  {
   "cell_type": "markdown",
   "metadata": {},
   "source": [
    "look at the dataframe at any stage of processing"
   ]
  },
  {
   "cell_type": "code",
   "execution_count": 4,
   "metadata": {},
   "outputs": [
    {
     "data": {
      "text/html": [
       "<div>\n",
       "<style scoped>\n",
       "    .dataframe tbody tr th:only-of-type {\n",
       "        vertical-align: middle;\n",
       "    }\n",
       "\n",
       "    .dataframe tbody tr th {\n",
       "        vertical-align: top;\n",
       "    }\n",
       "\n",
       "    .dataframe thead th {\n",
       "        text-align: right;\n",
       "    }\n",
       "</style>\n",
       "<table border=\"1\" class=\"dataframe\">\n",
       "  <thead>\n",
       "    <tr style=\"text-align: right;\">\n",
       "      <th></th>\n",
       "      <th>PSEUDONYMISED_PATIENT_ID</th>\n",
       "      <th>AGE_AT_ARRIVAL</th>\n",
       "      <th>GENDER_NATIONAL_DESCRIPTION</th>\n",
       "      <th>SITE</th>\n",
       "      <th>ARRIVAL_DTTM</th>\n",
       "      <th>ARRIVAL_MODE_NATIONAL_CODE</th>\n",
       "      <th>INITIAL_ASSESSMENT_DTTM</th>\n",
       "      <th>SEEN_FOR_TREATMENT_DTTM</th>\n",
       "      <th>SPECIALTY_REQUEST_TIME</th>\n",
       "      <th>SPECIALTY_REFERRED_TO_DESCRIPTION</th>\n",
       "      <th>ADMISSION_FLAG</th>\n",
       "      <th>ATTENDANCE_CONCLUSION_DTTM</th>\n",
       "      <th>STREAM_LOCAL_CODE</th>\n",
       "    </tr>\n",
       "  </thead>\n",
       "  <tbody>\n",
       "    <tr>\n",
       "      <th>0</th>\n",
       "      <td>2493</td>\n",
       "      <td>50</td>\n",
       "      <td>Female</td>\n",
       "      <td>HOSPITAL1</td>\n",
       "      <td>2013-01-08 19:44:00</td>\n",
       "      <td>2.0</td>\n",
       "      <td>2013-01-07 18:50:00</td>\n",
       "      <td>2013-01-09 21:50:00</td>\n",
       "      <td>NaN</td>\n",
       "      <td>NaN</td>\n",
       "      <td>0</td>\n",
       "      <td>2013-01-10 23:16:00</td>\n",
       "      <td>MIN</td>\n",
       "    </tr>\n",
       "    <tr>\n",
       "      <th>1</th>\n",
       "      <td>4822</td>\n",
       "      <td>22</td>\n",
       "      <td>Male</td>\n",
       "      <td>HOSPITAL1</td>\n",
       "      <td>2013-07-03 09:34:00</td>\n",
       "      <td>2.0</td>\n",
       "      <td>2013-07-03 08:57:00</td>\n",
       "      <td>2013-07-02 09:17:00</td>\n",
       "      <td>NaN</td>\n",
       "      <td>NaN</td>\n",
       "      <td>0</td>\n",
       "      <td>2013-07-05 09:02:00</td>\n",
       "      <td>MIN</td>\n",
       "    </tr>\n",
       "    <tr>\n",
       "      <th>2</th>\n",
       "      <td>6012</td>\n",
       "      <td>51</td>\n",
       "      <td>Male</td>\n",
       "      <td>HOSPITAL1</td>\n",
       "      <td>2017-08-27 23:33:00</td>\n",
       "      <td>2.0</td>\n",
       "      <td>2017-08-26 01:32:00</td>\n",
       "      <td>2017-08-27 03:12:00</td>\n",
       "      <td>NaN</td>\n",
       "      <td>NaN</td>\n",
       "      <td>0</td>\n",
       "      <td>2017-08-26 03:31:00</td>\n",
       "      <td>MIN</td>\n",
       "    </tr>\n",
       "  </tbody>\n",
       "</table>\n",
       "</div>"
      ],
      "text/plain": [
       "   PSEUDONYMISED_PATIENT_ID  AGE_AT_ARRIVAL GENDER_NATIONAL_DESCRIPTION  \\\n",
       "0                      2493              50                      Female   \n",
       "1                      4822              22                        Male   \n",
       "2                      6012              51                        Male   \n",
       "\n",
       "        SITE         ARRIVAL_DTTM  ARRIVAL_MODE_NATIONAL_CODE  \\\n",
       "0  HOSPITAL1  2013-01-08 19:44:00                         2.0   \n",
       "1  HOSPITAL1  2013-07-03 09:34:00                         2.0   \n",
       "2  HOSPITAL1  2017-08-27 23:33:00                         2.0   \n",
       "\n",
       "  INITIAL_ASSESSMENT_DTTM SEEN_FOR_TREATMENT_DTTM SPECIALTY_REQUEST_TIME  \\\n",
       "0     2013-01-07 18:50:00     2013-01-09 21:50:00                    NaN   \n",
       "1     2013-07-03 08:57:00     2013-07-02 09:17:00                    NaN   \n",
       "2     2017-08-26 01:32:00     2017-08-27 03:12:00                    NaN   \n",
       "\n",
       "  SPECIALTY_REFERRED_TO_DESCRIPTION  ADMISSION_FLAG  \\\n",
       "0                               NaN               0   \n",
       "1                               NaN               0   \n",
       "2                               NaN               0   \n",
       "\n",
       "  ATTENDANCE_CONCLUSION_DTTM STREAM_LOCAL_CODE  \n",
       "0        2013-01-10 23:16:00               MIN  \n",
       "1        2013-07-05 09:02:00               MIN  \n",
       "2        2017-08-26 03:31:00               MIN  "
      ]
     },
     "execution_count": 4,
     "metadata": {},
     "output_type": "execute_result"
    }
   ],
   "source": [
    "EDdata.get_EDraw().head(3)"
   ]
  },
  {
   "cell_type": "markdown",
   "metadata": {},
   "source": [
    "subsampling method - for quicker inital runtime during development of cleaning (some of the datetime conversions can take some time on larger data sets"
   ]
  },
  {
   "cell_type": "code",
   "execution_count": 5,
   "metadata": {},
   "outputs": [
    {
     "name": "stderr",
     "output_type": "stream",
     "text": [
      "C:\\Users\\bjk1y13\\OneDrive - University of Southampton\\MH000_HHFT_flow\\4_Analysis\\flosp\\flosp\\ioED.py:62: UserWarning: Using small_sample removes rows of good data. DO NOT USE IN FINAL DATA IMPORT!!\n",
      "  warnings.warn('Using small_sample removes rows of good data. DO NOT USE IN FINAL DATA IMPORT!!')\n"
     ]
    }
   ],
   "source": [
    "EDdata.small_sample(size=15000)"
   ]
  },
  {
   "cell_type": "code",
   "execution_count": null,
   "metadata": {},
   "outputs": [],
   "source": []
  },
  {
   "cell_type": "markdown",
   "metadata": {},
   "source": [
    "### mapping columns to standard naming convention"
   ]
  },
  {
   "cell_type": "markdown",
   "metadata": {},
   "source": [
    "unless your columns are already named using the required names - use column mapping method"
   ]
  },
  {
   "cell_type": "code",
   "execution_count": 1,
   "metadata": {},
   "outputs": [],
   "source": [
    "#### define dictionary for mapping\n",
    "col_map = {\n",
    "'PSEUDONYMISED_PATIENT_ID':'dept_patid',\n",
    "'PSEUDONYMISED_PATIENT_ID':'hosp_patid',\n",
    "'AGE_AT_ARRIVAL':'age',\n",
    "'GENDER_NATIONAL_DESCRIPTION':'gender',\n",
    "'SITE':'site',\n",
    "'ARRIVAL_DTTM':'arrive_datetime',\n",
    "'ARRIVAL_MODE_NATIONAL_CODE':'arrive_mode',\n",
    "'INITIAL_ASSESSMENT_DTTM':'first_triage_datetime',\n",
    "'SEEN_FOR_TREATMENT_DTTM':'first_dr_datetime',\n",
    "'SPECIALTY_REQUEST_TIME':'first_adm_request_time',\n",
    "'SPECIALTY_REFERRED_TO_DESCRIPTION':'adm_referral_loc',\n",
    "'ADMISSION_FLAG':'adm_flag',\n",
    "'ATTENDANCE_CONCLUSION_DTTM':'depart_datetime',\n",
    "'STREAM_LOCAL_CODE':'stream'\n",
    "}"
   ]
  },
  {
   "cell_type": "code",
   "execution_count": 3,
   "metadata": {},
   "outputs": [
    {
     "data": {
      "text/plain": [
       "13"
      ]
     },
     "execution_count": 3,
     "metadata": {},
     "output_type": "execute_result"
    }
   ],
   "source": [
    "len(col_map)"
   ]
  },
  {
   "cell_type": "code",
   "execution_count": 7,
   "metadata": {},
   "outputs": [
    {
     "name": "stdout",
     "output_type": "stream",
     "text": [
      "----------------------------------------\n",
      "mapping column names\n"
     ]
    }
   ],
   "source": [
    "EDdata.map_columns(col_map)"
   ]
  },
  {
   "cell_type": "markdown",
   "metadata": {},
   "source": [
    "required column names can be found: "
   ]
  },
  {
   "cell_type": "code",
   "execution_count": 8,
   "metadata": {},
   "outputs": [
    {
     "data": {
      "text/plain": [
       "dict_keys(['hosp_patid', 'age', 'age_group', 'gender', 'arrive_datetime', 'arrive_mode', 'arrive_hour', 'arrive_dayofweek', 'arrive_month', 'arrive_dayofweek_name', 'arrive_date', 'arrive_week', 'first_triage_datetime', 'first_dr_datetime', 'first_adm_request_datetime', 'adm_referral_loc', 'depart_datetime', 'depart_method', 'depart_hour', 'depart_dayofweek', 'depart_week', 'depart_month', 'depart_dayofweek_name', 'depart_date', 'waiting_time', 'breach_flag', 'adm_flag', 'stream', 'minutes_today', 'minutes_tomo', 'breach_datetime', 'arr_triage_wait', 'arr_dr_wait', 'arr_adm_req_wait', 'adm_req_dep_wait', 'dr_adm_req_wait', 'dr_dep_wait'])"
      ]
     },
     "execution_count": 8,
     "metadata": {},
     "output_type": "execute_result"
    }
   ],
   "source": [
    "flosp._expected_file_structures.dataRAW_expected_cols.keys()"
   ]
  },
  {
   "cell_type": "code",
   "execution_count": null,
   "metadata": {},
   "outputs": [],
   "source": []
  },
  {
   "cell_type": "code",
   "execution_count": 9,
   "metadata": {},
   "outputs": [
    {
     "data": {
      "text/html": [
       "<div>\n",
       "<style scoped>\n",
       "    .dataframe tbody tr th:only-of-type {\n",
       "        vertical-align: middle;\n",
       "    }\n",
       "\n",
       "    .dataframe tbody tr th {\n",
       "        vertical-align: top;\n",
       "    }\n",
       "\n",
       "    .dataframe thead th {\n",
       "        text-align: right;\n",
       "    }\n",
       "</style>\n",
       "<table border=\"1\" class=\"dataframe\">\n",
       "  <thead>\n",
       "    <tr style=\"text-align: right;\">\n",
       "      <th></th>\n",
       "      <th>hosp_patid</th>\n",
       "      <th>age</th>\n",
       "      <th>gender</th>\n",
       "      <th>site</th>\n",
       "      <th>arrive_datetime</th>\n",
       "      <th>arrive_mode</th>\n",
       "      <th>first_triage_datetime</th>\n",
       "      <th>first_dr_datetime</th>\n",
       "      <th>first_adm_request_time</th>\n",
       "      <th>adm_referral_loc</th>\n",
       "      <th>adm_flag</th>\n",
       "      <th>depart_datetime</th>\n",
       "      <th>stream</th>\n",
       "    </tr>\n",
       "  </thead>\n",
       "  <tbody>\n",
       "    <tr>\n",
       "      <th>0</th>\n",
       "      <td>2493</td>\n",
       "      <td>50</td>\n",
       "      <td>Female</td>\n",
       "      <td>HOSPITAL1</td>\n",
       "      <td>2013-01-08 19:44:00</td>\n",
       "      <td>2.0</td>\n",
       "      <td>2013-01-07 18:50:00</td>\n",
       "      <td>2013-01-09 21:50:00</td>\n",
       "      <td>NaN</td>\n",
       "      <td>NaN</td>\n",
       "      <td>0</td>\n",
       "      <td>2013-01-10 23:16:00</td>\n",
       "      <td>MIN</td>\n",
       "    </tr>\n",
       "    <tr>\n",
       "      <th>1</th>\n",
       "      <td>4822</td>\n",
       "      <td>22</td>\n",
       "      <td>Male</td>\n",
       "      <td>HOSPITAL1</td>\n",
       "      <td>2013-07-03 09:34:00</td>\n",
       "      <td>2.0</td>\n",
       "      <td>2013-07-03 08:57:00</td>\n",
       "      <td>2013-07-02 09:17:00</td>\n",
       "      <td>NaN</td>\n",
       "      <td>NaN</td>\n",
       "      <td>0</td>\n",
       "      <td>2013-07-05 09:02:00</td>\n",
       "      <td>MIN</td>\n",
       "    </tr>\n",
       "    <tr>\n",
       "      <th>2</th>\n",
       "      <td>6012</td>\n",
       "      <td>51</td>\n",
       "      <td>Male</td>\n",
       "      <td>HOSPITAL1</td>\n",
       "      <td>2017-08-27 23:33:00</td>\n",
       "      <td>2.0</td>\n",
       "      <td>2017-08-26 01:32:00</td>\n",
       "      <td>2017-08-27 03:12:00</td>\n",
       "      <td>NaN</td>\n",
       "      <td>NaN</td>\n",
       "      <td>0</td>\n",
       "      <td>2017-08-26 03:31:00</td>\n",
       "      <td>MIN</td>\n",
       "    </tr>\n",
       "  </tbody>\n",
       "</table>\n",
       "</div>"
      ],
      "text/plain": [
       "   hosp_patid  age  gender       site      arrive_datetime  arrive_mode  \\\n",
       "0        2493   50  Female  HOSPITAL1  2013-01-08 19:44:00          2.0   \n",
       "1        4822   22    Male  HOSPITAL1  2013-07-03 09:34:00          2.0   \n",
       "2        6012   51    Male  HOSPITAL1  2017-08-27 23:33:00          2.0   \n",
       "\n",
       "  first_triage_datetime    first_dr_datetime first_adm_request_time  \\\n",
       "0   2013-01-07 18:50:00  2013-01-09 21:50:00                    NaN   \n",
       "1   2013-07-03 08:57:00  2013-07-02 09:17:00                    NaN   \n",
       "2   2017-08-26 01:32:00  2017-08-27 03:12:00                    NaN   \n",
       "\n",
       "  adm_referral_loc  adm_flag      depart_datetime stream  \n",
       "0              NaN         0  2013-01-10 23:16:00    MIN  \n",
       "1              NaN         0  2013-07-05 09:02:00    MIN  \n",
       "2              NaN         0  2017-08-26 03:31:00    MIN  "
      ]
     },
     "execution_count": 9,
     "metadata": {},
     "output_type": "execute_result"
    }
   ],
   "source": [
    "EDdata.get_EDraw().head(3)"
   ]
  },
  {
   "cell_type": "code",
   "execution_count": null,
   "metadata": {},
   "outputs": [],
   "source": []
  },
  {
   "cell_type": "markdown",
   "metadata": {},
   "source": [
    "### bespoke user cleaning operations "
   ]
  },
  {
   "cell_type": "markdown",
   "metadata": {},
   "source": [
    "if at any stage manual edits to the data are required (e.g. cleaning a spurious datetime)... get data out of class, edit and replace:"
   ]
  },
  {
   "cell_type": "code",
   "execution_count": 10,
   "metadata": {},
   "outputs": [],
   "source": [
    "#### get data out\n",
    "df = EDdata.get_EDraw()\n",
    "\n",
    "#### make changes to df\n",
    "# my changes here\n",
    "\n",
    "#### replace data into EDdata\n",
    "EDdata.replace_EDraw(df)"
   ]
  },
  {
   "cell_type": "code",
   "execution_count": null,
   "metadata": {},
   "outputs": [],
   "source": []
  },
  {
   "cell_type": "code",
   "execution_count": null,
   "metadata": {},
   "outputs": [],
   "source": []
  },
  {
   "cell_type": "code",
   "execution_count": null,
   "metadata": {},
   "outputs": [],
   "source": []
  },
  {
   "cell_type": "code",
   "execution_count": null,
   "metadata": {},
   "outputs": [],
   "source": []
  },
  {
   "cell_type": "markdown",
   "metadata": {},
   "source": [
    "### converting datetimes\n",
    "#### datetime formats are often non-standard...some attention is needed but there are some built in methods to help."
   ]
  },
  {
   "cell_type": "markdown",
   "metadata": {},
   "source": [
    "convert columns to datetime formats (by default anything with 'datetime' in column name will be transformed."
   ]
  },
  {
   "cell_type": "code",
   "execution_count": 11,
   "metadata": {},
   "outputs": [
    {
     "name": "stderr",
     "output_type": "stream",
     "text": [
      "C:\\Users\\bjk1y13\\OneDrive - University of Southampton\\MH000_HHFT_flow\\4_Analysis\\flosp\\flosp\\ioED.py:101: UserWarning: Datetime conversion can be problemtic. Make sure you have used the correct datetime string format for each column. You can call this method multiple times with different 'datetime formats' & 'list of columns' to convert if neccessary.\n",
      "  warnings.warn(\"Datetime conversion can be problemtic. Make sure you have used the correct datetime string format for each column. You can call this method multiple times with different 'datetime formats' & 'list of columns' to convert if neccessary.\")\n"
     ]
    },
    {
     "name": "stdout",
     "output_type": "stream",
     "text": [
      "Converting cols to datetime...(may take some time depedning on size of df)...\n",
      "arrive_datetime...converting\n",
      "first_triage_datetime...converting\n",
      "first_dr_datetime...converting\n",
      "depart_datetime...converting\n"
     ]
    }
   ],
   "source": [
    "EDdata.convert_cols_datetime(\"%Y/%m/%d %H:%M\")"
   ]
  },
  {
   "cell_type": "markdown",
   "metadata": {},
   "source": [
    "create a datetime column from seperate time and date columns."
   ]
  },
  {
   "cell_type": "code",
   "execution_count": 12,
   "metadata": {},
   "outputs": [
    {
     "name": "stdout",
     "output_type": "stream",
     "text": [
      "----------------------------------------\n",
      "Create datetime column from: first_adm_request_time & arrive_datetime\n"
     ]
    },
    {
     "name": "stderr",
     "output_type": "stream",
     "text": [
      "C:\\Users\\bjk1y13\\OneDrive - University of Southampton\\MH000_HHFT_flow\\4_Analysis\\flosp\\flosp\\basic_tools.py:131: UserWarning: 422 patients detected who have -ve wait times. They have probably rolled over midnight, so we add + 1day to the new datetime column created. This assumes < 24hr stays only.\n",
      "\n",
      "\n",
      "\n",
      "  warnings.warn(str(datetime_values.shape[0]) + ' patients detected who have -ve wait times. They have probably rolled over midnight, so we add + 1day to the new datetime column created. This assumes < 24hr stays only.\\n\\n\\n')\n"
     ]
    }
   ],
   "source": [
    "EDdata.create_datetime_from_time('first_adm_request_time','arrive_datetime','first_adm_request_datetime')"
   ]
  },
  {
   "cell_type": "markdown",
   "metadata": {},
   "source": [
    "### automated cleaning"
   ]
  },
  {
   "cell_type": "markdown",
   "metadata": {},
   "source": [
    "check what else needs doing to get data into normalised format:"
   ]
  },
  {
   "cell_type": "code",
   "execution_count": 13,
   "metadata": {},
   "outputs": [
    {
     "name": "stdout",
     "output_type": "stream",
     "text": [
      "--------------------\n",
      "Finding missing columns...\n",
      "age_group try using:  use make_age_group_column\n",
      "arrive_hour try using:  make_callender_columns\n",
      "arrive_dayofweek try using:  make_callender_columns\n",
      "arrive_month try using:  make_callender_columns\n",
      "arrive_dayofweek_name try using:  make_callender_columns\n",
      "arrive_date try using:  make_callender_columns\n",
      "arrive_week try using:  make_callender_columns\n",
      "depart_method try using:  \n",
      "depart_hour try using:  make_callender_columns\n",
      "depart_dayofweek try using:  make_callender_columns\n",
      "depart_week try using:  make_callender_columns\n",
      "depart_month try using:  make_callender_columns\n",
      "depart_dayofweek_name try using:  make_callender_columns\n",
      "depart_date try using:  make_callender_columns\n",
      "waiting_time try using:  \n",
      "breach_flag try using:  \n",
      "minutes_today try using:  \n",
      "minutes_tomo try using:  \n",
      "breach_datetime try using:  \n",
      "arr_triage_wait try using:  \n",
      "arr_dr_wait try using:  \n",
      "arr_adm_req_wait try using:  \n",
      "adm_req_dep_wait try using:  \n",
      "dr_adm_req_wait try using:  \n",
      "dr_dep_wait try using:  \n",
      "--------------------\n",
      "Finding columns with wrong datatypes...\n",
      "Col  arrive_mode                is: float64 . Expected any of:  [<class 'object'>]\n",
      "Col  adm_flag                   is: int64 . Expected any of:  [<class 'int'>]\n",
      "Col  stream                     is: object . Expected any of:  [<class 'float'>, <class 'int'>, <class 'numpy.int64'>, <class 'str'>]\n"
     ]
    }
   ],
   "source": [
    "EDdata.run_tests()"
   ]
  },
  {
   "cell_type": "markdown",
   "metadata": {},
   "source": [
    "#### run as much automated cleaning as possible using: "
   ]
  },
  {
   "cell_type": "code",
   "execution_count": 15,
   "metadata": {},
   "outputs": [
    {
     "name": "stdout",
     "output_type": "stream",
     "text": [
      "----------------------------------------\n",
      "Making callender columns from:arrive_datetime\n",
      "----------------------------------------\n",
      "Making callender columns from:depart_datetime\n"
     ]
    }
   ],
   "source": [
    "EDdata.autoclean()"
   ]
  },
  {
   "cell_type": "markdown",
   "metadata": {},
   "source": [
    "run tests again:"
   ]
  },
  {
   "cell_type": "code",
   "execution_count": 16,
   "metadata": {},
   "outputs": [
    {
     "name": "stdout",
     "output_type": "stream",
     "text": [
      "--------------------\n",
      "Finding missing columns...\n",
      "depart_method try using:  \n",
      "minutes_today try using:  \n",
      "minutes_tomo try using:  \n",
      "--------------------\n",
      "Finding columns with wrong datatypes...\n",
      "Col  arrive_mode                is: float64 . Expected any of:  [<class 'object'>]\n",
      "Col  adm_flag                   is: int64 . Expected any of:  [<class 'int'>]\n",
      "Col  stream                     is: object . Expected any of:  [<class 'float'>, <class 'int'>, <class 'numpy.int64'>, <class 'str'>]\n",
      "Col  depart_dayofweek_name      is: object . Expected any of:  [<class 'str'>]\n",
      "Col  age_group                  is: category . Expected any of:  [<class 'str'>, 'pandas category type']\n"
     ]
    }
   ],
   "source": [
    "EDdata.run_tests()"
   ]
  },
  {
   "cell_type": "markdown",
   "metadata": {},
   "source": [
    "#### alternativly to autoclean,  step through the process using various methods:"
   ]
  },
  {
   "cell_type": "code",
   "execution_count": 17,
   "metadata": {},
   "outputs": [
    {
     "name": "stdout",
     "output_type": "stream",
     "text": [
      "----------------------------------------\n",
      "Making callender columns from:arrive_datetime\n",
      "----------------------------------------\n",
      "Making callender columns from:depart_datetime\n"
     ]
    }
   ],
   "source": [
    "EDdata.make_callender_columns()"
   ]
  },
  {
   "cell_type": "code",
   "execution_count": 18,
   "metadata": {},
   "outputs": [],
   "source": [
    "EDdata.make_wait_columns()"
   ]
  },
  {
   "cell_type": "code",
   "execution_count": 19,
   "metadata": {},
   "outputs": [],
   "source": [
    "EDdata.make_breach_columns()"
   ]
  },
  {
   "cell_type": "code",
   "execution_count": 20,
   "metadata": {},
   "outputs": [],
   "source": [
    "EDdata.make_age_group_column()"
   ]
  },
  {
   "cell_type": "code",
   "execution_count": null,
   "metadata": {},
   "outputs": [],
   "source": []
  },
  {
   "cell_type": "code",
   "execution_count": 21,
   "metadata": {},
   "outputs": [
    {
     "name": "stdout",
     "output_type": "stream",
     "text": [
      "--------------------\n",
      "Finding missing columns...\n",
      "depart_method try using:  \n",
      "minutes_today try using:  \n",
      "minutes_tomo try using:  \n",
      "--------------------\n",
      "Finding columns with wrong datatypes...\n",
      "Col  arrive_mode                is: float64 . Expected any of:  [<class 'object'>]\n",
      "Col  adm_flag                   is: int64 . Expected any of:  [<class 'int'>]\n",
      "Col  stream                     is: object . Expected any of:  [<class 'float'>, <class 'int'>, <class 'numpy.int64'>, <class 'str'>]\n",
      "Col  depart_dayofweek_name      is: object . Expected any of:  [<class 'str'>]\n",
      "Col  age_group                  is: category . Expected any of:  [<class 'str'>, 'pandas category type']\n"
     ]
    }
   ],
   "source": [
    "EDdata.run_tests()"
   ]
  },
  {
   "cell_type": "code",
   "execution_count": null,
   "metadata": {},
   "outputs": [],
   "source": []
  },
  {
   "cell_type": "code",
   "execution_count": null,
   "metadata": {},
   "outputs": [],
   "source": []
  },
  {
   "cell_type": "markdown",
   "metadata": {},
   "source": [
    "## saving\n",
    "#### ioED (and flosp) will automate the structure of your saving folder in the root dir you provided when you created the EDdata instance of ioED"
   ]
  },
  {
   "cell_type": "code",
   "execution_count": 26,
   "metadata": {},
   "outputs": [
    {
     "data": {
      "text/plain": [
       "'./processed/myhosp/'"
      ]
     },
     "execution_count": 26,
     "metadata": {},
     "output_type": "execute_result"
    }
   ],
   "source": [
    "EDdata.save_path"
   ]
  },
  {
   "cell_type": "code",
   "execution_count": null,
   "metadata": {},
   "outputs": [],
   "source": []
  },
  {
   "cell_type": "markdown",
   "metadata": {},
   "source": [
    "#### at any stage save your data out to come back to later.."
   ]
  },
  {
   "cell_type": "code",
   "execution_count": 22,
   "metadata": {},
   "outputs": [
    {
     "name": "stdout",
     "output_type": "stream",
     "text": [
      "----------------------------------------\n",
      "saved file: ./processed/myhosp/RAW/myhospED.pkl\n"
     ]
    }
   ],
   "source": [
    "EDdata.saveRAWasRAW()"
   ]
  },
  {
   "cell_type": "code",
   "execution_count": null,
   "metadata": {},
   "outputs": [],
   "source": []
  },
  {
   "cell_type": "code",
   "execution_count": null,
   "metadata": {},
   "outputs": [],
   "source": []
  },
  {
   "cell_type": "markdown",
   "metadata": {},
   "source": [
    "#### once your data is cleaned, save cleaned data out to .pkl file"
   ]
  },
  {
   "cell_type": "code",
   "execution_count": 23,
   "metadata": {},
   "outputs": [
    {
     "name": "stdout",
     "output_type": "stream",
     "text": [
      "----------------------------------------\n",
      "saved file: ./processed/myhosp/myhospED.pkl\n"
     ]
    }
   ],
   "source": [
    "EDdata.saveRAWasCLEAN()"
   ]
  },
  {
   "cell_type": "code",
   "execution_count": null,
   "metadata": {},
   "outputs": [],
   "source": []
  },
  {
   "cell_type": "markdown",
   "metadata": {},
   "source": [
    "#### load your data back from cleaned file again if you are using ioED:"
   ]
  },
  {
   "cell_type": "code",
   "execution_count": 24,
   "metadata": {},
   "outputs": [
    {
     "name": "stdout",
     "output_type": "stream",
     "text": [
      "----------------------------------------\n",
      "loaded file: ./processed/myhosp/myhospED.pkl\n"
     ]
    }
   ],
   "source": [
    "EDdata.loadPKLasRAW()"
   ]
  },
  {
   "cell_type": "code",
   "execution_count": null,
   "metadata": {},
   "outputs": [],
   "source": []
  },
  {
   "cell_type": "code",
   "execution_count": null,
   "metadata": {},
   "outputs": [],
   "source": []
  }
 ],
 "metadata": {
  "kernelspec": {
   "display_name": "Python 3",
   "language": "python",
   "name": "python3"
  },
  "language_info": {
   "codemirror_mode": {
    "name": "ipython",
    "version": 3
   },
   "file_extension": ".py",
   "mimetype": "text/x-python",
   "name": "python",
   "nbconvert_exporter": "python",
   "pygments_lexer": "ipython3",
   "version": "3.6.4"
  }
 },
 "nbformat": 4,
 "nbformat_minor": 2
}
