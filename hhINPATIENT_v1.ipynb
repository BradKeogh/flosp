{
 "cells": [
  {
   "cell_type": "markdown",
   "metadata": {},
   "source": [
    "# import dep and data "
   ]
  },
  {
   "cell_type": "code",
   "execution_count": 7,
   "metadata": {},
   "outputs": [],
   "source": [
    "import pandas as pd\n",
    "import numpy as np\n",
    "import seaborn as sns\n",
    "import bradlib as bl\n",
    "sns.set()"
   ]
  },
  {
   "cell_type": "code",
   "execution_count": 5,
   "metadata": {},
   "outputs": [
    {
     "data": {
      "text/plain": [
       "'C:\\\\Users\\\\bjk1y13\\\\OneDrive - University of Southampton\\\\MH000_HHFT_flow\\\\4_Analysis\\\\hospital-flow'"
      ]
     },
     "execution_count": 5,
     "metadata": {},
     "output_type": "execute_result"
    }
   ],
   "source": [
    "% pwd"
   ]
  },
  {
   "cell_type": "code",
   "execution_count": 8,
   "metadata": {},
   "outputs": [],
   "source": [
    "inpat = pd.read_csv('./../../3_Data/HH_IP_FLOW_Study.csv',low_memory=False)"
   ]
  },
  {
   "cell_type": "code",
   "execution_count": 10,
   "metadata": {},
   "outputs": [],
   "source": [
    "inpat = bl.dftools.pd_tidy_column_heads(inpat)"
   ]
  },
  {
   "cell_type": "code",
   "execution_count": 11,
   "metadata": {},
   "outputs": [
    {
     "data": {
      "text/html": [
       "<div>\n",
       "<style scoped>\n",
       "    .dataframe tbody tr th:only-of-type {\n",
       "        vertical-align: middle;\n",
       "    }\n",
       "\n",
       "    .dataframe tbody tr th {\n",
       "        vertical-align: top;\n",
       "    }\n",
       "\n",
       "    .dataframe thead th {\n",
       "        text-align: right;\n",
       "    }\n",
       "</style>\n",
       "<table border=\"1\" class=\"dataframe\">\n",
       "  <thead>\n",
       "    <tr style=\"text-align: right;\">\n",
       "      <th></th>\n",
       "      <th>pseudonymised_patient_id</th>\n",
       "      <th>age_at_admission</th>\n",
       "      <th>gender_national_code</th>\n",
       "      <th>gender_national_code_1</th>\n",
       "      <th>site</th>\n",
       "      <th>admission_dttm</th>\n",
       "      <th>discharge_dttm</th>\n",
       "      <th>admission_method_nc</th>\n",
       "      <th>admission_method_description</th>\n",
       "      <th>admission_type</th>\n",
       "      <th>...</th>\n",
       "      <th>ward_14_end</th>\n",
       "      <th>ward_15</th>\n",
       "      <th>ward_15_start</th>\n",
       "      <th>ward_15_end</th>\n",
       "      <th>episode_los</th>\n",
       "      <th>spell_los</th>\n",
       "      <th>discharge_destination_nc</th>\n",
       "      <th>discharge_destination_description</th>\n",
       "      <th>discharge_method_nc</th>\n",
       "      <th>discharge_method_destination</th>\n",
       "    </tr>\n",
       "  </thead>\n",
       "  <tbody>\n",
       "    <tr>\n",
       "      <th>0</th>\n",
       "      <td>12</td>\n",
       "      <td>26</td>\n",
       "      <td>2.0</td>\n",
       "      <td>Female</td>\n",
       "      <td>NHH</td>\n",
       "      <td>24/01/2018 21:44</td>\n",
       "      <td>25/01/2018 22:30</td>\n",
       "      <td>22</td>\n",
       "      <td>GENERAL PRACTITIONER: after a request for imme...</td>\n",
       "      <td>Non-Elective</td>\n",
       "      <td>...</td>\n",
       "      <td>NaN</td>\n",
       "      <td>NaN</td>\n",
       "      <td>NaN</td>\n",
       "      <td>NaN</td>\n",
       "      <td>1</td>\n",
       "      <td>1</td>\n",
       "      <td>19</td>\n",
       "      <td>Usual place of residence unless listed below, ...</td>\n",
       "      <td>1</td>\n",
       "      <td>PATIENT discharged on clinical advice or with ...</td>\n",
       "    </tr>\n",
       "    <tr>\n",
       "      <th>1</th>\n",
       "      <td>13</td>\n",
       "      <td>51</td>\n",
       "      <td>1.0</td>\n",
       "      <td>Male</td>\n",
       "      <td>NHH</td>\n",
       "      <td>25/04/2017 07:43</td>\n",
       "      <td>25/04/2017 13:00</td>\n",
       "      <td>21</td>\n",
       "      <td>Accident and emergency or dental casualty depa...</td>\n",
       "      <td>Non-Elective</td>\n",
       "      <td>...</td>\n",
       "      <td>NaN</td>\n",
       "      <td>NaN</td>\n",
       "      <td>NaN</td>\n",
       "      <td>NaN</td>\n",
       "      <td>0</td>\n",
       "      <td>0</td>\n",
       "      <td>19</td>\n",
       "      <td>Usual place of residence unless listed below, ...</td>\n",
       "      <td>1</td>\n",
       "      <td>PATIENT discharged on clinical advice or with ...</td>\n",
       "    </tr>\n",
       "  </tbody>\n",
       "</table>\n",
       "<p>2 rows × 66 columns</p>\n",
       "</div>"
      ],
      "text/plain": [
       "   pseudonymised_patient_id  age_at_admission  gender_national_code  \\\n",
       "0                        12                26                   2.0   \n",
       "1                        13                51                   1.0   \n",
       "\n",
       "  gender_national_code_1 site    admission_dttm    discharge_dttm  \\\n",
       "0                 Female  NHH  24/01/2018 21:44  25/01/2018 22:30   \n",
       "1                   Male  NHH  25/04/2017 07:43  25/04/2017 13:00   \n",
       "\n",
       "  admission_method_nc                       admission_method_description  \\\n",
       "0                  22  GENERAL PRACTITIONER: after a request for imme...   \n",
       "1                  21  Accident and emergency or dental casualty depa...   \n",
       "\n",
       "  admission_type                        ...                          \\\n",
       "0   Non-Elective                        ...                           \n",
       "1   Non-Elective                        ...                           \n",
       "\n",
       "   ward_14_end ward_15 ward_15_start  ward_15_end episode_los spell_los  \\\n",
       "0          NaN     NaN           NaN          NaN           1         1   \n",
       "1          NaN     NaN           NaN          NaN           0         0   \n",
       "\n",
       "  discharge_destination_nc                  discharge_destination_description  \\\n",
       "0                       19  Usual place of residence unless listed below, ...   \n",
       "1                       19  Usual place of residence unless listed below, ...   \n",
       "\n",
       "  discharge_method_nc                       discharge_method_destination  \n",
       "0                   1  PATIENT discharged on clinical advice or with ...  \n",
       "1                   1  PATIENT discharged on clinical advice or with ...  \n",
       "\n",
       "[2 rows x 66 columns]"
      ]
     },
     "execution_count": 11,
     "metadata": {},
     "output_type": "execute_result"
    }
   ],
   "source": [
    "inpat.head(2)"
   ]
  },
  {
   "cell_type": "code",
   "execution_count": null,
   "metadata": {},
   "outputs": [],
   "source": []
  },
  {
   "cell_type": "markdown",
   "metadata": {},
   "source": [
    "reduce for testing"
   ]
  },
  {
   "cell_type": "code",
   "execution_count": 28,
   "metadata": {},
   "outputs": [],
   "source": [
    "inpat = inpat[0:5000]"
   ]
  },
  {
   "cell_type": "code",
   "execution_count": null,
   "metadata": {},
   "outputs": [],
   "source": []
  },
  {
   "cell_type": "markdown",
   "metadata": {},
   "source": [
    "# Cleaning"
   ]
  },
  {
   "cell_type": "code",
   "execution_count": 29,
   "metadata": {},
   "outputs": [
    {
     "data": {
      "text/plain": [
       "Index(['pseudonymised_patient_id', 'age_at_admission', 'gender_national_code',\n",
       "       'gender_national_code_1', 'site', 'admission_dttm', 'discharge_dttm',\n",
       "       'admission_method_nc', 'admission_method_description', 'admission_type',\n",
       "       'episode_no', 'episode_start_dttm', 'episode_end_dttm',\n",
       "       'treatment_function_nc', 'specialty_description', 'ward_1',\n",
       "       'ward_1_start', 'ward_1_end', 'ward_2', 'ward_2_start', 'ward_2_end',\n",
       "       'ward_3', 'ward_3_start', 'ward_3_end', 'ward_4', 'ward_4_start',\n",
       "       'ward_4_end', 'ward_5', 'ward_5_start', 'ward_5_end', 'ward_6',\n",
       "       'ward_6_start', 'ward_6_end', 'ward_7', 'ward_7_start', 'ward_7_end',\n",
       "       'ward_8', 'ward_8_start', 'ward_8_end', 'ward_9', 'ward_9_start',\n",
       "       'ward_9_end', 'ward_10', 'ward_10_start', 'ward_10_end', 'ward_11',\n",
       "       'ward_11_start', 'ward_11_end', 'ward_12', 'ward_12_start',\n",
       "       'ward_12_end', 'ward_13', 'ward_13_start', 'ward_13_end', 'ward_14',\n",
       "       'ward_14_start', 'ward_14_end', 'ward_15', 'ward_15_start',\n",
       "       'ward_15_end', 'episode_los', 'spell_los', 'discharge_destination_nc',\n",
       "       'discharge_destination_description', 'discharge_method_nc',\n",
       "       'discharge_method_destination'],\n",
       "      dtype='object')"
      ]
     },
     "execution_count": 29,
     "metadata": {},
     "output_type": "execute_result"
    }
   ],
   "source": [
    "inpat.columns"
   ]
  },
  {
   "cell_type": "markdown",
   "metadata": {},
   "source": [
    "make datetime col format"
   ]
  },
  {
   "cell_type": "code",
   "execution_count": 30,
   "metadata": {},
   "outputs": [],
   "source": [
    "datetime_cols = []\n",
    "for i in inpat.columns:\n",
    "    if ('dttm' in i): # or ('_end' in i):\n",
    "        datetime_cols.append(i)"
   ]
  },
  {
   "cell_type": "code",
   "execution_count": 31,
   "metadata": {},
   "outputs": [
    {
     "data": {
      "text/plain": [
       "['admission_dttm', 'discharge_dttm', 'episode_start_dttm', 'episode_end_dttm']"
      ]
     },
     "execution_count": 31,
     "metadata": {},
     "output_type": "execute_result"
    }
   ],
   "source": [
    "datetime_cols"
   ]
  },
  {
   "cell_type": "code",
   "execution_count": 36,
   "metadata": {},
   "outputs": [],
   "source": [
    "for i in datetime_cols:\n",
    "    inpat[i] = pd.to_datetime(inpat[i], format= '%d/%m/%Y %H:%M')"
   ]
  },
  {
   "cell_type": "markdown",
   "metadata": {},
   "source": [
    "datetimes"
   ]
  },
  {
   "cell_type": "code",
   "execution_count": 37,
   "metadata": {},
   "outputs": [
    {
     "data": {
      "text/plain": [
       "dtype('<M8[ns]')"
      ]
     },
     "execution_count": 37,
     "metadata": {},
     "output_type": "execute_result"
    }
   ],
   "source": [
    "inpat[i].dtype"
   ]
  },
  {
   "cell_type": "markdown",
   "metadata": {},
   "source": [
    "make arrival year etc?"
   ]
  },
  {
   "cell_type": "code",
   "execution_count": null,
   "metadata": {},
   "outputs": [],
   "source": []
  },
  {
   "cell_type": "markdown",
   "metadata": {},
   "source": [
    "# basics dataset"
   ]
  },
  {
   "cell_type": "code",
   "execution_count": 38,
   "metadata": {},
   "outputs": [
    {
     "data": {
      "text/plain": [
       "Timestamp('2014-01-12 04:31:00')"
      ]
     },
     "execution_count": 38,
     "metadata": {},
     "output_type": "execute_result"
    }
   ],
   "source": [
    "inpat.admission_dttm.min()"
   ]
  },
  {
   "cell_type": "code",
   "execution_count": 39,
   "metadata": {},
   "outputs": [
    {
     "data": {
      "text/plain": [
       "Timestamp('2014-01-12 16:58:00')"
      ]
     },
     "execution_count": 39,
     "metadata": {},
     "output_type": "execute_result"
    }
   ],
   "source": [
    "inpat.discharge_dttm.min()"
   ]
  },
  {
   "cell_type": "code",
   "execution_count": null,
   "metadata": {},
   "outputs": [],
   "source": []
  },
  {
   "cell_type": "markdown",
   "metadata": {},
   "source": [
    "# volumes/activity"
   ]
  },
  {
   "cell_type": "markdown",
   "metadata": {},
   "source": [
    "- groupby year/admission method\n",
    "- groupby year/age groups"
   ]
  },
  {
   "cell_type": "code",
   "execution_count": null,
   "metadata": {},
   "outputs": [],
   "source": []
  },
  {
   "cell_type": "markdown",
   "metadata": {},
   "source": [
    "- no of beds\n",
    "- no of wards\n",
    "- changges over time\n",
    "- occupancy?\n",
    "- "
   ]
  },
  {
   "cell_type": "code",
   "execution_count": null,
   "metadata": {},
   "outputs": [],
   "source": []
  },
  {
   "cell_type": "markdown",
   "metadata": {},
   "source": [
    "# patient flow through wards"
   ]
  },
  {
   "cell_type": "markdown",
   "metadata": {},
   "source": [
    "- isolate ward movements into 1 df\n",
    "- look at individual years?\n",
    "- proprtion of entry to wards\n",
    "- proportion of exit wards\n",
    "- number of ward moves"
   ]
  },
  {
   "cell_type": "code",
   "execution_count": null,
   "metadata": {},
   "outputs": [],
   "source": []
  },
  {
   "cell_type": "code",
   "execution_count": null,
   "metadata": {},
   "outputs": [],
   "source": []
  },
  {
   "cell_type": "markdown",
   "metadata": {},
   "source": [
    "# outliers"
   ]
  },
  {
   "cell_type": "markdown",
   "metadata": {},
   "source": [
    "- average no.s of ward moves\n",
    "- "
   ]
  },
  {
   "cell_type": "code",
   "execution_count": null,
   "metadata": {},
   "outputs": [],
   "source": []
  },
  {
   "cell_type": "code",
   "execution_count": null,
   "metadata": {},
   "outputs": [],
   "source": []
  },
  {
   "cell_type": "code",
   "execution_count": null,
   "metadata": {},
   "outputs": [],
   "source": []
  },
  {
   "cell_type": "markdown",
   "metadata": {},
   "source": [
    "# link between wards and ED data?"
   ]
  },
  {
   "cell_type": "markdown",
   "metadata": {},
   "source": [
    "- look through analysis from pmth data and copy?"
   ]
  },
  {
   "cell_type": "code",
   "execution_count": null,
   "metadata": {},
   "outputs": [],
   "source": []
  },
  {
   "cell_type": "markdown",
   "metadata": {},
   "source": [
    "# patient group clustering"
   ]
  },
  {
   "cell_type": "code",
   "execution_count": null,
   "metadata": {},
   "outputs": [],
   "source": []
  },
  {
   "cell_type": "code",
   "execution_count": null,
   "metadata": {},
   "outputs": [],
   "source": []
  },
  {
   "cell_type": "code",
   "execution_count": null,
   "metadata": {},
   "outputs": [],
   "source": []
  },
  {
   "cell_type": "markdown",
   "metadata": {},
   "source": [
    "# Dev"
   ]
  },
  {
   "cell_type": "code",
   "execution_count": 2,
   "metadata": {},
   "outputs": [
    {
     "ename": "SyntaxError",
     "evalue": "'break' outside loop (<ipython-input-2-6aaf1f276005>, line 1)",
     "output_type": "error",
     "traceback": [
      "\u001b[1;36m  File \u001b[1;32m\"<ipython-input-2-6aaf1f276005>\"\u001b[1;36m, line \u001b[1;32m1\u001b[0m\n\u001b[1;33m    break\u001b[0m\n\u001b[1;37m         ^\u001b[0m\n\u001b[1;31mSyntaxError\u001b[0m\u001b[1;31m:\u001b[0m 'break' outside loop\n"
     ]
    }
   ],
   "source": [
    "break"
   ]
  },
  {
   "cell_type": "code",
   "execution_count": null,
   "metadata": {},
   "outputs": [],
   "source": []
  }
 ],
 "metadata": {
  "kernelspec": {
   "display_name": "Python 3",
   "language": "python",
   "name": "python3"
  },
  "language_info": {
   "codemirror_mode": {
    "name": "ipython",
    "version": 3
   },
   "file_extension": ".py",
   "mimetype": "text/x-python",
   "name": "python",
   "nbconvert_exporter": "python",
   "pygments_lexer": "ipython3",
   "version": "3.6.4"
  }
 },
 "nbformat": 4,
 "nbformat_minor": 2
}
